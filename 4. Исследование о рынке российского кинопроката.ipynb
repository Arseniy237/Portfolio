{
 "cells": [
  {
   "cell_type": "markdown",
   "metadata": {
    "id": "sIfNaMOxgFyK"
   },
   "source": [
    "## Исследование данных о российском кинопрокате\n",
    "\n"
   ]
  },
  {
   "cell_type": "markdown",
   "metadata": {},
   "source": [
    "**Цель исследования:**\n",
    "- Изучить рынок кинопроката России.\n",
    "- Найти интересные тренды.\n",
    "- Изучить динамику проката по годам.\n",
    "- Выяснить влияет ли возрастное ограничение аудитории («6+», «12+», «16+», «18+» и т. д.) на сборы фильма в прокате в период с 2015 по 2019 год.\n",
    "- Выяснить, насколько фильмы с господдержкой интересны зрителю.\n",
    "\n",
    "**Ход исследования**\n",
    "1. Предобработка данных.\n",
    "2. Исследовательский анализ данных.\n",
    "3. Анализ фильмов с господдержкой.\n",
    "4. Вывод"
   ]
  },
  {
   "cell_type": "markdown",
   "metadata": {
    "id": "3bSlkCsbgFyL"
   },
   "source": [
    "### Шаг 1. Откройте файлы с данными и объедините их в один датафрейм. \n",
    "\n",
    "Объедините данные таким образом, чтобы все объекты из датасета `mkrf_movies` обязательно вошли в получившийся датафрейм. \n",
    "\n",
    "<div id=\"accordion\">\n",
    "    <div class=\"card\">\n",
    "        <div class=\"card-header\" id=\"headingThree\">\n",
    "            <button class=\"btn btn-link collapsed\" data-toggle=\"collapse\" data-target=\"#collapseHint_0\" aria-expanded=\"false\" aria-controls=\"collapseHint_0\">Подсказка</button>\n",
    "        </div>\n",
    "        <div id=\"collapseHint_0\" class=\"collapse\" aria-labelledby=\"headingThree\" data-parent=\"#accordion\">\n",
    "            <div class=\"card-body\">\n",
    "Обратите внимание на тип данных столбца, по которому будете соединять датафреймы. Тип данных этих столбцов должен быть одинаковым в обоих датафреймах.\n",
    "            </div>\n",
    "        </div>\n",
    "    </div>\n",
    "</div>"
   ]
  },
  {
   "cell_type": "code",
   "execution_count": 1,
   "metadata": {},
   "outputs": [],
   "source": [
    "import pandas as pd\n",
    "import matplotlib.pyplot as plt\n",
    "import numpy as np"
   ]
  },
  {
   "cell_type": "code",
   "execution_count": 2,
   "metadata": {
    "id": "dw87FlzMgFyM"
   },
   "outputs": [
    {
     "name": "stdout",
     "output_type": "stream",
     "text": [
      "<class 'pandas.core.frame.DataFrame'>\n",
      "RangeIndex: 7486 entries, 0 to 7485\n",
      "Data columns (total 15 columns):\n",
      " #   Column                 Non-Null Count  Dtype  \n",
      "---  ------                 --------------  -----  \n",
      " 0   title                  7486 non-null   object \n",
      " 1   puNumber               7486 non-null   object \n",
      " 2   show_start_date        7486 non-null   object \n",
      " 3   type                   7486 non-null   object \n",
      " 4   film_studio            7468 non-null   object \n",
      " 5   production_country     7484 non-null   object \n",
      " 6   director               7477 non-null   object \n",
      " 7   producer               6918 non-null   object \n",
      " 8   age_restriction        7486 non-null   object \n",
      " 9   refundable_support     332 non-null    float64\n",
      " 10  nonrefundable_support  332 non-null    float64\n",
      " 11  budget                 332 non-null    float64\n",
      " 12  financing_source       332 non-null    object \n",
      " 13  ratings                6519 non-null   object \n",
      " 14  genres                 6510 non-null   object \n",
      "dtypes: float64(3), object(12)\n",
      "memory usage: 877.4+ KB\n"
     ]
    },
    {
     "data": {
      "text/html": [
       "<div>\n",
       "<style scoped>\n",
       "    .dataframe tbody tr th:only-of-type {\n",
       "        vertical-align: middle;\n",
       "    }\n",
       "\n",
       "    .dataframe tbody tr th {\n",
       "        vertical-align: top;\n",
       "    }\n",
       "\n",
       "    .dataframe thead th {\n",
       "        text-align: right;\n",
       "    }\n",
       "</style>\n",
       "<table border=\"1\" class=\"dataframe\">\n",
       "  <thead>\n",
       "    <tr style=\"text-align: right;\">\n",
       "      <th></th>\n",
       "      <th>title</th>\n",
       "      <th>puNumber</th>\n",
       "      <th>show_start_date</th>\n",
       "      <th>type</th>\n",
       "      <th>film_studio</th>\n",
       "      <th>production_country</th>\n",
       "      <th>director</th>\n",
       "      <th>producer</th>\n",
       "      <th>age_restriction</th>\n",
       "      <th>refundable_support</th>\n",
       "      <th>nonrefundable_support</th>\n",
       "      <th>budget</th>\n",
       "      <th>financing_source</th>\n",
       "      <th>ratings</th>\n",
       "      <th>genres</th>\n",
       "      <th>box_office</th>\n",
       "    </tr>\n",
       "  </thead>\n",
       "  <tbody>\n",
       "    <tr>\n",
       "      <th>0</th>\n",
       "      <td>Открытый простор</td>\n",
       "      <td>221048915</td>\n",
       "      <td>2015-11-27T12:00:00.000Z</td>\n",
       "      <td>Художественный</td>\n",
       "      <td>Тачстоун Пикчерз, Кобальт Пикчерз, Бикон Пикче...</td>\n",
       "      <td>США</td>\n",
       "      <td>Кевин Костнер</td>\n",
       "      <td>Дэвид Валдес, Кевин Костнер, Джейк Эбертс</td>\n",
       "      <td>«18+» - запрещено для детей</td>\n",
       "      <td>NaN</td>\n",
       "      <td>NaN</td>\n",
       "      <td>NaN</td>\n",
       "      <td>NaN</td>\n",
       "      <td>7.2</td>\n",
       "      <td>боевик,драма,мелодрама</td>\n",
       "      <td>NaN</td>\n",
       "    </tr>\n",
       "    <tr>\n",
       "      <th>1</th>\n",
       "      <td>Особо важное задание</td>\n",
       "      <td>111013716</td>\n",
       "      <td>2016-09-13T12:00:00.000Z</td>\n",
       "      <td>Художественный</td>\n",
       "      <td>Киностудия \"Мосфильм\"</td>\n",
       "      <td>СССР</td>\n",
       "      <td>Е.Матвеев</td>\n",
       "      <td>NaN</td>\n",
       "      <td>«6+» - для детей старше 6 лет</td>\n",
       "      <td>NaN</td>\n",
       "      <td>NaN</td>\n",
       "      <td>NaN</td>\n",
       "      <td>NaN</td>\n",
       "      <td>6.6</td>\n",
       "      <td>драма,военный</td>\n",
       "      <td>NaN</td>\n",
       "    </tr>\n",
       "    <tr>\n",
       "      <th>2</th>\n",
       "      <td>Особо опасен</td>\n",
       "      <td>221038416</td>\n",
       "      <td>2016-10-10T12:00:00.000Z</td>\n",
       "      <td>Художественный</td>\n",
       "      <td>Юниверсал Пикчерз, Кикстарт Продакшнз, Марк Пл...</td>\n",
       "      <td>США</td>\n",
       "      <td>Тимур Бекмамбетов</td>\n",
       "      <td>Джим Лемли, Джейсон Нетер, Марк Е.Платт, Яйн Смит</td>\n",
       "      <td>«18+» - запрещено для детей</td>\n",
       "      <td>NaN</td>\n",
       "      <td>NaN</td>\n",
       "      <td>NaN</td>\n",
       "      <td>NaN</td>\n",
       "      <td>6.8</td>\n",
       "      <td>фантастика,боевик,триллер</td>\n",
       "      <td>NaN</td>\n",
       "    </tr>\n",
       "    <tr>\n",
       "      <th>3</th>\n",
       "      <td>Особо опасен</td>\n",
       "      <td>221026916</td>\n",
       "      <td>2016-06-10T12:00:00.000Z</td>\n",
       "      <td>Художественный</td>\n",
       "      <td>Юниверсал Пикчерз, Кикстарт Продакшнз, Марк Пл...</td>\n",
       "      <td>США</td>\n",
       "      <td>Тимур Бекмамбетов</td>\n",
       "      <td>Джим Лемли, Джейсон Нетер, Марк Е.Платт, Яйн Смит</td>\n",
       "      <td>«18+» - запрещено для детей</td>\n",
       "      <td>NaN</td>\n",
       "      <td>NaN</td>\n",
       "      <td>NaN</td>\n",
       "      <td>NaN</td>\n",
       "      <td>6.8</td>\n",
       "      <td>фантастика,боевик,триллер</td>\n",
       "      <td>NaN</td>\n",
       "    </tr>\n",
       "    <tr>\n",
       "      <th>4</th>\n",
       "      <td>Особо опасен</td>\n",
       "      <td>221030815</td>\n",
       "      <td>2015-07-29T12:00:00.000Z</td>\n",
       "      <td>Художественный</td>\n",
       "      <td>Юниверсал Пикчерз, Кикстарт Продакшнз, Марк Пл...</td>\n",
       "      <td>США</td>\n",
       "      <td>Тимур Бекмамбетов</td>\n",
       "      <td>Джим Лемли, Джейсон Нетер, Марк Е.Платт, Яйн Смит</td>\n",
       "      <td>«18+» - запрещено для детей</td>\n",
       "      <td>NaN</td>\n",
       "      <td>NaN</td>\n",
       "      <td>NaN</td>\n",
       "      <td>NaN</td>\n",
       "      <td>6.8</td>\n",
       "      <td>фантастика,боевик,триллер</td>\n",
       "      <td>NaN</td>\n",
       "    </tr>\n",
       "    <tr>\n",
       "      <th>5</th>\n",
       "      <td>Остановился поезд</td>\n",
       "      <td>111013816</td>\n",
       "      <td>2016-09-13T12:00:00.000Z</td>\n",
       "      <td>Художественный</td>\n",
       "      <td>Киностудия \"Мосфильм\"</td>\n",
       "      <td>СССР</td>\n",
       "      <td>В.Абдрашитов</td>\n",
       "      <td>NaN</td>\n",
       "      <td>«6+» - для детей старше 6 лет</td>\n",
       "      <td>NaN</td>\n",
       "      <td>NaN</td>\n",
       "      <td>NaN</td>\n",
       "      <td>NaN</td>\n",
       "      <td>7.7</td>\n",
       "      <td>драма</td>\n",
       "      <td>NaN</td>\n",
       "    </tr>\n",
       "    <tr>\n",
       "      <th>6</th>\n",
       "      <td>Любовь и голуби</td>\n",
       "      <td>111007013</td>\n",
       "      <td>2013-10-18T12:00:00.000Z</td>\n",
       "      <td>Художественный</td>\n",
       "      <td>Киностудия \"Мосфильм\"</td>\n",
       "      <td>СССР</td>\n",
       "      <td>В.Меньшов</td>\n",
       "      <td>NaN</td>\n",
       "      <td>«12+» - для детей старше 12 лет</td>\n",
       "      <td>NaN</td>\n",
       "      <td>NaN</td>\n",
       "      <td>NaN</td>\n",
       "      <td>NaN</td>\n",
       "      <td>8.3</td>\n",
       "      <td>мелодрама,комедия</td>\n",
       "      <td>2700.0</td>\n",
       "    </tr>\n",
       "    <tr>\n",
       "      <th>7</th>\n",
       "      <td>Любовь и сигареты</td>\n",
       "      <td>221074614</td>\n",
       "      <td>2014-12-29T12:00:00.000Z</td>\n",
       "      <td>Художественный</td>\n",
       "      <td>Юнайтед Артистс, Грин Стрит Филмз, Айкон Интер...</td>\n",
       "      <td>США</td>\n",
       "      <td>Джон Туртурро</td>\n",
       "      <td>Джон Пенотти, Джон Туртурро</td>\n",
       "      <td>«18+» - запрещено для детей</td>\n",
       "      <td>NaN</td>\n",
       "      <td>NaN</td>\n",
       "      <td>NaN</td>\n",
       "      <td>NaN</td>\n",
       "      <td>6.6</td>\n",
       "      <td>мюзикл,мелодрама,комедия</td>\n",
       "      <td>NaN</td>\n",
       "    </tr>\n",
       "    <tr>\n",
       "      <th>8</th>\n",
       "      <td>Отпетые мошенники.</td>\n",
       "      <td>121011416</td>\n",
       "      <td>2016-05-05T12:00:00.000Z</td>\n",
       "      <td>Художественный</td>\n",
       "      <td>Пульсар Продюксьон, ТФ1 Фильм</td>\n",
       "      <td>Франция</td>\n",
       "      <td>Эрик Беснард</td>\n",
       "      <td>Патрис Леду</td>\n",
       "      <td>«18+» - запрещено для детей</td>\n",
       "      <td>NaN</td>\n",
       "      <td>NaN</td>\n",
       "      <td>NaN</td>\n",
       "      <td>NaN</td>\n",
       "      <td>8.0</td>\n",
       "      <td>комедия,криминал</td>\n",
       "      <td>NaN</td>\n",
       "    </tr>\n",
       "    <tr>\n",
       "      <th>9</th>\n",
       "      <td>Отпуск за свой счет</td>\n",
       "      <td>111019114</td>\n",
       "      <td>2014-12-01T12:00:00.000Z</td>\n",
       "      <td>Художественный</td>\n",
       "      <td>Киностудия \"Мосфильм\", Телевидение ВНР</td>\n",
       "      <td>СССР, Венгрия</td>\n",
       "      <td>В.Титов</td>\n",
       "      <td>NaN</td>\n",
       "      <td>«12+» - для детей старше 12 лет</td>\n",
       "      <td>NaN</td>\n",
       "      <td>NaN</td>\n",
       "      <td>NaN</td>\n",
       "      <td>NaN</td>\n",
       "      <td>7.8</td>\n",
       "      <td>мелодрама,комедия</td>\n",
       "      <td>NaN</td>\n",
       "    </tr>\n",
       "    <tr>\n",
       "      <th>10</th>\n",
       "      <td>Превосходство Борна /По одноименной новелле Ро...</td>\n",
       "      <td>221031416</td>\n",
       "      <td>2016-06-29T12:00:00.000Z</td>\n",
       "      <td>Художественный</td>\n",
       "      <td>Кеннеди/Маршал Компани, Юниверсал Пикчерз, Гип...</td>\n",
       "      <td>США</td>\n",
       "      <td>Пол Грингросс</td>\n",
       "      <td>Патрик Кроули, Фрэнк Маршалл, Пол Сэндберг</td>\n",
       "      <td>«16+» - для детей старше 16 лет</td>\n",
       "      <td>NaN</td>\n",
       "      <td>NaN</td>\n",
       "      <td>NaN</td>\n",
       "      <td>NaN</td>\n",
       "      <td>7.7</td>\n",
       "      <td>боевик,триллер,детектив</td>\n",
       "      <td>NaN</td>\n",
       "    </tr>\n",
       "    <tr>\n",
       "      <th>11</th>\n",
       "      <td>Ответный ход</td>\n",
       "      <td>111019014</td>\n",
       "      <td>2014-12-01T12:00:00.000Z</td>\n",
       "      <td>Художественный</td>\n",
       "      <td>Киностудия \"Мосфильм\"</td>\n",
       "      <td>СССР</td>\n",
       "      <td>М.Туманишвили</td>\n",
       "      <td>NaN</td>\n",
       "      <td>«12+» - для детей старше 12 лет</td>\n",
       "      <td>NaN</td>\n",
       "      <td>NaN</td>\n",
       "      <td>NaN</td>\n",
       "      <td>NaN</td>\n",
       "      <td>7.8</td>\n",
       "      <td>боевик,драма,приключения</td>\n",
       "      <td>NaN</td>\n",
       "    </tr>\n",
       "    <tr>\n",
       "      <th>12</th>\n",
       "      <td>Малышка на миллион /По мотивам рассказов Ф.Х.Т...</td>\n",
       "      <td>221011415</td>\n",
       "      <td>2015-04-03T12:00:00.000Z</td>\n",
       "      <td>Художественный</td>\n",
       "      <td>Уорнер Бразерс, Лейкшор Интертейнмент, Малпасо...</td>\n",
       "      <td>США</td>\n",
       "      <td>Клинт Иствуд</td>\n",
       "      <td>Клинт Иствуд, Том Розенберг, Альберт С.Рудди, ...</td>\n",
       "      <td>«16+» - для детей старше 16 лет</td>\n",
       "      <td>NaN</td>\n",
       "      <td>NaN</td>\n",
       "      <td>NaN</td>\n",
       "      <td>NaN</td>\n",
       "      <td>8.1</td>\n",
       "      <td>драма,спорт</td>\n",
       "      <td>NaN</td>\n",
       "    </tr>\n",
       "    <tr>\n",
       "      <th>13</th>\n",
       "      <td>Преданный садовник</td>\n",
       "      <td>121003106</td>\n",
       "      <td>2013-08-26T12:00:00.000Z</td>\n",
       "      <td>Художественный</td>\n",
       "      <td>Потбойлер Продакшнз, Эпсилон Моушн Пикчерз, Ск...</td>\n",
       "      <td>Германия-Великобритания</td>\n",
       "      <td>Фернанду Мейрелльеш</td>\n",
       "      <td>Саймон Чэннинг Уильямс</td>\n",
       "      <td>«16+» - для детей старше 16 лет</td>\n",
       "      <td>NaN</td>\n",
       "      <td>NaN</td>\n",
       "      <td>NaN</td>\n",
       "      <td>NaN</td>\n",
       "      <td>7.1</td>\n",
       "      <td>триллер,драма,мелодрама</td>\n",
       "      <td>NaN</td>\n",
       "    </tr>\n",
       "    <tr>\n",
       "      <th>14</th>\n",
       "      <td>Отель /По мотивам пьесы Джона Уэбстера/</td>\n",
       "      <td>221008812</td>\n",
       "      <td>2012-01-27T12:00:00.000Z</td>\n",
       "      <td>Художественный</td>\n",
       "      <td>Кэтлей, Отель Продакшнс, Мунстоун Интертейнмен...</td>\n",
       "      <td>Великобритания - Италия</td>\n",
       "      <td>Майк Фиггис</td>\n",
       "      <td>Этчи Стро, Анни Стюарт, Майк Фиггис</td>\n",
       "      <td>«18+» - запрещено для детей</td>\n",
       "      <td>NaN</td>\n",
       "      <td>NaN</td>\n",
       "      <td>NaN</td>\n",
       "      <td>NaN</td>\n",
       "      <td>6.0</td>\n",
       "      <td>комедия,мелодрама</td>\n",
       "      <td>NaN</td>\n",
       "    </tr>\n",
       "    <tr>\n",
       "      <th>15</th>\n",
       "      <td>Председатель</td>\n",
       "      <td>111014916</td>\n",
       "      <td>2016-09-13T12:00:00.000Z</td>\n",
       "      <td>Художественный</td>\n",
       "      <td>Киностудия \"Мосфильм\"</td>\n",
       "      <td>СССР</td>\n",
       "      <td>А.Салтыков</td>\n",
       "      <td>NaN</td>\n",
       "      <td>«12+» - для детей старше 12 лет</td>\n",
       "      <td>NaN</td>\n",
       "      <td>NaN</td>\n",
       "      <td>NaN</td>\n",
       "      <td>NaN</td>\n",
       "      <td>8.3</td>\n",
       "      <td>драма</td>\n",
       "      <td>NaN</td>\n",
       "    </tr>\n",
       "    <tr>\n",
       "      <th>16</th>\n",
       "      <td>Осенний марафон</td>\n",
       "      <td>111007513</td>\n",
       "      <td>2013-10-18T12:00:00.000Z</td>\n",
       "      <td>Художественный</td>\n",
       "      <td>Киностудия \"Мосфильм\"</td>\n",
       "      <td>СССР</td>\n",
       "      <td>Г.Данелия</td>\n",
       "      <td>NaN</td>\n",
       "      <td>«12+» - для детей старше 12 лет</td>\n",
       "      <td>NaN</td>\n",
       "      <td>NaN</td>\n",
       "      <td>NaN</td>\n",
       "      <td>NaN</td>\n",
       "      <td>8.0</td>\n",
       "      <td>драма,мелодрама,комедия</td>\n",
       "      <td>NaN</td>\n",
       "    </tr>\n",
       "    <tr>\n",
       "      <th>17</th>\n",
       "      <td>Осень</td>\n",
       "      <td>111027914</td>\n",
       "      <td>2014-12-24T12:00:00.000Z</td>\n",
       "      <td>Художественный</td>\n",
       "      <td>Киностудия \"Мосфильм\"</td>\n",
       "      <td>СССР</td>\n",
       "      <td>А.Смирнов</td>\n",
       "      <td>NaN</td>\n",
       "      <td>«12+» - для детей старше 12 лет</td>\n",
       "      <td>NaN</td>\n",
       "      <td>NaN</td>\n",
       "      <td>NaN</td>\n",
       "      <td>NaN</td>\n",
       "      <td>7.4</td>\n",
       "      <td>драма,мелодрама</td>\n",
       "      <td>NaN</td>\n",
       "    </tr>\n",
       "    <tr>\n",
       "      <th>18</th>\n",
       "      <td>Неподдающиеся</td>\n",
       "      <td>111003616</td>\n",
       "      <td>2016-02-12T12:00:00.000Z</td>\n",
       "      <td>Художественный</td>\n",
       "      <td>Киностудия \"Мосфильм\"</td>\n",
       "      <td>СССР</td>\n",
       "      <td>Ю.Чулюкин</td>\n",
       "      <td>NaN</td>\n",
       "      <td>«6+» - для детей старше 6 лет</td>\n",
       "      <td>NaN</td>\n",
       "      <td>NaN</td>\n",
       "      <td>NaN</td>\n",
       "      <td>NaN</td>\n",
       "      <td>8.0</td>\n",
       "      <td>мелодрама,комедия</td>\n",
       "      <td>360.0</td>\n",
       "    </tr>\n",
       "    <tr>\n",
       "      <th>19</th>\n",
       "      <td>Неподсуден</td>\n",
       "      <td>111003716</td>\n",
       "      <td>2016-02-12T12:00:00.000Z</td>\n",
       "      <td>Художественный</td>\n",
       "      <td>Киностудия \"Мосфильм\"</td>\n",
       "      <td>СССР</td>\n",
       "      <td>В.Краснопольский, В.Усков</td>\n",
       "      <td>NaN</td>\n",
       "      <td>«6+» - для детей старше 6 лет</td>\n",
       "      <td>NaN</td>\n",
       "      <td>NaN</td>\n",
       "      <td>NaN</td>\n",
       "      <td>NaN</td>\n",
       "      <td>7.7</td>\n",
       "      <td>драма</td>\n",
       "      <td>420.0</td>\n",
       "    </tr>\n",
       "  </tbody>\n",
       "</table>\n",
       "</div>"
      ],
      "text/plain": [
       "                                                title   puNumber  \\\n",
       "0                                    Открытый простор  221048915   \n",
       "1                                Особо важное задание  111013716   \n",
       "2                                        Особо опасен  221038416   \n",
       "3                                        Особо опасен  221026916   \n",
       "4                                        Особо опасен  221030815   \n",
       "5                                   Остановился поезд  111013816   \n",
       "6                                     Любовь и голуби  111007013   \n",
       "7                                   Любовь и сигареты  221074614   \n",
       "8                                  Отпетые мошенники.  121011416   \n",
       "9                                 Отпуск за свой счет  111019114   \n",
       "10  Превосходство Борна /По одноименной новелле Ро...  221031416   \n",
       "11                                       Ответный ход  111019014   \n",
       "12  Малышка на миллион /По мотивам рассказов Ф.Х.Т...  221011415   \n",
       "13                                 Преданный садовник  121003106   \n",
       "14            Отель /По мотивам пьесы Джона Уэбстера/  221008812   \n",
       "15                                       Председатель  111014916   \n",
       "16                                    Осенний марафон  111007513   \n",
       "17                                              Осень  111027914   \n",
       "18                                      Неподдающиеся  111003616   \n",
       "19                                         Неподсуден  111003716   \n",
       "\n",
       "             show_start_date            type  \\\n",
       "0   2015-11-27T12:00:00.000Z  Художественный   \n",
       "1   2016-09-13T12:00:00.000Z  Художественный   \n",
       "2   2016-10-10T12:00:00.000Z  Художественный   \n",
       "3   2016-06-10T12:00:00.000Z  Художественный   \n",
       "4   2015-07-29T12:00:00.000Z  Художественный   \n",
       "5   2016-09-13T12:00:00.000Z  Художественный   \n",
       "6   2013-10-18T12:00:00.000Z  Художественный   \n",
       "7   2014-12-29T12:00:00.000Z  Художественный   \n",
       "8   2016-05-05T12:00:00.000Z  Художественный   \n",
       "9   2014-12-01T12:00:00.000Z  Художественный   \n",
       "10  2016-06-29T12:00:00.000Z  Художественный   \n",
       "11  2014-12-01T12:00:00.000Z  Художественный   \n",
       "12  2015-04-03T12:00:00.000Z  Художественный   \n",
       "13  2013-08-26T12:00:00.000Z  Художественный   \n",
       "14  2012-01-27T12:00:00.000Z  Художественный   \n",
       "15  2016-09-13T12:00:00.000Z  Художественный   \n",
       "16  2013-10-18T12:00:00.000Z  Художественный   \n",
       "17  2014-12-24T12:00:00.000Z  Художественный   \n",
       "18  2016-02-12T12:00:00.000Z  Художественный   \n",
       "19  2016-02-12T12:00:00.000Z  Художественный   \n",
       "\n",
       "                                          film_studio  \\\n",
       "0   Тачстоун Пикчерз, Кобальт Пикчерз, Бикон Пикче...   \n",
       "1                               Киностудия \"Мосфильм\"   \n",
       "2   Юниверсал Пикчерз, Кикстарт Продакшнз, Марк Пл...   \n",
       "3   Юниверсал Пикчерз, Кикстарт Продакшнз, Марк Пл...   \n",
       "4   Юниверсал Пикчерз, Кикстарт Продакшнз, Марк Пл...   \n",
       "5                               Киностудия \"Мосфильм\"   \n",
       "6                               Киностудия \"Мосфильм\"   \n",
       "7   Юнайтед Артистс, Грин Стрит Филмз, Айкон Интер...   \n",
       "8                      Пульсар Продюксьон, ТФ1 Фильм    \n",
       "9              Киностудия \"Мосфильм\", Телевидение ВНР   \n",
       "10  Кеннеди/Маршал Компани, Юниверсал Пикчерз, Гип...   \n",
       "11                              Киностудия \"Мосфильм\"   \n",
       "12  Уорнер Бразерс, Лейкшор Интертейнмент, Малпасо...   \n",
       "13  Потбойлер Продакшнз, Эпсилон Моушн Пикчерз, Ск...   \n",
       "14  Кэтлей, Отель Продакшнс, Мунстоун Интертейнмен...   \n",
       "15                              Киностудия \"Мосфильм\"   \n",
       "16                              Киностудия \"Мосфильм\"   \n",
       "17                              Киностудия \"Мосфильм\"   \n",
       "18                              Киностудия \"Мосфильм\"   \n",
       "19                              Киностудия \"Мосфильм\"   \n",
       "\n",
       "         production_country                   director  \\\n",
       "0                       США              Кевин Костнер   \n",
       "1                      СССР                  Е.Матвеев   \n",
       "2                       США          Тимур Бекмамбетов   \n",
       "3                       США          Тимур Бекмамбетов   \n",
       "4                       США          Тимур Бекмамбетов   \n",
       "5                      СССР               В.Абдрашитов   \n",
       "6                      СССР                  В.Меньшов   \n",
       "7                       США              Джон Туртурро   \n",
       "8                   Франция               Эрик Беснард   \n",
       "9             СССР, Венгрия                    В.Титов   \n",
       "10                      США              Пол Грингросс   \n",
       "11                     СССР              М.Туманишвили   \n",
       "12                      США               Клинт Иствуд   \n",
       "13  Германия-Великобритания        Фернанду Мейрелльеш   \n",
       "14  Великобритания - Италия                Майк Фиггис   \n",
       "15                     СССР                 А.Салтыков   \n",
       "16                     СССР                  Г.Данелия   \n",
       "17                     СССР                  А.Смирнов   \n",
       "18                     СССР                  Ю.Чулюкин   \n",
       "19                     СССР  В.Краснопольский, В.Усков   \n",
       "\n",
       "                                             producer  \\\n",
       "0           Дэвид Валдес, Кевин Костнер, Джейк Эбертс   \n",
       "1                                                 NaN   \n",
       "2   Джим Лемли, Джейсон Нетер, Марк Е.Платт, Яйн Смит   \n",
       "3   Джим Лемли, Джейсон Нетер, Марк Е.Платт, Яйн Смит   \n",
       "4   Джим Лемли, Джейсон Нетер, Марк Е.Платт, Яйн Смит   \n",
       "5                                                 NaN   \n",
       "6                                                 NaN   \n",
       "7                         Джон Пенотти, Джон Туртурро   \n",
       "8                                         Патрис Леду   \n",
       "9                                                 NaN   \n",
       "10         Патрик Кроули, Фрэнк Маршалл, Пол Сэндберг   \n",
       "11                                                NaN   \n",
       "12  Клинт Иствуд, Том Розенберг, Альберт С.Рудди, ...   \n",
       "13                             Саймон Чэннинг Уильямс   \n",
       "14                Этчи Стро, Анни Стюарт, Майк Фиггис   \n",
       "15                                                NaN   \n",
       "16                                                NaN   \n",
       "17                                                NaN   \n",
       "18                                                NaN   \n",
       "19                                                NaN   \n",
       "\n",
       "                    age_restriction  refundable_support  \\\n",
       "0       «18+» - запрещено для детей                 NaN   \n",
       "1     «6+» - для детей старше 6 лет                 NaN   \n",
       "2       «18+» - запрещено для детей                 NaN   \n",
       "3       «18+» - запрещено для детей                 NaN   \n",
       "4       «18+» - запрещено для детей                 NaN   \n",
       "5     «6+» - для детей старше 6 лет                 NaN   \n",
       "6   «12+» - для детей старше 12 лет                 NaN   \n",
       "7       «18+» - запрещено для детей                 NaN   \n",
       "8       «18+» - запрещено для детей                 NaN   \n",
       "9   «12+» - для детей старше 12 лет                 NaN   \n",
       "10  «16+» - для детей старше 16 лет                 NaN   \n",
       "11  «12+» - для детей старше 12 лет                 NaN   \n",
       "12  «16+» - для детей старше 16 лет                 NaN   \n",
       "13  «16+» - для детей старше 16 лет                 NaN   \n",
       "14      «18+» - запрещено для детей                 NaN   \n",
       "15  «12+» - для детей старше 12 лет                 NaN   \n",
       "16  «12+» - для детей старше 12 лет                 NaN   \n",
       "17  «12+» - для детей старше 12 лет                 NaN   \n",
       "18    «6+» - для детей старше 6 лет                 NaN   \n",
       "19    «6+» - для детей старше 6 лет                 NaN   \n",
       "\n",
       "    nonrefundable_support  budget financing_source ratings  \\\n",
       "0                     NaN     NaN              NaN     7.2   \n",
       "1                     NaN     NaN              NaN     6.6   \n",
       "2                     NaN     NaN              NaN     6.8   \n",
       "3                     NaN     NaN              NaN     6.8   \n",
       "4                     NaN     NaN              NaN     6.8   \n",
       "5                     NaN     NaN              NaN     7.7   \n",
       "6                     NaN     NaN              NaN     8.3   \n",
       "7                     NaN     NaN              NaN     6.6   \n",
       "8                     NaN     NaN              NaN     8.0   \n",
       "9                     NaN     NaN              NaN     7.8   \n",
       "10                    NaN     NaN              NaN     7.7   \n",
       "11                    NaN     NaN              NaN     7.8   \n",
       "12                    NaN     NaN              NaN     8.1   \n",
       "13                    NaN     NaN              NaN     7.1   \n",
       "14                    NaN     NaN              NaN     6.0   \n",
       "15                    NaN     NaN              NaN     8.3   \n",
       "16                    NaN     NaN              NaN     8.0   \n",
       "17                    NaN     NaN              NaN     7.4   \n",
       "18                    NaN     NaN              NaN     8.0   \n",
       "19                    NaN     NaN              NaN     7.7   \n",
       "\n",
       "                       genres  box_office  \n",
       "0      боевик,драма,мелодрама         NaN  \n",
       "1               драма,военный         NaN  \n",
       "2   фантастика,боевик,триллер         NaN  \n",
       "3   фантастика,боевик,триллер         NaN  \n",
       "4   фантастика,боевик,триллер         NaN  \n",
       "5                       драма         NaN  \n",
       "6           мелодрама,комедия      2700.0  \n",
       "7    мюзикл,мелодрама,комедия         NaN  \n",
       "8            комедия,криминал         NaN  \n",
       "9           мелодрама,комедия         NaN  \n",
       "10    боевик,триллер,детектив         NaN  \n",
       "11   боевик,драма,приключения         NaN  \n",
       "12                драма,спорт         NaN  \n",
       "13    триллер,драма,мелодрама         NaN  \n",
       "14          комедия,мелодрама         NaN  \n",
       "15                      драма         NaN  \n",
       "16    драма,мелодрама,комедия         NaN  \n",
       "17            драма,мелодрама         NaN  \n",
       "18          мелодрама,комедия       360.0  \n",
       "19                      драма       420.0  "
      ]
     },
     "metadata": {},
     "output_type": "display_data"
    },
    {
     "name": "stdout",
     "output_type": "stream",
     "text": [
      "<class 'pandas.core.frame.DataFrame'>\n",
      "Int64Index: 7485 entries, 0 to 7485\n",
      "Data columns (total 16 columns):\n",
      " #   Column                 Non-Null Count  Dtype  \n",
      "---  ------                 --------------  -----  \n",
      " 0   title                  7485 non-null   object \n",
      " 1   puNumber               7485 non-null   int64  \n",
      " 2   show_start_date        7485 non-null   object \n",
      " 3   type                   7485 non-null   object \n",
      " 4   film_studio            7467 non-null   object \n",
      " 5   production_country     7483 non-null   object \n",
      " 6   director               7476 non-null   object \n",
      " 7   producer               6917 non-null   object \n",
      " 8   age_restriction        7485 non-null   object \n",
      " 9   refundable_support     332 non-null    float64\n",
      " 10  nonrefundable_support  332 non-null    float64\n",
      " 11  budget                 332 non-null    float64\n",
      " 12  financing_source       332 non-null    object \n",
      " 13  ratings                6519 non-null   object \n",
      " 14  genres                 6510 non-null   object \n",
      " 15  box_office             3158 non-null   float64\n",
      "dtypes: float64(4), int64(1), object(11)\n",
      "memory usage: 994.1+ KB\n"
     ]
    }
   ],
   "source": [
    "#data = pd.read_csv('/datasets/mkrf_movies.csv', sep=',')\n",
    "#data_shows = pd.read_csv('/datasets/mkrf_shows.csv', sep=',')\n",
    "\n",
    "try:\n",
    "    path = r'C:\\Data\\\\'\n",
    "    data = pd.read_csv(path + 'mkrf_movies.csv', sep=',')\n",
    "except:\n",
    "    data = pd.read_csv('/datasets/mkrf_movies.csv', sep=',')\n",
    "\n",
    "try:\n",
    "    path = r'C:\\Data\\\\'\n",
    "    data_shows = pd.read_csv(path + 'mkrf_shows.csv', sep=',')\n",
    "except:\n",
    "    data_shows = pd.read_csv('/datasets/mkrf_shows.csv', sep=',')\n",
    "\n",
    "data.info()\n",
    "\n",
    "def row_to_int(row):\n",
    "    try:\n",
    "        x = int(row)\n",
    "        return x\n",
    "    except:\n",
    "        return 0\n",
    "\n",
    "data['puNumber'] = data['puNumber'].apply(row_to_int)#переводит строку в целое число в столбце с номером удостоверения\n",
    "\n",
    "data = data.merge(data_shows, on='puNumber', how='left')#соединяет таблицы без потери данных\n",
    "\n",
    "data = data.query('puNumber != 0')#удаляет строки с пропусками в столбце с прокатным удостоверением\n",
    "\n",
    "display(data.head(20))\n",
    "\n",
    "data.info()"
   ]
  },
  {
   "cell_type": "markdown",
   "metadata": {
    "id": "KLDGpPG0gFyM"
   },
   "source": [
    "### Шаг 2. Предобработка данных"
   ]
  },
  {
   "cell_type": "markdown",
   "metadata": {
    "id": "ssWwKXsxgFyO"
   },
   "source": [
    "#### Шаг 2.1. Проверьте типы данных\n",
    "\n",
    "- Проверьте типы данных в датафрейме и преобразуйте их там, где это необходимо."
   ]
  },
  {
   "cell_type": "code",
   "execution_count": 3,
   "metadata": {
    "id": "kVGSplJOgFyO"
   },
   "outputs": [
    {
     "name": "stdout",
     "output_type": "stream",
     "text": [
      "<class 'pandas.core.frame.DataFrame'>\n",
      "Int64Index: 7456 entries, 0 to 7485\n",
      "Data columns (total 16 columns):\n",
      " #   Column                 Non-Null Count  Dtype         \n",
      "---  ------                 --------------  -----         \n",
      " 0   title                  7456 non-null   object        \n",
      " 1   puNumber               7456 non-null   int64         \n",
      " 2   show_start_date        7456 non-null   datetime64[ns]\n",
      " 3   type                   7456 non-null   object        \n",
      " 4   film_studio            7438 non-null   object        \n",
      " 5   production_country     7454 non-null   object        \n",
      " 6   director               7447 non-null   object        \n",
      " 7   producer               6888 non-null   object        \n",
      " 8   age_restriction        7456 non-null   object        \n",
      " 9   refundable_support     330 non-null    float64       \n",
      " 10  nonrefundable_support  330 non-null    float64       \n",
      " 11  budget                 330 non-null    float64       \n",
      " 12  financing_source       330 non-null    object        \n",
      " 13  ratings                6490 non-null   float64       \n",
      " 14  genres                 6484 non-null   object        \n",
      " 15  box_office             3143 non-null   float64       \n",
      "dtypes: datetime64[ns](1), float64(5), int64(1), object(9)\n",
      "memory usage: 990.2+ KB\n"
     ]
    }
   ],
   "source": [
    "data['show_start_date'] = pd.to_datetime(data['show_start_date'], format='%Y-%m-%dT%H:%M:%S.000Z')#переводит дату в понятный питону формат\n",
    "\n",
    "def no_waiting(row):\n",
    "    #если в значении есть символ %\n",
    "    #возвращает слово 'waiting'\n",
    "    try:\n",
    "        if '%' in row:\n",
    "            return 'waiting'\n",
    "        else:\n",
    "            return row\n",
    "    except:\n",
    "        return row\n",
    "\n",
    "\n",
    "data['ratings'] = data['ratings'].apply(no_waiting)#применяет метод обнаружения рейтинга ожидания фильма вместо рейтинга\n",
    "data = data.loc[data['ratings'] != 'waiting']#Убирает строки на которые сработал метод\n",
    "\n",
    "data['ratings'] = data['ratings'].astype('float')#переводит рейтинг в дробное число\n",
    "\n",
    "\n",
    "\n",
    "def string_to_list(row):\n",
    "    #превращает строку с перечислением чего-либо через запятые в список из перечисленных значений\n",
    "    try:\n",
    "        if ',' not in row:\n",
    "            return row\n",
    "        else:\n",
    "            return row.split(',')\n",
    "    except:\n",
    "        return row\n",
    "\n",
    "#применяет функцию выше для всех столбцов с перечисляемыми значениями. Это нужно чтобы проще было изучать их далее.\n",
    "data['film_studio'] = data['film_studio'].apply(string_to_list)\n",
    "data['director'] = data['director'].apply(string_to_list)\n",
    "data['producer'] = data['producer'].apply(string_to_list)\n",
    "data['genres'] = data['genres'].apply(string_to_list)\n",
    "\n",
    "data['box_office'] = data['box_office'].round(0)#Округляет число\n",
    "\n",
    "data.info()\n",
    "    "
   ]
  },
  {
   "cell_type": "markdown",
   "metadata": {
    "id": "i0MOLbF-gFyP"
   },
   "source": [
    "#### Шаг 2.2. Изучите пропуски в датафрейме\n",
    "\n",
    "- Объясните, почему заполнили пропуски определённым образом или почему не стали этого делать."
   ]
  },
  {
   "cell_type": "markdown",
   "metadata": {},
   "source": [
    "- Столбцы, в которых мало пропусков, я удалю.\n",
    "- Пропуски в столбце с продюсером заменю на режиссера, так как вероятнее всего пропуск означает что это один и тот же человек\n",
    "- Отделю фильмы с господдержкой для дальнейшего анализа."
   ]
  },
  {
   "cell_type": "code",
   "execution_count": 4,
   "metadata": {
    "id": "8MJD_lkngFyP"
   },
   "outputs": [
    {
     "data": {
      "text/plain": [
       "title                       0\n",
       "puNumber                    0\n",
       "show_start_date             0\n",
       "type                        0\n",
       "film_studio                18\n",
       "production_country          2\n",
       "director                    9\n",
       "producer                  568\n",
       "age_restriction             0\n",
       "refundable_support       7126\n",
       "nonrefundable_support    7126\n",
       "budget                   7126\n",
       "financing_source         7126\n",
       "ratings                   966\n",
       "genres                    972\n",
       "box_office               4313\n",
       "dtype: int64"
      ]
     },
     "metadata": {},
     "output_type": "display_data"
    }
   ],
   "source": [
    "display(data.isna().sum())\n",
    "\n",
    "data = data.dropna(subset=['film_studio','production_country','director'])#в этих столбцах мало пропусков, их можно просто удалить\n",
    "\n",
    "data['producer'] = data['producer'].fillna('same')#готовим данные для функции produser_nans\n",
    "\n",
    "def produser_nans(row):\n",
    "    #возвращает имя режиссера если продюсер не указан\n",
    "    producer = row['producer']\n",
    "    director = row['director']\n",
    "    try: \n",
    "        if producer == 'same':\n",
    "            return director\n",
    "        else:\n",
    "            return producer\n",
    "    except: return producer\n",
    "\n",
    "data['producer'] = data.apply(produser_nans,axis = 1)#применяем функцию\n",
    "\n",
    "data['not_budget'] = data['budget'].isna()# столбец с булевыми значениями для разделения фильмов с поддержкой и без"
   ]
  },
  {
   "cell_type": "markdown",
   "metadata": {
    "id": "4c6k1t9ygFyQ"
   },
   "source": [
    "#### Шаг 2.3. Изучите дубликаты в датафрейме\n",
    "- Проверьте, есть ли в данных дубликаты. Опишите причины, которые могли повлиять на появление дублей."
   ]
  },
  {
   "cell_type": "code",
   "execution_count": 5,
   "metadata": {
    "id": "aKck8RIdgFyQ",
    "scrolled": true
   },
   "outputs": [
    {
     "data": {
      "text/plain": [
       "221154310    2\n",
       "221054410    2\n",
       "221048915    1\n",
       "121010811    1\n",
       "221049511    1\n",
       "Name: puNumber, dtype: int64"
      ]
     },
     "metadata": {},
     "output_type": "display_data"
    },
    {
     "data": {
      "text/plain": [
       "День святого Валентина_    5\n",
       "Красавчик-2                4\n",
       "Непокоренный.              4\n",
       "Химера                     4\n",
       "Секс в большом городе 2    4\n",
       "Name: title, dtype: int64"
      ]
     },
     "metadata": {},
     "output_type": "display_data"
    },
    {
     "data": {
      "text/plain": [
       "221048915    1\n",
       "121022111    1\n",
       "121005911    1\n",
       "121017711    1\n",
       "121017611    1\n",
       "Name: puNumber, dtype: int64"
      ]
     },
     "metadata": {},
     "output_type": "display_data"
    },
    {
     "data": {
      "text/plain": [
       "Открытый простор                                1\n",
       "Что скрывает ложь.                              1\n",
       "Революция, я люблю тебя                         1\n",
       "По версии Барни /По роману Мордехая Рихлера/    1\n",
       "Живая сталь                                     1\n",
       "Name: title, dtype: int64"
      ]
     },
     "metadata": {},
     "output_type": "display_data"
    }
   ],
   "source": [
    "display(data['puNumber'].value_counts().head(5))\n",
    "display(data['title'].value_counts().head(5))\n",
    "data = data.drop_duplicates(subset='title')\n",
    "data = data.drop_duplicates(subset='puNumber')\n",
    "display(data['puNumber'].value_counts().head(5))\n",
    "display(data['title'].value_counts().head(5))"
   ]
  },
  {
   "cell_type": "markdown",
   "metadata": {},
   "source": [
    "Мною были найдены два задвоенных фильма. Причины их появления вероятнее всего кроются в ошибках при выгрузке."
   ]
  },
  {
   "cell_type": "markdown",
   "metadata": {
    "id": "52fOPrEBgFyQ"
   },
   "source": [
    "#### Шаг 2.4. Изучите категориальные значения\n",
    "\n",
    "- Посмотрите, какая общая проблема встречается почти во всех категориальных столбцах;\n",
    "- Исправьте проблемные значения в поле `type`.\n",
    "\n",
    "<div id=\"accordion\">\n",
    "    <div class=\"card\">\n",
    "        <div class=\"card-header\" id=\"headingThree\">\n",
    "            <button class=\"btn btn-link collapsed\" data-toggle=\"collapse\" data-target=\"#collapseHint_1\" aria-expanded=\"false\" aria-controls=\"collapseHint_1\">Подсказка</button>\n",
    "        </div>\n",
    "        <div id=\"collapseHint_1\" class=\"collapse\" aria-labelledby=\"headingThree\" data-parent=\"#accordion\">\n",
    "            <div class=\"card-body\">\n",
    "В поле <code>type</code> есть несколько значений, у которых появился пробел в начале строки. Самый простой способ их «починить» -- использовать метод <a href=\"https://pandas.pydata.org/docs/reference/api/pandas.Series.str.strip.html#pandas.Series.str.strip\">.str.strip</a>. Этот метод удаляет все пробелы, которые встречаются в начале и в конце строки. Применяют его таким образом:<br>\n",
    "<code>df['type'].str.strip()</code>\n",
    "            </div>\n",
    "        </div>\n",
    "    </div>\n",
    "</div>"
   ]
  },
  {
   "cell_type": "markdown",
   "metadata": {},
   "source": [
    "Главная проблема - многие категориальные значения по сути являются списками. Это страны, студии, режиссеры и продюсеры. У большинства фильмов их несколько."
   ]
  },
  {
   "cell_type": "code",
   "execution_count": 6,
   "metadata": {
    "id": "PnXKIVdFgFyR",
    "scrolled": true
   },
   "outputs": [
    {
     "data": {
      "text/plain": [
       "Художественный                5246\n",
       "Анимационный                   765\n",
       "Прочие                         383\n",
       "Документальный                 272\n",
       "Научно-популярный               49\n",
       "Музыкально-развлекательный       1\n",
       "Name: type, dtype: int64"
      ]
     },
     "metadata": {},
     "output_type": "display_data"
    }
   ],
   "source": [
    "data['type'] = data['type'].str.strip()\n",
    "\n",
    "display(data['type'].value_counts())"
   ]
  },
  {
   "cell_type": "markdown",
   "metadata": {
    "id": "XFSN5lrEgFyR"
   },
   "source": [
    "#### Шаг 2.5. Проверьте количественные значения\n",
    "\n",
    "- Проверьте, обнаружились ли в таких столбцах подозрительные данные. Как с такими данными лучше поступить?\n",
    "\n",
    "<div id=\"accordion\">\n",
    "    <div class=\"card\">\n",
    "        <div class=\"card-header\" id=\"headingThree\">\n",
    "            <button class=\"btn btn-link collapsed\" data-toggle=\"collapse\" data-target=\"#collapseHint_budget\" aria-expanded=\"false\" aria-controls=\"collapseHint_budget\">Подсказка</button>\n",
    "        </div>\n",
    "        <div id=\"collapseHint_budget\" class=\"collapse\" aria-labelledby=\"headingThree\" data-parent=\"#accordion\">\n",
    "            <div class=\"card-body\">\n",
    "Обратите внимание на описание столбца <code>budget</code>. Как этот столбец соотносится с двумя другими: <code>refundable_support</code> и <code>nonrefundable_support</code>?\n",
    "            </div>\n",
    "        </div>\n",
    "    </div>\n",
    "</div>"
   ]
  },
  {
   "cell_type": "markdown",
   "metadata": {},
   "source": [
    "Значения этих двух столбцов уже включены в бюджет.\n",
    "\n",
    "Подозрительные данные обнаружены в столбце сборов, их тип не соответствовал описанию и был исправлен мной ранее."
   ]
  },
  {
   "cell_type": "code",
   "execution_count": 7,
   "metadata": {
    "id": "YbzClBxagFyS",
    "scrolled": true
   },
   "outputs": [
    {
     "data": {
      "text/html": [
       "<div>\n",
       "<style scoped>\n",
       "    .dataframe tbody tr th:only-of-type {\n",
       "        vertical-align: middle;\n",
       "    }\n",
       "\n",
       "    .dataframe tbody tr th {\n",
       "        vertical-align: top;\n",
       "    }\n",
       "\n",
       "    .dataframe thead th {\n",
       "        text-align: right;\n",
       "    }\n",
       "</style>\n",
       "<table border=\"1\" class=\"dataframe\">\n",
       "  <thead>\n",
       "    <tr style=\"text-align: right;\">\n",
       "      <th></th>\n",
       "      <th>title</th>\n",
       "      <th>puNumber</th>\n",
       "      <th>show_start_date</th>\n",
       "      <th>type</th>\n",
       "      <th>film_studio</th>\n",
       "      <th>production_country</th>\n",
       "      <th>director</th>\n",
       "      <th>producer</th>\n",
       "      <th>age_restriction</th>\n",
       "      <th>refundable_support</th>\n",
       "      <th>nonrefundable_support</th>\n",
       "      <th>budget</th>\n",
       "      <th>financing_source</th>\n",
       "      <th>ratings</th>\n",
       "      <th>genres</th>\n",
       "      <th>box_office</th>\n",
       "      <th>not_budget</th>\n",
       "    </tr>\n",
       "  </thead>\n",
       "  <tbody>\n",
       "    <tr>\n",
       "      <th>1281</th>\n",
       "      <td>Пока еще жива</td>\n",
       "      <td>111005313</td>\n",
       "      <td>2013-10-11 12:00:00</td>\n",
       "      <td>Художественный</td>\n",
       "      <td>[АНО содействия развитию кинематографии \"Ангел...</td>\n",
       "      <td>Россия</td>\n",
       "      <td>А.Атанесян</td>\n",
       "      <td>[А.Атанесян,  М.Бабаханов,  Р.Бутко]</td>\n",
       "      <td>«16+» - для детей старше 16 лет</td>\n",
       "      <td>0.0</td>\n",
       "      <td>26500000.0</td>\n",
       "      <td>79411900.0</td>\n",
       "      <td>Министерство культуры</td>\n",
       "      <td>8.1</td>\n",
       "      <td>[драма, мелодрама]</td>\n",
       "      <td>3.653540e+05</td>\n",
       "      <td>False</td>\n",
       "    </tr>\n",
       "    <tr>\n",
       "      <th>1448</th>\n",
       "      <td>Бесславные придурки</td>\n",
       "      <td>111003314</td>\n",
       "      <td>2014-03-28 12:00:00</td>\n",
       "      <td>Художественный</td>\n",
       "      <td>ООО \"Компания \"АТК-Студио\"</td>\n",
       "      <td>Россия</td>\n",
       "      <td>А.Якимчук</td>\n",
       "      <td>А.Тютрюмов</td>\n",
       "      <td>«12+» - для детей старше 12 лет</td>\n",
       "      <td>0.0</td>\n",
       "      <td>26000000.0</td>\n",
       "      <td>37142857.0</td>\n",
       "      <td>Министерство культуры</td>\n",
       "      <td>NaN</td>\n",
       "      <td>NaN</td>\n",
       "      <td>2.814000e+04</td>\n",
       "      <td>False</td>\n",
       "    </tr>\n",
       "    <tr>\n",
       "      <th>1498</th>\n",
       "      <td>Невидимки</td>\n",
       "      <td>111004213</td>\n",
       "      <td>2013-09-10 12:00:00</td>\n",
       "      <td>Художественный</td>\n",
       "      <td>ООО \"Компания \"РЕАЛ-ДАКОТА\"</td>\n",
       "      <td>Россия</td>\n",
       "      <td>[Р.Давлетьяров,  С.Комаров]</td>\n",
       "      <td>[Р.Давлетьяров,  А.Котелевский,  А.Олейников]</td>\n",
       "      <td>«12+» - для детей старше 12 лет</td>\n",
       "      <td>0.0</td>\n",
       "      <td>107847945.0</td>\n",
       "      <td>176023490.0</td>\n",
       "      <td>Фонд кино</td>\n",
       "      <td>5.3</td>\n",
       "      <td>[комедия, фантастика]</td>\n",
       "      <td>1.995703e+07</td>\n",
       "      <td>False</td>\n",
       "    </tr>\n",
       "    <tr>\n",
       "      <th>1524</th>\n",
       "      <td>БЕРЦЫ</td>\n",
       "      <td>111004314</td>\n",
       "      <td>2014-05-05 12:00:00</td>\n",
       "      <td>Художественный</td>\n",
       "      <td>ООО \"Студия \"Пассажир\"</td>\n",
       "      <td>Россия</td>\n",
       "      <td>Е.Миндадзе (псевдоним Катя Шагалова)</td>\n",
       "      <td>Л.Антонова</td>\n",
       "      <td>«16+» - для детей старше 16 лет</td>\n",
       "      <td>0.0</td>\n",
       "      <td>28000000.0</td>\n",
       "      <td>40574140.0</td>\n",
       "      <td>Министерство культуры</td>\n",
       "      <td>4.2</td>\n",
       "      <td>драма</td>\n",
       "      <td>5.591800e+04</td>\n",
       "      <td>False</td>\n",
       "    </tr>\n",
       "    <tr>\n",
       "      <th>1792</th>\n",
       "      <td>Братья Ч</td>\n",
       "      <td>111004414</td>\n",
       "      <td>2014-04-23 12:00:00</td>\n",
       "      <td>Художественный</td>\n",
       "      <td>ООО \"Студия \"Пассажир\"</td>\n",
       "      <td>Россия</td>\n",
       "      <td>М.Угаров</td>\n",
       "      <td>[А.Миндадзе,  Л.Антонова]</td>\n",
       "      <td>«16+» - для детей старше 16 лет</td>\n",
       "      <td>0.0</td>\n",
       "      <td>25000000.0</td>\n",
       "      <td>40015122.0</td>\n",
       "      <td>Министерство культуры</td>\n",
       "      <td>6.4</td>\n",
       "      <td>драма</td>\n",
       "      <td>2.321000e+05</td>\n",
       "      <td>False</td>\n",
       "    </tr>\n",
       "    <tr>\n",
       "      <th>...</th>\n",
       "      <td>...</td>\n",
       "      <td>...</td>\n",
       "      <td>...</td>\n",
       "      <td>...</td>\n",
       "      <td>...</td>\n",
       "      <td>...</td>\n",
       "      <td>...</td>\n",
       "      <td>...</td>\n",
       "      <td>...</td>\n",
       "      <td>...</td>\n",
       "      <td>...</td>\n",
       "      <td>...</td>\n",
       "      <td>...</td>\n",
       "      <td>...</td>\n",
       "      <td>...</td>\n",
       "      <td>...</td>\n",
       "      <td>...</td>\n",
       "    </tr>\n",
       "    <tr>\n",
       "      <th>7456</th>\n",
       "      <td>Холоп</td>\n",
       "      <td>111021719</td>\n",
       "      <td>2019-12-19 12:00:00</td>\n",
       "      <td>Художественный</td>\n",
       "      <td>ООО \"МЕМ-МЕДИА\" по заказу АО \"ВБД Груп\"</td>\n",
       "      <td>Россия</td>\n",
       "      <td>К.Шипенко</td>\n",
       "      <td>[Э.Илоян,  Д.Жалинский,  В.Дусмухаметов,  Т.Ба...</td>\n",
       "      <td>«12+» - для детей старше 12 лет</td>\n",
       "      <td>25000000.0</td>\n",
       "      <td>35000000.0</td>\n",
       "      <td>160000000.0</td>\n",
       "      <td>Фонд кино</td>\n",
       "      <td>6.8</td>\n",
       "      <td>комедия</td>\n",
       "      <td>3.073569e+09</td>\n",
       "      <td>False</td>\n",
       "    </tr>\n",
       "    <tr>\n",
       "      <th>7464</th>\n",
       "      <td>Союз спасения</td>\n",
       "      <td>111022019</td>\n",
       "      <td>2019-12-26 12:00:00</td>\n",
       "      <td>Художественный</td>\n",
       "      <td>ЗАО \"Дирекция кино\"</td>\n",
       "      <td>Россия</td>\n",
       "      <td>А.Кравчук</td>\n",
       "      <td>[А.Максимов,  К.Эрнст]</td>\n",
       "      <td>«12+» - для детей старше 12 лет</td>\n",
       "      <td>100000000.0</td>\n",
       "      <td>400000000.0</td>\n",
       "      <td>980000000.0</td>\n",
       "      <td>Фонд кино</td>\n",
       "      <td>6.0</td>\n",
       "      <td>[история, биография, драма]</td>\n",
       "      <td>7.177032e+08</td>\n",
       "      <td>False</td>\n",
       "    </tr>\n",
       "    <tr>\n",
       "      <th>7466</th>\n",
       "      <td>Иван Царевич и Серый Волк 4</td>\n",
       "      <td>114005019</td>\n",
       "      <td>2019-12-20 12:00:00</td>\n",
       "      <td>Анимационный</td>\n",
       "      <td>ООО \"Студия анимационного кино \"Мельница\"</td>\n",
       "      <td>Россия</td>\n",
       "      <td>[Д.Шмидт,  К.Феоктистов]</td>\n",
       "      <td>[С.Сельянов,  А.Боярский]</td>\n",
       "      <td>«6+» - для детей старше 6 лет</td>\n",
       "      <td>100000000.0</td>\n",
       "      <td>0.0</td>\n",
       "      <td>190000000.0</td>\n",
       "      <td>Фонд кино</td>\n",
       "      <td>6.7</td>\n",
       "      <td>[мультфильм, приключения, семейный]</td>\n",
       "      <td>5.010692e+08</td>\n",
       "      <td>False</td>\n",
       "    </tr>\n",
       "    <tr>\n",
       "      <th>7476</th>\n",
       "      <td>Я свободен</td>\n",
       "      <td>111023019</td>\n",
       "      <td>2019-12-26 12:00:00</td>\n",
       "      <td>Художественный</td>\n",
       "      <td>АО \"ТПО \"Киностудия им. М.Горького\"</td>\n",
       "      <td>Россия</td>\n",
       "      <td>И.Северов</td>\n",
       "      <td>С.Зернов</td>\n",
       "      <td>«12+» - для детей старше 12 лет</td>\n",
       "      <td>0.0</td>\n",
       "      <td>30000000.0</td>\n",
       "      <td>46154000.0</td>\n",
       "      <td>Министерство культуры</td>\n",
       "      <td>5.9</td>\n",
       "      <td>драма</td>\n",
       "      <td>NaN</td>\n",
       "      <td>False</td>\n",
       "    </tr>\n",
       "    <tr>\n",
       "      <th>7478</th>\n",
       "      <td>(Не)идеальный мужчина</td>\n",
       "      <td>111023119</td>\n",
       "      <td>2019-12-24 12:00:00</td>\n",
       "      <td>Художественный</td>\n",
       "      <td>ООО \"Нон-Стоп Продакшн\"</td>\n",
       "      <td>Россия</td>\n",
       "      <td>М.Бальчюнас (псевдоним М.Вайсберг)</td>\n",
       "      <td>[С.Мелькумов,  А.Роднянский,  М.Вайсберг,  Р.М...</td>\n",
       "      <td>«12+» - для детей старше 12 лет</td>\n",
       "      <td>40000000.0</td>\n",
       "      <td>60000000.0</td>\n",
       "      <td>150147502.0</td>\n",
       "      <td>Фонд кино</td>\n",
       "      <td>4.5</td>\n",
       "      <td>[комедия, фантастика, мелодрама]</td>\n",
       "      <td>NaN</td>\n",
       "      <td>False</td>\n",
       "    </tr>\n",
       "  </tbody>\n",
       "</table>\n",
       "<p>327 rows × 17 columns</p>\n",
       "</div>"
      ],
      "text/plain": [
       "                            title   puNumber     show_start_date  \\\n",
       "1281                Пока еще жива  111005313 2013-10-11 12:00:00   \n",
       "1448          Бесславные придурки  111003314 2014-03-28 12:00:00   \n",
       "1498                    Невидимки  111004213 2013-09-10 12:00:00   \n",
       "1524                        БЕРЦЫ  111004314 2014-05-05 12:00:00   \n",
       "1792                     Братья Ч  111004414 2014-04-23 12:00:00   \n",
       "...                           ...        ...                 ...   \n",
       "7456                        Холоп  111021719 2019-12-19 12:00:00   \n",
       "7464                Союз спасения  111022019 2019-12-26 12:00:00   \n",
       "7466  Иван Царевич и Серый Волк 4  114005019 2019-12-20 12:00:00   \n",
       "7476                   Я свободен  111023019 2019-12-26 12:00:00   \n",
       "7478        (Не)идеальный мужчина  111023119 2019-12-24 12:00:00   \n",
       "\n",
       "                type                                        film_studio  \\\n",
       "1281  Художественный  [АНО содействия развитию кинематографии \"Ангел...   \n",
       "1448  Художественный                         ООО \"Компания \"АТК-Студио\"   \n",
       "1498  Художественный                        ООО \"Компания \"РЕАЛ-ДАКОТА\"   \n",
       "1524  Художественный                             ООО \"Студия \"Пассажир\"   \n",
       "1792  Художественный                             ООО \"Студия \"Пассажир\"   \n",
       "...              ...                                                ...   \n",
       "7456  Художественный            ООО \"МЕМ-МЕДИА\" по заказу АО \"ВБД Груп\"   \n",
       "7464  Художественный                                ЗАО \"Дирекция кино\"   \n",
       "7466    Анимационный          ООО \"Студия анимационного кино \"Мельница\"   \n",
       "7476  Художественный                АО \"ТПО \"Киностудия им. М.Горького\"   \n",
       "7478  Художественный                           ООО \"Нон-Стоп Продакшн\"    \n",
       "\n",
       "     production_country                              director  \\\n",
       "1281             Россия                            А.Атанесян   \n",
       "1448             Россия                             А.Якимчук   \n",
       "1498             Россия           [Р.Давлетьяров,  С.Комаров]   \n",
       "1524             Россия  Е.Миндадзе (псевдоним Катя Шагалова)   \n",
       "1792             Россия                              М.Угаров   \n",
       "...                 ...                                   ...   \n",
       "7456             Россия                             К.Шипенко   \n",
       "7464             Россия                             А.Кравчук   \n",
       "7466             Россия              [Д.Шмидт,  К.Феоктистов]   \n",
       "7476             Россия                             И.Северов   \n",
       "7478             Россия    М.Бальчюнас (псевдоним М.Вайсберг)   \n",
       "\n",
       "                                               producer  \\\n",
       "1281               [А.Атанесян,  М.Бабаханов,  Р.Бутко]   \n",
       "1448                                         А.Тютрюмов   \n",
       "1498      [Р.Давлетьяров,  А.Котелевский,  А.Олейников]   \n",
       "1524                                         Л.Антонова   \n",
       "1792                          [А.Миндадзе,  Л.Антонова]   \n",
       "...                                                 ...   \n",
       "7456  [Э.Илоян,  Д.Жалинский,  В.Дусмухаметов,  Т.Ба...   \n",
       "7464                             [А.Максимов,  К.Эрнст]   \n",
       "7466                          [С.Сельянов,  А.Боярский]   \n",
       "7476                                           С.Зернов   \n",
       "7478  [С.Мелькумов,  А.Роднянский,  М.Вайсберг,  Р.М...   \n",
       "\n",
       "                      age_restriction  refundable_support  \\\n",
       "1281  «16+» - для детей старше 16 лет                 0.0   \n",
       "1448  «12+» - для детей старше 12 лет                 0.0   \n",
       "1498  «12+» - для детей старше 12 лет                 0.0   \n",
       "1524  «16+» - для детей старше 16 лет                 0.0   \n",
       "1792  «16+» - для детей старше 16 лет                 0.0   \n",
       "...                               ...                 ...   \n",
       "7456  «12+» - для детей старше 12 лет          25000000.0   \n",
       "7464  «12+» - для детей старше 12 лет         100000000.0   \n",
       "7466    «6+» - для детей старше 6 лет         100000000.0   \n",
       "7476  «12+» - для детей старше 12 лет                 0.0   \n",
       "7478  «12+» - для детей старше 12 лет          40000000.0   \n",
       "\n",
       "      nonrefundable_support       budget       financing_source  ratings  \\\n",
       "1281             26500000.0   79411900.0  Министерство культуры      8.1   \n",
       "1448             26000000.0   37142857.0  Министерство культуры      NaN   \n",
       "1498            107847945.0  176023490.0              Фонд кино      5.3   \n",
       "1524             28000000.0   40574140.0  Министерство культуры      4.2   \n",
       "1792             25000000.0   40015122.0  Министерство культуры      6.4   \n",
       "...                     ...          ...                    ...      ...   \n",
       "7456             35000000.0  160000000.0              Фонд кино      6.8   \n",
       "7464            400000000.0  980000000.0              Фонд кино      6.0   \n",
       "7466                    0.0  190000000.0              Фонд кино      6.7   \n",
       "7476             30000000.0   46154000.0  Министерство культуры      5.9   \n",
       "7478             60000000.0  150147502.0              Фонд кино      4.5   \n",
       "\n",
       "                                   genres    box_office  not_budget  \n",
       "1281                   [драма, мелодрама]  3.653540e+05       False  \n",
       "1448                                  NaN  2.814000e+04       False  \n",
       "1498                [комедия, фантастика]  1.995703e+07       False  \n",
       "1524                                драма  5.591800e+04       False  \n",
       "1792                                драма  2.321000e+05       False  \n",
       "...                                   ...           ...         ...  \n",
       "7456                              комедия  3.073569e+09       False  \n",
       "7464          [история, биография, драма]  7.177032e+08       False  \n",
       "7466  [мультфильм, приключения, семейный]  5.010692e+08       False  \n",
       "7476                                драма           NaN       False  \n",
       "7478     [комедия, фантастика, мелодрама]           NaN       False  \n",
       "\n",
       "[327 rows x 17 columns]"
      ]
     },
     "metadata": {},
     "output_type": "display_data"
    },
    {
     "data": {
      "text/plain": [
       "count    3.270000e+02\n",
       "mean     1.257456e+08\n",
       "std      1.843163e+08\n",
       "min      0.000000e+00\n",
       "25%      4.212625e+07\n",
       "50%      6.880923e+07\n",
       "75%      1.439456e+08\n",
       "max      2.305074e+09\n",
       "Name: budget, dtype: float64"
      ]
     },
     "metadata": {},
     "output_type": "display_data"
    },
    {
     "data": {
      "text/plain": [
       "0.0           17\n",
       "38000000.0     6\n",
       "50000000.0     4\n",
       "80000000.0     4\n",
       "37142857.0     3\n",
       "Name: budget, dtype: int64"
      ]
     },
     "metadata": {},
     "output_type": "display_data"
    },
    {
     "data": {
      "text/plain": [
       "38000000.0    6\n",
       "50000000.0    4\n",
       "80000000.0    4\n",
       "37142857.0    3\n",
       "38500000.0    3\n",
       "Name: budget, dtype: int64"
      ]
     },
     "metadata": {},
     "output_type": "display_data"
    }
   ],
   "source": [
    "display(data.query('not_budget == False'))\n",
    "\n",
    "display(data['budget'].describe())\n",
    "\n",
    "display(data['budget'].value_counts().head())\n",
    "\n",
    "data = data.query('budget!=0.0')\n",
    "display(data['budget'].value_counts().head())"
   ]
  },
  {
   "cell_type": "markdown",
   "metadata": {
    "id": "Eu6oWp2CgFyS"
   },
   "source": [
    "#### Шаг 2.6. Добавьте новые столбцы\n",
    "\n",
    "\n",
    "\n"
   ]
  },
  {
   "cell_type": "markdown",
   "metadata": {
    "id": "7GgW-UpAgFyS"
   },
   "source": [
    "- Создайте столбец с информацией о годе проката. Выделите год из даты премьеры фильма."
   ]
  },
  {
   "cell_type": "code",
   "execution_count": 8,
   "metadata": {
    "id": "I-yd1DkWgFyT"
   },
   "outputs": [],
   "source": [
    "data['rental_year'] = data['show_start_date'].dt.year"
   ]
  },
  {
   "cell_type": "markdown",
   "metadata": {
    "id": "nFTDLDYOgFyT"
   },
   "source": [
    "- Создайте два столбца: с именем и фамилией главного режиссёра и основным жанром фильма. В столбцы войдут первые значения из списка режиссёров и жанров соответственно.\n",
    "\n",
    "<div id=\"accordion\">\n",
    "    <div class=\"card\">\n",
    "        <div class=\"card-header\" id=\"headingThree\">\n",
    "            <button class=\"btn btn-link collapsed\" data-toggle=\"collapse\" data-target=\"#collapseHint_2\" aria-expanded=\"false\" aria-controls=\"collapseHint_2\">Подсказка</button>\n",
    "        </div>\n",
    "        <div id=\"collapseHint_2\" class=\"collapse\" aria-labelledby=\"headingThree\" data-parent=\"#accordion\">\n",
    "            <div class=\"card-body\">\n",
    "Чтобы создать такие столбцы, лучше всего использовать собственную функцию. Эту функцию можно применить к двум столбцам сразу. \n",
    "            </div>\n",
    "        </div>\n",
    "    </div>\n",
    "</div>"
   ]
  },
  {
   "cell_type": "code",
   "execution_count": 9,
   "metadata": {
    "id": "LSbRZKbMgFyU"
   },
   "outputs": [],
   "source": [
    "def first_value(cell):\n",
    "    #Делит список по запятым и возвращает первое значение в списке\n",
    "    try:\n",
    "        x = cell.split(',')\n",
    "        return x[0]\n",
    "    except:\n",
    "        return cell\n",
    "\n",
    "data['main_director'] = data['director'].apply(first_value)#Создает столбец с главным режиссером фильма\n",
    "data['main_genre'] = data['genres'].apply(first_value)#Создает столбец с главным жанром фильма"
   ]
  },
  {
   "cell_type": "markdown",
   "metadata": {
    "id": "1FsCXHwdgFyU"
   },
   "source": [
    "- Посчитайте, какую долю от общего бюджета фильма составляет государственная поддержка."
   ]
  },
  {
   "cell_type": "code",
   "execution_count": 10,
   "metadata": {
    "id": "LV6qFuZLgFyV"
   },
   "outputs": [],
   "source": [
    "data['percentage_of_support'] = ((data['refundable_support'] + data['nonrefundable_support']) / data['budget'])\n",
    "#Создает столбец в котором указанна доля господдержки от общего бюджета фильма"
   ]
  },
  {
   "cell_type": "markdown",
   "metadata": {},
   "source": [
    "Качество данных в выгрузке удовлетворительное. Мною были удалены лишние отсутупы в ячейках, пропуски, неверные форматы данны и фильмы с рейтингом ожидания вместо обычного рейтинга."
   ]
  },
  {
   "cell_type": "markdown",
   "metadata": {
    "id": "6t4EukPLgFyV"
   },
   "source": [
    "### Шаг 3. Проведите исследовательский анализ данных\n"
   ]
  },
  {
   "cell_type": "markdown",
   "metadata": {
    "id": "vAH8WCzugFyV"
   },
   "source": [
    "- Посмотрите, сколько фильмов выходило в прокат каждый год. Обратите внимание, что данные о прокате в кинотеатрах известны не для всех фильмов. Посчитайте, какую долю составляют фильмы с указанной информацией о прокате в кинотеатрах."
   ]
  },
  {
   "cell_type": "code",
   "execution_count": 11,
   "metadata": {
    "id": "ABeV47y7gFyW",
    "scrolled": false
   },
   "outputs": [
    {
     "name": "stdout",
     "output_type": "stream",
     "text": [
      "Доля фильмов с указанной информацией о прокате: 45%\n"
     ]
    },
    {
     "data": {
      "image/png": "[encoded data removed]",
      "text/plain": [
       "<Figure size 1080x432 with 1 Axes>"
      ]
     },
     "metadata": {
      "needs_background": "light"
     },
     "output_type": "display_data"
    }
   ],
   "source": [
    "film_count = data['puNumber'].count()\n",
    "box_data = data['box_office'].count()\n",
    "box_share = (box_data / film_count).round(2)\n",
    "\n",
    "print(f'Доля фильмов с указанной информацией о прокате: {box_share:.0%}')\n",
    "\n",
    "year_pivot = data.pivot_table(index='rental_year', values=['puNumber','box_office'], aggfunc=['count'])#Таблица с количеством фильмов, имеющих данные о сборах и общим количеством фильмов в датасете\n",
    "year_pivot.columns = ['с данными о сборах','всего в датасете']\n",
    "\n",
    "plt.show(year_pivot.plot(style='o-', grid=True, figsize=(15, 6), title='Количество фильмов в прокате по годам'))\n",
    "#year_data_pivot = data.pivot_table(index='rental_year', values='box')"
   ]
  },
  {
   "cell_type": "markdown",
   "metadata": {},
   "source": [
    "<b>Данные о прокате известны для менее, чем половины фильмов. Причем их доля, будучи минимальной в 2010 году возрастала до 2017 года, после чего снова начала падать."
   ]
  },
  {
   "cell_type": "markdown",
   "metadata": {
    "id": "BEOdcIrIgFyW"
   },
   "source": [
    "- Изучите, как менялась динамика проката по годам. В каком году сумма сборов была минимальной? А максимальной?"
   ]
  },
  {
   "cell_type": "code",
   "execution_count": 12,
   "metadata": {
    "id": "tfEhofYvgFyX",
    "scrolled": true
   },
   "outputs": [
    {
     "data": {
      "text/html": [
       "<div>\n",
       "<style scoped>\n",
       "    .dataframe tbody tr th:only-of-type {\n",
       "        vertical-align: middle;\n",
       "    }\n",
       "\n",
       "    .dataframe tbody tr th {\n",
       "        vertical-align: top;\n",
       "    }\n",
       "\n",
       "    .dataframe thead th {\n",
       "        text-align: right;\n",
       "    }\n",
       "</style>\n",
       "<table border=\"1\" class=\"dataframe\">\n",
       "  <thead>\n",
       "    <tr style=\"text-align: right;\">\n",
       "      <th></th>\n",
       "      <th>с данными о сборах</th>\n",
       "      <th>всего в датасете</th>\n",
       "      <th>сумма сборов по годам</th>\n",
       "      <th>сборов на один фильм</th>\n",
       "    </tr>\n",
       "    <tr>\n",
       "      <th>rental_year</th>\n",
       "      <th></th>\n",
       "      <th></th>\n",
       "      <th></th>\n",
       "      <th></th>\n",
       "    </tr>\n",
       "  </thead>\n",
       "  <tbody>\n",
       "    <tr>\n",
       "      <th>2010</th>\n",
       "      <td>88</td>\n",
       "      <td>756</td>\n",
       "      <td>2</td>\n",
       "      <td>0.022727</td>\n",
       "    </tr>\n",
       "    <tr>\n",
       "      <th>2011</th>\n",
       "      <td>98</td>\n",
       "      <td>474</td>\n",
       "      <td>14</td>\n",
       "      <td>0.142857</td>\n",
       "    </tr>\n",
       "    <tr>\n",
       "      <th>2012</th>\n",
       "      <td>114</td>\n",
       "      <td>514</td>\n",
       "      <td>6</td>\n",
       "      <td>0.052632</td>\n",
       "    </tr>\n",
       "    <tr>\n",
       "      <th>2013</th>\n",
       "      <td>176</td>\n",
       "      <td>588</td>\n",
       "      <td>30</td>\n",
       "      <td>0.170455</td>\n",
       "    </tr>\n",
       "    <tr>\n",
       "      <th>2014</th>\n",
       "      <td>255</td>\n",
       "      <td>726</td>\n",
       "      <td>7362</td>\n",
       "      <td>28.870588</td>\n",
       "    </tr>\n",
       "    <tr>\n",
       "      <th>2015</th>\n",
       "      <td>420</td>\n",
       "      <td>647</td>\n",
       "      <td>30584</td>\n",
       "      <td>72.819048</td>\n",
       "    </tr>\n",
       "    <tr>\n",
       "      <th>2016</th>\n",
       "      <td>494</td>\n",
       "      <td>762</td>\n",
       "      <td>42604</td>\n",
       "      <td>86.242915</td>\n",
       "    </tr>\n",
       "    <tr>\n",
       "      <th>2017</th>\n",
       "      <td>353</td>\n",
       "      <td>494</td>\n",
       "      <td>48456</td>\n",
       "      <td>137.269122</td>\n",
       "    </tr>\n",
       "    <tr>\n",
       "      <th>2018</th>\n",
       "      <td>466</td>\n",
       "      <td>857</td>\n",
       "      <td>47553</td>\n",
       "      <td>102.045064</td>\n",
       "    </tr>\n",
       "    <tr>\n",
       "      <th>2019</th>\n",
       "      <td>518</td>\n",
       "      <td>881</td>\n",
       "      <td>48257</td>\n",
       "      <td>93.160232</td>\n",
       "    </tr>\n",
       "  </tbody>\n",
       "</table>\n",
       "</div>"
      ],
      "text/plain": [
       "             с данными о сборах  всего в датасете  сумма сборов по годам  \\\n",
       "rental_year                                                                \n",
       "2010                         88               756                      2   \n",
       "2011                         98               474                     14   \n",
       "2012                        114               514                      6   \n",
       "2013                        176               588                     30   \n",
       "2014                        255               726                   7362   \n",
       "2015                        420               647                  30584   \n",
       "2016                        494               762                  42604   \n",
       "2017                        353               494                  48456   \n",
       "2018                        466               857                  47553   \n",
       "2019                        518               881                  48257   \n",
       "\n",
       "             сборов на один фильм  \n",
       "rental_year                        \n",
       "2010                     0.022727  \n",
       "2011                     0.142857  \n",
       "2012                     0.052632  \n",
       "2013                     0.170455  \n",
       "2014                    28.870588  \n",
       "2015                    72.819048  \n",
       "2016                    86.242915  \n",
       "2017                   137.269122  \n",
       "2018                   102.045064  \n",
       "2019                    93.160232  "
      ]
     },
     "metadata": {},
     "output_type": "display_data"
    },
    {
     "data": {
      "image/png": "[encoded data removed]",
      "text/plain": [
       "<Figure size 1080x432 with 1 Axes>"
      ]
     },
     "metadata": {
      "needs_background": "light"
     },
     "output_type": "display_data"
    }
   ],
   "source": [
    "year_box_pivot = data.pivot_table(index='rental_year', values='box_office', aggfunc=['sum'])\n",
    "year_box_pivot.columns = ['сумма сборов по годам']\n",
    "year_box_pivot['сумма сборов по годам'] = (year_box_pivot['сумма сборов по годам'] / 1000000).round().astype('int')#Сумма сборов теперь указанна в миллионах рублей\n",
    "year_pivot = year_pivot.join(year_box_pivot, on='rental_year', lsuffix='_left')#Добавляет в предыдущую таблицу сумму сборов\n",
    "year_pivot['сборов на один фильм'] = year_pivot['сумма сборов по годам'] / year_pivot['с данными о сборах']\n",
    "display(year_pivot)\n",
    "year_pivot.plot(y = 'сумма сборов по годам', style='o-', grid=True, figsize=(15, 6), title='Сумма сборов по годам в миллионах');\n",
    "\n"
   ]
  },
  {
   "cell_type": "markdown",
   "metadata": {},
   "source": [
    "С 10 по 14 год недостаточно данных и сумма сборов слишком маленькая. Сравнивать такие данные некорректно, так как в каждом году разное количество данных о сборах. \n",
    "Если не брать это во внимание и не учитывать года с 2010 по 2014, то максимальная сумма сборов была в 2017 году а минимальная в 2015."
   ]
  },
  {
   "cell_type": "markdown",
   "metadata": {
    "id": "G-7qS-N-gFyY"
   },
   "source": [
    "- С помощью сводной таблицы посчитайте среднюю и медианную сумму сборов для каждого года."
   ]
  },
  {
   "cell_type": "code",
   "execution_count": 13,
   "metadata": {
    "id": "jmp-rgg9gFyY",
    "scrolled": false
   },
   "outputs": [
    {
     "data": {
      "image/png": "[encoded data removed]",
      "text/plain": [
       "<Figure size 1080x432 with 1 Axes>"
      ]
     },
     "metadata": {
      "needs_background": "light"
     },
     "output_type": "display_data"
    }
   ],
   "source": [
    "median_and_mean_box = data.pivot_table(index='rental_year', values='box_office', aggfunc=['median', 'mean'])#Медиана и среднее арифметическое сборов по годам\n",
    "median_and_mean_box.columns = ['медиана сборов','сборов в среднем на фильм']\n",
    "median_and_mean_box['медиана сборов'] = (median_and_mean_box['медиана сборов'] / 1000000).round().astype('int')#Рубли в миллионы рублей\n",
    "median_and_mean_box['сборов в среднем на фильм'] = (median_and_mean_box['сборов в среднем на фильм'] / 1000000).round().astype('int')\n",
    "#display(median_and_mean_box)\n",
    "\n",
    "median_and_mean_box.plot(style='o-', grid=True, figsize=(15, 6), title='Сумма сборов по годам в миллионах в среднем на каждый фильм');\n",
    "\n"
   ]
  },
  {
   "cell_type": "markdown",
   "metadata": {},
   "source": [
    "<b> На графике видно огромную пропасть между медианными и средними сборами. Это означает, что большинство фильмов собирают в прокате небольшие суммы и большая часть сборов обеспечивается единичными успешными блокбастерами."
   ]
  },
  {
   "cell_type": "markdown",
   "metadata": {
    "id": "Ok89WFwJgFyZ"
   },
   "source": [
    "- Определите, влияет ли возрастное ограничение аудитории («6+», «12+», «16+», «18+» и т. д.) на сборы фильма в прокате в период с 2015 по 2019 год? Фильмы с каким возрастным ограничением собрали больше всего денег в прокате? Меняется ли картина в зависимости от года? Если да, предположите, с чем это может быть связано."
   ]
  },
  {
   "cell_type": "code",
   "execution_count": 14,
   "metadata": {
    "id": "jsSbEqfjgFya",
    "scrolled": true
   },
   "outputs": [
    {
     "data": {
      "image/png": "[encoded data removed]",
      "text/plain": [
       "<Figure size 1080x432 with 1 Axes>"
      ]
     },
     "metadata": {
      "needs_background": "light"
     },
     "output_type": "display_data"
    }
   ],
   "source": [
    "restriction_table = data.query('rental_year > 2014')#Отсекаем все до 2014 из-за недостатка данных\n",
    "\n",
    "restriction_table = restriction_table.pivot_table(index='age_restriction', values='box_office', aggfunc='mean')\n",
    "restriction_table['box_office'] = (restriction_table['box_office'] / 1000000).round().astype('int')\n",
    "restriction_table.columns = ['сборы']\n",
    "\n",
    "\n",
    "restriction_table.plot(title='Среднее арифметическое сборов по возрастным ограничениям', grid=True, figsize=(15, 6), style='o' );"
   ]
  },
  {
   "cell_type": "markdown",
   "metadata": {},
   "source": [
    "Фильмы с низким возрастным рейтингом собирают в среднем в два раза больше денег в прокате чем с рейтингом 16+ и 18+"
   ]
  },
  {
   "cell_type": "code",
   "execution_count": 15,
   "metadata": {},
   "outputs": [
    {
     "data": {
      "text/plain": [
       "<Axes: title={'center': 'Сумма сборов по возрастным ограничениям'}, xlabel='age_restriction'>"
      ]
     },
     "execution_count": 15,
     "metadata": {},
     "output_type": "execute_result"
    },
    {
     "data": {
      "image/png": "[encoded data removed]",
      "text/plain": [
       "<Figure size 1080x432 with 1 Axes>"
      ]
     },
     "metadata": {
      "needs_background": "light"
     },
     "output_type": "display_data"
    }
   ],
   "source": [
    "#сводная по ограничениям, данные - сборы\n",
    "restriction_table_sum = data.query('rental_year > 2014')\n",
    "\n",
    "restriction_table_sum = restriction_table_sum.pivot_table(index='age_restriction', values='box_office', aggfunc='sum')\n",
    "restriction_table_sum['box_office'] = (restriction_table_sum['box_office'] / 1000000).round().astype('int')\n",
    "restriction_table_sum.columns = ['сборы']\n",
    "\n",
    "restriction_table_sum.plot(title='Сумма сборов по возрастным ограничениям', grid=True, figsize=(15, 6), style='o' )"
   ]
  },
  {
   "cell_type": "markdown",
   "metadata": {},
   "source": [
    "На графике с суммой сборов расхождение между 16+ и 18+ намного нагляднее. Именно поэтому многие кинокомпании очень неохотно дают добро на фильмы 18+, они отсекают значительную часть аудитории."
   ]
  },
  {
   "cell_type": "code",
   "execution_count": 16,
   "metadata": {
    "scrolled": true
   },
   "outputs": [
    {
     "data": {
      "image/png": "[encoded data removed]",
      "text/plain": [
       "<Figure size 432x288 with 1 Axes>"
      ]
     },
     "metadata": {
      "needs_background": "light"
     },
     "output_type": "display_data"
    },
    {
     "data": {
      "image/png": "[encoded data removed]",
      "text/plain": [
       "<Figure size 1080x432 with 1 Axes>"
      ]
     },
     "metadata": {
      "needs_background": "light"
     },
     "output_type": "display_data"
    }
   ],
   "source": [
    "#таблица с графиками индекс-годы, столбцы-ограничения, данные-сборы сумма\n",
    "restriction_table_sum_years = data.query('rental_year > 2014')\n",
    "restriction_table_sum_years = restriction_table_sum_years.pivot_table(index='rental_year', columns='age_restriction', values='box_office',aggfunc='sum')\n",
    "#display(restriction_table_sum_years)\n",
    "plt.xticks(np.arange(2015, 2019, 1))\n",
    "restriction_table_sum_years.plot(title='Сумма сборов по возрастным ограничениям и годам', grid=True, figsize=(15, 6), style='o-' );\n"
   ]
  },
  {
   "cell_type": "code",
   "execution_count": 17,
   "metadata": {},
   "outputs": [
    {
     "data": {
      "image/png": "[encoded data removed]",
      "text/plain": [
       "<Figure size 1080x432 with 1 Axes>"
      ]
     },
     "metadata": {
      "needs_background": "light"
     },
     "output_type": "display_data"
    }
   ],
   "source": [
    "\n",
    "restriction_table_sum_years.plot(title='Сумма сборов по возрастным ограничениям и годам', grid=True, figsize=(15, 6), style='o-' )\n",
    "plt.xticks(np.arange(2015, 2019, 1));"
   ]
  },
  {
   "cell_type": "markdown",
   "metadata": {},
   "source": [
    "У фильмов 18+ и 6+ сборы за указанный период в целом растут. Фильмы 16+ показывали рост до 2017 года а после их сборы начали сильно падать. Возможно, это связанно с меньшим каличеством выходящих в этот год фильмов для соответствующей аудитории.\n",
    "Фильмы 12+ наоборот, после 2017 года показывают рост."
   ]
  },
  {
   "cell_type": "markdown",
   "metadata": {
    "id": "l_Kg6Ku4gFya"
   },
   "source": [
    "### Шаг 4. Исследуйте фильмы, которые получили государственную поддержку\n",
    "\n",
    "На этом этапе нет конкретных инструкций и заданий — поищите интересные закономерности в данных. Посмотрите, сколько выделяют средств на поддержку кино. Проверьте, хорошо ли окупаются такие фильмы, какой у них рейтинг."
   ]
  },
  {
   "cell_type": "markdown",
   "metadata": {},
   "source": [
    "Я выяснил:\n",
    "- Какие количество от всех фильмов с господдержкой окупается?\n",
    "- Насколько различается рейтинг фильмов с господдержкой от рейтинга фильмов не имеющих таковой?\n",
    "- Сколько выделялось средств на поддержку кино каждый год и насколько в среднем они окупались?"
   ]
  },
  {
   "cell_type": "code",
   "execution_count": 18,
   "metadata": {
    "id": "W9QKpjUdgFyb"
   },
   "outputs": [
    {
     "data": {
      "text/plain": [
       "'Окупившихся фильмов с господдержкой:  66'"
      ]
     },
     "metadata": {},
     "output_type": "display_data"
    },
    {
     "data": {
      "text/plain": [
       "'Неокупившихся фильмов с господдержкой:  231'"
      ]
     },
     "metadata": {},
     "output_type": "display_data"
    },
    {
     "data": {
      "text/plain": [
       "'Фильмы с господдержкой без данных о сборах:  13'"
      ]
     },
     "metadata": {},
     "output_type": "display_data"
    },
    {
     "data": {
      "text/plain": [
       "'Окупаются 29% фильмов с господдержкой.'"
      ]
     },
     "metadata": {},
     "output_type": "display_data"
    },
    {
     "data": {
      "text/plain": [
       "'О 4% фильмов с господдержкой в выгрузке отсутствует информация о сборах.'"
      ]
     },
     "metadata": {},
     "output_type": "display_data"
    }
   ],
   "source": [
    "data['payback'] = data['box_office'] / data['budget']\n",
    "#display(data.query('not_budget == False'))\n",
    "paid_off_movies = data.query('not_budget == False and payback > 1')\n",
    "paid_off_movies = paid_off_movies['payback'].count()\n",
    "\n",
    "non_purchased_movies = data.query('not_budget == False and payback < 1')\n",
    "non_purchased_movies = non_purchased_movies['payback'].count()\n",
    "\n",
    "no_data_movies = data.query('not_budget == False and (payback.isna()) and not (budget.isna())')\n",
    "no_data_movies = no_data_movies['budget'].count()\n",
    "\n",
    "display(f'Окупившихся фильмов с господдержкой:  {paid_off_movies}')\n",
    "display(f'Неокупившихся фильмов с господдержкой:  {non_purchased_movies}')\n",
    "display(f'Фильмы с господдержкой без данных о сборах:  {no_data_movies}')\n",
    "\n",
    "payback_percentage = paid_off_movies / non_purchased_movies\n",
    "display(f'Окупаются {payback_percentage:.0%} фильмов с господдержкой.')\n",
    "no_data_percentage = no_data_movies / (paid_off_movies + non_purchased_movies)\n",
    "display(f'О {no_data_percentage:.0%} фильмов с господдержкой в выгрузке отсутствует информация о сборах.')"
   ]
  },
  {
   "cell_type": "code",
   "execution_count": 19,
   "metadata": {},
   "outputs": [
    {
     "data": {
      "text/plain": [
       "'Средний рейтинг фильмов без господдержки - 6.48, в то время как рейтинг фильмов с господдержкой - 6.01'"
      ]
     },
     "metadata": {},
     "output_type": "display_data"
    }
   ],
   "source": [
    "average_rating = data.query('not_budget == True')\n",
    "average_rating = round(average_rating['ratings'].mean(), 2)\n",
    "\n",
    "support_rating = data.query('not_budget == False')\n",
    "support_rating = round(support_rating['ratings'].mean(), 2)\n",
    "\n",
    "display(f'Средний рейтинг фильмов без господдержки - {average_rating}, в то время как рейтинг фильмов с господдержкой - {support_rating}')"
   ]
  },
  {
   "cell_type": "code",
   "execution_count": 20,
   "metadata": {
    "scrolled": true
   },
   "outputs": [
    {
     "data": {
      "image/png": "[encoded data removed]",
      "text/plain": [
       "<Figure size 1080x432 with 1 Axes>"
      ]
     },
     "metadata": {
      "needs_background": "light"
     },
     "output_type": "display_data"
    }
   ],
   "source": [
    "support_pivot = data.query('not_budget == False')\n",
    "support_pivot = support_pivot.pivot_table(index='rental_year', values=['box_office','refundable_support','nonrefundable_support','budget'], aggfunc='median')\n",
    "support_pivot.plot(title='Медианные значения господдержки, бюджета и сборов по годам', grid=True, figsize=(15, 6), style='o-' );"
   ]
  },
  {
   "cell_type": "markdown",
   "metadata": {},
   "source": [
    "Я решил что целесообразнее посчитать медиану чтобы иметь картину, не включающую в себя выбросы от единичных блокбастеров. По ней видно что в среднем, фильмы не окупаются, даже несмотря на всё возрастающие бюджеты. А еще то, насколько невозвратная поддержка кино больше возвратной, и что в целом, от года к году, она остается на одном уровне."
   ]
  },
  {
   "cell_type": "markdown",
   "metadata": {
    "id": "V2gYwMcPgFyd"
   },
   "source": [
    "### Шаг 5. Напишите общий вывод"
   ]
  },
  {
   "cell_type": "markdown",
   "metadata": {
    "id": "AYRg3dzXgFye"
   },
   "source": [
    "В ходе исследования мною была совершена предварительная обработка данных (удалены пропущенные значения и дубликаты, исправлен тип данных там, где требуется).\n",
    "\n",
    "Были добавлены новые столбцы с данными о наличии господдержки, годе выхода фильма в прокат, главном режиссере, главном жанре.\n",
    "\n",
    "Изучены основные параметры и и распростроненность их значений. Построены графики. Сделаны промежуточные выводы и наблюдения.\n",
    "\n",
    "Исследовано количество выходящих в прокат фильмов, сумма сборов фильмов по годам, а также влияние ограничений по возрасту на сборы фильмов.Так я выяснил, что фильмы с рейтингом 16+ потенциально в два раза прибыльнее фильмов 18+.  А сумма сборов с годами растет, но в основном за счет единичных блокастеров.\n",
    "\n",
    "Проанализированны фильмы, получившие господдержку от государства. Из имеющихся данных можно сделать вывод о том, что хотя и в целом зрители довольны такими фильмами почти так же, как и остальными, окупается всего чуть более трети таких фильмов. Возможно потому, что таких фильмов слишком много, в среднем их сборов хватает на покрытие возвратной части господдержки, но не хватает на покрытие даже половины бюджета.\n",
    "Рекомендуется тщательнее изучать и анализировать интересы зрителей, тщательне изучать сценарии и репутацию киностудий прежде чем оказывать финансовую поддежку фильмам.\n",
    "\n"
   ]
  }
 ],
 "metadata": {
  "ExecuteTimeLog": [
   {
    "duration": 537,
    "start_time": "2021-07-07T10:12:08.634Z"
   },
   {
    "duration": 206,
    "start_time": "2021-07-07T10:12:30.191Z"
   },
   {
    "duration": 227,
    "start_time": "2021-07-07T10:12:33.078Z"
   },
   {
    "duration": 153,
    "start_time": "2021-07-07T10:13:42.146Z"
   },
   {
    "duration": 233,
    "start_time": "2021-07-07T10:30:09.252Z"
   },
   {
    "duration": 19,
    "start_time": "2021-07-07T10:30:15.577Z"
   },
   {
    "duration": 18,
    "start_time": "2021-07-07T10:30:57.348Z"
   },
   {
    "duration": 19,
    "start_time": "2021-07-07T10:31:17.452Z"
   },
   {
    "duration": 21,
    "start_time": "2021-07-07T10:31:32.227Z"
   },
   {
    "duration": 27,
    "start_time": "2021-07-07T10:32:06.588Z"
   },
   {
    "duration": 23,
    "start_time": "2021-07-07T10:32:43.645Z"
   },
   {
    "duration": 24,
    "start_time": "2021-07-07T10:33:06.948Z"
   },
   {
    "duration": 7,
    "start_time": "2021-07-07T10:33:28.558Z"
   },
   {
    "duration": 23,
    "start_time": "2021-07-07T10:33:43.761Z"
   },
   {
    "duration": 28,
    "start_time": "2021-07-07T10:34:13.466Z"
   },
   {
    "duration": 23,
    "start_time": "2021-07-07T10:35:56.187Z"
   },
   {
    "duration": 6,
    "start_time": "2021-07-07T10:36:48.182Z"
   },
   {
    "duration": 14,
    "start_time": "2021-07-07T10:37:49.641Z"
   },
   {
    "duration": 6,
    "start_time": "2021-07-07T10:38:06.694Z"
   },
   {
    "duration": 6,
    "start_time": "2021-07-07T10:38:13.493Z"
   },
   {
    "duration": 19,
    "start_time": "2021-07-07T10:38:44.056Z"
   },
   {
    "duration": 186,
    "start_time": "2021-07-07T10:48:35.618Z"
   },
   {
    "duration": 24,
    "start_time": "2021-07-07T10:48:51.498Z"
   },
   {
    "duration": 20,
    "start_time": "2021-07-07T10:48:59.415Z"
   },
   {
    "duration": 20,
    "start_time": "2021-07-07T10:53:02.195Z"
   },
   {
    "duration": 188,
    "start_time": "2021-07-07T10:54:40.486Z"
   },
   {
    "duration": 115,
    "start_time": "2021-07-07T10:54:52.552Z"
   },
   {
    "duration": 214,
    "start_time": "2021-07-07T10:54:56.354Z"
   },
   {
    "duration": 47,
    "start_time": "2021-07-07T10:54:58.282Z"
   },
   {
    "duration": 217,
    "start_time": "2021-07-07T10:59:16.075Z"
   },
   {
    "duration": 51,
    "start_time": "2021-07-07T10:59:16.243Z"
   },
   {
    "duration": 578,
    "start_time": "2021-07-07T10:59:18.774Z"
   },
   {
    "duration": 161,
    "start_time": "2021-07-07T10:59:21.238Z"
   },
   {
    "duration": 59,
    "start_time": "2021-07-07T10:59:21.453Z"
   },
   {
    "duration": 3,
    "start_time": "2021-07-07T11:02:10.786Z"
   },
   {
    "duration": 13,
    "start_time": "2021-07-07T11:07:07.722Z"
   },
   {
    "duration": 26,
    "start_time": "2021-07-07T11:07:17.958Z"
   },
   {
    "duration": 22,
    "start_time": "2021-07-07T11:08:17.939Z"
   },
   {
    "duration": 212,
    "start_time": "2021-07-07T11:08:19.665Z"
   },
   {
    "duration": 21,
    "start_time": "2021-07-07T11:08:29.945Z"
   },
   {
    "duration": 31,
    "start_time": "2021-07-07T11:08:38.899Z"
   },
   {
    "duration": 23,
    "start_time": "2021-07-07T11:08:54.527Z"
   },
   {
    "duration": 8,
    "start_time": "2021-07-07T11:18:55.974Z"
   },
   {
    "duration": 7,
    "start_time": "2021-07-07T11:19:03.639Z"
   },
   {
    "duration": 7,
    "start_time": "2021-07-07T11:19:06.444Z"
   },
   {
    "duration": 578,
    "start_time": "2021-07-07T12:09:59.576Z"
   },
   {
    "duration": 195,
    "start_time": "2021-07-07T12:10:00.156Z"
   },
   {
    "duration": 115,
    "start_time": "2021-07-07T12:10:00.353Z"
   },
   {
    "duration": 3,
    "start_time": "2021-07-07T12:10:00.470Z"
   },
   {
    "duration": 32,
    "start_time": "2021-07-07T12:10:00.474Z"
   },
   {
    "duration": 23,
    "start_time": "2021-07-07T12:10:00.508Z"
   },
   {
    "duration": 19,
    "start_time": "2021-07-07T12:10:00.533Z"
   },
   {
    "duration": 44,
    "start_time": "2021-07-07T12:10:00.553Z"
   },
   {
    "duration": 7,
    "start_time": "2021-07-07T12:10:00.600Z"
   },
   {
    "duration": 7,
    "start_time": "2021-07-07T12:19:45.761Z"
   },
   {
    "duration": 21,
    "start_time": "2021-07-07T12:21:35.482Z"
   },
   {
    "duration": 21,
    "start_time": "2021-07-07T12:29:23.569Z"
   },
   {
    "duration": 525,
    "start_time": "2021-07-07T12:29:44.542Z"
   },
   {
    "duration": 214,
    "start_time": "2021-07-07T12:29:45.069Z"
   },
   {
    "duration": 92,
    "start_time": "2021-07-07T12:29:45.285Z"
   },
   {
    "duration": 3,
    "start_time": "2021-07-07T12:29:45.379Z"
   },
   {
    "duration": 28,
    "start_time": "2021-07-07T12:29:45.384Z"
   },
   {
    "duration": 23,
    "start_time": "2021-07-07T12:29:45.413Z"
   },
   {
    "duration": 21,
    "start_time": "2021-07-07T12:29:45.437Z"
   },
   {
    "duration": 41,
    "start_time": "2021-07-07T12:29:45.460Z"
   },
   {
    "duration": 7,
    "start_time": "2021-07-07T12:29:45.502Z"
   },
   {
    "duration": 20,
    "start_time": "2021-07-07T12:29:45.511Z"
   },
   {
    "duration": 12,
    "start_time": "2021-07-07T12:34:02.800Z"
   },
   {
    "duration": 7,
    "start_time": "2021-07-07T12:35:10.479Z"
   },
   {
    "duration": 8,
    "start_time": "2021-07-07T12:35:22.440Z"
   },
   {
    "duration": 6,
    "start_time": "2021-07-07T12:35:35.649Z"
   },
   {
    "duration": 6,
    "start_time": "2021-07-07T12:35:43.107Z"
   },
   {
    "duration": 22,
    "start_time": "2021-07-07T12:38:03.029Z"
   },
   {
    "duration": 10,
    "start_time": "2021-07-07T12:38:06.592Z"
   },
   {
    "duration": 563,
    "start_time": "2021-07-07T12:38:46.493Z"
   },
   {
    "duration": 265,
    "start_time": "2021-07-07T12:38:47.058Z"
   },
   {
    "duration": 94,
    "start_time": "2021-07-07T12:38:47.325Z"
   },
   {
    "duration": 3,
    "start_time": "2021-07-07T12:38:47.422Z"
   },
   {
    "duration": 30,
    "start_time": "2021-07-07T12:38:47.427Z"
   },
   {
    "duration": 16,
    "start_time": "2021-07-07T12:38:53.305Z"
   },
   {
    "duration": 10,
    "start_time": "2021-07-07T12:38:53.499Z"
   },
   {
    "duration": 8,
    "start_time": "2021-07-07T12:39:48.161Z"
   },
   {
    "duration": 27,
    "start_time": "2021-07-07T12:41:17.629Z"
   },
   {
    "duration": 17,
    "start_time": "2021-07-07T12:41:17.867Z"
   },
   {
    "duration": 21,
    "start_time": "2021-07-07T12:41:19.310Z"
   },
   {
    "duration": 7,
    "start_time": "2021-07-07T12:41:19.544Z"
   },
   {
    "duration": 20,
    "start_time": "2021-07-07T12:41:20.504Z"
   },
   {
    "duration": 554,
    "start_time": "2021-07-07T12:56:23.696Z"
   },
   {
    "duration": 200,
    "start_time": "2021-07-07T12:56:25.234Z"
   },
   {
    "duration": 119,
    "start_time": "2021-07-07T12:56:25.480Z"
   },
   {
    "duration": 4,
    "start_time": "2021-07-07T12:56:25.762Z"
   },
   {
    "duration": 26,
    "start_time": "2021-07-07T12:56:27.172Z"
   },
   {
    "duration": 12,
    "start_time": "2021-07-07T12:56:29.051Z"
   },
   {
    "duration": 10,
    "start_time": "2021-07-07T12:56:29.291Z"
   },
   {
    "duration": 8,
    "start_time": "2021-07-07T12:56:29.623Z"
   },
   {
    "duration": 28,
    "start_time": "2021-07-07T12:56:32.137Z"
   },
   {
    "duration": 19,
    "start_time": "2021-07-07T12:56:39.785Z"
   },
   {
    "duration": 20,
    "start_time": "2021-07-07T12:56:44.297Z"
   },
   {
    "duration": 7,
    "start_time": "2021-07-07T12:56:45.392Z"
   },
   {
    "duration": 23,
    "start_time": "2021-07-07T12:56:46.615Z"
   },
   {
    "duration": 4,
    "start_time": "2021-07-07T12:57:06.625Z"
   },
   {
    "duration": 32,
    "start_time": "2021-07-07T12:57:36.690Z"
   },
   {
    "duration": 18,
    "start_time": "2021-07-07T12:58:00.149Z"
   },
   {
    "duration": 15,
    "start_time": "2021-07-07T12:59:16.793Z"
   },
   {
    "duration": 7,
    "start_time": "2021-07-07T13:19:22.624Z"
   },
   {
    "duration": 6,
    "start_time": "2021-07-07T14:17:33.527Z"
   },
   {
    "duration": 9,
    "start_time": "2021-07-07T14:17:48.409Z"
   },
   {
    "duration": 8,
    "start_time": "2021-07-07T14:20:13.060Z"
   },
   {
    "duration": 8,
    "start_time": "2021-07-07T14:20:37.957Z"
   },
   {
    "duration": 8,
    "start_time": "2021-07-07T14:20:47.470Z"
   },
   {
    "duration": 9,
    "start_time": "2021-07-07T14:20:54.503Z"
   },
   {
    "duration": 10,
    "start_time": "2021-07-07T14:28:57.763Z"
   },
   {
    "duration": 3,
    "start_time": "2021-07-07T14:30:23.377Z"
   },
   {
    "duration": 3,
    "start_time": "2021-07-07T14:30:36.489Z"
   },
   {
    "duration": 103,
    "start_time": "2021-07-07T14:30:52.351Z"
   },
   {
    "duration": 8,
    "start_time": "2021-07-07T14:30:54.763Z"
   },
   {
    "duration": 8,
    "start_time": "2021-07-07T14:31:29.301Z"
   },
   {
    "duration": 13,
    "start_time": "2021-07-07T14:31:44.516Z"
   },
   {
    "duration": 7,
    "start_time": "2021-07-07T14:33:10.972Z"
   },
   {
    "duration": 11,
    "start_time": "2021-07-07T14:33:27.780Z"
   },
   {
    "duration": 8,
    "start_time": "2021-07-07T14:34:44.588Z"
   },
   {
    "duration": 57,
    "start_time": "2021-07-07T14:35:59.042Z"
   },
   {
    "duration": 3,
    "start_time": "2021-07-07T14:36:28.168Z"
   },
   {
    "duration": 5,
    "start_time": "2021-07-07T14:36:46.254Z"
   },
   {
    "duration": 4,
    "start_time": "2021-07-07T14:36:52.714Z"
   },
   {
    "duration": 3,
    "start_time": "2021-07-07T14:36:56.612Z"
   },
   {
    "duration": 4,
    "start_time": "2021-07-07T14:36:57.049Z"
   },
   {
    "duration": 3,
    "start_time": "2021-07-07T14:39:21.214Z"
   },
   {
    "duration": 7,
    "start_time": "2021-07-07T14:39:52.406Z"
   },
   {
    "duration": 11,
    "start_time": "2021-07-07T14:39:58.576Z"
   },
   {
    "duration": 9,
    "start_time": "2021-07-07T14:40:26.301Z"
   },
   {
    "duration": 10,
    "start_time": "2021-07-07T14:40:31.704Z"
   },
   {
    "duration": 11,
    "start_time": "2021-07-07T14:40:36.249Z"
   },
   {
    "duration": 10,
    "start_time": "2021-07-07T14:40:39.783Z"
   },
   {
    "duration": 9,
    "start_time": "2021-07-07T14:40:48.558Z"
   },
   {
    "duration": 10,
    "start_time": "2021-07-07T14:40:57.143Z"
   },
   {
    "duration": 9,
    "start_time": "2021-07-07T14:41:06.074Z"
   },
   {
    "duration": 4324,
    "start_time": "2021-07-07T14:41:22.004Z"
   },
   {
    "duration": 11,
    "start_time": "2021-07-07T14:41:33.392Z"
   },
   {
    "duration": 9,
    "start_time": "2021-07-07T14:41:39.288Z"
   },
   {
    "duration": 569,
    "start_time": "2021-07-07T14:42:14.387Z"
   },
   {
    "duration": 197,
    "start_time": "2021-07-07T14:42:14.959Z"
   },
   {
    "duration": 84,
    "start_time": "2021-07-07T14:42:16.052Z"
   },
   {
    "duration": 4,
    "start_time": "2021-07-07T14:42:16.900Z"
   },
   {
    "duration": 27,
    "start_time": "2021-07-07T14:42:19.898Z"
   },
   {
    "duration": 12,
    "start_time": "2021-07-07T14:42:21.577Z"
   },
   {
    "duration": 9,
    "start_time": "2021-07-07T14:42:21.813Z"
   },
   {
    "duration": 9,
    "start_time": "2021-07-07T14:42:22.569Z"
   },
   {
    "duration": 29,
    "start_time": "2021-07-07T14:42:25.837Z"
   },
   {
    "duration": 20,
    "start_time": "2021-07-07T14:42:27.003Z"
   },
   {
    "duration": 21,
    "start_time": "2021-07-07T14:42:28.767Z"
   },
   {
    "duration": 7,
    "start_time": "2021-07-07T14:42:29.838Z"
   },
   {
    "duration": 4,
    "start_time": "2021-07-07T14:43:25.493Z"
   },
   {
    "duration": 7,
    "start_time": "2021-07-07T14:43:26.573Z"
   },
   {
    "duration": 10,
    "start_time": "2021-07-07T14:43:31.639Z"
   },
   {
    "duration": 9,
    "start_time": "2021-07-07T14:43:32.046Z"
   },
   {
    "duration": 10,
    "start_time": "2021-07-07T14:43:33.301Z"
   },
   {
    "duration": 12,
    "start_time": "2021-07-07T14:43:33.658Z"
   },
   {
    "duration": 8,
    "start_time": "2021-07-07T14:43:34.552Z"
   },
   {
    "duration": 9,
    "start_time": "2021-07-07T14:43:35.058Z"
   },
   {
    "duration": 12,
    "start_time": "2021-07-07T14:43:35.914Z"
   },
   {
    "duration": 17,
    "start_time": "2021-07-07T14:45:34.368Z"
   },
   {
    "duration": 512,
    "start_time": "2021-07-07T14:51:58.236Z"
   },
   {
    "duration": 223,
    "start_time": "2021-07-07T14:51:58.750Z"
   },
   {
    "duration": 93,
    "start_time": "2021-07-07T14:51:58.977Z"
   },
   {
    "duration": 4,
    "start_time": "2021-07-07T14:51:59.071Z"
   },
   {
    "duration": 37,
    "start_time": "2021-07-07T14:51:59.077Z"
   },
   {
    "duration": 18,
    "start_time": "2021-07-07T14:51:59.116Z"
   },
   {
    "duration": 10,
    "start_time": "2021-07-07T14:51:59.137Z"
   },
   {
    "duration": 8,
    "start_time": "2021-07-07T14:51:59.149Z"
   },
   {
    "duration": 54,
    "start_time": "2021-07-07T14:51:59.158Z"
   },
   {
    "duration": 18,
    "start_time": "2021-07-07T14:51:59.213Z"
   },
   {
    "duration": 22,
    "start_time": "2021-07-07T14:51:59.232Z"
   },
   {
    "duration": 36,
    "start_time": "2021-07-07T14:51:59.255Z"
   },
   {
    "duration": 7,
    "start_time": "2021-07-07T14:51:59.293Z"
   },
   {
    "duration": 10,
    "start_time": "2021-07-07T14:51:59.302Z"
   },
   {
    "duration": 9,
    "start_time": "2021-07-07T14:51:59.313Z"
   },
   {
    "duration": 11,
    "start_time": "2021-07-07T14:51:59.324Z"
   },
   {
    "duration": 8,
    "start_time": "2021-07-07T14:51:59.337Z"
   },
   {
    "duration": 46,
    "start_time": "2021-07-07T14:51:59.347Z"
   },
   {
    "duration": 22,
    "start_time": "2021-07-07T14:51:59.395Z"
   },
   {
    "duration": 24,
    "start_time": "2021-07-07T14:57:32.911Z"
   },
   {
    "duration": 7,
    "start_time": "2021-07-07T14:58:22.070Z"
   },
   {
    "duration": 4,
    "start_time": "2021-07-07T14:59:11.239Z"
   },
   {
    "duration": 25,
    "start_time": "2021-07-07T15:07:22.208Z"
   },
   {
    "duration": 16,
    "start_time": "2021-07-07T15:08:25.560Z"
   },
   {
    "duration": 15,
    "start_time": "2021-07-07T15:08:40.647Z"
   },
   {
    "duration": 14,
    "start_time": "2021-07-07T15:08:46.669Z"
   },
   {
    "duration": 533,
    "start_time": "2021-07-07T15:18:07.440Z"
   },
   {
    "duration": 173,
    "start_time": "2021-07-07T15:18:07.974Z"
   },
   {
    "duration": 84,
    "start_time": "2021-07-07T15:18:08.149Z"
   },
   {
    "duration": 3,
    "start_time": "2021-07-07T15:18:08.235Z"
   },
   {
    "duration": 30,
    "start_time": "2021-07-07T15:18:08.240Z"
   },
   {
    "duration": 22,
    "start_time": "2021-07-07T15:18:08.272Z"
   },
   {
    "duration": 11,
    "start_time": "2021-07-07T15:18:08.295Z"
   },
   {
    "duration": 11,
    "start_time": "2021-07-07T15:18:08.309Z"
   },
   {
    "duration": 40,
    "start_time": "2021-07-07T15:18:08.322Z"
   },
   {
    "duration": 42,
    "start_time": "2021-07-07T15:18:08.364Z"
   },
   {
    "duration": 22,
    "start_time": "2021-07-07T15:18:08.408Z"
   },
   {
    "duration": 5,
    "start_time": "2021-07-07T15:18:08.432Z"
   },
   {
    "duration": 13,
    "start_time": "2021-07-07T15:18:08.439Z"
   },
   {
    "duration": 9,
    "start_time": "2021-07-07T15:18:08.454Z"
   },
   {
    "duration": 32,
    "start_time": "2021-07-07T15:18:08.465Z"
   },
   {
    "duration": 10,
    "start_time": "2021-07-07T15:18:08.501Z"
   },
   {
    "duration": 7,
    "start_time": "2021-07-07T15:18:08.513Z"
   },
   {
    "duration": 11,
    "start_time": "2021-07-07T15:18:08.521Z"
   },
   {
    "duration": 17,
    "start_time": "2021-07-07T15:18:08.534Z"
   },
   {
    "duration": 44,
    "start_time": "2021-07-07T15:18:08.553Z"
   },
   {
    "duration": 22,
    "start_time": "2021-07-07T15:18:08.599Z"
   },
   {
    "duration": 61,
    "start_time": "2021-07-07T15:18:08.622Z"
   },
   {
    "duration": 7,
    "start_time": "2021-07-07T15:18:39.457Z"
   },
   {
    "duration": 5,
    "start_time": "2021-07-07T16:05:17.020Z"
   },
   {
    "duration": 5,
    "start_time": "2021-07-07T16:51:28.794Z"
   },
   {
    "duration": 546,
    "start_time": "2021-07-07T16:52:26.306Z"
   },
   {
    "duration": 203,
    "start_time": "2021-07-07T16:52:27.523Z"
   },
   {
    "duration": 85,
    "start_time": "2021-07-07T16:52:27.736Z"
   },
   {
    "duration": 4,
    "start_time": "2021-07-07T16:52:27.899Z"
   },
   {
    "duration": 25,
    "start_time": "2021-07-07T16:52:28.674Z"
   },
   {
    "duration": 8,
    "start_time": "2021-07-07T16:52:32.956Z"
   },
   {
    "duration": 18,
    "start_time": "2021-07-07T16:52:35.616Z"
   },
   {
    "duration": 6,
    "start_time": "2021-07-07T16:52:36.913Z"
   },
   {
    "duration": 11,
    "start_time": "2021-07-07T16:52:40.258Z"
   },
   {
    "duration": 10,
    "start_time": "2021-07-07T16:52:46.251Z"
   },
   {
    "duration": 8,
    "start_time": "2021-07-07T16:52:47.182Z"
   },
   {
    "duration": 27,
    "start_time": "2021-07-07T16:53:20.391Z"
   },
   {
    "duration": 20,
    "start_time": "2021-07-07T16:53:22.022Z"
   },
   {
    "duration": 23,
    "start_time": "2021-07-07T16:53:23.690Z"
   },
   {
    "duration": 8,
    "start_time": "2021-07-07T16:53:24.261Z"
   },
   {
    "duration": 4,
    "start_time": "2021-07-07T16:53:38.733Z"
   },
   {
    "duration": 7,
    "start_time": "2021-07-07T16:53:40.445Z"
   },
   {
    "duration": 11,
    "start_time": "2021-07-07T16:53:41.348Z"
   },
   {
    "duration": 13,
    "start_time": "2021-07-07T16:53:45.250Z"
   },
   {
    "duration": 12,
    "start_time": "2021-07-07T16:53:45.467Z"
   },
   {
    "duration": 4,
    "start_time": "2021-07-07T16:55:32.704Z"
   },
   {
    "duration": 12,
    "start_time": "2021-07-07T16:55:49.012Z"
   },
   {
    "duration": 18,
    "start_time": "2021-07-07T16:55:49.547Z"
   },
   {
    "duration": 611,
    "start_time": "2021-07-07T16:58:35.156Z"
   },
   {
    "duration": 200,
    "start_time": "2021-07-07T16:58:35.770Z"
   },
   {
    "duration": 86,
    "start_time": "2021-07-07T16:58:35.972Z"
   },
   {
    "duration": 3,
    "start_time": "2021-07-07T16:58:36.060Z"
   },
   {
    "duration": 27,
    "start_time": "2021-07-07T16:58:36.065Z"
   },
   {
    "duration": 8,
    "start_time": "2021-07-07T16:58:36.094Z"
   },
   {
    "duration": 17,
    "start_time": "2021-07-07T16:58:36.103Z"
   },
   {
    "duration": 5,
    "start_time": "2021-07-07T16:58:36.123Z"
   },
   {
    "duration": 11,
    "start_time": "2021-07-07T16:58:36.130Z"
   },
   {
    "duration": 7,
    "start_time": "2021-07-07T16:58:36.143Z"
   },
   {
    "duration": 37,
    "start_time": "2021-07-07T16:58:36.152Z"
   },
   {
    "duration": 27,
    "start_time": "2021-07-07T16:58:36.191Z"
   },
   {
    "duration": 19,
    "start_time": "2021-07-07T16:58:36.219Z"
   },
   {
    "duration": 49,
    "start_time": "2021-07-07T16:58:36.240Z"
   },
   {
    "duration": 6,
    "start_time": "2021-07-07T16:58:36.291Z"
   },
   {
    "duration": 3,
    "start_time": "2021-07-07T16:58:36.299Z"
   },
   {
    "duration": 13,
    "start_time": "2021-07-07T16:58:36.304Z"
   },
   {
    "duration": 10,
    "start_time": "2021-07-07T16:58:36.319Z"
   },
   {
    "duration": 10,
    "start_time": "2021-07-07T16:58:36.331Z"
   },
   {
    "duration": 44,
    "start_time": "2021-07-07T16:58:36.343Z"
   },
   {
    "duration": 4,
    "start_time": "2021-07-07T16:58:36.388Z"
   },
   {
    "duration": 13,
    "start_time": "2021-07-07T16:58:36.394Z"
   },
   {
    "duration": 16,
    "start_time": "2021-07-07T16:58:36.410Z"
   },
   {
    "duration": 8,
    "start_time": "2021-07-07T17:02:31.629Z"
   },
   {
    "duration": 8,
    "start_time": "2021-07-07T17:02:34.308Z"
   },
   {
    "duration": 6,
    "start_time": "2021-07-07T17:05:13.483Z"
   },
   {
    "duration": 17,
    "start_time": "2021-07-07T17:05:20.606Z"
   },
   {
    "duration": 7,
    "start_time": "2021-07-07T17:05:34.638Z"
   },
   {
    "duration": 3,
    "start_time": "2021-07-07T17:06:31.883Z"
   },
   {
    "duration": 570,
    "start_time": "2021-07-07T17:06:37.165Z"
   },
   {
    "duration": 174,
    "start_time": "2021-07-07T17:06:37.737Z"
   },
   {
    "duration": 47,
    "start_time": "2021-07-07T17:06:37.913Z"
   },
   {
    "duration": 3,
    "start_time": "2021-07-07T17:06:37.962Z"
   },
   {
    "duration": 27,
    "start_time": "2021-07-07T17:06:37.967Z"
   },
   {
    "duration": 7,
    "start_time": "2021-07-07T17:06:37.996Z"
   },
   {
    "duration": 16,
    "start_time": "2021-07-07T17:06:38.005Z"
   },
   {
    "duration": 6,
    "start_time": "2021-07-07T17:06:38.024Z"
   },
   {
    "duration": 12,
    "start_time": "2021-07-07T17:06:38.031Z"
   },
   {
    "duration": 41,
    "start_time": "2021-07-07T17:06:38.045Z"
   },
   {
    "duration": 8,
    "start_time": "2021-07-07T17:06:38.088Z"
   },
   {
    "duration": 26,
    "start_time": "2021-07-07T17:06:38.098Z"
   },
   {
    "duration": 17,
    "start_time": "2021-07-07T17:06:38.126Z"
   },
   {
    "duration": 43,
    "start_time": "2021-07-07T17:06:38.144Z"
   },
   {
    "duration": 6,
    "start_time": "2021-07-07T17:06:38.188Z"
   },
   {
    "duration": 5,
    "start_time": "2021-07-07T17:06:38.195Z"
   },
   {
    "duration": 9,
    "start_time": "2021-07-07T17:06:38.201Z"
   },
   {
    "duration": 12,
    "start_time": "2021-07-07T17:06:38.212Z"
   },
   {
    "duration": 11,
    "start_time": "2021-07-07T17:06:38.226Z"
   },
   {
    "duration": 47,
    "start_time": "2021-07-07T17:06:38.239Z"
   },
   {
    "duration": 4,
    "start_time": "2021-07-07T17:06:38.288Z"
   },
   {
    "duration": 13,
    "start_time": "2021-07-07T17:06:38.293Z"
   },
   {
    "duration": 5,
    "start_time": "2021-07-07T17:06:38.309Z"
   },
   {
    "duration": 18,
    "start_time": "2021-07-07T17:06:38.325Z"
   },
   {
    "duration": 20,
    "start_time": "2021-07-07T17:07:02.805Z"
   },
   {
    "duration": 19,
    "start_time": "2021-07-07T17:07:08.527Z"
   },
   {
    "duration": 19,
    "start_time": "2021-07-07T17:07:12.758Z"
   },
   {
    "duration": 22,
    "start_time": "2021-07-07T17:07:17.497Z"
   },
   {
    "duration": 19,
    "start_time": "2021-07-07T17:07:19.645Z"
   },
   {
    "duration": 10,
    "start_time": "2021-07-07T17:07:34.239Z"
   },
   {
    "duration": 17,
    "start_time": "2021-07-07T17:07:54.144Z"
   },
   {
    "duration": 14,
    "start_time": "2021-07-07T17:08:14.357Z"
   },
   {
    "duration": 616,
    "start_time": "2021-07-07T17:08:45.254Z"
   },
   {
    "duration": 178,
    "start_time": "2021-07-07T17:08:45.872Z"
   },
   {
    "duration": 60,
    "start_time": "2021-07-07T17:08:46.054Z"
   },
   {
    "duration": 3,
    "start_time": "2021-07-07T17:08:46.116Z"
   },
   {
    "duration": 26,
    "start_time": "2021-07-07T17:08:46.121Z"
   },
   {
    "duration": 7,
    "start_time": "2021-07-07T17:08:46.149Z"
   },
   {
    "duration": 17,
    "start_time": "2021-07-07T17:08:46.158Z"
   },
   {
    "duration": 14,
    "start_time": "2021-07-07T17:08:46.176Z"
   },
   {
    "duration": 17,
    "start_time": "2021-07-07T17:08:46.193Z"
   },
   {
    "duration": 9,
    "start_time": "2021-07-07T17:08:46.211Z"
   },
   {
    "duration": 21,
    "start_time": "2021-07-07T17:08:46.221Z"
   },
   {
    "duration": 49,
    "start_time": "2021-07-07T17:08:46.244Z"
   },
   {
    "duration": 24,
    "start_time": "2021-07-07T17:08:46.295Z"
   },
   {
    "duration": 22,
    "start_time": "2021-07-07T17:08:46.321Z"
   },
   {
    "duration": 6,
    "start_time": "2021-07-07T17:08:46.345Z"
   },
   {
    "duration": 5,
    "start_time": "2021-07-07T17:08:46.353Z"
   },
   {
    "duration": 13,
    "start_time": "2021-07-07T17:08:46.386Z"
   },
   {
    "duration": 12,
    "start_time": "2021-07-07T17:08:46.402Z"
   },
   {
    "duration": 10,
    "start_time": "2021-07-07T17:08:46.415Z"
   },
   {
    "duration": 7,
    "start_time": "2021-07-07T17:08:46.427Z"
   },
   {
    "duration": 8,
    "start_time": "2021-07-07T17:08:46.435Z"
   },
   {
    "duration": 68,
    "start_time": "2021-07-07T17:08:46.446Z"
   },
   {
    "duration": 13,
    "start_time": "2021-07-07T17:08:46.516Z"
   },
   {
    "duration": 78,
    "start_time": "2021-07-07T17:08:46.530Z"
   },
   {
    "duration": 40,
    "start_time": "2021-07-07T17:09:08.185Z"
   },
   {
    "duration": 16,
    "start_time": "2021-07-07T17:09:19.324Z"
   },
   {
    "duration": 21,
    "start_time": "2021-07-07T17:09:23.290Z"
   },
   {
    "duration": 13,
    "start_time": "2021-07-07T17:09:54.812Z"
   },
   {
    "duration": 13,
    "start_time": "2021-07-07T17:10:02.039Z"
   },
   {
    "duration": 10,
    "start_time": "2021-07-07T17:10:29.632Z"
   },
   {
    "duration": 13,
    "start_time": "2021-07-07T17:10:52.372Z"
   },
   {
    "duration": 13,
    "start_time": "2021-07-07T17:11:17.270Z"
   },
   {
    "duration": 13,
    "start_time": "2021-07-07T17:14:59.284Z"
   },
   {
    "duration": 547,
    "start_time": "2021-07-07T17:18:52.403Z"
   },
   {
    "duration": 163,
    "start_time": "2021-07-07T17:18:52.952Z"
   },
   {
    "duration": 44,
    "start_time": "2021-07-07T17:18:53.117Z"
   },
   {
    "duration": 3,
    "start_time": "2021-07-07T17:18:53.162Z"
   },
   {
    "duration": 26,
    "start_time": "2021-07-07T17:18:53.167Z"
   },
   {
    "duration": 6,
    "start_time": "2021-07-07T17:18:53.195Z"
   },
   {
    "duration": 15,
    "start_time": "2021-07-07T17:18:53.203Z"
   },
   {
    "duration": 5,
    "start_time": "2021-07-07T17:18:53.220Z"
   },
   {
    "duration": 11,
    "start_time": "2021-07-07T17:18:53.228Z"
   },
   {
    "duration": 9,
    "start_time": "2021-07-07T17:18:53.241Z"
   },
   {
    "duration": 41,
    "start_time": "2021-07-07T17:18:53.252Z"
   },
   {
    "duration": 33,
    "start_time": "2021-07-07T17:18:53.295Z"
   },
   {
    "duration": 19,
    "start_time": "2021-07-07T17:18:53.330Z"
   },
   {
    "duration": 49,
    "start_time": "2021-07-07T17:18:53.350Z"
   },
   {
    "duration": 5,
    "start_time": "2021-07-07T17:18:53.401Z"
   },
   {
    "duration": 5,
    "start_time": "2021-07-07T17:18:53.408Z"
   },
   {
    "duration": 11,
    "start_time": "2021-07-07T17:18:53.414Z"
   },
   {
    "duration": 9,
    "start_time": "2021-07-07T17:18:53.427Z"
   },
   {
    "duration": 10,
    "start_time": "2021-07-07T17:18:53.437Z"
   },
   {
    "duration": 39,
    "start_time": "2021-07-07T17:18:53.448Z"
   },
   {
    "duration": 26,
    "start_time": "2021-07-07T17:18:55.799Z"
   },
   {
    "duration": 598,
    "start_time": "2021-07-07T17:20:17.862Z"
   },
   {
    "duration": 161,
    "start_time": "2021-07-07T17:20:18.462Z"
   },
   {
    "duration": 45,
    "start_time": "2021-07-07T17:20:18.626Z"
   },
   {
    "duration": 4,
    "start_time": "2021-07-07T17:20:18.673Z"
   },
   {
    "duration": 38,
    "start_time": "2021-07-07T17:20:26.877Z"
   },
   {
    "duration": 7,
    "start_time": "2021-07-07T17:20:37.405Z"
   },
   {
    "duration": 19,
    "start_time": "2021-07-07T17:20:51.534Z"
   },
   {
    "duration": 5,
    "start_time": "2021-07-07T17:20:57.228Z"
   },
   {
    "duration": 7,
    "start_time": "2021-07-07T17:21:08.235Z"
   },
   {
    "duration": 19,
    "start_time": "2021-07-07T17:21:42.158Z"
   },
   {
    "duration": 14,
    "start_time": "2021-07-07T17:21:50.225Z"
   },
   {
    "duration": 22,
    "start_time": "2021-07-07T17:22:54.104Z"
   },
   {
    "duration": 5,
    "start_time": "2021-07-07T17:22:56.371Z"
   },
   {
    "duration": 14,
    "start_time": "2021-07-07T17:22:58.316Z"
   },
   {
    "duration": 5,
    "start_time": "2021-07-07T17:22:58.493Z"
   },
   {
    "duration": 35,
    "start_time": "2021-07-07T17:22:59.666Z"
   },
   {
    "duration": 6,
    "start_time": "2021-07-07T17:23:02.410Z"
   },
   {
    "duration": 611,
    "start_time": "2021-07-07T17:24:59.664Z"
   },
   {
    "duration": 178,
    "start_time": "2021-07-07T17:25:01.945Z"
   },
   {
    "duration": 47,
    "start_time": "2021-07-07T17:25:02.125Z"
   },
   {
    "duration": 2,
    "start_time": "2021-07-07T17:25:07.903Z"
   },
   {
    "duration": 254,
    "start_time": "2021-07-07T17:25:08.232Z"
   },
   {
    "duration": 182,
    "start_time": "2021-07-07T17:25:08.671Z"
   },
   {
    "duration": 6,
    "start_time": "2021-07-07T17:25:13.104Z"
   },
   {
    "duration": 36,
    "start_time": "2021-07-07T17:25:13.662Z"
   },
   {
    "duration": 7,
    "start_time": "2021-07-07T17:25:14.528Z"
   },
   {
    "duration": 24,
    "start_time": "2021-07-07T17:25:27.982Z"
   },
   {
    "duration": 3,
    "start_time": "2021-07-07T17:25:48.982Z"
   },
   {
    "duration": 165,
    "start_time": "2021-07-07T17:25:48.987Z"
   },
   {
    "duration": 50,
    "start_time": "2021-07-07T17:25:49.154Z"
   },
   {
    "duration": 4,
    "start_time": "2021-07-07T17:25:49.206Z"
   },
   {
    "duration": 26,
    "start_time": "2021-07-07T17:25:49.212Z"
   },
   {
    "duration": 7,
    "start_time": "2021-07-07T17:25:49.240Z"
   },
   {
    "duration": 16,
    "start_time": "2021-07-07T17:25:49.249Z"
   },
   {
    "duration": 22,
    "start_time": "2021-07-07T17:25:49.266Z"
   },
   {
    "duration": 16,
    "start_time": "2021-07-07T17:25:49.291Z"
   },
   {
    "duration": 9,
    "start_time": "2021-07-07T17:25:49.309Z"
   },
   {
    "duration": 7,
    "start_time": "2021-07-07T17:25:49.319Z"
   },
   {
    "duration": 28,
    "start_time": "2021-07-07T17:25:49.328Z"
   },
   {
    "duration": 44,
    "start_time": "2021-07-07T17:25:49.357Z"
   },
   {
    "duration": 22,
    "start_time": "2021-07-07T17:25:49.403Z"
   },
   {
    "duration": 7,
    "start_time": "2021-07-07T17:25:49.427Z"
   },
   {
    "duration": 3,
    "start_time": "2021-07-07T17:25:49.436Z"
   },
   {
    "duration": 44,
    "start_time": "2021-07-07T17:25:49.441Z"
   },
   {
    "duration": 12,
    "start_time": "2021-07-07T17:25:49.488Z"
   },
   {
    "duration": 13,
    "start_time": "2021-07-07T17:25:49.502Z"
   },
   {
    "duration": 10,
    "start_time": "2021-07-07T17:25:49.516Z"
   },
   {
    "duration": 62,
    "start_time": "2021-07-07T17:25:49.527Z"
   },
   {
    "duration": 26,
    "start_time": "2021-07-07T17:26:51.809Z"
   },
   {
    "duration": 26,
    "start_time": "2021-07-07T17:26:55.759Z"
   },
   {
    "duration": 26,
    "start_time": "2021-07-07T17:27:04.501Z"
   },
   {
    "duration": 25,
    "start_time": "2021-07-07T17:28:24.859Z"
   },
   {
    "duration": 21,
    "start_time": "2021-07-07T17:28:55.250Z"
   },
   {
    "duration": 21,
    "start_time": "2021-07-07T17:28:58.885Z"
   },
   {
    "duration": 7,
    "start_time": "2021-07-07T17:45:40.972Z"
   },
   {
    "duration": 13,
    "start_time": "2021-07-07T17:45:42.529Z"
   },
   {
    "duration": 27,
    "start_time": "2021-07-07T17:45:51.026Z"
   },
   {
    "duration": 518,
    "start_time": "2021-07-07T17:46:15.532Z"
   },
   {
    "duration": 235,
    "start_time": "2021-07-07T17:46:16.053Z"
   },
   {
    "duration": 80,
    "start_time": "2021-07-07T17:46:16.292Z"
   },
   {
    "duration": 5,
    "start_time": "2021-07-07T17:46:16.373Z"
   },
   {
    "duration": 26,
    "start_time": "2021-07-07T17:46:16.380Z"
   },
   {
    "duration": 7,
    "start_time": "2021-07-07T17:46:16.408Z"
   },
   {
    "duration": 16,
    "start_time": "2021-07-07T17:46:16.418Z"
   },
   {
    "duration": 5,
    "start_time": "2021-07-07T17:46:16.436Z"
   },
   {
    "duration": 13,
    "start_time": "2021-07-07T17:46:16.442Z"
   },
   {
    "duration": 35,
    "start_time": "2021-07-07T17:46:16.456Z"
   },
   {
    "duration": 8,
    "start_time": "2021-07-07T17:46:16.493Z"
   },
   {
    "duration": 28,
    "start_time": "2021-07-07T17:46:16.502Z"
   },
   {
    "duration": 17,
    "start_time": "2021-07-07T17:46:16.532Z"
   },
   {
    "duration": 44,
    "start_time": "2021-07-07T17:46:16.551Z"
   },
   {
    "duration": 6,
    "start_time": "2021-07-07T17:46:16.597Z"
   },
   {
    "duration": 4,
    "start_time": "2021-07-07T17:46:16.605Z"
   },
   {
    "duration": 9,
    "start_time": "2021-07-07T17:46:16.610Z"
   },
   {
    "duration": 9,
    "start_time": "2021-07-07T17:46:16.621Z"
   },
   {
    "duration": 10,
    "start_time": "2021-07-07T17:46:16.632Z"
   },
   {
    "duration": 43,
    "start_time": "2021-07-07T17:46:16.644Z"
   },
   {
    "duration": 26,
    "start_time": "2021-07-07T17:46:16.689Z"
   },
   {
    "duration": 19,
    "start_time": "2021-07-07T17:46:16.718Z"
   },
   {
    "duration": 8,
    "start_time": "2021-07-07T17:46:16.738Z"
   },
   {
    "duration": 43,
    "start_time": "2021-07-07T17:46:16.747Z"
   },
   {
    "duration": 19,
    "start_time": "2021-07-07T17:46:16.791Z"
   },
   {
    "duration": 9,
    "start_time": "2021-07-07T17:46:16.812Z"
   },
   {
    "duration": 60,
    "start_time": "2021-07-07T17:46:16.822Z"
   },
   {
    "duration": -8,
    "start_time": "2021-07-07T17:46:16.892Z"
   },
   {
    "duration": 12,
    "start_time": "2021-07-07T17:48:47.707Z"
   },
   {
    "duration": 553,
    "start_time": "2021-07-07T18:10:09.350Z"
   },
   {
    "duration": 230,
    "start_time": "2021-07-07T18:10:09.905Z"
   },
   {
    "duration": 97,
    "start_time": "2021-07-07T18:10:10.137Z"
   },
   {
    "duration": 5,
    "start_time": "2021-07-07T18:10:10.236Z"
   },
   {
    "duration": 29,
    "start_time": "2021-07-07T18:10:10.242Z"
   },
   {
    "duration": 7,
    "start_time": "2021-07-07T18:10:10.272Z"
   },
   {
    "duration": 15,
    "start_time": "2021-07-07T18:10:10.281Z"
   },
   {
    "duration": 4,
    "start_time": "2021-07-07T18:10:10.299Z"
   },
   {
    "duration": 14,
    "start_time": "2021-07-07T18:10:10.305Z"
   },
   {
    "duration": 8,
    "start_time": "2021-07-07T18:10:10.321Z"
   },
   {
    "duration": 8,
    "start_time": "2021-07-07T18:10:10.331Z"
   },
   {
    "duration": 56,
    "start_time": "2021-07-07T18:10:10.341Z"
   },
   {
    "duration": 19,
    "start_time": "2021-07-07T18:10:10.399Z"
   },
   {
    "duration": 23,
    "start_time": "2021-07-07T18:10:10.419Z"
   },
   {
    "duration": 6,
    "start_time": "2021-07-07T18:10:10.444Z"
   },
   {
    "duration": 9,
    "start_time": "2021-07-07T18:10:10.451Z"
   },
   {
    "duration": 30,
    "start_time": "2021-07-07T18:10:10.462Z"
   },
   {
    "duration": 9,
    "start_time": "2021-07-07T18:10:10.494Z"
   },
   {
    "duration": 14,
    "start_time": "2021-07-07T18:10:10.505Z"
   },
   {
    "duration": 7,
    "start_time": "2021-07-07T18:10:10.521Z"
   },
   {
    "duration": 26,
    "start_time": "2021-07-07T18:10:10.530Z"
   },
   {
    "duration": 44,
    "start_time": "2021-07-07T18:10:10.558Z"
   },
   {
    "duration": 7,
    "start_time": "2021-07-07T18:10:10.605Z"
   },
   {
    "duration": 11,
    "start_time": "2021-07-07T18:10:10.614Z"
   },
   {
    "duration": 19,
    "start_time": "2021-07-07T18:10:10.626Z"
   },
   {
    "duration": 44,
    "start_time": "2021-07-07T18:10:10.646Z"
   },
   {
    "duration": 516,
    "start_time": "2021-07-07T18:14:00.826Z"
   },
   {
    "duration": 230,
    "start_time": "2021-07-07T18:14:01.344Z"
   },
   {
    "duration": 105,
    "start_time": "2021-07-07T18:14:01.576Z"
   },
   {
    "duration": 5,
    "start_time": "2021-07-07T18:14:01.683Z"
   },
   {
    "duration": 46,
    "start_time": "2021-07-07T18:14:01.690Z"
   },
   {
    "duration": 7,
    "start_time": "2021-07-07T18:14:01.738Z"
   },
   {
    "duration": 20,
    "start_time": "2021-07-07T18:14:01.747Z"
   },
   {
    "duration": 16,
    "start_time": "2021-07-07T18:14:01.769Z"
   },
   {
    "duration": 14,
    "start_time": "2021-07-07T18:14:01.787Z"
   },
   {
    "duration": 15,
    "start_time": "2021-07-07T18:14:01.803Z"
   },
   {
    "duration": 12,
    "start_time": "2021-07-07T18:14:01.820Z"
   },
   {
    "duration": 35,
    "start_time": "2021-07-07T18:14:01.833Z"
   },
   {
    "duration": 31,
    "start_time": "2021-07-07T18:14:01.869Z"
   },
   {
    "duration": 37,
    "start_time": "2021-07-07T18:14:01.902Z"
   },
   {
    "duration": 8,
    "start_time": "2021-07-07T18:14:01.942Z"
   },
   {
    "duration": 16,
    "start_time": "2021-07-07T18:14:01.952Z"
   },
   {
    "duration": 13,
    "start_time": "2021-07-07T18:14:01.970Z"
   },
   {
    "duration": 32,
    "start_time": "2021-07-07T18:14:01.985Z"
   },
   {
    "duration": 11,
    "start_time": "2021-07-07T18:14:02.019Z"
   },
   {
    "duration": 22,
    "start_time": "2021-07-07T18:14:02.031Z"
   },
   {
    "duration": 27,
    "start_time": "2021-07-07T18:14:02.055Z"
   },
   {
    "duration": 18,
    "start_time": "2021-07-07T18:14:02.084Z"
   },
   {
    "duration": 18,
    "start_time": "2021-07-07T18:14:02.106Z"
   },
   {
    "duration": 11,
    "start_time": "2021-07-07T18:14:02.126Z"
   },
   {
    "duration": 21,
    "start_time": "2021-07-07T18:14:02.138Z"
   },
   {
    "duration": 32,
    "start_time": "2021-07-07T18:14:02.161Z"
   },
   {
    "duration": 28,
    "start_time": "2021-07-07T18:14:44.295Z"
   },
   {
    "duration": 6,
    "start_time": "2021-07-07T18:15:05.834Z"
   },
   {
    "duration": 511,
    "start_time": "2021-07-07T18:15:41.541Z"
   },
   {
    "duration": 183,
    "start_time": "2021-07-07T18:15:42.054Z"
   },
   {
    "duration": 50,
    "start_time": "2021-07-07T18:15:42.239Z"
   },
   {
    "duration": 5,
    "start_time": "2021-07-07T18:15:42.291Z"
   },
   {
    "duration": 48,
    "start_time": "2021-07-07T18:15:42.297Z"
   },
   {
    "duration": 8,
    "start_time": "2021-07-07T18:15:42.346Z"
   },
   {
    "duration": 17,
    "start_time": "2021-07-07T18:15:42.356Z"
   },
   {
    "duration": 15,
    "start_time": "2021-07-07T18:15:42.375Z"
   },
   {
    "duration": 12,
    "start_time": "2021-07-07T18:15:42.392Z"
   },
   {
    "duration": 7,
    "start_time": "2021-07-07T18:15:42.406Z"
   },
   {
    "duration": 7,
    "start_time": "2021-07-07T18:15:42.415Z"
   },
   {
    "duration": 29,
    "start_time": "2021-07-07T18:15:42.423Z"
   },
   {
    "duration": 43,
    "start_time": "2021-07-07T18:15:42.453Z"
   },
   {
    "duration": 18,
    "start_time": "2021-07-07T18:15:42.497Z"
   },
   {
    "duration": 6,
    "start_time": "2021-07-07T18:15:42.516Z"
   },
   {
    "duration": 3,
    "start_time": "2021-07-07T18:15:42.523Z"
   },
   {
    "duration": 18,
    "start_time": "2021-07-07T18:15:42.528Z"
   },
   {
    "duration": 10,
    "start_time": "2021-07-07T18:15:42.547Z"
   },
   {
    "duration": 36,
    "start_time": "2021-07-07T18:15:42.559Z"
   },
   {
    "duration": 8,
    "start_time": "2021-07-07T18:15:42.597Z"
   },
   {
    "duration": 28,
    "start_time": "2021-07-07T18:15:42.606Z"
   },
   {
    "duration": 52,
    "start_time": "2021-07-07T18:15:42.635Z"
   },
   {
    "duration": 7,
    "start_time": "2021-07-07T18:15:42.690Z"
   },
   {
    "duration": 10,
    "start_time": "2021-07-07T18:15:42.699Z"
   },
   {
    "duration": 19,
    "start_time": "2021-07-07T18:15:42.711Z"
   },
   {
    "duration": 9,
    "start_time": "2021-07-07T18:15:42.732Z"
   },
   {
    "duration": 5,
    "start_time": "2021-07-07T18:15:42.743Z"
   },
   {
    "duration": 1450,
    "start_time": "2021-07-07T18:15:51.984Z"
   },
   {
    "duration": 161,
    "start_time": "2021-07-07T18:15:53.435Z"
   },
   {
    "duration": 124,
    "start_time": "2021-07-07T18:15:53.598Z"
   },
   {
    "duration": 5,
    "start_time": "2021-07-07T18:15:53.724Z"
   },
   {
    "duration": 34,
    "start_time": "2021-07-07T18:15:53.730Z"
   },
   {
    "duration": 7,
    "start_time": "2021-07-07T18:15:53.765Z"
   },
   {
    "duration": 15,
    "start_time": "2021-07-07T18:15:53.773Z"
   },
   {
    "duration": 5,
    "start_time": "2021-07-07T18:15:53.791Z"
   },
   {
    "duration": 19,
    "start_time": "2021-07-07T18:15:53.798Z"
   },
   {
    "duration": 9,
    "start_time": "2021-07-07T18:15:53.818Z"
   },
   {
    "duration": 19,
    "start_time": "2021-07-07T18:15:53.828Z"
   },
   {
    "duration": 27,
    "start_time": "2021-07-07T18:15:53.848Z"
   },
   {
    "duration": 16,
    "start_time": "2021-07-07T18:15:53.884Z"
   },
   {
    "duration": 29,
    "start_time": "2021-07-07T18:15:53.901Z"
   },
   {
    "duration": 5,
    "start_time": "2021-07-07T18:15:53.932Z"
   },
   {
    "duration": 15,
    "start_time": "2021-07-07T18:15:53.939Z"
   },
   {
    "duration": 13,
    "start_time": "2021-07-07T18:15:53.956Z"
   },
   {
    "duration": 20,
    "start_time": "2021-07-07T18:15:53.971Z"
   },
   {
    "duration": 14,
    "start_time": "2021-07-07T18:15:53.992Z"
   },
   {
    "duration": 9,
    "start_time": "2021-07-07T18:15:54.009Z"
   },
   {
    "duration": 28,
    "start_time": "2021-07-07T18:15:54.020Z"
   },
   {
    "duration": 50,
    "start_time": "2021-07-07T18:15:54.051Z"
   },
   {
    "duration": 8,
    "start_time": "2021-07-07T18:15:54.105Z"
   },
   {
    "duration": 11,
    "start_time": "2021-07-07T18:15:54.115Z"
   },
   {
    "duration": 20,
    "start_time": "2021-07-07T18:15:54.128Z"
   },
   {
    "duration": 13,
    "start_time": "2021-07-07T18:15:54.184Z"
   },
   {
    "duration": 7,
    "start_time": "2021-07-07T18:15:54.199Z"
   },
   {
    "duration": 7,
    "start_time": "2021-07-07T18:17:08.042Z"
   },
   {
    "duration": 8,
    "start_time": "2021-07-07T18:17:21.008Z"
   },
   {
    "duration": 7,
    "start_time": "2021-07-07T18:17:29.003Z"
   },
   {
    "duration": 8,
    "start_time": "2021-07-07T18:17:32.492Z"
   },
   {
    "duration": 9,
    "start_time": "2021-07-07T18:17:41.758Z"
   },
   {
    "duration": 255,
    "start_time": "2021-07-07T18:20:20.897Z"
   },
   {
    "duration": 173,
    "start_time": "2021-07-07T18:20:26.636Z"
   },
   {
    "duration": 7,
    "start_time": "2021-07-07T18:21:47.164Z"
   },
   {
    "duration": 254,
    "start_time": "2021-07-07T18:23:08.703Z"
   },
   {
    "duration": 21,
    "start_time": "2021-07-07T18:23:22.506Z"
   },
   {
    "duration": 315,
    "start_time": "2021-07-07T18:25:54.801Z"
   },
   {
    "duration": 34,
    "start_time": "2021-07-07T18:26:51.817Z"
   },
   {
    "duration": 327,
    "start_time": "2021-07-07T18:26:56.147Z"
   },
   {
    "duration": 342,
    "start_time": "2021-07-07T18:27:15.887Z"
   },
   {
    "duration": 302,
    "start_time": "2021-07-07T18:28:18.569Z"
   },
   {
    "duration": 226,
    "start_time": "2021-07-07T18:29:20.879Z"
   },
   {
    "duration": 207,
    "start_time": "2021-07-07T18:29:58.114Z"
   },
   {
    "duration": 140,
    "start_time": "2021-07-07T18:32:04.372Z"
   },
   {
    "duration": 158,
    "start_time": "2021-07-07T18:32:32.508Z"
   },
   {
    "duration": 145,
    "start_time": "2021-07-07T18:32:41.365Z"
   },
   {
    "duration": 132,
    "start_time": "2021-07-07T18:32:45.199Z"
   },
   {
    "duration": 11,
    "start_time": "2021-07-07T18:35:24.679Z"
   },
   {
    "duration": 268,
    "start_time": "2021-07-07T18:36:16.145Z"
   },
   {
    "duration": 227,
    "start_time": "2021-07-07T18:37:04.918Z"
   },
   {
    "duration": 3,
    "start_time": "2021-07-07T18:37:33.012Z"
   },
   {
    "duration": 671,
    "start_time": "2021-07-07T18:37:38.295Z"
   },
   {
    "duration": 54,
    "start_time": "2021-07-07T18:37:53.406Z"
   },
   {
    "duration": 631,
    "start_time": "2021-07-07T18:37:56.463Z"
   },
   {
    "duration": 19,
    "start_time": "2021-07-07T18:39:40.535Z"
   },
   {
    "duration": 20,
    "start_time": "2021-07-07T18:40:12.236Z"
   },
   {
    "duration": 633,
    "start_time": "2021-07-07T18:42:00.398Z"
   },
   {
    "duration": 218,
    "start_time": "2021-07-07T18:42:01.033Z"
   },
   {
    "duration": 49,
    "start_time": "2021-07-07T18:42:01.253Z"
   },
   {
    "duration": 5,
    "start_time": "2021-07-07T18:42:01.303Z"
   },
   {
    "duration": 27,
    "start_time": "2021-07-07T18:42:01.310Z"
   },
   {
    "duration": 8,
    "start_time": "2021-07-07T18:42:01.339Z"
   },
   {
    "duration": 20,
    "start_time": "2021-07-07T18:42:01.348Z"
   },
   {
    "duration": 6,
    "start_time": "2021-07-07T18:42:01.386Z"
   },
   {
    "duration": 16,
    "start_time": "2021-07-07T18:42:01.394Z"
   },
   {
    "duration": 9,
    "start_time": "2021-07-07T18:42:01.411Z"
   },
   {
    "duration": 11,
    "start_time": "2021-07-07T18:42:01.421Z"
   },
   {
    "duration": 31,
    "start_time": "2021-07-07T18:42:01.434Z"
   },
   {
    "duration": 18,
    "start_time": "2021-07-07T18:42:01.485Z"
   },
   {
    "duration": 23,
    "start_time": "2021-07-07T18:42:01.505Z"
   },
   {
    "duration": 6,
    "start_time": "2021-07-07T18:42:01.530Z"
   },
   {
    "duration": 10,
    "start_time": "2021-07-07T18:42:01.538Z"
   },
   {
    "duration": 13,
    "start_time": "2021-07-07T18:42:01.550Z"
   },
   {
    "duration": 24,
    "start_time": "2021-07-07T18:42:01.564Z"
   },
   {
    "duration": 20,
    "start_time": "2021-07-07T18:42:01.590Z"
   },
   {
    "duration": 8,
    "start_time": "2021-07-07T18:42:01.611Z"
   },
   {
    "duration": 31,
    "start_time": "2021-07-07T18:42:01.620Z"
   },
   {
    "duration": 39,
    "start_time": "2021-07-07T18:42:01.653Z"
   },
   {
    "duration": 8,
    "start_time": "2021-07-07T18:42:01.696Z"
   },
   {
    "duration": 13,
    "start_time": "2021-07-07T18:42:01.705Z"
   },
   {
    "duration": 20,
    "start_time": "2021-07-07T18:42:01.720Z"
   },
   {
    "duration": 12,
    "start_time": "2021-07-07T18:42:01.741Z"
   },
   {
    "duration": 35,
    "start_time": "2021-07-07T18:42:01.755Z"
   },
   {
    "duration": 14,
    "start_time": "2021-07-07T18:42:01.792Z"
   },
   {
    "duration": 188,
    "start_time": "2021-07-07T18:42:01.808Z"
   },
   {
    "duration": 19,
    "start_time": "2021-07-07T18:42:01.998Z"
   },
   {
    "duration": 175,
    "start_time": "2021-07-07T18:42:02.019Z"
   },
   {
    "duration": 134,
    "start_time": "2021-07-07T18:42:02.196Z"
   },
   {
    "duration": 10,
    "start_time": "2021-07-07T18:42:02.331Z"
   },
   {
    "duration": 19,
    "start_time": "2021-07-07T18:42:02.343Z"
   },
   {
    "duration": 628,
    "start_time": "2021-07-07T18:46:30.701Z"
   },
   {
    "duration": 183,
    "start_time": "2021-07-07T18:46:31.331Z"
   },
   {
    "duration": 48,
    "start_time": "2021-07-07T18:46:31.516Z"
   },
   {
    "duration": 5,
    "start_time": "2021-07-07T18:46:31.566Z"
   },
   {
    "duration": 28,
    "start_time": "2021-07-07T18:46:31.572Z"
   },
   {
    "duration": 8,
    "start_time": "2021-07-07T18:46:31.602Z"
   },
   {
    "duration": 19,
    "start_time": "2021-07-07T18:46:31.611Z"
   },
   {
    "duration": 6,
    "start_time": "2021-07-07T18:46:31.633Z"
   },
   {
    "duration": 17,
    "start_time": "2021-07-07T18:46:31.642Z"
   },
   {
    "duration": 10,
    "start_time": "2021-07-07T18:46:31.684Z"
   },
   {
    "duration": 9,
    "start_time": "2021-07-07T18:46:31.695Z"
   },
   {
    "duration": 28,
    "start_time": "2021-07-07T18:46:31.705Z"
   },
   {
    "duration": 18,
    "start_time": "2021-07-07T18:46:31.735Z"
   },
   {
    "duration": 48,
    "start_time": "2021-07-07T18:46:31.755Z"
   },
   {
    "duration": 6,
    "start_time": "2021-07-07T18:46:31.804Z"
   },
   {
    "duration": 4,
    "start_time": "2021-07-07T18:46:31.812Z"
   },
   {
    "duration": 9,
    "start_time": "2021-07-07T18:46:31.817Z"
   },
   {
    "duration": 10,
    "start_time": "2021-07-07T18:46:31.827Z"
   },
   {
    "duration": 12,
    "start_time": "2021-07-07T18:46:31.838Z"
   },
   {
    "duration": 39,
    "start_time": "2021-07-07T18:46:31.851Z"
   },
   {
    "duration": 24,
    "start_time": "2021-07-07T18:46:31.892Z"
   },
   {
    "duration": 15,
    "start_time": "2021-07-07T18:46:31.918Z"
   },
   {
    "duration": 7,
    "start_time": "2021-07-07T18:46:31.936Z"
   },
   {
    "duration": 8,
    "start_time": "2021-07-07T18:46:31.944Z"
   },
   {
    "duration": 19,
    "start_time": "2021-07-07T18:46:31.984Z"
   },
   {
    "duration": 10,
    "start_time": "2021-07-07T18:46:32.004Z"
   },
   {
    "duration": 5,
    "start_time": "2021-07-07T18:46:32.016Z"
   },
   {
    "duration": 9,
    "start_time": "2021-07-07T18:46:32.023Z"
   },
   {
    "duration": 199,
    "start_time": "2021-07-07T18:46:32.033Z"
   },
   {
    "duration": 19,
    "start_time": "2021-07-07T18:46:32.234Z"
   },
   {
    "duration": 159,
    "start_time": "2021-07-07T18:46:32.255Z"
   },
   {
    "duration": 134,
    "start_time": "2021-07-07T18:46:32.416Z"
   },
   {
    "duration": 10,
    "start_time": "2021-07-07T18:46:32.552Z"
   },
   {
    "duration": 34,
    "start_time": "2021-07-07T18:46:32.563Z"
   },
   {
    "duration": 1039,
    "start_time": "2021-07-08T08:41:09.419Z"
   },
   {
    "duration": 333,
    "start_time": "2021-07-08T08:41:10.459Z"
   },
   {
    "duration": 173,
    "start_time": "2021-07-08T08:41:10.794Z"
   },
   {
    "duration": 5,
    "start_time": "2021-07-08T08:41:10.968Z"
   },
   {
    "duration": 25,
    "start_time": "2021-07-08T08:41:10.975Z"
   },
   {
    "duration": 9,
    "start_time": "2021-07-08T08:41:11.002Z"
   },
   {
    "duration": 18,
    "start_time": "2021-07-08T08:41:11.013Z"
   },
   {
    "duration": 6,
    "start_time": "2021-07-08T08:41:11.033Z"
   },
   {
    "duration": 44,
    "start_time": "2021-07-08T08:41:11.042Z"
   },
   {
    "duration": 10,
    "start_time": "2021-07-08T08:41:11.088Z"
   },
   {
    "duration": 9,
    "start_time": "2021-07-08T08:41:11.100Z"
   },
   {
    "duration": 27,
    "start_time": "2021-07-08T08:41:11.111Z"
   },
   {
    "duration": 46,
    "start_time": "2021-07-08T08:41:11.140Z"
   },
   {
    "duration": 17,
    "start_time": "2021-07-08T08:41:11.187Z"
   },
   {
    "duration": 6,
    "start_time": "2021-07-08T08:41:11.206Z"
   },
   {
    "duration": 5,
    "start_time": "2021-07-08T08:41:11.213Z"
   },
   {
    "duration": 10,
    "start_time": "2021-07-08T08:41:11.219Z"
   },
   {
    "duration": 9,
    "start_time": "2021-07-08T08:41:11.230Z"
   },
   {
    "duration": 45,
    "start_time": "2021-07-08T08:41:11.241Z"
   },
   {
    "duration": 7,
    "start_time": "2021-07-08T08:41:11.287Z"
   },
   {
    "duration": 24,
    "start_time": "2021-07-08T08:41:11.296Z"
   },
   {
    "duration": 16,
    "start_time": "2021-07-08T08:41:11.322Z"
   },
   {
    "duration": 7,
    "start_time": "2021-07-08T08:41:11.341Z"
   },
   {
    "duration": 41,
    "start_time": "2021-07-08T08:41:11.349Z"
   },
   {
    "duration": 17,
    "start_time": "2021-07-08T08:41:11.391Z"
   },
   {
    "duration": 9,
    "start_time": "2021-07-08T08:41:11.410Z"
   },
   {
    "duration": 5,
    "start_time": "2021-07-08T08:41:11.421Z"
   },
   {
    "duration": 6,
    "start_time": "2021-07-08T08:41:11.428Z"
   },
   {
    "duration": 198,
    "start_time": "2021-07-08T08:41:11.435Z"
   },
   {
    "duration": 18,
    "start_time": "2021-07-08T08:41:11.635Z"
   },
   {
    "duration": 155,
    "start_time": "2021-07-08T08:41:11.655Z"
   },
   {
    "duration": 138,
    "start_time": "2021-07-08T08:41:11.811Z"
   },
   {
    "duration": 10,
    "start_time": "2021-07-08T08:41:11.950Z"
   },
   {
    "duration": 29,
    "start_time": "2021-07-08T08:41:11.961Z"
   },
   {
    "duration": 171,
    "start_time": "2021-07-08T08:47:44.522Z"
   },
   {
    "duration": 124,
    "start_time": "2021-07-08T08:47:46.872Z"
   },
   {
    "duration": 191,
    "start_time": "2021-07-08T08:47:58.148Z"
   },
   {
    "duration": 191,
    "start_time": "2021-07-08T08:48:07.412Z"
   },
   {
    "duration": 261,
    "start_time": "2021-07-08T08:48:10.385Z"
   },
   {
    "duration": 255,
    "start_time": "2021-07-08T08:48:14.494Z"
   },
   {
    "duration": 219,
    "start_time": "2021-07-08T08:48:22.752Z"
   },
   {
    "duration": 173,
    "start_time": "2021-07-08T08:49:06.395Z"
   },
   {
    "duration": 180,
    "start_time": "2021-07-08T08:49:21.011Z"
   },
   {
    "duration": 6,
    "start_time": "2021-07-08T08:50:31.697Z"
   },
   {
    "duration": 10,
    "start_time": "2021-07-08T08:50:47.394Z"
   },
   {
    "duration": 11,
    "start_time": "2021-07-08T08:53:49.332Z"
   },
   {
    "duration": 171,
    "start_time": "2021-07-08T08:54:28.408Z"
   },
   {
    "duration": 636,
    "start_time": "2021-07-08T09:02:48.385Z"
   },
   {
    "duration": 227,
    "start_time": "2021-07-08T09:02:49.023Z"
   },
   {
    "duration": 104,
    "start_time": "2021-07-08T09:02:49.252Z"
   },
   {
    "duration": 5,
    "start_time": "2021-07-08T09:02:49.358Z"
   },
   {
    "duration": 27,
    "start_time": "2021-07-08T09:02:49.365Z"
   },
   {
    "duration": 8,
    "start_time": "2021-07-08T09:02:49.394Z"
   },
   {
    "duration": 18,
    "start_time": "2021-07-08T09:02:49.404Z"
   },
   {
    "duration": 6,
    "start_time": "2021-07-08T09:02:49.424Z"
   },
   {
    "duration": 11,
    "start_time": "2021-07-08T09:02:49.433Z"
   },
   {
    "duration": 13,
    "start_time": "2021-07-08T09:02:49.485Z"
   },
   {
    "duration": 9,
    "start_time": "2021-07-08T09:02:49.500Z"
   },
   {
    "duration": 38,
    "start_time": "2021-07-08T09:02:49.511Z"
   },
   {
    "duration": 42,
    "start_time": "2021-07-08T09:02:49.551Z"
   },
   {
    "duration": 21,
    "start_time": "2021-07-08T09:02:49.594Z"
   },
   {
    "duration": 6,
    "start_time": "2021-07-08T09:02:49.616Z"
   },
   {
    "duration": 3,
    "start_time": "2021-07-08T09:02:49.623Z"
   },
   {
    "duration": 9,
    "start_time": "2021-07-08T09:02:49.628Z"
   },
   {
    "duration": 52,
    "start_time": "2021-07-08T09:02:49.638Z"
   },
   {
    "duration": 11,
    "start_time": "2021-07-08T09:02:49.692Z"
   },
   {
    "duration": 8,
    "start_time": "2021-07-08T09:02:49.704Z"
   },
   {
    "duration": 27,
    "start_time": "2021-07-08T09:02:49.713Z"
   },
   {
    "duration": 59,
    "start_time": "2021-07-08T09:02:49.741Z"
   },
   {
    "duration": 8,
    "start_time": "2021-07-08T09:02:49.803Z"
   },
   {
    "duration": 14,
    "start_time": "2021-07-08T09:02:49.813Z"
   },
   {
    "duration": 20,
    "start_time": "2021-07-08T09:02:49.829Z"
   },
   {
    "duration": 44,
    "start_time": "2021-07-08T09:02:49.851Z"
   },
   {
    "duration": 14,
    "start_time": "2021-07-08T09:02:49.896Z"
   },
   {
    "duration": 221,
    "start_time": "2021-07-08T09:02:49.912Z"
   },
   {
    "duration": 6,
    "start_time": "2021-07-08T09:02:50.134Z"
   },
   {
    "duration": 206,
    "start_time": "2021-07-08T09:02:50.142Z"
   },
   {
    "duration": 19,
    "start_time": "2021-07-08T09:02:50.350Z"
   },
   {
    "duration": 21,
    "start_time": "2021-07-08T09:02:50.370Z"
   },
   {
    "duration": 20,
    "start_time": "2021-07-08T09:02:50.393Z"
   },
   {
    "duration": 5,
    "start_time": "2021-07-08T09:02:50.414Z"
   },
   {
    "duration": 5,
    "start_time": "2021-07-08T09:03:34.173Z"
   },
   {
    "duration": 6,
    "start_time": "2021-07-08T09:04:49.062Z"
   },
   {
    "duration": 9,
    "start_time": "2021-07-08T09:04:50.118Z"
   },
   {
    "duration": 14,
    "start_time": "2021-07-08T09:04:58.512Z"
   },
   {
    "duration": 9,
    "start_time": "2021-07-08T09:05:10.988Z"
   },
   {
    "duration": 11,
    "start_time": "2021-07-08T09:05:11.743Z"
   },
   {
    "duration": 7,
    "start_time": "2021-07-08T09:05:25.677Z"
   },
   {
    "duration": 13,
    "start_time": "2021-07-08T09:05:47.189Z"
   },
   {
    "duration": 13,
    "start_time": "2021-07-08T09:05:54.755Z"
   },
   {
    "duration": 4,
    "start_time": "2021-07-08T09:06:29.189Z"
   },
   {
    "duration": 244,
    "start_time": "2021-07-08T09:06:29.195Z"
   },
   {
    "duration": 91,
    "start_time": "2021-07-08T09:06:29.441Z"
   },
   {
    "duration": 4,
    "start_time": "2021-07-08T09:06:29.534Z"
   },
   {
    "duration": 28,
    "start_time": "2021-07-08T09:06:29.540Z"
   },
   {
    "duration": 6,
    "start_time": "2021-07-08T09:06:29.570Z"
   },
   {
    "duration": 18,
    "start_time": "2021-07-08T09:06:29.578Z"
   },
   {
    "duration": 5,
    "start_time": "2021-07-08T09:06:29.597Z"
   },
   {
    "duration": 13,
    "start_time": "2021-07-08T09:06:29.605Z"
   },
   {
    "duration": 8,
    "start_time": "2021-07-08T09:06:29.620Z"
   },
   {
    "duration": 7,
    "start_time": "2021-07-08T09:06:29.630Z"
   },
   {
    "duration": 63,
    "start_time": "2021-07-08T09:06:29.639Z"
   },
   {
    "duration": 17,
    "start_time": "2021-07-08T09:06:29.704Z"
   },
   {
    "duration": 20,
    "start_time": "2021-07-08T09:06:29.723Z"
   },
   {
    "duration": 6,
    "start_time": "2021-07-08T09:06:29.745Z"
   },
   {
    "duration": 3,
    "start_time": "2021-07-08T09:06:29.752Z"
   },
   {
    "duration": 7,
    "start_time": "2021-07-08T09:06:29.785Z"
   },
   {
    "duration": 11,
    "start_time": "2021-07-08T09:06:29.794Z"
   },
   {
    "duration": 15,
    "start_time": "2021-07-08T09:06:29.807Z"
   },
   {
    "duration": 8,
    "start_time": "2021-07-08T09:06:29.823Z"
   },
   {
    "duration": 70,
    "start_time": "2021-07-08T09:06:29.832Z"
   },
   {
    "duration": 17,
    "start_time": "2021-07-08T09:06:29.903Z"
   },
   {
    "duration": 9,
    "start_time": "2021-07-08T09:06:29.921Z"
   },
   {
    "duration": 9,
    "start_time": "2021-07-08T09:06:29.932Z"
   },
   {
    "duration": 57,
    "start_time": "2021-07-08T09:06:29.942Z"
   },
   {
    "duration": 11,
    "start_time": "2021-07-08T09:06:30.001Z"
   },
   {
    "duration": 19,
    "start_time": "2021-07-08T09:06:30.016Z"
   },
   {
    "duration": 217,
    "start_time": "2021-07-08T09:06:30.037Z"
   },
   {
    "duration": 6,
    "start_time": "2021-07-08T09:06:30.255Z"
   },
   {
    "duration": 205,
    "start_time": "2021-07-08T09:06:30.263Z"
   },
   {
    "duration": 27,
    "start_time": "2021-07-08T09:06:30.470Z"
   },
   {
    "duration": 11,
    "start_time": "2021-07-08T09:06:30.500Z"
   },
   {
    "duration": 31,
    "start_time": "2021-07-08T09:06:30.513Z"
   },
   {
    "duration": 18,
    "start_time": "2021-07-08T09:06:30.546Z"
   },
   {
    "duration": 11,
    "start_time": "2021-07-08T09:06:30.566Z"
   },
   {
    "duration": 19,
    "start_time": "2021-07-08T09:06:30.579Z"
   },
   {
    "duration": 20,
    "start_time": "2021-07-08T09:06:49.466Z"
   },
   {
    "duration": 9,
    "start_time": "2021-07-08T09:06:51.994Z"
   },
   {
    "duration": 20,
    "start_time": "2021-07-08T09:06:52.273Z"
   },
   {
    "duration": 246,
    "start_time": "2021-07-08T09:10:21.272Z"
   },
   {
    "duration": 84,
    "start_time": "2021-07-08T09:10:21.436Z"
   },
   {
    "duration": 7,
    "start_time": "2021-07-08T09:10:37.608Z"
   },
   {
    "duration": 189,
    "start_time": "2021-07-08T09:10:38.573Z"
   },
   {
    "duration": 185,
    "start_time": "2021-07-08T09:10:53.181Z"
   },
   {
    "duration": 11,
    "start_time": "2021-07-08T09:10:59.549Z"
   },
   {
    "duration": 42,
    "start_time": "2021-07-08T09:10:59.709Z"
   },
   {
    "duration": 12,
    "start_time": "2021-07-08T09:11:02.857Z"
   },
   {
    "duration": 28,
    "start_time": "2021-07-08T09:11:10.062Z"
   },
   {
    "duration": 249,
    "start_time": "2021-07-08T09:11:37.388Z"
   },
   {
    "duration": 232,
    "start_time": "2021-07-08T09:11:49.485Z"
   },
   {
    "duration": 453,
    "start_time": "2021-07-08T09:12:01.546Z"
   },
   {
    "duration": 440,
    "start_time": "2021-07-08T09:12:12.347Z"
   },
   {
    "duration": 213,
    "start_time": "2021-07-08T09:13:32.196Z"
   },
   {
    "duration": 172,
    "start_time": "2021-07-08T09:14:07.400Z"
   },
   {
    "duration": 185,
    "start_time": "2021-07-08T09:14:14.905Z"
   },
   {
    "duration": 209,
    "start_time": "2021-07-08T09:14:40.109Z"
   },
   {
    "duration": 201,
    "start_time": "2021-07-08T09:14:54.506Z"
   },
   {
    "duration": 622,
    "start_time": "2021-07-08T09:18:14.497Z"
   },
   {
    "duration": 220,
    "start_time": "2021-07-08T09:18:15.121Z"
   },
   {
    "duration": 79,
    "start_time": "2021-07-08T09:18:15.343Z"
   },
   {
    "duration": 4,
    "start_time": "2021-07-08T09:18:15.425Z"
   },
   {
    "duration": 24,
    "start_time": "2021-07-08T09:18:15.431Z"
   },
   {
    "duration": 8,
    "start_time": "2021-07-08T09:18:15.457Z"
   },
   {
    "duration": 16,
    "start_time": "2021-07-08T09:18:15.466Z"
   },
   {
    "duration": 5,
    "start_time": "2021-07-08T09:18:15.484Z"
   },
   {
    "duration": 10,
    "start_time": "2021-07-08T09:18:15.493Z"
   },
   {
    "duration": 8,
    "start_time": "2021-07-08T09:18:15.504Z"
   },
   {
    "duration": 7,
    "start_time": "2021-07-08T09:18:15.513Z"
   },
   {
    "duration": 26,
    "start_time": "2021-07-08T09:18:15.522Z"
   },
   {
    "duration": 49,
    "start_time": "2021-07-08T09:18:15.550Z"
   },
   {
    "duration": 21,
    "start_time": "2021-07-08T09:18:15.601Z"
   },
   {
    "duration": 8,
    "start_time": "2021-07-08T09:18:15.624Z"
   },
   {
    "duration": 3,
    "start_time": "2021-07-08T09:18:15.634Z"
   },
   {
    "duration": 8,
    "start_time": "2021-07-08T09:18:15.639Z"
   },
   {
    "duration": 45,
    "start_time": "2021-07-08T09:18:15.649Z"
   },
   {
    "duration": 13,
    "start_time": "2021-07-08T09:18:15.696Z"
   },
   {
    "duration": 10,
    "start_time": "2021-07-08T09:18:15.711Z"
   },
   {
    "duration": 64,
    "start_time": "2021-07-08T09:18:15.722Z"
   },
   {
    "duration": 19,
    "start_time": "2021-07-08T09:18:15.788Z"
   },
   {
    "duration": 9,
    "start_time": "2021-07-08T09:18:15.809Z"
   },
   {
    "duration": 9,
    "start_time": "2021-07-08T09:18:15.820Z"
   },
   {
    "duration": 18,
    "start_time": "2021-07-08T09:18:15.831Z"
   },
   {
    "duration": 43,
    "start_time": "2021-07-08T09:18:15.851Z"
   },
   {
    "duration": 12,
    "start_time": "2021-07-08T09:18:15.897Z"
   },
   {
    "duration": 219,
    "start_time": "2021-07-08T09:18:15.911Z"
   },
   {
    "duration": 8,
    "start_time": "2021-07-08T09:18:16.132Z"
   },
   {
    "duration": 199,
    "start_time": "2021-07-08T09:18:16.141Z"
   },
   {
    "duration": 18,
    "start_time": "2021-07-08T09:18:16.341Z"
   },
   {
    "duration": 24,
    "start_time": "2021-07-08T09:18:16.361Z"
   },
   {
    "duration": 24,
    "start_time": "2021-07-08T09:18:16.387Z"
   },
   {
    "duration": 211,
    "start_time": "2021-07-08T09:18:16.413Z"
   },
   {
    "duration": 18,
    "start_time": "2021-07-08T09:18:16.626Z"
   },
   {
    "duration": 596,
    "start_time": "2021-07-08T10:06:33.623Z"
   },
   {
    "duration": 181,
    "start_time": "2021-07-08T10:06:34.221Z"
   },
   {
    "duration": 176,
    "start_time": "2021-07-08T10:06:34.635Z"
   },
   {
    "duration": 239,
    "start_time": "2021-07-08T10:06:55.572Z"
   },
   {
    "duration": 6,
    "start_time": "2021-07-08T10:06:57.687Z"
   },
   {
    "duration": 4,
    "start_time": "2021-07-08T10:07:03.956Z"
   },
   {
    "duration": 4,
    "start_time": "2021-07-08T10:07:10.376Z"
   },
   {
    "duration": 4,
    "start_time": "2021-07-08T10:17:19.889Z"
   },
   {
    "duration": 3,
    "start_time": "2021-07-08T10:19:19.407Z"
   },
   {
    "duration": 197,
    "start_time": "2021-07-08T10:19:19.412Z"
   },
   {
    "duration": 127,
    "start_time": "2021-07-08T10:19:19.611Z"
   },
   {
    "duration": 4,
    "start_time": "2021-07-08T10:19:19.740Z"
   },
   {
    "duration": 27,
    "start_time": "2021-07-08T10:19:19.746Z"
   },
   {
    "duration": 7,
    "start_time": "2021-07-08T10:19:19.775Z"
   },
   {
    "duration": 30,
    "start_time": "2021-07-08T10:19:19.784Z"
   },
   {
    "duration": 7,
    "start_time": "2021-07-08T10:19:19.817Z"
   },
   {
    "duration": 26,
    "start_time": "2021-07-08T10:19:19.826Z"
   },
   {
    "duration": 18,
    "start_time": "2021-07-08T10:19:19.854Z"
   },
   {
    "duration": 14,
    "start_time": "2021-07-08T10:19:19.874Z"
   },
   {
    "duration": 48,
    "start_time": "2021-07-08T10:19:19.890Z"
   },
   {
    "duration": 17,
    "start_time": "2021-07-08T10:19:19.940Z"
   },
   {
    "duration": 38,
    "start_time": "2021-07-08T10:19:19.959Z"
   },
   {
    "duration": 8,
    "start_time": "2021-07-08T10:19:19.999Z"
   },
   {
    "duration": 15,
    "start_time": "2021-07-08T10:19:20.009Z"
   },
   {
    "duration": 22,
    "start_time": "2021-07-08T10:19:20.026Z"
   },
   {
    "duration": 10,
    "start_time": "2021-07-08T10:19:20.050Z"
   },
   {
    "duration": 10,
    "start_time": "2021-07-08T10:19:20.062Z"
   },
   {
    "duration": 20,
    "start_time": "2021-07-08T10:19:20.073Z"
   },
   {
    "duration": 29,
    "start_time": "2021-07-08T10:19:20.095Z"
   },
   {
    "duration": 17,
    "start_time": "2021-07-08T10:19:20.126Z"
   },
   {
    "duration": 40,
    "start_time": "2021-07-08T10:19:20.146Z"
   },
   {
    "duration": 15,
    "start_time": "2021-07-08T10:19:20.189Z"
   },
   {
    "duration": 19,
    "start_time": "2021-07-08T10:19:20.206Z"
   },
   {
    "duration": 10,
    "start_time": "2021-07-08T10:19:20.226Z"
   },
   {
    "duration": 11,
    "start_time": "2021-07-08T10:19:20.238Z"
   },
   {
    "duration": 297,
    "start_time": "2021-07-08T10:19:20.250Z"
   },
   {
    "duration": 6,
    "start_time": "2021-07-08T10:19:20.549Z"
   },
   {
    "duration": 191,
    "start_time": "2021-07-08T10:19:20.557Z"
   },
   {
    "duration": 19,
    "start_time": "2021-07-08T10:19:20.750Z"
   },
   {
    "duration": 20,
    "start_time": "2021-07-08T10:19:20.771Z"
   },
   {
    "duration": 15,
    "start_time": "2021-07-08T10:19:20.793Z"
   },
   {
    "duration": 222,
    "start_time": "2021-07-08T10:19:20.809Z"
   },
   {
    "duration": 20,
    "start_time": "2021-07-08T10:19:21.033Z"
   },
   {
    "duration": 27,
    "start_time": "2021-07-08T10:45:04.055Z"
   },
   {
    "duration": 8,
    "start_time": "2021-07-08T10:45:08.478Z"
   },
   {
    "duration": 8,
    "start_time": "2021-07-08T10:45:31.982Z"
   },
   {
    "duration": 10,
    "start_time": "2021-07-08T10:46:01.221Z"
   },
   {
    "duration": 17,
    "start_time": "2021-07-08T10:46:40.011Z"
   },
   {
    "duration": 193,
    "start_time": "2021-07-08T10:48:19.471Z"
   },
   {
    "duration": 225,
    "start_time": "2021-07-08T10:49:26.480Z"
   },
   {
    "duration": 204,
    "start_time": "2021-07-08T10:49:59.992Z"
   },
   {
    "duration": 435,
    "start_time": "2021-07-08T10:50:06.779Z"
   },
   {
    "duration": 199,
    "start_time": "2021-07-08T10:50:14.891Z"
   },
   {
    "duration": 204,
    "start_time": "2021-07-08T10:50:18.501Z"
   },
   {
    "duration": 244,
    "start_time": "2021-07-08T10:50:23.359Z"
   },
   {
    "duration": 192,
    "start_time": "2021-07-08T10:50:29.135Z"
   },
   {
    "duration": 218,
    "start_time": "2021-07-08T10:50:33.092Z"
   },
   {
    "duration": 207,
    "start_time": "2021-07-08T10:52:45.381Z"
   },
   {
    "duration": 5,
    "start_time": "2021-07-08T10:53:34.641Z"
   },
   {
    "duration": 196,
    "start_time": "2021-07-08T10:53:41.478Z"
   },
   {
    "duration": 43,
    "start_time": "2021-07-08T10:53:50.335Z"
   },
   {
    "duration": 32,
    "start_time": "2021-07-08T10:53:55.294Z"
   },
   {
    "duration": 55,
    "start_time": "2021-07-08T10:54:09.675Z"
   },
   {
    "duration": 16,
    "start_time": "2021-07-08T10:54:12.260Z"
   },
   {
    "duration": 15,
    "start_time": "2021-07-08T10:54:49.150Z"
   },
   {
    "duration": 20,
    "start_time": "2021-07-08T10:56:07.596Z"
   },
   {
    "duration": 16,
    "start_time": "2021-07-08T10:58:26.276Z"
   },
   {
    "duration": 22,
    "start_time": "2021-07-08T10:59:00.486Z"
   },
   {
    "duration": 18,
    "start_time": "2021-07-08T11:02:09.653Z"
   },
   {
    "duration": 10,
    "start_time": "2021-07-08T11:03:44.331Z"
   },
   {
    "duration": 10,
    "start_time": "2021-07-08T11:03:54.055Z"
   },
   {
    "duration": 12,
    "start_time": "2021-07-08T11:04:41.967Z"
   },
   {
    "duration": 24,
    "start_time": "2021-07-08T11:07:30.732Z"
   },
   {
    "duration": 6,
    "start_time": "2021-07-08T11:07:37.364Z"
   },
   {
    "duration": 16,
    "start_time": "2021-07-08T11:08:01.819Z"
   },
   {
    "duration": 17,
    "start_time": "2021-07-08T11:09:47.488Z"
   },
   {
    "duration": 246,
    "start_time": "2021-07-08T11:10:00.830Z"
   },
   {
    "duration": 18,
    "start_time": "2021-07-08T11:13:55.195Z"
   },
   {
    "duration": 204,
    "start_time": "2021-07-08T11:14:04.951Z"
   },
   {
    "duration": 19,
    "start_time": "2021-07-08T11:15:10.613Z"
   },
   {
    "duration": 680,
    "start_time": "2021-07-08T11:16:25.793Z"
   },
   {
    "duration": 451,
    "start_time": "2021-07-08T11:16:40.313Z"
   },
   {
    "duration": 469,
    "start_time": "2021-07-08T11:17:21.286Z"
   },
   {
    "duration": 20,
    "start_time": "2021-07-08T11:19:12.554Z"
   },
   {
    "duration": 35,
    "start_time": "2021-07-08T11:20:05.484Z"
   },
   {
    "duration": 53,
    "start_time": "2021-07-08T11:21:40.050Z"
   },
   {
    "duration": 13,
    "start_time": "2021-07-08T11:22:26.059Z"
   },
   {
    "duration": 19,
    "start_time": "2021-07-08T11:22:47.419Z"
   },
   {
    "duration": 25,
    "start_time": "2021-07-08T11:23:19.958Z"
   },
   {
    "duration": 29,
    "start_time": "2021-07-08T11:23:25.415Z"
   },
   {
    "duration": 10,
    "start_time": "2021-07-08T11:24:45.138Z"
   },
   {
    "duration": 19,
    "start_time": "2021-07-08T11:24:54.498Z"
   },
   {
    "duration": 12,
    "start_time": "2021-07-08T11:25:32.225Z"
   },
   {
    "duration": 19,
    "start_time": "2021-07-08T11:25:37.092Z"
   },
   {
    "duration": 17,
    "start_time": "2021-07-08T11:25:58.116Z"
   },
   {
    "duration": 15,
    "start_time": "2021-07-08T11:26:02.258Z"
   },
   {
    "duration": 8,
    "start_time": "2021-07-08T11:26:59.682Z"
   },
   {
    "duration": 184,
    "start_time": "2021-07-08T11:27:21.894Z"
   },
   {
    "duration": 8,
    "start_time": "2021-07-08T11:27:23.824Z"
   },
   {
    "duration": 202,
    "start_time": "2021-07-08T11:27:23.962Z"
   },
   {
    "duration": 360,
    "start_time": "2021-07-08T11:28:33.215Z"
   },
   {
    "duration": 231,
    "start_time": "2021-07-08T11:32:05.542Z"
   },
   {
    "duration": 607,
    "start_time": "2021-07-08T11:36:27.854Z"
   },
   {
    "duration": 241,
    "start_time": "2021-07-08T11:36:28.463Z"
   },
   {
    "duration": 67,
    "start_time": "2021-07-08T11:36:28.709Z"
   },
   {
    "duration": 5,
    "start_time": "2021-07-08T11:36:28.778Z"
   },
   {
    "duration": 32,
    "start_time": "2021-07-08T11:36:28.784Z"
   },
   {
    "duration": 11,
    "start_time": "2021-07-08T11:36:28.819Z"
   },
   {
    "duration": 20,
    "start_time": "2021-07-08T11:36:28.834Z"
   },
   {
    "duration": 36,
    "start_time": "2021-07-08T11:36:28.857Z"
   },
   {
    "duration": 16,
    "start_time": "2021-07-08T11:36:28.895Z"
   },
   {
    "duration": 14,
    "start_time": "2021-07-08T11:36:28.913Z"
   },
   {
    "duration": 9,
    "start_time": "2021-07-08T11:36:28.930Z"
   },
   {
    "duration": 55,
    "start_time": "2021-07-08T11:36:28.941Z"
   },
   {
    "duration": 27,
    "start_time": "2021-07-08T11:36:28.999Z"
   },
   {
    "duration": 30,
    "start_time": "2021-07-08T11:36:29.028Z"
   },
   {
    "duration": 31,
    "start_time": "2021-07-08T11:36:29.060Z"
   },
   {
    "duration": 3,
    "start_time": "2021-07-08T11:36:29.093Z"
   },
   {
    "duration": 12,
    "start_time": "2021-07-08T11:36:29.099Z"
   },
   {
    "duration": 11,
    "start_time": "2021-07-08T11:36:29.112Z"
   },
   {
    "duration": 12,
    "start_time": "2021-07-08T11:36:29.125Z"
   },
   {
    "duration": 9,
    "start_time": "2021-07-08T11:36:29.139Z"
   },
   {
    "duration": 31,
    "start_time": "2021-07-08T11:36:29.191Z"
   },
   {
    "duration": 17,
    "start_time": "2021-07-08T11:36:29.226Z"
   },
   {
    "duration": 7,
    "start_time": "2021-07-08T11:36:29.245Z"
   },
   {
    "duration": 10,
    "start_time": "2021-07-08T11:36:29.254Z"
   },
   {
    "duration": 30,
    "start_time": "2021-07-08T11:36:29.292Z"
   },
   {
    "duration": 11,
    "start_time": "2021-07-08T11:36:29.324Z"
   },
   {
    "duration": 11,
    "start_time": "2021-07-08T11:36:29.337Z"
   },
   {
    "duration": 230,
    "start_time": "2021-07-08T11:36:29.349Z"
   },
   {
    "duration": 13,
    "start_time": "2021-07-08T11:36:29.588Z"
   },
   {
    "duration": 205,
    "start_time": "2021-07-08T11:36:29.603Z"
   },
   {
    "duration": 20,
    "start_time": "2021-07-08T11:36:29.810Z"
   },
   {
    "duration": 9,
    "start_time": "2021-07-08T11:36:29.832Z"
   },
   {
    "duration": 16,
    "start_time": "2021-07-08T11:36:29.843Z"
   },
   {
    "duration": 283,
    "start_time": "2021-07-08T11:36:29.861Z"
   },
   {
    "duration": 50,
    "start_time": "2021-07-08T11:36:30.146Z"
   },
   {
    "duration": 14,
    "start_time": "2021-07-08T11:36:30.198Z"
   },
   {
    "duration": 11,
    "start_time": "2021-07-08T11:36:30.214Z"
   },
   {
    "duration": 245,
    "start_time": "2021-07-08T11:36:30.227Z"
   },
   {
    "duration": 439,
    "start_time": "2021-07-08T11:36:30.474Z"
   },
   {
    "duration": 210,
    "start_time": "2021-07-08T11:36:30.915Z"
   },
   {
    "duration": 15,
    "start_time": "2021-07-08T11:36:31.127Z"
   },
   {
    "duration": 17,
    "start_time": "2021-07-08T11:38:20.451Z"
   },
   {
    "duration": 642,
    "start_time": "2021-07-08T11:46:17.881Z"
   },
   {
    "duration": 210,
    "start_time": "2021-07-08T11:46:18.525Z"
   },
   {
    "duration": 104,
    "start_time": "2021-07-08T11:46:18.741Z"
   },
   {
    "duration": 8,
    "start_time": "2021-07-08T11:46:18.847Z"
   },
   {
    "duration": 25,
    "start_time": "2021-07-08T11:46:18.857Z"
   },
   {
    "duration": 14,
    "start_time": "2021-07-08T11:46:18.884Z"
   },
   {
    "duration": 22,
    "start_time": "2021-07-08T11:46:18.900Z"
   },
   {
    "duration": 5,
    "start_time": "2021-07-08T11:46:18.924Z"
   },
   {
    "duration": 13,
    "start_time": "2021-07-08T11:46:18.931Z"
   },
   {
    "duration": 45,
    "start_time": "2021-07-08T11:46:18.946Z"
   },
   {
    "duration": 12,
    "start_time": "2021-07-08T11:46:18.993Z"
   },
   {
    "duration": 38,
    "start_time": "2021-07-08T11:46:19.006Z"
   },
   {
    "duration": 50,
    "start_time": "2021-07-08T11:46:19.046Z"
   },
   {
    "duration": 29,
    "start_time": "2021-07-08T11:46:19.099Z"
   },
   {
    "duration": 7,
    "start_time": "2021-07-08T11:46:19.130Z"
   },
   {
    "duration": 3,
    "start_time": "2021-07-08T11:46:19.139Z"
   },
   {
    "duration": 11,
    "start_time": "2021-07-08T11:46:19.144Z"
   },
   {
    "duration": 40,
    "start_time": "2021-07-08T11:46:19.157Z"
   },
   {
    "duration": 15,
    "start_time": "2021-07-08T11:46:19.199Z"
   },
   {
    "duration": 10,
    "start_time": "2021-07-08T11:46:19.217Z"
   },
   {
    "duration": 68,
    "start_time": "2021-07-08T11:46:19.230Z"
   },
   {
    "duration": 17,
    "start_time": "2021-07-08T11:46:19.301Z"
   },
   {
    "duration": 7,
    "start_time": "2021-07-08T11:46:19.321Z"
   },
   {
    "duration": 11,
    "start_time": "2021-07-08T11:46:19.330Z"
   },
   {
    "duration": 59,
    "start_time": "2021-07-08T11:46:19.343Z"
   },
   {
    "duration": 17,
    "start_time": "2021-07-08T11:46:19.405Z"
   },
   {
    "duration": 16,
    "start_time": "2021-07-08T11:46:19.424Z"
   },
   {
    "duration": 252,
    "start_time": "2021-07-08T11:46:19.443Z"
   },
   {
    "duration": 9,
    "start_time": "2021-07-08T11:46:19.697Z"
   },
   {
    "duration": 224,
    "start_time": "2021-07-08T11:46:19.708Z"
   },
   {
    "duration": 21,
    "start_time": "2021-07-08T11:46:19.934Z"
   },
   {
    "duration": 9,
    "start_time": "2021-07-08T11:46:19.956Z"
   },
   {
    "duration": 32,
    "start_time": "2021-07-08T11:46:19.967Z"
   },
   {
    "duration": 288,
    "start_time": "2021-07-08T11:46:20.004Z"
   },
   {
    "duration": 23,
    "start_time": "2021-07-08T11:46:20.300Z"
   },
   {
    "duration": 11,
    "start_time": "2021-07-08T11:46:20.325Z"
   },
   {
    "duration": 11,
    "start_time": "2021-07-08T11:46:20.339Z"
   },
   {
    "duration": 259,
    "start_time": "2021-07-08T11:46:20.352Z"
   },
   {
    "duration": 438,
    "start_time": "2021-07-08T11:46:20.613Z"
   },
   {
    "duration": 207,
    "start_time": "2021-07-08T11:46:21.054Z"
   },
   {
    "duration": 27,
    "start_time": "2021-07-08T11:46:21.262Z"
   },
   {
    "duration": 19,
    "start_time": "2021-07-08T11:46:21.291Z"
   },
   {
    "duration": 820,
    "start_time": "2021-07-08T11:49:01.655Z"
   },
   {
    "duration": 372,
    "start_time": "2021-07-08T11:49:02.478Z"
   },
   {
    "duration": 98,
    "start_time": "2021-07-08T11:49:02.853Z"
   },
   {
    "duration": 6,
    "start_time": "2021-07-08T11:49:02.953Z"
   },
   {
    "duration": 39,
    "start_time": "2021-07-08T11:49:02.960Z"
   },
   {
    "duration": 9,
    "start_time": "2021-07-08T11:49:03.003Z"
   },
   {
    "duration": 23,
    "start_time": "2021-07-08T11:49:03.014Z"
   },
   {
    "duration": 6,
    "start_time": "2021-07-08T11:49:03.041Z"
   },
   {
    "duration": 20,
    "start_time": "2021-07-08T11:49:03.049Z"
   },
   {
    "duration": 18,
    "start_time": "2021-07-08T11:49:03.084Z"
   },
   {
    "duration": 14,
    "start_time": "2021-07-08T11:49:03.104Z"
   },
   {
    "duration": 39,
    "start_time": "2021-07-08T11:49:03.119Z"
   },
   {
    "duration": 38,
    "start_time": "2021-07-08T11:49:03.160Z"
   },
   {
    "duration": 26,
    "start_time": "2021-07-08T11:49:03.200Z"
   },
   {
    "duration": 7,
    "start_time": "2021-07-08T11:49:03.227Z"
   },
   {
    "duration": 4,
    "start_time": "2021-07-08T11:49:03.236Z"
   },
   {
    "duration": 15,
    "start_time": "2021-07-08T11:49:03.243Z"
   },
   {
    "duration": 21,
    "start_time": "2021-07-08T11:49:03.285Z"
   },
   {
    "duration": 17,
    "start_time": "2021-07-08T11:49:03.309Z"
   },
   {
    "duration": 10,
    "start_time": "2021-07-08T11:49:03.328Z"
   },
   {
    "duration": 65,
    "start_time": "2021-07-08T11:49:03.340Z"
   },
   {
    "duration": 18,
    "start_time": "2021-07-08T11:49:03.407Z"
   },
   {
    "duration": 8,
    "start_time": "2021-07-08T11:49:03.428Z"
   },
   {
    "duration": 15,
    "start_time": "2021-07-08T11:49:03.438Z"
   },
   {
    "duration": 40,
    "start_time": "2021-07-08T11:49:03.455Z"
   },
   {
    "duration": 12,
    "start_time": "2021-07-08T11:49:03.497Z"
   },
   {
    "duration": 29,
    "start_time": "2021-07-08T11:49:03.511Z"
   },
   {
    "duration": 285,
    "start_time": "2021-07-08T11:49:03.542Z"
   },
   {
    "duration": 8,
    "start_time": "2021-07-08T11:49:03.829Z"
   },
   {
    "duration": 227,
    "start_time": "2021-07-08T11:49:03.838Z"
   },
   {
    "duration": 40,
    "start_time": "2021-07-08T11:49:04.066Z"
   },
   {
    "duration": 10,
    "start_time": "2021-07-08T11:49:04.108Z"
   },
   {
    "duration": 26,
    "start_time": "2021-07-08T11:49:04.121Z"
   },
   {
    "duration": 290,
    "start_time": "2021-07-08T11:49:04.149Z"
   },
   {
    "duration": 26,
    "start_time": "2021-07-08T11:49:04.441Z"
   },
   {
    "duration": 31,
    "start_time": "2021-07-08T11:49:04.470Z"
   },
   {
    "duration": 14,
    "start_time": "2021-07-08T11:49:04.503Z"
   },
   {
    "duration": 259,
    "start_time": "2021-07-08T11:49:04.521Z"
   },
   {
    "duration": 480,
    "start_time": "2021-07-08T11:49:04.782Z"
   },
   {
    "duration": 225,
    "start_time": "2021-07-08T11:49:05.264Z"
   },
   {
    "duration": 22,
    "start_time": "2021-07-08T11:49:05.491Z"
   },
   {
    "duration": 24,
    "start_time": "2021-07-08T11:49:05.515Z"
   },
   {
    "duration": 634,
    "start_time": "2021-07-08T11:52:24.960Z"
   },
   {
    "duration": 199,
    "start_time": "2021-07-08T11:52:25.599Z"
   },
   {
    "duration": 106,
    "start_time": "2021-07-08T11:52:25.803Z"
   },
   {
    "duration": 7,
    "start_time": "2021-07-08T11:52:25.911Z"
   },
   {
    "duration": 29,
    "start_time": "2021-07-08T11:52:25.920Z"
   },
   {
    "duration": 7,
    "start_time": "2021-07-08T11:52:25.951Z"
   },
   {
    "duration": 26,
    "start_time": "2021-07-08T11:52:25.961Z"
   },
   {
    "duration": 11,
    "start_time": "2021-07-08T11:52:25.990Z"
   },
   {
    "duration": 29,
    "start_time": "2021-07-08T11:52:26.005Z"
   },
   {
    "duration": 9,
    "start_time": "2021-07-08T11:52:26.036Z"
   },
   {
    "duration": 8,
    "start_time": "2021-07-08T11:52:26.047Z"
   },
   {
    "duration": 63,
    "start_time": "2021-07-08T11:52:26.057Z"
   },
   {
    "duration": 17,
    "start_time": "2021-07-08T11:52:26.122Z"
   },
   {
    "duration": 43,
    "start_time": "2021-07-08T11:52:26.142Z"
   },
   {
    "duration": 17,
    "start_time": "2021-07-08T11:52:26.187Z"
   },
   {
    "duration": 5,
    "start_time": "2021-07-08T11:52:26.206Z"
   },
   {
    "duration": 12,
    "start_time": "2021-07-08T11:52:26.212Z"
   },
   {
    "duration": 11,
    "start_time": "2021-07-08T11:52:26.226Z"
   },
   {
    "duration": 12,
    "start_time": "2021-07-08T11:52:26.238Z"
   },
   {
    "duration": 38,
    "start_time": "2021-07-08T11:52:26.252Z"
   },
   {
    "duration": 40,
    "start_time": "2021-07-08T11:52:26.292Z"
   },
   {
    "duration": 17,
    "start_time": "2021-07-08T11:52:26.336Z"
   },
   {
    "duration": 39,
    "start_time": "2021-07-08T11:52:26.355Z"
   },
   {
    "duration": 11,
    "start_time": "2021-07-08T11:52:26.395Z"
   },
   {
    "duration": 23,
    "start_time": "2021-07-08T11:52:26.408Z"
   },
   {
    "duration": 12,
    "start_time": "2021-07-08T11:52:26.432Z"
   },
   {
    "duration": 41,
    "start_time": "2021-07-08T11:52:26.446Z"
   },
   {
    "duration": 215,
    "start_time": "2021-07-08T11:52:26.493Z"
   },
   {
    "duration": 8,
    "start_time": "2021-07-08T11:52:26.710Z"
   },
   {
    "duration": 228,
    "start_time": "2021-07-08T11:52:26.720Z"
   },
   {
    "duration": 18,
    "start_time": "2021-07-08T11:52:26.950Z"
   },
   {
    "duration": 35,
    "start_time": "2021-07-08T11:52:26.969Z"
   },
   {
    "duration": 23,
    "start_time": "2021-07-08T11:52:27.006Z"
   },
   {
    "duration": 258,
    "start_time": "2021-07-08T11:52:27.030Z"
   },
   {
    "duration": 24,
    "start_time": "2021-07-08T11:52:27.290Z"
   },
   {
    "duration": 12,
    "start_time": "2021-07-08T11:52:27.316Z"
   },
   {
    "duration": 10,
    "start_time": "2021-07-08T11:52:27.329Z"
   },
   {
    "duration": 298,
    "start_time": "2021-07-08T11:52:27.341Z"
   },
   {
    "duration": 436,
    "start_time": "2021-07-08T11:52:27.641Z"
   },
   {
    "duration": 216,
    "start_time": "2021-07-08T11:52:28.079Z"
   },
   {
    "duration": 20,
    "start_time": "2021-07-08T11:52:28.297Z"
   },
   {
    "duration": 17,
    "start_time": "2021-07-08T11:52:28.319Z"
   },
   {
    "duration": 58,
    "start_time": "2022-10-16T12:46:55.264Z"
   },
   {
    "duration": 923,
    "start_time": "2022-10-16T12:47:00.437Z"
   },
   {
    "duration": 161,
    "start_time": "2022-10-16T12:48:56.366Z"
   },
   {
    "duration": 99,
    "start_time": "2022-10-16T12:49:06.678Z"
   },
   {
    "duration": 142,
    "start_time": "2022-10-16T12:57:42.119Z"
   },
   {
    "duration": 191,
    "start_time": "2022-10-16T13:02:54.015Z"
   },
   {
    "duration": 316,
    "start_time": "2022-10-16T13:04:01.253Z"
   },
   {
    "duration": 109,
    "start_time": "2022-10-16T13:07:58.907Z"
   },
   {
    "duration": 795,
    "start_time": "2022-10-16T13:36:12.288Z"
   },
   {
    "duration": 295,
    "start_time": "2022-10-16T13:36:25.414Z"
   },
   {
    "duration": 290,
    "start_time": "2022-10-16T13:37:21.058Z"
   },
   {
    "duration": 115,
    "start_time": "2022-10-16T13:37:23.802Z"
   },
   {
    "duration": 140,
    "start_time": "2022-10-16T13:50:05.847Z"
   },
   {
    "duration": 107,
    "start_time": "2022-10-16T13:50:18.699Z"
   },
   {
    "duration": 103,
    "start_time": "2022-10-16T13:50:35.108Z"
   },
   {
    "duration": 285,
    "start_time": "2022-10-16T13:50:48.368Z"
   },
   {
    "duration": 113,
    "start_time": "2022-10-16T13:51:43.554Z"
   },
   {
    "duration": 277,
    "start_time": "2022-10-16T13:58:17.328Z"
   },
   {
    "duration": 391,
    "start_time": "2022-10-16T14:00:05.532Z"
   },
   {
    "duration": 111,
    "start_time": "2022-10-16T14:00:58.753Z"
   },
   {
    "duration": 131,
    "start_time": "2022-10-16T14:17:04.918Z"
   },
   {
    "duration": 106,
    "start_time": "2022-10-16T14:18:29.171Z"
   },
   {
    "duration": 126,
    "start_time": "2022-10-16T14:19:30.132Z"
   },
   {
    "duration": 366,
    "start_time": "2022-10-16T14:20:20.494Z"
   },
   {
    "duration": 290,
    "start_time": "2022-10-16T14:20:45.440Z"
   },
   {
    "duration": 113,
    "start_time": "2022-10-16T14:25:33.111Z"
   },
   {
    "duration": 405,
    "start_time": "2022-10-16T14:25:48.765Z"
   },
   {
    "duration": 124,
    "start_time": "2022-10-16T14:28:03.653Z"
   },
   {
    "duration": 140,
    "start_time": "2022-10-16T14:28:20.211Z"
   },
   {
    "duration": 355,
    "start_time": "2022-10-16T14:31:12.480Z"
   },
   {
    "duration": 608,
    "start_time": "2022-10-16T14:32:15.603Z"
   },
   {
    "duration": 280,
    "start_time": "2022-10-16T14:32:20.927Z"
   },
   {
    "duration": 285,
    "start_time": "2022-10-16T14:32:31.659Z"
   },
   {
    "duration": 124,
    "start_time": "2022-10-16T14:33:31.322Z"
   },
   {
    "duration": 138,
    "start_time": "2022-10-16T14:34:32.065Z"
   },
   {
    "duration": 133,
    "start_time": "2022-10-16T14:35:38.161Z"
   },
   {
    "duration": 287,
    "start_time": "2022-10-16T14:36:11.975Z"
   },
   {
    "duration": 140,
    "start_time": "2022-10-16T14:37:12.731Z"
   },
   {
    "duration": 135,
    "start_time": "2022-10-16T14:37:41.914Z"
   },
   {
    "duration": 144,
    "start_time": "2022-10-16T14:37:57.493Z"
   },
   {
    "duration": 135,
    "start_time": "2022-10-16T14:38:18.852Z"
   },
   {
    "duration": 147,
    "start_time": "2022-10-16T14:38:59.802Z"
   },
   {
    "duration": 157,
    "start_time": "2022-10-16T14:40:41.550Z"
   },
   {
    "duration": 134,
    "start_time": "2022-10-16T14:41:04.288Z"
   },
   {
    "duration": 116,
    "start_time": "2022-10-16T14:43:23.015Z"
   },
   {
    "duration": 117,
    "start_time": "2022-10-16T14:44:37.019Z"
   },
   {
    "duration": 129,
    "start_time": "2022-10-16T14:45:18.764Z"
   },
   {
    "duration": 127,
    "start_time": "2022-10-16T14:45:27.734Z"
   },
   {
    "duration": 105,
    "start_time": "2022-10-16T14:46:16.785Z"
   },
   {
    "duration": 112,
    "start_time": "2022-10-16T14:47:13.672Z"
   },
   {
    "duration": 124,
    "start_time": "2022-10-16T14:47:32.212Z"
   },
   {
    "duration": 127,
    "start_time": "2022-10-16T14:48:11.984Z"
   },
   {
    "duration": 130,
    "start_time": "2022-10-16T14:49:27.923Z"
   },
   {
    "duration": 133,
    "start_time": "2022-10-16T14:49:40.351Z"
   },
   {
    "duration": 134,
    "start_time": "2022-10-16T14:50:30.781Z"
   },
   {
    "duration": 143,
    "start_time": "2022-10-16T14:50:46.794Z"
   },
   {
    "duration": 128,
    "start_time": "2022-10-16T14:51:45.496Z"
   },
   {
    "duration": 1258,
    "start_time": "2022-10-17T05:35:51.232Z"
   },
   {
    "duration": 748,
    "start_time": "2022-10-17T06:14:26.131Z"
   },
   {
    "duration": 25,
    "start_time": "2022-10-17T06:15:11.952Z"
   },
   {
    "duration": 167,
    "start_time": "2022-10-17T06:17:03.415Z"
   },
   {
    "duration": 43,
    "start_time": "2022-10-17T06:18:53.757Z"
   },
   {
    "duration": 42,
    "start_time": "2022-10-17T06:19:37.490Z"
   },
   {
    "duration": 52,
    "start_time": "2022-10-18T16:35:58.062Z"
   },
   {
    "duration": 1616,
    "start_time": "2022-10-18T16:36:03.162Z"
   },
   {
    "duration": 83,
    "start_time": "2022-10-18T16:36:04.786Z"
   },
   {
    "duration": 48,
    "start_time": "2022-10-18T16:39:25.234Z"
   },
   {
    "duration": 50,
    "start_time": "2022-10-18T16:50:40.749Z"
   },
   {
    "duration": 47,
    "start_time": "2022-10-18T16:51:30.562Z"
   },
   {
    "duration": 50,
    "start_time": "2022-10-18T16:52:14.163Z"
   },
   {
    "duration": 127,
    "start_time": "2022-10-18T17:04:45.602Z"
   },
   {
    "duration": 72,
    "start_time": "2022-10-18T17:05:40.738Z"
   },
   {
    "duration": 81,
    "start_time": "2022-10-18T17:05:52.010Z"
   },
   {
    "duration": 83,
    "start_time": "2022-10-18T17:10:58.962Z"
   },
   {
    "duration": 193,
    "start_time": "2022-10-18T17:11:11.456Z"
   },
   {
    "duration": 138,
    "start_time": "2022-10-18T17:11:12.809Z"
   },
   {
    "duration": 220,
    "start_time": "2022-10-18T17:12:24.468Z"
   },
   {
    "duration": 78,
    "start_time": "2022-10-18T17:12:26.322Z"
   },
   {
    "duration": 57,
    "start_time": "2022-10-18T17:13:12.055Z"
   },
   {
    "duration": 104,
    "start_time": "2022-10-18T17:13:32.178Z"
   },
   {
    "duration": 87,
    "start_time": "2022-10-18T17:15:16.728Z"
   },
   {
    "duration": 60,
    "start_time": "2022-10-18T17:33:11.381Z"
   },
   {
    "duration": 179,
    "start_time": "2022-10-18T17:34:01.830Z"
   },
   {
    "duration": 76,
    "start_time": "2022-10-18T17:34:03.886Z"
   },
   {
    "duration": 94,
    "start_time": "2022-10-18T18:24:01.783Z"
   },
   {
    "duration": 95,
    "start_time": "2022-10-18T18:24:23.007Z"
   },
   {
    "duration": 102,
    "start_time": "2022-10-18T18:25:46.461Z"
   },
   {
    "duration": 77,
    "start_time": "2022-10-18T18:26:28.858Z"
   },
   {
    "duration": 95,
    "start_time": "2022-10-18T18:26:33.886Z"
   },
   {
    "duration": 45,
    "start_time": "2022-10-18T18:27:06.845Z"
   },
   {
    "duration": 68,
    "start_time": "2022-10-18T18:27:30.628Z"
   },
   {
    "duration": 47,
    "start_time": "2022-10-18T18:30:11.773Z"
   },
   {
    "duration": 1221,
    "start_time": "2022-10-19T17:56:08.556Z"
   },
   {
    "duration": 47,
    "start_time": "2022-10-19T17:56:09.779Z"
   },
   {
    "duration": 12,
    "start_time": "2022-10-19T17:56:11.614Z"
   },
   {
    "duration": 18,
    "start_time": "2022-10-19T18:22:14.335Z"
   },
   {
    "duration": 20,
    "start_time": "2022-10-19T18:22:29.206Z"
   },
   {
    "duration": 974,
    "start_time": "2022-10-19T19:02:08.244Z"
   },
   {
    "duration": 959,
    "start_time": "2022-10-19T19:05:54.694Z"
   },
   {
    "duration": 88,
    "start_time": "2022-10-19T19:07:04.887Z"
   },
   {
    "duration": 115,
    "start_time": "2022-10-19T19:07:28.763Z"
   },
   {
    "duration": 818,
    "start_time": "2022-10-19T19:08:01.113Z"
   },
   {
    "duration": 66,
    "start_time": "2022-10-19T19:10:09.734Z"
   },
   {
    "duration": 852,
    "start_time": "2022-10-19T19:10:21.320Z"
   },
   {
    "duration": 45,
    "start_time": "2022-10-19T19:12:14.411Z"
   },
   {
    "duration": 108,
    "start_time": "2022-10-19T19:13:21.033Z"
   },
   {
    "duration": 121,
    "start_time": "2022-10-19T19:13:43.654Z"
   },
   {
    "duration": 168,
    "start_time": "2022-10-19T19:14:02.970Z"
   },
   {
    "duration": 132,
    "start_time": "2022-10-19T19:16:28.063Z"
   },
   {
    "duration": 110,
    "start_time": "2022-10-19T19:21:57.895Z"
   },
   {
    "duration": 118,
    "start_time": "2022-10-19T19:23:33.138Z"
   },
   {
    "duration": 126,
    "start_time": "2022-10-19T19:23:57.540Z"
   },
   {
    "duration": 99,
    "start_time": "2022-10-19T19:29:27.322Z"
   },
   {
    "duration": 109,
    "start_time": "2022-10-19T19:30:02.190Z"
   },
   {
    "duration": 140,
    "start_time": "2022-10-19T19:31:24.010Z"
   },
   {
    "duration": 542,
    "start_time": "2022-10-19T19:33:13.701Z"
   },
   {
    "duration": 149,
    "start_time": "2022-10-19T19:34:18.245Z"
   },
   {
    "duration": 33,
    "start_time": "2022-10-19T19:34:18.397Z"
   },
   {
    "duration": 129,
    "start_time": "2022-10-19T19:34:18.432Z"
   },
   {
    "duration": 23,
    "start_time": "2022-10-19T19:34:23.304Z"
   },
   {
    "duration": 5,
    "start_time": "2022-10-19T19:35:36.436Z"
   },
   {
    "duration": 6,
    "start_time": "2022-10-19T19:46:49.260Z"
   },
   {
    "duration": 19,
    "start_time": "2022-10-19T19:48:31.588Z"
   },
   {
    "duration": 28,
    "start_time": "2022-10-19T19:49:16.931Z"
   },
   {
    "duration": 5,
    "start_time": "2022-10-19T19:54:01.878Z"
   },
   {
    "duration": 12,
    "start_time": "2022-10-19T19:55:36.239Z"
   },
   {
    "duration": 26,
    "start_time": "2022-10-19T19:58:23.750Z"
   },
   {
    "duration": 29,
    "start_time": "2022-10-19T19:58:49.618Z"
   },
   {
    "duration": 14,
    "start_time": "2022-10-19T20:00:14.798Z"
   },
   {
    "duration": 17,
    "start_time": "2022-10-19T20:18:47.667Z"
   },
   {
    "duration": 37,
    "start_time": "2022-10-19T20:19:51.885Z"
   },
   {
    "duration": 168,
    "start_time": "2022-10-19T20:21:06.658Z"
   },
   {
    "duration": 37,
    "start_time": "2022-10-19T20:21:06.829Z"
   },
   {
    "duration": 119,
    "start_time": "2022-10-19T20:21:06.868Z"
   },
   {
    "duration": 8,
    "start_time": "2022-10-19T20:21:06.994Z"
   },
   {
    "duration": 16,
    "start_time": "2022-10-19T20:21:07.003Z"
   },
   {
    "duration": 27,
    "start_time": "2022-10-19T20:21:09.381Z"
   },
   {
    "duration": 1169,
    "start_time": "2022-10-20T15:51:51.036Z"
   },
   {
    "duration": 33,
    "start_time": "2022-10-20T15:51:52.208Z"
   },
   {
    "duration": 125,
    "start_time": "2022-10-20T15:51:52.243Z"
   },
   {
    "duration": 10,
    "start_time": "2022-10-20T15:51:52.370Z"
   },
   {
    "duration": 29,
    "start_time": "2022-10-20T15:51:52.382Z"
   },
   {
    "duration": 33,
    "start_time": "2022-10-20T15:51:52.413Z"
   },
   {
    "duration": 3,
    "start_time": "2022-10-20T15:51:52.448Z"
   },
   {
    "duration": 435,
    "start_time": "2022-10-20T15:51:52.885Z"
   },
   {
    "duration": 34,
    "start_time": "2022-10-20T15:53:38.711Z"
   },
   {
    "duration": 32,
    "start_time": "2022-10-20T16:06:52.980Z"
   },
   {
    "duration": 42,
    "start_time": "2022-10-20T16:07:18.770Z"
   },
   {
    "duration": 39,
    "start_time": "2022-10-20T16:09:45.695Z"
   },
   {
    "duration": 42,
    "start_time": "2022-10-20T16:11:24.715Z"
   },
   {
    "duration": 42,
    "start_time": "2022-10-20T16:12:43.660Z"
   },
   {
    "duration": 6,
    "start_time": "2022-10-20T16:55:17.485Z"
   },
   {
    "duration": 5,
    "start_time": "2022-10-20T16:55:26.882Z"
   },
   {
    "duration": 70,
    "start_time": "2022-10-20T16:59:40.732Z"
   },
   {
    "duration": 13,
    "start_time": "2022-10-20T17:02:25.731Z"
   },
   {
    "duration": 5,
    "start_time": "2022-10-20T17:02:46.830Z"
   },
   {
    "duration": 4,
    "start_time": "2022-10-20T17:04:51.473Z"
   },
   {
    "duration": 6,
    "start_time": "2022-10-20T17:05:11.714Z"
   },
   {
    "duration": 9,
    "start_time": "2022-10-20T17:07:05.005Z"
   },
   {
    "duration": 13,
    "start_time": "2022-10-20T17:07:38.404Z"
   },
   {
    "duration": 5,
    "start_time": "2022-10-20T17:08:34.700Z"
   },
   {
    "duration": 16,
    "start_time": "2022-10-20T17:08:46.862Z"
   },
   {
    "duration": 5,
    "start_time": "2022-10-20T17:09:44.415Z"
   },
   {
    "duration": 5,
    "start_time": "2022-10-20T17:10:04.621Z"
   },
   {
    "duration": 4,
    "start_time": "2022-10-20T17:11:55.277Z"
   },
   {
    "duration": 4,
    "start_time": "2022-10-20T17:12:12.166Z"
   },
   {
    "duration": 10,
    "start_time": "2022-10-20T17:23:56.158Z"
   },
   {
    "duration": 5,
    "start_time": "2022-10-20T17:25:11.813Z"
   },
   {
    "duration": 9,
    "start_time": "2022-10-20T17:28:44.266Z"
   },
   {
    "duration": 5,
    "start_time": "2022-10-20T17:28:50.446Z"
   },
   {
    "duration": 5,
    "start_time": "2022-10-20T17:28:55.134Z"
   },
   {
    "duration": 4,
    "start_time": "2022-10-20T17:29:28.518Z"
   },
   {
    "duration": 5,
    "start_time": "2022-10-20T17:29:38.963Z"
   },
   {
    "duration": 47,
    "start_time": "2022-10-24T18:11:27.543Z"
   },
   {
    "duration": 1186,
    "start_time": "2022-10-24T18:11:33.890Z"
   },
   {
    "duration": 27,
    "start_time": "2022-10-24T18:11:35.078Z"
   },
   {
    "duration": 101,
    "start_time": "2022-10-24T18:11:35.106Z"
   },
   {
    "duration": 6,
    "start_time": "2022-10-24T18:11:35.209Z"
   },
   {
    "duration": 54,
    "start_time": "2022-10-24T18:11:35.217Z"
   },
   {
    "duration": 32,
    "start_time": "2022-10-24T18:11:35.273Z"
   },
   {
    "duration": 4,
    "start_time": "2022-10-24T18:11:35.306Z"
   },
   {
    "duration": 44,
    "start_time": "2022-10-24T18:11:36.942Z"
   },
   {
    "duration": 34,
    "start_time": "2022-10-24T18:11:36.988Z"
   },
   {
    "duration": 184,
    "start_time": "2022-10-24T18:11:37.023Z"
   },
   {
    "duration": 180,
    "start_time": "2022-10-24T18:12:34.388Z"
   },
   {
    "duration": 228,
    "start_time": "2022-10-24T18:19:00.217Z"
   },
   {
    "duration": 158,
    "start_time": "2022-10-24T18:19:10.493Z"
   },
   {
    "duration": 44,
    "start_time": "2022-10-24T18:23:32.344Z"
   },
   {
    "duration": 160,
    "start_time": "2022-10-24T18:23:49.698Z"
   },
   {
    "duration": 163,
    "start_time": "2022-10-24T18:24:28.894Z"
   },
   {
    "duration": 153,
    "start_time": "2022-10-24T18:33:15.436Z"
   },
   {
    "duration": 152,
    "start_time": "2022-10-24T18:34:05.368Z"
   },
   {
    "duration": 167,
    "start_time": "2022-10-24T18:35:08.839Z"
   },
   {
    "duration": 161,
    "start_time": "2022-10-24T18:39:19.952Z"
   },
   {
    "duration": 171,
    "start_time": "2022-10-24T18:40:19.471Z"
   },
   {
    "duration": 190,
    "start_time": "2022-10-24T18:40:30.421Z"
   },
   {
    "duration": 186,
    "start_time": "2022-10-24T18:41:07.095Z"
   },
   {
    "duration": 221,
    "start_time": "2022-10-24T18:41:45.154Z"
   },
   {
    "duration": 149,
    "start_time": "2022-10-24T18:43:42.392Z"
   },
   {
    "duration": 160,
    "start_time": "2022-10-24T18:45:11.840Z"
   },
   {
    "duration": 193,
    "start_time": "2022-10-24T18:46:30.566Z"
   },
   {
    "duration": 986,
    "start_time": "2022-10-24T18:54:23.310Z"
   },
   {
    "duration": 21,
    "start_time": "2022-10-24T18:54:47.969Z"
   },
   {
    "duration": 34,
    "start_time": "2022-10-24T18:57:03.676Z"
   },
   {
    "duration": 19,
    "start_time": "2022-10-24T18:58:14.314Z"
   },
   {
    "duration": 19,
    "start_time": "2022-10-24T18:58:46.136Z"
   },
   {
    "duration": 768,
    "start_time": "2022-10-24T18:59:39.152Z"
   },
   {
    "duration": 30,
    "start_time": "2022-10-24T19:00:04.441Z"
   },
   {
    "duration": 1530,
    "start_time": "2022-10-24T19:01:18.654Z"
   },
   {
    "duration": 25,
    "start_time": "2022-10-24T19:03:47.755Z"
   },
   {
    "duration": 21,
    "start_time": "2022-10-24T19:04:49.829Z"
   },
   {
    "duration": 20,
    "start_time": "2022-10-24T19:05:30.798Z"
   },
   {
    "duration": 1123,
    "start_time": "2022-10-24T19:07:33.079Z"
   },
   {
    "duration": 29,
    "start_time": "2022-10-24T19:07:54.798Z"
   },
   {
    "duration": 22,
    "start_time": "2022-10-24T19:08:01.354Z"
   },
   {
    "duration": 22,
    "start_time": "2022-10-24T19:10:27.859Z"
   },
   {
    "duration": 152,
    "start_time": "2022-10-24T19:10:44.932Z"
   },
   {
    "duration": 32,
    "start_time": "2022-10-24T19:10:45.085Z"
   },
   {
    "duration": 122,
    "start_time": "2022-10-24T19:10:45.119Z"
   },
   {
    "duration": 7,
    "start_time": "2022-10-24T19:10:45.243Z"
   },
   {
    "duration": 29,
    "start_time": "2022-10-24T19:10:45.252Z"
   },
   {
    "duration": 36,
    "start_time": "2022-10-24T19:10:45.282Z"
   },
   {
    "duration": 21,
    "start_time": "2022-10-24T19:10:45.320Z"
   },
   {
    "duration": 43,
    "start_time": "2022-10-24T19:10:45.343Z"
   },
   {
    "duration": 71,
    "start_time": "2022-10-24T19:10:45.388Z"
   },
   {
    "duration": 205,
    "start_time": "2022-10-24T19:10:45.461Z"
   },
   {
    "duration": 18,
    "start_time": "2022-10-24T19:10:50.480Z"
   },
   {
    "duration": 169,
    "start_time": "2022-10-24T19:11:16.349Z"
   },
   {
    "duration": 30,
    "start_time": "2022-10-24T19:11:16.520Z"
   },
   {
    "duration": 120,
    "start_time": "2022-10-24T19:11:16.551Z"
   },
   {
    "duration": 8,
    "start_time": "2022-10-24T19:11:16.673Z"
   },
   {
    "duration": 37,
    "start_time": "2022-10-24T19:11:16.682Z"
   },
   {
    "duration": 25,
    "start_time": "2022-10-24T19:11:16.720Z"
   },
   {
    "duration": 9,
    "start_time": "2022-10-24T19:11:16.747Z"
   },
   {
    "duration": 51,
    "start_time": "2022-10-24T19:11:16.758Z"
   },
   {
    "duration": 65,
    "start_time": "2022-10-24T19:11:16.812Z"
   },
   {
    "duration": 181,
    "start_time": "2022-10-24T19:11:16.879Z"
   },
   {
    "duration": 200,
    "start_time": "2022-10-24T19:11:21.417Z"
   },
   {
    "duration": 730,
    "start_time": "2022-10-24T19:11:51.149Z"
   },
   {
    "duration": 155,
    "start_time": "2022-10-24T19:12:13.567Z"
   },
   {
    "duration": 25,
    "start_time": "2022-10-24T19:12:13.724Z"
   },
   {
    "duration": 121,
    "start_time": "2022-10-24T19:12:13.751Z"
   },
   {
    "duration": 8,
    "start_time": "2022-10-24T19:12:13.874Z"
   },
   {
    "duration": 34,
    "start_time": "2022-10-24T19:12:13.884Z"
   },
   {
    "duration": 27,
    "start_time": "2022-10-24T19:12:13.919Z"
   },
   {
    "duration": 10,
    "start_time": "2022-10-24T19:12:13.948Z"
   },
   {
    "duration": 59,
    "start_time": "2022-10-24T19:12:13.959Z"
   },
   {
    "duration": 61,
    "start_time": "2022-10-24T19:12:14.019Z"
   },
   {
    "duration": 208,
    "start_time": "2022-10-24T19:12:14.084Z"
   },
   {
    "duration": 771,
    "start_time": "2022-10-24T19:12:18.059Z"
   },
   {
    "duration": 182,
    "start_time": "2022-10-24T19:13:52.162Z"
   },
   {
    "duration": 289,
    "start_time": "2022-10-24T19:16:34.546Z"
   },
   {
    "duration": 191,
    "start_time": "2022-10-24T19:25:01.317Z"
   },
   {
    "duration": 48,
    "start_time": "2022-10-24T19:34:36.247Z"
   },
   {
    "duration": 958,
    "start_time": "2022-10-24T19:34:43.071Z"
   },
   {
    "duration": 148,
    "start_time": "2022-10-24T19:35:06.256Z"
   },
   {
    "duration": 35,
    "start_time": "2022-10-24T19:35:06.406Z"
   },
   {
    "duration": 170,
    "start_time": "2022-10-24T19:35:06.443Z"
   },
   {
    "duration": 10,
    "start_time": "2022-10-24T19:35:06.616Z"
   },
   {
    "duration": 65,
    "start_time": "2022-10-24T19:35:06.628Z"
   },
   {
    "duration": 36,
    "start_time": "2022-10-24T19:35:06.695Z"
   },
   {
    "duration": 17,
    "start_time": "2022-10-24T19:35:06.732Z"
   },
   {
    "duration": 68,
    "start_time": "2022-10-24T19:35:06.751Z"
   },
   {
    "duration": 51,
    "start_time": "2022-10-24T19:35:06.821Z"
   },
   {
    "duration": 198,
    "start_time": "2022-10-24T19:35:06.875Z"
   },
   {
    "duration": 247,
    "start_time": "2022-10-24T19:35:07.075Z"
   },
   {
    "duration": 205,
    "start_time": "2022-10-24T19:35:09.272Z"
   },
   {
    "duration": 206,
    "start_time": "2022-10-24T19:35:58.582Z"
   },
   {
    "duration": 1215,
    "start_time": "2022-10-24T19:36:59.759Z"
   },
   {
    "duration": 172,
    "start_time": "2022-10-24T19:37:03.660Z"
   },
   {
    "duration": 29,
    "start_time": "2022-10-24T19:37:03.834Z"
   },
   {
    "duration": 174,
    "start_time": "2022-10-24T19:37:03.865Z"
   },
   {
    "duration": 9,
    "start_time": "2022-10-24T19:37:04.041Z"
   },
   {
    "duration": 17,
    "start_time": "2022-10-24T19:37:04.051Z"
   },
   {
    "duration": 62,
    "start_time": "2022-10-24T19:37:04.070Z"
   },
   {
    "duration": 11,
    "start_time": "2022-10-24T19:37:04.135Z"
   },
   {
    "duration": 58,
    "start_time": "2022-10-24T19:37:04.148Z"
   },
   {
    "duration": 55,
    "start_time": "2022-10-24T19:37:04.208Z"
   },
   {
    "duration": 267,
    "start_time": "2022-10-24T19:37:04.266Z"
   },
   {
    "duration": 233,
    "start_time": "2022-10-24T19:37:04.535Z"
   },
   {
    "duration": 808,
    "start_time": "2022-10-24T19:37:06.415Z"
   },
   {
    "duration": 270,
    "start_time": "2022-10-24T19:37:25.142Z"
   },
   {
    "duration": 823,
    "start_time": "2022-10-24T19:38:26.409Z"
   },
   {
    "duration": 146,
    "start_time": "2022-10-24T19:38:31.653Z"
   },
   {
    "duration": 45,
    "start_time": "2022-10-24T19:38:31.801Z"
   },
   {
    "duration": 127,
    "start_time": "2022-10-24T19:38:31.848Z"
   },
   {
    "duration": 8,
    "start_time": "2022-10-24T19:38:31.977Z"
   },
   {
    "duration": 34,
    "start_time": "2022-10-24T19:38:31.987Z"
   },
   {
    "duration": 38,
    "start_time": "2022-10-24T19:38:32.023Z"
   },
   {
    "duration": 37,
    "start_time": "2022-10-24T19:38:32.063Z"
   },
   {
    "duration": 34,
    "start_time": "2022-10-24T19:38:32.102Z"
   },
   {
    "duration": 75,
    "start_time": "2022-10-24T19:38:32.137Z"
   },
   {
    "duration": 217,
    "start_time": "2022-10-24T19:38:32.215Z"
   },
   {
    "duration": 298,
    "start_time": "2022-10-24T19:38:32.434Z"
   },
   {
    "duration": 250,
    "start_time": "2022-10-24T19:38:37.283Z"
   },
   {
    "duration": 844,
    "start_time": "2022-10-24T19:38:41.580Z"
   },
   {
    "duration": 158,
    "start_time": "2022-10-24T19:39:00.110Z"
   },
   {
    "duration": 40,
    "start_time": "2022-10-24T19:39:00.270Z"
   },
   {
    "duration": 135,
    "start_time": "2022-10-24T19:39:00.313Z"
   },
   {
    "duration": 9,
    "start_time": "2022-10-24T19:39:00.449Z"
   },
   {
    "duration": 24,
    "start_time": "2022-10-24T19:39:00.461Z"
   },
   {
    "duration": 44,
    "start_time": "2022-10-24T19:39:00.487Z"
   },
   {
    "duration": 5,
    "start_time": "2022-10-24T19:39:00.533Z"
   },
   {
    "duration": 66,
    "start_time": "2022-10-24T19:39:00.540Z"
   },
   {
    "duration": 44,
    "start_time": "2022-10-24T19:39:00.608Z"
   },
   {
    "duration": 234,
    "start_time": "2022-10-24T19:39:00.654Z"
   },
   {
    "duration": 228,
    "start_time": "2022-10-24T19:39:00.890Z"
   },
   {
    "duration": 869,
    "start_time": "2022-10-24T19:39:03.276Z"
   },
   {
    "duration": 180,
    "start_time": "2022-10-24T19:41:35.056Z"
   },
   {
    "duration": 202,
    "start_time": "2022-10-24T19:42:02.867Z"
   },
   {
    "duration": 189,
    "start_time": "2022-10-24T19:42:17.958Z"
   },
   {
    "duration": 189,
    "start_time": "2022-10-24T19:42:21.438Z"
   },
   {
    "duration": 171,
    "start_time": "2022-10-24T19:46:37.628Z"
   },
   {
    "duration": 721,
    "start_time": "2022-10-24T19:52:12.276Z"
   },
   {
    "duration": 978,
    "start_time": "2022-10-24T19:52:27.558Z"
   },
   {
    "duration": 750,
    "start_time": "2022-10-24T19:53:01.583Z"
   },
   {
    "duration": 181,
    "start_time": "2022-10-24T19:54:08.937Z"
   },
   {
    "duration": 29,
    "start_time": "2022-10-24T19:55:16.200Z"
   },
   {
    "duration": 33,
    "start_time": "2022-10-24T19:55:34.763Z"
   },
   {
    "duration": 37,
    "start_time": "2022-10-24T19:55:37.627Z"
   },
   {
    "duration": 186,
    "start_time": "2022-10-24T19:56:27.638Z"
   },
   {
    "duration": 1291,
    "start_time": "2022-10-25T16:53:48.150Z"
   },
   {
    "duration": 33,
    "start_time": "2022-10-25T16:53:49.444Z"
   },
   {
    "duration": 124,
    "start_time": "2022-10-25T16:53:49.479Z"
   },
   {
    "duration": 12,
    "start_time": "2022-10-25T16:53:49.606Z"
   },
   {
    "duration": 23,
    "start_time": "2022-10-25T16:53:49.621Z"
   },
   {
    "duration": 70,
    "start_time": "2022-10-25T16:53:49.648Z"
   },
   {
    "duration": 5,
    "start_time": "2022-10-25T16:53:49.721Z"
   },
   {
    "duration": 63,
    "start_time": "2022-10-25T16:53:49.728Z"
   },
   {
    "duration": 49,
    "start_time": "2022-10-25T16:53:49.793Z"
   },
   {
    "duration": 324,
    "start_time": "2022-10-25T16:53:49.845Z"
   },
   {
    "duration": 190,
    "start_time": "2022-10-25T16:53:50.171Z"
   },
   {
    "duration": 230,
    "start_time": "2022-10-25T16:53:50.363Z"
   },
   {
    "duration": 48,
    "start_time": "2022-10-25T16:53:50.953Z"
   },
   {
    "duration": 147,
    "start_time": "2022-10-25T16:54:20.723Z"
   },
   {
    "duration": 31,
    "start_time": "2022-10-25T17:00:15.081Z"
   },
   {
    "duration": 176,
    "start_time": "2022-10-25T17:00:17.661Z"
   },
   {
    "duration": 31,
    "start_time": "2022-10-25T17:00:17.839Z"
   },
   {
    "duration": 138,
    "start_time": "2022-10-25T17:00:17.871Z"
   },
   {
    "duration": 11,
    "start_time": "2022-10-25T17:00:18.011Z"
   },
   {
    "duration": 22,
    "start_time": "2022-10-25T17:00:18.025Z"
   },
   {
    "duration": 69,
    "start_time": "2022-10-25T17:00:18.048Z"
   },
   {
    "duration": 5,
    "start_time": "2022-10-25T17:00:18.119Z"
   },
   {
    "duration": 34,
    "start_time": "2022-10-25T17:00:18.127Z"
   },
   {
    "duration": 72,
    "start_time": "2022-10-25T17:00:18.162Z"
   },
   {
    "duration": 237,
    "start_time": "2022-10-25T17:00:18.236Z"
   },
   {
    "duration": 202,
    "start_time": "2022-10-25T17:00:18.475Z"
   },
   {
    "duration": 241,
    "start_time": "2022-10-25T17:00:18.678Z"
   },
   {
    "duration": 34,
    "start_time": "2022-10-25T17:00:19.669Z"
   },
   {
    "duration": 26,
    "start_time": "2022-10-25T17:00:40.669Z"
   },
   {
    "duration": 28,
    "start_time": "2022-10-25T17:00:53.060Z"
   },
   {
    "duration": 29,
    "start_time": "2022-10-25T17:02:27.170Z"
   },
   {
    "duration": 32,
    "start_time": "2022-10-25T17:02:47.720Z"
   },
   {
    "duration": 155,
    "start_time": "2022-10-25T17:09:32.891Z"
   },
   {
    "duration": 30,
    "start_time": "2022-10-25T17:09:33.048Z"
   },
   {
    "duration": 133,
    "start_time": "2022-10-25T17:09:33.080Z"
   },
   {
    "duration": 10,
    "start_time": "2022-10-25T17:09:33.217Z"
   },
   {
    "duration": 18,
    "start_time": "2022-10-25T17:09:33.229Z"
   },
   {
    "duration": 60,
    "start_time": "2022-10-25T17:09:33.248Z"
   },
   {
    "duration": 7,
    "start_time": "2022-10-25T17:09:33.310Z"
   },
   {
    "duration": 41,
    "start_time": "2022-10-25T17:09:33.319Z"
   },
   {
    "duration": 70,
    "start_time": "2022-10-25T17:09:33.362Z"
   },
   {
    "duration": 215,
    "start_time": "2022-10-25T17:09:33.433Z"
   },
   {
    "duration": 194,
    "start_time": "2022-10-25T17:09:33.649Z"
   },
   {
    "duration": 235,
    "start_time": "2022-10-25T17:09:33.845Z"
   },
   {
    "duration": 41,
    "start_time": "2022-10-25T17:09:34.082Z"
   },
   {
    "duration": 0,
    "start_time": "2022-10-25T17:09:34.126Z"
   },
   {
    "duration": 0,
    "start_time": "2022-10-25T17:09:34.128Z"
   },
   {
    "duration": 36,
    "start_time": "2022-10-25T17:09:56.677Z"
   },
   {
    "duration": 150,
    "start_time": "2022-10-25T17:11:18.120Z"
   },
   {
    "duration": 30,
    "start_time": "2022-10-25T17:11:18.272Z"
   },
   {
    "duration": 122,
    "start_time": "2022-10-25T17:11:18.304Z"
   },
   {
    "duration": 9,
    "start_time": "2022-10-25T17:11:18.428Z"
   },
   {
    "duration": 19,
    "start_time": "2022-10-25T17:11:18.439Z"
   },
   {
    "duration": 52,
    "start_time": "2022-10-25T17:11:18.460Z"
   },
   {
    "duration": 12,
    "start_time": "2022-10-25T17:11:18.516Z"
   },
   {
    "duration": 40,
    "start_time": "2022-10-25T17:11:18.530Z"
   },
   {
    "duration": 64,
    "start_time": "2022-10-25T17:11:18.571Z"
   },
   {
    "duration": 213,
    "start_time": "2022-10-25T17:11:18.637Z"
   },
   {
    "duration": 205,
    "start_time": "2022-10-25T17:11:18.852Z"
   },
   {
    "duration": 292,
    "start_time": "2022-10-25T17:11:19.059Z"
   },
   {
    "duration": 8,
    "start_time": "2022-10-25T17:11:19.672Z"
   },
   {
    "duration": 194,
    "start_time": "2022-10-25T17:11:25.166Z"
   },
   {
    "duration": 224,
    "start_time": "2022-10-25T17:14:07.345Z"
   },
   {
    "duration": 219,
    "start_time": "2022-10-25T17:14:37.213Z"
   },
   {
    "duration": 199,
    "start_time": "2022-10-25T17:22:14.951Z"
   },
   {
    "duration": 283,
    "start_time": "2022-10-25T17:26:39.463Z"
   },
   {
    "duration": 216,
    "start_time": "2022-10-25T17:26:50.766Z"
   },
   {
    "duration": 1230,
    "start_time": "2022-10-25T17:27:52.120Z"
   },
   {
    "duration": 28,
    "start_time": "2022-10-25T17:27:58.251Z"
   },
   {
    "duration": 1089,
    "start_time": "2022-10-25T17:28:13.051Z"
   },
   {
    "duration": 1107,
    "start_time": "2022-10-25T17:28:30.753Z"
   },
   {
    "duration": 231,
    "start_time": "2022-10-25T17:30:08.205Z"
   },
   {
    "duration": 128,
    "start_time": "2022-10-25T17:30:26.168Z"
   },
   {
    "duration": 1161,
    "start_time": "2022-10-25T17:30:33.951Z"
   },
   {
    "duration": 1077,
    "start_time": "2022-10-25T17:30:49.549Z"
   },
   {
    "duration": 1148,
    "start_time": "2022-10-25T17:34:53.802Z"
   },
   {
    "duration": 209,
    "start_time": "2022-10-25T17:35:11.275Z"
   },
   {
    "duration": 617,
    "start_time": "2022-10-25T17:35:59.114Z"
   },
   {
    "duration": 27,
    "start_time": "2022-10-25T17:38:43.263Z"
   },
   {
    "duration": 65,
    "start_time": "2022-10-25T17:39:10.219Z"
   },
   {
    "duration": 27,
    "start_time": "2022-10-25T17:39:17.148Z"
   },
   {
    "duration": 25,
    "start_time": "2022-10-25T17:40:20.467Z"
   },
   {
    "duration": 20,
    "start_time": "2022-10-25T17:42:01.955Z"
   },
   {
    "duration": 191,
    "start_time": "2022-10-25T17:43:41.367Z"
   },
   {
    "duration": 35,
    "start_time": "2022-10-25T17:43:52.603Z"
   },
   {
    "duration": 31,
    "start_time": "2022-10-25T17:48:21.239Z"
   },
   {
    "duration": 3,
    "start_time": "2022-10-25T17:49:00.757Z"
   },
   {
    "duration": 37,
    "start_time": "2022-10-25T17:49:03.863Z"
   },
   {
    "duration": 28,
    "start_time": "2022-10-25T17:50:41.844Z"
   },
   {
    "duration": 28,
    "start_time": "2022-10-25T17:50:47.798Z"
   },
   {
    "duration": 33,
    "start_time": "2022-10-25T17:52:08.310Z"
   },
   {
    "duration": 30,
    "start_time": "2022-10-25T17:52:25.332Z"
   },
   {
    "duration": 219,
    "start_time": "2022-10-25T17:52:36.923Z"
   },
   {
    "duration": 210,
    "start_time": "2022-10-25T17:54:01.760Z"
   },
   {
    "duration": 226,
    "start_time": "2022-10-25T17:54:38.066Z"
   },
   {
    "duration": 207,
    "start_time": "2022-10-25T17:54:44.191Z"
   },
   {
    "duration": 24,
    "start_time": "2022-10-25T17:55:34.068Z"
   },
   {
    "duration": 210,
    "start_time": "2022-10-25T17:55:40.675Z"
   },
   {
    "duration": 446,
    "start_time": "2022-10-25T17:56:53.928Z"
   },
   {
    "duration": 194,
    "start_time": "2022-10-25T17:58:22.857Z"
   },
   {
    "duration": 1049,
    "start_time": "2022-10-25T19:09:21.964Z"
   },
   {
    "duration": 2,
    "start_time": "2022-10-25T19:09:34.796Z"
   },
   {
    "duration": 145,
    "start_time": "2022-10-25T19:09:41.398Z"
   },
   {
    "duration": 37,
    "start_time": "2022-10-25T19:09:41.545Z"
   },
   {
    "duration": 115,
    "start_time": "2022-10-25T19:09:41.584Z"
   },
   {
    "duration": 8,
    "start_time": "2022-10-25T19:09:41.702Z"
   },
   {
    "duration": 19,
    "start_time": "2022-10-25T19:09:41.712Z"
   },
   {
    "duration": 30,
    "start_time": "2022-10-25T19:09:41.732Z"
   },
   {
    "duration": 29,
    "start_time": "2022-10-25T19:09:41.763Z"
   },
   {
    "duration": 29,
    "start_time": "2022-10-25T19:09:41.794Z"
   },
   {
    "duration": 36,
    "start_time": "2022-10-25T19:09:41.825Z"
   },
   {
    "duration": 218,
    "start_time": "2022-10-25T19:09:41.863Z"
   },
   {
    "duration": 187,
    "start_time": "2022-10-25T19:09:42.083Z"
   },
   {
    "duration": 227,
    "start_time": "2022-10-25T19:09:42.271Z"
   },
   {
    "duration": 293,
    "start_time": "2022-10-25T19:09:42.500Z"
   },
   {
    "duration": 1090,
    "start_time": "2022-10-25T19:09:44.247Z"
   },
   {
    "duration": 1111,
    "start_time": "2022-10-25T19:10:08.270Z"
   },
   {
    "duration": 1247,
    "start_time": "2022-10-25T19:10:39.237Z"
   },
   {
    "duration": 1267,
    "start_time": "2022-10-25T19:11:00.337Z"
   },
   {
    "duration": 203,
    "start_time": "2022-10-25T19:11:30.673Z"
   },
   {
    "duration": 32,
    "start_time": "2022-10-25T19:16:44.767Z"
   },
   {
    "duration": 299,
    "start_time": "2022-10-25T19:17:43.389Z"
   },
   {
    "duration": 4,
    "start_time": "2022-10-25T19:55:01.171Z"
   },
   {
    "duration": 25,
    "start_time": "2022-10-25T19:55:13.176Z"
   },
   {
    "duration": 37,
    "start_time": "2022-10-25T19:56:00.204Z"
   },
   {
    "duration": 11,
    "start_time": "2022-10-25T19:59:20.064Z"
   },
   {
    "duration": 9,
    "start_time": "2022-10-25T19:59:48.361Z"
   },
   {
    "duration": 11,
    "start_time": "2022-10-25T19:59:56.488Z"
   },
   {
    "duration": 24,
    "start_time": "2022-10-25T20:00:05.919Z"
   },
   {
    "duration": 26,
    "start_time": "2022-10-25T20:02:11.912Z"
   },
   {
    "duration": 45,
    "start_time": "2022-10-26T15:33:19.937Z"
   },
   {
    "duration": 1102,
    "start_time": "2022-10-26T15:33:24.481Z"
   },
   {
    "duration": 41,
    "start_time": "2022-10-26T15:33:25.585Z"
   },
   {
    "duration": 144,
    "start_time": "2022-10-26T15:33:25.629Z"
   },
   {
    "duration": 8,
    "start_time": "2022-10-26T15:33:25.775Z"
   },
   {
    "duration": 17,
    "start_time": "2022-10-26T15:33:25.784Z"
   },
   {
    "duration": 47,
    "start_time": "2022-10-26T15:33:25.803Z"
   },
   {
    "duration": 5,
    "start_time": "2022-10-26T15:33:25.852Z"
   },
   {
    "duration": 66,
    "start_time": "2022-10-26T15:33:25.859Z"
   },
   {
    "duration": 60,
    "start_time": "2022-10-26T15:33:25.927Z"
   },
   {
    "duration": 234,
    "start_time": "2022-10-26T15:33:25.990Z"
   },
   {
    "duration": 178,
    "start_time": "2022-10-26T15:33:26.226Z"
   },
   {
    "duration": 206,
    "start_time": "2022-10-26T15:33:26.406Z"
   },
   {
    "duration": 243,
    "start_time": "2022-10-26T15:33:26.614Z"
   },
   {
    "duration": 197,
    "start_time": "2022-10-26T15:33:26.858Z"
   },
   {
    "duration": 336,
    "start_time": "2022-10-26T15:33:27.057Z"
   },
   {
    "duration": 34,
    "start_time": "2022-10-26T15:33:27.396Z"
   },
   {
    "duration": 23,
    "start_time": "2022-10-26T15:33:39.569Z"
   },
   {
    "duration": 43,
    "start_time": "2022-10-26T15:35:23.796Z"
   },
   {
    "duration": 11,
    "start_time": "2022-10-26T15:35:40.861Z"
   },
   {
    "duration": 10,
    "start_time": "2022-10-26T15:35:53.384Z"
   },
   {
    "duration": 9,
    "start_time": "2022-10-26T15:43:29.413Z"
   },
   {
    "duration": 50,
    "start_time": "2022-10-26T15:44:16.339Z"
   },
   {
    "duration": 13,
    "start_time": "2022-10-26T15:50:26.997Z"
   },
   {
    "duration": 4,
    "start_time": "2022-10-26T15:53:04.056Z"
   },
   {
    "duration": 3,
    "start_time": "2022-10-26T15:53:51.704Z"
   },
   {
    "duration": 4,
    "start_time": "2022-10-26T15:54:12.045Z"
   },
   {
    "duration": 15,
    "start_time": "2022-10-26T15:55:02.265Z"
   },
   {
    "duration": 5,
    "start_time": "2022-10-26T16:01:41.223Z"
   },
   {
    "duration": 6,
    "start_time": "2022-10-26T16:01:50.116Z"
   },
   {
    "duration": 8,
    "start_time": "2022-10-26T16:07:25.864Z"
   },
   {
    "duration": 8,
    "start_time": "2022-10-26T16:07:42.065Z"
   },
   {
    "duration": 8,
    "start_time": "2022-10-26T16:08:31.324Z"
   },
   {
    "duration": 11,
    "start_time": "2022-10-26T16:09:12.143Z"
   },
   {
    "duration": 12,
    "start_time": "2022-10-26T16:09:37.213Z"
   },
   {
    "duration": 191,
    "start_time": "2022-10-26T16:25:03.415Z"
   },
   {
    "duration": 88,
    "start_time": "2022-10-26T16:43:40.541Z"
   },
   {
    "duration": 9,
    "start_time": "2022-10-26T16:44:00.393Z"
   },
   {
    "duration": 11,
    "start_time": "2022-10-26T16:44:12.213Z"
   },
   {
    "duration": 8,
    "start_time": "2022-10-26T16:44:27.873Z"
   },
   {
    "duration": 9,
    "start_time": "2022-10-26T16:46:30.161Z"
   },
   {
    "duration": 9,
    "start_time": "2022-10-26T16:49:24.232Z"
   },
   {
    "duration": 4,
    "start_time": "2022-10-26T16:50:14.264Z"
   },
   {
    "duration": 182,
    "start_time": "2022-10-26T16:55:45.271Z"
   },
   {
    "duration": 172,
    "start_time": "2022-10-26T16:56:52.352Z"
   },
   {
    "duration": 251,
    "start_time": "2022-10-26T16:59:08.103Z"
   },
   {
    "duration": 197,
    "start_time": "2022-10-26T17:02:33.033Z"
   },
   {
    "duration": 190,
    "start_time": "2022-10-26T17:06:20.247Z"
   },
   {
    "duration": 195,
    "start_time": "2022-10-26T17:06:43.406Z"
   },
   {
    "duration": 266,
    "start_time": "2022-10-26T17:06:56.374Z"
   },
   {
    "duration": 12,
    "start_time": "2022-10-26T17:08:26.653Z"
   },
   {
    "duration": 11,
    "start_time": "2022-10-26T17:08:46.777Z"
   },
   {
    "duration": 22,
    "start_time": "2022-10-26T17:31:01.351Z"
   },
   {
    "duration": 206,
    "start_time": "2022-10-26T17:35:11.318Z"
   },
   {
    "duration": 1308,
    "start_time": "2022-10-27T09:29:57.046Z"
   },
   {
    "duration": 30,
    "start_time": "2022-10-27T09:29:58.356Z"
   },
   {
    "duration": 142,
    "start_time": "2022-10-27T09:29:58.388Z"
   },
   {
    "duration": 8,
    "start_time": "2022-10-27T09:29:58.532Z"
   },
   {
    "duration": 13,
    "start_time": "2022-10-27T09:29:58.542Z"
   },
   {
    "duration": 33,
    "start_time": "2022-10-27T09:29:58.557Z"
   },
   {
    "duration": 18,
    "start_time": "2022-10-27T09:29:58.591Z"
   },
   {
    "duration": 22,
    "start_time": "2022-10-27T09:29:58.611Z"
   },
   {
    "duration": 7,
    "start_time": "2022-10-27T09:29:58.634Z"
   },
   {
    "duration": 222,
    "start_time": "2022-10-27T09:29:58.644Z"
   },
   {
    "duration": 212,
    "start_time": "2022-10-27T09:29:58.869Z"
   },
   {
    "duration": 248,
    "start_time": "2022-10-27T09:29:59.083Z"
   },
   {
    "duration": 251,
    "start_time": "2022-10-27T09:29:59.332Z"
   },
   {
    "duration": 216,
    "start_time": "2022-10-27T09:29:59.584Z"
   },
   {
    "duration": 286,
    "start_time": "2022-10-27T09:29:59.802Z"
   },
   {
    "duration": 29,
    "start_time": "2022-10-27T09:30:00.090Z"
   },
   {
    "duration": 19,
    "start_time": "2022-10-27T09:30:00.121Z"
   },
   {
    "duration": 260,
    "start_time": "2022-10-27T09:30:00.142Z"
   },
   {
    "duration": 37,
    "start_time": "2022-10-27T09:51:13.112Z"
   },
   {
    "duration": 22,
    "start_time": "2022-10-27T10:05:27.322Z"
   },
   {
    "duration": 15,
    "start_time": "2022-10-27T10:06:00.165Z"
   },
   {
    "duration": 45,
    "start_time": "2022-10-27T10:06:29.167Z"
   },
   {
    "duration": 36,
    "start_time": "2022-10-27T10:06:43.680Z"
   },
   {
    "duration": 58,
    "start_time": "2022-10-27T10:07:21.498Z"
   },
   {
    "duration": 22,
    "start_time": "2022-10-27T10:07:28.492Z"
   },
   {
    "duration": 66,
    "start_time": "2022-10-27T10:09:12.471Z"
   },
   {
    "duration": 24,
    "start_time": "2022-10-27T10:09:24.392Z"
   },
   {
    "duration": 19,
    "start_time": "2022-10-27T10:09:32.663Z"
   },
   {
    "duration": 45,
    "start_time": "2022-10-27T17:49:16.907Z"
   },
   {
    "duration": 716,
    "start_time": "2022-10-27T17:49:21.476Z"
   },
   {
    "duration": 292,
    "start_time": "2022-10-27T17:49:22.194Z"
   },
   {
    "duration": 28,
    "start_time": "2022-10-27T17:49:22.488Z"
   },
   {
    "duration": 89,
    "start_time": "2022-10-27T17:49:22.518Z"
   },
   {
    "duration": 12,
    "start_time": "2022-10-27T17:49:25.762Z"
   },
   {
    "duration": 12,
    "start_time": "2022-10-27T17:49:36.136Z"
   },
   {
    "duration": 26,
    "start_time": "2022-10-27T17:50:45.945Z"
   },
   {
    "duration": 26,
    "start_time": "2022-10-27T17:50:56.344Z"
   },
   {
    "duration": 28,
    "start_time": "2022-10-27T17:51:42.399Z"
   },
   {
    "duration": 30,
    "start_time": "2022-10-27T17:52:25.358Z"
   },
   {
    "duration": 42,
    "start_time": "2022-10-27T17:55:11.703Z"
   },
   {
    "duration": 47,
    "start_time": "2022-10-27T18:18:46.594Z"
   },
   {
    "duration": 54,
    "start_time": "2022-10-27T18:20:16.318Z"
   },
   {
    "duration": 3,
    "start_time": "2022-10-27T18:20:21.976Z"
   },
   {
    "duration": 157,
    "start_time": "2022-10-27T18:20:21.980Z"
   },
   {
    "duration": 40,
    "start_time": "2022-10-27T18:20:22.139Z"
   },
   {
    "duration": 101,
    "start_time": "2022-10-27T18:20:22.180Z"
   },
   {
    "duration": 53,
    "start_time": "2022-10-27T18:20:23.457Z"
   },
   {
    "duration": 20,
    "start_time": "2022-10-27T18:20:40.678Z"
   },
   {
    "duration": 32,
    "start_time": "2022-10-27T18:20:46.119Z"
   },
   {
    "duration": 23,
    "start_time": "2022-10-27T18:20:49.085Z"
   },
   {
    "duration": 34,
    "start_time": "2022-10-27T18:32:10.141Z"
   },
   {
    "duration": 17,
    "start_time": "2022-10-27T18:32:12.135Z"
   },
   {
    "duration": 44,
    "start_time": "2022-10-27T18:33:21.171Z"
   },
   {
    "duration": 29,
    "start_time": "2022-10-27T18:33:24.536Z"
   },
   {
    "duration": 29,
    "start_time": "2022-10-27T18:33:34.263Z"
   },
   {
    "duration": 40,
    "start_time": "2022-10-27T18:36:49.084Z"
   },
   {
    "duration": 31,
    "start_time": "2022-10-27T19:03:46.080Z"
   },
   {
    "duration": 52,
    "start_time": "2022-10-27T19:05:23.536Z"
   },
   {
    "duration": 51,
    "start_time": "2022-10-27T19:05:43.996Z"
   },
   {
    "duration": 46,
    "start_time": "2022-10-27T19:06:44.425Z"
   },
   {
    "duration": 41,
    "start_time": "2022-10-27T19:24:19.500Z"
   },
   {
    "duration": 52,
    "start_time": "2022-10-27T19:24:30.885Z"
   },
   {
    "duration": 42,
    "start_time": "2022-10-27T19:25:11.327Z"
   },
   {
    "duration": 69,
    "start_time": "2022-10-27T19:25:17.573Z"
   },
   {
    "duration": 3,
    "start_time": "2022-10-27T19:25:36.201Z"
   },
   {
    "duration": 157,
    "start_time": "2022-10-27T19:25:36.206Z"
   },
   {
    "duration": 27,
    "start_time": "2022-10-27T19:25:36.364Z"
   },
   {
    "duration": 88,
    "start_time": "2022-10-27T19:25:36.393Z"
   },
   {
    "duration": 48,
    "start_time": "2022-10-27T19:25:36.483Z"
   },
   {
    "duration": 7,
    "start_time": "2022-10-27T19:25:36.533Z"
   },
   {
    "duration": 42,
    "start_time": "2022-10-27T19:25:36.542Z"
   },
   {
    "duration": 3,
    "start_time": "2022-10-27T19:25:36.586Z"
   },
   {
    "duration": 36,
    "start_time": "2022-10-27T19:25:36.591Z"
   },
   {
    "duration": 5,
    "start_time": "2022-10-27T19:25:36.628Z"
   },
   {
    "duration": 241,
    "start_time": "2022-10-27T19:25:36.635Z"
   },
   {
    "duration": 168,
    "start_time": "2022-10-27T19:25:36.878Z"
   },
   {
    "duration": 210,
    "start_time": "2022-10-27T19:25:37.048Z"
   },
   {
    "duration": 215,
    "start_time": "2022-10-27T19:25:37.260Z"
   },
   {
    "duration": 192,
    "start_time": "2022-10-27T19:25:37.477Z"
   },
   {
    "duration": 289,
    "start_time": "2022-10-27T19:25:37.671Z"
   },
   {
    "duration": 15,
    "start_time": "2022-10-27T19:25:37.963Z"
   },
   {
    "duration": 31,
    "start_time": "2022-10-27T19:26:51.271Z"
   },
   {
    "duration": 50,
    "start_time": "2022-10-27T19:42:36.180Z"
   },
   {
    "duration": 44,
    "start_time": "2022-10-27T19:43:39.212Z"
   },
   {
    "duration": 22,
    "start_time": "2022-10-27T19:44:00.632Z"
   },
   {
    "duration": 30,
    "start_time": "2022-10-27T19:44:52.315Z"
   },
   {
    "duration": 38,
    "start_time": "2022-10-27T19:49:18.237Z"
   },
   {
    "duration": 40,
    "start_time": "2022-10-27T19:49:35.509Z"
   },
   {
    "duration": 21,
    "start_time": "2022-10-27T19:49:46.791Z"
   },
   {
    "duration": 3,
    "start_time": "2022-10-27T20:10:11.639Z"
   },
   {
    "duration": 153,
    "start_time": "2022-10-27T20:10:11.645Z"
   },
   {
    "duration": 28,
    "start_time": "2022-10-27T20:10:11.800Z"
   },
   {
    "duration": 83,
    "start_time": "2022-10-27T20:10:11.830Z"
   },
   {
    "duration": 42,
    "start_time": "2022-10-27T20:10:11.921Z"
   },
   {
    "duration": 7,
    "start_time": "2022-10-27T20:10:11.964Z"
   },
   {
    "duration": 63,
    "start_time": "2022-10-27T20:10:11.973Z"
   },
   {
    "duration": 3,
    "start_time": "2022-10-27T20:10:12.038Z"
   },
   {
    "duration": 11,
    "start_time": "2022-10-27T20:10:12.042Z"
   },
   {
    "duration": 8,
    "start_time": "2022-10-27T20:10:12.055Z"
   },
   {
    "duration": 208,
    "start_time": "2022-10-27T20:10:12.064Z"
   },
   {
    "duration": 172,
    "start_time": "2022-10-27T20:10:12.274Z"
   },
   {
    "duration": 198,
    "start_time": "2022-10-27T20:10:12.448Z"
   },
   {
    "duration": 182,
    "start_time": "2022-10-27T20:10:12.647Z"
   },
   {
    "duration": 223,
    "start_time": "2022-10-27T20:10:12.831Z"
   },
   {
    "duration": 20,
    "start_time": "2022-10-27T20:10:15.590Z"
   },
   {
    "duration": 331,
    "start_time": "2022-10-27T20:10:58.476Z"
   },
   {
    "duration": 47,
    "start_time": "2022-10-27T20:13:58.992Z"
   },
   {
    "duration": 41,
    "start_time": "2022-10-28T08:11:37.608Z"
   },
   {
    "duration": 603,
    "start_time": "2022-10-28T08:11:44.313Z"
   },
   {
    "duration": 147,
    "start_time": "2022-10-28T08:11:44.919Z"
   },
   {
    "duration": 26,
    "start_time": "2022-10-28T08:11:45.067Z"
   },
   {
    "duration": 82,
    "start_time": "2022-10-28T08:11:45.095Z"
   },
   {
    "duration": 44,
    "start_time": "2022-10-28T08:11:45.179Z"
   },
   {
    "duration": 8,
    "start_time": "2022-10-28T08:11:45.224Z"
   },
   {
    "duration": 45,
    "start_time": "2022-10-28T08:11:45.234Z"
   },
   {
    "duration": 6,
    "start_time": "2022-10-28T08:11:45.304Z"
   },
   {
    "duration": 25,
    "start_time": "2022-10-28T08:11:45.312Z"
   },
   {
    "duration": 26,
    "start_time": "2022-10-28T08:11:45.339Z"
   },
   {
    "duration": 202,
    "start_time": "2022-10-28T08:11:45.367Z"
   },
   {
    "duration": 168,
    "start_time": "2022-10-28T08:11:45.570Z"
   },
   {
    "duration": 190,
    "start_time": "2022-10-28T08:11:45.739Z"
   },
   {
    "duration": 231,
    "start_time": "2022-10-28T08:11:45.930Z"
   },
   {
    "duration": 194,
    "start_time": "2022-10-28T08:11:46.162Z"
   },
   {
    "duration": 359,
    "start_time": "2022-10-28T08:11:46.358Z"
   },
   {
    "duration": 22,
    "start_time": "2022-10-28T08:11:46.718Z"
   },
   {
    "duration": 10,
    "start_time": "2022-10-28T08:11:46.742Z"
   },
   {
    "duration": 232,
    "start_time": "2022-10-28T08:11:46.754Z"
   },
   {
    "duration": 246,
    "start_time": "2022-10-28T08:11:52.453Z"
   },
   {
    "duration": 218,
    "start_time": "2022-10-28T08:11:58.964Z"
   },
   {
    "duration": 902,
    "start_time": "2022-12-08T15:56:36.767Z"
   },
   {
    "duration": 283,
    "start_time": "2022-12-08T15:56:37.672Z"
   },
   {
    "duration": 32,
    "start_time": "2022-12-08T15:56:37.957Z"
   },
   {
    "duration": 90,
    "start_time": "2022-12-08T15:56:37.991Z"
   },
   {
    "duration": 45,
    "start_time": "2022-12-08T15:56:38.083Z"
   },
   {
    "duration": 7,
    "start_time": "2022-12-08T15:56:38.130Z"
   },
   {
    "duration": 67,
    "start_time": "2022-12-08T15:56:38.139Z"
   },
   {
    "duration": 4,
    "start_time": "2022-12-08T15:56:38.207Z"
   },
   {
    "duration": 9,
    "start_time": "2022-12-08T15:56:38.213Z"
   },
   {
    "duration": 4,
    "start_time": "2022-12-08T15:56:38.223Z"
   },
   {
    "duration": 80,
    "start_time": "2022-12-08T15:56:55.728Z"
   },
   {
    "duration": 18,
    "start_time": "2022-12-08T15:57:15.729Z"
   },
   {
    "duration": 197,
    "start_time": "2022-12-08T15:57:41.058Z"
   },
   {
    "duration": 592,
    "start_time": "2022-12-12T17:30:45.799Z"
   },
   {
    "duration": 384,
    "start_time": "2022-12-12T17:30:46.394Z"
   },
   {
    "duration": 29,
    "start_time": "2022-12-12T17:30:46.779Z"
   },
   {
    "duration": 100,
    "start_time": "2022-12-12T17:30:46.810Z"
   },
   {
    "duration": 66,
    "start_time": "2022-12-12T17:30:46.912Z"
   },
   {
    "duration": 9,
    "start_time": "2022-12-12T17:30:46.980Z"
   },
   {
    "duration": 49,
    "start_time": "2022-12-12T17:30:46.990Z"
   },
   {
    "duration": 5,
    "start_time": "2022-12-12T17:30:47.040Z"
   },
   {
    "duration": 38,
    "start_time": "2022-12-12T17:30:47.047Z"
   },
   {
    "duration": 5,
    "start_time": "2022-12-12T17:30:47.086Z"
   },
   {
    "duration": 224,
    "start_time": "2022-12-12T17:30:49.932Z"
   }
  ],
  "colab": {
   "name": "DA+. Сборный проект 1. Шаблон (1).ipynb",
   "provenance": []
  },
  "kernelspec": {
   "display_name": "Python 3 (ipykernel)",
   "language": "python",
   "name": "python3"
  },
  "language_info": {
   "codemirror_mode": {
    "name": "ipython",
    "version": 3
   },
   "file_extension": ".py",
   "mimetype": "text/x-python",
   "name": "python",
   "nbconvert_exporter": "python",
   "pygments_lexer": "ipython3",
   "version": "3.9.12"
  },
  "toc": {
   "base_numbering": 1,
   "nav_menu": {},
   "number_sections": true,
   "sideBar": true,
   "skip_h1_title": true,
   "title_cell": "Table of Contents",
   "title_sidebar": "Contents",
   "toc_cell": false,
   "toc_position": {
    "height": "calc(100% - 180px)",
    "left": "10px",
    "top": "150px",
    "width": "375.391px"
   },
   "toc_section_display": true,
   "toc_window_display": false
  }
 },
 "nbformat": 4,
 "nbformat_minor": 1
}

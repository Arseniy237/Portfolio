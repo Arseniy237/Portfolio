{
 "cells": [
  {
   "cell_type": "markdown",
   "metadata": {},
   "source": [
    "<a id=\"start\"></a>\n",
    "# Анализ базы данных сервиса чтения книг"
   ]
  },
  {
   "cell_type": "markdown",
   "metadata": {},
   "source": [
    "### Цели исследования:\n",
    "* Посчитать, сколько книг вышло после 1 января 2000 года.\n",
    "* Для каждой книги посчитать количество обзоров и среднюю оценку.\n",
    "* Определить издательство, которое выпустило наибольшее число книг не считая брошюр.\n",
    "* Определить автора с самой высокой средней оценкой книг.\n",
    "* Посчитать среднее количество обзоров от пользователей, которые поставили больше 48 оценок.\n",
    "\n",
    "### Содержание:\n",
    "\n",
    "* [Подготовка данных](#part1)\n",
    "* [Исследование таблиц](#part2)\n",
    "* [Запросы](#part3)\n",
    "    * [Количество вышедших книг](#part3-1)\n",
    "    * [Количество обзоров и средняя оценка](#part3-2)\n",
    "    * [Самые активные издательства](#part3-3)\n",
    "    * [Самые выскооцененный автор](#part3-4)\n",
    "    * [Количество обзоров от критиков](#part3-5)"
   ]
  },
  {
   "cell_type": "markdown",
   "metadata": {},
   "source": [
    "## Подготовка данных\n",
    "<a id=\"part1\"></a>"
   ]
  },
  {
   "cell_type": "code",
   "execution_count": 1,
   "metadata": {},
   "outputs": [],
   "source": [
    "# импортируем библиотеки\n",
    "import pandas as pd\n",
    "from sqlalchemy import text, create_engine"
   ]
  },
  {
   "cell_type": "code",
   "execution_count": 2,
   "metadata": {},
   "outputs": [],
   "source": [
    "# устанавливаем параметры\n",
    "db_config = {'user': 'praktikum_student', # имя пользователя\n",
    "'pwd': 'Sdf4$2;d-d30pp', # пароль\n",
    "'host': 'rc1b-wcoijxj3yxfsf3fs.mdb.yandexcloud.net',\n",
    "'port': 6432, # порт подключения\n",
    "'db': 'data-analyst-final-project-db'} # название базы данных\n",
    "connection_string = 'postgresql://{user}:{pwd}@{host}:{port}/{db}'.format(**db_config)\n",
    "# сохраняем коннектор\n",
    "engine = create_engine(connection_string, connect_args={'sslmode':'require'})\n",
    "# чтобы выполнить SQL-запрос, используем Pandas\n"
   ]
  },
  {
   "cell_type": "markdown",
   "metadata": {},
   "source": [
    "## Исследование таблиц\n",
    "<a id=\"part2\"></a>"
   ]
  },
  {
   "cell_type": "code",
   "execution_count": 3,
   "metadata": {},
   "outputs": [
    {
     "name": "stdout",
     "output_type": "stream",
     "text": [
      "books\n"
     ]
    },
    {
     "data": {
      "text/html": [
       "<div>\n",
       "<style scoped>\n",
       "    .dataframe tbody tr th:only-of-type {\n",
       "        vertical-align: middle;\n",
       "    }\n",
       "\n",
       "    .dataframe tbody tr th {\n",
       "        vertical-align: top;\n",
       "    }\n",
       "\n",
       "    .dataframe thead th {\n",
       "        text-align: right;\n",
       "    }\n",
       "</style>\n",
       "<table border=\"1\" class=\"dataframe\">\n",
       "  <thead>\n",
       "    <tr style=\"text-align: right;\">\n",
       "      <th></th>\n",
       "      <th>book_id</th>\n",
       "      <th>author_id</th>\n",
       "      <th>title</th>\n",
       "      <th>num_pages</th>\n",
       "      <th>publication_date</th>\n",
       "      <th>publisher_id</th>\n",
       "    </tr>\n",
       "  </thead>\n",
       "  <tbody>\n",
       "    <tr>\n",
       "      <th>0</th>\n",
       "      <td>1</td>\n",
       "      <td>546</td>\n",
       "      <td>'Salem's Lot</td>\n",
       "      <td>594</td>\n",
       "      <td>2005-11-01</td>\n",
       "      <td>93</td>\n",
       "    </tr>\n",
       "    <tr>\n",
       "      <th>1</th>\n",
       "      <td>2</td>\n",
       "      <td>465</td>\n",
       "      <td>1 000 Places to See Before You Die</td>\n",
       "      <td>992</td>\n",
       "      <td>2003-05-22</td>\n",
       "      <td>336</td>\n",
       "    </tr>\n",
       "    <tr>\n",
       "      <th>2</th>\n",
       "      <td>3</td>\n",
       "      <td>407</td>\n",
       "      <td>13 Little Blue Envelopes (Little Blue Envelope...</td>\n",
       "      <td>322</td>\n",
       "      <td>2010-12-21</td>\n",
       "      <td>135</td>\n",
       "    </tr>\n",
       "    <tr>\n",
       "      <th>3</th>\n",
       "      <td>4</td>\n",
       "      <td>82</td>\n",
       "      <td>1491: New Revelations of the Americas Before C...</td>\n",
       "      <td>541</td>\n",
       "      <td>2006-10-10</td>\n",
       "      <td>309</td>\n",
       "    </tr>\n",
       "    <tr>\n",
       "      <th>4</th>\n",
       "      <td>5</td>\n",
       "      <td>125</td>\n",
       "      <td>1776</td>\n",
       "      <td>386</td>\n",
       "      <td>2006-07-04</td>\n",
       "      <td>268</td>\n",
       "    </tr>\n",
       "  </tbody>\n",
       "</table>\n",
       "</div>"
      ],
      "text/plain": [
       "   book_id  author_id                                              title  \\\n",
       "0        1        546                                       'Salem's Lot   \n",
       "1        2        465                 1 000 Places to See Before You Die   \n",
       "2        3        407  13 Little Blue Envelopes (Little Blue Envelope...   \n",
       "3        4         82  1491: New Revelations of the Americas Before C...   \n",
       "4        5        125                                               1776   \n",
       "\n",
       "   num_pages publication_date  publisher_id  \n",
       "0        594       2005-11-01            93  \n",
       "1        992       2003-05-22           336  \n",
       "2        322       2010-12-21           135  \n",
       "3        541       2006-10-10           309  \n",
       "4        386       2006-07-04           268  "
      ]
     },
     "execution_count": 3,
     "metadata": {},
     "output_type": "execute_result"
    }
   ],
   "source": [
    "query = '''SELECT * FROM books LIMIT 5'''\n",
    "\n",
    "print('books')\n",
    "con=engine.connect()\n",
    "pd.io.sql.read_sql(sql=text(query), con = con)"
   ]
  },
  {
   "cell_type": "code",
   "execution_count": 4,
   "metadata": {},
   "outputs": [
    {
     "name": "stdout",
     "output_type": "stream",
     "text": [
      "authors\n"
     ]
    },
    {
     "data": {
      "text/html": [
       "<div>\n",
       "<style scoped>\n",
       "    .dataframe tbody tr th:only-of-type {\n",
       "        vertical-align: middle;\n",
       "    }\n",
       "\n",
       "    .dataframe tbody tr th {\n",
       "        vertical-align: top;\n",
       "    }\n",
       "\n",
       "    .dataframe thead th {\n",
       "        text-align: right;\n",
       "    }\n",
       "</style>\n",
       "<table border=\"1\" class=\"dataframe\">\n",
       "  <thead>\n",
       "    <tr style=\"text-align: right;\">\n",
       "      <th></th>\n",
       "      <th>author_id</th>\n",
       "      <th>author</th>\n",
       "    </tr>\n",
       "  </thead>\n",
       "  <tbody>\n",
       "    <tr>\n",
       "      <th>0</th>\n",
       "      <td>1</td>\n",
       "      <td>A.S. Byatt</td>\n",
       "    </tr>\n",
       "    <tr>\n",
       "      <th>1</th>\n",
       "      <td>2</td>\n",
       "      <td>Aesop/Laura Harris/Laura Gibbs</td>\n",
       "    </tr>\n",
       "    <tr>\n",
       "      <th>2</th>\n",
       "      <td>3</td>\n",
       "      <td>Agatha Christie</td>\n",
       "    </tr>\n",
       "    <tr>\n",
       "      <th>3</th>\n",
       "      <td>4</td>\n",
       "      <td>Alan Brennert</td>\n",
       "    </tr>\n",
       "    <tr>\n",
       "      <th>4</th>\n",
       "      <td>5</td>\n",
       "      <td>Alan Moore/David   Lloyd</td>\n",
       "    </tr>\n",
       "  </tbody>\n",
       "</table>\n",
       "</div>"
      ],
      "text/plain": [
       "   author_id                          author\n",
       "0          1                      A.S. Byatt\n",
       "1          2  Aesop/Laura Harris/Laura Gibbs\n",
       "2          3                 Agatha Christie\n",
       "3          4                   Alan Brennert\n",
       "4          5        Alan Moore/David   Lloyd"
      ]
     },
     "execution_count": 4,
     "metadata": {},
     "output_type": "execute_result"
    }
   ],
   "source": [
    "query = '''SELECT * FROM authors LIMIT 5'''\n",
    "\n",
    "print('authors')\n",
    "con=engine.connect()\n",
    "pd.io.sql.read_sql(sql=text(query), con = con)"
   ]
  },
  {
   "cell_type": "code",
   "execution_count": 5,
   "metadata": {},
   "outputs": [
    {
     "name": "stdout",
     "output_type": "stream",
     "text": [
      "publishers\n"
     ]
    },
    {
     "data": {
      "text/html": [
       "<div>\n",
       "<style scoped>\n",
       "    .dataframe tbody tr th:only-of-type {\n",
       "        vertical-align: middle;\n",
       "    }\n",
       "\n",
       "    .dataframe tbody tr th {\n",
       "        vertical-align: top;\n",
       "    }\n",
       "\n",
       "    .dataframe thead th {\n",
       "        text-align: right;\n",
       "    }\n",
       "</style>\n",
       "<table border=\"1\" class=\"dataframe\">\n",
       "  <thead>\n",
       "    <tr style=\"text-align: right;\">\n",
       "      <th></th>\n",
       "      <th>publisher_id</th>\n",
       "      <th>publisher</th>\n",
       "    </tr>\n",
       "  </thead>\n",
       "  <tbody>\n",
       "    <tr>\n",
       "      <th>0</th>\n",
       "      <td>1</td>\n",
       "      <td>Ace</td>\n",
       "    </tr>\n",
       "    <tr>\n",
       "      <th>1</th>\n",
       "      <td>2</td>\n",
       "      <td>Ace Book</td>\n",
       "    </tr>\n",
       "    <tr>\n",
       "      <th>2</th>\n",
       "      <td>3</td>\n",
       "      <td>Ace Books</td>\n",
       "    </tr>\n",
       "    <tr>\n",
       "      <th>3</th>\n",
       "      <td>4</td>\n",
       "      <td>Ace Hardcover</td>\n",
       "    </tr>\n",
       "    <tr>\n",
       "      <th>4</th>\n",
       "      <td>5</td>\n",
       "      <td>Addison Wesley Publishing Company</td>\n",
       "    </tr>\n",
       "  </tbody>\n",
       "</table>\n",
       "</div>"
      ],
      "text/plain": [
       "   publisher_id                          publisher\n",
       "0             1                                Ace\n",
       "1             2                           Ace Book\n",
       "2             3                          Ace Books\n",
       "3             4                      Ace Hardcover\n",
       "4             5  Addison Wesley Publishing Company"
      ]
     },
     "execution_count": 5,
     "metadata": {},
     "output_type": "execute_result"
    }
   ],
   "source": [
    "query = '''SELECT * FROM publishers LIMIT 5'''\n",
    "\n",
    "print('publishers')\n",
    "con=engine.connect()\n",
    "pd.io.sql.read_sql(sql=text(query), con = con)"
   ]
  },
  {
   "cell_type": "code",
   "execution_count": 6,
   "metadata": {},
   "outputs": [
    {
     "name": "stdout",
     "output_type": "stream",
     "text": [
      "reviews\n"
     ]
    },
    {
     "data": {
      "text/html": [
       "<div>\n",
       "<style scoped>\n",
       "    .dataframe tbody tr th:only-of-type {\n",
       "        vertical-align: middle;\n",
       "    }\n",
       "\n",
       "    .dataframe tbody tr th {\n",
       "        vertical-align: top;\n",
       "    }\n",
       "\n",
       "    .dataframe thead th {\n",
       "        text-align: right;\n",
       "    }\n",
       "</style>\n",
       "<table border=\"1\" class=\"dataframe\">\n",
       "  <thead>\n",
       "    <tr style=\"text-align: right;\">\n",
       "      <th></th>\n",
       "      <th>review_id</th>\n",
       "      <th>book_id</th>\n",
       "      <th>username</th>\n",
       "      <th>text</th>\n",
       "    </tr>\n",
       "  </thead>\n",
       "  <tbody>\n",
       "    <tr>\n",
       "      <th>0</th>\n",
       "      <td>1</td>\n",
       "      <td>1</td>\n",
       "      <td>brandtandrea</td>\n",
       "      <td>Mention society tell send professor analysis. ...</td>\n",
       "    </tr>\n",
       "    <tr>\n",
       "      <th>1</th>\n",
       "      <td>2</td>\n",
       "      <td>1</td>\n",
       "      <td>ryanfranco</td>\n",
       "      <td>Foot glass pretty audience hit themselves. Amo...</td>\n",
       "    </tr>\n",
       "    <tr>\n",
       "      <th>2</th>\n",
       "      <td>3</td>\n",
       "      <td>2</td>\n",
       "      <td>lorichen</td>\n",
       "      <td>Listen treat keep worry. Miss husband tax but ...</td>\n",
       "    </tr>\n",
       "    <tr>\n",
       "      <th>3</th>\n",
       "      <td>4</td>\n",
       "      <td>3</td>\n",
       "      <td>johnsonamanda</td>\n",
       "      <td>Finally month interesting blue could nature cu...</td>\n",
       "    </tr>\n",
       "    <tr>\n",
       "      <th>4</th>\n",
       "      <td>5</td>\n",
       "      <td>3</td>\n",
       "      <td>scotttamara</td>\n",
       "      <td>Nation purpose heavy give wait song will. List...</td>\n",
       "    </tr>\n",
       "  </tbody>\n",
       "</table>\n",
       "</div>"
      ],
      "text/plain": [
       "   review_id  book_id       username  \\\n",
       "0          1        1   brandtandrea   \n",
       "1          2        1     ryanfranco   \n",
       "2          3        2       lorichen   \n",
       "3          4        3  johnsonamanda   \n",
       "4          5        3    scotttamara   \n",
       "\n",
       "                                                text  \n",
       "0  Mention society tell send professor analysis. ...  \n",
       "1  Foot glass pretty audience hit themselves. Amo...  \n",
       "2  Listen treat keep worry. Miss husband tax but ...  \n",
       "3  Finally month interesting blue could nature cu...  \n",
       "4  Nation purpose heavy give wait song will. List...  "
      ]
     },
     "execution_count": 6,
     "metadata": {},
     "output_type": "execute_result"
    }
   ],
   "source": [
    "query = '''SELECT * FROM reviews LIMIT 5'''\n",
    "\n",
    "print('reviews')\n",
    "con=engine.connect()\n",
    "pd.io.sql.read_sql(sql=text(query), con = con)"
   ]
  },
  {
   "cell_type": "code",
   "execution_count": 7,
   "metadata": {},
   "outputs": [
    {
     "name": "stdout",
     "output_type": "stream",
     "text": [
      "ratings\n"
     ]
    },
    {
     "data": {
      "text/html": [
       "<div>\n",
       "<style scoped>\n",
       "    .dataframe tbody tr th:only-of-type {\n",
       "        vertical-align: middle;\n",
       "    }\n",
       "\n",
       "    .dataframe tbody tr th {\n",
       "        vertical-align: top;\n",
       "    }\n",
       "\n",
       "    .dataframe thead th {\n",
       "        text-align: right;\n",
       "    }\n",
       "</style>\n",
       "<table border=\"1\" class=\"dataframe\">\n",
       "  <thead>\n",
       "    <tr style=\"text-align: right;\">\n",
       "      <th></th>\n",
       "      <th>rating_id</th>\n",
       "      <th>book_id</th>\n",
       "      <th>username</th>\n",
       "      <th>rating</th>\n",
       "    </tr>\n",
       "  </thead>\n",
       "  <tbody>\n",
       "    <tr>\n",
       "      <th>0</th>\n",
       "      <td>1</td>\n",
       "      <td>1</td>\n",
       "      <td>ryanfranco</td>\n",
       "      <td>4</td>\n",
       "    </tr>\n",
       "    <tr>\n",
       "      <th>1</th>\n",
       "      <td>2</td>\n",
       "      <td>1</td>\n",
       "      <td>grantpatricia</td>\n",
       "      <td>2</td>\n",
       "    </tr>\n",
       "    <tr>\n",
       "      <th>2</th>\n",
       "      <td>3</td>\n",
       "      <td>1</td>\n",
       "      <td>brandtandrea</td>\n",
       "      <td>5</td>\n",
       "    </tr>\n",
       "    <tr>\n",
       "      <th>3</th>\n",
       "      <td>4</td>\n",
       "      <td>2</td>\n",
       "      <td>lorichen</td>\n",
       "      <td>3</td>\n",
       "    </tr>\n",
       "    <tr>\n",
       "      <th>4</th>\n",
       "      <td>5</td>\n",
       "      <td>2</td>\n",
       "      <td>mariokeller</td>\n",
       "      <td>2</td>\n",
       "    </tr>\n",
       "  </tbody>\n",
       "</table>\n",
       "</div>"
      ],
      "text/plain": [
       "   rating_id  book_id       username  rating\n",
       "0          1        1     ryanfranco       4\n",
       "1          2        1  grantpatricia       2\n",
       "2          3        1   brandtandrea       5\n",
       "3          4        2       lorichen       3\n",
       "4          5        2    mariokeller       2"
      ]
     },
     "execution_count": 7,
     "metadata": {},
     "output_type": "execute_result"
    }
   ],
   "source": [
    "query = '''SELECT * FROM ratings LIMIT 5'''\n",
    "\n",
    "print('ratings')\n",
    "con=engine.connect()\n",
    "pd.io.sql.read_sql(sql=text(query), con = con)"
   ]
  },
  {
   "cell_type": "markdown",
   "metadata": {},
   "source": [
    "## Запросы\n",
    "<a id=\"part3\"></a>"
   ]
  },
  {
   "cell_type": "markdown",
   "metadata": {},
   "source": [
    "### Количество вышедших книг\n",
    "<a id=\"part3-1\"></a>"
   ]
  },
  {
   "cell_type": "code",
   "execution_count": 8,
   "metadata": {},
   "outputs": [
    {
     "data": {
      "text/html": [
       "<div>\n",
       "<style scoped>\n",
       "    .dataframe tbody tr th:only-of-type {\n",
       "        vertical-align: middle;\n",
       "    }\n",
       "\n",
       "    .dataframe tbody tr th {\n",
       "        vertical-align: top;\n",
       "    }\n",
       "\n",
       "    .dataframe thead th {\n",
       "        text-align: right;\n",
       "    }\n",
       "</style>\n",
       "<table border=\"1\" class=\"dataframe\">\n",
       "  <thead>\n",
       "    <tr style=\"text-align: right;\">\n",
       "      <th></th>\n",
       "      <th>count</th>\n",
       "    </tr>\n",
       "  </thead>\n",
       "  <tbody>\n",
       "    <tr>\n",
       "      <th>0</th>\n",
       "      <td>819</td>\n",
       "    </tr>\n",
       "  </tbody>\n",
       "</table>\n",
       "</div>"
      ],
      "text/plain": [
       "   count\n",
       "0    819"
      ]
     },
     "execution_count": 8,
     "metadata": {},
     "output_type": "execute_result"
    }
   ],
   "source": [
    "query = '''\n",
    "SELECT COUNT(book_id)\n",
    "FROM books\n",
    "WHERE publication_date > '2000-01-01'\n",
    "\n",
    "'''\n",
    "\n",
    "\n",
    "con=engine.connect()\n",
    "pd.io.sql.read_sql(sql=text(query), con = con)"
   ]
  },
  {
   "cell_type": "markdown",
   "metadata": {},
   "source": [
    "С первого января 2000 года вышло 819 книг."
   ]
  },
  {
   "cell_type": "markdown",
   "metadata": {},
   "source": [
    "### Количество обзоров и средняя оценка\n",
    "<a id=\"part3-2\"></a>"
   ]
  },
  {
   "cell_type": "code",
   "execution_count": 9,
   "metadata": {},
   "outputs": [
    {
     "data": {
      "text/html": [
       "<div>\n",
       "<style scoped>\n",
       "    .dataframe tbody tr th:only-of-type {\n",
       "        vertical-align: middle;\n",
       "    }\n",
       "\n",
       "    .dataframe tbody tr th {\n",
       "        vertical-align: top;\n",
       "    }\n",
       "\n",
       "    .dataframe thead th {\n",
       "        text-align: right;\n",
       "    }\n",
       "</style>\n",
       "<table border=\"1\" class=\"dataframe\">\n",
       "  <thead>\n",
       "    <tr style=\"text-align: right;\">\n",
       "      <th></th>\n",
       "      <th>book_id</th>\n",
       "      <th>title</th>\n",
       "      <th>avg_rating</th>\n",
       "      <th>reviews_count</th>\n",
       "    </tr>\n",
       "  </thead>\n",
       "  <tbody>\n",
       "    <tr>\n",
       "      <th>0</th>\n",
       "      <td>948</td>\n",
       "      <td>Twilight (Twilight  #1)</td>\n",
       "      <td>3.662500</td>\n",
       "      <td>7</td>\n",
       "    </tr>\n",
       "    <tr>\n",
       "      <th>1</th>\n",
       "      <td>963</td>\n",
       "      <td>Water for Elephants</td>\n",
       "      <td>3.977273</td>\n",
       "      <td>6</td>\n",
       "    </tr>\n",
       "    <tr>\n",
       "      <th>2</th>\n",
       "      <td>734</td>\n",
       "      <td>The Glass Castle</td>\n",
       "      <td>4.206897</td>\n",
       "      <td>6</td>\n",
       "    </tr>\n",
       "    <tr>\n",
       "      <th>3</th>\n",
       "      <td>302</td>\n",
       "      <td>Harry Potter and the Prisoner of Azkaban (Harr...</td>\n",
       "      <td>4.414634</td>\n",
       "      <td>6</td>\n",
       "    </tr>\n",
       "    <tr>\n",
       "      <th>4</th>\n",
       "      <td>695</td>\n",
       "      <td>The Curious Incident of the Dog in the Night-Time</td>\n",
       "      <td>4.081081</td>\n",
       "      <td>6</td>\n",
       "    </tr>\n",
       "    <tr>\n",
       "      <th>...</th>\n",
       "      <td>...</td>\n",
       "      <td>...</td>\n",
       "      <td>...</td>\n",
       "      <td>...</td>\n",
       "    </tr>\n",
       "    <tr>\n",
       "      <th>995</th>\n",
       "      <td>83</td>\n",
       "      <td>Anne Rice's The Vampire Lestat: A Graphic Novel</td>\n",
       "      <td>3.666667</td>\n",
       "      <td>0</td>\n",
       "    </tr>\n",
       "    <tr>\n",
       "      <th>996</th>\n",
       "      <td>808</td>\n",
       "      <td>The Natural Way to Draw</td>\n",
       "      <td>3.000000</td>\n",
       "      <td>0</td>\n",
       "    </tr>\n",
       "    <tr>\n",
       "      <th>997</th>\n",
       "      <td>672</td>\n",
       "      <td>The Cat in the Hat and Other Dr. Seuss Favorites</td>\n",
       "      <td>5.000000</td>\n",
       "      <td>0</td>\n",
       "    </tr>\n",
       "    <tr>\n",
       "      <th>998</th>\n",
       "      <td>221</td>\n",
       "      <td>Essential Tales and Poems</td>\n",
       "      <td>4.000000</td>\n",
       "      <td>0</td>\n",
       "    </tr>\n",
       "    <tr>\n",
       "      <th>999</th>\n",
       "      <td>191</td>\n",
       "      <td>Disney's Beauty and the Beast (A Little Golden...</td>\n",
       "      <td>4.000000</td>\n",
       "      <td>0</td>\n",
       "    </tr>\n",
       "  </tbody>\n",
       "</table>\n",
       "<p>1000 rows × 4 columns</p>\n",
       "</div>"
      ],
      "text/plain": [
       "     book_id                                              title  avg_rating  \\\n",
       "0        948                            Twilight (Twilight  #1)    3.662500   \n",
       "1        963                                Water for Elephants    3.977273   \n",
       "2        734                                   The Glass Castle    4.206897   \n",
       "3        302  Harry Potter and the Prisoner of Azkaban (Harr...    4.414634   \n",
       "4        695  The Curious Incident of the Dog in the Night-Time    4.081081   \n",
       "..       ...                                                ...         ...   \n",
       "995       83    Anne Rice's The Vampire Lestat: A Graphic Novel    3.666667   \n",
       "996      808                            The Natural Way to Draw    3.000000   \n",
       "997      672   The Cat in the Hat and Other Dr. Seuss Favorites    5.000000   \n",
       "998      221                          Essential Tales and Poems    4.000000   \n",
       "999      191  Disney's Beauty and the Beast (A Little Golden...    4.000000   \n",
       "\n",
       "     reviews_count  \n",
       "0                7  \n",
       "1                6  \n",
       "2                6  \n",
       "3                6  \n",
       "4                6  \n",
       "..             ...  \n",
       "995              0  \n",
       "996              0  \n",
       "997              0  \n",
       "998              0  \n",
       "999              0  \n",
       "\n",
       "[1000 rows x 4 columns]"
      ]
     },
     "execution_count": 9,
     "metadata": {},
     "output_type": "execute_result"
    }
   ],
   "source": [
    "query = '''\n",
    "SELECT b.book_id,\n",
    "       b.title,\n",
    "       AVG(ra.rating) AS avg_rating,\n",
    "       COUNT(DISTINCT re.review_id) AS reviews_count\n",
    "FROM books b\n",
    "LEFT JOIN reviews re ON b.book_id=re.book_id\n",
    "LEFT JOIN ratings ra ON b.book_id=ra.book_id\n",
    "GROUP BY 1\n",
    "ORDER BY 4 DESC\n",
    "'''\n",
    "\n",
    "con=engine.connect()\n",
    "pd.io.sql.read_sql(sql=text(query), con = con)"
   ]
  },
  {
   "cell_type": "markdown",
   "metadata": {},
   "source": [
    "Благодарю за совместную работу и хочу поздравить, ты большой молодец, что прошёл такой путь и освоил программу, надеюсь у тебя сбудутся все намеченные планы.\n",
    "\n",
    "У Практикума развивается сообщество выпускников, так что рекомендую про него не забывать, в случае необходимости.\n",
    "\n",
    "\n",
    "Рекомендую всё же написать функцию для первичного анализа, чтобы автоматизировать первичный анализ, один из ценных навыков аналатика - автоматизировать повторяющиеся задачи, в целом есть библиотека - `pandas profiling`, которая как раз позволяет первичный анализ делать ещё легче, может быть ты используешь её). Возможно набор различных фокусов для визуализаций ниже позволит тебе разнообразить твои визуализации и использовать в своей работе больше всего. Желаю успехов!)\n",
    "\n",
    "\n",
    "Оформление презентаций дело субъективное и зачастую в разных компаниях имеются свои требования, но вот видео от Яндекса по созданию презентаций https://www.youtube.com/watch?v=S0r0fMJa9eA, а ещё на платформе практикума открылся бесплатный курс по созданию презентаций, рекомендую.\n",
    "\n",
    "Для более глубокого изучения tableau, в случае необходимости рекомендую материал https://tableau.pro/m01, этот курс делает классная команда, у них бывают и другие интересные мини курсы. Но в последнее время российские компании уходят от tableau или уже ушли, поэтому возможно придётся познакомиться с другими инструментами.\n",
    "\n",
    "Задачи на статистику или вокруг неё часто возникают на собеседовании, для укрепления этого фундамента рекомендую статью для выбора критерия проверки гипотез https://lit-review.ru/biostatistika/vybor-statisticheskogo-kriteriya/, https://statpsy.ru/ - информация по критериям проверки гипотез.\n",
    "\n",
    "Визуализации данных для аналитиков очень важны, при помощи них легче доносить желаемые мысли, а для того, чтобы лучше отобразить, нужно понимать, какие вообще существуют визуализации, делюсь с тобой своей подборкой для разных случае жизни https://www.notion.so/d9392e1cb71f48cfb1fbf7f557a2b7e7 \n",
    "\n",
    "\n",
    "SQL важный навык, который нужно поддерживать для этого существует много тренажёров:\n",
    "* Статья на хабр с топ-тренажёрами: https://techrocks.ru/2019/11/22/7-sites-to-perfect-sql-query-writing-skills/\n",
    "* задачки SQL - https://habr.com/ru/company/dcmiran/blog/500360/\n",
    "* https://sqlzoo.net/\n"
   ]
  },
  {
   "cell_type": "code",
   "execution_count": 10,
   "metadata": {},
   "outputs": [
    {
     "data": {
      "text/html": [
       "<div>\n",
       "<style scoped>\n",
       "    .dataframe tbody tr th:only-of-type {\n",
       "        vertical-align: middle;\n",
       "    }\n",
       "\n",
       "    .dataframe tbody tr th {\n",
       "        vertical-align: top;\n",
       "    }\n",
       "\n",
       "    .dataframe thead th {\n",
       "        text-align: right;\n",
       "    }\n",
       "</style>\n",
       "<table border=\"1\" class=\"dataframe\">\n",
       "  <thead>\n",
       "    <tr style=\"text-align: right;\">\n",
       "      <th></th>\n",
       "      <th>sum</th>\n",
       "    </tr>\n",
       "  </thead>\n",
       "  <tbody>\n",
       "    <tr>\n",
       "      <th>0</th>\n",
       "      <td>2793.0</td>\n",
       "    </tr>\n",
       "  </tbody>\n",
       "</table>\n",
       "</div>"
      ],
      "text/plain": [
       "      sum\n",
       "0  2793.0"
      ]
     },
     "execution_count": 10,
     "metadata": {},
     "output_type": "execute_result"
    }
   ],
   "source": [
    "query = '''\n",
    "WITH my_table AS (\n",
    "SELECT b.book_id,\n",
    "       b.title,\n",
    "       AVG(ra.rating) AS avg_rating,\n",
    "       COUNT(DISTINCT re.review_id) AS reviews_count\n",
    "FROM books b\n",
    "LEFT JOIN reviews re ON b.book_id=re.book_id\n",
    "LEFT JOIN ratings ra ON b.book_id=ra.book_id\n",
    "GROUP BY 1\n",
    "ORDER BY 4 DESC)\n",
    "SELECT SUM(reviews_count)\n",
    "FROM my_table\n",
    "'''\n",
    "con=engine.connect()\n",
    "pd.io.sql.read_sql(sql=text(query), con = con)"
   ]
  },
  {
   "cell_type": "code",
   "execution_count": 11,
   "metadata": {},
   "outputs": [
    {
     "data": {
      "text/html": [
       "<div>\n",
       "<style scoped>\n",
       "    .dataframe tbody tr th:only-of-type {\n",
       "        vertical-align: middle;\n",
       "    }\n",
       "\n",
       "    .dataframe tbody tr th {\n",
       "        vertical-align: top;\n",
       "    }\n",
       "\n",
       "    .dataframe thead th {\n",
       "        text-align: right;\n",
       "    }\n",
       "</style>\n",
       "<table border=\"1\" class=\"dataframe\">\n",
       "  <thead>\n",
       "    <tr style=\"text-align: right;\">\n",
       "      <th></th>\n",
       "      <th>count</th>\n",
       "    </tr>\n",
       "  </thead>\n",
       "  <tbody>\n",
       "    <tr>\n",
       "      <th>0</th>\n",
       "      <td>2793</td>\n",
       "    </tr>\n",
       "  </tbody>\n",
       "</table>\n",
       "</div>"
      ],
      "text/plain": [
       "   count\n",
       "0   2793"
      ]
     },
     "execution_count": 11,
     "metadata": {},
     "output_type": "execute_result"
    }
   ],
   "source": [
    "query = '''\n",
    "SELECT COUNT(review_id)\n",
    "FROM reviews\n",
    "'''\n",
    "con=engine.connect()\n",
    "pd.io.sql.read_sql(sql=text(query), con = con)"
   ]
  },
  {
   "cell_type": "markdown",
   "metadata": {},
   "source": [
    "Подготовлена таблица с с средним рейтингом и количеством обзоров для каждой книги."
   ]
  },
  {
   "cell_type": "markdown",
   "metadata": {},
   "source": [
    "### Самые активные издательства\n",
    "<a id=\"part3-3\"></a>"
   ]
  },
  {
   "cell_type": "code",
   "execution_count": 12,
   "metadata": {},
   "outputs": [
    {
     "data": {
      "text/html": [
       "<div>\n",
       "<style scoped>\n",
       "    .dataframe tbody tr th:only-of-type {\n",
       "        vertical-align: middle;\n",
       "    }\n",
       "\n",
       "    .dataframe tbody tr th {\n",
       "        vertical-align: top;\n",
       "    }\n",
       "\n",
       "    .dataframe thead th {\n",
       "        text-align: right;\n",
       "    }\n",
       "</style>\n",
       "<table border=\"1\" class=\"dataframe\">\n",
       "  <thead>\n",
       "    <tr style=\"text-align: right;\">\n",
       "      <th></th>\n",
       "      <th>books_count</th>\n",
       "      <th>publisher</th>\n",
       "    </tr>\n",
       "  </thead>\n",
       "  <tbody>\n",
       "    <tr>\n",
       "      <th>0</th>\n",
       "      <td>42</td>\n",
       "      <td>Penguin Books</td>\n",
       "    </tr>\n",
       "    <tr>\n",
       "      <th>1</th>\n",
       "      <td>31</td>\n",
       "      <td>Vintage</td>\n",
       "    </tr>\n",
       "    <tr>\n",
       "      <th>2</th>\n",
       "      <td>25</td>\n",
       "      <td>Grand Central Publishing</td>\n",
       "    </tr>\n",
       "    <tr>\n",
       "      <th>3</th>\n",
       "      <td>24</td>\n",
       "      <td>Penguin Classics</td>\n",
       "    </tr>\n",
       "    <tr>\n",
       "      <th>4</th>\n",
       "      <td>19</td>\n",
       "      <td>Ballantine Books</td>\n",
       "    </tr>\n",
       "    <tr>\n",
       "      <th>...</th>\n",
       "      <td>...</td>\n",
       "      <td>...</td>\n",
       "    </tr>\n",
       "    <tr>\n",
       "      <th>329</th>\n",
       "      <td>1</td>\n",
       "      <td>Turtleback</td>\n",
       "    </tr>\n",
       "    <tr>\n",
       "      <th>330</th>\n",
       "      <td>1</td>\n",
       "      <td>Atheneum Books for Young Readers: Richard Jack...</td>\n",
       "    </tr>\n",
       "    <tr>\n",
       "      <th>331</th>\n",
       "      <td>1</td>\n",
       "      <td>Penguin Signet</td>\n",
       "    </tr>\n",
       "    <tr>\n",
       "      <th>332</th>\n",
       "      <td>1</td>\n",
       "      <td>Victor Gollancz</td>\n",
       "    </tr>\n",
       "    <tr>\n",
       "      <th>333</th>\n",
       "      <td>1</td>\n",
       "      <td>Harvard Business Review Press</td>\n",
       "    </tr>\n",
       "  </tbody>\n",
       "</table>\n",
       "<p>334 rows × 2 columns</p>\n",
       "</div>"
      ],
      "text/plain": [
       "     books_count                                          publisher\n",
       "0             42                                      Penguin Books\n",
       "1             31                                            Vintage\n",
       "2             25                           Grand Central Publishing\n",
       "3             24                                   Penguin Classics\n",
       "4             19                                   Ballantine Books\n",
       "..           ...                                                ...\n",
       "329            1                                         Turtleback\n",
       "330            1  Atheneum Books for Young Readers: Richard Jack...\n",
       "331            1                                     Penguin Signet\n",
       "332            1                                    Victor Gollancz\n",
       "333            1                      Harvard Business Review Press\n",
       "\n",
       "[334 rows x 2 columns]"
      ]
     },
     "execution_count": 12,
     "metadata": {},
     "output_type": "execute_result"
    }
   ],
   "source": [
    "query = '''\n",
    "SELECT COUNT(b.book_id) AS books_count,\n",
    "       p.publisher\n",
    "FROM books b\n",
    "LEFT JOIN publishers p ON p.publisher_id=b.publisher_id\n",
    "WHERE num_pages > 50\n",
    "GROUP BY 2\n",
    "ORDER BY 1 DESC\n",
    "'''\n",
    "\n",
    "con=engine.connect()\n",
    "pd.io.sql.read_sql(sql=text(query), con = con)"
   ]
  },
  {
   "cell_type": "markdown",
   "metadata": {},
   "source": [
    "Больше всего книг выпустило издательство Penguin Books"
   ]
  },
  {
   "cell_type": "markdown",
   "metadata": {},
   "source": [
    "### Самые выскооцененный автор\n",
    "<a id=\"part3-4\"></a>"
   ]
  },
  {
   "cell_type": "code",
   "execution_count": 13,
   "metadata": {},
   "outputs": [
    {
     "data": {
      "text/html": [
       "<div>\n",
       "<style scoped>\n",
       "    .dataframe tbody tr th:only-of-type {\n",
       "        vertical-align: middle;\n",
       "    }\n",
       "\n",
       "    .dataframe tbody tr th {\n",
       "        vertical-align: top;\n",
       "    }\n",
       "\n",
       "    .dataframe thead th {\n",
       "        text-align: right;\n",
       "    }\n",
       "</style>\n",
       "<table border=\"1\" class=\"dataframe\">\n",
       "  <thead>\n",
       "    <tr style=\"text-align: right;\">\n",
       "      <th></th>\n",
       "      <th>ratings_count</th>\n",
       "      <th>author</th>\n",
       "      <th>average_rating</th>\n",
       "    </tr>\n",
       "  </thead>\n",
       "  <tbody>\n",
       "    <tr>\n",
       "      <th>0</th>\n",
       "      <td>312</td>\n",
       "      <td>J.K. Rowling/Mary GrandPré</td>\n",
       "      <td>4.288462</td>\n",
       "    </tr>\n",
       "    <tr>\n",
       "      <th>1</th>\n",
       "      <td>53</td>\n",
       "      <td>Agatha Christie</td>\n",
       "      <td>4.283019</td>\n",
       "    </tr>\n",
       "    <tr>\n",
       "      <th>2</th>\n",
       "      <td>53</td>\n",
       "      <td>Markus Zusak/Cao Xuân Việt Khương</td>\n",
       "      <td>4.264151</td>\n",
       "    </tr>\n",
       "    <tr>\n",
       "      <th>3</th>\n",
       "      <td>166</td>\n",
       "      <td>J.R.R. Tolkien</td>\n",
       "      <td>4.240964</td>\n",
       "    </tr>\n",
       "    <tr>\n",
       "      <th>4</th>\n",
       "      <td>62</td>\n",
       "      <td>Roald Dahl/Quentin Blake</td>\n",
       "      <td>4.209677</td>\n",
       "    </tr>\n",
       "    <tr>\n",
       "      <th>5</th>\n",
       "      <td>54</td>\n",
       "      <td>Louisa May Alcott</td>\n",
       "      <td>4.203704</td>\n",
       "    </tr>\n",
       "    <tr>\n",
       "      <th>6</th>\n",
       "      <td>84</td>\n",
       "      <td>Rick Riordan</td>\n",
       "      <td>4.130952</td>\n",
       "    </tr>\n",
       "    <tr>\n",
       "      <th>7</th>\n",
       "      <td>56</td>\n",
       "      <td>Arthur Golden</td>\n",
       "      <td>4.107143</td>\n",
       "    </tr>\n",
       "    <tr>\n",
       "      <th>8</th>\n",
       "      <td>106</td>\n",
       "      <td>Stephen King</td>\n",
       "      <td>4.009434</td>\n",
       "    </tr>\n",
       "    <tr>\n",
       "      <th>9</th>\n",
       "      <td>70</td>\n",
       "      <td>John Grisham</td>\n",
       "      <td>3.971429</td>\n",
       "    </tr>\n",
       "    <tr>\n",
       "      <th>10</th>\n",
       "      <td>71</td>\n",
       "      <td>William Golding</td>\n",
       "      <td>3.901408</td>\n",
       "    </tr>\n",
       "    <tr>\n",
       "      <th>11</th>\n",
       "      <td>111</td>\n",
       "      <td>Nicholas Sparks</td>\n",
       "      <td>3.882883</td>\n",
       "    </tr>\n",
       "    <tr>\n",
       "      <th>12</th>\n",
       "      <td>76</td>\n",
       "      <td>Jodi Picoult</td>\n",
       "      <td>3.881579</td>\n",
       "    </tr>\n",
       "    <tr>\n",
       "      <th>13</th>\n",
       "      <td>57</td>\n",
       "      <td>Sophie Kinsella</td>\n",
       "      <td>3.877193</td>\n",
       "    </tr>\n",
       "    <tr>\n",
       "      <th>14</th>\n",
       "      <td>64</td>\n",
       "      <td>James Patterson</td>\n",
       "      <td>3.859375</td>\n",
       "    </tr>\n",
       "    <tr>\n",
       "      <th>15</th>\n",
       "      <td>98</td>\n",
       "      <td>J.D. Salinger</td>\n",
       "      <td>3.846939</td>\n",
       "    </tr>\n",
       "    <tr>\n",
       "      <th>16</th>\n",
       "      <td>57</td>\n",
       "      <td>Paulo Coelho/Alan R. Clarke/Özdemir İnce</td>\n",
       "      <td>3.789474</td>\n",
       "    </tr>\n",
       "    <tr>\n",
       "      <th>17</th>\n",
       "      <td>66</td>\n",
       "      <td>William Shakespeare/Paul Werstine/Barbara A. M...</td>\n",
       "      <td>3.787879</td>\n",
       "    </tr>\n",
       "    <tr>\n",
       "      <th>18</th>\n",
       "      <td>143</td>\n",
       "      <td>Dan Brown</td>\n",
       "      <td>3.741259</td>\n",
       "    </tr>\n",
       "    <tr>\n",
       "      <th>19</th>\n",
       "      <td>65</td>\n",
       "      <td>Lois Lowry</td>\n",
       "      <td>3.738462</td>\n",
       "    </tr>\n",
       "    <tr>\n",
       "      <th>20</th>\n",
       "      <td>74</td>\n",
       "      <td>George Orwell/Boris Grabnar/Peter Škerl</td>\n",
       "      <td>3.729730</td>\n",
       "    </tr>\n",
       "    <tr>\n",
       "      <th>21</th>\n",
       "      <td>160</td>\n",
       "      <td>Stephenie Meyer</td>\n",
       "      <td>3.662500</td>\n",
       "    </tr>\n",
       "    <tr>\n",
       "      <th>22</th>\n",
       "      <td>73</td>\n",
       "      <td>John Steinbeck</td>\n",
       "      <td>3.643836</td>\n",
       "    </tr>\n",
       "  </tbody>\n",
       "</table>\n",
       "</div>"
      ],
      "text/plain": [
       "    ratings_count                                             author  \\\n",
       "0             312                         J.K. Rowling/Mary GrandPré   \n",
       "1              53                                    Agatha Christie   \n",
       "2              53                  Markus Zusak/Cao Xuân Việt Khương   \n",
       "3             166                                     J.R.R. Tolkien   \n",
       "4              62                           Roald Dahl/Quentin Blake   \n",
       "5              54                                  Louisa May Alcott   \n",
       "6              84                                       Rick Riordan   \n",
       "7              56                                      Arthur Golden   \n",
       "8             106                                       Stephen King   \n",
       "9              70                                       John Grisham   \n",
       "10             71                                    William Golding   \n",
       "11            111                                    Nicholas Sparks   \n",
       "12             76                                       Jodi Picoult   \n",
       "13             57                                    Sophie Kinsella   \n",
       "14             64                                    James Patterson   \n",
       "15             98                                      J.D. Salinger   \n",
       "16             57           Paulo Coelho/Alan R. Clarke/Özdemir İnce   \n",
       "17             66  William Shakespeare/Paul Werstine/Barbara A. M...   \n",
       "18            143                                          Dan Brown   \n",
       "19             65                                         Lois Lowry   \n",
       "20             74            George Orwell/Boris Grabnar/Peter Škerl   \n",
       "21            160                                    Stephenie Meyer   \n",
       "22             73                                     John Steinbeck   \n",
       "\n",
       "    average_rating  \n",
       "0         4.288462  \n",
       "1         4.283019  \n",
       "2         4.264151  \n",
       "3         4.240964  \n",
       "4         4.209677  \n",
       "5         4.203704  \n",
       "6         4.130952  \n",
       "7         4.107143  \n",
       "8         4.009434  \n",
       "9         3.971429  \n",
       "10        3.901408  \n",
       "11        3.882883  \n",
       "12        3.881579  \n",
       "13        3.877193  \n",
       "14        3.859375  \n",
       "15        3.846939  \n",
       "16        3.789474  \n",
       "17        3.787879  \n",
       "18        3.741259  \n",
       "19        3.738462  \n",
       "20        3.729730  \n",
       "21        3.662500  \n",
       "22        3.643836  "
      ]
     },
     "execution_count": 13,
     "metadata": {},
     "output_type": "execute_result"
    }
   ],
   "source": [
    "query = '''\n",
    "SELECT COUNT(ra.rating_id) AS ratings_count,\n",
    "       a.author,\n",
    "       AVG(ra.rating) AS average_rating\n",
    "FROM books b\n",
    "LEFT JOIN authors a ON a.author_id=b.author_id\n",
    "LEFT JOIN ratings ra ON ra.book_id=b.book_id\n",
    "WHERE b.num_pages > 50\n",
    "GROUP BY 2\n",
    "HAVING COUNT(ra.rating_id) > 50\n",
    "ORDER BY 3 DESC\n",
    "\n",
    "'''\n",
    "\n",
    "con=engine.connect()\n",
    "pd.io.sql.read_sql(sql=text(query), con = con)"
   ]
  },
  {
   "cell_type": "markdown",
   "metadata": {},
   "source": [
    "Писательница Джоан Роулинг и иллюстратор ее книг Мэри Гранпрэ на первом месте по средней оценке ее книг."
   ]
  },
  {
   "cell_type": "markdown",
   "metadata": {},
   "source": [
    "### Количество обзоров от критиков\n",
    "<a id=\"part3-5\"></a>"
   ]
  },
  {
   "cell_type": "code",
   "execution_count": 14,
   "metadata": {},
   "outputs": [
    {
     "data": {
      "text/html": [
       "<div>\n",
       "<style scoped>\n",
       "    .dataframe tbody tr th:only-of-type {\n",
       "        vertical-align: middle;\n",
       "    }\n",
       "\n",
       "    .dataframe tbody tr th {\n",
       "        vertical-align: top;\n",
       "    }\n",
       "\n",
       "    .dataframe thead th {\n",
       "        text-align: right;\n",
       "    }\n",
       "</style>\n",
       "<table border=\"1\" class=\"dataframe\">\n",
       "  <thead>\n",
       "    <tr style=\"text-align: right;\">\n",
       "      <th></th>\n",
       "      <th>avg</th>\n",
       "    </tr>\n",
       "  </thead>\n",
       "  <tbody>\n",
       "    <tr>\n",
       "      <th>0</th>\n",
       "      <td>24.0</td>\n",
       "    </tr>\n",
       "  </tbody>\n",
       "</table>\n",
       "</div>"
      ],
      "text/plain": [
       "    avg\n",
       "0  24.0"
      ]
     },
     "execution_count": 14,
     "metadata": {},
     "output_type": "execute_result"
    }
   ],
   "source": [
    "query = '''\n",
    "WITH critics_reviews AS (\n",
    "SELECT COUNT(re.review_id) AS review_count,\n",
    "       re.username\n",
    "FROM reviews re\n",
    "GROUP BY 2\n",
    "ORDER BY 1 DESC),\n",
    "critics_ratings AS (\n",
    "SELECT COUNT(ra.rating_id) AS rating_count,\n",
    "       ra.username\n",
    "FROM ratings ra\n",
    "GROUP BY 2\n",
    "ORDER BY 1 DESC\n",
    ")\n",
    "SELECT AVG(cre.review_count)\n",
    "FROM critics_reviews cre\n",
    "JOIN critics_ratings cra ON cre.username=cra.username\n",
    "WHERE cra.rating_count > 48\n",
    "\n",
    "'''\n",
    "\n",
    "con=engine.connect()\n",
    "pd.io.sql.read_sql(sql=text(query), con = con)"
   ]
  },
  {
   "cell_type": "markdown",
   "metadata": {},
   "source": [
    "Cреднее количество обзоров от пользователей, которые поставили больше 48 оценок, равняется 24 обзорам."
   ]
  },
  {
   "cell_type": "markdown",
   "metadata": {},
   "source": [
    "[В начало](#start)"
   ]
  }
 ],
 "metadata": {
  "ExecuteTimeLog": [
   {
    "duration": 507,
    "start_time": "2023-11-07T16:57:57.251Z"
   },
   {
    "duration": 8758,
    "start_time": "2023-11-07T16:57:57.759Z"
   },
   {
    "duration": 40,
    "start_time": "2023-11-07T17:19:38.565Z"
   },
   {
    "duration": 13,
    "start_time": "2023-11-07T17:20:03.961Z"
   },
   {
    "duration": 12,
    "start_time": "2023-11-07T17:20:30.045Z"
   },
   {
    "duration": 12,
    "start_time": "2023-11-07T17:20:55.545Z"
   },
   {
    "duration": 12,
    "start_time": "2023-11-07T17:21:37.983Z"
   },
   {
    "duration": 14,
    "start_time": "2023-11-07T17:26:22.917Z"
   },
   {
    "duration": 110,
    "start_time": "2023-11-07T17:27:05.495Z"
   },
   {
    "duration": 10,
    "start_time": "2023-11-07T17:27:34.431Z"
   },
   {
    "duration": 52,
    "start_time": "2023-11-07T17:36:15.492Z"
   },
   {
    "duration": 23,
    "start_time": "2023-11-07T17:36:51.800Z"
   },
   {
    "duration": 28,
    "start_time": "2023-11-07T17:37:21.501Z"
   },
   {
    "duration": 28,
    "start_time": "2023-11-07T17:38:26.162Z"
   },
   {
    "duration": 20,
    "start_time": "2023-11-07T17:51:13.541Z"
   },
   {
    "duration": 26,
    "start_time": "2023-11-07T17:51:21.116Z"
   },
   {
    "duration": 2,
    "start_time": "2023-11-07T17:56:28.576Z"
   },
   {
    "duration": 57,
    "start_time": "2023-11-07T17:56:36.673Z"
   },
   {
    "duration": 13,
    "start_time": "2023-11-07T17:56:52.523Z"
   },
   {
    "duration": 62,
    "start_time": "2023-11-07T17:57:13.665Z"
   },
   {
    "duration": 15,
    "start_time": "2023-11-07T17:57:21.037Z"
   },
   {
    "duration": 14,
    "start_time": "2023-11-07T17:57:26.820Z"
   },
   {
    "duration": 14,
    "start_time": "2023-11-07T17:57:33.990Z"
   },
   {
    "duration": 13,
    "start_time": "2023-11-07T17:57:40.417Z"
   },
   {
    "duration": 14,
    "start_time": "2023-11-07T17:58:11.312Z"
   },
   {
    "duration": 21,
    "start_time": "2023-11-07T18:05:08.533Z"
   },
   {
    "duration": 19,
    "start_time": "2023-11-07T18:05:16.446Z"
   },
   {
    "duration": 47,
    "start_time": "2023-11-07T18:05:27.395Z"
   },
   {
    "duration": 19,
    "start_time": "2023-11-07T18:05:43.311Z"
   },
   {
    "duration": 46,
    "start_time": "2023-11-07T18:06:59.113Z"
   },
   {
    "duration": 49,
    "start_time": "2023-11-07T18:07:41.713Z"
   },
   {
    "duration": 47,
    "start_time": "2023-11-07T18:08:03.913Z"
   },
   {
    "duration": 40,
    "start_time": "2023-11-07T18:08:39.250Z"
   },
   {
    "duration": 19,
    "start_time": "2023-11-07T18:09:07.065Z"
   },
   {
    "duration": 22,
    "start_time": "2023-11-07T18:09:14.452Z"
   },
   {
    "duration": 19,
    "start_time": "2023-11-07T18:09:24.298Z"
   },
   {
    "duration": 22,
    "start_time": "2023-11-07T18:09:35.098Z"
   },
   {
    "duration": 18,
    "start_time": "2023-11-07T18:09:59.449Z"
   },
   {
    "duration": 19,
    "start_time": "2023-11-07T18:20:34.503Z"
   },
   {
    "duration": 20,
    "start_time": "2023-11-07T18:20:45.137Z"
   },
   {
    "duration": 20,
    "start_time": "2023-11-07T18:20:51.625Z"
   },
   {
    "duration": 19,
    "start_time": "2023-11-07T18:21:39.539Z"
   },
   {
    "duration": 50,
    "start_time": "2023-11-07T18:21:52.938Z"
   },
   {
    "duration": 46,
    "start_time": "2023-11-07T18:22:02.200Z"
   },
   {
    "duration": 24,
    "start_time": "2023-11-07T18:22:13.007Z"
   },
   {
    "duration": 22,
    "start_time": "2023-11-07T18:22:45.370Z"
   },
   {
    "duration": 19,
    "start_time": "2023-11-07T18:24:11.434Z"
   },
   {
    "duration": 1949,
    "start_time": "2023-11-07T18:30:12.893Z"
   },
   {
    "duration": 20,
    "start_time": "2023-11-07T18:30:34.767Z"
   },
   {
    "duration": 37,
    "start_time": "2023-11-07T18:30:52.238Z"
   },
   {
    "duration": 39,
    "start_time": "2023-11-07T18:31:12.739Z"
   },
   {
    "duration": 46,
    "start_time": "2023-11-07T18:31:44.214Z"
   },
   {
    "duration": 36,
    "start_time": "2023-11-07T18:31:54.851Z"
   },
   {
    "duration": 42,
    "start_time": "2023-11-07T18:32:35.334Z"
   },
   {
    "duration": 39,
    "start_time": "2023-11-07T18:33:08.873Z"
   },
   {
    "duration": 16,
    "start_time": "2023-11-07T18:36:53.268Z"
   },
   {
    "duration": 21,
    "start_time": "2023-11-07T18:38:00.320Z"
   },
   {
    "duration": 21,
    "start_time": "2023-11-07T18:38:04.665Z"
   },
   {
    "duration": 16,
    "start_time": "2023-11-07T18:38:28.143Z"
   },
   {
    "duration": 14,
    "start_time": "2023-11-07T18:40:47.817Z"
   },
   {
    "duration": 534,
    "start_time": "2023-11-07T18:42:06.431Z"
   },
   {
    "duration": 8449,
    "start_time": "2023-11-07T18:42:06.967Z"
   },
   {
    "duration": 49,
    "start_time": "2023-11-07T18:42:15.418Z"
   },
   {
    "duration": 33,
    "start_time": "2023-11-07T18:42:15.469Z"
   },
   {
    "duration": 11,
    "start_time": "2023-11-07T18:42:15.503Z"
   },
   {
    "duration": 13,
    "start_time": "2023-11-07T18:42:15.516Z"
   },
   {
    "duration": 21,
    "start_time": "2023-11-07T18:42:15.530Z"
   },
   {
    "duration": 15,
    "start_time": "2023-11-07T18:42:15.552Z"
   },
   {
    "duration": 48,
    "start_time": "2023-11-07T18:42:15.569Z"
   },
   {
    "duration": 14,
    "start_time": "2023-11-07T18:42:15.619Z"
   },
   {
    "duration": 16,
    "start_time": "2023-11-07T18:42:15.635Z"
   },
   {
    "duration": 13,
    "start_time": "2023-11-07T18:42:15.653Z"
   },
   {
    "duration": 562,
    "start_time": "2023-11-08T04:00:12.961Z"
   },
   {
    "duration": 34667,
    "start_time": "2023-11-08T04:00:13.525Z"
   },
   {
    "duration": 235,
    "start_time": "2023-11-08T04:00:48.194Z"
   },
   {
    "duration": 119,
    "start_time": "2023-11-08T04:00:48.431Z"
   },
   {
    "duration": 53,
    "start_time": "2023-11-08T04:00:48.552Z"
   },
   {
    "duration": 55,
    "start_time": "2023-11-08T04:00:48.606Z"
   },
   {
    "duration": 54,
    "start_time": "2023-11-08T04:00:48.662Z"
   },
   {
    "duration": 55,
    "start_time": "2023-11-08T04:00:48.718Z"
   },
   {
    "duration": 94,
    "start_time": "2023-11-08T04:00:48.775Z"
   },
   {
    "duration": 61,
    "start_time": "2023-11-08T04:00:48.872Z"
   },
   {
    "duration": 63,
    "start_time": "2023-11-08T04:00:48.935Z"
   },
   {
    "duration": 59,
    "start_time": "2023-11-08T04:00:49.000Z"
   },
   {
    "duration": 90,
    "start_time": "2023-11-08T04:02:31.545Z"
   },
   {
    "duration": 89,
    "start_time": "2023-11-08T04:03:03.406Z"
   },
   {
    "duration": 89,
    "start_time": "2023-11-08T04:03:34.434Z"
   },
   {
    "duration": 90,
    "start_time": "2023-11-08T04:04:05.373Z"
   },
   {
    "duration": 89,
    "start_time": "2023-11-08T04:06:37.277Z"
   },
   {
    "duration": 90,
    "start_time": "2023-11-08T04:07:08.125Z"
   },
   {
    "duration": 89,
    "start_time": "2023-11-08T04:07:16.848Z"
   },
   {
    "duration": 88,
    "start_time": "2023-11-08T04:07:55.534Z"
   },
   {
    "duration": 90,
    "start_time": "2023-11-08T04:10:06.094Z"
   },
   {
    "duration": 89,
    "start_time": "2023-11-08T04:10:20.104Z"
   },
   {
    "duration": 89,
    "start_time": "2023-11-08T04:10:35.266Z"
   },
   {
    "duration": 88,
    "start_time": "2023-11-08T04:10:42.687Z"
   },
   {
    "duration": 88,
    "start_time": "2023-11-08T04:11:44.564Z"
   },
   {
    "duration": 97,
    "start_time": "2023-11-08T04:12:05.053Z"
   },
   {
    "duration": 88,
    "start_time": "2023-11-08T04:13:20.150Z"
   },
   {
    "duration": 543,
    "start_time": "2023-11-08T04:13:33.900Z"
   },
   {
    "duration": 11034,
    "start_time": "2023-11-08T04:13:34.446Z"
   },
   {
    "duration": 227,
    "start_time": "2023-11-08T04:13:45.481Z"
   },
   {
    "duration": 122,
    "start_time": "2023-11-08T04:13:45.709Z"
   },
   {
    "duration": 52,
    "start_time": "2023-11-08T04:13:45.833Z"
   },
   {
    "duration": 53,
    "start_time": "2023-11-08T04:13:45.887Z"
   },
   {
    "duration": 53,
    "start_time": "2023-11-08T04:13:45.942Z"
   },
   {
    "duration": 53,
    "start_time": "2023-11-08T04:13:45.997Z"
   },
   {
    "duration": 87,
    "start_time": "2023-11-08T04:13:46.052Z"
   },
   {
    "duration": 91,
    "start_time": "2023-11-08T04:13:46.141Z"
   },
   {
    "duration": 85,
    "start_time": "2023-11-08T04:13:46.234Z"
   },
   {
    "duration": 57,
    "start_time": "2023-11-08T04:13:46.321Z"
   },
   {
    "duration": 58,
    "start_time": "2023-11-08T04:13:46.380Z"
   },
   {
    "duration": 54,
    "start_time": "2023-11-08T04:13:46.441Z"
   },
   {
    "duration": 61,
    "start_time": "2023-11-08T04:14:02.388Z"
   },
   {
    "duration": 52,
    "start_time": "2023-11-08T04:14:04.730Z"
   },
   {
    "duration": 52,
    "start_time": "2023-11-08T04:14:34.849Z"
   },
   {
    "duration": 65,
    "start_time": "2023-11-08T04:14:56.647Z"
   },
   {
    "duration": 51,
    "start_time": "2023-11-08T04:16:01.718Z"
   },
   {
    "duration": 88,
    "start_time": "2023-11-08T04:17:15.435Z"
   },
   {
    "duration": 87,
    "start_time": "2023-11-08T04:17:42.766Z"
   },
   {
    "duration": 493,
    "start_time": "2023-11-08T04:17:48.236Z"
   },
   {
    "duration": 14086,
    "start_time": "2023-11-08T04:17:48.731Z"
   },
   {
    "duration": 221,
    "start_time": "2023-11-08T04:18:02.819Z"
   },
   {
    "duration": 126,
    "start_time": "2023-11-08T04:18:03.042Z"
   },
   {
    "duration": 53,
    "start_time": "2023-11-08T04:18:03.170Z"
   },
   {
    "duration": 52,
    "start_time": "2023-11-08T04:18:03.225Z"
   },
   {
    "duration": 53,
    "start_time": "2023-11-08T04:18:03.279Z"
   },
   {
    "duration": 52,
    "start_time": "2023-11-08T04:18:03.334Z"
   },
   {
    "duration": 89,
    "start_time": "2023-11-08T04:18:03.387Z"
   },
   {
    "duration": 59,
    "start_time": "2023-11-08T04:18:03.478Z"
   },
   {
    "duration": 51,
    "start_time": "2023-11-08T04:18:03.539Z"
   },
   {
    "duration": 56,
    "start_time": "2023-11-08T04:18:03.592Z"
   },
   {
    "duration": 59,
    "start_time": "2023-11-08T04:18:03.649Z"
   },
   {
    "duration": 54,
    "start_time": "2023-11-08T04:18:03.711Z"
   }
  ],
  "kernelspec": {
   "display_name": "Python 3 (ipykernel)",
   "language": "python",
   "name": "python3"
  },
  "language_info": {
   "codemirror_mode": {
    "name": "ipython",
    "version": 3
   },
   "file_extension": ".py",
   "mimetype": "text/x-python",
   "name": "python",
   "nbconvert_exporter": "python",
   "pygments_lexer": "ipython3",
   "version": "3.9.12"
  },
  "toc": {
   "base_numbering": 1,
   "nav_menu": {},
   "number_sections": true,
   "sideBar": true,
   "skip_h1_title": true,
   "title_cell": "Table of Contents",
   "title_sidebar": "Contents",
   "toc_cell": false,
   "toc_position": {},
   "toc_section_display": true,
   "toc_window_display": false
  }
 },
 "nbformat": 4,
 "nbformat_minor": 2
}

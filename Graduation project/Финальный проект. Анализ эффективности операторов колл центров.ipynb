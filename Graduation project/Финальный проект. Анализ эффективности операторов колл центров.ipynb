{
 "cells": [
  {
   "cell_type": "markdown",
   "metadata": {},
   "source": [
    "<a id=\"start\"></a>\n",
    "* [Презентация](https://disk.yandex.ru/d/4cuHNdpZPqIlhQ)\n",
    "* [Дашборд](https://public.tableau.com/views/_16984828165280/Dashboard1?:language=en-US&publish=yes&:display_count=n&:origin=viz_share_link)\n",
    "* [Дашборд резервная ссылка](https://public.tableau.com/app/profile/arseniy4456/viz/FinalprojectGaman/Dashboard1)"
   ]
  },
  {
   "cell_type": "markdown",
   "metadata": {},
   "source": [
    "# Анализ эффективности операторов\n",
    "\n",
    "### Цель исследования:\n",
    "* На основании имеющихся данных определить какие операторы неэффективны про указанным заказчиком критериям.\n",
    "* Предложить методику, по которой этот процесс можно было бы автоматизировать.\n",
    "* Проверка гипотезы: Неэффективные операторы работают меньше дней в месяц, чем эффективные.\n",
    "* Проверка гипотезы: Неэффективные операторы чаще совершают внутренние звонки (например, чтобы уточнить что-то у коллег).\n",
    "\n",
    "### Содержание:\n",
    "\n",
    "* [Загрузка данных](#part1)\n",
    "* [Предобработка данных](#part2)\n",
    "    * [Обработка пропусков](#part2-1)\n",
    "    * [Изменение типа данных](#part2-2)\n",
    "    * [Удаление дубликатов](#part2-3)\n",
    "* [Исследовательский анализ данных](#part3)\n",
    "    * [Пропущенные звонки](#part3-1)\n",
    "    * [Время ожидания](#part3-2)\n",
    "    * [Количество исходящих звонков](#part3-3)\n",
    "    * [Оценка эффективности операторов](#part3-4)\n",
    "* [Проверка гипотез](#part4)\n",
    "    * [Рабочие дни](#part4-1)\n",
    "    * [Внутренние звонки](#part4-2)\n",
    "* [Выводы](#part5)\n"
   ]
  },
  {
   "cell_type": "markdown",
   "metadata": {},
   "source": [
    "<a id=\"part1\"></a>\n",
    "## Загрузка данных и знакомство с данными"
   ]
  },
  {
   "cell_type": "code",
   "execution_count": 1,
   "metadata": {},
   "outputs": [
    {
     "name": "stdout",
     "output_type": "stream",
     "text": [
      "Requirement already satisfied: matplotlib in /opt/conda/lib/python3.9/site-packages (3.8.0)\n",
      "Requirement already satisfied: pillow>=6.2.0 in /opt/conda/lib/python3.9/site-packages (from matplotlib) (8.4.0)\n",
      "Requirement already satisfied: contourpy>=1.0.1 in /opt/conda/lib/python3.9/site-packages (from matplotlib) (1.1.1)\n",
      "Requirement already satisfied: numpy<2,>=1.21 in /opt/conda/lib/python3.9/site-packages (from matplotlib) (1.21.1)\n",
      "Requirement already satisfied: cycler>=0.10 in /opt/conda/lib/python3.9/site-packages (from matplotlib) (0.11.0)\n",
      "Requirement already satisfied: fonttools>=4.22.0 in /opt/conda/lib/python3.9/site-packages (from matplotlib) (4.43.1)\n",
      "Requirement already satisfied: packaging>=20.0 in /opt/conda/lib/python3.9/site-packages (from matplotlib) (21.3)\n",
      "Requirement already satisfied: importlib-resources>=3.2.0 in /opt/conda/lib/python3.9/site-packages (from matplotlib) (6.1.0)\n",
      "Requirement already satisfied: kiwisolver>=1.0.1 in /opt/conda/lib/python3.9/site-packages (from matplotlib) (1.4.4)\n",
      "Requirement already satisfied: pyparsing>=2.3.1 in /opt/conda/lib/python3.9/site-packages (from matplotlib) (2.4.7)\n",
      "Requirement already satisfied: python-dateutil>=2.7 in /opt/conda/lib/python3.9/site-packages (from matplotlib) (2.8.1)\n",
      "Requirement already satisfied: zipp>=3.1.0 in /opt/conda/lib/python3.9/site-packages (from importlib-resources>=3.2.0->matplotlib) (3.5.0)\n",
      "Requirement already satisfied: six>=1.5 in /opt/conda/lib/python3.9/site-packages (from python-dateutil>=2.7->matplotlib) (1.16.0)\n",
      "Note: you may need to restart the kernel to use updated packages.\n"
     ]
    }
   ],
   "source": [
    "pip install matplotlib --upgrade"
   ]
  },
  {
   "cell_type": "code",
   "execution_count": 2,
   "metadata": {},
   "outputs": [],
   "source": [
    "import pandas as pd\n",
    "import numpy as np\n",
    "import matplotlib.pyplot as plt\n",
    "import seaborn as sns\n",
    "from datetime import datetime, date, time\n",
    "from scipy import stats as st"
   ]
  },
  {
   "cell_type": "code",
   "execution_count": 3,
   "metadata": {
    "scrolled": true
   },
   "outputs": [
    {
     "data": {
      "text/html": [
       "<div>\n",
       "<style scoped>\n",
       "    .dataframe tbody tr th:only-of-type {\n",
       "        vertical-align: middle;\n",
       "    }\n",
       "\n",
       "    .dataframe tbody tr th {\n",
       "        vertical-align: top;\n",
       "    }\n",
       "\n",
       "    .dataframe thead th {\n",
       "        text-align: right;\n",
       "    }\n",
       "</style>\n",
       "<table border=\"1\" class=\"dataframe\">\n",
       "  <thead>\n",
       "    <tr style=\"text-align: right;\">\n",
       "      <th></th>\n",
       "      <th>user_id</th>\n",
       "      <th>date</th>\n",
       "      <th>direction</th>\n",
       "      <th>internal</th>\n",
       "      <th>operator_id</th>\n",
       "      <th>is_missed_call</th>\n",
       "      <th>calls_count</th>\n",
       "      <th>call_duration</th>\n",
       "      <th>total_call_duration</th>\n",
       "    </tr>\n",
       "  </thead>\n",
       "  <tbody>\n",
       "    <tr>\n",
       "      <th>0</th>\n",
       "      <td>166377</td>\n",
       "      <td>2019-08-04 00:00:00+03:00</td>\n",
       "      <td>in</td>\n",
       "      <td>False</td>\n",
       "      <td>NaN</td>\n",
       "      <td>True</td>\n",
       "      <td>2</td>\n",
       "      <td>0</td>\n",
       "      <td>4</td>\n",
       "    </tr>\n",
       "    <tr>\n",
       "      <th>1</th>\n",
       "      <td>166377</td>\n",
       "      <td>2019-08-05 00:00:00+03:00</td>\n",
       "      <td>out</td>\n",
       "      <td>True</td>\n",
       "      <td>880022.0</td>\n",
       "      <td>True</td>\n",
       "      <td>3</td>\n",
       "      <td>0</td>\n",
       "      <td>5</td>\n",
       "    </tr>\n",
       "    <tr>\n",
       "      <th>2</th>\n",
       "      <td>166377</td>\n",
       "      <td>2019-08-05 00:00:00+03:00</td>\n",
       "      <td>out</td>\n",
       "      <td>True</td>\n",
       "      <td>880020.0</td>\n",
       "      <td>True</td>\n",
       "      <td>1</td>\n",
       "      <td>0</td>\n",
       "      <td>1</td>\n",
       "    </tr>\n",
       "    <tr>\n",
       "      <th>3</th>\n",
       "      <td>166377</td>\n",
       "      <td>2019-08-05 00:00:00+03:00</td>\n",
       "      <td>out</td>\n",
       "      <td>True</td>\n",
       "      <td>880020.0</td>\n",
       "      <td>False</td>\n",
       "      <td>1</td>\n",
       "      <td>10</td>\n",
       "      <td>18</td>\n",
       "    </tr>\n",
       "    <tr>\n",
       "      <th>4</th>\n",
       "      <td>166377</td>\n",
       "      <td>2019-08-05 00:00:00+03:00</td>\n",
       "      <td>out</td>\n",
       "      <td>False</td>\n",
       "      <td>880022.0</td>\n",
       "      <td>True</td>\n",
       "      <td>3</td>\n",
       "      <td>0</td>\n",
       "      <td>25</td>\n",
       "    </tr>\n",
       "    <tr>\n",
       "      <th>5</th>\n",
       "      <td>166377</td>\n",
       "      <td>2019-08-05 00:00:00+03:00</td>\n",
       "      <td>out</td>\n",
       "      <td>False</td>\n",
       "      <td>880020.0</td>\n",
       "      <td>False</td>\n",
       "      <td>2</td>\n",
       "      <td>3</td>\n",
       "      <td>29</td>\n",
       "    </tr>\n",
       "    <tr>\n",
       "      <th>6</th>\n",
       "      <td>166377</td>\n",
       "      <td>2019-08-05 00:00:00+03:00</td>\n",
       "      <td>out</td>\n",
       "      <td>False</td>\n",
       "      <td>880020.0</td>\n",
       "      <td>True</td>\n",
       "      <td>8</td>\n",
       "      <td>0</td>\n",
       "      <td>50</td>\n",
       "    </tr>\n",
       "    <tr>\n",
       "      <th>7</th>\n",
       "      <td>166377</td>\n",
       "      <td>2019-08-05 00:00:00+03:00</td>\n",
       "      <td>in</td>\n",
       "      <td>False</td>\n",
       "      <td>NaN</td>\n",
       "      <td>True</td>\n",
       "      <td>6</td>\n",
       "      <td>0</td>\n",
       "      <td>35</td>\n",
       "    </tr>\n",
       "    <tr>\n",
       "      <th>8</th>\n",
       "      <td>166377</td>\n",
       "      <td>2019-08-05 00:00:00+03:00</td>\n",
       "      <td>out</td>\n",
       "      <td>False</td>\n",
       "      <td>880020.0</td>\n",
       "      <td>True</td>\n",
       "      <td>8</td>\n",
       "      <td>0</td>\n",
       "      <td>50</td>\n",
       "    </tr>\n",
       "    <tr>\n",
       "      <th>9</th>\n",
       "      <td>166377</td>\n",
       "      <td>2019-08-06 00:00:00+03:00</td>\n",
       "      <td>in</td>\n",
       "      <td>False</td>\n",
       "      <td>NaN</td>\n",
       "      <td>True</td>\n",
       "      <td>4</td>\n",
       "      <td>0</td>\n",
       "      <td>62</td>\n",
       "    </tr>\n",
       "    <tr>\n",
       "      <th>10</th>\n",
       "      <td>166377</td>\n",
       "      <td>2019-08-06 00:00:00+03:00</td>\n",
       "      <td>out</td>\n",
       "      <td>False</td>\n",
       "      <td>881278.0</td>\n",
       "      <td>True</td>\n",
       "      <td>3</td>\n",
       "      <td>0</td>\n",
       "      <td>29</td>\n",
       "    </tr>\n",
       "    <tr>\n",
       "      <th>11</th>\n",
       "      <td>166377</td>\n",
       "      <td>2019-08-06 00:00:00+03:00</td>\n",
       "      <td>out</td>\n",
       "      <td>False</td>\n",
       "      <td>880020.0</td>\n",
       "      <td>True</td>\n",
       "      <td>5</td>\n",
       "      <td>0</td>\n",
       "      <td>70</td>\n",
       "    </tr>\n",
       "    <tr>\n",
       "      <th>12</th>\n",
       "      <td>166377</td>\n",
       "      <td>2019-08-06 00:00:00+03:00</td>\n",
       "      <td>out</td>\n",
       "      <td>True</td>\n",
       "      <td>881278.0</td>\n",
       "      <td>True</td>\n",
       "      <td>2</td>\n",
       "      <td>0</td>\n",
       "      <td>5</td>\n",
       "    </tr>\n",
       "    <tr>\n",
       "      <th>13</th>\n",
       "      <td>166377</td>\n",
       "      <td>2019-08-06 00:00:00+03:00</td>\n",
       "      <td>out</td>\n",
       "      <td>False</td>\n",
       "      <td>880020.0</td>\n",
       "      <td>False</td>\n",
       "      <td>5</td>\n",
       "      <td>800</td>\n",
       "      <td>819</td>\n",
       "    </tr>\n",
       "    <tr>\n",
       "      <th>14</th>\n",
       "      <td>166377</td>\n",
       "      <td>2019-08-07 00:00:00+03:00</td>\n",
       "      <td>out</td>\n",
       "      <td>False</td>\n",
       "      <td>880028.0</td>\n",
       "      <td>True</td>\n",
       "      <td>1</td>\n",
       "      <td>0</td>\n",
       "      <td>15</td>\n",
       "    </tr>\n",
       "  </tbody>\n",
       "</table>\n",
       "</div>"
      ],
      "text/plain": [
       "    user_id                       date direction internal  operator_id  \\\n",
       "0    166377  2019-08-04 00:00:00+03:00        in    False          NaN   \n",
       "1    166377  2019-08-05 00:00:00+03:00       out     True     880022.0   \n",
       "2    166377  2019-08-05 00:00:00+03:00       out     True     880020.0   \n",
       "3    166377  2019-08-05 00:00:00+03:00       out     True     880020.0   \n",
       "4    166377  2019-08-05 00:00:00+03:00       out    False     880022.0   \n",
       "5    166377  2019-08-05 00:00:00+03:00       out    False     880020.0   \n",
       "6    166377  2019-08-05 00:00:00+03:00       out    False     880020.0   \n",
       "7    166377  2019-08-05 00:00:00+03:00        in    False          NaN   \n",
       "8    166377  2019-08-05 00:00:00+03:00       out    False     880020.0   \n",
       "9    166377  2019-08-06 00:00:00+03:00        in    False          NaN   \n",
       "10   166377  2019-08-06 00:00:00+03:00       out    False     881278.0   \n",
       "11   166377  2019-08-06 00:00:00+03:00       out    False     880020.0   \n",
       "12   166377  2019-08-06 00:00:00+03:00       out     True     881278.0   \n",
       "13   166377  2019-08-06 00:00:00+03:00       out    False     880020.0   \n",
       "14   166377  2019-08-07 00:00:00+03:00       out    False     880028.0   \n",
       "\n",
       "    is_missed_call  calls_count  call_duration  total_call_duration  \n",
       "0             True            2              0                    4  \n",
       "1             True            3              0                    5  \n",
       "2             True            1              0                    1  \n",
       "3            False            1             10                   18  \n",
       "4             True            3              0                   25  \n",
       "5            False            2              3                   29  \n",
       "6             True            8              0                   50  \n",
       "7             True            6              0                   35  \n",
       "8             True            8              0                   50  \n",
       "9             True            4              0                   62  \n",
       "10            True            3              0                   29  \n",
       "11            True            5              0                   70  \n",
       "12            True            2              0                    5  \n",
       "13           False            5            800                  819  \n",
       "14            True            1              0                   15  "
      ]
     },
     "metadata": {},
     "output_type": "display_data"
    },
    {
     "name": "stdout",
     "output_type": "stream",
     "text": [
      "<class 'pandas.core.frame.DataFrame'>\n",
      "RangeIndex: 53902 entries, 0 to 53901\n",
      "Data columns (total 9 columns):\n",
      " #   Column               Non-Null Count  Dtype  \n",
      "---  ------               --------------  -----  \n",
      " 0   user_id              53902 non-null  int64  \n",
      " 1   date                 53902 non-null  object \n",
      " 2   direction            53902 non-null  object \n",
      " 3   internal             53785 non-null  object \n",
      " 4   operator_id          45730 non-null  float64\n",
      " 5   is_missed_call       53902 non-null  bool   \n",
      " 6   calls_count          53902 non-null  int64  \n",
      " 7   call_duration        53902 non-null  int64  \n",
      " 8   total_call_duration  53902 non-null  int64  \n",
      "dtypes: bool(1), float64(1), int64(4), object(3)\n",
      "memory usage: 3.3+ MB\n"
     ]
    },
    {
     "data": {
      "text/plain": [
       "4900"
      ]
     },
     "metadata": {},
     "output_type": "display_data"
    }
   ],
   "source": [
    "telecom = pd.read_csv('/datasets/telecom_dataset.csv')\n",
    "display(telecom.head(15))\n",
    "telecom.info()\n",
    "display(telecom.duplicated().sum())"
   ]
  },
  {
   "cell_type": "markdown",
   "metadata": {},
   "source": [
    "* Пропуски\n",
    "    * Имеются пропуски в идентификаторе оператора. Их я полностью уберу из датасета так как айди оператора - ключевой параметр исследования. Причиной этому может быть то, что клиенты сбрасывали вызов до того, как им был присвоен оператор.\n",
    "    * Пропуски в маркере внутренних звонков тоже удалю, так как их количество невелико.\n",
    "* Тип данных\n",
    "    * Столбец с датой требует конвертации в тип данных datetime.\n",
    "    * Столбец с внутренними вызовами имеет неверный тип данных, требует конвертации в bool.\n",
    "    * Столбец с направлением для удобства переконвертирую в bool.\n",
    "    * Столбец с номером оператора лучше перевести в целочисленный формат для удобства.\n",
    "* Дубликатов огромное количество, все придется удалить.\n",
    "<br>\n",
    "<br>\n",
    "Качество данных приемлемое, требует несерьезных измемнений."
   ]
  },
  {
   "cell_type": "markdown",
   "metadata": {},
   "source": [
    "<a id=\"part2\"></a>\n",
    "## Предобработка данных"
   ]
  },
  {
   "cell_type": "markdown",
   "metadata": {},
   "source": [
    "### Обработка пропусков\n",
    "<a id=\"part2-1\"></a> "
   ]
  },
  {
   "cell_type": "code",
   "execution_count": 4,
   "metadata": {},
   "outputs": [],
   "source": [
    "temp = telecom.copy() # создаю копию датасета до преобразования"
   ]
  },
  {
   "cell_type": "code",
   "execution_count": 5,
   "metadata": {},
   "outputs": [],
   "source": [
    "# Удаляю пропуски у индентификатора оператора\n",
    "telecom = telecom.dropna(subset=['operator_id'])\n",
    "telecom = telecom.dropna(subset=['internal']).reset_index(drop=True)"
   ]
  },
  {
   "cell_type": "code",
   "execution_count": 6,
   "metadata": {},
   "outputs": [
    {
     "name": "stdout",
     "output_type": "stream",
     "text": [
      "53902 45670 15.27\n"
     ]
    }
   ],
   "source": [
    "#Узнаю сколько я выбросил процентов строк\n",
    "a, b = len(temp), len(telecom)\n",
    "print(a, b, round((a-b)/a*100, 2)) "
   ]
  },
  {
   "cell_type": "markdown",
   "metadata": {},
   "source": [
    "### Изменение типа данных\n",
    "<a id=\"part2-2\"></a>"
   ]
  },
  {
   "cell_type": "code",
   "execution_count": 7,
   "metadata": {
    "scrolled": true
   },
   "outputs": [
    {
     "name": "stdout",
     "output_type": "stream",
     "text": [
      "<class 'pandas.core.frame.DataFrame'>\n",
      "RangeIndex: 45670 entries, 0 to 45669\n",
      "Data columns (total 11 columns):\n",
      " #   Column               Non-Null Count  Dtype         \n",
      "---  ------               --------------  -----         \n",
      " 0   user_id              45670 non-null  int64         \n",
      " 1   date                 45670 non-null  object        \n",
      " 2   direction            45670 non-null  object        \n",
      " 3   internal             45670 non-null  bool          \n",
      " 4   operator_id          45670 non-null  int64         \n",
      " 5   is_missed_call       45670 non-null  bool          \n",
      " 6   calls_count          45670 non-null  int64         \n",
      " 7   call_duration        45670 non-null  int64         \n",
      " 8   total_call_duration  45670 non-null  int64         \n",
      " 9   dt_date              45670 non-null  datetime64[ns]\n",
      " 10  out_direction        45670 non-null  bool          \n",
      "dtypes: bool(3), datetime64[ns](1), int64(5), object(2)\n",
      "memory usage: 2.9+ MB\n"
     ]
    },
    {
     "data": {
      "text/html": [
       "<div>\n",
       "<style scoped>\n",
       "    .dataframe tbody tr th:only-of-type {\n",
       "        vertical-align: middle;\n",
       "    }\n",
       "\n",
       "    .dataframe tbody tr th {\n",
       "        vertical-align: top;\n",
       "    }\n",
       "\n",
       "    .dataframe thead th {\n",
       "        text-align: right;\n",
       "    }\n",
       "</style>\n",
       "<table border=\"1\" class=\"dataframe\">\n",
       "  <thead>\n",
       "    <tr style=\"text-align: right;\">\n",
       "      <th></th>\n",
       "      <th>user_id</th>\n",
       "      <th>date</th>\n",
       "      <th>direction</th>\n",
       "      <th>internal</th>\n",
       "      <th>operator_id</th>\n",
       "      <th>is_missed_call</th>\n",
       "      <th>calls_count</th>\n",
       "      <th>call_duration</th>\n",
       "      <th>total_call_duration</th>\n",
       "      <th>dt_date</th>\n",
       "      <th>out_direction</th>\n",
       "    </tr>\n",
       "  </thead>\n",
       "  <tbody>\n",
       "    <tr>\n",
       "      <th>0</th>\n",
       "      <td>166377</td>\n",
       "      <td>2019-08-05 00:00:00+03:00</td>\n",
       "      <td>out</td>\n",
       "      <td>True</td>\n",
       "      <td>880022</td>\n",
       "      <td>True</td>\n",
       "      <td>3</td>\n",
       "      <td>0</td>\n",
       "      <td>5</td>\n",
       "      <td>2019-08-05</td>\n",
       "      <td>True</td>\n",
       "    </tr>\n",
       "    <tr>\n",
       "      <th>1</th>\n",
       "      <td>166377</td>\n",
       "      <td>2019-08-05 00:00:00+03:00</td>\n",
       "      <td>out</td>\n",
       "      <td>True</td>\n",
       "      <td>880020</td>\n",
       "      <td>True</td>\n",
       "      <td>1</td>\n",
       "      <td>0</td>\n",
       "      <td>1</td>\n",
       "      <td>2019-08-05</td>\n",
       "      <td>True</td>\n",
       "    </tr>\n",
       "    <tr>\n",
       "      <th>2</th>\n",
       "      <td>166377</td>\n",
       "      <td>2019-08-05 00:00:00+03:00</td>\n",
       "      <td>out</td>\n",
       "      <td>True</td>\n",
       "      <td>880020</td>\n",
       "      <td>False</td>\n",
       "      <td>1</td>\n",
       "      <td>10</td>\n",
       "      <td>18</td>\n",
       "      <td>2019-08-05</td>\n",
       "      <td>True</td>\n",
       "    </tr>\n",
       "    <tr>\n",
       "      <th>3</th>\n",
       "      <td>166377</td>\n",
       "      <td>2019-08-05 00:00:00+03:00</td>\n",
       "      <td>out</td>\n",
       "      <td>False</td>\n",
       "      <td>880022</td>\n",
       "      <td>True</td>\n",
       "      <td>3</td>\n",
       "      <td>0</td>\n",
       "      <td>25</td>\n",
       "      <td>2019-08-05</td>\n",
       "      <td>True</td>\n",
       "    </tr>\n",
       "    <tr>\n",
       "      <th>4</th>\n",
       "      <td>166377</td>\n",
       "      <td>2019-08-05 00:00:00+03:00</td>\n",
       "      <td>out</td>\n",
       "      <td>False</td>\n",
       "      <td>880020</td>\n",
       "      <td>False</td>\n",
       "      <td>2</td>\n",
       "      <td>3</td>\n",
       "      <td>29</td>\n",
       "      <td>2019-08-05</td>\n",
       "      <td>True</td>\n",
       "    </tr>\n",
       "  </tbody>\n",
       "</table>\n",
       "</div>"
      ],
      "text/plain": [
       "   user_id                       date direction  internal  operator_id  \\\n",
       "0   166377  2019-08-05 00:00:00+03:00       out      True       880022   \n",
       "1   166377  2019-08-05 00:00:00+03:00       out      True       880020   \n",
       "2   166377  2019-08-05 00:00:00+03:00       out      True       880020   \n",
       "3   166377  2019-08-05 00:00:00+03:00       out     False       880022   \n",
       "4   166377  2019-08-05 00:00:00+03:00       out     False       880020   \n",
       "\n",
       "   is_missed_call  calls_count  call_duration  total_call_duration    dt_date  \\\n",
       "0            True            3              0                    5 2019-08-05   \n",
       "1            True            1              0                    1 2019-08-05   \n",
       "2           False            1             10                   18 2019-08-05   \n",
       "3            True            3              0                   25 2019-08-05   \n",
       "4           False            2              3                   29 2019-08-05   \n",
       "\n",
       "   out_direction  \n",
       "0           True  \n",
       "1           True  \n",
       "2           True  \n",
       "3           True  \n",
       "4           True  "
      ]
     },
     "metadata": {},
     "output_type": "display_data"
    }
   ],
   "source": [
    "telecom['dt_date'] = pd.to_datetime(telecom['date'], format='%Y-%m-%d %H:%M:%S+03:00')\n",
    "\n",
    "#display(telecom['direction'].value_counts())\n",
    "\n",
    "#Функции для конвертации в булевый тип\n",
    "def direction_to_bool(row):\n",
    "    #если в ячейке out то возвращает True, если in то False\n",
    "    dir_row = row['direction']\n",
    "    try:\n",
    "        if dir_row == 'out':\n",
    "            return True\n",
    "        else:\n",
    "            return False\n",
    "    except: \n",
    "        return False\n",
    "        \n",
    "telecom['out_direction'] = telecom.apply(direction_to_bool, axis = 1) #Применяю функцию чтобы создать столбец с булевыми значениями направления звонка\n",
    "\n",
    "telecom['internal'] = telecom['internal'].astype('bool') #Изменяю тип данных internal\n",
    "telecom['operator_id'] = telecom['operator_id'].astype('int') #Изменяю тип данных operator_id\n",
    "\n",
    "telecom.info()\n",
    "display(telecom.head())"
   ]
  },
  {
   "cell_type": "markdown",
   "metadata": {},
   "source": [
    "### Удаление дубликатов\n",
    "<a id=\"part2-3\"></a>"
   ]
  },
  {
   "cell_type": "code",
   "execution_count": 8,
   "metadata": {},
   "outputs": [
    {
     "data": {
      "text/plain": [
       "0"
      ]
     },
     "metadata": {},
     "output_type": "display_data"
    }
   ],
   "source": [
    "telecom = telecom.drop_duplicates(keep='first').reset_index(drop=True)\n",
    "display(telecom.duplicated().sum())\n",
    "#telecom.info()"
   ]
  },
  {
   "cell_type": "markdown",
   "metadata": {},
   "source": [
    "<a id=\"part3\"></a>\n",
    "## Исследовательский анализ данных"
   ]
  },
  {
   "cell_type": "markdown",
   "metadata": {},
   "source": [
    "### Доля пропущенных звонков\n",
    "<a id=\"part3-1\"></a>"
   ]
  },
  {
   "cell_type": "code",
   "execution_count": 9,
   "metadata": {
    "scrolled": true
   },
   "outputs": [
    {
     "data": {
      "text/html": [
       "<div>\n",
       "<style scoped>\n",
       "    .dataframe tbody tr th:only-of-type {\n",
       "        vertical-align: middle;\n",
       "    }\n",
       "\n",
       "    .dataframe tbody tr th {\n",
       "        vertical-align: top;\n",
       "    }\n",
       "\n",
       "    .dataframe thead th {\n",
       "        text-align: right;\n",
       "    }\n",
       "</style>\n",
       "<table border=\"1\" class=\"dataframe\">\n",
       "  <thead>\n",
       "    <tr style=\"text-align: right;\">\n",
       "      <th></th>\n",
       "      <th>operator_id</th>\n",
       "      <th>missed_percent</th>\n",
       "    </tr>\n",
       "  </thead>\n",
       "  <tbody>\n",
       "    <tr>\n",
       "      <th>0</th>\n",
       "      <td>880022</td>\n",
       "      <td>0.0</td>\n",
       "    </tr>\n",
       "    <tr>\n",
       "      <th>1</th>\n",
       "      <td>880020</td>\n",
       "      <td>0.0</td>\n",
       "    </tr>\n",
       "    <tr>\n",
       "      <th>2</th>\n",
       "      <td>881278</td>\n",
       "      <td>NaN</td>\n",
       "    </tr>\n",
       "    <tr>\n",
       "      <th>3</th>\n",
       "      <td>880028</td>\n",
       "      <td>0.0</td>\n",
       "    </tr>\n",
       "    <tr>\n",
       "      <th>4</th>\n",
       "      <td>880026</td>\n",
       "      <td>0.0</td>\n",
       "    </tr>\n",
       "  </tbody>\n",
       "</table>\n",
       "</div>"
      ],
      "text/plain": [
       "   operator_id  missed_percent\n",
       "0       880022             0.0\n",
       "1       880020             0.0\n",
       "2       881278             NaN\n",
       "3       880028             0.0\n",
       "4       880026             0.0"
      ]
     },
     "metadata": {},
     "output_type": "display_data"
    },
    {
     "name": "stdout",
     "output_type": "stream",
     "text": [
      "Порог эффективности по количеству пропущенных звонков: 9%\n"
     ]
    },
    {
     "data": {
      "image/png": "[encoded data removed]",
      "text/plain": [
       "<Figure size 864x288 with 1 Axes>"
      ]
     },
     "metadata": {
      "needs_background": "light"
     },
     "output_type": "display_data"
    },
    {
     "data": {
      "image/png": "[encoded data removed]",
      "text/plain": [
       "<Figure size 864x216 with 1 Axes>"
      ]
     },
     "metadata": {},
     "output_type": "display_data"
    }
   ],
   "source": [
    "# Фильтрую только входящие внешние звонки\n",
    "telecom_miscall = telecom.query('out_direction == False and internal == False')\n",
    "#display(telecom_miscall.head())\n",
    "\n",
    "# Таблица с суммой всех звонков и всех пропущенных звонков для каждого оператора\n",
    "telecom_miscall = telecom_miscall.pivot_table(index='operator_id', aggfunc=['count','sum'], values='is_missed_call').reset_index().droplevel(1, axis=1)\n",
    "telecom_miscall.columns = ['operator_id', 'calls','missed_calls']\n",
    "#display(telecom_miscal.head(10))\n",
    "\n",
    "# Процент пропущенных звонков для каждого оператора\n",
    "telecom_miscall['missed_percent'] = ((telecom_miscall['missed_calls'] / telecom_miscall['calls'])*100).round(2)\n",
    "#display(telecom_miscal.head(10))\n",
    "\n",
    "# Готовлю таблицу по которой буду считать рейтинг операторов\n",
    "operator_rating = telecom['operator_id'].unique()\n",
    "operator_rating = pd.DataFrame(operator_rating, columns=['operator_id']) \n",
    "\n",
    "# Соединяю таблицы\n",
    "telecom_miscall = telecom_miscall.drop(['calls','missed_calls'], axis=1)\n",
    "operator_rating = operator_rating.merge(telecom_miscall, on='operator_id', how='left')\n",
    "display(operator_rating.head())\n",
    "\n",
    "#Высчитываю порог эффективности и строю графики\n",
    "miscall_threshold = (((operator_rating['missed_percent'].describe()['75%'])-\n",
    "                     (operator_rating['missed_percent'].describe()['25%']))*1.5+\n",
    "                     operator_rating['missed_percent'].describe()['75%']).round().astype('int')\n",
    "\n",
    "print(f'Порог эффективности по количеству пропущенных звонков: {miscall_threshold}%')\n",
    "\n",
    "\n",
    "plt.figure(figsize=(12, 4))\n",
    "sns.set_style('whitegrid')\n",
    "tch2 = sns.histplot(x='missed_percent', data = operator_rating)\n",
    "tch2.set_xlabel('Процент пропущенных звонков')\n",
    "tch2.set_ylabel('Количество операторов')\n",
    "tch2.set_title('Количество операторов по процентам пропущенных звонков')\n",
    "#plt.savefig('hist misscall.png', dpi=200.0, bbox_inches='tight', transparent=True) #Сохраняем график в файл для презентации\n",
    "tch2.set(ylim=(0, 20))\n",
    "plt.show(tch2);\n",
    "\n",
    "plt.figure(figsize=(12,3))\n",
    "ax = sns.boxplot(x='missed_percent', data=operator_rating)\n",
    "#ax.set_ylim(0, 2.5)\n",
    "ax.set_ylabel(' ')\n",
    "ax.set_xlabel('Процент пропущенных звонков')\n",
    "ax.set_title('Распределение операторов по проценту пропущенных звонков')\n",
    "#plt.savefig('box misscall.png', dpi=200.0, bbox_inches='tight', transparent=True) #Сохраняем график в файл для презентации\n",
    "plt.show();"
   ]
  },
  {
   "cell_type": "markdown",
   "metadata": {},
   "source": [
    "Видно что есть один оператор который проигнорировал все входящие звонки.\n",
    "<br>\n",
    "Исходя из графика, будем считать больше <b>9%</b> пропущенных звонков одним из признаков неэффективности (Q3+1.5*IQR)."
   ]
  },
  {
   "cell_type": "markdown",
   "metadata": {},
   "source": [
    "### Доля ожидания ответа оператора\n",
    "<a id=\"part3-2\"></a>"
   ]
  },
  {
   "cell_type": "markdown",
   "metadata": {},
   "source": [
    "Посчитать эффективность оператора по времени ожидания можно несколькими способами:\n",
    "* По аналогии с предыдущим пунктом для каждого оператора сложить общее время звонков и посчитать какой процент от этого времени занимает ожидание. Признать неэффективными тех, у кого такой процент будет выше наблюдаемоного максимума (> чем Q3+1.5*IQR).\n",
    "    * Проблема в том, что оценка времени ожидания будет зависеть от времени разговора и таким образом не будет объективной в случае, например, если разговор продлиться не долго. Например клиент будет ожидать ответа 10 секунд а разговор тоже продлиться 10, и вроде как ждал клиент недолго, но показатель будет очень плохим для оператора.\n",
    "    * С другой стороны при таком расчете я ориентируюсь на показатель наблюдаемого максимума процента ожидания среди всех операторов, и тогда, если ситуация описанная выше будет случаться у всех операторов достаточно часто, то такой показатель не будет признан неэффективным.\n",
    "* Посчитать медиану времени ожидания для всех входящих внешних непропущенных звонков для каждого оператора. Признать неэффективными тех, у кого медиана времени ожидания будет выше наблюдаемоного максимума (> чем Q3+1.5*IQR).\n",
    "    * Медиана покажет более объективную ситуацию так как будет учитывать не самое частовстречающееся соотношение ожидания и раговора у каждого оператора, а именно само медианное время.\n",
    "    * В предоставленном датасете нет показателя ожидания для КАЖДОГО разговора, есть только показатель СУММАРНОГО времени ожидания для каждого дня. Получается, что тогда будет сравниваться медиана суммарного времени ожидания в день для каждого оператора. Это сново добавит необъективности, так как в некоторые дни может случайно получаться ситуация описанная в первом подпункте первого пункта выше, с другой стороны медиана должна игнорировать такие выбросы.\n",
    "<br>\n",
    "<br>\n",
    "Я применю оба способа и выберу лучший."
   ]
  },
  {
   "cell_type": "markdown",
   "metadata": {},
   "source": [
    "#### Процент суммы времени ожидания от суммы всех звонков для каждого оператора"
   ]
  },
  {
   "cell_type": "code",
   "execution_count": 10,
   "metadata": {
    "scrolled": true
   },
   "outputs": [
    {
     "name": "stderr",
     "output_type": "stream",
     "text": [
      "/tmp/ipykernel_89/1206225605.py:5: FutureWarning: Indexing with multiple keys (implicitly converted to a tuple of keys) will be deprecated, use a list instead.\n",
      "  telecom_waiting_sum = telecom_waiting.groupby('operator_id')['total_call_duration', 'call_duration'].sum().reset_index()\n"
     ]
    },
    {
     "data": {
      "text/html": [
       "<div>\n",
       "<style scoped>\n",
       "    .dataframe tbody tr th:only-of-type {\n",
       "        vertical-align: middle;\n",
       "    }\n",
       "\n",
       "    .dataframe tbody tr th {\n",
       "        vertical-align: top;\n",
       "    }\n",
       "\n",
       "    .dataframe thead th {\n",
       "        text-align: right;\n",
       "    }\n",
       "</style>\n",
       "<table border=\"1\" class=\"dataframe\">\n",
       "  <thead>\n",
       "    <tr style=\"text-align: right;\">\n",
       "      <th></th>\n",
       "      <th>operator_id</th>\n",
       "      <th>waiting_percent</th>\n",
       "    </tr>\n",
       "  </thead>\n",
       "  <tbody>\n",
       "    <tr>\n",
       "      <th>0</th>\n",
       "      <td>879896</td>\n",
       "      <td>9.27</td>\n",
       "    </tr>\n",
       "    <tr>\n",
       "      <th>1</th>\n",
       "      <td>879898</td>\n",
       "      <td>20.85</td>\n",
       "    </tr>\n",
       "    <tr>\n",
       "      <th>2</th>\n",
       "      <td>880020</td>\n",
       "      <td>15.30</td>\n",
       "    </tr>\n",
       "    <tr>\n",
       "      <th>3</th>\n",
       "      <td>880022</td>\n",
       "      <td>17.95</td>\n",
       "    </tr>\n",
       "    <tr>\n",
       "      <th>4</th>\n",
       "      <td>880026</td>\n",
       "      <td>8.27</td>\n",
       "    </tr>\n",
       "    <tr>\n",
       "      <th>5</th>\n",
       "      <td>880028</td>\n",
       "      <td>6.37</td>\n",
       "    </tr>\n",
       "    <tr>\n",
       "      <th>6</th>\n",
       "      <td>882476</td>\n",
       "      <td>33.10</td>\n",
       "    </tr>\n",
       "    <tr>\n",
       "      <th>7</th>\n",
       "      <td>882478</td>\n",
       "      <td>18.57</td>\n",
       "    </tr>\n",
       "    <tr>\n",
       "      <th>8</th>\n",
       "      <td>882680</td>\n",
       "      <td>19.64</td>\n",
       "    </tr>\n",
       "    <tr>\n",
       "      <th>9</th>\n",
       "      <td>882684</td>\n",
       "      <td>6.75</td>\n",
       "    </tr>\n",
       "  </tbody>\n",
       "</table>\n",
       "</div>"
      ],
      "text/plain": [
       "   operator_id  waiting_percent\n",
       "0       879896             9.27\n",
       "1       879898            20.85\n",
       "2       880020            15.30\n",
       "3       880022            17.95\n",
       "4       880026             8.27\n",
       "5       880028             6.37\n",
       "6       882476            33.10\n",
       "7       882478            18.57\n",
       "8       882680            19.64\n",
       "9       882684             6.75"
      ]
     },
     "metadata": {},
     "output_type": "display_data"
    }
   ],
   "source": [
    "# Фильтрую только входящие внешние непропущенные звонки\n",
    "telecom_waiting = telecom.query('out_direction == False and internal == False and is_missed_call == False')\n",
    "\n",
    "# Таблица с суммой времени всех звонков и всех звонков с ожиданием\n",
    "telecom_waiting_sum = telecom_waiting.groupby('operator_id')['total_call_duration', 'call_duration'].sum().reset_index()\n",
    "\n",
    "# Столбец с процентом суммы ожидания на линии от суммы времени звонка за все время\n",
    "telecom_waiting_sum['waiting_percent'] = (100 - ((telecom_waiting_sum['call_duration'] / telecom_waiting_sum['total_call_duration'])*100)).round(2)\n",
    "\n",
    "telecom_waiting_sum = telecom_waiting_sum.drop(['total_call_duration','call_duration'], axis=1)\n",
    "\n",
    "display(telecom_waiting_sum.head(10))"
   ]
  },
  {
   "cell_type": "code",
   "execution_count": 11,
   "metadata": {
    "scrolled": false
   },
   "outputs": [
    {
     "name": "stdout",
     "output_type": "stream",
     "text": [
      "Порог эффективности по времени ожидания: 53%\n"
     ]
    },
    {
     "data": {
      "image/png": "[encoded data removed]",
      "text/plain": [
       "<Figure size 864x288 with 1 Axes>"
      ]
     },
     "metadata": {},
     "output_type": "display_data"
    },
    {
     "data": {
      "image/png": "[encoded data removed]",
      "text/plain": [
       "<Figure size 864x216 with 1 Axes>"
      ]
     },
     "metadata": {},
     "output_type": "display_data"
    }
   ],
   "source": [
    "#Высчитываю порог эффективности по Q3 и строю графики\n",
    "\n",
    "waiting_sum_threshold = (((telecom_waiting_sum['waiting_percent'].describe()['75%'])-\n",
    "                     (telecom_waiting_sum['waiting_percent'].describe()['25%']))*1.5+\n",
    "                     telecom_waiting_sum['waiting_percent'].describe()['75%']).round().astype('int')\n",
    "print(f'Порог эффективности по времени ожидания: {waiting_sum_threshold}%')\n",
    "\n",
    "plt.figure(figsize=(12, 4))\n",
    "sns.set_style('whitegrid')\n",
    "tch2 = sns.histplot(x='waiting_percent', data = telecom_waiting_sum, bins=100)\n",
    "tch2.set_xlabel('Процент времени ожидания ответа')\n",
    "tch2.set_ylabel('Количество операторов')\n",
    "tch2.set_title('Количество операторов по проценту времени ожидания ответа от общего времени всех звонков')\n",
    "#plt.savefig('hist percent waiting.png', dpi=200.0, bbox_inches='tight', transparent=True) #Сохраняем график в файл для презентации\n",
    "#tch2.set(ylim=(0, 20))\n",
    "plt.show(tch2);\n",
    "\n",
    "plt.figure(figsize=(12,3))\n",
    "ax = sns.boxplot(x='waiting_percent', data=telecom_waiting_sum)\n",
    "#ax.set_ylim(0, 2.5)\n",
    "ax.set_ylabel(' ')\n",
    "ax.set_xlabel('Процент времени ожидания ответа')\n",
    "ax.set_title('Распределение операторов по проценту времени ожидания ответа от общего времени звонка')\n",
    "#plt.savefig('boc percent waiting.png', dpi=200.0, bbox_inches='tight', transparent=True) #Сохраняем график в файл для презентации\n",
    "plt.show();"
   ]
  },
  {
   "cell_type": "markdown",
   "metadata": {},
   "source": [
    "#### Медиана времени ожидания всех звонков у каждого оператора"
   ]
  },
  {
   "cell_type": "code",
   "execution_count": 12,
   "metadata": {
    "scrolled": true
   },
   "outputs": [
    {
     "name": "stderr",
     "output_type": "stream",
     "text": [
      "/tmp/ipykernel_89/2417283736.py:5: SettingWithCopyWarning: \n",
      "A value is trying to be set on a copy of a slice from a DataFrame.\n",
      "Try using .loc[row_indexer,col_indexer] = value instead\n",
      "\n",
      "See the caveats in the documentation: https://pandas.pydata.org/pandas-docs/stable/user_guide/indexing.html#returning-a-view-versus-a-copy\n",
      "  telecom_waiting_med['call_waiting_median'] = telecom_waiting_med['total_call_duration'] - telecom_waiting_med['call_duration']\n"
     ]
    },
    {
     "data": {
      "text/html": [
       "<div>\n",
       "<style scoped>\n",
       "    .dataframe tbody tr th:only-of-type {\n",
       "        vertical-align: middle;\n",
       "    }\n",
       "\n",
       "    .dataframe tbody tr th {\n",
       "        vertical-align: top;\n",
       "    }\n",
       "\n",
       "    .dataframe thead th {\n",
       "        text-align: right;\n",
       "    }\n",
       "</style>\n",
       "<table border=\"1\" class=\"dataframe\">\n",
       "  <thead>\n",
       "    <tr style=\"text-align: right;\">\n",
       "      <th></th>\n",
       "      <th>operator_id</th>\n",
       "      <th>call_waiting_median</th>\n",
       "    </tr>\n",
       "  </thead>\n",
       "  <tbody>\n",
       "    <tr>\n",
       "      <th>0</th>\n",
       "      <td>879896</td>\n",
       "      <td>16.0</td>\n",
       "    </tr>\n",
       "    <tr>\n",
       "      <th>1</th>\n",
       "      <td>879898</td>\n",
       "      <td>14.5</td>\n",
       "    </tr>\n",
       "    <tr>\n",
       "      <th>2</th>\n",
       "      <td>880020</td>\n",
       "      <td>7.0</td>\n",
       "    </tr>\n",
       "    <tr>\n",
       "      <th>3</th>\n",
       "      <td>880022</td>\n",
       "      <td>16.0</td>\n",
       "    </tr>\n",
       "    <tr>\n",
       "      <th>4</th>\n",
       "      <td>880026</td>\n",
       "      <td>6.5</td>\n",
       "    </tr>\n",
       "  </tbody>\n",
       "</table>\n",
       "</div>"
      ],
      "text/plain": [
       "   operator_id  call_waiting_median\n",
       "0       879896                 16.0\n",
       "1       879898                 14.5\n",
       "2       880020                  7.0\n",
       "3       880022                 16.0\n",
       "4       880026                  6.5"
      ]
     },
     "metadata": {},
     "output_type": "display_data"
    },
    {
     "name": "stdout",
     "output_type": "stream",
     "text": [
      "Порог эффективности по медиане времени ожидания: 108 сек.\n"
     ]
    },
    {
     "data": {
      "image/png": "[encoded data removed]",
      "text/plain": [
       "<Figure size 864x288 with 1 Axes>"
      ]
     },
     "metadata": {},
     "output_type": "display_data"
    },
    {
     "data": {
      "image/png": "[encoded data removed]",
      "text/plain": [
       "<Figure size 864x216 with 1 Axes>"
      ]
     },
     "metadata": {},
     "output_type": "display_data"
    }
   ],
   "source": [
    "# Фильтрую только входящие внешние непропущенные звонки\n",
    "telecom_waiting_med = telecom.query('out_direction == False and internal == False and is_missed_call == False')\n",
    "\n",
    "# Считаю время ожидания для каждой строки\n",
    "telecom_waiting_med['call_waiting_median'] = telecom_waiting_med['total_call_duration'] - telecom_waiting_med['call_duration']\n",
    "\n",
    "# Таблица с медианами времени ожидания для каждого оператора\n",
    "telecom_waiting_med = telecom_waiting_med.groupby('operator_id')['call_waiting_median'].median().reset_index()\n",
    "display(telecom_waiting_med.head())\n",
    "\n",
    "# Считаю порогвое значение эффективности\n",
    "telecom_waiting_med_tr = telecom_waiting_med['call_waiting_median'].describe()\n",
    "waiting_med_threshold = (((telecom_waiting_med_tr['75%'])-\n",
    "                     (telecom_waiting_med_tr['25%']))*1.5+\n",
    "                     telecom_waiting_med_tr['75%']).round().astype('int')\n",
    "print(f'Порог эффективности по медиане времени ожидания: {waiting_med_threshold} сек.')\n",
    "\n",
    "# Строю графики\n",
    "plt.figure(figsize=(12, 4))\n",
    "sns.set_style('whitegrid')\n",
    "tch2 = sns.histplot(x='call_waiting_median', data = telecom_waiting_med)\n",
    "tch2.set_xlabel('Медиана времени ожидания')\n",
    "tch2.set_ylabel('Количество операторов')\n",
    "tch2.set_title('Количество операторов по медиане времени ожидания')\n",
    "#plt.savefig('hist median waiting.png', dpi=200.0, bbox_inches='tight', transparent=True) #Сохраняем график в файл для презентации\n",
    "plt.show(tch2);\n",
    "\n",
    "plt.figure(figsize=(12,3))\n",
    "ax = sns.boxplot(x='call_waiting_median', data=telecom_waiting_med)\n",
    "ax.set_ylabel(' ')\n",
    "ax.set_xlabel('Медиана времени ожидания')\n",
    "ax.set_title('Распределение операторов по медиане времени ожидания')\n",
    "#plt.savefig('box median waiting.png', dpi=200.0, bbox_inches='tight', transparent=True) #Сохраняем график в файл для презентации\n",
    "plt.show();"
   ]
  },
  {
   "cell_type": "markdown",
   "metadata": {},
   "source": [
    "Сравнив графики в обеих случаях видно, что при способе с медианой они намного лучше сочетсяются друг с другом - \"ус\" ящичного графика заканчивается там же, где резко падают значения на гистограмме, в случае с процентами такого не наблюдается.\n",
    "<br>\n",
    "Таким образом, исходя из данных, будем считать медиану больше <b>108 секунд</b> времени в ожидании ответа оператора одним из признаков неэффективности и добавим значения медиан в таблицу с рейтингом"
   ]
  },
  {
   "cell_type": "code",
   "execution_count": 13,
   "metadata": {},
   "outputs": [
    {
     "data": {
      "text/html": [
       "<div>\n",
       "<style scoped>\n",
       "    .dataframe tbody tr th:only-of-type {\n",
       "        vertical-align: middle;\n",
       "    }\n",
       "\n",
       "    .dataframe tbody tr th {\n",
       "        vertical-align: top;\n",
       "    }\n",
       "\n",
       "    .dataframe thead th {\n",
       "        text-align: right;\n",
       "    }\n",
       "</style>\n",
       "<table border=\"1\" class=\"dataframe\">\n",
       "  <thead>\n",
       "    <tr style=\"text-align: right;\">\n",
       "      <th></th>\n",
       "      <th>operator_id</th>\n",
       "      <th>missed_percent</th>\n",
       "      <th>call_waiting_median</th>\n",
       "    </tr>\n",
       "  </thead>\n",
       "  <tbody>\n",
       "    <tr>\n",
       "      <th>0</th>\n",
       "      <td>880022</td>\n",
       "      <td>0.0</td>\n",
       "      <td>16.0</td>\n",
       "    </tr>\n",
       "    <tr>\n",
       "      <th>1</th>\n",
       "      <td>880020</td>\n",
       "      <td>0.0</td>\n",
       "      <td>7.0</td>\n",
       "    </tr>\n",
       "    <tr>\n",
       "      <th>2</th>\n",
       "      <td>881278</td>\n",
       "      <td>NaN</td>\n",
       "      <td>NaN</td>\n",
       "    </tr>\n",
       "    <tr>\n",
       "      <th>3</th>\n",
       "      <td>880028</td>\n",
       "      <td>0.0</td>\n",
       "      <td>7.0</td>\n",
       "    </tr>\n",
       "    <tr>\n",
       "      <th>4</th>\n",
       "      <td>880026</td>\n",
       "      <td>0.0</td>\n",
       "      <td>6.5</td>\n",
       "    </tr>\n",
       "  </tbody>\n",
       "</table>\n",
       "</div>"
      ],
      "text/plain": [
       "   operator_id  missed_percent  call_waiting_median\n",
       "0       880022             0.0                 16.0\n",
       "1       880020             0.0                  7.0\n",
       "2       881278             NaN                  NaN\n",
       "3       880028             0.0                  7.0\n",
       "4       880026             0.0                  6.5"
      ]
     },
     "metadata": {},
     "output_type": "display_data"
    }
   ],
   "source": [
    "#Добавляю медиану ожидания к таблице с процентом пропущенных звонков - это будет таблица с рейтингом по всем параметрам\n",
    "\n",
    "operator_rating = operator_rating.merge(telecom_waiting_med, on='operator_id', how='left')\n",
    "display(operator_rating.head())"
   ]
  },
  {
   "cell_type": "markdown",
   "metadata": {},
   "source": [
    "### Количество исходящих звонков\n",
    "<a id=\"part3-3\"></a>"
   ]
  },
  {
   "cell_type": "markdown",
   "metadata": {},
   "source": [
    "В этой главе я сначала выясню, какие колл-центры сосредоточенны на исходящих звонках. Эффективность по количеству исходящих звонков я буду оценивать только у операторов таких колл-центров."
   ]
  },
  {
   "cell_type": "markdown",
   "metadata": {},
   "source": [
    "#### Сосредоточенные на исходящих звонках колл-центры"
   ]
  },
  {
   "cell_type": "code",
   "execution_count": 14,
   "metadata": {
    "scrolled": true
   },
   "outputs": [
    {
     "data": {
      "text/html": [
       "<div>\n",
       "<style scoped>\n",
       "    .dataframe tbody tr th:only-of-type {\n",
       "        vertical-align: middle;\n",
       "    }\n",
       "\n",
       "    .dataframe tbody tr th {\n",
       "        vertical-align: top;\n",
       "    }\n",
       "\n",
       "    .dataframe thead th {\n",
       "        text-align: right;\n",
       "    }\n",
       "</style>\n",
       "<table border=\"1\" class=\"dataframe\">\n",
       "  <thead>\n",
       "    <tr style=\"text-align: right;\">\n",
       "      <th></th>\n",
       "      <th>user_id</th>\n",
       "      <th>calls</th>\n",
       "      <th>out_calls</th>\n",
       "    </tr>\n",
       "  </thead>\n",
       "  <tbody>\n",
       "    <tr>\n",
       "      <th>0</th>\n",
       "      <td>166377</td>\n",
       "      <td>4999</td>\n",
       "      <td>4897.0</td>\n",
       "    </tr>\n",
       "    <tr>\n",
       "      <th>1</th>\n",
       "      <td>166391</td>\n",
       "      <td>4</td>\n",
       "      <td>0.0</td>\n",
       "    </tr>\n",
       "    <tr>\n",
       "      <th>2</th>\n",
       "      <td>166392</td>\n",
       "      <td>102</td>\n",
       "      <td>0.0</td>\n",
       "    </tr>\n",
       "    <tr>\n",
       "      <th>3</th>\n",
       "      <td>166399</td>\n",
       "      <td>11</td>\n",
       "      <td>0.0</td>\n",
       "    </tr>\n",
       "    <tr>\n",
       "      <th>4</th>\n",
       "      <td>166405</td>\n",
       "      <td>11980</td>\n",
       "      <td>9789.0</td>\n",
       "    </tr>\n",
       "    <tr>\n",
       "      <th>5</th>\n",
       "      <td>166406</td>\n",
       "      <td>8209</td>\n",
       "      <td>8048.0</td>\n",
       "    </tr>\n",
       "    <tr>\n",
       "      <th>6</th>\n",
       "      <td>166407</td>\n",
       "      <td>386</td>\n",
       "      <td>306.0</td>\n",
       "    </tr>\n",
       "    <tr>\n",
       "      <th>7</th>\n",
       "      <td>166428</td>\n",
       "      <td>123</td>\n",
       "      <td>0.0</td>\n",
       "    </tr>\n",
       "    <tr>\n",
       "      <th>8</th>\n",
       "      <td>166481</td>\n",
       "      <td>1</td>\n",
       "      <td>0.0</td>\n",
       "    </tr>\n",
       "    <tr>\n",
       "      <th>9</th>\n",
       "      <td>166482</td>\n",
       "      <td>48</td>\n",
       "      <td>0.0</td>\n",
       "    </tr>\n",
       "    <tr>\n",
       "      <th>10</th>\n",
       "      <td>166485</td>\n",
       "      <td>6652</td>\n",
       "      <td>6132.0</td>\n",
       "    </tr>\n",
       "    <tr>\n",
       "      <th>11</th>\n",
       "      <td>166487</td>\n",
       "      <td>152</td>\n",
       "      <td>96.0</td>\n",
       "    </tr>\n",
       "    <tr>\n",
       "      <th>12</th>\n",
       "      <td>166495</td>\n",
       "      <td>2744</td>\n",
       "      <td>2661.0</td>\n",
       "    </tr>\n",
       "    <tr>\n",
       "      <th>13</th>\n",
       "      <td>166503</td>\n",
       "      <td>1122</td>\n",
       "      <td>870.0</td>\n",
       "    </tr>\n",
       "    <tr>\n",
       "      <th>14</th>\n",
       "      <td>166507</td>\n",
       "      <td>3</td>\n",
       "      <td>3.0</td>\n",
       "    </tr>\n",
       "  </tbody>\n",
       "</table>\n",
       "</div>"
      ],
      "text/plain": [
       "    user_id  calls  out_calls\n",
       "0    166377   4999     4897.0\n",
       "1    166391      4        0.0\n",
       "2    166392    102        0.0\n",
       "3    166399     11        0.0\n",
       "4    166405  11980     9789.0\n",
       "5    166406   8209     8048.0\n",
       "6    166407    386      306.0\n",
       "7    166428    123        0.0\n",
       "8    166481      1        0.0\n",
       "9    166482     48        0.0\n",
       "10   166485   6652     6132.0\n",
       "11   166487    152       96.0\n",
       "12   166495   2744     2661.0\n",
       "13   166503   1122      870.0\n",
       "14   166507      3        3.0"
      ]
     },
     "metadata": {},
     "output_type": "display_data"
    },
    {
     "data": {
      "text/html": [
       "<div>\n",
       "<style scoped>\n",
       "    .dataframe tbody tr th:only-of-type {\n",
       "        vertical-align: middle;\n",
       "    }\n",
       "\n",
       "    .dataframe tbody tr th {\n",
       "        vertical-align: top;\n",
       "    }\n",
       "\n",
       "    .dataframe thead th {\n",
       "        text-align: right;\n",
       "    }\n",
       "</style>\n",
       "<table border=\"1\" class=\"dataframe\">\n",
       "  <thead>\n",
       "    <tr style=\"text-align: right;\">\n",
       "      <th></th>\n",
       "      <th>user_id</th>\n",
       "      <th>calls</th>\n",
       "      <th>out_calls</th>\n",
       "      <th>out_percent</th>\n",
       "    </tr>\n",
       "  </thead>\n",
       "  <tbody>\n",
       "    <tr>\n",
       "      <th>0</th>\n",
       "      <td>166377</td>\n",
       "      <td>4999</td>\n",
       "      <td>4897.0</td>\n",
       "      <td>97.96</td>\n",
       "    </tr>\n",
       "    <tr>\n",
       "      <th>1</th>\n",
       "      <td>166391</td>\n",
       "      <td>4</td>\n",
       "      <td>0.0</td>\n",
       "      <td>0.00</td>\n",
       "    </tr>\n",
       "    <tr>\n",
       "      <th>2</th>\n",
       "      <td>166392</td>\n",
       "      <td>102</td>\n",
       "      <td>0.0</td>\n",
       "      <td>0.00</td>\n",
       "    </tr>\n",
       "    <tr>\n",
       "      <th>3</th>\n",
       "      <td>166399</td>\n",
       "      <td>11</td>\n",
       "      <td>0.0</td>\n",
       "      <td>0.00</td>\n",
       "    </tr>\n",
       "    <tr>\n",
       "      <th>4</th>\n",
       "      <td>166405</td>\n",
       "      <td>11980</td>\n",
       "      <td>9789.0</td>\n",
       "      <td>81.71</td>\n",
       "    </tr>\n",
       "    <tr>\n",
       "      <th>5</th>\n",
       "      <td>166406</td>\n",
       "      <td>8209</td>\n",
       "      <td>8048.0</td>\n",
       "      <td>98.04</td>\n",
       "    </tr>\n",
       "    <tr>\n",
       "      <th>6</th>\n",
       "      <td>166407</td>\n",
       "      <td>386</td>\n",
       "      <td>306.0</td>\n",
       "      <td>79.27</td>\n",
       "    </tr>\n",
       "    <tr>\n",
       "      <th>7</th>\n",
       "      <td>166428</td>\n",
       "      <td>123</td>\n",
       "      <td>0.0</td>\n",
       "      <td>0.00</td>\n",
       "    </tr>\n",
       "    <tr>\n",
       "      <th>8</th>\n",
       "      <td>166481</td>\n",
       "      <td>1</td>\n",
       "      <td>0.0</td>\n",
       "      <td>0.00</td>\n",
       "    </tr>\n",
       "    <tr>\n",
       "      <th>9</th>\n",
       "      <td>166482</td>\n",
       "      <td>48</td>\n",
       "      <td>0.0</td>\n",
       "      <td>0.00</td>\n",
       "    </tr>\n",
       "    <tr>\n",
       "      <th>10</th>\n",
       "      <td>166485</td>\n",
       "      <td>6652</td>\n",
       "      <td>6132.0</td>\n",
       "      <td>92.18</td>\n",
       "    </tr>\n",
       "    <tr>\n",
       "      <th>11</th>\n",
       "      <td>166487</td>\n",
       "      <td>152</td>\n",
       "      <td>96.0</td>\n",
       "      <td>63.16</td>\n",
       "    </tr>\n",
       "    <tr>\n",
       "      <th>12</th>\n",
       "      <td>166495</td>\n",
       "      <td>2744</td>\n",
       "      <td>2661.0</td>\n",
       "      <td>96.98</td>\n",
       "    </tr>\n",
       "    <tr>\n",
       "      <th>13</th>\n",
       "      <td>166503</td>\n",
       "      <td>1122</td>\n",
       "      <td>870.0</td>\n",
       "      <td>77.54</td>\n",
       "    </tr>\n",
       "    <tr>\n",
       "      <th>14</th>\n",
       "      <td>166507</td>\n",
       "      <td>3</td>\n",
       "      <td>3.0</td>\n",
       "      <td>100.00</td>\n",
       "    </tr>\n",
       "  </tbody>\n",
       "</table>\n",
       "</div>"
      ],
      "text/plain": [
       "    user_id  calls  out_calls  out_percent\n",
       "0    166377   4999     4897.0        97.96\n",
       "1    166391      4        0.0         0.00\n",
       "2    166392    102        0.0         0.00\n",
       "3    166399     11        0.0         0.00\n",
       "4    166405  11980     9789.0        81.71\n",
       "5    166406   8209     8048.0        98.04\n",
       "6    166407    386      306.0        79.27\n",
       "7    166428    123        0.0         0.00\n",
       "8    166481      1        0.0         0.00\n",
       "9    166482     48        0.0         0.00\n",
       "10   166485   6652     6132.0        92.18\n",
       "11   166487    152       96.0        63.16\n",
       "12   166495   2744     2661.0        96.98\n",
       "13   166503   1122      870.0        77.54\n",
       "14   166507      3        3.0       100.00"
      ]
     },
     "metadata": {},
     "output_type": "display_data"
    },
    {
     "data": {
      "image/png": "[encoded data removed]",
      "text/plain": [
       "<Figure size 864x288 with 1 Axes>"
      ]
     },
     "metadata": {},
     "output_type": "display_data"
    }
   ],
   "source": [
    "# Считаю для каждого пользователя количество звонков и исходящих звонков\n",
    "users_spec = telecom.query('internal == False').pivot_table(index='user_id', aggfunc='sum', values='calls_count').reset_index()\n",
    "users_spec2 = telecom.query('out_direction == True and internal == False').pivot_table(index='user_id', aggfunc='sum', values='calls_count').reset_index()\n",
    "users_spec.columns = ['user_id', 'calls']\n",
    "users_spec = users_spec.merge(users_spec2, on = 'user_id', how = 'left').fillna(0)\n",
    "users_spec.columns = ['user_id', 'calls', 'out_calls']\n",
    "\n",
    "display(users_spec.head(15))\n",
    "\n",
    "# Вычисляю процет исходящих звонков\n",
    "users_spec['out_percent'] = ((users_spec['out_calls'] / users_spec['calls'])*100).round(2)\n",
    "display(users_spec.head(15))\n",
    "\n",
    "fig, ax = plt.subplots(figsize=(12, 4))\n",
    "sns.set_style('whitegrid')\n",
    "sns.histplot(x='out_percent', data = users_spec, bins=100)\n",
    "ax.set_xlabel('Процент исходящих звонков')\n",
    "ax.set_ylabel('Количество пользователей')\n",
    "ax.set_title('Количество пользователей по проценту исходящих звонков')\n",
    "#plt.savefig('out calls.png', dpi=200.0, bbox_inches='tight', transparent=True) #Сохраняем график в файл для презентации\n",
    "plt.show();"
   ]
  },
  {
   "cell_type": "markdown",
   "metadata": {},
   "source": [
    "Будем считать колл-центр специализируещимся на исходящих звонках, если их больше половины"
   ]
  },
  {
   "cell_type": "code",
   "execution_count": 15,
   "metadata": {},
   "outputs": [
    {
     "data": {
      "text/plain": [
       "[159, 131]"
      ]
     },
     "metadata": {},
     "output_type": "display_data"
    },
    {
     "data": {
      "image/png": "[encoded data removed]",
      "text/plain": [
       "<Figure size 432x288 with 1 Axes>"
      ]
     },
     "metadata": {},
     "output_type": "display_data"
    }
   ],
   "source": [
    "users_spec['spec_out'] = users_spec['out_percent'] > 50\n",
    "\n",
    "#op_us['users_spec_out'] = op_us['users_spec_out'].astype('bool')\n",
    "\n",
    "users_spec_pie = [users_spec['spec_out'].sum(), users_spec['spec_out'].count()-users_spec['spec_out'].sum()]\n",
    "display(users_spec_pie)\n",
    "labels_users = ['Обзвон','Обработка']\n",
    "fig1, ax = plt.subplots()\n",
    "ax.pie(users_spec_pie, labels=labels_users, autopct='%1.1f%%')\n",
    "ax.set_title('Распределение пользователей по специализации')\n",
    "#plt.savefig('pie call centers.png', dpi=300.0, bbox_inches='tight', transparent=True) #Сохраняем график в файл для презентации\n",
    "plt.show()"
   ]
  },
  {
   "cell_type": "code",
   "execution_count": 16,
   "metadata": {
    "scrolled": true
   },
   "outputs": [
    {
     "name": "stderr",
     "output_type": "stream",
     "text": [
      "/tmp/ipykernel_89/2967259504.py:25: SettingWithCopyWarning: \n",
      "A value is trying to be set on a copy of a slice from a DataFrame\n",
      "\n",
      "See the caveats in the documentation: https://pandas.pydata.org/pandas-docs/stable/user_guide/indexing.html#returning-a-view-versus-a-copy\n",
      "  op_us['users_spec_out'][index] = True\n",
      "/tmp/ipykernel_89/2967259504.py:23: SettingWithCopyWarning: \n",
      "A value is trying to be set on a copy of a slice from a DataFrame\n",
      "\n",
      "See the caveats in the documentation: https://pandas.pydata.org/pandas-docs/stable/user_guide/indexing.html#returning-a-view-versus-a-copy\n",
      "  op_us['users_spec_out'][index] = False\n",
      "/tmp/ipykernel_89/2967259504.py:27: SettingWithCopyWarning: \n",
      "A value is trying to be set on a copy of a slice from a DataFrame\n",
      "\n",
      "See the caveats in the documentation: https://pandas.pydata.org/pandas-docs/stable/user_guide/indexing.html#returning-a-view-versus-a-copy\n",
      "  op_us['users_spec_out'][index] = False\n"
     ]
    },
    {
     "data": {
      "text/html": [
       "<div>\n",
       "<style scoped>\n",
       "    .dataframe tbody tr th:only-of-type {\n",
       "        vertical-align: middle;\n",
       "    }\n",
       "\n",
       "    .dataframe tbody tr th {\n",
       "        vertical-align: top;\n",
       "    }\n",
       "\n",
       "    .dataframe thead th {\n",
       "        text-align: right;\n",
       "    }\n",
       "</style>\n",
       "<table border=\"1\" class=\"dataframe\">\n",
       "  <thead>\n",
       "    <tr style=\"text-align: right;\">\n",
       "      <th></th>\n",
       "      <th>user_id</th>\n",
       "      <th>operator_id</th>\n",
       "      <th>users_spec_out</th>\n",
       "    </tr>\n",
       "  </thead>\n",
       "  <tbody>\n",
       "    <tr>\n",
       "      <th>0</th>\n",
       "      <td>166377</td>\n",
       "      <td>880022</td>\n",
       "      <td>True</td>\n",
       "    </tr>\n",
       "    <tr>\n",
       "      <th>1</th>\n",
       "      <td>166377</td>\n",
       "      <td>880020</td>\n",
       "      <td>True</td>\n",
       "    </tr>\n",
       "    <tr>\n",
       "      <th>2</th>\n",
       "      <td>166377</td>\n",
       "      <td>881278</td>\n",
       "      <td>True</td>\n",
       "    </tr>\n",
       "    <tr>\n",
       "      <th>3</th>\n",
       "      <td>166377</td>\n",
       "      <td>880028</td>\n",
       "      <td>True</td>\n",
       "    </tr>\n",
       "    <tr>\n",
       "      <th>4</th>\n",
       "      <td>166377</td>\n",
       "      <td>880026</td>\n",
       "      <td>True</td>\n",
       "    </tr>\n",
       "  </tbody>\n",
       "</table>\n",
       "</div>"
      ],
      "text/plain": [
       "   user_id  operator_id users_spec_out\n",
       "0   166377       880022           True\n",
       "1   166377       880020           True\n",
       "2   166377       881278           True\n",
       "3   166377       880028           True\n",
       "4   166377       880026           True"
      ]
     },
     "metadata": {},
     "output_type": "display_data"
    },
    {
     "data": {
      "text/plain": [
       "[730, 362]"
      ]
     },
     "metadata": {},
     "output_type": "display_data"
    },
    {
     "data": {
      "image/png": "[encoded data removed]",
      "text/plain": [
       "<Figure size 432x288 with 1 Axes>"
      ]
     },
     "metadata": {},
     "output_type": "display_data"
    }
   ],
   "source": [
    "# Оставляем только специлизируещиеся на исходящих звонка колл-центры\n",
    "users_spec_out = users_spec.query('spec_out == True')\n",
    "out_ids = list(users_spec_out['user_id'])\n",
    "\n",
    "# создаю таблицу с парой пользователь-оператор\n",
    "op_us = telecom.loc[:,['user_id','operator_id']].drop_duplicates(keep='first').reset_index(drop=True)\n",
    "\n",
    "# Проверяю точно ли у каждого оператора один пользователь\n",
    "check = op_us.pivot_table(index='operator_id', values='user_id', aggfunc='count').sort_values(by='user_id', ascending=False)\n",
    "#display(check.head())\n",
    "\n",
    "# Проверяю есть ли операторы только с входящими вызовами\n",
    "only_inn_calls = telecom.query('internal == False')\n",
    "only_inn_calls = only_inn_calls.loc[:,['out_direction','operator_id']]\n",
    "only_inn_calls = only_inn_calls.pivot_table(index='operator_id', values='out_direction', aggfunc='sum').query('out_direction == 0').sort_values(by='out_direction', ascending=False).reset_index()\n",
    "#display(only_inn_calls.head(20))\n",
    "only_inn_calls2 = list(only_inn_calls['operator_id'])\n",
    "\n",
    "#Добавляю столбец, где у пользователя, специализирующегося на обзвонах будет значение True\n",
    "op_us['users_spec_out'] = \"\"\n",
    "for index, row in op_us.iterrows():\n",
    "    if row['operator_id'] in only_inn_calls2:\n",
    "        op_us['users_spec_out'][index] = False\n",
    "    elif row['user_id'] in out_ids:\n",
    "        op_us['users_spec_out'][index] = True  \n",
    "    else:\n",
    "        op_us['users_spec_out'][index] = False\n",
    "\n",
    "\n",
    "display(op_us.head())\n",
    "\n",
    "op_us['users_spec_out'] = op_us['users_spec_out'].astype('bool')\n",
    "\n",
    "operators_spec_pie = [op_us['users_spec_out'].sum(), op_us['users_spec_out'].count()-op_us['users_spec_out'].sum()]\n",
    "display(operators_spec_pie)\n",
    "labels_users = ['Обзвон','Обработка']\n",
    "fig1, ax = plt.subplots()\n",
    "ax.pie(operators_spec_pie, labels=labels_users, autopct='%1.1f%%')\n",
    "ax.set_title('Распределение операторов по специализации их колл-центров')\n",
    "#plt.savefig('pie operator call centers.png', dpi=300.0, bbox_inches='tight', transparent=True) #Сохраняем график в файл для презентации\n",
    "plt.show()"
   ]
  },
  {
   "cell_type": "markdown",
   "metadata": {},
   "source": [
    "Имеются пропуски в calls_per_day даже когда значение users_spec_out = True. Это те случаи, когда колл-центр специализируется на обзвонах, но конкретный оператор в нем не сделал ни одного исходящего звонка. Для таких случаев поменяю users_spec_out на False"
   ]
  },
  {
   "cell_type": "markdown",
   "metadata": {},
   "source": [
    "Пользователи поделились ровно на две трети обзвона, и одну треть обработки."
   ]
  },
  {
   "cell_type": "code",
   "execution_count": 17,
   "metadata": {
    "scrolled": true
   },
   "outputs": [
    {
     "data": {
      "text/html": [
       "<div>\n",
       "<style scoped>\n",
       "    .dataframe tbody tr th:only-of-type {\n",
       "        vertical-align: middle;\n",
       "    }\n",
       "\n",
       "    .dataframe tbody tr th {\n",
       "        vertical-align: top;\n",
       "    }\n",
       "\n",
       "    .dataframe thead th {\n",
       "        text-align: right;\n",
       "    }\n",
       "</style>\n",
       "<table border=\"1\" class=\"dataframe\">\n",
       "  <thead>\n",
       "    <tr style=\"text-align: right;\">\n",
       "      <th></th>\n",
       "      <th>operator_id</th>\n",
       "      <th>missed_percent</th>\n",
       "      <th>call_waiting_median</th>\n",
       "      <th>users_spec_out</th>\n",
       "    </tr>\n",
       "  </thead>\n",
       "  <tbody>\n",
       "    <tr>\n",
       "      <th>0</th>\n",
       "      <td>880022</td>\n",
       "      <td>0.0</td>\n",
       "      <td>16.0</td>\n",
       "      <td>True</td>\n",
       "    </tr>\n",
       "    <tr>\n",
       "      <th>1</th>\n",
       "      <td>880020</td>\n",
       "      <td>0.0</td>\n",
       "      <td>7.0</td>\n",
       "      <td>True</td>\n",
       "    </tr>\n",
       "    <tr>\n",
       "      <th>2</th>\n",
       "      <td>881278</td>\n",
       "      <td>NaN</td>\n",
       "      <td>NaN</td>\n",
       "      <td>True</td>\n",
       "    </tr>\n",
       "    <tr>\n",
       "      <th>3</th>\n",
       "      <td>880028</td>\n",
       "      <td>0.0</td>\n",
       "      <td>7.0</td>\n",
       "      <td>True</td>\n",
       "    </tr>\n",
       "    <tr>\n",
       "      <th>4</th>\n",
       "      <td>880026</td>\n",
       "      <td>0.0</td>\n",
       "      <td>6.5</td>\n",
       "      <td>True</td>\n",
       "    </tr>\n",
       "    <tr>\n",
       "      <th>...</th>\n",
       "      <td>...</td>\n",
       "      <td>...</td>\n",
       "      <td>...</td>\n",
       "      <td>...</td>\n",
       "    </tr>\n",
       "    <tr>\n",
       "      <th>1087</th>\n",
       "      <td>958394</td>\n",
       "      <td>0.0</td>\n",
       "      <td>11.0</td>\n",
       "      <td>False</td>\n",
       "    </tr>\n",
       "    <tr>\n",
       "      <th>1088</th>\n",
       "      <td>952914</td>\n",
       "      <td>0.0</td>\n",
       "      <td>33.0</td>\n",
       "      <td>True</td>\n",
       "    </tr>\n",
       "    <tr>\n",
       "      <th>1089</th>\n",
       "      <td>952916</td>\n",
       "      <td>0.0</td>\n",
       "      <td>25.0</td>\n",
       "      <td>True</td>\n",
       "    </tr>\n",
       "    <tr>\n",
       "      <th>1090</th>\n",
       "      <td>959118</td>\n",
       "      <td>NaN</td>\n",
       "      <td>NaN</td>\n",
       "      <td>True</td>\n",
       "    </tr>\n",
       "    <tr>\n",
       "      <th>1091</th>\n",
       "      <td>957922</td>\n",
       "      <td>50.0</td>\n",
       "      <td>19.0</td>\n",
       "      <td>True</td>\n",
       "    </tr>\n",
       "  </tbody>\n",
       "</table>\n",
       "<p>1092 rows × 4 columns</p>\n",
       "</div>"
      ],
      "text/plain": [
       "      operator_id  missed_percent  call_waiting_median  users_spec_out\n",
       "0          880022             0.0                 16.0            True\n",
       "1          880020             0.0                  7.0            True\n",
       "2          881278             NaN                  NaN            True\n",
       "3          880028             0.0                  7.0            True\n",
       "4          880026             0.0                  6.5            True\n",
       "...           ...             ...                  ...             ...\n",
       "1087       958394             0.0                 11.0           False\n",
       "1088       952914             0.0                 33.0            True\n",
       "1089       952916             0.0                 25.0            True\n",
       "1090       959118             NaN                  NaN            True\n",
       "1091       957922            50.0                 19.0            True\n",
       "\n",
       "[1092 rows x 4 columns]"
      ]
     },
     "metadata": {},
     "output_type": "display_data"
    }
   ],
   "source": [
    "# Присоединяю полученные данные к таблице с рейтингом\n",
    "operator_rating = operator_rating.merge(op_us, on='operator_id', how='left').drop(['user_id'], axis=1)\n",
    "display(operator_rating)\n",
    "\n",
    "#operator_rating.info()"
   ]
  },
  {
   "cell_type": "markdown",
   "metadata": {},
   "source": [
    "#### Количество исходящих звонков в день"
   ]
  },
  {
   "cell_type": "markdown",
   "metadata": {},
   "source": [
    "Звонки, на которые клиент не ответил, тоже буду учитывать, ведь оператор совершил требуемые действия а ответ клиента от него не зависит."
   ]
  },
  {
   "cell_type": "code",
   "execution_count": 18,
   "metadata": {},
   "outputs": [
    {
     "data": {
      "text/html": [
       "<div>\n",
       "<style scoped>\n",
       "    .dataframe tbody tr th:only-of-type {\n",
       "        vertical-align: middle;\n",
       "    }\n",
       "\n",
       "    .dataframe tbody tr th {\n",
       "        vertical-align: top;\n",
       "    }\n",
       "\n",
       "    .dataframe thead th {\n",
       "        text-align: right;\n",
       "    }\n",
       "</style>\n",
       "<table border=\"1\" class=\"dataframe\">\n",
       "  <thead>\n",
       "    <tr style=\"text-align: right;\">\n",
       "      <th></th>\n",
       "      <th>user_id_x</th>\n",
       "      <th>date</th>\n",
       "      <th>direction</th>\n",
       "      <th>internal</th>\n",
       "      <th>operator_id</th>\n",
       "      <th>is_missed_call</th>\n",
       "      <th>calls_count</th>\n",
       "      <th>call_duration</th>\n",
       "      <th>total_call_duration</th>\n",
       "      <th>dt_date</th>\n",
       "      <th>out_direction</th>\n",
       "      <th>user_id_y</th>\n",
       "      <th>users_spec_out</th>\n",
       "    </tr>\n",
       "  </thead>\n",
       "  <tbody>\n",
       "    <tr>\n",
       "      <th>0</th>\n",
       "      <td>166377</td>\n",
       "      <td>2019-08-05 00:00:00+03:00</td>\n",
       "      <td>out</td>\n",
       "      <td>True</td>\n",
       "      <td>880022</td>\n",
       "      <td>True</td>\n",
       "      <td>3</td>\n",
       "      <td>0</td>\n",
       "      <td>5</td>\n",
       "      <td>2019-08-05</td>\n",
       "      <td>True</td>\n",
       "      <td>166377</td>\n",
       "      <td>True</td>\n",
       "    </tr>\n",
       "    <tr>\n",
       "      <th>1</th>\n",
       "      <td>166377</td>\n",
       "      <td>2019-08-05 00:00:00+03:00</td>\n",
       "      <td>out</td>\n",
       "      <td>True</td>\n",
       "      <td>880020</td>\n",
       "      <td>True</td>\n",
       "      <td>1</td>\n",
       "      <td>0</td>\n",
       "      <td>1</td>\n",
       "      <td>2019-08-05</td>\n",
       "      <td>True</td>\n",
       "      <td>166377</td>\n",
       "      <td>True</td>\n",
       "    </tr>\n",
       "    <tr>\n",
       "      <th>2</th>\n",
       "      <td>166377</td>\n",
       "      <td>2019-08-05 00:00:00+03:00</td>\n",
       "      <td>out</td>\n",
       "      <td>True</td>\n",
       "      <td>880020</td>\n",
       "      <td>False</td>\n",
       "      <td>1</td>\n",
       "      <td>10</td>\n",
       "      <td>18</td>\n",
       "      <td>2019-08-05</td>\n",
       "      <td>True</td>\n",
       "      <td>166377</td>\n",
       "      <td>True</td>\n",
       "    </tr>\n",
       "    <tr>\n",
       "      <th>3</th>\n",
       "      <td>166377</td>\n",
       "      <td>2019-08-05 00:00:00+03:00</td>\n",
       "      <td>out</td>\n",
       "      <td>False</td>\n",
       "      <td>880022</td>\n",
       "      <td>True</td>\n",
       "      <td>3</td>\n",
       "      <td>0</td>\n",
       "      <td>25</td>\n",
       "      <td>2019-08-05</td>\n",
       "      <td>True</td>\n",
       "      <td>166377</td>\n",
       "      <td>True</td>\n",
       "    </tr>\n",
       "    <tr>\n",
       "      <th>4</th>\n",
       "      <td>166377</td>\n",
       "      <td>2019-08-05 00:00:00+03:00</td>\n",
       "      <td>out</td>\n",
       "      <td>False</td>\n",
       "      <td>880020</td>\n",
       "      <td>False</td>\n",
       "      <td>2</td>\n",
       "      <td>3</td>\n",
       "      <td>29</td>\n",
       "      <td>2019-08-05</td>\n",
       "      <td>True</td>\n",
       "      <td>166377</td>\n",
       "      <td>True</td>\n",
       "    </tr>\n",
       "  </tbody>\n",
       "</table>\n",
       "</div>"
      ],
      "text/plain": [
       "   user_id_x                       date direction  internal  operator_id  \\\n",
       "0     166377  2019-08-05 00:00:00+03:00       out      True       880022   \n",
       "1     166377  2019-08-05 00:00:00+03:00       out      True       880020   \n",
       "2     166377  2019-08-05 00:00:00+03:00       out      True       880020   \n",
       "3     166377  2019-08-05 00:00:00+03:00       out     False       880022   \n",
       "4     166377  2019-08-05 00:00:00+03:00       out     False       880020   \n",
       "\n",
       "   is_missed_call  calls_count  call_duration  total_call_duration    dt_date  \\\n",
       "0            True            3              0                    5 2019-08-05   \n",
       "1            True            1              0                    1 2019-08-05   \n",
       "2           False            1             10                   18 2019-08-05   \n",
       "3            True            3              0                   25 2019-08-05   \n",
       "4           False            2              3                   29 2019-08-05   \n",
       "\n",
       "   out_direction  user_id_y  users_spec_out  \n",
       "0           True     166377            True  \n",
       "1           True     166377            True  \n",
       "2           True     166377            True  \n",
       "3           True     166377            True  \n",
       "4           True     166377            True  "
      ]
     },
     "metadata": {},
     "output_type": "display_data"
    }
   ],
   "source": [
    "#display(telecom.head())\n",
    "#display(operator_rating.head())\n",
    "\n",
    "# Соединяю таблицы чтобы можно было отфильтровать данные по специализирующимся пользователям\n",
    "out_calls = telecom.merge(op_us, on='operator_id', how='left')\n",
    "display(out_calls.head())"
   ]
  },
  {
   "cell_type": "code",
   "execution_count": 19,
   "metadata": {
    "scrolled": true
   },
   "outputs": [
    {
     "data": {
      "text/html": [
       "<div>\n",
       "<style scoped>\n",
       "    .dataframe tbody tr th:only-of-type {\n",
       "        vertical-align: middle;\n",
       "    }\n",
       "\n",
       "    .dataframe tbody tr th {\n",
       "        vertical-align: top;\n",
       "    }\n",
       "\n",
       "    .dataframe thead th {\n",
       "        text-align: right;\n",
       "    }\n",
       "</style>\n",
       "<table border=\"1\" class=\"dataframe\">\n",
       "  <thead>\n",
       "    <tr style=\"text-align: right;\">\n",
       "      <th></th>\n",
       "      <th>operator_id</th>\n",
       "      <th>days_worked</th>\n",
       "      <th>calls</th>\n",
       "      <th>calls_per_day</th>\n",
       "    </tr>\n",
       "  </thead>\n",
       "  <tbody>\n",
       "    <tr>\n",
       "      <th>0</th>\n",
       "      <td>879896</td>\n",
       "      <td>48</td>\n",
       "      <td>816</td>\n",
       "      <td>17.00</td>\n",
       "    </tr>\n",
       "    <tr>\n",
       "      <th>1</th>\n",
       "      <td>879898</td>\n",
       "      <td>79</td>\n",
       "      <td>7191</td>\n",
       "      <td>91.03</td>\n",
       "    </tr>\n",
       "    <tr>\n",
       "      <th>2</th>\n",
       "      <td>880020</td>\n",
       "      <td>7</td>\n",
       "      <td>34</td>\n",
       "      <td>4.86</td>\n",
       "    </tr>\n",
       "    <tr>\n",
       "      <th>3</th>\n",
       "      <td>880022</td>\n",
       "      <td>36</td>\n",
       "      <td>174</td>\n",
       "      <td>4.83</td>\n",
       "    </tr>\n",
       "    <tr>\n",
       "      <th>4</th>\n",
       "      <td>880026</td>\n",
       "      <td>77</td>\n",
       "      <td>2188</td>\n",
       "      <td>28.42</td>\n",
       "    </tr>\n",
       "    <tr>\n",
       "      <th>5</th>\n",
       "      <td>880028</td>\n",
       "      <td>78</td>\n",
       "      <td>2489</td>\n",
       "      <td>31.91</td>\n",
       "    </tr>\n",
       "    <tr>\n",
       "      <th>6</th>\n",
       "      <td>880240</td>\n",
       "      <td>5</td>\n",
       "      <td>41</td>\n",
       "      <td>8.20</td>\n",
       "    </tr>\n",
       "    <tr>\n",
       "      <th>7</th>\n",
       "      <td>881278</td>\n",
       "      <td>5</td>\n",
       "      <td>12</td>\n",
       "      <td>2.40</td>\n",
       "    </tr>\n",
       "    <tr>\n",
       "      <th>8</th>\n",
       "      <td>882684</td>\n",
       "      <td>58</td>\n",
       "      <td>651</td>\n",
       "      <td>11.22</td>\n",
       "    </tr>\n",
       "    <tr>\n",
       "      <th>9</th>\n",
       "      <td>882686</td>\n",
       "      <td>77</td>\n",
       "      <td>2876</td>\n",
       "      <td>37.35</td>\n",
       "    </tr>\n",
       "    <tr>\n",
       "      <th>10</th>\n",
       "      <td>882688</td>\n",
       "      <td>4</td>\n",
       "      <td>43</td>\n",
       "      <td>10.75</td>\n",
       "    </tr>\n",
       "    <tr>\n",
       "      <th>11</th>\n",
       "      <td>882690</td>\n",
       "      <td>21</td>\n",
       "      <td>1416</td>\n",
       "      <td>67.43</td>\n",
       "    </tr>\n",
       "    <tr>\n",
       "      <th>12</th>\n",
       "      <td>883018</td>\n",
       "      <td>1</td>\n",
       "      <td>2</td>\n",
       "      <td>2.00</td>\n",
       "    </tr>\n",
       "    <tr>\n",
       "      <th>13</th>\n",
       "      <td>883898</td>\n",
       "      <td>1</td>\n",
       "      <td>1</td>\n",
       "      <td>1.00</td>\n",
       "    </tr>\n",
       "    <tr>\n",
       "      <th>14</th>\n",
       "      <td>883940</td>\n",
       "      <td>16</td>\n",
       "      <td>632</td>\n",
       "      <td>39.50</td>\n",
       "    </tr>\n",
       "    <tr>\n",
       "      <th>15</th>\n",
       "      <td>883942</td>\n",
       "      <td>57</td>\n",
       "      <td>2029</td>\n",
       "      <td>35.60</td>\n",
       "    </tr>\n",
       "    <tr>\n",
       "      <th>16</th>\n",
       "      <td>884402</td>\n",
       "      <td>1</td>\n",
       "      <td>1</td>\n",
       "      <td>1.00</td>\n",
       "    </tr>\n",
       "    <tr>\n",
       "      <th>17</th>\n",
       "      <td>884408</td>\n",
       "      <td>4</td>\n",
       "      <td>9</td>\n",
       "      <td>2.25</td>\n",
       "    </tr>\n",
       "    <tr>\n",
       "      <th>18</th>\n",
       "      <td>884412</td>\n",
       "      <td>54</td>\n",
       "      <td>727</td>\n",
       "      <td>13.46</td>\n",
       "    </tr>\n",
       "    <tr>\n",
       "      <th>19</th>\n",
       "      <td>884478</td>\n",
       "      <td>38</td>\n",
       "      <td>2266</td>\n",
       "      <td>59.63</td>\n",
       "    </tr>\n",
       "  </tbody>\n",
       "</table>\n",
       "</div>"
      ],
      "text/plain": [
       "    operator_id  days_worked  calls  calls_per_day\n",
       "0        879896           48    816          17.00\n",
       "1        879898           79   7191          91.03\n",
       "2        880020            7     34           4.86\n",
       "3        880022           36    174           4.83\n",
       "4        880026           77   2188          28.42\n",
       "5        880028           78   2489          31.91\n",
       "6        880240            5     41           8.20\n",
       "7        881278            5     12           2.40\n",
       "8        882684           58    651          11.22\n",
       "9        882686           77   2876          37.35\n",
       "10       882688            4     43          10.75\n",
       "11       882690           21   1416          67.43\n",
       "12       883018            1      2           2.00\n",
       "13       883898            1      1           1.00\n",
       "14       883940           16    632          39.50\n",
       "15       883942           57   2029          35.60\n",
       "16       884402            1      1           1.00\n",
       "17       884408            4      9           2.25\n",
       "18       884412           54    727          13.46\n",
       "19       884478           38   2266          59.63"
      ]
     },
     "metadata": {},
     "output_type": "display_data"
    }
   ],
   "source": [
    "out_calls = out_calls.query('out_direction == True and internal == False and users_spec_out == True')\n",
    "#display(out_calls.head())\n",
    "\n",
    "# Считаю количество звонков в день\n",
    "out_calls_days = out_calls.pivot_table(index=['operator_id','dt_date'] , values='calls_count', aggfunc='sum').reset_index()\n",
    "out_calls_days = out_calls_days.pivot_table(index='operator_id', values='calls_count', aggfunc=['count','sum']).reset_index().droplevel(1, axis=1)\n",
    "out_calls_days.columns = ['operator_id', 'days_worked','calls']\n",
    "out_calls_days['calls_per_day'] = (out_calls_days['calls'] / out_calls_days['days_worked']).round(2)\n",
    "display(out_calls_days.head(20))\n",
    "out_calls_days = out_calls_days.drop(['days_worked','calls'], axis=1)"
   ]
  },
  {
   "cell_type": "code",
   "execution_count": 20,
   "metadata": {
    "scrolled": true
   },
   "outputs": [
    {
     "name": "stdout",
     "output_type": "stream",
     "text": [
      "Порог эффективности по количеству звонков в день: 3.0 звонка\n"
     ]
    },
    {
     "data": {
      "image/png": "[encoded data removed]",
      "text/plain": [
       "<Figure size 864x288 with 1 Axes>"
      ]
     },
     "metadata": {},
     "output_type": "display_data"
    },
    {
     "data": {
      "image/png": "[encoded data removed]",
      "text/plain": [
       "<Figure size 864x216 with 1 Axes>"
      ]
     },
     "metadata": {},
     "output_type": "display_data"
    }
   ],
   "source": [
    "# строю графики и считаю порог\n",
    "outcalls_threshold = out_calls_days['calls_per_day'].describe()['25%']\n",
    "print(f'Порог эффективности по количеству звонков в день: {outcalls_threshold} звонка')\n",
    "\n",
    "\n",
    "fig, ax = plt.subplots(figsize=(12, 4))\n",
    "sns.set_style('whitegrid')\n",
    "sns.histplot(x='calls_per_day', data = out_calls_days, bins=400)\n",
    "ax.set_xlim(0, 200)\n",
    "ax.set_xlabel('Количество звонков в день')\n",
    "ax.set_ylabel('Количество операторов')\n",
    "ax.set_title('Количество операторов по количеству звонков в день')\n",
    "#plt.savefig('hist calls per day.png', dpi=200.0, bbox_inches='tight', transparent=True) #Сохраняем график в файл для презентации\n",
    "plt.show();\n",
    "\n",
    "plt.figure(figsize=(12,3))\n",
    "ax = sns.boxplot(x='calls_per_day', data = out_calls_days)\n",
    "ax.set_xlim(0, 200)\n",
    "ax.set_ylabel(' ')\n",
    "ax.set_xlabel('Количество звонков в день')\n",
    "ax.set_title('Распределение операторов по количеству звонков в день')\n",
    "#plt.savefig('box calls per day.png', dpi=200.0, bbox_inches='tight', transparent=True) #Сохраняем график в файл для презентации\n",
    "plt.show();"
   ]
  },
  {
   "cell_type": "markdown",
   "metadata": {},
   "source": [
    "В данном случае мною решено выбрать в качестве порога q1, равный <b>3</b> звонкам в день. Это отсечет четверть выборки, однако это единственный критерий для операторов которые занимаются обзвоном а не обработкой звонков."
   ]
  },
  {
   "cell_type": "code",
   "execution_count": 21,
   "metadata": {
    "scrolled": true
   },
   "outputs": [
    {
     "data": {
      "text/html": [
       "<div>\n",
       "<style scoped>\n",
       "    .dataframe tbody tr th:only-of-type {\n",
       "        vertical-align: middle;\n",
       "    }\n",
       "\n",
       "    .dataframe tbody tr th {\n",
       "        vertical-align: top;\n",
       "    }\n",
       "\n",
       "    .dataframe thead th {\n",
       "        text-align: right;\n",
       "    }\n",
       "</style>\n",
       "<table border=\"1\" class=\"dataframe\">\n",
       "  <thead>\n",
       "    <tr style=\"text-align: right;\">\n",
       "      <th></th>\n",
       "      <th>operator_id</th>\n",
       "      <th>missed_percent</th>\n",
       "      <th>call_waiting_median</th>\n",
       "      <th>users_spec_out</th>\n",
       "      <th>calls_per_day</th>\n",
       "    </tr>\n",
       "  </thead>\n",
       "  <tbody>\n",
       "    <tr>\n",
       "      <th>0</th>\n",
       "      <td>880022</td>\n",
       "      <td>0.0</td>\n",
       "      <td>16.0</td>\n",
       "      <td>True</td>\n",
       "      <td>4.83</td>\n",
       "    </tr>\n",
       "    <tr>\n",
       "      <th>1</th>\n",
       "      <td>880020</td>\n",
       "      <td>0.0</td>\n",
       "      <td>7.0</td>\n",
       "      <td>True</td>\n",
       "      <td>4.86</td>\n",
       "    </tr>\n",
       "    <tr>\n",
       "      <th>2</th>\n",
       "      <td>881278</td>\n",
       "      <td>NaN</td>\n",
       "      <td>NaN</td>\n",
       "      <td>True</td>\n",
       "      <td>2.40</td>\n",
       "    </tr>\n",
       "    <tr>\n",
       "      <th>3</th>\n",
       "      <td>880028</td>\n",
       "      <td>0.0</td>\n",
       "      <td>7.0</td>\n",
       "      <td>True</td>\n",
       "      <td>31.91</td>\n",
       "    </tr>\n",
       "    <tr>\n",
       "      <th>4</th>\n",
       "      <td>880026</td>\n",
       "      <td>0.0</td>\n",
       "      <td>6.5</td>\n",
       "      <td>True</td>\n",
       "      <td>28.42</td>\n",
       "    </tr>\n",
       "    <tr>\n",
       "      <th>...</th>\n",
       "      <td>...</td>\n",
       "      <td>...</td>\n",
       "      <td>...</td>\n",
       "      <td>...</td>\n",
       "      <td>...</td>\n",
       "    </tr>\n",
       "    <tr>\n",
       "      <th>1087</th>\n",
       "      <td>958394</td>\n",
       "      <td>0.0</td>\n",
       "      <td>11.0</td>\n",
       "      <td>False</td>\n",
       "      <td>NaN</td>\n",
       "    </tr>\n",
       "    <tr>\n",
       "      <th>1088</th>\n",
       "      <td>952914</td>\n",
       "      <td>0.0</td>\n",
       "      <td>33.0</td>\n",
       "      <td>True</td>\n",
       "      <td>30.47</td>\n",
       "    </tr>\n",
       "    <tr>\n",
       "      <th>1089</th>\n",
       "      <td>952916</td>\n",
       "      <td>0.0</td>\n",
       "      <td>25.0</td>\n",
       "      <td>True</td>\n",
       "      <td>1.75</td>\n",
       "    </tr>\n",
       "    <tr>\n",
       "      <th>1090</th>\n",
       "      <td>959118</td>\n",
       "      <td>NaN</td>\n",
       "      <td>NaN</td>\n",
       "      <td>True</td>\n",
       "      <td>3.50</td>\n",
       "    </tr>\n",
       "    <tr>\n",
       "      <th>1091</th>\n",
       "      <td>957922</td>\n",
       "      <td>50.0</td>\n",
       "      <td>19.0</td>\n",
       "      <td>True</td>\n",
       "      <td>4.00</td>\n",
       "    </tr>\n",
       "  </tbody>\n",
       "</table>\n",
       "<p>1092 rows × 5 columns</p>\n",
       "</div>"
      ],
      "text/plain": [
       "      operator_id  missed_percent  call_waiting_median  users_spec_out  \\\n",
       "0          880022             0.0                 16.0            True   \n",
       "1          880020             0.0                  7.0            True   \n",
       "2          881278             NaN                  NaN            True   \n",
       "3          880028             0.0                  7.0            True   \n",
       "4          880026             0.0                  6.5            True   \n",
       "...           ...             ...                  ...             ...   \n",
       "1087       958394             0.0                 11.0           False   \n",
       "1088       952914             0.0                 33.0            True   \n",
       "1089       952916             0.0                 25.0            True   \n",
       "1090       959118             NaN                  NaN            True   \n",
       "1091       957922            50.0                 19.0            True   \n",
       "\n",
       "      calls_per_day  \n",
       "0              4.83  \n",
       "1              4.86  \n",
       "2              2.40  \n",
       "3             31.91  \n",
       "4             28.42  \n",
       "...             ...  \n",
       "1087            NaN  \n",
       "1088          30.47  \n",
       "1089           1.75  \n",
       "1090           3.50  \n",
       "1091           4.00  \n",
       "\n",
       "[1092 rows x 5 columns]"
      ]
     },
     "metadata": {},
     "output_type": "display_data"
    }
   ],
   "source": [
    "# Добавляю информацию в рейтинг\n",
    "operator_rating = operator_rating.merge(out_calls_days, on='operator_id', how='left')\n",
    "display(operator_rating)"
   ]
  },
  {
   "cell_type": "code",
   "execution_count": 22,
   "metadata": {
    "scrolled": true
   },
   "outputs": [
    {
     "data": {
      "text/html": [
       "<div>\n",
       "<style scoped>\n",
       "    .dataframe tbody tr th:only-of-type {\n",
       "        vertical-align: middle;\n",
       "    }\n",
       "\n",
       "    .dataframe tbody tr th {\n",
       "        vertical-align: top;\n",
       "    }\n",
       "\n",
       "    .dataframe thead th {\n",
       "        text-align: right;\n",
       "    }\n",
       "</style>\n",
       "<table border=\"1\" class=\"dataframe\">\n",
       "  <thead>\n",
       "    <tr style=\"text-align: right;\">\n",
       "      <th></th>\n",
       "      <th>operator_id</th>\n",
       "      <th>missed_percent</th>\n",
       "      <th>call_waiting_median</th>\n",
       "      <th>users_spec_out</th>\n",
       "      <th>calls_per_day</th>\n",
       "    </tr>\n",
       "  </thead>\n",
       "  <tbody>\n",
       "    <tr>\n",
       "      <th>0</th>\n",
       "      <td>880022</td>\n",
       "      <td>0.0</td>\n",
       "      <td>16.0</td>\n",
       "      <td>True</td>\n",
       "      <td>4.83</td>\n",
       "    </tr>\n",
       "    <tr>\n",
       "      <th>1</th>\n",
       "      <td>880020</td>\n",
       "      <td>0.0</td>\n",
       "      <td>7.0</td>\n",
       "      <td>True</td>\n",
       "      <td>4.86</td>\n",
       "    </tr>\n",
       "    <tr>\n",
       "      <th>2</th>\n",
       "      <td>881278</td>\n",
       "      <td>NaN</td>\n",
       "      <td>NaN</td>\n",
       "      <td>True</td>\n",
       "      <td>2.40</td>\n",
       "    </tr>\n",
       "    <tr>\n",
       "      <th>3</th>\n",
       "      <td>880028</td>\n",
       "      <td>0.0</td>\n",
       "      <td>7.0</td>\n",
       "      <td>True</td>\n",
       "      <td>31.91</td>\n",
       "    </tr>\n",
       "    <tr>\n",
       "      <th>4</th>\n",
       "      <td>880026</td>\n",
       "      <td>0.0</td>\n",
       "      <td>6.5</td>\n",
       "      <td>True</td>\n",
       "      <td>28.42</td>\n",
       "    </tr>\n",
       "  </tbody>\n",
       "</table>\n",
       "</div>"
      ],
      "text/plain": [
       "   operator_id  missed_percent  call_waiting_median  users_spec_out  \\\n",
       "0       880022             0.0                 16.0            True   \n",
       "1       880020             0.0                  7.0            True   \n",
       "2       881278             NaN                  NaN            True   \n",
       "3       880028             0.0                  7.0            True   \n",
       "4       880026             0.0                  6.5            True   \n",
       "\n",
       "   calls_per_day  \n",
       "0           4.83  \n",
       "1           4.86  \n",
       "2           2.40  \n",
       "3          31.91  \n",
       "4          28.42  "
      ]
     },
     "metadata": {},
     "output_type": "display_data"
    }
   ],
   "source": [
    "#Финальный рейтинг\n",
    "display(operator_rating.head())"
   ]
  },
  {
   "cell_type": "markdown",
   "metadata": {},
   "source": [
    "Заменю все пропуски в столбцах с характеристиками на -1, это пригодится в дальнейшем."
   ]
  },
  {
   "cell_type": "code",
   "execution_count": 23,
   "metadata": {},
   "outputs": [
    {
     "data": {
      "text/html": [
       "<div>\n",
       "<style scoped>\n",
       "    .dataframe tbody tr th:only-of-type {\n",
       "        vertical-align: middle;\n",
       "    }\n",
       "\n",
       "    .dataframe tbody tr th {\n",
       "        vertical-align: top;\n",
       "    }\n",
       "\n",
       "    .dataframe thead th {\n",
       "        text-align: right;\n",
       "    }\n",
       "</style>\n",
       "<table border=\"1\" class=\"dataframe\">\n",
       "  <thead>\n",
       "    <tr style=\"text-align: right;\">\n",
       "      <th></th>\n",
       "      <th>operator_id</th>\n",
       "      <th>missed_percent</th>\n",
       "      <th>call_waiting_median</th>\n",
       "      <th>users_spec_out</th>\n",
       "      <th>calls_per_day</th>\n",
       "    </tr>\n",
       "  </thead>\n",
       "  <tbody>\n",
       "    <tr>\n",
       "      <th>0</th>\n",
       "      <td>880022</td>\n",
       "      <td>0.0</td>\n",
       "      <td>16.0</td>\n",
       "      <td>True</td>\n",
       "      <td>4.83</td>\n",
       "    </tr>\n",
       "    <tr>\n",
       "      <th>1</th>\n",
       "      <td>880020</td>\n",
       "      <td>0.0</td>\n",
       "      <td>7.0</td>\n",
       "      <td>True</td>\n",
       "      <td>4.86</td>\n",
       "    </tr>\n",
       "    <tr>\n",
       "      <th>2</th>\n",
       "      <td>881278</td>\n",
       "      <td>-1.0</td>\n",
       "      <td>-1.0</td>\n",
       "      <td>True</td>\n",
       "      <td>2.40</td>\n",
       "    </tr>\n",
       "    <tr>\n",
       "      <th>3</th>\n",
       "      <td>880028</td>\n",
       "      <td>0.0</td>\n",
       "      <td>7.0</td>\n",
       "      <td>True</td>\n",
       "      <td>31.91</td>\n",
       "    </tr>\n",
       "    <tr>\n",
       "      <th>4</th>\n",
       "      <td>880026</td>\n",
       "      <td>0.0</td>\n",
       "      <td>6.5</td>\n",
       "      <td>True</td>\n",
       "      <td>28.42</td>\n",
       "    </tr>\n",
       "  </tbody>\n",
       "</table>\n",
       "</div>"
      ],
      "text/plain": [
       "   operator_id  missed_percent  call_waiting_median  users_spec_out  \\\n",
       "0       880022             0.0                 16.0            True   \n",
       "1       880020             0.0                  7.0            True   \n",
       "2       881278            -1.0                 -1.0            True   \n",
       "3       880028             0.0                  7.0            True   \n",
       "4       880026             0.0                  6.5            True   \n",
       "\n",
       "   calls_per_day  \n",
       "0           4.83  \n",
       "1           4.86  \n",
       "2           2.40  \n",
       "3          31.91  \n",
       "4          28.42  "
      ]
     },
     "metadata": {},
     "output_type": "display_data"
    }
   ],
   "source": [
    "operator_rating['missed_percent'] = operator_rating['missed_percent'].fillna(-1)\n",
    "operator_rating['call_waiting_median'] = operator_rating['call_waiting_median'].fillna(-1)\n",
    "operator_rating['calls_per_day'] = operator_rating['calls_per_day'].fillna(-1)\n",
    "display(operator_rating.head())"
   ]
  },
  {
   "cell_type": "markdown",
   "metadata": {},
   "source": [
    "### Оценка эффективности оператора\n",
    "<a id=\"part3-4\"></a>"
   ]
  },
  {
   "cell_type": "markdown",
   "metadata": {},
   "source": [
    "Предлагаю распределение всех операторов на категории:\n",
    "* Категория 0:\n",
    "    * Все показатели такого оператора не выходят за рамки эффективности\n",
    "    * Показатель обзвона не учитывается, если колл-центр оператора не специализируется на этом.\n",
    "* Категория 1:\n",
    "    * Показатель пропущенных звонков <b>или</b> ожидания выходит за пороговое значение.\n",
    "    * Показатель обзвона не учитывается, если колл-центр оператора не специализируется на этом.\n",
    "    * Если колл-центр оператора специализируется на обзвонах, то значение обзвонов не выходит за рамки эффективных.\n",
    "* Категория 2:\n",
    "    * Показатель пропущенных звонков <b>и</b> ожидания выходит за пороговое значение.\n",
    "    * Показатель обзвона не учитывается, если колл-центр оператора не специализируется на этом.\n",
    "    * Если колл-центр оператора специализируется на обзвонах, то значение обзвонов не выходит за рамки эффективных.\n",
    "* Категория 3:\n",
    "    * Оператор относится к \"обзвонному\" колл-центру, и его показатель обзвонов неэффективен.\n",
    "    * Остальные показатели в норме.\n",
    "* Категория 4:\n",
    "    * Оператор относится к \"обзвонному\" колл-центру, и его показатель обзвонов неэффективен.\n",
    "    * Один из других показателей выходит за пороговое значение\n",
    "* Категория 5:\n",
    "    * Оператор относится к \"обзвонному\" колл-центру, и его показатель обзвонов неэффективен.\n",
    "    * Остальные показатели тоже выходят за пороговое значение.\n",
    "* Категория 6: В датасете не хватает данных, чтобы отнести оператора к какой-либо категории. Учитывать в дальнейшем их не будем.\n",
    "* Категория 7: Ошибка в расчетах.\n",
    "<br>\n",
    "<br>\n",
    "Неэффективными я буду считать всех операторов, входящих в категории с 1 по 5. Это понадобится в дальнейшем для проверки гипотез.<br>\n",
    "Не у всех операторов хватает данных для полной оценки, но если есть хотябы один показатель, будем проверять только его и считать что по остальным показателям оператор эффективен.\n",
    "Для решения этой задачи я напишу функцию."
   ]
  },
  {
   "cell_type": "code",
   "execution_count": 24,
   "metadata": {
    "scrolled": true
   },
   "outputs": [
    {
     "data": {
      "text/html": [
       "<div>\n",
       "<style scoped>\n",
       "    .dataframe tbody tr th:only-of-type {\n",
       "        vertical-align: middle;\n",
       "    }\n",
       "\n",
       "    .dataframe tbody tr th {\n",
       "        vertical-align: top;\n",
       "    }\n",
       "\n",
       "    .dataframe thead th {\n",
       "        text-align: right;\n",
       "    }\n",
       "</style>\n",
       "<table border=\"1\" class=\"dataframe\">\n",
       "  <thead>\n",
       "    <tr style=\"text-align: right;\">\n",
       "      <th></th>\n",
       "      <th>operator_id</th>\n",
       "      <th>missed_percent</th>\n",
       "      <th>call_waiting_median</th>\n",
       "      <th>users_spec_out</th>\n",
       "      <th>calls_per_day</th>\n",
       "      <th>rank</th>\n",
       "    </tr>\n",
       "  </thead>\n",
       "  <tbody>\n",
       "    <tr>\n",
       "      <th>0</th>\n",
       "      <td>880022</td>\n",
       "      <td>0.00</td>\n",
       "      <td>16.0</td>\n",
       "      <td>True</td>\n",
       "      <td>4.83</td>\n",
       "      <td>0</td>\n",
       "    </tr>\n",
       "    <tr>\n",
       "      <th>1</th>\n",
       "      <td>880020</td>\n",
       "      <td>0.00</td>\n",
       "      <td>7.0</td>\n",
       "      <td>True</td>\n",
       "      <td>4.86</td>\n",
       "      <td>0</td>\n",
       "    </tr>\n",
       "    <tr>\n",
       "      <th>2</th>\n",
       "      <td>881278</td>\n",
       "      <td>-1.00</td>\n",
       "      <td>-1.0</td>\n",
       "      <td>True</td>\n",
       "      <td>2.40</td>\n",
       "      <td>3</td>\n",
       "    </tr>\n",
       "    <tr>\n",
       "      <th>3</th>\n",
       "      <td>880028</td>\n",
       "      <td>0.00</td>\n",
       "      <td>7.0</td>\n",
       "      <td>True</td>\n",
       "      <td>31.91</td>\n",
       "      <td>0</td>\n",
       "    </tr>\n",
       "    <tr>\n",
       "      <th>4</th>\n",
       "      <td>880026</td>\n",
       "      <td>0.00</td>\n",
       "      <td>6.5</td>\n",
       "      <td>True</td>\n",
       "      <td>28.42</td>\n",
       "      <td>0</td>\n",
       "    </tr>\n",
       "    <tr>\n",
       "      <th>5</th>\n",
       "      <td>882476</td>\n",
       "      <td>0.00</td>\n",
       "      <td>20.0</td>\n",
       "      <td>False</td>\n",
       "      <td>-1.00</td>\n",
       "      <td>0</td>\n",
       "    </tr>\n",
       "    <tr>\n",
       "      <th>6</th>\n",
       "      <td>882478</td>\n",
       "      <td>0.00</td>\n",
       "      <td>13.0</td>\n",
       "      <td>False</td>\n",
       "      <td>-1.00</td>\n",
       "      <td>0</td>\n",
       "    </tr>\n",
       "    <tr>\n",
       "      <th>7</th>\n",
       "      <td>886892</td>\n",
       "      <td>0.00</td>\n",
       "      <td>58.0</td>\n",
       "      <td>False</td>\n",
       "      <td>-1.00</td>\n",
       "      <td>0</td>\n",
       "    </tr>\n",
       "    <tr>\n",
       "      <th>8</th>\n",
       "      <td>891900</td>\n",
       "      <td>0.00</td>\n",
       "      <td>51.0</td>\n",
       "      <td>False</td>\n",
       "      <td>-1.00</td>\n",
       "      <td>0</td>\n",
       "    </tr>\n",
       "    <tr>\n",
       "      <th>9</th>\n",
       "      <td>891906</td>\n",
       "      <td>0.00</td>\n",
       "      <td>52.0</td>\n",
       "      <td>False</td>\n",
       "      <td>-1.00</td>\n",
       "      <td>0</td>\n",
       "    </tr>\n",
       "    <tr>\n",
       "      <th>10</th>\n",
       "      <td>886674</td>\n",
       "      <td>0.00</td>\n",
       "      <td>11.0</td>\n",
       "      <td>False</td>\n",
       "      <td>-1.00</td>\n",
       "      <td>0</td>\n",
       "    </tr>\n",
       "    <tr>\n",
       "      <th>11</th>\n",
       "      <td>882684</td>\n",
       "      <td>8.00</td>\n",
       "      <td>182.0</td>\n",
       "      <td>True</td>\n",
       "      <td>11.22</td>\n",
       "      <td>1</td>\n",
       "    </tr>\n",
       "    <tr>\n",
       "      <th>12</th>\n",
       "      <td>882686</td>\n",
       "      <td>7.35</td>\n",
       "      <td>120.0</td>\n",
       "      <td>True</td>\n",
       "      <td>37.35</td>\n",
       "      <td>1</td>\n",
       "    </tr>\n",
       "    <tr>\n",
       "      <th>13</th>\n",
       "      <td>902510</td>\n",
       "      <td>7.69</td>\n",
       "      <td>113.0</td>\n",
       "      <td>True</td>\n",
       "      <td>36.10</td>\n",
       "      <td>1</td>\n",
       "    </tr>\n",
       "    <tr>\n",
       "      <th>14</th>\n",
       "      <td>902532</td>\n",
       "      <td>2.94</td>\n",
       "      <td>92.0</td>\n",
       "      <td>True</td>\n",
       "      <td>22.53</td>\n",
       "      <td>0</td>\n",
       "    </tr>\n",
       "    <tr>\n",
       "      <th>15</th>\n",
       "      <td>882688</td>\n",
       "      <td>0.00</td>\n",
       "      <td>336.5</td>\n",
       "      <td>True</td>\n",
       "      <td>10.75</td>\n",
       "      <td>1</td>\n",
       "    </tr>\n",
       "    <tr>\n",
       "      <th>16</th>\n",
       "      <td>882690</td>\n",
       "      <td>9.09</td>\n",
       "      <td>254.5</td>\n",
       "      <td>True</td>\n",
       "      <td>67.43</td>\n",
       "      <td>2</td>\n",
       "    </tr>\n",
       "    <tr>\n",
       "      <th>17</th>\n",
       "      <td>939470</td>\n",
       "      <td>0.00</td>\n",
       "      <td>37.0</td>\n",
       "      <td>True</td>\n",
       "      <td>55.92</td>\n",
       "      <td>0</td>\n",
       "    </tr>\n",
       "    <tr>\n",
       "      <th>18</th>\n",
       "      <td>939474</td>\n",
       "      <td>0.00</td>\n",
       "      <td>71.5</td>\n",
       "      <td>True</td>\n",
       "      <td>24.39</td>\n",
       "      <td>0</td>\n",
       "    </tr>\n",
       "    <tr>\n",
       "      <th>19</th>\n",
       "      <td>939478</td>\n",
       "      <td>8.33</td>\n",
       "      <td>21.0</td>\n",
       "      <td>True</td>\n",
       "      <td>5.67</td>\n",
       "      <td>0</td>\n",
       "    </tr>\n",
       "    <tr>\n",
       "      <th>20</th>\n",
       "      <td>939476</td>\n",
       "      <td>14.29</td>\n",
       "      <td>58.5</td>\n",
       "      <td>True</td>\n",
       "      <td>44.75</td>\n",
       "      <td>1</td>\n",
       "    </tr>\n",
       "    <tr>\n",
       "      <th>21</th>\n",
       "      <td>879898</td>\n",
       "      <td>0.00</td>\n",
       "      <td>14.5</td>\n",
       "      <td>True</td>\n",
       "      <td>91.03</td>\n",
       "      <td>0</td>\n",
       "    </tr>\n",
       "    <tr>\n",
       "      <th>22</th>\n",
       "      <td>879896</td>\n",
       "      <td>0.00</td>\n",
       "      <td>16.0</td>\n",
       "      <td>True</td>\n",
       "      <td>17.00</td>\n",
       "      <td>0</td>\n",
       "    </tr>\n",
       "    <tr>\n",
       "      <th>23</th>\n",
       "      <td>880240</td>\n",
       "      <td>-1.00</td>\n",
       "      <td>-1.0</td>\n",
       "      <td>True</td>\n",
       "      <td>8.20</td>\n",
       "      <td>0</td>\n",
       "    </tr>\n",
       "    <tr>\n",
       "      <th>24</th>\n",
       "      <td>888534</td>\n",
       "      <td>3.12</td>\n",
       "      <td>40.0</td>\n",
       "      <td>True</td>\n",
       "      <td>6.25</td>\n",
       "      <td>0</td>\n",
       "    </tr>\n",
       "    <tr>\n",
       "      <th>25</th>\n",
       "      <td>888532</td>\n",
       "      <td>25.00</td>\n",
       "      <td>21.0</td>\n",
       "      <td>True</td>\n",
       "      <td>1.00</td>\n",
       "      <td>4</td>\n",
       "    </tr>\n",
       "    <tr>\n",
       "      <th>26</th>\n",
       "      <td>888536</td>\n",
       "      <td>0.00</td>\n",
       "      <td>21.5</td>\n",
       "      <td>True</td>\n",
       "      <td>1.00</td>\n",
       "      <td>3</td>\n",
       "    </tr>\n",
       "    <tr>\n",
       "      <th>27</th>\n",
       "      <td>907440</td>\n",
       "      <td>0.00</td>\n",
       "      <td>21.0</td>\n",
       "      <td>True</td>\n",
       "      <td>1.82</td>\n",
       "      <td>3</td>\n",
       "    </tr>\n",
       "    <tr>\n",
       "      <th>28</th>\n",
       "      <td>907442</td>\n",
       "      <td>-1.00</td>\n",
       "      <td>-1.0</td>\n",
       "      <td>True</td>\n",
       "      <td>4.40</td>\n",
       "      <td>0</td>\n",
       "    </tr>\n",
       "    <tr>\n",
       "      <th>29</th>\n",
       "      <td>888538</td>\n",
       "      <td>0.00</td>\n",
       "      <td>24.0</td>\n",
       "      <td>True</td>\n",
       "      <td>1.00</td>\n",
       "      <td>3</td>\n",
       "    </tr>\n",
       "    <tr>\n",
       "      <th>30</th>\n",
       "      <td>888540</td>\n",
       "      <td>0.00</td>\n",
       "      <td>19.0</td>\n",
       "      <td>True</td>\n",
       "      <td>1.00</td>\n",
       "      <td>3</td>\n",
       "    </tr>\n",
       "    <tr>\n",
       "      <th>31</th>\n",
       "      <td>960950</td>\n",
       "      <td>-1.00</td>\n",
       "      <td>-1.0</td>\n",
       "      <td>True</td>\n",
       "      <td>-1.00</td>\n",
       "      <td>6</td>\n",
       "    </tr>\n",
       "    <tr>\n",
       "      <th>32</th>\n",
       "      <td>882680</td>\n",
       "      <td>7.32</td>\n",
       "      <td>32.0</td>\n",
       "      <td>False</td>\n",
       "      <td>-1.00</td>\n",
       "      <td>0</td>\n",
       "    </tr>\n",
       "    <tr>\n",
       "      <th>33</th>\n",
       "      <td>928202</td>\n",
       "      <td>0.00</td>\n",
       "      <td>21.0</td>\n",
       "      <td>False</td>\n",
       "      <td>-1.00</td>\n",
       "      <td>0</td>\n",
       "    </tr>\n",
       "    <tr>\n",
       "      <th>34</th>\n",
       "      <td>898676</td>\n",
       "      <td>0.00</td>\n",
       "      <td>8.0</td>\n",
       "      <td>False</td>\n",
       "      <td>-1.00</td>\n",
       "      <td>0</td>\n",
       "    </tr>\n",
       "    <tr>\n",
       "      <th>35</th>\n",
       "      <td>884294</td>\n",
       "      <td>0.00</td>\n",
       "      <td>6.0</td>\n",
       "      <td>False</td>\n",
       "      <td>-1.00</td>\n",
       "      <td>0</td>\n",
       "    </tr>\n",
       "    <tr>\n",
       "      <th>36</th>\n",
       "      <td>934076</td>\n",
       "      <td>14.29</td>\n",
       "      <td>31.0</td>\n",
       "      <td>False</td>\n",
       "      <td>-1.00</td>\n",
       "      <td>1</td>\n",
       "    </tr>\n",
       "    <tr>\n",
       "      <th>37</th>\n",
       "      <td>934074</td>\n",
       "      <td>5.26</td>\n",
       "      <td>27.5</td>\n",
       "      <td>False</td>\n",
       "      <td>-1.00</td>\n",
       "      <td>0</td>\n",
       "    </tr>\n",
       "    <tr>\n",
       "      <th>38</th>\n",
       "      <td>887280</td>\n",
       "      <td>-1.00</td>\n",
       "      <td>-1.0</td>\n",
       "      <td>True</td>\n",
       "      <td>1.60</td>\n",
       "      <td>3</td>\n",
       "    </tr>\n",
       "    <tr>\n",
       "      <th>39</th>\n",
       "      <td>887276</td>\n",
       "      <td>4.35</td>\n",
       "      <td>181.0</td>\n",
       "      <td>True</td>\n",
       "      <td>8.90</td>\n",
       "      <td>1</td>\n",
       "    </tr>\n",
       "    <tr>\n",
       "      <th>40</th>\n",
       "      <td>887282</td>\n",
       "      <td>0.00</td>\n",
       "      <td>51.5</td>\n",
       "      <td>True</td>\n",
       "      <td>51.60</td>\n",
       "      <td>0</td>\n",
       "    </tr>\n",
       "    <tr>\n",
       "      <th>41</th>\n",
       "      <td>907174</td>\n",
       "      <td>0.00</td>\n",
       "      <td>55.0</td>\n",
       "      <td>True</td>\n",
       "      <td>50.30</td>\n",
       "      <td>0</td>\n",
       "    </tr>\n",
       "    <tr>\n",
       "      <th>42</th>\n",
       "      <td>887278</td>\n",
       "      <td>0.00</td>\n",
       "      <td>28.5</td>\n",
       "      <td>True</td>\n",
       "      <td>1.63</td>\n",
       "      <td>3</td>\n",
       "    </tr>\n",
       "    <tr>\n",
       "      <th>43</th>\n",
       "      <td>906866</td>\n",
       "      <td>-1.00</td>\n",
       "      <td>-1.0</td>\n",
       "      <td>True</td>\n",
       "      <td>58.36</td>\n",
       "      <td>0</td>\n",
       "    </tr>\n",
       "    <tr>\n",
       "      <th>44</th>\n",
       "      <td>959312</td>\n",
       "      <td>7.69</td>\n",
       "      <td>29.5</td>\n",
       "      <td>True</td>\n",
       "      <td>9.60</td>\n",
       "      <td>0</td>\n",
       "    </tr>\n",
       "    <tr>\n",
       "      <th>45</th>\n",
       "      <td>883940</td>\n",
       "      <td>0.00</td>\n",
       "      <td>13.0</td>\n",
       "      <td>True</td>\n",
       "      <td>39.50</td>\n",
       "      <td>0</td>\n",
       "    </tr>\n",
       "    <tr>\n",
       "      <th>46</th>\n",
       "      <td>883942</td>\n",
       "      <td>0.00</td>\n",
       "      <td>11.0</td>\n",
       "      <td>True</td>\n",
       "      <td>35.60</td>\n",
       "      <td>0</td>\n",
       "    </tr>\n",
       "    <tr>\n",
       "      <th>47</th>\n",
       "      <td>884412</td>\n",
       "      <td>0.00</td>\n",
       "      <td>36.0</td>\n",
       "      <td>True</td>\n",
       "      <td>13.46</td>\n",
       "      <td>0</td>\n",
       "    </tr>\n",
       "    <tr>\n",
       "      <th>48</th>\n",
       "      <td>884408</td>\n",
       "      <td>16.67</td>\n",
       "      <td>52.5</td>\n",
       "      <td>True</td>\n",
       "      <td>2.25</td>\n",
       "      <td>4</td>\n",
       "    </tr>\n",
       "    <tr>\n",
       "      <th>49</th>\n",
       "      <td>884402</td>\n",
       "      <td>-1.00</td>\n",
       "      <td>-1.0</td>\n",
       "      <td>True</td>\n",
       "      <td>1.00</td>\n",
       "      <td>3</td>\n",
       "    </tr>\n",
       "  </tbody>\n",
       "</table>\n",
       "</div>"
      ],
      "text/plain": [
       "    operator_id  missed_percent  call_waiting_median  users_spec_out  \\\n",
       "0        880022            0.00                 16.0            True   \n",
       "1        880020            0.00                  7.0            True   \n",
       "2        881278           -1.00                 -1.0            True   \n",
       "3        880028            0.00                  7.0            True   \n",
       "4        880026            0.00                  6.5            True   \n",
       "5        882476            0.00                 20.0           False   \n",
       "6        882478            0.00                 13.0           False   \n",
       "7        886892            0.00                 58.0           False   \n",
       "8        891900            0.00                 51.0           False   \n",
       "9        891906            0.00                 52.0           False   \n",
       "10       886674            0.00                 11.0           False   \n",
       "11       882684            8.00                182.0            True   \n",
       "12       882686            7.35                120.0            True   \n",
       "13       902510            7.69                113.0            True   \n",
       "14       902532            2.94                 92.0            True   \n",
       "15       882688            0.00                336.5            True   \n",
       "16       882690            9.09                254.5            True   \n",
       "17       939470            0.00                 37.0            True   \n",
       "18       939474            0.00                 71.5            True   \n",
       "19       939478            8.33                 21.0            True   \n",
       "20       939476           14.29                 58.5            True   \n",
       "21       879898            0.00                 14.5            True   \n",
       "22       879896            0.00                 16.0            True   \n",
       "23       880240           -1.00                 -1.0            True   \n",
       "24       888534            3.12                 40.0            True   \n",
       "25       888532           25.00                 21.0            True   \n",
       "26       888536            0.00                 21.5            True   \n",
       "27       907440            0.00                 21.0            True   \n",
       "28       907442           -1.00                 -1.0            True   \n",
       "29       888538            0.00                 24.0            True   \n",
       "30       888540            0.00                 19.0            True   \n",
       "31       960950           -1.00                 -1.0            True   \n",
       "32       882680            7.32                 32.0           False   \n",
       "33       928202            0.00                 21.0           False   \n",
       "34       898676            0.00                  8.0           False   \n",
       "35       884294            0.00                  6.0           False   \n",
       "36       934076           14.29                 31.0           False   \n",
       "37       934074            5.26                 27.5           False   \n",
       "38       887280           -1.00                 -1.0            True   \n",
       "39       887276            4.35                181.0            True   \n",
       "40       887282            0.00                 51.5            True   \n",
       "41       907174            0.00                 55.0            True   \n",
       "42       887278            0.00                 28.5            True   \n",
       "43       906866           -1.00                 -1.0            True   \n",
       "44       959312            7.69                 29.5            True   \n",
       "45       883940            0.00                 13.0            True   \n",
       "46       883942            0.00                 11.0            True   \n",
       "47       884412            0.00                 36.0            True   \n",
       "48       884408           16.67                 52.5            True   \n",
       "49       884402           -1.00                 -1.0            True   \n",
       "\n",
       "    calls_per_day  rank  \n",
       "0            4.83     0  \n",
       "1            4.86     0  \n",
       "2            2.40     3  \n",
       "3           31.91     0  \n",
       "4           28.42     0  \n",
       "5           -1.00     0  \n",
       "6           -1.00     0  \n",
       "7           -1.00     0  \n",
       "8           -1.00     0  \n",
       "9           -1.00     0  \n",
       "10          -1.00     0  \n",
       "11          11.22     1  \n",
       "12          37.35     1  \n",
       "13          36.10     1  \n",
       "14          22.53     0  \n",
       "15          10.75     1  \n",
       "16          67.43     2  \n",
       "17          55.92     0  \n",
       "18          24.39     0  \n",
       "19           5.67     0  \n",
       "20          44.75     1  \n",
       "21          91.03     0  \n",
       "22          17.00     0  \n",
       "23           8.20     0  \n",
       "24           6.25     0  \n",
       "25           1.00     4  \n",
       "26           1.00     3  \n",
       "27           1.82     3  \n",
       "28           4.40     0  \n",
       "29           1.00     3  \n",
       "30           1.00     3  \n",
       "31          -1.00     6  \n",
       "32          -1.00     0  \n",
       "33          -1.00     0  \n",
       "34          -1.00     0  \n",
       "35          -1.00     0  \n",
       "36          -1.00     1  \n",
       "37          -1.00     0  \n",
       "38           1.60     3  \n",
       "39           8.90     1  \n",
       "40          51.60     0  \n",
       "41          50.30     0  \n",
       "42           1.63     3  \n",
       "43          58.36     0  \n",
       "44           9.60     0  \n",
       "45          39.50     0  \n",
       "46          35.60     0  \n",
       "47          13.46     0  \n",
       "48           2.25     4  \n",
       "49           1.00     3  "
      ]
     },
     "metadata": {},
     "output_type": "display_data"
    }
   ],
   "source": [
    "def operator_rank(row):\n",
    "    '''\n",
    "    Функция возвращает ранг оператора от 0 до 5 целым числом\n",
    "    В зависимости от его показателей:\n",
    "    9% пропущенных звонков\n",
    "    108 сек медиана ожидания\n",
    "    2.92 исходящих звонка в день если колл-центр занимается обзвонами\n",
    "    В случае ошибки вернет 7\n",
    "    Если недостаточно данных для рейтинга то вернет 6\n",
    "    '''\n",
    "    \n",
    "    percent = row['missed_percent']\n",
    "    waiting = row['call_waiting_median']\n",
    "    user = row['users_spec_out']\n",
    "    calls = row['calls_per_day']\n",
    "    \n",
    "    \n",
    "    try:\n",
    "        if (percent + waiting + calls == -3):\n",
    "            return 6\n",
    "        elif ((0 <= percent < 9 and 0 <= waiting < 108 and user == False) or\n",
    "                (percent < 9 and waiting < 108 and user == True and calls > 2.92)):\n",
    "                return 0\n",
    "        elif ((percent > 9 and waiting > 108 and user == False) or\n",
    "                (percent > 9 and waiting > 108 and user == True and calls > 2.92)):\n",
    "                return 2\n",
    "        elif (((percent > 9 or waiting > 108) and user == False) or\n",
    "                ((percent > 9 or waiting > 108) and user == True and calls > 2.92)):\n",
    "                return 1\n",
    "        elif (percent < 9 and waiting < 108 and user == True and (calls < 2.92 and calls > 0)):\n",
    "                return 3\n",
    "        elif (percent > 9 and waiting > 108 and user == True and 0 <= calls < 2.92):\n",
    "                return 5\n",
    "        elif ((percent > 9 or waiting > 108) and user == True and 0 <= calls < 2.92):\n",
    "                return 4\n",
    "        else:\n",
    "            return 77\n",
    "    except: \n",
    "        return 7\n",
    "\n",
    "        \n",
    "    \n",
    "    \n",
    "operator_rating['rank'] = operator_rating.apply(operator_rank, axis=1)\n",
    "\n",
    "display(operator_rating.head(50))"
   ]
  },
  {
   "cell_type": "code",
   "execution_count": 25,
   "metadata": {
    "scrolled": false
   },
   "outputs": [
    {
     "data": {
      "image/png": "[encoded data removed]",
      "text/plain": [
       "<Figure size 720x720 with 1 Axes>"
      ]
     },
     "metadata": {},
     "output_type": "display_data"
    }
   ],
   "source": [
    "operator_rating_pie = operator_rating.groupby('rank').count()\n",
    "#display(operator_rating_pie)\n",
    "\n",
    "fig1, ax = plt.subplots(figsize=(10,10))\n",
    "\n",
    "ax.pie(operator_rating_pie['operator_id'], labels=operator_rating_pie.index, autopct='%1.1f%%')\n",
    "#plt.savefig('Категории операторов.png', dpi=200.0, bbox_inches='tight', transparent=True) #Сохраняем график в файл для презентации\n",
    "plt.show()"
   ]
  },
  {
   "cell_type": "markdown",
   "metadata": {},
   "source": [
    "* Отлично!  Более двух третей операторов совершенно добросовестно исполняют обязанности.\n",
    "* Из неэффективных операторов наибольшая доля тех, кто не справляется с обзвонами\n",
    "* Данных не хватило всеголишь для 4% операторов. Это хороший показатель.\n",
    "* Доля операторов, не справляющихся по двум и более параметрам невелика - всего 4%\n",
    "<br>\n",
    "Благодаря разделению операторов по группам у заказчика будет выбор кого признавать неэффективными в первую очередь."
   ]
  },
  {
   "cell_type": "markdown",
   "metadata": {},
   "source": [
    "<div class=\"alert alert-success\">\n",
    "<b>Комментарий ревьюера:</b>☀️\n",
    "    \n",
    "Неэффективных оказалось не очень много, но первый пункт вывода заставляет усомниться в этом факте."
   ]
  },
  {
   "cell_type": "markdown",
   "metadata": {},
   "source": [
    "<div class=\"alert alert-info\"> Опечатка, поправил</div>"
   ]
  },
  {
   "cell_type": "markdown",
   "metadata": {},
   "source": [
    "<a id=\"part4\"></a>\n",
    "## Проверка гипотез"
   ]
  },
  {
   "cell_type": "markdown",
   "metadata": {},
   "source": [
    "### Дней в месяц\n",
    "<a id=\"part4-1\"></a>"
   ]
  },
  {
   "cell_type": "markdown",
   "metadata": {},
   "source": [
    "Гипотеза: Неэффективные операторы работают меньше дней в месяц, чем эффективные.\n",
    "<br> Работой буду считать любое действие за день."
   ]
  },
  {
   "cell_type": "code",
   "execution_count": 26,
   "metadata": {
    "scrolled": true
   },
   "outputs": [
    {
     "data": {
      "text/plain": [
       "Timestamp('2019-11-28 00:00:00')"
      ]
     },
     "metadata": {},
     "output_type": "display_data"
    },
    {
     "data": {
      "text/plain": [
       "Timestamp('2019-08-02 00:00:00')"
      ]
     },
     "metadata": {},
     "output_type": "display_data"
    },
    {
     "data": {
      "text/html": [
       "<div>\n",
       "<style scoped>\n",
       "    .dataframe tbody tr th:only-of-type {\n",
       "        vertical-align: middle;\n",
       "    }\n",
       "\n",
       "    .dataframe tbody tr th {\n",
       "        vertical-align: top;\n",
       "    }\n",
       "\n",
       "    .dataframe thead th {\n",
       "        text-align: right;\n",
       "    }\n",
       "</style>\n",
       "<table border=\"1\" class=\"dataframe\">\n",
       "  <thead>\n",
       "    <tr style=\"text-align: right;\">\n",
       "      <th></th>\n",
       "      <th>user_id</th>\n",
       "      <th>date</th>\n",
       "      <th>direction</th>\n",
       "      <th>internal</th>\n",
       "      <th>operator_id</th>\n",
       "      <th>is_missed_call</th>\n",
       "      <th>calls_count</th>\n",
       "      <th>call_duration</th>\n",
       "      <th>total_call_duration</th>\n",
       "      <th>dt_date</th>\n",
       "      <th>out_direction</th>\n",
       "      <th>month</th>\n",
       "      <th>days</th>\n",
       "    </tr>\n",
       "  </thead>\n",
       "  <tbody>\n",
       "    <tr>\n",
       "      <th>0</th>\n",
       "      <td>166377</td>\n",
       "      <td>2019-08-05 00:00:00+03:00</td>\n",
       "      <td>out</td>\n",
       "      <td>True</td>\n",
       "      <td>880022</td>\n",
       "      <td>True</td>\n",
       "      <td>3</td>\n",
       "      <td>0</td>\n",
       "      <td>5</td>\n",
       "      <td>2019-08-05</td>\n",
       "      <td>True</td>\n",
       "      <td>8</td>\n",
       "      <td>5</td>\n",
       "    </tr>\n",
       "    <tr>\n",
       "      <th>1</th>\n",
       "      <td>166377</td>\n",
       "      <td>2019-08-05 00:00:00+03:00</td>\n",
       "      <td>out</td>\n",
       "      <td>True</td>\n",
       "      <td>880020</td>\n",
       "      <td>True</td>\n",
       "      <td>1</td>\n",
       "      <td>0</td>\n",
       "      <td>1</td>\n",
       "      <td>2019-08-05</td>\n",
       "      <td>True</td>\n",
       "      <td>8</td>\n",
       "      <td>5</td>\n",
       "    </tr>\n",
       "    <tr>\n",
       "      <th>2</th>\n",
       "      <td>166377</td>\n",
       "      <td>2019-08-05 00:00:00+03:00</td>\n",
       "      <td>out</td>\n",
       "      <td>True</td>\n",
       "      <td>880020</td>\n",
       "      <td>False</td>\n",
       "      <td>1</td>\n",
       "      <td>10</td>\n",
       "      <td>18</td>\n",
       "      <td>2019-08-05</td>\n",
       "      <td>True</td>\n",
       "      <td>8</td>\n",
       "      <td>5</td>\n",
       "    </tr>\n",
       "    <tr>\n",
       "      <th>3</th>\n",
       "      <td>166377</td>\n",
       "      <td>2019-08-05 00:00:00+03:00</td>\n",
       "      <td>out</td>\n",
       "      <td>False</td>\n",
       "      <td>880022</td>\n",
       "      <td>True</td>\n",
       "      <td>3</td>\n",
       "      <td>0</td>\n",
       "      <td>25</td>\n",
       "      <td>2019-08-05</td>\n",
       "      <td>True</td>\n",
       "      <td>8</td>\n",
       "      <td>5</td>\n",
       "    </tr>\n",
       "    <tr>\n",
       "      <th>4</th>\n",
       "      <td>166377</td>\n",
       "      <td>2019-08-05 00:00:00+03:00</td>\n",
       "      <td>out</td>\n",
       "      <td>False</td>\n",
       "      <td>880020</td>\n",
       "      <td>False</td>\n",
       "      <td>2</td>\n",
       "      <td>3</td>\n",
       "      <td>29</td>\n",
       "      <td>2019-08-05</td>\n",
       "      <td>True</td>\n",
       "      <td>8</td>\n",
       "      <td>5</td>\n",
       "    </tr>\n",
       "  </tbody>\n",
       "</table>\n",
       "</div>"
      ],
      "text/plain": [
       "   user_id                       date direction  internal  operator_id  \\\n",
       "0   166377  2019-08-05 00:00:00+03:00       out      True       880022   \n",
       "1   166377  2019-08-05 00:00:00+03:00       out      True       880020   \n",
       "2   166377  2019-08-05 00:00:00+03:00       out      True       880020   \n",
       "3   166377  2019-08-05 00:00:00+03:00       out     False       880022   \n",
       "4   166377  2019-08-05 00:00:00+03:00       out     False       880020   \n",
       "\n",
       "   is_missed_call  calls_count  call_duration  total_call_duration    dt_date  \\\n",
       "0            True            3              0                    5 2019-08-05   \n",
       "1            True            1              0                    1 2019-08-05   \n",
       "2           False            1             10                   18 2019-08-05   \n",
       "3            True            3              0                   25 2019-08-05   \n",
       "4           False            2              3                   29 2019-08-05   \n",
       "\n",
       "   out_direction  month  days  \n",
       "0           True      8     5  \n",
       "1           True      8     5  \n",
       "2           True      8     5  \n",
       "3           True      8     5  \n",
       "4           True      8     5  "
      ]
     },
     "metadata": {},
     "output_type": "display_data"
    },
    {
     "data": {
      "text/html": [
       "<div>\n",
       "<style scoped>\n",
       "    .dataframe tbody tr th:only-of-type {\n",
       "        vertical-align: middle;\n",
       "    }\n",
       "\n",
       "    .dataframe tbody tr th {\n",
       "        vertical-align: top;\n",
       "    }\n",
       "\n",
       "    .dataframe thead th {\n",
       "        text-align: right;\n",
       "    }\n",
       "</style>\n",
       "<table border=\"1\" class=\"dataframe\">\n",
       "  <thead>\n",
       "    <tr style=\"text-align: right;\">\n",
       "      <th></th>\n",
       "      <th>operator_id</th>\n",
       "      <th>month</th>\n",
       "      <th>days</th>\n",
       "      <th>user_id</th>\n",
       "      <th>date</th>\n",
       "      <th>direction</th>\n",
       "      <th>internal</th>\n",
       "      <th>is_missed_call</th>\n",
       "      <th>calls_count</th>\n",
       "      <th>call_duration</th>\n",
       "      <th>total_call_duration</th>\n",
       "      <th>dt_date</th>\n",
       "      <th>out_direction</th>\n",
       "    </tr>\n",
       "  </thead>\n",
       "  <tbody>\n",
       "    <tr>\n",
       "      <th>0</th>\n",
       "      <td>879896</td>\n",
       "      <td>8</td>\n",
       "      <td>2</td>\n",
       "      <td>3</td>\n",
       "      <td>3</td>\n",
       "      <td>3</td>\n",
       "      <td>3</td>\n",
       "      <td>3</td>\n",
       "      <td>3</td>\n",
       "      <td>3</td>\n",
       "      <td>3</td>\n",
       "      <td>3</td>\n",
       "      <td>3</td>\n",
       "    </tr>\n",
       "    <tr>\n",
       "      <th>1</th>\n",
       "      <td>879896</td>\n",
       "      <td>8</td>\n",
       "      <td>3</td>\n",
       "      <td>3</td>\n",
       "      <td>3</td>\n",
       "      <td>3</td>\n",
       "      <td>3</td>\n",
       "      <td>3</td>\n",
       "      <td>3</td>\n",
       "      <td>3</td>\n",
       "      <td>3</td>\n",
       "      <td>3</td>\n",
       "      <td>3</td>\n",
       "    </tr>\n",
       "    <tr>\n",
       "      <th>2</th>\n",
       "      <td>879896</td>\n",
       "      <td>8</td>\n",
       "      <td>4</td>\n",
       "      <td>2</td>\n",
       "      <td>2</td>\n",
       "      <td>2</td>\n",
       "      <td>2</td>\n",
       "      <td>2</td>\n",
       "      <td>2</td>\n",
       "      <td>2</td>\n",
       "      <td>2</td>\n",
       "      <td>2</td>\n",
       "      <td>2</td>\n",
       "    </tr>\n",
       "    <tr>\n",
       "      <th>3</th>\n",
       "      <td>879896</td>\n",
       "      <td>8</td>\n",
       "      <td>5</td>\n",
       "      <td>4</td>\n",
       "      <td>4</td>\n",
       "      <td>4</td>\n",
       "      <td>4</td>\n",
       "      <td>4</td>\n",
       "      <td>4</td>\n",
       "      <td>4</td>\n",
       "      <td>4</td>\n",
       "      <td>4</td>\n",
       "      <td>4</td>\n",
       "    </tr>\n",
       "    <tr>\n",
       "      <th>4</th>\n",
       "      <td>879896</td>\n",
       "      <td>8</td>\n",
       "      <td>6</td>\n",
       "      <td>5</td>\n",
       "      <td>5</td>\n",
       "      <td>5</td>\n",
       "      <td>5</td>\n",
       "      <td>5</td>\n",
       "      <td>5</td>\n",
       "      <td>5</td>\n",
       "      <td>5</td>\n",
       "      <td>5</td>\n",
       "      <td>5</td>\n",
       "    </tr>\n",
       "  </tbody>\n",
       "</table>\n",
       "</div>"
      ],
      "text/plain": [
       "   operator_id  month  days  user_id  date  direction  internal  \\\n",
       "0       879896      8     2        3     3          3         3   \n",
       "1       879896      8     3        3     3          3         3   \n",
       "2       879896      8     4        2     2          2         2   \n",
       "3       879896      8     5        4     4          4         4   \n",
       "4       879896      8     6        5     5          5         5   \n",
       "\n",
       "   is_missed_call  calls_count  call_duration  total_call_duration  dt_date  \\\n",
       "0               3            3              3                    3        3   \n",
       "1               3            3              3                    3        3   \n",
       "2               2            2              2                    2        2   \n",
       "3               4            4              4                    4        4   \n",
       "4               5            5              5                    5        5   \n",
       "\n",
       "   out_direction  \n",
       "0              3  \n",
       "1              3  \n",
       "2              2  \n",
       "3              4  \n",
       "4              5  "
      ]
     },
     "metadata": {},
     "output_type": "display_data"
    },
    {
     "data": {
      "text/html": [
       "<div>\n",
       "<style scoped>\n",
       "    .dataframe tbody tr th:only-of-type {\n",
       "        vertical-align: middle;\n",
       "    }\n",
       "\n",
       "    .dataframe tbody tr th {\n",
       "        vertical-align: top;\n",
       "    }\n",
       "\n",
       "    .dataframe thead th {\n",
       "        text-align: right;\n",
       "    }\n",
       "</style>\n",
       "<table border=\"1\" class=\"dataframe\">\n",
       "  <thead>\n",
       "    <tr style=\"text-align: right;\">\n",
       "      <th></th>\n",
       "      <th>operator_id</th>\n",
       "      <th>month</th>\n",
       "      <th>days</th>\n",
       "    </tr>\n",
       "  </thead>\n",
       "  <tbody>\n",
       "    <tr>\n",
       "      <th>0</th>\n",
       "      <td>879896</td>\n",
       "      <td>8</td>\n",
       "      <td>23</td>\n",
       "    </tr>\n",
       "    <tr>\n",
       "      <th>1</th>\n",
       "      <td>879896</td>\n",
       "      <td>9</td>\n",
       "      <td>16</td>\n",
       "    </tr>\n",
       "    <tr>\n",
       "      <th>2</th>\n",
       "      <td>879896</td>\n",
       "      <td>10</td>\n",
       "      <td>8</td>\n",
       "    </tr>\n",
       "    <tr>\n",
       "      <th>3</th>\n",
       "      <td>879896</td>\n",
       "      <td>11</td>\n",
       "      <td>3</td>\n",
       "    </tr>\n",
       "    <tr>\n",
       "      <th>4</th>\n",
       "      <td>879898</td>\n",
       "      <td>8</td>\n",
       "      <td>20</td>\n",
       "    </tr>\n",
       "  </tbody>\n",
       "</table>\n",
       "</div>"
      ],
      "text/plain": [
       "   operator_id  month  days\n",
       "0       879896      8    23\n",
       "1       879896      9    16\n",
       "2       879896     10     8\n",
       "3       879896     11     3\n",
       "4       879898      8    20"
      ]
     },
     "metadata": {},
     "output_type": "display_data"
    },
    {
     "data": {
      "text/html": [
       "<div>\n",
       "<style scoped>\n",
       "    .dataframe tbody tr th:only-of-type {\n",
       "        vertical-align: middle;\n",
       "    }\n",
       "\n",
       "    .dataframe tbody tr th {\n",
       "        vertical-align: top;\n",
       "    }\n",
       "\n",
       "    .dataframe thead th {\n",
       "        text-align: right;\n",
       "    }\n",
       "</style>\n",
       "<table border=\"1\" class=\"dataframe\">\n",
       "  <thead>\n",
       "    <tr style=\"text-align: right;\">\n",
       "      <th></th>\n",
       "      <th>operator_id</th>\n",
       "      <th>days</th>\n",
       "      <th>month</th>\n",
       "    </tr>\n",
       "  </thead>\n",
       "  <tbody>\n",
       "    <tr>\n",
       "      <th>0</th>\n",
       "      <td>879896</td>\n",
       "      <td>50</td>\n",
       "      <td>4</td>\n",
       "    </tr>\n",
       "    <tr>\n",
       "      <th>1</th>\n",
       "      <td>879898</td>\n",
       "      <td>84</td>\n",
       "      <td>4</td>\n",
       "    </tr>\n",
       "    <tr>\n",
       "      <th>2</th>\n",
       "      <td>880020</td>\n",
       "      <td>14</td>\n",
       "      <td>3</td>\n",
       "    </tr>\n",
       "    <tr>\n",
       "      <th>3</th>\n",
       "      <td>880022</td>\n",
       "      <td>42</td>\n",
       "      <td>4</td>\n",
       "    </tr>\n",
       "    <tr>\n",
       "      <th>4</th>\n",
       "      <td>880026</td>\n",
       "      <td>77</td>\n",
       "      <td>4</td>\n",
       "    </tr>\n",
       "  </tbody>\n",
       "</table>\n",
       "</div>"
      ],
      "text/plain": [
       "   operator_id  days  month\n",
       "0       879896    50      4\n",
       "1       879898    84      4\n",
       "2       880020    14      3\n",
       "3       880022    42      4\n",
       "4       880026    77      4"
      ]
     },
     "metadata": {},
     "output_type": "display_data"
    }
   ],
   "source": [
    "# Выделяю номер месяца и дня из даты\n",
    "telecom_data = telecom\n",
    "telecom_data['month'] = pd.DatetimeIndex(telecom_data['dt_date']).month\n",
    "telecom_data['days'] = pd.DatetimeIndex(telecom_data['dt_date']).day\n",
    "\n",
    "# Проверяю нужно ли выделить год - не нужно\n",
    "display(telecom_data['dt_date'].max())\n",
    "display(telecom_data['dt_date'].min())\n",
    "\n",
    "display(telecom_data.head())\n",
    "\n",
    "# С помощью сводных таблиц считаю месяцы и дни\n",
    "data_pivot = telecom_data.groupby(['operator_id','month', 'days']).count().reset_index()\n",
    "display(data_pivot.head())\n",
    "data_pivot = data_pivot.pivot_table(index=['operator_id','month'], values='days', aggfunc='count').reset_index()\n",
    "display(data_pivot.head())\n",
    "data_pivot = data_pivot.pivot_table(index='operator_id', values=['days', 'month'], aggfunc={\"days\": 'sum',\"month\":'count'}).reset_index()\n",
    "display(data_pivot.head())"
   ]
  },
  {
   "cell_type": "code",
   "execution_count": 27,
   "metadata": {},
   "outputs": [
    {
     "data": {
      "text/html": [
       "<div>\n",
       "<style scoped>\n",
       "    .dataframe tbody tr th:only-of-type {\n",
       "        vertical-align: middle;\n",
       "    }\n",
       "\n",
       "    .dataframe tbody tr th {\n",
       "        vertical-align: top;\n",
       "    }\n",
       "\n",
       "    .dataframe thead th {\n",
       "        text-align: right;\n",
       "    }\n",
       "</style>\n",
       "<table border=\"1\" class=\"dataframe\">\n",
       "  <thead>\n",
       "    <tr style=\"text-align: right;\">\n",
       "      <th></th>\n",
       "      <th>operator_id</th>\n",
       "      <th>days_per_month</th>\n",
       "    </tr>\n",
       "  </thead>\n",
       "  <tbody>\n",
       "    <tr>\n",
       "      <th>0</th>\n",
       "      <td>879896</td>\n",
       "      <td>12.50</td>\n",
       "    </tr>\n",
       "    <tr>\n",
       "      <th>1</th>\n",
       "      <td>879898</td>\n",
       "      <td>21.00</td>\n",
       "    </tr>\n",
       "    <tr>\n",
       "      <th>2</th>\n",
       "      <td>880020</td>\n",
       "      <td>4.67</td>\n",
       "    </tr>\n",
       "    <tr>\n",
       "      <th>3</th>\n",
       "      <td>880022</td>\n",
       "      <td>10.50</td>\n",
       "    </tr>\n",
       "    <tr>\n",
       "      <th>4</th>\n",
       "      <td>880026</td>\n",
       "      <td>19.25</td>\n",
       "    </tr>\n",
       "  </tbody>\n",
       "</table>\n",
       "</div>"
      ],
      "text/plain": [
       "   operator_id  days_per_month\n",
       "0       879896           12.50\n",
       "1       879898           21.00\n",
       "2       880020            4.67\n",
       "3       880022           10.50\n",
       "4       880026           19.25"
      ]
     },
     "metadata": {},
     "output_type": "display_data"
    }
   ],
   "source": [
    "# Считаю количествно дней на месяц для каждого оператора и присоединяю эту инфорамцию к таблице с рейтингом\n",
    "data_pivot['days_per_month'] = (data_pivot['days'] / data_pivot['month']).round(2)\n",
    "data_pivot = data_pivot.drop(['month','days'], axis=1)\n",
    "display(data_pivot.head())\n",
    "operator_rating = operator_rating.merge(data_pivot, on='operator_id', how='left')"
   ]
  },
  {
   "cell_type": "code",
   "execution_count": 28,
   "metadata": {
    "scrolled": true
   },
   "outputs": [
    {
     "data": {
      "text/html": [
       "<div>\n",
       "<style scoped>\n",
       "    .dataframe tbody tr th:only-of-type {\n",
       "        vertical-align: middle;\n",
       "    }\n",
       "\n",
       "    .dataframe tbody tr th {\n",
       "        vertical-align: top;\n",
       "    }\n",
       "\n",
       "    .dataframe thead th {\n",
       "        text-align: right;\n",
       "    }\n",
       "</style>\n",
       "<table border=\"1\" class=\"dataframe\">\n",
       "  <thead>\n",
       "    <tr style=\"text-align: right;\">\n",
       "      <th></th>\n",
       "      <th>operator_id</th>\n",
       "      <th>missed_percent</th>\n",
       "      <th>call_waiting_median</th>\n",
       "      <th>users_spec_out</th>\n",
       "      <th>calls_per_day</th>\n",
       "      <th>rank</th>\n",
       "      <th>days_per_month</th>\n",
       "    </tr>\n",
       "  </thead>\n",
       "  <tbody>\n",
       "    <tr>\n",
       "      <th>0</th>\n",
       "      <td>880022</td>\n",
       "      <td>0.0</td>\n",
       "      <td>16.0</td>\n",
       "      <td>True</td>\n",
       "      <td>4.83</td>\n",
       "      <td>0</td>\n",
       "      <td>10.50</td>\n",
       "    </tr>\n",
       "    <tr>\n",
       "      <th>1</th>\n",
       "      <td>880020</td>\n",
       "      <td>0.0</td>\n",
       "      <td>7.0</td>\n",
       "      <td>True</td>\n",
       "      <td>4.86</td>\n",
       "      <td>0</td>\n",
       "      <td>4.67</td>\n",
       "    </tr>\n",
       "    <tr>\n",
       "      <th>2</th>\n",
       "      <td>881278</td>\n",
       "      <td>-1.0</td>\n",
       "      <td>-1.0</td>\n",
       "      <td>True</td>\n",
       "      <td>2.40</td>\n",
       "      <td>3</td>\n",
       "      <td>1.67</td>\n",
       "    </tr>\n",
       "    <tr>\n",
       "      <th>3</th>\n",
       "      <td>880028</td>\n",
       "      <td>0.0</td>\n",
       "      <td>7.0</td>\n",
       "      <td>True</td>\n",
       "      <td>31.91</td>\n",
       "      <td>0</td>\n",
       "      <td>19.50</td>\n",
       "    </tr>\n",
       "    <tr>\n",
       "      <th>4</th>\n",
       "      <td>880026</td>\n",
       "      <td>0.0</td>\n",
       "      <td>6.5</td>\n",
       "      <td>True</td>\n",
       "      <td>28.42</td>\n",
       "      <td>0</td>\n",
       "      <td>19.25</td>\n",
       "    </tr>\n",
       "  </tbody>\n",
       "</table>\n",
       "</div>"
      ],
      "text/plain": [
       "   operator_id  missed_percent  call_waiting_median  users_spec_out  \\\n",
       "0       880022             0.0                 16.0            True   \n",
       "1       880020             0.0                  7.0            True   \n",
       "2       881278            -1.0                 -1.0            True   \n",
       "3       880028             0.0                  7.0            True   \n",
       "4       880026             0.0                  6.5            True   \n",
       "\n",
       "   calls_per_day  rank  days_per_month  \n",
       "0           4.83     0           10.50  \n",
       "1           4.86     0            4.67  \n",
       "2           2.40     3            1.67  \n",
       "3          31.91     0           19.50  \n",
       "4          28.42     0           19.25  "
      ]
     },
     "metadata": {},
     "output_type": "display_data"
    },
    {
     "data": {
      "text/html": [
       "<div>\n",
       "<style scoped>\n",
       "    .dataframe tbody tr th:only-of-type {\n",
       "        vertical-align: middle;\n",
       "    }\n",
       "\n",
       "    .dataframe tbody tr th {\n",
       "        vertical-align: top;\n",
       "    }\n",
       "\n",
       "    .dataframe thead th {\n",
       "        text-align: right;\n",
       "    }\n",
       "</style>\n",
       "<table border=\"1\" class=\"dataframe\">\n",
       "  <thead>\n",
       "    <tr style=\"text-align: right;\">\n",
       "      <th></th>\n",
       "      <th>rank</th>\n",
       "      <th>days_per_month</th>\n",
       "    </tr>\n",
       "  </thead>\n",
       "  <tbody>\n",
       "    <tr>\n",
       "      <th>0</th>\n",
       "      <td>0</td>\n",
       "      <td>7.0</td>\n",
       "    </tr>\n",
       "    <tr>\n",
       "      <th>1</th>\n",
       "      <td>1</td>\n",
       "      <td>9.5</td>\n",
       "    </tr>\n",
       "    <tr>\n",
       "      <th>2</th>\n",
       "      <td>2</td>\n",
       "      <td>17.0</td>\n",
       "    </tr>\n",
       "    <tr>\n",
       "      <th>3</th>\n",
       "      <td>3</td>\n",
       "      <td>3.0</td>\n",
       "    </tr>\n",
       "    <tr>\n",
       "      <th>4</th>\n",
       "      <td>4</td>\n",
       "      <td>6.0</td>\n",
       "    </tr>\n",
       "    <tr>\n",
       "      <th>5</th>\n",
       "      <td>5</td>\n",
       "      <td>5.5</td>\n",
       "    </tr>\n",
       "    <tr>\n",
       "      <th>6</th>\n",
       "      <td>6</td>\n",
       "      <td>1.0</td>\n",
       "    </tr>\n",
       "  </tbody>\n",
       "</table>\n",
       "</div>"
      ],
      "text/plain": [
       "   rank  days_per_month\n",
       "0     0             7.0\n",
       "1     1             9.5\n",
       "2     2            17.0\n",
       "3     3             3.0\n",
       "4     4             6.0\n",
       "5     5             5.5\n",
       "6     6             1.0"
      ]
     },
     "metadata": {},
     "output_type": "display_data"
    },
    {
     "data": {
      "image/png": "[encoded data removed]",
      "text/plain": [
       "<Figure size 864x288 with 1 Axes>"
      ]
     },
     "metadata": {},
     "output_type": "display_data"
    }
   ],
   "source": [
    "# Готовлю данные для построение графика\n",
    "display(operator_rating.head())\n",
    "rank_and_days = operator_rating.groupby('rank')['days_per_month'].median().reset_index()\n",
    "display(rank_and_days)\n",
    "\n",
    "# Строю столбчатый график\n",
    "fig, ax = plt.subplots(figsize=(12, 4))\n",
    "sns.set_style('whitegrid')\n",
    "ct = sns.barplot(x='rank', y='days_per_month', data = rank_and_days,  palette='CMRmap_r')\n",
    "ax.set_xlabel('Ранк эффективности оператора')\n",
    "ax.set_ylabel('Медиана рабочих дней в месяц')\n",
    "ax.set_title('Медианная количества рабочих дней в месяц по рангам операторов')\n",
    "ct.bar_label(ct.containers[0], labels=rank_and_days['days_per_month'])\n",
    "#plt.savefig('гипотеза 1.png', dpi=200.0, bbox_inches='tight', transparent=True) #Сохраняем график в файл для презентации\n",
    "plt.show();"
   ]
  },
  {
   "cell_type": "markdown",
   "metadata": {},
   "source": [
    "На графике зависимостей не наблюдается, но нужно проверить статистическиую значимость. Для этого сформулирую гипотезу:\n",
    "<br>\n",
    "<br>\n",
    "H0: Количество рабочих дней в месяц у эффективных и еэффективных операторов одинаковое.<br>\n",
    "Н1: Количество рабочих дней в месяц у эффективных и еэффективных операторов разное.<br>\n",
    "<br>\n",
    "Уровень значимости α = 0.05\n",
    "Если Pvalue будет меньше этого уровня значимости, то нулевая гипотеза будет отвергнута\n",
    "\n",
    "Для проверки буду использовать ttest_ind"
   ]
  },
  {
   "cell_type": "code",
   "execution_count": 29,
   "metadata": {},
   "outputs": [
    {
     "name": "stdout",
     "output_type": "stream",
     "text": [
      "p-значение:  0.7834913262999779\n",
      "Не получилось отвергнуть нулевую гипотезу\n"
     ]
    }
   ],
   "source": [
    "# Готовлю данные\n",
    "rank_and_days_good = operator_rating.query('rank == 0 and rank != 6')['days_per_month']\n",
    "rank_and_days_bad = operator_rating.query('rank != 0 and rank != 6')['days_per_month']\n",
    "\n",
    "alpha = .05\n",
    "results = st.ttest_ind(rank_and_days_good, rank_and_days_bad)\n",
    "print('p-значение: ', results.pvalue) \n",
    "if results.pvalue < alpha:\n",
    "    print(\"Отвергаем нулевую гипотезу\")\n",
    "else:\n",
    "    print(\"Не получилось отвергнуть нулевую гипотезу\")"
   ]
  },
  {
   "cell_type": "markdown",
   "metadata": {},
   "source": [
    "Гипотеза полностью опровергнута. В данных нет статистически значимых различий. Количество рабочих дней никак не связанно с эффективностью."
   ]
  },
  {
   "cell_type": "markdown",
   "metadata": {},
   "source": [
    "<div class=\"alert alert-danger\">\n",
    "<b>Комментарий ревьюера:</b>☁️\n",
    "\n",
    "Проверка гипотез предполагалась статистическим тестом\n",
    "</div>"
   ]
  },
  {
   "cell_type": "markdown",
   "metadata": {},
   "source": [
    "### Внутренние звонки\n",
    "<a id=\"part4-2\"></a>"
   ]
  },
  {
   "cell_type": "markdown",
   "metadata": {},
   "source": [
    " Гипотеза: Неэффективные операторы чаще совершают внутренние звонки (например, чтобы уточнить что-то у коллег)."
   ]
  },
  {
   "cell_type": "code",
   "execution_count": 30,
   "metadata": {},
   "outputs": [
    {
     "data": {
      "text/html": [
       "<div>\n",
       "<style scoped>\n",
       "    .dataframe tbody tr th:only-of-type {\n",
       "        vertical-align: middle;\n",
       "    }\n",
       "\n",
       "    .dataframe tbody tr th {\n",
       "        vertical-align: top;\n",
       "    }\n",
       "\n",
       "    .dataframe thead th {\n",
       "        text-align: right;\n",
       "    }\n",
       "</style>\n",
       "<table border=\"1\" class=\"dataframe\">\n",
       "  <thead>\n",
       "    <tr style=\"text-align: right;\">\n",
       "      <th></th>\n",
       "      <th>operator_id</th>\n",
       "      <th>internal_calls_sum</th>\n",
       "    </tr>\n",
       "  </thead>\n",
       "  <tbody>\n",
       "    <tr>\n",
       "      <th>0</th>\n",
       "      <td>879896</td>\n",
       "      <td>56</td>\n",
       "    </tr>\n",
       "    <tr>\n",
       "      <th>1</th>\n",
       "      <td>879898</td>\n",
       "      <td>18</td>\n",
       "    </tr>\n",
       "    <tr>\n",
       "      <th>2</th>\n",
       "      <td>880020</td>\n",
       "      <td>4</td>\n",
       "    </tr>\n",
       "    <tr>\n",
       "      <th>3</th>\n",
       "      <td>880022</td>\n",
       "      <td>15</td>\n",
       "    </tr>\n",
       "    <tr>\n",
       "      <th>4</th>\n",
       "      <td>880026</td>\n",
       "      <td>20</td>\n",
       "    </tr>\n",
       "  </tbody>\n",
       "</table>\n",
       "</div>"
      ],
      "text/plain": [
       "   operator_id  internal_calls_sum\n",
       "0       879896                  56\n",
       "1       879898                  18\n",
       "2       880020                   4\n",
       "3       880022                  15\n",
       "4       880026                  20"
      ]
     },
     "metadata": {},
     "output_type": "display_data"
    }
   ],
   "source": [
    "# Фильтрую исходящие внутренние звонки из основной таблицы и считаю их количество у каждого оператора\n",
    "incalls_telecom = telecom.query('out_direction == True and internal==True')\n",
    "incalls_telecom = incalls_telecom.groupby('operator_id')['calls_count'].sum().reset_index()\n",
    "incalls_telecom.columns = ['operator_id', 'internal_calls_sum']\n",
    "display(incalls_telecom.head())"
   ]
  },
  {
   "cell_type": "code",
   "execution_count": 31,
   "metadata": {},
   "outputs": [],
   "source": [
    "# Присоединяю полученную информацию к таблице с рейтингом\n",
    "operator_rating = operator_rating.merge(incalls_telecom, on='operator_id', how='left')"
   ]
  },
  {
   "cell_type": "code",
   "execution_count": 32,
   "metadata": {
    "scrolled": true
   },
   "outputs": [
    {
     "data": {
      "text/html": [
       "<div>\n",
       "<style scoped>\n",
       "    .dataframe tbody tr th:only-of-type {\n",
       "        vertical-align: middle;\n",
       "    }\n",
       "\n",
       "    .dataframe tbody tr th {\n",
       "        vertical-align: top;\n",
       "    }\n",
       "\n",
       "    .dataframe thead th {\n",
       "        text-align: right;\n",
       "    }\n",
       "</style>\n",
       "<table border=\"1\" class=\"dataframe\">\n",
       "  <thead>\n",
       "    <tr style=\"text-align: right;\">\n",
       "      <th></th>\n",
       "      <th>operator_id</th>\n",
       "      <th>missed_percent</th>\n",
       "      <th>call_waiting_median</th>\n",
       "      <th>users_spec_out</th>\n",
       "      <th>calls_per_day</th>\n",
       "      <th>rank</th>\n",
       "      <th>days_per_month</th>\n",
       "      <th>internal_calls_sum</th>\n",
       "    </tr>\n",
       "  </thead>\n",
       "  <tbody>\n",
       "    <tr>\n",
       "      <th>0</th>\n",
       "      <td>880022</td>\n",
       "      <td>0.0</td>\n",
       "      <td>16.0</td>\n",
       "      <td>True</td>\n",
       "      <td>4.83</td>\n",
       "      <td>0</td>\n",
       "      <td>10.50</td>\n",
       "      <td>15.0</td>\n",
       "    </tr>\n",
       "    <tr>\n",
       "      <th>1</th>\n",
       "      <td>880020</td>\n",
       "      <td>0.0</td>\n",
       "      <td>7.0</td>\n",
       "      <td>True</td>\n",
       "      <td>4.86</td>\n",
       "      <td>0</td>\n",
       "      <td>4.67</td>\n",
       "      <td>4.0</td>\n",
       "    </tr>\n",
       "    <tr>\n",
       "      <th>2</th>\n",
       "      <td>881278</td>\n",
       "      <td>-1.0</td>\n",
       "      <td>-1.0</td>\n",
       "      <td>True</td>\n",
       "      <td>2.40</td>\n",
       "      <td>3</td>\n",
       "      <td>1.67</td>\n",
       "      <td>8.0</td>\n",
       "    </tr>\n",
       "    <tr>\n",
       "      <th>3</th>\n",
       "      <td>880028</td>\n",
       "      <td>0.0</td>\n",
       "      <td>7.0</td>\n",
       "      <td>True</td>\n",
       "      <td>31.91</td>\n",
       "      <td>0</td>\n",
       "      <td>19.50</td>\n",
       "      <td>8.0</td>\n",
       "    </tr>\n",
       "    <tr>\n",
       "      <th>4</th>\n",
       "      <td>880026</td>\n",
       "      <td>0.0</td>\n",
       "      <td>6.5</td>\n",
       "      <td>True</td>\n",
       "      <td>28.42</td>\n",
       "      <td>0</td>\n",
       "      <td>19.25</td>\n",
       "      <td>20.0</td>\n",
       "    </tr>\n",
       "  </tbody>\n",
       "</table>\n",
       "</div>"
      ],
      "text/plain": [
       "   operator_id  missed_percent  call_waiting_median  users_spec_out  \\\n",
       "0       880022             0.0                 16.0            True   \n",
       "1       880020             0.0                  7.0            True   \n",
       "2       881278            -1.0                 -1.0            True   \n",
       "3       880028             0.0                  7.0            True   \n",
       "4       880026             0.0                  6.5            True   \n",
       "\n",
       "   calls_per_day  rank  days_per_month  internal_calls_sum  \n",
       "0           4.83     0           10.50                15.0  \n",
       "1           4.86     0            4.67                 4.0  \n",
       "2           2.40     3            1.67                 8.0  \n",
       "3          31.91     0           19.50                 8.0  \n",
       "4          28.42     0           19.25                20.0  "
      ]
     },
     "metadata": {},
     "output_type": "display_data"
    },
    {
     "data": {
      "image/png": "[encoded data removed]",
      "text/plain": [
       "<Figure size 864x288 with 1 Axes>"
      ]
     },
     "metadata": {},
     "output_type": "display_data"
    }
   ],
   "source": [
    "# Меняю пробелы в данных на нули, так как в данном случае пробелы осзначают что оператор вообще не совершал внутренних исходящх звонков\n",
    "display(operator_rating.head())\n",
    "operator_rating['internal_calls_sum'] = operator_rating['internal_calls_sum'].fillna(0)\n",
    "\n",
    "# Готовлю данные для графика, считаю среднее количество звонков для ранга\n",
    "ranks_intcalls = operator_rating.groupby('rank')['internal_calls_sum'].mean().reset_index().round(2)\n",
    "\n",
    "# Строю табличку\n",
    "fig, ax = plt.subplots(figsize=(12, 4))\n",
    "sns.set_style('whitegrid')\n",
    "ct = sns.barplot(x='rank', y='internal_calls_sum', data = ranks_intcalls,  palette='CMRmap_r')\n",
    "ax.set_xlabel('Ранк эффективности оператора')\n",
    "ax.set_ylabel('Среднее звонков в месяц')\n",
    "ax.set_title('Среднее количество исходящих внутренних звонков на оператора по категориям')\n",
    "ct.bar_label(ct.containers[0], labels=ranks_intcalls['internal_calls_sum'])\n",
    "#plt.savefig('гипотеза 2.png', dpi=200.0, bbox_inches='tight', transparent=True) #Сохраняем график в файл для презентации\n",
    "plt.show();"
   ]
  },
  {
   "cell_type": "markdown",
   "metadata": {},
   "source": [
    "На графике видно, что самый наименьший показатель у эффективной категории. Теперь проверим. Для этого сформулирую гипотезу:\n",
    "<br>\n",
    "<br>\n",
    "H0: Среднее количество исходящих внутренних звонков на оператора одинаковое у эффективных и неэффективных операторов.<br>\n",
    "Н1: Среднее количество исходящих внутренних звонков на оператора эффективных и неэффективных операторов разное.<br>\n",
    "<br>\n",
    "Уровень значимости α = 0.05\n",
    "Если Pvalue будет меньше этого уровня значимости, то нулевая гипотеза будет отвергнута"
   ]
  },
  {
   "cell_type": "code",
   "execution_count": 33,
   "metadata": {},
   "outputs": [
    {
     "name": "stdout",
     "output_type": "stream",
     "text": [
      "p-значение:  0.016065290110503977\n",
      "Отвергаем нулевую гипотезу\n"
     ]
    }
   ],
   "source": [
    "ranks_intcalls_good = operator_rating.query('rank == 0 and rank != 6')['internal_calls_sum']\n",
    "ranks_intcalls_bad = operator_rating.query('rank != 0 and rank != 6')['internal_calls_sum']\n",
    "\n",
    "alpha = .05\n",
    "results = st.ttest_ind(ranks_intcalls_good, ranks_intcalls_bad)\n",
    "print('p-значение: ', results.pvalue) \n",
    "if results.pvalue < alpha:\n",
    "    print(\"Отвергаем нулевую гипотезу\")\n",
    "else:\n",
    "    print(\"Не получилось отвергнуть нулевую гипотезу\")"
   ]
  },
  {
   "cell_type": "markdown",
   "metadata": {},
   "source": [
    "Гипотеза подтверждена. В среднем неэффективные операторы звонят по внутренним линиям чаще эффективных.\n",
    "Среднее я использовал так как сумма и медиана не дадут объективной информации потому что очень разные размеры выборок. Тут важна массовость явления относительно количества и среднее с этой задачей справляется."
   ]
  },
  {
   "cell_type": "markdown",
   "metadata": {},
   "source": [
    "<a id=\"part5\"></a>\n",
    "## Выводы"
   ]
  },
  {
   "cell_type": "markdown",
   "metadata": {},
   "source": [
    "* Доля недобросовестных операторов составляет четверть (31%) от общего количества операторов\n",
    "* Самая большая доля из неэффективных операторов у тех, кто совершает малое количество обзвонов в специализирующихся на этом колл-центрах.\n",
    "* Предложена методика определения степени неэффективности операторов, что обеспечит большую свободу в принятии решений для заказчика\n",
    "* Гипотеза о том, что эффективные операторы работают больше дней в месяц не подтверждена.\n",
    "* Гипотеза о том, что эффективные операторы реже неэффективных звонят по внутренней линии подтверждена. Возможно это связанно с тем, что неэффективные операторы часто звонят коллегам для уточнения вопросов."
   ]
  },
  {
   "cell_type": "markdown",
   "metadata": {},
   "source": [
    "## Презентация и дашборд"
   ]
  },
  {
   "cell_type": "markdown",
   "metadata": {},
   "source": [
    "Ссылки на дашборд и презентацию будут в [шапке](#start)."
   ]
  }
 ],
 "metadata": {
  "ExecuteTimeLog": [
   {
    "duration": 1443,
    "start_time": "2023-10-24T16:45:04.318Z"
   },
   {
    "duration": 153,
    "start_time": "2023-10-24T16:45:12.376Z"
   },
   {
    "duration": 183,
    "start_time": "2023-10-24T18:35:01.402Z"
   },
   {
    "duration": 92,
    "start_time": "2023-10-24T18:35:08.752Z"
   },
   {
    "duration": 99,
    "start_time": "2023-10-24T18:35:25.001Z"
   },
   {
    "duration": 83,
    "start_time": "2023-10-24T18:51:43.668Z"
   },
   {
    "duration": 5,
    "start_time": "2023-10-24T18:56:37.215Z"
   },
   {
    "duration": 3,
    "start_time": "2023-10-24T19:12:02.500Z"
   },
   {
    "duration": 14,
    "start_time": "2023-10-24T19:12:04.981Z"
   },
   {
    "duration": 13,
    "start_time": "2023-10-24T19:12:13.143Z"
   },
   {
    "duration": 26,
    "start_time": "2023-10-24T19:12:41.438Z"
   },
   {
    "duration": 15,
    "start_time": "2023-10-24T19:18:44.067Z"
   },
   {
    "duration": 18,
    "start_time": "2023-10-24T19:19:38.427Z"
   },
   {
    "duration": 81,
    "start_time": "2023-10-24T19:24:11.403Z"
   },
   {
    "duration": 89,
    "start_time": "2023-10-24T19:24:18.363Z"
   },
   {
    "duration": 508,
    "start_time": "2023-10-24T19:25:12.793Z"
   },
   {
    "duration": 530,
    "start_time": "2023-10-24T19:25:25.566Z"
   },
   {
    "duration": 990,
    "start_time": "2023-10-24T19:34:23.522Z"
   },
   {
    "duration": 1281,
    "start_time": "2023-10-24T19:36:03.501Z"
   },
   {
    "duration": 112,
    "start_time": "2023-10-24T19:36:04.785Z"
   },
   {
    "duration": 1006,
    "start_time": "2023-10-24T19:36:04.899Z"
   },
   {
    "duration": 106,
    "start_time": "2023-10-24T19:36:05.906Z"
   },
   {
    "duration": 0,
    "start_time": "2023-10-24T19:36:06.014Z"
   },
   {
    "duration": 0,
    "start_time": "2023-10-24T19:36:06.015Z"
   },
   {
    "duration": 1018,
    "start_time": "2023-10-24T19:37:04.039Z"
   },
   {
    "duration": 1017,
    "start_time": "2023-10-24T19:37:11.960Z"
   },
   {
    "duration": 1022,
    "start_time": "2023-10-24T19:39:17.594Z"
   },
   {
    "duration": 1073,
    "start_time": "2023-10-24T19:39:50.424Z"
   },
   {
    "duration": 1028,
    "start_time": "2023-10-24T19:41:56.668Z"
   },
   {
    "duration": 998,
    "start_time": "2023-10-24T19:42:39.768Z"
   },
   {
    "duration": 1245,
    "start_time": "2023-10-24T19:43:27.747Z"
   },
   {
    "duration": 112,
    "start_time": "2023-10-24T19:43:28.994Z"
   },
   {
    "duration": 1017,
    "start_time": "2023-10-24T19:43:29.108Z"
   },
   {
    "duration": 6,
    "start_time": "2023-10-24T19:43:30.127Z"
   },
   {
    "duration": 129,
    "start_time": "2023-10-24T19:43:30.134Z"
   },
   {
    "duration": 874,
    "start_time": "2023-10-24T19:45:59.312Z"
   },
   {
    "duration": 1252,
    "start_time": "2023-10-24T19:48:46.975Z"
   },
   {
    "duration": 118,
    "start_time": "2023-10-24T19:48:48.229Z"
   },
   {
    "duration": 6,
    "start_time": "2023-10-24T19:48:48.349Z"
   },
   {
    "duration": 47,
    "start_time": "2023-10-24T19:48:48.357Z"
   },
   {
    "duration": 19,
    "start_time": "2023-10-24T19:48:48.405Z"
   },
   {
    "duration": 980,
    "start_time": "2023-10-24T19:48:48.426Z"
   },
   {
    "duration": 3,
    "start_time": "2023-10-24T19:51:09.976Z"
   },
   {
    "duration": 411,
    "start_time": "2023-10-24T19:52:01.211Z"
   },
   {
    "duration": 1177,
    "start_time": "2023-10-24T19:52:15.328Z"
   },
   {
    "duration": 113,
    "start_time": "2023-10-24T19:52:16.506Z"
   },
   {
    "duration": 5,
    "start_time": "2023-10-24T19:52:16.621Z"
   },
   {
    "duration": 19,
    "start_time": "2023-10-24T19:52:16.628Z"
   },
   {
    "duration": 4,
    "start_time": "2023-10-24T19:52:16.648Z"
   },
   {
    "duration": 420,
    "start_time": "2023-10-24T19:52:16.654Z"
   },
   {
    "duration": 34,
    "start_time": "2023-10-24T19:54:02.329Z"
   },
   {
    "duration": 20,
    "start_time": "2023-10-24T19:56:05.209Z"
   },
   {
    "duration": 30,
    "start_time": "2023-10-24T19:57:37.791Z"
   },
   {
    "duration": 34,
    "start_time": "2023-10-24T19:57:59.736Z"
   },
   {
    "duration": 37,
    "start_time": "2023-10-24T19:58:07.828Z"
   },
   {
    "duration": 41,
    "start_time": "2023-10-24T19:58:22.003Z"
   },
   {
    "duration": 47,
    "start_time": "2023-10-24T19:58:47.721Z"
   },
   {
    "duration": 1159,
    "start_time": "2023-10-24T19:59:15.763Z"
   },
   {
    "duration": 128,
    "start_time": "2023-10-24T19:59:16.924Z"
   },
   {
    "duration": 5,
    "start_time": "2023-10-24T19:59:17.054Z"
   },
   {
    "duration": 24,
    "start_time": "2023-10-24T19:59:17.060Z"
   },
   {
    "duration": 16,
    "start_time": "2023-10-24T19:59:17.086Z"
   },
   {
    "duration": 446,
    "start_time": "2023-10-24T19:59:17.104Z"
   },
   {
    "duration": 65,
    "start_time": "2023-10-24T19:59:17.551Z"
   },
   {
    "duration": 56,
    "start_time": "2023-10-24T19:59:40.474Z"
   },
   {
    "duration": 1293,
    "start_time": "2023-10-24T19:59:53.673Z"
   },
   {
    "duration": 134,
    "start_time": "2023-10-24T19:59:54.968Z"
   },
   {
    "duration": 8,
    "start_time": "2023-10-24T19:59:55.104Z"
   },
   {
    "duration": 99,
    "start_time": "2023-10-24T19:59:55.114Z"
   },
   {
    "duration": 25,
    "start_time": "2023-10-24T19:59:55.215Z"
   },
   {
    "duration": 455,
    "start_time": "2023-10-24T19:59:55.242Z"
   },
   {
    "duration": 50,
    "start_time": "2023-10-24T19:59:55.701Z"
   },
   {
    "duration": 1508,
    "start_time": "2023-10-25T18:39:15.587Z"
   },
   {
    "duration": 208,
    "start_time": "2023-10-25T18:39:17.097Z"
   },
   {
    "duration": 13,
    "start_time": "2023-10-25T18:39:17.307Z"
   },
   {
    "duration": 29,
    "start_time": "2023-10-25T18:39:17.323Z"
   },
   {
    "duration": 13,
    "start_time": "2023-10-25T18:39:17.354Z"
   },
   {
    "duration": 462,
    "start_time": "2023-10-25T18:39:17.368Z"
   },
   {
    "duration": 34,
    "start_time": "2023-10-25T18:39:17.833Z"
   },
   {
    "duration": 33,
    "start_time": "2023-10-25T19:08:34.503Z"
   },
   {
    "duration": 514,
    "start_time": "2023-10-25T19:14:03.064Z"
   },
   {
    "duration": 55,
    "start_time": "2023-10-25T19:16:59.186Z"
   },
   {
    "duration": 40,
    "start_time": "2023-10-25T19:17:28.416Z"
   },
   {
    "duration": 139,
    "start_time": "2023-10-25T19:21:24.020Z"
   },
   {
    "duration": 43,
    "start_time": "2023-10-25T20:06:51.750Z"
   },
   {
    "duration": 39,
    "start_time": "2023-10-25T20:07:11.894Z"
   },
   {
    "duration": 33,
    "start_time": "2023-10-25T20:07:33.395Z"
   },
   {
    "duration": 36,
    "start_time": "2023-10-25T20:07:39.318Z"
   },
   {
    "duration": 33,
    "start_time": "2023-10-25T20:07:53.935Z"
   },
   {
    "duration": 30,
    "start_time": "2023-10-25T20:08:03.734Z"
   },
   {
    "duration": 37,
    "start_time": "2023-10-25T20:08:51.201Z"
   },
   {
    "duration": 34,
    "start_time": "2023-10-25T20:09:22.614Z"
   },
   {
    "duration": 34,
    "start_time": "2023-10-25T20:09:37.110Z"
   },
   {
    "duration": 30,
    "start_time": "2023-10-25T20:10:04.114Z"
   },
   {
    "duration": 44,
    "start_time": "2023-10-25T20:10:16.237Z"
   },
   {
    "duration": 37,
    "start_time": "2023-10-25T20:11:26.956Z"
   },
   {
    "duration": 36,
    "start_time": "2023-10-25T20:17:01.143Z"
   },
   {
    "duration": 48,
    "start_time": "2023-10-25T20:17:09.130Z"
   },
   {
    "duration": 54,
    "start_time": "2023-10-25T20:17:17.238Z"
   },
   {
    "duration": 52,
    "start_time": "2023-10-25T20:18:56.316Z"
   },
   {
    "duration": 33,
    "start_time": "2023-10-25T20:19:13.998Z"
   },
   {
    "duration": 1384,
    "start_time": "2023-10-25T20:19:22.291Z"
   },
   {
    "duration": 130,
    "start_time": "2023-10-25T20:19:23.677Z"
   },
   {
    "duration": 6,
    "start_time": "2023-10-25T20:19:23.808Z"
   },
   {
    "duration": 18,
    "start_time": "2023-10-25T20:19:23.816Z"
   },
   {
    "duration": 3,
    "start_time": "2023-10-25T20:19:23.837Z"
   },
   {
    "duration": 430,
    "start_time": "2023-10-25T20:19:23.842Z"
   },
   {
    "duration": 49,
    "start_time": "2023-10-25T20:19:24.274Z"
   },
   {
    "duration": 134,
    "start_time": "2023-10-25T20:19:24.325Z"
   },
   {
    "duration": 46,
    "start_time": "2023-10-25T20:21:03.805Z"
   },
   {
    "duration": 37,
    "start_time": "2023-10-25T20:21:14.597Z"
   },
   {
    "duration": 31,
    "start_time": "2023-10-25T20:21:38.946Z"
   },
   {
    "duration": 35,
    "start_time": "2023-10-25T20:22:05.623Z"
   },
   {
    "duration": 32,
    "start_time": "2023-10-25T20:22:16.829Z"
   },
   {
    "duration": 32,
    "start_time": "2023-10-25T20:22:25.897Z"
   },
   {
    "duration": 42,
    "start_time": "2023-10-25T20:22:30.294Z"
   },
   {
    "duration": 50,
    "start_time": "2023-10-25T20:22:35.886Z"
   },
   {
    "duration": 32,
    "start_time": "2023-10-25T20:22:40.589Z"
   },
   {
    "duration": 90,
    "start_time": "2023-10-25T20:22:51.993Z"
   },
   {
    "duration": 49,
    "start_time": "2023-10-25T20:22:56.638Z"
   },
   {
    "duration": 36,
    "start_time": "2023-10-25T20:23:15.589Z"
   },
   {
    "duration": 53,
    "start_time": "2023-10-25T20:26:20.830Z"
   },
   {
    "duration": 43,
    "start_time": "2023-10-25T20:26:33.225Z"
   },
   {
    "duration": 41,
    "start_time": "2023-10-25T20:26:41.348Z"
   },
   {
    "duration": 74,
    "start_time": "2023-10-25T20:31:35.394Z"
   },
   {
    "duration": 81,
    "start_time": "2023-10-25T20:33:31.527Z"
   },
   {
    "duration": 79,
    "start_time": "2023-10-25T20:34:08.799Z"
   },
   {
    "duration": 76,
    "start_time": "2023-10-25T20:35:34.586Z"
   },
   {
    "duration": 5944,
    "start_time": "2023-10-25T20:39:56.494Z"
   },
   {
    "duration": 438,
    "start_time": "2023-10-25T20:42:41.557Z"
   },
   {
    "duration": 514,
    "start_time": "2023-10-25T20:43:45.846Z"
   },
   {
    "duration": 441,
    "start_time": "2023-10-25T20:44:36.458Z"
   },
   {
    "duration": 451,
    "start_time": "2023-10-25T20:44:58.650Z"
   },
   {
    "duration": 489,
    "start_time": "2023-10-25T20:45:38.526Z"
   },
   {
    "duration": 308,
    "start_time": "2023-10-25T20:49:06.902Z"
   },
   {
    "duration": 81,
    "start_time": "2023-10-25T20:49:38.101Z"
   },
   {
    "duration": 289,
    "start_time": "2023-10-25T20:49:42.401Z"
   },
   {
    "duration": 346,
    "start_time": "2023-10-25T20:50:07.891Z"
   },
   {
    "duration": 374,
    "start_time": "2023-10-25T20:52:47.744Z"
   },
   {
    "duration": 476,
    "start_time": "2023-10-25T20:53:15.923Z"
   },
   {
    "duration": 398,
    "start_time": "2023-10-25T20:54:16.648Z"
   },
   {
    "duration": 414,
    "start_time": "2023-10-25T20:56:27.815Z"
   },
   {
    "duration": 35,
    "start_time": "2023-10-25T20:57:24.658Z"
   },
   {
    "duration": 775,
    "start_time": "2023-10-25T20:57:51.832Z"
   },
   {
    "duration": 568,
    "start_time": "2023-10-25T20:58:26.049Z"
   },
   {
    "duration": 511,
    "start_time": "2023-10-25T20:59:03.448Z"
   },
   {
    "duration": 496,
    "start_time": "2023-10-25T20:59:53.931Z"
   },
   {
    "duration": 544,
    "start_time": "2023-10-25T21:00:08.101Z"
   },
   {
    "duration": 529,
    "start_time": "2023-10-25T21:00:17.632Z"
   },
   {
    "duration": 106,
    "start_time": "2023-10-25T21:00:22.761Z"
   },
   {
    "duration": 573,
    "start_time": "2023-10-25T21:00:35.882Z"
   },
   {
    "duration": 93,
    "start_time": "2023-10-25T21:16:35.293Z"
   },
   {
    "duration": 957,
    "start_time": "2023-10-25T21:16:39.865Z"
   },
   {
    "duration": 805,
    "start_time": "2023-10-25T21:22:53.656Z"
   },
   {
    "duration": 851,
    "start_time": "2023-10-25T21:26:07.922Z"
   },
   {
    "duration": 937,
    "start_time": "2023-10-25T21:26:25.700Z"
   },
   {
    "duration": 913,
    "start_time": "2023-10-25T21:26:30.894Z"
   },
   {
    "duration": 1422,
    "start_time": "2023-10-26T06:14:16.540Z"
   },
   {
    "duration": 181,
    "start_time": "2023-10-26T06:14:17.964Z"
   },
   {
    "duration": 4,
    "start_time": "2023-10-26T06:14:18.146Z"
   },
   {
    "duration": 19,
    "start_time": "2023-10-26T06:14:18.152Z"
   },
   {
    "duration": 9,
    "start_time": "2023-10-26T06:14:18.173Z"
   },
   {
    "duration": 426,
    "start_time": "2023-10-26T06:14:18.184Z"
   },
   {
    "duration": 36,
    "start_time": "2023-10-26T06:14:18.612Z"
   },
   {
    "duration": 563,
    "start_time": "2023-10-26T06:14:18.650Z"
   },
   {
    "duration": 558,
    "start_time": "2023-10-26T06:19:47.289Z"
   },
   {
    "duration": 114,
    "start_time": "2023-10-26T06:28:27.342Z"
   },
   {
    "duration": 20,
    "start_time": "2023-10-26T06:33:19.454Z"
   },
   {
    "duration": 26,
    "start_time": "2023-10-26T06:36:53.879Z"
   },
   {
    "duration": 28,
    "start_time": "2023-10-26T06:37:05.387Z"
   },
   {
    "duration": 16,
    "start_time": "2023-10-26T06:39:57.982Z"
   },
   {
    "duration": 16,
    "start_time": "2023-10-26T06:40:09.994Z"
   },
   {
    "duration": 17,
    "start_time": "2023-10-26T06:41:09.022Z"
   },
   {
    "duration": 15,
    "start_time": "2023-10-26T06:41:26.584Z"
   },
   {
    "duration": 17,
    "start_time": "2023-10-26T06:41:38.021Z"
   },
   {
    "duration": 111,
    "start_time": "2023-10-26T06:45:16.287Z"
   },
   {
    "duration": 106,
    "start_time": "2023-10-26T06:45:35.119Z"
   },
   {
    "duration": 74,
    "start_time": "2023-10-26T06:45:58.038Z"
   },
   {
    "duration": 19,
    "start_time": "2023-10-26T06:48:57.378Z"
   },
   {
    "duration": 27,
    "start_time": "2023-10-26T06:57:29.739Z"
   },
   {
    "duration": 24,
    "start_time": "2023-10-26T06:57:54.119Z"
   },
   {
    "duration": 28,
    "start_time": "2023-10-26T06:59:45.003Z"
   },
   {
    "duration": 56,
    "start_time": "2023-10-26T07:01:45.209Z"
   },
   {
    "duration": 1191,
    "start_time": "2023-10-26T07:02:54.722Z"
   },
   {
    "duration": 142,
    "start_time": "2023-10-26T07:02:55.915Z"
   },
   {
    "duration": 5,
    "start_time": "2023-10-26T07:02:56.059Z"
   },
   {
    "duration": 29,
    "start_time": "2023-10-26T07:02:56.066Z"
   },
   {
    "duration": 11,
    "start_time": "2023-10-26T07:02:56.097Z"
   },
   {
    "duration": 417,
    "start_time": "2023-10-26T07:02:56.110Z"
   },
   {
    "duration": 37,
    "start_time": "2023-10-26T07:02:56.529Z"
   },
   {
    "duration": 577,
    "start_time": "2023-10-26T07:02:56.568Z"
   },
   {
    "duration": 397,
    "start_time": "2023-10-26T07:02:57.147Z"
   },
   {
    "duration": 437,
    "start_time": "2023-10-26T07:03:15.892Z"
   },
   {
    "duration": 538,
    "start_time": "2023-10-26T07:14:11.342Z"
   },
   {
    "duration": 491,
    "start_time": "2023-10-26T07:17:24.674Z"
   },
   {
    "duration": 612,
    "start_time": "2023-10-26T07:19:24.437Z"
   },
   {
    "duration": 458,
    "start_time": "2023-10-26T07:19:37.451Z"
   },
   {
    "duration": 97,
    "start_time": "2023-10-26T07:21:20.271Z"
   },
   {
    "duration": 106,
    "start_time": "2023-10-26T07:21:38.235Z"
   },
   {
    "duration": 435,
    "start_time": "2023-10-26T07:21:44.212Z"
   },
   {
    "duration": 552,
    "start_time": "2023-10-26T07:22:14.948Z"
   },
   {
    "duration": 526,
    "start_time": "2023-10-26T07:22:35.986Z"
   },
   {
    "duration": 109,
    "start_time": "2023-10-26T07:22:45.036Z"
   },
   {
    "duration": 511,
    "start_time": "2023-10-26T07:23:17.170Z"
   },
   {
    "duration": 448,
    "start_time": "2023-10-26T07:23:54.274Z"
   },
   {
    "duration": 566,
    "start_time": "2023-10-26T07:24:00.354Z"
   },
   {
    "duration": 532,
    "start_time": "2023-10-26T07:48:29.050Z"
   },
   {
    "duration": 498,
    "start_time": "2023-10-26T07:48:48.946Z"
   },
   {
    "duration": 23,
    "start_time": "2023-10-26T07:54:44.277Z"
   },
   {
    "duration": 18,
    "start_time": "2023-10-26T07:54:59.118Z"
   },
   {
    "duration": 20,
    "start_time": "2023-10-26T07:55:54.785Z"
   },
   {
    "duration": 20,
    "start_time": "2023-10-26T07:56:34.467Z"
   },
   {
    "duration": 20,
    "start_time": "2023-10-26T08:00:24.718Z"
   },
   {
    "duration": 17,
    "start_time": "2023-10-26T08:00:32.132Z"
   },
   {
    "duration": 24,
    "start_time": "2023-10-26T08:10:40.239Z"
   },
   {
    "duration": 5,
    "start_time": "2023-10-26T08:22:59.774Z"
   },
   {
    "duration": 27,
    "start_time": "2023-10-26T08:23:14.708Z"
   },
   {
    "duration": 2895,
    "start_time": "2023-10-26T08:24:06.786Z"
   },
   {
    "duration": 1707,
    "start_time": "2023-10-26T08:24:48.204Z"
   },
   {
    "duration": 1536,
    "start_time": "2023-10-26T08:25:39.272Z"
   },
   {
    "duration": 33,
    "start_time": "2023-10-26T08:26:04.102Z"
   },
   {
    "duration": 24,
    "start_time": "2023-10-26T08:26:37.806Z"
   },
   {
    "duration": 31,
    "start_time": "2023-10-26T08:28:53.549Z"
   },
   {
    "duration": 28,
    "start_time": "2023-10-26T08:30:10.486Z"
   },
   {
    "duration": 22,
    "start_time": "2023-10-26T08:31:03.804Z"
   },
   {
    "duration": 23,
    "start_time": "2023-10-26T08:31:28.272Z"
   },
   {
    "duration": 194,
    "start_time": "2023-10-26T08:32:25.875Z"
   },
   {
    "duration": 22,
    "start_time": "2023-10-26T08:57:02.369Z"
   },
   {
    "duration": 46,
    "start_time": "2023-10-26T08:58:16.978Z"
   },
   {
    "duration": 595,
    "start_time": "2023-10-26T08:58:42.928Z"
   },
   {
    "duration": 177,
    "start_time": "2023-10-26T09:11:41.518Z"
   },
   {
    "duration": 23,
    "start_time": "2023-10-26T09:15:35.650Z"
   },
   {
    "duration": 447,
    "start_time": "2023-10-26T09:15:48.038Z"
   },
   {
    "duration": 13,
    "start_time": "2023-10-26T09:22:06.972Z"
   },
   {
    "duration": 18,
    "start_time": "2023-10-26T09:27:27.395Z"
   },
   {
    "duration": 5,
    "start_time": "2023-10-26T09:27:43.567Z"
   },
   {
    "duration": 9,
    "start_time": "2023-10-26T09:27:56.053Z"
   },
   {
    "duration": 7,
    "start_time": "2023-10-26T09:28:09.816Z"
   },
   {
    "duration": 11,
    "start_time": "2023-10-26T09:31:59.526Z"
   },
   {
    "duration": 10,
    "start_time": "2023-10-26T09:35:14.188Z"
   },
   {
    "duration": 79,
    "start_time": "2023-10-26T09:35:46.875Z"
   },
   {
    "duration": 12,
    "start_time": "2023-10-26T09:35:55.990Z"
   },
   {
    "duration": 11,
    "start_time": "2023-10-26T09:36:14.428Z"
   },
   {
    "duration": 11,
    "start_time": "2023-10-26T09:36:30.997Z"
   },
   {
    "duration": 19,
    "start_time": "2023-10-26T09:38:18.778Z"
   },
   {
    "duration": 21,
    "start_time": "2023-10-26T09:40:08.715Z"
   },
   {
    "duration": 24,
    "start_time": "2023-10-26T09:44:46.770Z"
   },
   {
    "duration": 228,
    "start_time": "2023-10-26T09:49:12.210Z"
   },
   {
    "duration": 203,
    "start_time": "2023-10-26T09:49:18.340Z"
   },
   {
    "duration": 334,
    "start_time": "2023-10-26T09:49:36.381Z"
   },
   {
    "duration": 108,
    "start_time": "2023-10-26T09:52:10.000Z"
   },
   {
    "duration": 99,
    "start_time": "2023-10-26T09:52:13.484Z"
   },
   {
    "duration": 398,
    "start_time": "2023-10-26T09:52:44.443Z"
   },
   {
    "duration": 517,
    "start_time": "2023-10-26T09:54:45.783Z"
   },
   {
    "duration": 519,
    "start_time": "2023-10-26T09:54:55.910Z"
   },
   {
    "duration": 11,
    "start_time": "2023-10-26T10:07:18.139Z"
   },
   {
    "duration": 14,
    "start_time": "2023-10-26T10:14:42.314Z"
   },
   {
    "duration": 12,
    "start_time": "2023-10-26T10:15:01.615Z"
   },
   {
    "duration": 5669,
    "start_time": "2023-10-26T10:16:28.191Z"
   },
   {
    "duration": 5739,
    "start_time": "2023-10-26T10:16:45.390Z"
   },
   {
    "duration": 5735,
    "start_time": "2023-10-26T10:18:29.953Z"
   },
   {
    "duration": 1770,
    "start_time": "2023-10-26T10:21:23.918Z"
   },
   {
    "duration": 9,
    "start_time": "2023-10-26T10:25:03.245Z"
   },
   {
    "duration": 9,
    "start_time": "2023-10-26T10:26:05.349Z"
   },
   {
    "duration": 17,
    "start_time": "2023-10-26T10:26:18.879Z"
   },
   {
    "duration": 144,
    "start_time": "2023-10-26T10:28:32.834Z"
   },
   {
    "duration": 178,
    "start_time": "2023-10-26T10:30:49.619Z"
   },
   {
    "duration": 16,
    "start_time": "2023-10-26T10:33:53.242Z"
   },
   {
    "duration": 165,
    "start_time": "2023-10-26T10:34:01.673Z"
   },
   {
    "duration": 180,
    "start_time": "2023-10-26T10:34:58.892Z"
   },
   {
    "duration": 156,
    "start_time": "2023-10-26T10:37:36.256Z"
   },
   {
    "duration": 16,
    "start_time": "2023-10-26T10:38:02.955Z"
   },
   {
    "duration": 158,
    "start_time": "2023-10-26T10:38:09.283Z"
   },
   {
    "duration": 15,
    "start_time": "2023-10-26T10:38:50.825Z"
   },
   {
    "duration": 288,
    "start_time": "2023-10-26T10:39:19.252Z"
   },
   {
    "duration": 183,
    "start_time": "2023-10-26T10:39:46.651Z"
   },
   {
    "duration": 202,
    "start_time": "2023-10-26T10:41:44.135Z"
   },
   {
    "duration": 14,
    "start_time": "2023-10-26T10:42:15.455Z"
   },
   {
    "duration": 14,
    "start_time": "2023-10-26T10:42:28.165Z"
   },
   {
    "duration": 144,
    "start_time": "2023-10-26T10:43:59.777Z"
   },
   {
    "duration": 20,
    "start_time": "2023-10-26T10:45:39.369Z"
   },
   {
    "duration": 175,
    "start_time": "2023-10-26T10:45:45.398Z"
   },
   {
    "duration": 181,
    "start_time": "2023-10-26T10:46:00.609Z"
   },
   {
    "duration": 306,
    "start_time": "2023-10-26T10:51:09.252Z"
   },
   {
    "duration": 3115,
    "start_time": "2023-10-26T10:51:22.703Z"
   },
   {
    "duration": 195,
    "start_time": "2023-10-26T10:53:39.667Z"
   },
   {
    "duration": 173,
    "start_time": "2023-10-26T10:55:08.682Z"
   },
   {
    "duration": 29,
    "start_time": "2023-10-26T10:56:50.230Z"
   },
   {
    "duration": 135,
    "start_time": "2023-10-26T11:00:09.078Z"
   },
   {
    "duration": 151,
    "start_time": "2023-10-26T11:00:19.454Z"
   },
   {
    "duration": 170,
    "start_time": "2023-10-26T11:01:15.669Z"
   },
   {
    "duration": 189,
    "start_time": "2023-10-26T11:02:13.747Z"
   },
   {
    "duration": 177,
    "start_time": "2023-10-26T11:04:28.386Z"
   },
   {
    "duration": 187,
    "start_time": "2023-10-26T11:10:17.842Z"
   },
   {
    "duration": 192,
    "start_time": "2023-10-26T11:10:33.562Z"
   },
   {
    "duration": 1234,
    "start_time": "2023-10-26T11:11:02.219Z"
   },
   {
    "duration": 126,
    "start_time": "2023-10-26T11:11:03.455Z"
   },
   {
    "duration": 6,
    "start_time": "2023-10-26T11:11:03.583Z"
   },
   {
    "duration": 33,
    "start_time": "2023-10-26T11:11:03.590Z"
   },
   {
    "duration": 4,
    "start_time": "2023-10-26T11:11:03.626Z"
   },
   {
    "duration": 418,
    "start_time": "2023-10-26T11:11:03.632Z"
   },
   {
    "duration": 34,
    "start_time": "2023-10-26T11:11:04.052Z"
   },
   {
    "duration": 581,
    "start_time": "2023-10-26T11:11:04.088Z"
   },
   {
    "duration": 18,
    "start_time": "2023-10-26T11:11:04.671Z"
   },
   {
    "duration": 459,
    "start_time": "2023-10-26T11:11:04.690Z"
   },
   {
    "duration": 489,
    "start_time": "2023-10-26T11:11:05.150Z"
   },
   {
    "duration": 11,
    "start_time": "2023-10-26T11:11:05.640Z"
   },
   {
    "duration": 376,
    "start_time": "2023-10-26T11:11:05.653Z"
   },
   {
    "duration": 253,
    "start_time": "2023-10-26T11:11:06.032Z"
   },
   {
    "duration": 110,
    "start_time": "2023-10-26T11:13:55.459Z"
   },
   {
    "duration": 182,
    "start_time": "2023-10-26T11:14:18.996Z"
   },
   {
    "duration": 522,
    "start_time": "2023-10-26T11:14:49.499Z"
   },
   {
    "duration": 608,
    "start_time": "2023-10-26T11:15:49.265Z"
   },
   {
    "duration": 560,
    "start_time": "2023-10-26T11:16:04.751Z"
   },
   {
    "duration": 664,
    "start_time": "2023-10-26T11:16:50.697Z"
   },
   {
    "duration": 551,
    "start_time": "2023-10-26T11:18:03.678Z"
   },
   {
    "duration": 97,
    "start_time": "2023-10-26T11:19:10.890Z"
   },
   {
    "duration": 667,
    "start_time": "2023-10-26T11:19:20.243Z"
   },
   {
    "duration": 18,
    "start_time": "2023-10-26T11:23:51.995Z"
   },
   {
    "duration": 20,
    "start_time": "2023-10-26T11:24:19.893Z"
   },
   {
    "duration": 18,
    "start_time": "2023-10-26T11:25:11.323Z"
   },
   {
    "duration": 16,
    "start_time": "2023-10-26T11:25:41.178Z"
   },
   {
    "duration": 23,
    "start_time": "2023-10-26T11:25:57.386Z"
   },
   {
    "duration": 23,
    "start_time": "2023-10-26T11:26:24.232Z"
   },
   {
    "duration": 1170,
    "start_time": "2023-10-26T11:27:30.663Z"
   },
   {
    "duration": 127,
    "start_time": "2023-10-26T11:27:31.835Z"
   },
   {
    "duration": 5,
    "start_time": "2023-10-26T11:27:31.964Z"
   },
   {
    "duration": 45,
    "start_time": "2023-10-26T11:27:31.970Z"
   },
   {
    "duration": 30,
    "start_time": "2023-10-26T11:27:32.017Z"
   },
   {
    "duration": 449,
    "start_time": "2023-10-26T11:27:32.049Z"
   },
   {
    "duration": 40,
    "start_time": "2023-10-26T11:27:32.500Z"
   },
   {
    "duration": 575,
    "start_time": "2023-10-26T11:27:32.542Z"
   },
   {
    "duration": 20,
    "start_time": "2023-10-26T11:27:33.119Z"
   },
   {
    "duration": 469,
    "start_time": "2023-10-26T11:27:33.141Z"
   },
   {
    "duration": 461,
    "start_time": "2023-10-26T11:27:33.612Z"
   },
   {
    "duration": 12,
    "start_time": "2023-10-26T11:27:34.075Z"
   },
   {
    "duration": 326,
    "start_time": "2023-10-26T11:27:34.088Z"
   },
   {
    "duration": 658,
    "start_time": "2023-10-26T11:27:34.417Z"
   },
   {
    "duration": 35,
    "start_time": "2023-10-26T11:27:35.077Z"
   },
   {
    "duration": 13,
    "start_time": "2023-10-26T11:58:31.859Z"
   },
   {
    "duration": 16,
    "start_time": "2023-10-26T11:58:53.635Z"
   },
   {
    "duration": 435,
    "start_time": "2023-10-26T11:59:41.247Z"
   },
   {
    "duration": 37,
    "start_time": "2023-10-26T12:20:28.014Z"
   },
   {
    "duration": 37,
    "start_time": "2023-10-26T12:20:50.974Z"
   },
   {
    "duration": 33,
    "start_time": "2023-10-26T12:21:39.069Z"
   },
   {
    "duration": 265,
    "start_time": "2023-10-26T12:22:26.506Z"
   },
   {
    "duration": 51,
    "start_time": "2023-10-26T12:27:44.900Z"
   },
   {
    "duration": 46,
    "start_time": "2023-10-26T12:29:25.762Z"
   },
   {
    "duration": 48,
    "start_time": "2023-10-26T12:31:06.969Z"
   },
   {
    "duration": 47,
    "start_time": "2023-10-26T12:33:00.290Z"
   },
   {
    "duration": 31,
    "start_time": "2023-10-26T12:33:49.286Z"
   },
   {
    "duration": 45,
    "start_time": "2023-10-26T12:34:33.507Z"
   },
   {
    "duration": 39,
    "start_time": "2023-10-26T12:36:18.601Z"
   },
   {
    "duration": 33,
    "start_time": "2023-10-26T12:36:31.404Z"
   },
   {
    "duration": 41,
    "start_time": "2023-10-26T12:37:46.513Z"
   },
   {
    "duration": 40,
    "start_time": "2023-10-26T12:37:58.047Z"
   },
   {
    "duration": 43,
    "start_time": "2023-10-26T12:38:21.594Z"
   },
   {
    "duration": 112,
    "start_time": "2023-10-26T12:41:13.182Z"
   },
   {
    "duration": 46,
    "start_time": "2023-10-26T12:41:19.986Z"
   },
   {
    "duration": 21,
    "start_time": "2023-10-26T12:55:04.826Z"
   },
   {
    "duration": 515,
    "start_time": "2023-10-26T12:55:14.893Z"
   },
   {
    "duration": 513,
    "start_time": "2023-10-26T12:56:03.701Z"
   },
   {
    "duration": 30,
    "start_time": "2023-10-26T13:11:25.084Z"
   },
   {
    "duration": 31,
    "start_time": "2023-10-26T13:12:10.482Z"
   },
   {
    "duration": 64,
    "start_time": "2023-10-26T13:12:32.612Z"
   },
   {
    "duration": 62,
    "start_time": "2023-10-26T13:13:57.883Z"
   },
   {
    "duration": 491,
    "start_time": "2023-10-26T13:15:25.610Z"
   },
   {
    "duration": 603,
    "start_time": "2023-10-26T13:16:00.009Z"
   },
   {
    "duration": 492,
    "start_time": "2023-10-26T13:23:54.982Z"
   },
   {
    "duration": 542,
    "start_time": "2023-10-26T13:24:32.980Z"
   },
   {
    "duration": 566,
    "start_time": "2023-10-26T13:24:58.903Z"
   },
   {
    "duration": 839,
    "start_time": "2023-10-26T13:25:08.282Z"
   },
   {
    "duration": 87,
    "start_time": "2023-10-26T13:26:03.034Z"
   },
   {
    "duration": 895,
    "start_time": "2023-10-26T13:26:24.522Z"
   },
   {
    "duration": 22,
    "start_time": "2023-10-26T13:54:43.313Z"
   },
   {
    "duration": 33,
    "start_time": "2023-10-26T14:41:13.044Z"
   },
   {
    "duration": 40,
    "start_time": "2023-10-26T14:41:23.903Z"
   },
   {
    "duration": 62,
    "start_time": "2023-10-26T14:44:08.035Z"
   },
   {
    "duration": 16,
    "start_time": "2023-10-26T14:44:58.192Z"
   },
   {
    "duration": 114,
    "start_time": "2023-10-26T14:46:00.062Z"
   },
   {
    "duration": 29,
    "start_time": "2023-10-26T14:46:05.186Z"
   },
   {
    "duration": 1190,
    "start_time": "2023-10-26T14:49:45.742Z"
   },
   {
    "duration": 125,
    "start_time": "2023-10-26T14:49:46.934Z"
   },
   {
    "duration": 5,
    "start_time": "2023-10-26T14:49:47.060Z"
   },
   {
    "duration": 26,
    "start_time": "2023-10-26T14:49:47.067Z"
   },
   {
    "duration": 14,
    "start_time": "2023-10-26T14:49:47.096Z"
   },
   {
    "duration": 437,
    "start_time": "2023-10-26T14:49:47.112Z"
   },
   {
    "duration": 35,
    "start_time": "2023-10-26T14:49:47.551Z"
   },
   {
    "duration": 558,
    "start_time": "2023-10-26T14:49:47.588Z"
   },
   {
    "duration": 17,
    "start_time": "2023-10-26T14:49:48.147Z"
   },
   {
    "duration": 450,
    "start_time": "2023-10-26T14:49:48.166Z"
   },
   {
    "duration": 457,
    "start_time": "2023-10-26T14:49:48.618Z"
   },
   {
    "duration": 11,
    "start_time": "2023-10-26T14:49:49.077Z"
   },
   {
    "duration": 322,
    "start_time": "2023-10-26T14:49:49.089Z"
   },
   {
    "duration": 635,
    "start_time": "2023-10-26T14:49:49.415Z"
   },
   {
    "duration": 16,
    "start_time": "2023-10-26T14:49:50.052Z"
   },
   {
    "duration": 75,
    "start_time": "2023-10-26T14:49:50.070Z"
   },
   {
    "duration": 916,
    "start_time": "2023-10-26T14:49:50.147Z"
   },
   {
    "duration": 17,
    "start_time": "2023-10-26T14:49:51.065Z"
   },
   {
    "duration": 33,
    "start_time": "2023-10-26T14:49:51.083Z"
   },
   {
    "duration": 39,
    "start_time": "2023-10-26T14:49:51.117Z"
   },
   {
    "duration": 382,
    "start_time": "2023-10-26T14:49:51.158Z"
   },
   {
    "duration": 12,
    "start_time": "2023-10-26T14:50:55.899Z"
   },
   {
    "duration": 12,
    "start_time": "2023-10-26T14:51:14.350Z"
   },
   {
    "duration": 1189,
    "start_time": "2023-10-26T14:54:15.258Z"
   },
   {
    "duration": 124,
    "start_time": "2023-10-26T14:54:16.449Z"
   },
   {
    "duration": 5,
    "start_time": "2023-10-26T14:54:16.575Z"
   },
   {
    "duration": 53,
    "start_time": "2023-10-26T14:54:16.581Z"
   },
   {
    "duration": 5,
    "start_time": "2023-10-26T14:54:16.636Z"
   },
   {
    "duration": 422,
    "start_time": "2023-10-26T14:54:16.643Z"
   },
   {
    "duration": 44,
    "start_time": "2023-10-26T14:54:17.066Z"
   },
   {
    "duration": 628,
    "start_time": "2023-10-26T14:54:17.111Z"
   },
   {
    "duration": 21,
    "start_time": "2023-10-26T14:54:17.740Z"
   },
   {
    "duration": 491,
    "start_time": "2023-10-26T14:54:17.763Z"
   },
   {
    "duration": 471,
    "start_time": "2023-10-26T14:54:18.255Z"
   },
   {
    "duration": 11,
    "start_time": "2023-10-26T14:54:18.728Z"
   },
   {
    "duration": 314,
    "start_time": "2023-10-26T14:54:18.741Z"
   },
   {
    "duration": 597,
    "start_time": "2023-10-26T14:54:19.057Z"
   },
   {
    "duration": 25,
    "start_time": "2023-10-26T14:54:19.656Z"
   },
   {
    "duration": 73,
    "start_time": "2023-10-26T14:54:19.683Z"
   },
   {
    "duration": 905,
    "start_time": "2023-10-26T14:54:19.758Z"
   },
   {
    "duration": 16,
    "start_time": "2023-10-26T14:54:20.665Z"
   },
   {
    "duration": 41,
    "start_time": "2023-10-26T14:54:20.683Z"
   },
   {
    "duration": 55,
    "start_time": "2023-10-26T14:54:20.726Z"
   },
   {
    "duration": 39,
    "start_time": "2023-10-26T14:54:20.782Z"
   },
   {
    "duration": 403,
    "start_time": "2023-10-26T14:54:20.822Z"
   },
   {
    "duration": 29,
    "start_time": "2023-10-26T14:56:21.980Z"
   },
   {
    "duration": 30,
    "start_time": "2023-10-26T14:56:27.887Z"
   },
   {
    "duration": 28,
    "start_time": "2023-10-26T14:57:26.514Z"
   },
   {
    "duration": 28,
    "start_time": "2023-10-26T14:57:46.411Z"
   },
   {
    "duration": 30,
    "start_time": "2023-10-26T14:58:04.170Z"
   },
   {
    "duration": 31,
    "start_time": "2023-10-26T14:58:29.807Z"
   },
   {
    "duration": 2574,
    "start_time": "2023-10-26T15:01:35.194Z"
   },
   {
    "duration": 1182,
    "start_time": "2023-10-26T15:01:53.199Z"
   },
   {
    "duration": 120,
    "start_time": "2023-10-26T15:01:54.383Z"
   },
   {
    "duration": 5,
    "start_time": "2023-10-26T15:01:54.504Z"
   },
   {
    "duration": 82,
    "start_time": "2023-10-26T15:01:54.511Z"
   },
   {
    "duration": 18,
    "start_time": "2023-10-26T15:01:54.594Z"
   },
   {
    "duration": 428,
    "start_time": "2023-10-26T15:01:54.613Z"
   },
   {
    "duration": 40,
    "start_time": "2023-10-26T15:01:55.042Z"
   },
   {
    "duration": 606,
    "start_time": "2023-10-26T15:01:55.083Z"
   },
   {
    "duration": 23,
    "start_time": "2023-10-26T15:01:55.690Z"
   },
   {
    "duration": 492,
    "start_time": "2023-10-26T15:01:55.715Z"
   },
   {
    "duration": 509,
    "start_time": "2023-10-26T15:01:56.209Z"
   },
   {
    "duration": 11,
    "start_time": "2023-10-26T15:01:56.719Z"
   },
   {
    "duration": 371,
    "start_time": "2023-10-26T15:01:56.731Z"
   },
   {
    "duration": 683,
    "start_time": "2023-10-26T15:01:57.103Z"
   },
   {
    "duration": 121,
    "start_time": "2023-10-26T15:01:57.787Z"
   },
   {
    "duration": 0,
    "start_time": "2023-10-26T15:01:57.911Z"
   },
   {
    "duration": 0,
    "start_time": "2023-10-26T15:01:57.912Z"
   },
   {
    "duration": 0,
    "start_time": "2023-10-26T15:01:57.913Z"
   },
   {
    "duration": 0,
    "start_time": "2023-10-26T15:01:57.914Z"
   },
   {
    "duration": 0,
    "start_time": "2023-10-26T15:01:57.915Z"
   },
   {
    "duration": 0,
    "start_time": "2023-10-26T15:01:57.916Z"
   },
   {
    "duration": 0,
    "start_time": "2023-10-26T15:01:57.917Z"
   },
   {
    "duration": 1222,
    "start_time": "2023-10-26T15:02:38.683Z"
   },
   {
    "duration": 121,
    "start_time": "2023-10-26T15:02:39.907Z"
   },
   {
    "duration": 5,
    "start_time": "2023-10-26T15:02:40.030Z"
   },
   {
    "duration": 47,
    "start_time": "2023-10-26T15:02:40.037Z"
   },
   {
    "duration": 4,
    "start_time": "2023-10-26T15:02:40.086Z"
   },
   {
    "duration": 404,
    "start_time": "2023-10-26T15:02:40.092Z"
   },
   {
    "duration": 43,
    "start_time": "2023-10-26T15:02:40.497Z"
   },
   {
    "duration": 553,
    "start_time": "2023-10-26T15:02:40.542Z"
   },
   {
    "duration": 23,
    "start_time": "2023-10-26T15:02:41.096Z"
   },
   {
    "duration": 454,
    "start_time": "2023-10-26T15:02:41.122Z"
   },
   {
    "duration": 473,
    "start_time": "2023-10-26T15:02:41.578Z"
   },
   {
    "duration": 11,
    "start_time": "2023-10-26T15:02:42.053Z"
   },
   {
    "duration": 317,
    "start_time": "2023-10-26T15:02:42.066Z"
   },
   {
    "duration": 624,
    "start_time": "2023-10-26T15:02:42.384Z"
   },
   {
    "duration": 23,
    "start_time": "2023-10-26T15:02:43.010Z"
   },
   {
    "duration": 75,
    "start_time": "2023-10-26T15:02:43.035Z"
   },
   {
    "duration": 879,
    "start_time": "2023-10-26T15:02:43.112Z"
   },
   {
    "duration": 21,
    "start_time": "2023-10-26T15:02:43.993Z"
   },
   {
    "duration": 12,
    "start_time": "2023-10-26T15:02:44.015Z"
   },
   {
    "duration": 48,
    "start_time": "2023-10-26T15:02:44.029Z"
   },
   {
    "duration": 44,
    "start_time": "2023-10-26T15:02:44.079Z"
   },
   {
    "duration": 348,
    "start_time": "2023-10-26T15:02:44.125Z"
   },
   {
    "duration": 60,
    "start_time": "2023-10-26T15:11:42.991Z"
   },
   {
    "duration": 25,
    "start_time": "2023-10-26T15:12:51.329Z"
   },
   {
    "duration": 595,
    "start_time": "2023-10-26T15:13:42.070Z"
   },
   {
    "duration": 1145,
    "start_time": "2023-10-26T15:15:11.281Z"
   },
   {
    "duration": 134,
    "start_time": "2023-10-26T15:15:12.428Z"
   },
   {
    "duration": 5,
    "start_time": "2023-10-26T15:15:12.564Z"
   },
   {
    "duration": 21,
    "start_time": "2023-10-26T15:15:12.571Z"
   },
   {
    "duration": 4,
    "start_time": "2023-10-26T15:15:12.606Z"
   },
   {
    "duration": 392,
    "start_time": "2023-10-26T15:15:12.612Z"
   },
   {
    "duration": 38,
    "start_time": "2023-10-26T15:15:13.007Z"
   },
   {
    "duration": 572,
    "start_time": "2023-10-26T15:15:13.047Z"
   },
   {
    "duration": 18,
    "start_time": "2023-10-26T15:15:13.621Z"
   },
   {
    "duration": 447,
    "start_time": "2023-10-26T15:15:13.641Z"
   },
   {
    "duration": 446,
    "start_time": "2023-10-26T15:15:14.090Z"
   },
   {
    "duration": 11,
    "start_time": "2023-10-26T15:15:14.537Z"
   },
   {
    "duration": 320,
    "start_time": "2023-10-26T15:15:14.549Z"
   },
   {
    "duration": 615,
    "start_time": "2023-10-26T15:15:14.871Z"
   },
   {
    "duration": 34,
    "start_time": "2023-10-26T15:15:15.488Z"
   },
   {
    "duration": 52,
    "start_time": "2023-10-26T15:15:15.524Z"
   },
   {
    "duration": 980,
    "start_time": "2023-10-26T15:15:15.578Z"
   },
   {
    "duration": 18,
    "start_time": "2023-10-26T15:15:16.560Z"
   },
   {
    "duration": 69,
    "start_time": "2023-10-26T15:15:16.580Z"
   },
   {
    "duration": 46,
    "start_time": "2023-10-26T15:15:16.651Z"
   },
   {
    "duration": 39,
    "start_time": "2023-10-26T15:15:16.698Z"
   },
   {
    "duration": 346,
    "start_time": "2023-10-26T15:15:16.739Z"
   },
   {
    "duration": 1178,
    "start_time": "2023-10-26T15:16:47.025Z"
   },
   {
    "duration": 120,
    "start_time": "2023-10-26T15:16:48.205Z"
   },
   {
    "duration": 5,
    "start_time": "2023-10-26T15:16:48.326Z"
   },
   {
    "duration": 21,
    "start_time": "2023-10-26T15:16:48.333Z"
   },
   {
    "duration": 3,
    "start_time": "2023-10-26T15:16:48.356Z"
   },
   {
    "duration": 406,
    "start_time": "2023-10-26T15:16:48.360Z"
   },
   {
    "duration": 40,
    "start_time": "2023-10-26T15:16:48.767Z"
   },
   {
    "duration": 549,
    "start_time": "2023-10-26T15:16:48.809Z"
   },
   {
    "duration": 17,
    "start_time": "2023-10-26T15:16:49.359Z"
   },
   {
    "duration": 460,
    "start_time": "2023-10-26T15:16:49.379Z"
   },
   {
    "duration": 495,
    "start_time": "2023-10-26T15:16:49.840Z"
   },
   {
    "duration": 12,
    "start_time": "2023-10-26T15:16:50.337Z"
   },
   {
    "duration": 342,
    "start_time": "2023-10-26T15:16:50.350Z"
   },
   {
    "duration": 629,
    "start_time": "2023-10-26T15:16:50.693Z"
   },
   {
    "duration": 26,
    "start_time": "2023-10-26T15:16:51.323Z"
   },
   {
    "duration": 79,
    "start_time": "2023-10-26T15:16:51.351Z"
   },
   {
    "duration": 879,
    "start_time": "2023-10-26T15:16:51.431Z"
   },
   {
    "duration": 16,
    "start_time": "2023-10-26T15:16:52.312Z"
   },
   {
    "duration": 40,
    "start_time": "2023-10-26T15:16:52.330Z"
   },
   {
    "duration": 64,
    "start_time": "2023-10-26T15:16:52.371Z"
   },
   {
    "duration": 50,
    "start_time": "2023-10-26T15:16:52.437Z"
   },
   {
    "duration": 349,
    "start_time": "2023-10-26T15:16:52.488Z"
   },
   {
    "duration": 58,
    "start_time": "2023-10-26T15:18:01.854Z"
   },
   {
    "duration": 61,
    "start_time": "2023-10-26T15:18:50.800Z"
   },
   {
    "duration": 1158,
    "start_time": "2023-10-26T15:19:22.555Z"
   },
   {
    "duration": 125,
    "start_time": "2023-10-26T15:19:23.715Z"
   },
   {
    "duration": 5,
    "start_time": "2023-10-26T15:19:23.841Z"
   },
   {
    "duration": 21,
    "start_time": "2023-10-26T15:19:23.848Z"
   },
   {
    "duration": 4,
    "start_time": "2023-10-26T15:19:23.871Z"
   },
   {
    "duration": 414,
    "start_time": "2023-10-26T15:19:23.876Z"
   },
   {
    "duration": 44,
    "start_time": "2023-10-26T15:19:24.291Z"
   },
   {
    "duration": 587,
    "start_time": "2023-10-26T15:19:24.336Z"
   },
   {
    "duration": 19,
    "start_time": "2023-10-26T15:19:24.925Z"
   },
   {
    "duration": 454,
    "start_time": "2023-10-26T15:19:24.945Z"
   },
   {
    "duration": 488,
    "start_time": "2023-10-26T15:19:25.406Z"
   },
   {
    "duration": 16,
    "start_time": "2023-10-26T15:19:25.896Z"
   },
   {
    "duration": 387,
    "start_time": "2023-10-26T15:19:25.913Z"
   },
   {
    "duration": 640,
    "start_time": "2023-10-26T15:19:26.302Z"
   },
   {
    "duration": 27,
    "start_time": "2023-10-26T15:19:26.943Z"
   },
   {
    "duration": 80,
    "start_time": "2023-10-26T15:19:26.972Z"
   },
   {
    "duration": 900,
    "start_time": "2023-10-26T15:19:27.053Z"
   },
   {
    "duration": 17,
    "start_time": "2023-10-26T15:19:27.954Z"
   },
   {
    "duration": 13,
    "start_time": "2023-10-26T15:19:27.972Z"
   },
   {
    "duration": 55,
    "start_time": "2023-10-26T15:19:27.987Z"
   },
   {
    "duration": 55,
    "start_time": "2023-10-26T15:19:28.044Z"
   },
   {
    "duration": 353,
    "start_time": "2023-10-26T15:19:28.100Z"
   },
   {
    "duration": 1188,
    "start_time": "2023-10-26T15:26:54.627Z"
   },
   {
    "duration": 139,
    "start_time": "2023-10-26T15:26:55.818Z"
   },
   {
    "duration": 6,
    "start_time": "2023-10-26T15:26:55.959Z"
   },
   {
    "duration": 42,
    "start_time": "2023-10-26T15:26:55.967Z"
   },
   {
    "duration": 8,
    "start_time": "2023-10-26T15:26:56.011Z"
   },
   {
    "duration": 474,
    "start_time": "2023-10-26T15:26:56.021Z"
   },
   {
    "duration": 49,
    "start_time": "2023-10-26T15:26:56.497Z"
   },
   {
    "duration": 607,
    "start_time": "2023-10-26T15:26:56.548Z"
   },
   {
    "duration": 20,
    "start_time": "2023-10-26T15:26:57.157Z"
   },
   {
    "duration": 508,
    "start_time": "2023-10-26T15:26:57.178Z"
   },
   {
    "duration": 498,
    "start_time": "2023-10-26T15:26:57.688Z"
   },
   {
    "duration": 23,
    "start_time": "2023-10-26T15:26:58.188Z"
   },
   {
    "duration": 347,
    "start_time": "2023-10-26T15:26:58.218Z"
   },
   {
    "duration": 583,
    "start_time": "2023-10-26T15:26:58.567Z"
   },
   {
    "duration": 26,
    "start_time": "2023-10-26T15:26:59.152Z"
   },
   {
    "duration": 57,
    "start_time": "2023-10-26T15:26:59.179Z"
   },
   {
    "duration": 48,
    "start_time": "2023-10-26T15:26:59.238Z"
   },
   {
    "duration": 949,
    "start_time": "2023-10-26T15:26:59.288Z"
   },
   {
    "duration": 18,
    "start_time": "2023-10-26T15:27:00.238Z"
   },
   {
    "duration": 32,
    "start_time": "2023-10-26T15:27:00.257Z"
   },
   {
    "duration": 68,
    "start_time": "2023-10-26T15:27:00.291Z"
   },
   {
    "duration": 57,
    "start_time": "2023-10-26T15:27:00.361Z"
   },
   {
    "duration": 356,
    "start_time": "2023-10-26T15:27:00.420Z"
   },
   {
    "duration": 112,
    "start_time": "2023-10-26T15:41:19.137Z"
   },
   {
    "duration": 170,
    "start_time": "2023-10-26T15:41:46.451Z"
   },
   {
    "duration": 33,
    "start_time": "2023-10-26T15:42:33.654Z"
   },
   {
    "duration": 30,
    "start_time": "2023-10-26T15:43:27.555Z"
   },
   {
    "duration": 78,
    "start_time": "2023-10-26T15:46:08.329Z"
   },
   {
    "duration": 91,
    "start_time": "2023-10-26T15:47:56.761Z"
   },
   {
    "duration": 30,
    "start_time": "2023-10-26T15:48:21.275Z"
   },
   {
    "duration": 177,
    "start_time": "2023-10-26T15:49:22.896Z"
   },
   {
    "duration": 121,
    "start_time": "2023-10-26T15:49:32.153Z"
   },
   {
    "duration": 139,
    "start_time": "2023-10-26T15:53:25.286Z"
   },
   {
    "duration": 43,
    "start_time": "2023-10-26T15:54:26.480Z"
   },
   {
    "duration": 32,
    "start_time": "2023-10-26T15:56:10.662Z"
   },
   {
    "duration": 31,
    "start_time": "2023-10-26T15:57:51.752Z"
   },
   {
    "duration": 618,
    "start_time": "2023-10-26T16:11:28.190Z"
   },
   {
    "duration": 777,
    "start_time": "2023-10-26T16:13:09.112Z"
   },
   {
    "duration": 626,
    "start_time": "2023-10-26T16:13:19.171Z"
   },
   {
    "duration": 123,
    "start_time": "2023-10-26T16:14:22.426Z"
   },
   {
    "duration": 708,
    "start_time": "2023-10-26T16:14:37.468Z"
   },
   {
    "duration": 115,
    "start_time": "2023-10-26T16:15:20.580Z"
   },
   {
    "duration": 598,
    "start_time": "2023-10-26T16:15:28.852Z"
   },
   {
    "duration": 653,
    "start_time": "2023-10-26T16:15:58.619Z"
   },
   {
    "duration": 1386,
    "start_time": "2023-10-26T16:17:18.618Z"
   },
   {
    "duration": 1182,
    "start_time": "2023-10-26T16:17:24.442Z"
   },
   {
    "duration": 127,
    "start_time": "2023-10-26T16:17:25.627Z"
   },
   {
    "duration": 5,
    "start_time": "2023-10-26T16:17:25.755Z"
   },
   {
    "duration": 36,
    "start_time": "2023-10-26T16:17:25.761Z"
   },
   {
    "duration": 29,
    "start_time": "2023-10-26T16:17:25.799Z"
   },
   {
    "duration": 510,
    "start_time": "2023-10-26T16:17:25.829Z"
   },
   {
    "duration": 39,
    "start_time": "2023-10-26T16:17:26.340Z"
   },
   {
    "duration": 614,
    "start_time": "2023-10-26T16:17:26.381Z"
   },
   {
    "duration": 26,
    "start_time": "2023-10-26T16:17:26.997Z"
   },
   {
    "duration": 471,
    "start_time": "2023-10-26T16:17:27.025Z"
   },
   {
    "duration": 490,
    "start_time": "2023-10-26T16:17:27.506Z"
   },
   {
    "duration": 27,
    "start_time": "2023-10-26T16:17:27.997Z"
   },
   {
    "duration": 319,
    "start_time": "2023-10-26T16:17:28.026Z"
   },
   {
    "duration": 1648,
    "start_time": "2023-10-26T16:17:28.348Z"
   },
   {
    "duration": 0,
    "start_time": "2023-10-26T16:17:29.997Z"
   },
   {
    "duration": 0,
    "start_time": "2023-10-26T16:17:29.998Z"
   },
   {
    "duration": 0,
    "start_time": "2023-10-26T16:17:29.999Z"
   },
   {
    "duration": 0,
    "start_time": "2023-10-26T16:17:30.000Z"
   },
   {
    "duration": 0,
    "start_time": "2023-10-26T16:17:30.002Z"
   },
   {
    "duration": 0,
    "start_time": "2023-10-26T16:17:30.003Z"
   },
   {
    "duration": 0,
    "start_time": "2023-10-26T16:17:30.004Z"
   },
   {
    "duration": 0,
    "start_time": "2023-10-26T16:17:30.005Z"
   },
   {
    "duration": 0,
    "start_time": "2023-10-26T16:17:30.006Z"
   },
   {
    "duration": 0,
    "start_time": "2023-10-26T16:17:30.006Z"
   },
   {
    "duration": 671,
    "start_time": "2023-10-26T16:19:04.697Z"
   },
   {
    "duration": 656,
    "start_time": "2023-10-26T16:23:33.006Z"
   },
   {
    "duration": 681,
    "start_time": "2023-10-26T16:24:07.597Z"
   },
   {
    "duration": 657,
    "start_time": "2023-10-26T16:24:49.832Z"
   },
   {
    "duration": 593,
    "start_time": "2023-10-26T16:25:59.438Z"
   },
   {
    "duration": 1576,
    "start_time": "2023-10-26T16:26:38.066Z"
   },
   {
    "duration": 714,
    "start_time": "2023-10-26T16:28:29.113Z"
   },
   {
    "duration": 689,
    "start_time": "2023-10-26T16:29:08.933Z"
   },
   {
    "duration": 614,
    "start_time": "2023-10-26T16:34:17.523Z"
   },
   {
    "duration": 1457,
    "start_time": "2023-10-26T16:35:04.455Z"
   },
   {
    "duration": 161,
    "start_time": "2023-10-26T16:35:05.922Z"
   },
   {
    "duration": 5,
    "start_time": "2023-10-26T16:35:06.085Z"
   },
   {
    "duration": 69,
    "start_time": "2023-10-26T16:35:06.092Z"
   },
   {
    "duration": 5,
    "start_time": "2023-10-26T16:35:06.164Z"
   },
   {
    "duration": 483,
    "start_time": "2023-10-26T16:35:06.171Z"
   },
   {
    "duration": 39,
    "start_time": "2023-10-26T16:35:06.656Z"
   },
   {
    "duration": 630,
    "start_time": "2023-10-26T16:35:06.696Z"
   },
   {
    "duration": 20,
    "start_time": "2023-10-26T16:35:07.327Z"
   },
   {
    "duration": 511,
    "start_time": "2023-10-26T16:35:07.349Z"
   },
   {
    "duration": 497,
    "start_time": "2023-10-26T16:35:07.862Z"
   },
   {
    "duration": 12,
    "start_time": "2023-10-26T16:35:08.361Z"
   },
   {
    "duration": 354,
    "start_time": "2023-10-26T16:35:08.374Z"
   },
   {
    "duration": 639,
    "start_time": "2023-10-26T16:35:08.730Z"
   },
   {
    "duration": 27,
    "start_time": "2023-10-26T16:35:09.370Z"
   },
   {
    "duration": 39,
    "start_time": "2023-10-26T16:35:09.421Z"
   },
   {
    "duration": 62,
    "start_time": "2023-10-26T16:35:09.461Z"
   },
   {
    "duration": 982,
    "start_time": "2023-10-26T16:35:09.525Z"
   },
   {
    "duration": 21,
    "start_time": "2023-10-26T16:35:10.508Z"
   },
   {
    "duration": 34,
    "start_time": "2023-10-26T16:35:10.531Z"
   },
   {
    "duration": 29,
    "start_time": "2023-10-26T16:35:10.567Z"
   },
   {
    "duration": 40,
    "start_time": "2023-10-26T16:35:10.598Z"
   },
   {
    "duration": 17,
    "start_time": "2023-10-26T16:35:10.639Z"
   },
   {
    "duration": 401,
    "start_time": "2023-10-26T16:35:10.657Z"
   },
   {
    "duration": 34,
    "start_time": "2023-10-26T16:35:53.092Z"
   },
   {
    "duration": 243,
    "start_time": "2023-10-26T16:39:29.952Z"
   },
   {
    "duration": 4609,
    "start_time": "2023-10-26T16:39:56.161Z"
   },
   {
    "duration": 131,
    "start_time": "2023-10-26T16:40:59.217Z"
   },
   {
    "duration": 149,
    "start_time": "2023-10-26T16:41:19.182Z"
   },
   {
    "duration": 143,
    "start_time": "2023-10-26T16:42:11.354Z"
   },
   {
    "duration": 83,
    "start_time": "2023-10-26T16:42:16.603Z"
   },
   {
    "duration": 4,
    "start_time": "2023-10-26T16:46:22.345Z"
   },
   {
    "duration": 6,
    "start_time": "2023-10-26T16:59:36.646Z"
   },
   {
    "duration": 5,
    "start_time": "2023-10-26T16:59:46.462Z"
   },
   {
    "duration": 9,
    "start_time": "2023-10-26T17:05:57.074Z"
   },
   {
    "duration": 23,
    "start_time": "2023-10-26T17:07:41.097Z"
   },
   {
    "duration": 36,
    "start_time": "2023-10-26T17:08:18.907Z"
   },
   {
    "duration": 1242,
    "start_time": "2023-10-26T17:11:55.337Z"
   },
   {
    "duration": 134,
    "start_time": "2023-10-26T17:11:56.582Z"
   },
   {
    "duration": 5,
    "start_time": "2023-10-26T17:11:56.718Z"
   },
   {
    "duration": 30,
    "start_time": "2023-10-26T17:11:56.725Z"
   },
   {
    "duration": 13,
    "start_time": "2023-10-26T17:11:56.757Z"
   },
   {
    "duration": 452,
    "start_time": "2023-10-26T17:11:56.772Z"
   },
   {
    "duration": 48,
    "start_time": "2023-10-26T17:11:57.226Z"
   },
   {
    "duration": 718,
    "start_time": "2023-10-26T17:11:57.276Z"
   },
   {
    "duration": 36,
    "start_time": "2023-10-26T17:11:57.996Z"
   },
   {
    "duration": 496,
    "start_time": "2023-10-26T17:11:58.034Z"
   },
   {
    "duration": 512,
    "start_time": "2023-10-26T17:11:58.532Z"
   },
   {
    "duration": 11,
    "start_time": "2023-10-26T17:11:59.045Z"
   },
   {
    "duration": 328,
    "start_time": "2023-10-26T17:11:59.057Z"
   },
   {
    "duration": 636,
    "start_time": "2023-10-26T17:11:59.388Z"
   },
   {
    "duration": 30,
    "start_time": "2023-10-26T17:12:00.026Z"
   },
   {
    "duration": 127,
    "start_time": "2023-10-26T17:12:00.057Z"
   },
   {
    "duration": 83,
    "start_time": "2023-10-26T17:12:00.185Z"
   },
   {
    "duration": 953,
    "start_time": "2023-10-26T17:12:00.270Z"
   },
   {
    "duration": 17,
    "start_time": "2023-10-26T17:12:01.225Z"
   },
   {
    "duration": 180,
    "start_time": "2023-10-26T17:12:01.243Z"
   },
   {
    "duration": 91,
    "start_time": "2023-10-26T17:12:01.425Z"
   },
   {
    "duration": 636,
    "start_time": "2023-10-26T17:12:01.518Z"
   },
   {
    "duration": 102,
    "start_time": "2023-10-26T17:12:02.155Z"
   },
   {
    "duration": 144,
    "start_time": "2023-10-26T17:12:02.259Z"
   },
   {
    "duration": 57,
    "start_time": "2023-10-26T17:12:02.406Z"
   },
   {
    "duration": 41,
    "start_time": "2023-10-26T17:12:53.392Z"
   },
   {
    "duration": 95,
    "start_time": "2023-10-26T17:13:24.300Z"
   },
   {
    "duration": 105,
    "start_time": "2023-10-26T17:13:53.684Z"
   },
   {
    "duration": 108,
    "start_time": "2023-10-26T17:28:01.271Z"
   },
   {
    "duration": 115,
    "start_time": "2023-10-26T17:30:37.330Z"
   },
   {
    "duration": 200,
    "start_time": "2023-10-26T17:31:27.880Z"
   },
   {
    "duration": 4,
    "start_time": "2023-10-26T17:35:29.183Z"
   },
   {
    "duration": 250,
    "start_time": "2023-10-26T17:36:21.194Z"
   },
   {
    "duration": 22,
    "start_time": "2023-10-26T17:44:41.217Z"
   },
   {
    "duration": 14,
    "start_time": "2023-10-26T17:44:51.951Z"
   },
   {
    "duration": 13,
    "start_time": "2023-10-26T17:47:09.088Z"
   },
   {
    "duration": 23,
    "start_time": "2023-10-26T17:47:59.106Z"
   },
   {
    "duration": 40,
    "start_time": "2023-10-26T17:50:49.414Z"
   },
   {
    "duration": 42,
    "start_time": "2023-10-26T17:51:22.027Z"
   },
   {
    "duration": 57,
    "start_time": "2023-10-26T17:52:10.474Z"
   },
   {
    "duration": 45,
    "start_time": "2023-10-26T17:52:51.282Z"
   },
   {
    "duration": 97,
    "start_time": "2023-10-26T17:54:12.077Z"
   },
   {
    "duration": 49,
    "start_time": "2023-10-26T19:07:52.777Z"
   },
   {
    "duration": 115,
    "start_time": "2023-10-26T19:07:56.345Z"
   },
   {
    "duration": 63,
    "start_time": "2023-10-26T19:08:30.299Z"
   },
   {
    "duration": 113,
    "start_time": "2023-10-26T19:08:31.957Z"
   },
   {
    "duration": 169,
    "start_time": "2023-10-26T19:23:20.113Z"
   },
   {
    "duration": 98,
    "start_time": "2023-10-26T19:23:24.372Z"
   },
   {
    "duration": 62,
    "start_time": "2023-10-26T19:25:49.577Z"
   },
   {
    "duration": 50,
    "start_time": "2023-10-26T19:31:50.224Z"
   },
   {
    "duration": 57,
    "start_time": "2023-10-26T19:32:01.893Z"
   },
   {
    "duration": 55,
    "start_time": "2023-10-26T19:33:27.693Z"
   },
   {
    "duration": 114,
    "start_time": "2023-10-26T19:33:53.424Z"
   },
   {
    "duration": 63,
    "start_time": "2023-10-26T19:35:23.398Z"
   },
   {
    "duration": 114,
    "start_time": "2023-10-26T19:35:44.316Z"
   },
   {
    "duration": 58,
    "start_time": "2023-10-26T19:36:54.203Z"
   },
   {
    "duration": 116,
    "start_time": "2023-10-26T19:37:00.974Z"
   },
   {
    "duration": 112,
    "start_time": "2023-10-26T20:10:11.526Z"
   },
   {
    "duration": 126,
    "start_time": "2023-10-26T20:10:34.129Z"
   },
   {
    "duration": 141,
    "start_time": "2023-10-26T20:11:24.171Z"
   },
   {
    "duration": 37,
    "start_time": "2023-10-26T20:12:51.638Z"
   },
   {
    "duration": 1484,
    "start_time": "2023-10-26T20:41:19.867Z"
   },
   {
    "duration": 1183,
    "start_time": "2023-10-26T20:41:57.737Z"
   },
   {
    "duration": 1417,
    "start_time": "2023-10-26T20:43:36.302Z"
   },
   {
    "duration": 35,
    "start_time": "2023-10-26T20:45:26.175Z"
   },
   {
    "duration": 1404,
    "start_time": "2023-10-26T20:45:44.996Z"
   },
   {
    "duration": 360,
    "start_time": "2023-10-26T20:46:06.719Z"
   },
   {
    "duration": 347,
    "start_time": "2023-10-26T20:47:14.940Z"
   },
   {
    "duration": 489,
    "start_time": "2023-10-26T20:49:33.523Z"
   },
   {
    "duration": 1201,
    "start_time": "2023-10-26T20:51:34.719Z"
   },
   {
    "duration": 149,
    "start_time": "2023-10-26T20:51:35.925Z"
   },
   {
    "duration": 6,
    "start_time": "2023-10-26T20:51:36.076Z"
   },
   {
    "duration": 74,
    "start_time": "2023-10-26T20:51:36.084Z"
   },
   {
    "duration": 10,
    "start_time": "2023-10-26T20:51:36.160Z"
   },
   {
    "duration": 429,
    "start_time": "2023-10-26T20:51:36.172Z"
   },
   {
    "duration": 48,
    "start_time": "2023-10-26T20:51:36.602Z"
   },
   {
    "duration": 611,
    "start_time": "2023-10-26T20:51:36.651Z"
   },
   {
    "duration": 18,
    "start_time": "2023-10-26T20:51:37.264Z"
   },
   {
    "duration": 510,
    "start_time": "2023-10-26T20:51:37.285Z"
   },
   {
    "duration": 497,
    "start_time": "2023-10-26T20:51:37.797Z"
   },
   {
    "duration": 27,
    "start_time": "2023-10-26T20:51:38.295Z"
   },
   {
    "duration": 360,
    "start_time": "2023-10-26T20:51:38.323Z"
   },
   {
    "duration": 596,
    "start_time": "2023-10-26T20:51:38.685Z"
   },
   {
    "duration": 36,
    "start_time": "2023-10-26T20:51:39.283Z"
   },
   {
    "duration": 22,
    "start_time": "2023-10-26T20:51:39.321Z"
   },
   {
    "duration": 52,
    "start_time": "2023-10-26T20:51:39.346Z"
   },
   {
    "duration": 915,
    "start_time": "2023-10-26T20:51:39.408Z"
   },
   {
    "duration": 16,
    "start_time": "2023-10-26T20:51:40.325Z"
   },
   {
    "duration": 12,
    "start_time": "2023-10-26T20:51:40.342Z"
   },
   {
    "duration": 40,
    "start_time": "2023-10-26T20:51:40.356Z"
   },
   {
    "duration": 47,
    "start_time": "2023-10-26T20:51:40.397Z"
   },
   {
    "duration": 133,
    "start_time": "2023-10-26T20:51:40.446Z"
   },
   {
    "duration": 96,
    "start_time": "2023-10-26T20:52:44.539Z"
   },
   {
    "duration": 20,
    "start_time": "2023-10-26T20:53:36.373Z"
   },
   {
    "duration": 642,
    "start_time": "2023-10-26T20:55:17.018Z"
   },
   {
    "duration": 29,
    "start_time": "2023-10-26T21:00:48.040Z"
   },
   {
    "duration": 1199,
    "start_time": "2023-10-26T21:01:47.024Z"
   },
   {
    "duration": 123,
    "start_time": "2023-10-26T21:01:48.225Z"
   },
   {
    "duration": 5,
    "start_time": "2023-10-26T21:01:48.352Z"
   },
   {
    "duration": 32,
    "start_time": "2023-10-26T21:01:48.359Z"
   },
   {
    "duration": 9,
    "start_time": "2023-10-26T21:01:48.393Z"
   },
   {
    "duration": 420,
    "start_time": "2023-10-26T21:01:48.406Z"
   },
   {
    "duration": 36,
    "start_time": "2023-10-26T21:01:48.827Z"
   },
   {
    "duration": 568,
    "start_time": "2023-10-26T21:01:48.865Z"
   },
   {
    "duration": 18,
    "start_time": "2023-10-26T21:01:49.434Z"
   },
   {
    "duration": 455,
    "start_time": "2023-10-26T21:01:49.454Z"
   },
   {
    "duration": 507,
    "start_time": "2023-10-26T21:01:49.911Z"
   },
   {
    "duration": 11,
    "start_time": "2023-10-26T21:01:50.420Z"
   },
   {
    "duration": 366,
    "start_time": "2023-10-26T21:01:50.434Z"
   },
   {
    "duration": 616,
    "start_time": "2023-10-26T21:01:50.806Z"
   },
   {
    "duration": 23,
    "start_time": "2023-10-26T21:01:51.424Z"
   },
   {
    "duration": 23,
    "start_time": "2023-10-26T21:01:51.449Z"
   },
   {
    "duration": 62,
    "start_time": "2023-10-26T21:01:51.473Z"
   },
   {
    "duration": 978,
    "start_time": "2023-10-26T21:01:51.537Z"
   },
   {
    "duration": 17,
    "start_time": "2023-10-26T21:01:52.517Z"
   },
   {
    "duration": 20,
    "start_time": "2023-10-26T21:01:52.535Z"
   },
   {
    "duration": 37,
    "start_time": "2023-10-26T21:01:52.557Z"
   },
   {
    "duration": 56,
    "start_time": "2023-10-26T21:01:52.596Z"
   },
   {
    "duration": 119,
    "start_time": "2023-10-26T21:01:52.654Z"
   },
   {
    "duration": 9,
    "start_time": "2023-10-26T21:05:34.149Z"
   },
   {
    "duration": 12,
    "start_time": "2023-10-26T21:05:35.237Z"
   },
   {
    "duration": 46,
    "start_time": "2023-10-27T06:53:49.571Z"
   },
   {
    "duration": 1465,
    "start_time": "2023-10-27T06:54:00.388Z"
   },
   {
    "duration": 355,
    "start_time": "2023-10-27T06:54:01.855Z"
   },
   {
    "duration": 5,
    "start_time": "2023-10-27T06:54:02.212Z"
   },
   {
    "duration": 81,
    "start_time": "2023-10-27T06:54:02.218Z"
   },
   {
    "duration": 50,
    "start_time": "2023-10-27T06:54:02.301Z"
   },
   {
    "duration": 486,
    "start_time": "2023-10-27T06:54:02.353Z"
   },
   {
    "duration": 40,
    "start_time": "2023-10-27T06:54:02.840Z"
   },
   {
    "duration": 691,
    "start_time": "2023-10-27T06:54:02.882Z"
   },
   {
    "duration": 18,
    "start_time": "2023-10-27T06:54:03.576Z"
   },
   {
    "duration": 605,
    "start_time": "2023-10-27T06:54:03.596Z"
   },
   {
    "duration": 577,
    "start_time": "2023-10-27T06:54:04.203Z"
   },
   {
    "duration": 11,
    "start_time": "2023-10-27T06:54:04.783Z"
   },
   {
    "duration": 414,
    "start_time": "2023-10-27T06:54:04.796Z"
   },
   {
    "duration": 715,
    "start_time": "2023-10-27T06:54:05.213Z"
   },
   {
    "duration": 30,
    "start_time": "2023-10-27T06:54:05.930Z"
   },
   {
    "duration": 222,
    "start_time": "2023-10-27T06:54:05.962Z"
   },
   {
    "duration": 248,
    "start_time": "2023-10-27T06:54:06.187Z"
   },
   {
    "duration": 983,
    "start_time": "2023-10-27T06:54:06.437Z"
   },
   {
    "duration": 25,
    "start_time": "2023-10-27T06:54:07.422Z"
   },
   {
    "duration": 38,
    "start_time": "2023-10-27T06:54:07.449Z"
   },
   {
    "duration": 55,
    "start_time": "2023-10-27T06:54:07.489Z"
   },
   {
    "duration": 168,
    "start_time": "2023-10-27T06:54:07.546Z"
   },
   {
    "duration": 207,
    "start_time": "2023-10-27T06:54:07.716Z"
   },
   {
    "duration": 34,
    "start_time": "2023-10-27T06:54:07.925Z"
   },
   {
    "duration": 31,
    "start_time": "2023-10-27T06:57:24.507Z"
   },
   {
    "duration": 43,
    "start_time": "2023-10-27T07:00:57.622Z"
   },
   {
    "duration": 36,
    "start_time": "2023-10-27T07:02:56.642Z"
   },
   {
    "duration": 37,
    "start_time": "2023-10-27T07:04:32.201Z"
   },
   {
    "duration": 40,
    "start_time": "2023-10-27T07:04:46.277Z"
   },
   {
    "duration": 41,
    "start_time": "2023-10-27T07:06:11.873Z"
   },
   {
    "duration": 56,
    "start_time": "2023-10-27T07:09:07.573Z"
   },
   {
    "duration": 57,
    "start_time": "2023-10-27T07:12:53.422Z"
   },
   {
    "duration": 65,
    "start_time": "2023-10-27T07:27:22.681Z"
   },
   {
    "duration": 107,
    "start_time": "2023-10-27T07:29:15.859Z"
   },
   {
    "duration": 11,
    "start_time": "2023-10-27T07:29:45.846Z"
   },
   {
    "duration": 9,
    "start_time": "2023-10-27T07:29:57.480Z"
   },
   {
    "duration": 5962,
    "start_time": "2023-10-27T07:30:21.392Z"
   },
   {
    "duration": 5815,
    "start_time": "2023-10-27T07:30:55.118Z"
   },
   {
    "duration": 3717,
    "start_time": "2023-10-27T07:31:05.795Z"
   },
   {
    "duration": 59,
    "start_time": "2023-10-27T07:31:25.329Z"
   },
   {
    "duration": 9,
    "start_time": "2023-10-27T07:31:38.478Z"
   },
   {
    "duration": 17,
    "start_time": "2023-10-27T07:33:04.275Z"
   },
   {
    "duration": 170,
    "start_time": "2023-10-27T07:37:06.415Z"
   },
   {
    "duration": 162,
    "start_time": "2023-10-27T07:37:30.869Z"
   },
   {
    "duration": 210,
    "start_time": "2023-10-27T07:38:14.669Z"
   },
   {
    "duration": 185,
    "start_time": "2023-10-27T07:38:19.815Z"
   },
   {
    "duration": 1411,
    "start_time": "2023-10-27T07:40:44.531Z"
   },
   {
    "duration": 128,
    "start_time": "2023-10-27T07:40:45.945Z"
   },
   {
    "duration": 5,
    "start_time": "2023-10-27T07:40:46.075Z"
   },
   {
    "duration": 25,
    "start_time": "2023-10-27T07:40:46.081Z"
   },
   {
    "duration": 3,
    "start_time": "2023-10-27T07:40:46.108Z"
   },
   {
    "duration": 464,
    "start_time": "2023-10-27T07:40:46.113Z"
   },
   {
    "duration": 36,
    "start_time": "2023-10-27T07:40:46.579Z"
   },
   {
    "duration": 598,
    "start_time": "2023-10-27T07:40:46.617Z"
   },
   {
    "duration": 30,
    "start_time": "2023-10-27T07:40:47.217Z"
   },
   {
    "duration": 475,
    "start_time": "2023-10-27T07:40:47.249Z"
   },
   {
    "duration": 492,
    "start_time": "2023-10-27T07:40:47.726Z"
   },
   {
    "duration": 10,
    "start_time": "2023-10-27T07:40:48.220Z"
   },
   {
    "duration": 357,
    "start_time": "2023-10-27T07:40:48.244Z"
   },
   {
    "duration": 606,
    "start_time": "2023-10-27T07:40:48.604Z"
   },
   {
    "duration": 16,
    "start_time": "2023-10-27T07:40:49.212Z"
   },
   {
    "duration": 26,
    "start_time": "2023-10-27T07:40:49.243Z"
   },
   {
    "duration": 60,
    "start_time": "2023-10-27T07:40:49.271Z"
   },
   {
    "duration": 963,
    "start_time": "2023-10-27T07:40:49.333Z"
   },
   {
    "duration": 24,
    "start_time": "2023-10-27T07:40:50.298Z"
   },
   {
    "duration": 34,
    "start_time": "2023-10-27T07:40:50.324Z"
   },
   {
    "duration": 82,
    "start_time": "2023-10-27T07:40:50.361Z"
   },
   {
    "duration": 60,
    "start_time": "2023-10-27T07:40:50.451Z"
   },
   {
    "duration": 115,
    "start_time": "2023-10-27T07:40:50.513Z"
   },
   {
    "duration": 137,
    "start_time": "2023-10-27T07:40:50.631Z"
   },
   {
    "duration": 0,
    "start_time": "2023-10-27T07:40:50.771Z"
   },
   {
    "duration": 0,
    "start_time": "2023-10-27T07:40:50.773Z"
   },
   {
    "duration": 39,
    "start_time": "2023-10-27T07:41:12.227Z"
   },
   {
    "duration": 67,
    "start_time": "2023-10-27T07:41:52.835Z"
   },
   {
    "duration": 10,
    "start_time": "2023-10-27T07:41:57.475Z"
   },
   {
    "duration": 154,
    "start_time": "2023-10-27T07:41:59.285Z"
   },
   {
    "duration": 24,
    "start_time": "2023-10-27T07:42:20.989Z"
   },
   {
    "duration": 179,
    "start_time": "2023-10-27T07:42:48.304Z"
   },
   {
    "duration": 30,
    "start_time": "2023-10-27T07:43:33.511Z"
   },
   {
    "duration": 1216,
    "start_time": "2023-10-27T07:44:18.598Z"
   },
   {
    "duration": 145,
    "start_time": "2023-10-27T07:44:19.816Z"
   },
   {
    "duration": 5,
    "start_time": "2023-10-27T07:44:19.963Z"
   },
   {
    "duration": 40,
    "start_time": "2023-10-27T07:44:19.970Z"
   },
   {
    "duration": 3,
    "start_time": "2023-10-27T07:44:20.013Z"
   },
   {
    "duration": 450,
    "start_time": "2023-10-27T07:44:20.017Z"
   },
   {
    "duration": 58,
    "start_time": "2023-10-27T07:44:20.469Z"
   },
   {
    "duration": 632,
    "start_time": "2023-10-27T07:44:20.529Z"
   },
   {
    "duration": 19,
    "start_time": "2023-10-27T07:44:21.162Z"
   },
   {
    "duration": 476,
    "start_time": "2023-10-27T07:44:21.183Z"
   },
   {
    "duration": 483,
    "start_time": "2023-10-27T07:44:21.661Z"
   },
   {
    "duration": 17,
    "start_time": "2023-10-27T07:44:22.145Z"
   },
   {
    "duration": 361,
    "start_time": "2023-10-27T07:44:22.164Z"
   },
   {
    "duration": 661,
    "start_time": "2023-10-27T07:44:22.528Z"
   },
   {
    "duration": 17,
    "start_time": "2023-10-27T07:44:23.190Z"
   },
   {
    "duration": 104,
    "start_time": "2023-10-27T07:44:23.209Z"
   },
   {
    "duration": 49,
    "start_time": "2023-10-27T07:44:23.315Z"
   },
   {
    "duration": 983,
    "start_time": "2023-10-27T07:44:23.366Z"
   },
   {
    "duration": 29,
    "start_time": "2023-10-27T07:44:24.351Z"
   },
   {
    "duration": 15,
    "start_time": "2023-10-27T07:44:24.382Z"
   },
   {
    "duration": 57,
    "start_time": "2023-10-27T07:44:24.399Z"
   },
   {
    "duration": 57,
    "start_time": "2023-10-27T07:44:24.463Z"
   },
   {
    "duration": 120,
    "start_time": "2023-10-27T07:44:24.521Z"
   },
   {
    "duration": 76,
    "start_time": "2023-10-27T07:44:24.647Z"
   },
   {
    "duration": 17,
    "start_time": "2023-10-27T07:44:24.746Z"
   },
   {
    "duration": 311,
    "start_time": "2023-10-27T07:44:24.765Z"
   },
   {
    "duration": 251,
    "start_time": "2023-10-27T07:44:44.907Z"
   },
   {
    "duration": 222,
    "start_time": "2023-10-27T07:44:58.741Z"
   },
   {
    "duration": 207,
    "start_time": "2023-10-27T07:45:31.988Z"
   },
   {
    "duration": 231,
    "start_time": "2023-10-27T07:46:00.975Z"
   },
   {
    "duration": 682,
    "start_time": "2023-10-27T07:47:00.879Z"
   },
   {
    "duration": 466,
    "start_time": "2023-10-27T07:48:16.893Z"
   },
   {
    "duration": 467,
    "start_time": "2023-10-27T07:48:50.137Z"
   },
   {
    "duration": 411,
    "start_time": "2023-10-27T07:49:11.484Z"
   },
   {
    "duration": 201,
    "start_time": "2023-10-27T07:50:52.231Z"
   },
   {
    "duration": 10815,
    "start_time": "2023-10-27T07:55:07.083Z"
   },
   {
    "duration": 204,
    "start_time": "2023-10-27T07:55:17.924Z"
   },
   {
    "duration": 3548,
    "start_time": "2023-10-27T07:56:14.681Z"
   },
   {
    "duration": 1435,
    "start_time": "2023-10-27T07:56:18.232Z"
   },
   {
    "duration": 136,
    "start_time": "2023-10-27T07:56:19.668Z"
   },
   {
    "duration": 5,
    "start_time": "2023-10-27T07:56:19.806Z"
   },
   {
    "duration": 37,
    "start_time": "2023-10-27T07:56:19.813Z"
   },
   {
    "duration": 4,
    "start_time": "2023-10-27T07:56:19.852Z"
   },
   {
    "duration": 419,
    "start_time": "2023-10-27T07:56:19.858Z"
   },
   {
    "duration": 37,
    "start_time": "2023-10-27T07:56:20.279Z"
   },
   {
    "duration": 804,
    "start_time": "2023-10-27T07:56:20.318Z"
   },
   {
    "duration": 33,
    "start_time": "2023-10-27T07:56:21.124Z"
   },
   {
    "duration": 891,
    "start_time": "2023-10-27T07:56:21.159Z"
   },
   {
    "duration": 775,
    "start_time": "2023-10-27T07:56:22.052Z"
   },
   {
    "duration": 19,
    "start_time": "2023-10-27T07:56:22.829Z"
   },
   {
    "duration": 516,
    "start_time": "2023-10-27T07:56:22.852Z"
   },
   {
    "duration": 693,
    "start_time": "2023-10-27T07:56:23.370Z"
   },
   {
    "duration": 94,
    "start_time": "2023-10-27T07:56:24.065Z"
   },
   {
    "duration": 29,
    "start_time": "2023-10-27T07:56:24.161Z"
   },
   {
    "duration": 86,
    "start_time": "2023-10-27T07:56:24.192Z"
   },
   {
    "duration": 1158,
    "start_time": "2023-10-27T07:56:24.280Z"
   },
   {
    "duration": 21,
    "start_time": "2023-10-27T07:56:25.439Z"
   },
   {
    "duration": 9,
    "start_time": "2023-10-27T07:56:25.462Z"
   },
   {
    "duration": 17,
    "start_time": "2023-10-27T07:56:25.473Z"
   },
   {
    "duration": 58,
    "start_time": "2023-10-27T07:56:25.492Z"
   },
   {
    "duration": 123,
    "start_time": "2023-10-27T07:56:25.552Z"
   },
   {
    "duration": 141,
    "start_time": "2023-10-27T07:56:25.744Z"
   },
   {
    "duration": 13,
    "start_time": "2023-10-27T07:56:25.887Z"
   },
   {
    "duration": 539,
    "start_time": "2023-10-27T07:56:25.902Z"
   },
   {
    "duration": 880,
    "start_time": "2023-10-27T07:57:07.117Z"
   },
   {
    "duration": 397,
    "start_time": "2023-10-27T07:58:11.311Z"
   },
   {
    "duration": 16,
    "start_time": "2023-10-27T08:18:04.735Z"
   },
   {
    "duration": 20,
    "start_time": "2023-10-27T08:19:20.984Z"
   },
   {
    "duration": 24,
    "start_time": "2023-10-27T08:20:19.472Z"
   },
   {
    "duration": 24,
    "start_time": "2023-10-27T08:21:11.372Z"
   },
   {
    "duration": 22,
    "start_time": "2023-10-27T08:21:50.705Z"
   },
   {
    "duration": 1846,
    "start_time": "2023-10-27T08:24:04.891Z"
   },
   {
    "duration": 321,
    "start_time": "2023-10-27T08:24:11.271Z"
   },
   {
    "duration": 338,
    "start_time": "2023-10-27T08:24:34.866Z"
   },
   {
    "duration": 7,
    "start_time": "2023-10-27T08:24:44.974Z"
   },
   {
    "duration": 433,
    "start_time": "2023-10-27T08:24:47.073Z"
   },
   {
    "duration": 462,
    "start_time": "2023-10-27T08:32:00.771Z"
   },
   {
    "duration": 337,
    "start_time": "2023-10-27T08:32:52.366Z"
   },
   {
    "duration": 317,
    "start_time": "2023-10-27T08:33:45.101Z"
   },
   {
    "duration": 319,
    "start_time": "2023-10-27T08:33:51.882Z"
   },
   {
    "duration": 351,
    "start_time": "2023-10-27T08:34:06.142Z"
   },
   {
    "duration": 381,
    "start_time": "2023-10-27T08:35:16.794Z"
   },
   {
    "duration": 363,
    "start_time": "2023-10-27T08:36:16.810Z"
   },
   {
    "duration": 380,
    "start_time": "2023-10-27T08:37:00.012Z"
   },
   {
    "duration": 372,
    "start_time": "2023-10-27T08:38:00.281Z"
   },
   {
    "duration": 378,
    "start_time": "2023-10-27T08:38:31.673Z"
   },
   {
    "duration": 365,
    "start_time": "2023-10-27T08:39:42.226Z"
   },
   {
    "duration": 416,
    "start_time": "2023-10-27T08:40:50.790Z"
   },
   {
    "duration": 388,
    "start_time": "2023-10-27T08:41:09.940Z"
   },
   {
    "duration": 539,
    "start_time": "2023-10-27T08:41:25.875Z"
   },
   {
    "duration": 378,
    "start_time": "2023-10-27T08:43:47.373Z"
   },
   {
    "duration": 10507,
    "start_time": "2023-10-27T09:16:48.805Z"
   },
   {
    "duration": 3396,
    "start_time": "2023-10-27T09:20:01.596Z"
   },
   {
    "duration": 2460,
    "start_time": "2023-10-27T09:20:04.994Z"
   },
   {
    "duration": 128,
    "start_time": "2023-10-27T09:20:07.455Z"
   },
   {
    "duration": 5,
    "start_time": "2023-10-27T09:20:07.584Z"
   },
   {
    "duration": 34,
    "start_time": "2023-10-27T09:20:07.591Z"
   },
   {
    "duration": 6,
    "start_time": "2023-10-27T09:20:07.626Z"
   },
   {
    "duration": 413,
    "start_time": "2023-10-27T09:20:07.633Z"
   },
   {
    "duration": 38,
    "start_time": "2023-10-27T09:20:08.048Z"
   },
   {
    "duration": 842,
    "start_time": "2023-10-27T09:20:08.088Z"
   },
   {
    "duration": 23,
    "start_time": "2023-10-27T09:20:08.931Z"
   },
   {
    "duration": 873,
    "start_time": "2023-10-27T09:20:08.956Z"
   },
   {
    "duration": 818,
    "start_time": "2023-10-27T09:20:09.831Z"
   },
   {
    "duration": 11,
    "start_time": "2023-10-27T09:20:10.650Z"
   },
   {
    "duration": 498,
    "start_time": "2023-10-27T09:20:10.664Z"
   },
   {
    "duration": 615,
    "start_time": "2023-10-27T09:20:11.164Z"
   },
   {
    "duration": 76,
    "start_time": "2023-10-27T09:20:11.780Z"
   },
   {
    "duration": 89,
    "start_time": "2023-10-27T09:20:11.857Z"
   },
   {
    "duration": 40,
    "start_time": "2023-10-27T09:20:11.947Z"
   },
   {
    "duration": 1129,
    "start_time": "2023-10-27T09:20:11.989Z"
   },
   {
    "duration": 26,
    "start_time": "2023-10-27T09:20:13.121Z"
   },
   {
    "duration": 9,
    "start_time": "2023-10-27T09:20:13.148Z"
   },
   {
    "duration": 22,
    "start_time": "2023-10-27T09:20:13.159Z"
   },
   {
    "duration": 43,
    "start_time": "2023-10-27T09:20:13.182Z"
   },
   {
    "duration": 142,
    "start_time": "2023-10-27T09:20:13.227Z"
   },
   {
    "duration": 143,
    "start_time": "2023-10-27T09:20:13.371Z"
   },
   {
    "duration": 38,
    "start_time": "2023-10-27T09:20:13.515Z"
   },
   {
    "duration": 336,
    "start_time": "2023-10-27T09:20:13.555Z"
   },
   {
    "duration": 14,
    "start_time": "2023-10-27T09:20:13.893Z"
   },
   {
    "duration": 6,
    "start_time": "2023-10-27T09:20:13.908Z"
   },
   {
    "duration": 508,
    "start_time": "2023-10-27T09:20:13.915Z"
   },
   {
    "duration": 2,
    "start_time": "2023-10-27T09:20:14.425Z"
   },
   {
    "duration": 1590,
    "start_time": "2023-10-27T09:20:34.909Z"
   },
   {
    "duration": 1247,
    "start_time": "2023-10-27T09:21:31.602Z"
   },
   {
    "duration": 1681,
    "start_time": "2023-10-27T09:22:22.969Z"
   },
   {
    "duration": 3843,
    "start_time": "2023-10-27T09:24:21.629Z"
   },
   {
    "duration": 1700,
    "start_time": "2023-10-27T09:24:54.797Z"
   },
   {
    "duration": 4014,
    "start_time": "2023-10-27T09:26:05.897Z"
   },
   {
    "duration": 3335,
    "start_time": "2023-10-27T09:34:16.934Z"
   },
   {
    "duration": 3123,
    "start_time": "2023-10-27T09:35:07.774Z"
   },
   {
    "duration": 9497,
    "start_time": "2023-10-28T16:03:10.280Z"
   },
   {
    "duration": 1330,
    "start_time": "2023-10-28T16:03:19.779Z"
   },
   {
    "duration": 166,
    "start_time": "2023-10-28T16:03:21.110Z"
   },
   {
    "duration": 3,
    "start_time": "2023-10-28T16:03:21.278Z"
   },
   {
    "duration": 45,
    "start_time": "2023-10-28T16:03:21.283Z"
   },
   {
    "duration": 12,
    "start_time": "2023-10-28T16:03:21.330Z"
   },
   {
    "duration": 428,
    "start_time": "2023-10-28T16:03:21.343Z"
   },
   {
    "duration": 35,
    "start_time": "2023-10-28T16:03:21.773Z"
   },
   {
    "duration": 841,
    "start_time": "2023-10-28T16:03:21.809Z"
   },
   {
    "duration": 17,
    "start_time": "2023-10-28T16:03:22.652Z"
   },
   {
    "duration": 728,
    "start_time": "2023-10-28T16:03:22.670Z"
   },
   {
    "duration": 656,
    "start_time": "2023-10-28T16:03:23.399Z"
   },
   {
    "duration": 9,
    "start_time": "2023-10-28T16:03:24.056Z"
   },
   {
    "duration": 447,
    "start_time": "2023-10-28T16:03:24.067Z"
   },
   {
    "duration": 534,
    "start_time": "2023-10-28T16:03:24.515Z"
   },
   {
    "duration": 89,
    "start_time": "2023-10-28T16:03:25.050Z"
   },
   {
    "duration": 18,
    "start_time": "2023-10-28T16:03:25.141Z"
   },
   {
    "duration": 38,
    "start_time": "2023-10-28T16:03:25.160Z"
   },
   {
    "duration": 1007,
    "start_time": "2023-10-28T16:03:25.199Z"
   },
   {
    "duration": 14,
    "start_time": "2023-10-28T16:03:26.207Z"
   },
   {
    "duration": 18,
    "start_time": "2023-10-28T16:03:26.222Z"
   },
   {
    "duration": 11,
    "start_time": "2023-10-28T16:03:26.241Z"
   },
   {
    "duration": 63,
    "start_time": "2023-10-28T16:03:26.254Z"
   },
   {
    "duration": 237,
    "start_time": "2023-10-28T16:03:26.318Z"
   },
   {
    "duration": 59,
    "start_time": "2023-10-28T16:03:26.557Z"
   },
   {
    "duration": 11,
    "start_time": "2023-10-28T16:03:26.639Z"
   },
   {
    "duration": 398,
    "start_time": "2023-10-28T16:03:26.651Z"
   },
   {
    "duration": 11,
    "start_time": "2023-10-28T16:03:27.051Z"
   },
   {
    "duration": 22,
    "start_time": "2023-10-28T16:03:27.063Z"
   },
   {
    "duration": 320,
    "start_time": "2023-10-28T16:03:27.087Z"
   },
   {
    "duration": 2,
    "start_time": "2023-10-28T16:03:27.409Z"
   },
   {
    "duration": 1257,
    "start_time": "2023-10-28T16:56:04.832Z"
   },
   {
    "duration": 28,
    "start_time": "2023-10-28T17:02:47.720Z"
   },
   {
    "duration": 117,
    "start_time": "2023-10-28T17:11:12.036Z"
   },
   {
    "duration": 3034,
    "start_time": "2023-10-28T17:11:47.722Z"
   },
   {
    "duration": 1243,
    "start_time": "2023-10-28T17:11:50.758Z"
   },
   {
    "duration": 142,
    "start_time": "2023-10-28T17:11:52.002Z"
   },
   {
    "duration": 19,
    "start_time": "2023-10-28T17:11:52.145Z"
   },
   {
    "duration": 24,
    "start_time": "2023-10-28T17:11:52.169Z"
   },
   {
    "duration": 14,
    "start_time": "2023-10-28T17:11:52.195Z"
   },
   {
    "duration": 595,
    "start_time": "2023-10-28T17:11:52.211Z"
   },
   {
    "duration": 70,
    "start_time": "2023-10-28T17:11:52.807Z"
   },
   {
    "duration": 873,
    "start_time": "2023-10-28T17:11:52.879Z"
   },
   {
    "duration": 24,
    "start_time": "2023-10-28T17:11:53.753Z"
   },
   {
    "duration": 899,
    "start_time": "2023-10-28T17:11:53.779Z"
   },
   {
    "duration": 764,
    "start_time": "2023-10-28T17:11:54.680Z"
   },
   {
    "duration": 26,
    "start_time": "2023-10-28T17:11:55.456Z"
   },
   {
    "duration": 610,
    "start_time": "2023-10-28T17:11:55.486Z"
   },
   {
    "duration": 167,
    "start_time": "2023-10-28T17:11:56.098Z"
   },
   {
    "duration": 705,
    "start_time": "2023-10-28T17:11:56.267Z"
   },
   {
    "duration": 86,
    "start_time": "2023-10-28T17:11:56.974Z"
   },
   {
    "duration": 24,
    "start_time": "2023-10-28T17:11:57.062Z"
   },
   {
    "duration": 77,
    "start_time": "2023-10-28T17:11:57.088Z"
   },
   {
    "duration": 1016,
    "start_time": "2023-10-28T17:11:57.166Z"
   },
   {
    "duration": 17,
    "start_time": "2023-10-28T17:11:58.183Z"
   },
   {
    "duration": 10,
    "start_time": "2023-10-28T17:11:58.202Z"
   },
   {
    "duration": 49,
    "start_time": "2023-10-28T17:11:58.213Z"
   },
   {
    "duration": 58,
    "start_time": "2023-10-28T17:11:58.264Z"
   },
   {
    "duration": 339,
    "start_time": "2023-10-28T17:11:58.324Z"
   },
   {
    "duration": 94,
    "start_time": "2023-10-28T17:11:58.666Z"
   },
   {
    "duration": 23,
    "start_time": "2023-10-28T17:11:58.761Z"
   },
   {
    "duration": 391,
    "start_time": "2023-10-28T17:11:58.786Z"
   },
   {
    "duration": 17,
    "start_time": "2023-10-28T17:11:59.179Z"
   },
   {
    "duration": 8,
    "start_time": "2023-10-28T17:11:59.198Z"
   },
   {
    "duration": 455,
    "start_time": "2023-10-28T17:11:59.208Z"
   },
   {
    "duration": 2,
    "start_time": "2023-10-28T17:11:59.665Z"
   },
   {
    "duration": 424,
    "start_time": "2023-10-28T17:17:00.487Z"
   },
   {
    "duration": 1233,
    "start_time": "2023-10-28T17:17:02.812Z"
   },
   {
    "duration": 2844,
    "start_time": "2023-10-28T17:17:40.766Z"
   },
   {
    "duration": 1192,
    "start_time": "2023-10-28T17:17:43.612Z"
   },
   {
    "duration": 121,
    "start_time": "2023-10-28T17:17:44.807Z"
   },
   {
    "duration": 14,
    "start_time": "2023-10-28T17:17:44.930Z"
   },
   {
    "duration": 41,
    "start_time": "2023-10-28T17:17:44.945Z"
   },
   {
    "duration": 3,
    "start_time": "2023-10-28T17:17:44.988Z"
   },
   {
    "duration": 465,
    "start_time": "2023-10-28T17:17:44.993Z"
   },
   {
    "duration": 42,
    "start_time": "2023-10-28T17:17:45.460Z"
   },
   {
    "duration": 770,
    "start_time": "2023-10-28T17:17:45.505Z"
   },
   {
    "duration": 18,
    "start_time": "2023-10-28T17:17:46.276Z"
   },
   {
    "duration": 788,
    "start_time": "2023-10-28T17:17:46.296Z"
   },
   {
    "duration": 717,
    "start_time": "2023-10-28T17:17:47.085Z"
   },
   {
    "duration": 10,
    "start_time": "2023-10-28T17:17:47.804Z"
   },
   {
    "duration": 485,
    "start_time": "2023-10-28T17:17:47.815Z"
   },
   {
    "duration": 82,
    "start_time": "2023-10-28T17:17:48.302Z"
   },
   {
    "duration": 607,
    "start_time": "2023-10-28T17:17:48.439Z"
   },
   {
    "duration": 18,
    "start_time": "2023-10-28T17:17:49.051Z"
   },
   {
    "duration": 103,
    "start_time": "2023-10-28T17:17:49.070Z"
   },
   {
    "duration": 37,
    "start_time": "2023-10-28T17:17:49.175Z"
   },
   {
    "duration": 997,
    "start_time": "2023-10-28T17:17:49.214Z"
   },
   {
    "duration": 43,
    "start_time": "2023-10-28T17:17:50.213Z"
   },
   {
    "duration": 10,
    "start_time": "2023-10-28T17:17:50.258Z"
   },
   {
    "duration": 11,
    "start_time": "2023-10-28T17:17:50.269Z"
   },
   {
    "duration": 36,
    "start_time": "2023-10-28T17:17:50.282Z"
   },
   {
    "duration": 208,
    "start_time": "2023-10-28T17:17:50.348Z"
   },
   {
    "duration": 110,
    "start_time": "2023-10-28T17:17:50.557Z"
   },
   {
    "duration": 13,
    "start_time": "2023-10-28T17:17:50.670Z"
   },
   {
    "duration": 410,
    "start_time": "2023-10-28T17:17:50.684Z"
   },
   {
    "duration": 11,
    "start_time": "2023-10-28T17:17:51.096Z"
   },
   {
    "duration": 5,
    "start_time": "2023-10-28T17:17:51.109Z"
   },
   {
    "duration": 451,
    "start_time": "2023-10-28T17:17:51.115Z"
   },
   {
    "duration": 3,
    "start_time": "2023-10-28T17:17:51.568Z"
   },
   {
    "duration": 138,
    "start_time": "2023-10-28T17:20:11.418Z"
   },
   {
    "duration": 442,
    "start_time": "2023-10-28T17:20:28.220Z"
   },
   {
    "duration": 2839,
    "start_time": "2023-10-28T17:21:11.497Z"
   },
   {
    "duration": 1197,
    "start_time": "2023-10-28T17:21:14.338Z"
   },
   {
    "duration": 117,
    "start_time": "2023-10-28T17:21:15.536Z"
   },
   {
    "duration": 4,
    "start_time": "2023-10-28T17:21:15.655Z"
   },
   {
    "duration": 25,
    "start_time": "2023-10-28T17:21:15.660Z"
   },
   {
    "duration": 3,
    "start_time": "2023-10-28T17:21:15.686Z"
   },
   {
    "duration": 430,
    "start_time": "2023-10-28T17:21:15.691Z"
   },
   {
    "duration": 49,
    "start_time": "2023-10-28T17:21:16.122Z"
   },
   {
    "duration": 740,
    "start_time": "2023-10-28T17:21:16.173Z"
   },
   {
    "duration": 28,
    "start_time": "2023-10-28T17:21:16.916Z"
   },
   {
    "duration": 725,
    "start_time": "2023-10-28T17:21:16.945Z"
   },
   {
    "duration": 682,
    "start_time": "2023-10-28T17:21:17.672Z"
   },
   {
    "duration": 10,
    "start_time": "2023-10-28T17:21:18.355Z"
   },
   {
    "duration": 431,
    "start_time": "2023-10-28T17:21:18.367Z"
   },
   {
    "duration": 141,
    "start_time": "2023-10-28T17:21:18.799Z"
   },
   {
    "duration": 697,
    "start_time": "2023-10-28T17:21:18.942Z"
   },
   {
    "duration": 17,
    "start_time": "2023-10-28T17:21:19.641Z"
   },
   {
    "duration": 100,
    "start_time": "2023-10-28T17:21:19.660Z"
   },
   {
    "duration": 37,
    "start_time": "2023-10-28T17:21:19.761Z"
   },
   {
    "duration": 976,
    "start_time": "2023-10-28T17:21:19.799Z"
   },
   {
    "duration": 15,
    "start_time": "2023-10-28T17:21:20.776Z"
   },
   {
    "duration": 16,
    "start_time": "2023-10-28T17:21:20.792Z"
   },
   {
    "duration": 20,
    "start_time": "2023-10-28T17:21:20.809Z"
   },
   {
    "duration": 49,
    "start_time": "2023-10-28T17:21:20.830Z"
   },
   {
    "duration": 259,
    "start_time": "2023-10-28T17:21:20.881Z"
   },
   {
    "duration": 65,
    "start_time": "2023-10-28T17:21:21.142Z"
   },
   {
    "duration": 38,
    "start_time": "2023-10-28T17:21:21.209Z"
   },
   {
    "duration": 331,
    "start_time": "2023-10-28T17:21:21.249Z"
   },
   {
    "duration": 13,
    "start_time": "2023-10-28T17:21:21.582Z"
   },
   {
    "duration": 15,
    "start_time": "2023-10-28T17:21:21.596Z"
   },
   {
    "duration": 450,
    "start_time": "2023-10-28T17:21:21.613Z"
   },
   {
    "duration": 2,
    "start_time": "2023-10-28T17:21:22.064Z"
   },
   {
    "duration": 2738,
    "start_time": "2023-10-28T19:50:53.333Z"
   },
   {
    "duration": 1135,
    "start_time": "2023-10-28T19:50:56.073Z"
   },
   {
    "duration": 113,
    "start_time": "2023-10-28T19:50:57.209Z"
   },
   {
    "duration": 4,
    "start_time": "2023-10-28T19:50:57.323Z"
   },
   {
    "duration": 27,
    "start_time": "2023-10-28T19:50:57.329Z"
   },
   {
    "duration": 4,
    "start_time": "2023-10-28T19:50:57.357Z"
   },
   {
    "duration": 418,
    "start_time": "2023-10-28T19:50:57.363Z"
   },
   {
    "duration": 34,
    "start_time": "2023-10-28T19:50:57.783Z"
   },
   {
    "duration": 792,
    "start_time": "2023-10-28T19:50:57.818Z"
   },
   {
    "duration": 26,
    "start_time": "2023-10-28T19:50:58.613Z"
   },
   {
    "duration": 781,
    "start_time": "2023-10-28T19:50:58.641Z"
   },
   {
    "duration": 741,
    "start_time": "2023-10-28T19:50:59.423Z"
   },
   {
    "duration": 9,
    "start_time": "2023-10-28T19:51:00.166Z"
   },
   {
    "duration": 451,
    "start_time": "2023-10-28T19:51:00.176Z"
   },
   {
    "duration": 128,
    "start_time": "2023-10-28T19:51:00.629Z"
   },
   {
    "duration": 611,
    "start_time": "2023-10-28T19:51:00.758Z"
   },
   {
    "duration": 84,
    "start_time": "2023-10-28T19:51:01.371Z"
   },
   {
    "duration": 97,
    "start_time": "2023-10-28T19:51:01.460Z"
   },
   {
    "duration": 62,
    "start_time": "2023-10-28T19:51:01.559Z"
   },
   {
    "duration": 1049,
    "start_time": "2023-10-28T19:51:01.623Z"
   },
   {
    "duration": 20,
    "start_time": "2023-10-28T19:51:02.674Z"
   },
   {
    "duration": 10,
    "start_time": "2023-10-28T19:51:02.696Z"
   },
   {
    "duration": 39,
    "start_time": "2023-10-28T19:51:02.707Z"
   },
   {
    "duration": 43,
    "start_time": "2023-10-28T19:51:02.748Z"
   },
   {
    "duration": 256,
    "start_time": "2023-10-28T19:51:02.792Z"
   },
   {
    "duration": 64,
    "start_time": "2023-10-28T19:51:03.050Z"
   },
   {
    "duration": 40,
    "start_time": "2023-10-28T19:51:03.115Z"
   },
   {
    "duration": 355,
    "start_time": "2023-10-28T19:51:03.159Z"
   },
   {
    "duration": 13,
    "start_time": "2023-10-28T19:51:03.515Z"
   },
   {
    "duration": 9,
    "start_time": "2023-10-28T19:51:03.540Z"
   },
   {
    "duration": 417,
    "start_time": "2023-10-28T19:51:03.550Z"
   },
   {
    "duration": 2,
    "start_time": "2023-10-28T19:51:03.969Z"
   },
   {
    "duration": 9134,
    "start_time": "2023-10-29T16:36:49.192Z"
   },
   {
    "duration": 1279,
    "start_time": "2023-10-29T16:36:58.329Z"
   },
   {
    "duration": 189,
    "start_time": "2023-10-29T16:36:59.610Z"
   },
   {
    "duration": 4,
    "start_time": "2023-10-29T16:36:59.801Z"
   },
   {
    "duration": 29,
    "start_time": "2023-10-29T16:36:59.807Z"
   },
   {
    "duration": 10,
    "start_time": "2023-10-29T16:36:59.838Z"
   },
   {
    "duration": 443,
    "start_time": "2023-10-29T16:36:59.850Z"
   },
   {
    "duration": 40,
    "start_time": "2023-10-29T16:37:00.301Z"
   },
   {
    "duration": 868,
    "start_time": "2023-10-29T16:37:00.343Z"
   },
   {
    "duration": 20,
    "start_time": "2023-10-29T16:37:01.214Z"
   },
   {
    "duration": 871,
    "start_time": "2023-10-29T16:37:01.236Z"
   },
   {
    "duration": 785,
    "start_time": "2023-10-29T16:37:02.109Z"
   },
   {
    "duration": 11,
    "start_time": "2023-10-29T16:37:02.901Z"
   },
   {
    "duration": 23,
    "start_time": "2023-10-29T16:37:02.914Z"
   },
   {
    "duration": 573,
    "start_time": "2023-10-29T16:37:02.939Z"
   },
   {
    "duration": 103,
    "start_time": "2023-10-29T16:37:03.514Z"
   },
   {
    "duration": 806,
    "start_time": "2023-10-29T16:37:03.619Z"
   },
   {
    "duration": 85,
    "start_time": "2023-10-29T16:37:04.427Z"
   },
   {
    "duration": 26,
    "start_time": "2023-10-29T16:37:04.513Z"
   },
   {
    "duration": 95,
    "start_time": "2023-10-29T16:37:04.540Z"
   },
   {
    "duration": 1188,
    "start_time": "2023-10-29T16:37:04.637Z"
   },
   {
    "duration": 16,
    "start_time": "2023-10-29T16:37:05.827Z"
   },
   {
    "duration": 163,
    "start_time": "2023-10-29T16:37:05.845Z"
   },
   {
    "duration": 23,
    "start_time": "2023-10-29T16:37:06.010Z"
   },
   {
    "duration": 76,
    "start_time": "2023-10-29T16:37:06.035Z"
   },
   {
    "duration": 313,
    "start_time": "2023-10-29T16:37:06.113Z"
   },
   {
    "duration": 88,
    "start_time": "2023-10-29T16:37:06.427Z"
   },
   {
    "duration": 15,
    "start_time": "2023-10-29T16:37:06.518Z"
   },
   {
    "duration": 429,
    "start_time": "2023-10-29T16:37:06.535Z"
   },
   {
    "duration": 13,
    "start_time": "2023-10-29T16:37:06.966Z"
   },
   {
    "duration": 20,
    "start_time": "2023-10-29T16:37:06.981Z"
   },
   {
    "duration": 465,
    "start_time": "2023-10-29T16:37:07.003Z"
   },
   {
    "duration": 2,
    "start_time": "2023-10-29T16:37:07.470Z"
   },
   {
    "duration": 52,
    "start_time": "2023-10-30T18:26:14.820Z"
   },
   {
    "duration": 16739,
    "start_time": "2023-10-30T18:33:55.092Z"
   },
   {
    "duration": 1494,
    "start_time": "2023-10-30T18:34:11.833Z"
   },
   {
    "duration": 184,
    "start_time": "2023-10-30T18:34:13.329Z"
   },
   {
    "duration": 5,
    "start_time": "2023-10-30T18:34:13.514Z"
   },
   {
    "duration": 24,
    "start_time": "2023-10-30T18:34:13.521Z"
   },
   {
    "duration": 4,
    "start_time": "2023-10-30T18:34:13.547Z"
   },
   {
    "duration": 439,
    "start_time": "2023-10-30T18:34:13.553Z"
   },
   {
    "duration": 45,
    "start_time": "2023-10-30T18:34:13.994Z"
   },
   {
    "duration": 968,
    "start_time": "2023-10-30T18:34:14.041Z"
   },
   {
    "duration": 20,
    "start_time": "2023-10-30T18:34:15.010Z"
   },
   {
    "duration": 870,
    "start_time": "2023-10-30T18:34:15.032Z"
   },
   {
    "duration": 808,
    "start_time": "2023-10-30T18:34:15.904Z"
   },
   {
    "duration": 11,
    "start_time": "2023-10-30T18:34:16.714Z"
   },
   {
    "duration": 583,
    "start_time": "2023-10-30T18:34:16.728Z"
   },
   {
    "duration": 191,
    "start_time": "2023-10-30T18:34:17.312Z"
   },
   {
    "duration": 807,
    "start_time": "2023-10-30T18:34:17.505Z"
   },
   {
    "duration": 91,
    "start_time": "2023-10-30T18:34:18.314Z"
   },
   {
    "duration": 26,
    "start_time": "2023-10-30T18:34:18.407Z"
   },
   {
    "duration": 43,
    "start_time": "2023-10-30T18:34:18.435Z"
   },
   {
    "duration": 1187,
    "start_time": "2023-10-30T18:34:18.502Z"
   },
   {
    "duration": 29,
    "start_time": "2023-10-30T18:34:19.692Z"
   },
   {
    "duration": 9,
    "start_time": "2023-10-30T18:34:19.722Z"
   },
   {
    "duration": 27,
    "start_time": "2023-10-30T18:34:19.733Z"
   },
   {
    "duration": 56,
    "start_time": "2023-10-30T18:34:19.762Z"
   },
   {
    "duration": 286,
    "start_time": "2023-10-30T18:34:19.820Z"
   },
   {
    "duration": 104,
    "start_time": "2023-10-30T18:34:20.108Z"
   },
   {
    "duration": 14,
    "start_time": "2023-10-30T18:34:20.214Z"
   },
   {
    "duration": 529,
    "start_time": "2023-10-30T18:34:20.229Z"
   },
   {
    "duration": 12,
    "start_time": "2023-10-30T18:34:20.759Z"
   },
   {
    "duration": 79,
    "start_time": "2023-10-30T18:34:20.772Z"
   },
   {
    "duration": 91,
    "start_time": "2023-10-30T18:34:20.854Z"
   },
   {
    "duration": 431,
    "start_time": "2023-10-30T18:34:20.946Z"
   },
   {
    "duration": 10,
    "start_time": "2023-10-30T18:34:21.379Z"
   },
   {
    "duration": 124,
    "start_time": "2023-10-30T18:34:21.390Z"
   },
   {
    "duration": 5,
    "start_time": "2023-10-30T18:39:31.788Z"
   },
   {
    "duration": 111,
    "start_time": "2023-10-30T18:39:53.276Z"
   },
   {
    "duration": 8,
    "start_time": "2023-10-30T18:39:54.906Z"
   },
   {
    "duration": 12,
    "start_time": "2023-10-30T18:41:53.273Z"
   },
   {
    "duration": 6,
    "start_time": "2023-10-30T18:41:56.208Z"
   },
   {
    "duration": 11,
    "start_time": "2023-10-30T18:42:08.087Z"
   },
   {
    "duration": 11,
    "start_time": "2023-10-30T18:42:24.880Z"
   },
   {
    "duration": 10,
    "start_time": "2023-10-30T18:42:40.321Z"
   },
   {
    "duration": 3006,
    "start_time": "2023-10-30T18:47:14.083Z"
   },
   {
    "duration": 1332,
    "start_time": "2023-10-30T18:47:17.092Z"
   },
   {
    "duration": 126,
    "start_time": "2023-10-30T18:47:18.425Z"
   },
   {
    "duration": 5,
    "start_time": "2023-10-30T18:47:18.553Z"
   },
   {
    "duration": 40,
    "start_time": "2023-10-30T18:47:18.561Z"
   },
   {
    "duration": 4,
    "start_time": "2023-10-30T18:47:18.602Z"
   },
   {
    "duration": 441,
    "start_time": "2023-10-30T18:47:18.608Z"
   },
   {
    "duration": 51,
    "start_time": "2023-10-30T18:47:19.051Z"
   },
   {
    "duration": 951,
    "start_time": "2023-10-30T18:47:19.104Z"
   },
   {
    "duration": 18,
    "start_time": "2023-10-30T18:47:20.057Z"
   },
   {
    "duration": 827,
    "start_time": "2023-10-30T18:47:20.077Z"
   },
   {
    "duration": 785,
    "start_time": "2023-10-30T18:47:20.906Z"
   },
   {
    "duration": 16,
    "start_time": "2023-10-30T18:47:21.693Z"
   },
   {
    "duration": 512,
    "start_time": "2023-10-30T18:47:21.712Z"
   },
   {
    "duration": 94,
    "start_time": "2023-10-30T18:47:22.226Z"
   },
   {
    "duration": 797,
    "start_time": "2023-10-30T18:47:22.323Z"
   },
   {
    "duration": 88,
    "start_time": "2023-10-30T18:47:23.122Z"
   },
   {
    "duration": 21,
    "start_time": "2023-10-30T18:47:23.212Z"
   },
   {
    "duration": 44,
    "start_time": "2023-10-30T18:47:23.235Z"
   },
   {
    "duration": 1134,
    "start_time": "2023-10-30T18:47:23.301Z"
   },
   {
    "duration": 21,
    "start_time": "2023-10-30T18:47:24.436Z"
   },
   {
    "duration": 172,
    "start_time": "2023-10-30T18:47:24.458Z"
   },
   {
    "duration": 47,
    "start_time": "2023-10-30T18:47:24.632Z"
   },
   {
    "duration": 59,
    "start_time": "2023-10-30T18:47:24.682Z"
   },
   {
    "duration": 279,
    "start_time": "2023-10-30T18:47:24.742Z"
   },
   {
    "duration": 125,
    "start_time": "2023-10-30T18:47:25.023Z"
   },
   {
    "duration": 13,
    "start_time": "2023-10-30T18:47:25.150Z"
   },
   {
    "duration": 394,
    "start_time": "2023-10-30T18:47:25.165Z"
   },
   {
    "duration": 12,
    "start_time": "2023-10-30T18:47:25.560Z"
   },
   {
    "duration": 50,
    "start_time": "2023-10-30T18:47:25.574Z"
   },
   {
    "duration": 9,
    "start_time": "2023-10-30T18:47:25.626Z"
   },
   {
    "duration": 510,
    "start_time": "2023-10-30T18:47:25.636Z"
   },
   {
    "duration": 14,
    "start_time": "2023-10-30T18:47:26.148Z"
   },
   {
    "duration": 5,
    "start_time": "2023-10-30T18:47:26.165Z"
   }
  ],
  "kernelspec": {
   "display_name": "Python 3 (ipykernel)",
   "language": "python",
   "name": "python3"
  },
  "language_info": {
   "codemirror_mode": {
    "name": "ipython",
    "version": 3
   },
   "file_extension": ".py",
   "mimetype": "text/x-python",
   "name": "python",
   "nbconvert_exporter": "python",
   "pygments_lexer": "ipython3",
   "version": "3.9.12"
  },
  "toc": {
   "base_numbering": 1,
   "nav_menu": {},
   "number_sections": true,
   "sideBar": true,
   "skip_h1_title": true,
   "title_cell": "Table of Contents",
   "title_sidebar": "Contents",
   "toc_cell": false,
   "toc_position": {},
   "toc_section_display": true,
   "toc_window_display": false
  }
 },
 "nbformat": 4,
 "nbformat_minor": 2
}

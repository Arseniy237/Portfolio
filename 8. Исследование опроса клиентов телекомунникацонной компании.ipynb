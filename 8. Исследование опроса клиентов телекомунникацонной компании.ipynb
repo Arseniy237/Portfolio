{
 "cells": [
  {
   "cell_type": "code",
   "execution_count": 1,
   "id": "73ff7633",
   "metadata": {
    "tags": [
     "aa81075c-062f-4de0-b5fe-14c73dc7468e"
    ]
   },
   "outputs": [],
   "source": [
    "import pandas as pd\n",
    "import numpy as np\n",
    "\n",
    "from sqlalchemy import create_engine"
   ]
  },
  {
   "cell_type": "code",
   "execution_count": 2,
   "id": "1f0f4844",
   "metadata": {},
   "outputs": [],
   "source": [
    "path_to_db = '/datasets/telecomm_csi.db'\n",
    "engine = create_engine(f'sqlite:///{path_to_db}', echo = False)"
   ]
  },
  {
   "cell_type": "code",
   "execution_count": 3,
   "id": "8a6fe6a9",
   "metadata": {},
   "outputs": [],
   "source": [
    "query = \"\"\"\n",
    "    SELECT u.user_id,\n",
    "           u.lt_day,\n",
    "           CASE\n",
    "               WHEN CAST(u.lt_day AS INTEGER) <= 365 THEN 'новый'\n",
    "               ELSE 'старый'\n",
    "            END AS is_new,\n",
    "            CAST(u.age AS INTEGER) AS age,\n",
    "            CASE\n",
    "                WHEN u.gender_segment = 1.0 THEN 'женщина'\n",
    "                WHEN u.gender_segment = 0.0 THEN 'мужчина'\n",
    "            END AS gender_segment,\n",
    "            u.os_name,\n",
    "            u.cpe_type_name,\n",
    "            l.country,\n",
    "            l.city,\n",
    "            SUBSTRING(ages.title, 4) AS age_segment,\n",
    "            SUBSTRING(ts.title, 4) AS traffic_segment,\n",
    "            SUBSTRING(ls.title, 4) AS lifetime_segment,\n",
    "            u.nps_score,\n",
    "            CASE\n",
    "                WHEN u.nps_score >= 9 THEN 'сторонники'\n",
    "                WHEN u.nps_score >= 7 THEN 'нейтралы'\n",
    "                WHEN  u.nps_score < 7 AND u.nps_score >= 0 THEN 'критики'\n",
    "            END AS nps_score_group\n",
    "    FROM user AS u\n",
    "    JOIN location AS l ON u.location_id=l.location_id\n",
    "    JOIN age_segment AS ages ON u.age_gr_id=ages.age_gr_id\n",
    "    JOIN traffic_segment AS ts ON u.tr_gr_id=ts.tr_gr_id\n",
    "    JOIN lifetime_segment AS ls ON u.lt_gr_id=ls.lt_gr_id\n",
    "    WHERE CAST(u.lt_day AS INTEGER) > 0 AND u.gender_segment IS NOT NULL;\n",
    "\"\"\""
   ]
  },
  {
   "cell_type": "code",
   "execution_count": 4,
   "id": "86ee470b",
   "metadata": {},
   "outputs": [
    {
     "data": {
      "text/html": [
       "<div>\n",
       "<style scoped>\n",
       "    .dataframe tbody tr th:only-of-type {\n",
       "        vertical-align: middle;\n",
       "    }\n",
       "\n",
       "    .dataframe tbody tr th {\n",
       "        vertical-align: top;\n",
       "    }\n",
       "\n",
       "    .dataframe thead th {\n",
       "        text-align: right;\n",
       "    }\n",
       "</style>\n",
       "<table border=\"1\" class=\"dataframe\">\n",
       "  <thead>\n",
       "    <tr style=\"text-align: right;\">\n",
       "      <th></th>\n",
       "      <th>user_id</th>\n",
       "      <th>lt_day</th>\n",
       "      <th>is_new</th>\n",
       "      <th>age</th>\n",
       "      <th>gender_segment</th>\n",
       "      <th>os_name</th>\n",
       "      <th>cpe_type_name</th>\n",
       "      <th>country</th>\n",
       "      <th>city</th>\n",
       "      <th>age_segment</th>\n",
       "      <th>traffic_segment</th>\n",
       "      <th>lifetime_segment</th>\n",
       "      <th>nps_score</th>\n",
       "      <th>nps_score_group</th>\n",
       "    </tr>\n",
       "  </thead>\n",
       "  <tbody>\n",
       "    <tr>\n",
       "      <th>0</th>\n",
       "      <td>A001A2</td>\n",
       "      <td>2320</td>\n",
       "      <td>старый</td>\n",
       "      <td>45.0</td>\n",
       "      <td>женщина</td>\n",
       "      <td>ANDROID</td>\n",
       "      <td>SMARTPHONE</td>\n",
       "      <td>Россия</td>\n",
       "      <td>Уфа</td>\n",
       "      <td>45-54</td>\n",
       "      <td>1-5</td>\n",
       "      <td>36+</td>\n",
       "      <td>10</td>\n",
       "      <td>сторонники</td>\n",
       "    </tr>\n",
       "    <tr>\n",
       "      <th>1</th>\n",
       "      <td>A001WF</td>\n",
       "      <td>2344</td>\n",
       "      <td>старый</td>\n",
       "      <td>53.0</td>\n",
       "      <td>мужчина</td>\n",
       "      <td>ANDROID</td>\n",
       "      <td>SMARTPHONE</td>\n",
       "      <td>Россия</td>\n",
       "      <td>Киров</td>\n",
       "      <td>45-54</td>\n",
       "      <td>1-5</td>\n",
       "      <td>36+</td>\n",
       "      <td>10</td>\n",
       "      <td>сторонники</td>\n",
       "    </tr>\n",
       "    <tr>\n",
       "      <th>2</th>\n",
       "      <td>A003Q7</td>\n",
       "      <td>467</td>\n",
       "      <td>старый</td>\n",
       "      <td>57.0</td>\n",
       "      <td>мужчина</td>\n",
       "      <td>ANDROID</td>\n",
       "      <td>SMARTPHONE</td>\n",
       "      <td>Россия</td>\n",
       "      <td>Москва</td>\n",
       "      <td>55-64</td>\n",
       "      <td>20-25</td>\n",
       "      <td>13-24</td>\n",
       "      <td>10</td>\n",
       "      <td>сторонники</td>\n",
       "    </tr>\n",
       "  </tbody>\n",
       "</table>\n",
       "</div>"
      ],
      "text/plain": [
       "  user_id  lt_day  is_new   age gender_segment  os_name cpe_type_name country  \\\n",
       "0  A001A2    2320  старый  45.0        женщина  ANDROID    SMARTPHONE  Россия   \n",
       "1  A001WF    2344  старый  53.0        мужчина  ANDROID    SMARTPHONE  Россия   \n",
       "2  A003Q7     467  старый  57.0        мужчина  ANDROID    SMARTPHONE  Россия   \n",
       "\n",
       "     city age_segment traffic_segment lifetime_segment  nps_score  \\\n",
       "0     Уфа       45-54             1-5              36+         10   \n",
       "1   Киров       45-54             1-5              36+         10   \n",
       "2  Москва       55-64           20-25            13-24         10   \n",
       "\n",
       "  nps_score_group  \n",
       "0      сторонники  \n",
       "1      сторонники  \n",
       "2      сторонники  "
      ]
     },
     "execution_count": 4,
     "metadata": {},
     "output_type": "execute_result"
    }
   ],
   "source": [
    "df = pd.read_sql(query, engine)\n",
    "df.head(3)"
   ]
  },
  {
   "cell_type": "code",
   "execution_count": 5,
   "id": "36b9cf35",
   "metadata": {},
   "outputs": [],
   "source": [
    "df.to_csv('telecomm_csi_tableau.csv', index=False)"
   ]
  },
  {
   "cell_type": "markdown",
   "id": "74f8f76e",
   "metadata": {},
   "source": [
    "### Дашборд на сайте Tableau Public:"
   ]
  },
  {
   "cell_type": "markdown",
   "id": "1df76e00",
   "metadata": {},
   "source": [
    "https://public.tableau.com/views/sbproject2_2/sheet11?:language=en-US&publish=yes&:display_count=n&:origin=viz_share_link"
   ]
  },
  {
   "cell_type": "markdown",
   "id": "f0db587f",
   "metadata": {},
   "source": [
    "### Pdf-файл с презентацией:"
   ]
  },
  {
   "cell_type": "markdown",
   "id": "c1ca84b6",
   "metadata": {},
   "source": [
    "https://disk.yandex.ru/i/ElEQHCWBOPzdgA"
   ]
  }
 ],
 "metadata": {
  "ExecuteTimeLog": [
   {
    "duration": 752,
    "start_time": "2021-10-03T17:40:52.731Z"
   },
   {
    "duration": 20,
    "start_time": "2021-10-03T17:40:53.486Z"
   },
   {
    "duration": 4,
    "start_time": "2021-10-03T17:41:04.638Z"
   },
   {
    "duration": 461,
    "start_time": "2021-10-03T17:41:04.912Z"
   },
   {
    "duration": 284,
    "start_time": "2021-10-03T17:41:05.376Z"
   },
   {
    "duration": 574,
    "start_time": "2021-10-06T07:55:05.029Z"
   },
   {
    "duration": 6,
    "start_time": "2021-10-06T07:55:05.605Z"
   },
   {
    "duration": 3,
    "start_time": "2021-10-06T07:55:14.685Z"
   },
   {
    "duration": 406,
    "start_time": "2021-10-06T07:55:15.522Z"
   },
   {
    "duration": 67,
    "start_time": "2021-10-06T07:55:15.929Z"
   },
   {
    "duration": 840,
    "start_time": "2021-10-07T07:54:04.647Z"
   },
   {
    "duration": 10,
    "start_time": "2021-10-07T07:54:05.490Z"
   },
   {
    "duration": 4,
    "start_time": "2021-10-07T07:54:05.544Z"
   },
   {
    "duration": 391,
    "start_time": "2021-10-07T07:54:06.237Z"
   },
   {
    "duration": 293,
    "start_time": "2021-10-07T07:54:06.654Z"
   },
   {
    "duration": 523,
    "start_time": "2023-01-22T10:43:42.112Z"
   },
   {
    "duration": 10,
    "start_time": "2023-01-22T10:43:42.637Z"
   },
   {
    "duration": 4,
    "start_time": "2023-01-22T10:43:42.842Z"
   },
   {
    "duration": 326,
    "start_time": "2023-01-22T10:43:43.754Z"
   },
   {
    "duration": 3,
    "start_time": "2023-01-22T10:45:03.753Z"
   },
   {
    "duration": 230,
    "start_time": "2023-01-22T10:45:06.394Z"
   },
   {
    "duration": 3,
    "start_time": "2023-01-22T10:45:25.700Z"
   },
   {
    "duration": 3,
    "start_time": "2023-01-22T10:45:26.288Z"
   },
   {
    "duration": 3,
    "start_time": "2023-01-22T10:45:26.808Z"
   },
   {
    "duration": 233,
    "start_time": "2023-01-22T10:45:27.307Z"
   },
   {
    "duration": 506,
    "start_time": "2023-01-22T10:45:33.761Z"
   },
   {
    "duration": 9,
    "start_time": "2023-01-22T10:45:34.269Z"
   },
   {
    "duration": 11,
    "start_time": "2023-01-22T10:45:34.280Z"
   },
   {
    "duration": 296,
    "start_time": "2023-01-22T10:45:34.293Z"
   },
   {
    "duration": 0,
    "start_time": "2023-01-22T10:45:34.591Z"
   },
   {
    "duration": 4,
    "start_time": "2023-01-22T10:47:00.480Z"
   },
   {
    "duration": 235,
    "start_time": "2023-01-22T10:47:02.992Z"
   },
   {
    "duration": 3,
    "start_time": "2023-01-22T10:47:23.024Z"
   },
   {
    "duration": 236,
    "start_time": "2023-01-22T10:47:24.871Z"
   },
   {
    "duration": 3,
    "start_time": "2023-01-22T10:49:48.720Z"
   },
   {
    "duration": 232,
    "start_time": "2023-01-22T10:49:49.224Z"
   },
   {
    "duration": 2,
    "start_time": "2023-01-22T10:50:05.853Z"
   },
   {
    "duration": 246,
    "start_time": "2023-01-22T10:50:07.689Z"
   },
   {
    "duration": 3,
    "start_time": "2023-01-22T10:54:30.140Z"
   },
   {
    "duration": 3229,
    "start_time": "2023-01-22T10:54:30.626Z"
   },
   {
    "duration": 2,
    "start_time": "2023-01-22T10:54:47.764Z"
   },
   {
    "duration": 3115,
    "start_time": "2023-01-22T10:54:49.460Z"
   },
   {
    "duration": 3,
    "start_time": "2023-01-22T10:55:06.715Z"
   },
   {
    "duration": 1261,
    "start_time": "2023-01-22T10:55:07.212Z"
   },
   {
    "duration": 2,
    "start_time": "2023-01-22T10:55:26.118Z"
   },
   {
    "duration": 397,
    "start_time": "2023-01-22T10:55:26.328Z"
   },
   {
    "duration": 3,
    "start_time": "2023-01-22T10:55:30.820Z"
   },
   {
    "duration": 230,
    "start_time": "2023-01-22T10:55:31.181Z"
   },
   {
    "duration": 2,
    "start_time": "2023-01-22T10:55:42.122Z"
   },
   {
    "duration": 238,
    "start_time": "2023-01-22T10:55:42.560Z"
   },
   {
    "duration": 3,
    "start_time": "2023-01-22T10:55:54.970Z"
   },
   {
    "duration": 244,
    "start_time": "2023-01-22T10:55:55.496Z"
   },
   {
    "duration": 2,
    "start_time": "2023-01-22T10:56:17.201Z"
   },
   {
    "duration": 1552,
    "start_time": "2023-01-22T10:56:18.305Z"
   },
   {
    "duration": 3,
    "start_time": "2023-01-22T10:56:25.753Z"
   },
   {
    "duration": 1723,
    "start_time": "2023-01-22T10:56:26.462Z"
   },
   {
    "duration": 2,
    "start_time": "2023-01-22T11:06:44.430Z"
   },
   {
    "duration": 2061,
    "start_time": "2023-01-22T11:06:44.820Z"
   },
   {
    "duration": 3,
    "start_time": "2023-01-22T11:07:15.668Z"
   },
   {
    "duration": 1988,
    "start_time": "2023-01-22T11:07:15.849Z"
   },
   {
    "duration": 2,
    "start_time": "2023-01-22T11:12:03.310Z"
   },
   {
    "duration": 2221,
    "start_time": "2023-01-22T11:12:03.635Z"
   },
   {
    "duration": 3,
    "start_time": "2023-01-22T11:14:26.866Z"
   },
   {
    "duration": 2169,
    "start_time": "2023-01-22T11:14:27.264Z"
   },
   {
    "duration": 3,
    "start_time": "2023-01-22T11:25:09.143Z"
   },
   {
    "duration": 226,
    "start_time": "2023-01-22T11:25:09.540Z"
   },
   {
    "duration": 3,
    "start_time": "2023-01-22T11:25:32.792Z"
   },
   {
    "duration": 226,
    "start_time": "2023-01-22T11:25:33.172Z"
   },
   {
    "duration": 4,
    "start_time": "2023-01-22T11:26:21.572Z"
   },
   {
    "duration": 244,
    "start_time": "2023-01-22T11:26:22.169Z"
   },
   {
    "duration": 3,
    "start_time": "2023-01-22T11:30:54.845Z"
   },
   {
    "duration": 231,
    "start_time": "2023-01-22T11:30:55.248Z"
   },
   {
    "duration": 3,
    "start_time": "2023-01-22T11:33:34.504Z"
   },
   {
    "duration": 232,
    "start_time": "2023-01-22T11:33:35.030Z"
   },
   {
    "duration": 4,
    "start_time": "2023-01-22T11:33:39.828Z"
   },
   {
    "duration": 234,
    "start_time": "2023-01-22T11:33:40.226Z"
   },
   {
    "duration": 464,
    "start_time": "2023-01-22T11:35:27.474Z"
   },
   {
    "duration": 9,
    "start_time": "2023-01-22T11:35:27.939Z"
   },
   {
    "duration": 3,
    "start_time": "2023-01-22T11:35:27.950Z"
   },
   {
    "duration": 311,
    "start_time": "2023-01-22T11:35:27.954Z"
   },
   {
    "duration": 0,
    "start_time": "2023-01-22T11:35:28.267Z"
   },
   {
    "duration": 267,
    "start_time": "2023-01-22T11:36:14.870Z"
   },
   {
    "duration": 522,
    "start_time": "2023-01-22T11:38:04.545Z"
   },
   {
    "duration": 9,
    "start_time": "2023-01-22T11:38:05.069Z"
   },
   {
    "duration": 20,
    "start_time": "2023-01-22T11:38:05.080Z"
   },
   {
    "duration": 52,
    "start_time": "2023-01-22T11:38:05.102Z"
   },
   {
    "duration": 4967,
    "start_time": "2023-01-22T11:38:05.156Z"
   },
   {
    "duration": 4364,
    "start_time": "2023-01-22T11:38:10.126Z"
   },
   {
    "duration": 329,
    "start_time": "2023-01-22T11:39:19.514Z"
   },
   {
    "duration": 3,
    "start_time": "2023-01-22T11:39:31.408Z"
   },
   {
    "duration": 257,
    "start_time": "2023-01-22T11:39:33.361Z"
   },
   {
    "duration": 3,
    "start_time": "2023-01-22T11:40:10.740Z"
   },
   {
    "duration": 3,
    "start_time": "2023-01-22T11:40:11.091Z"
   },
   {
    "duration": 541,
    "start_time": "2023-01-22T11:40:11.571Z"
   },
   {
    "duration": 3,
    "start_time": "2023-01-22T11:40:34.498Z"
   },
   {
    "duration": 3,
    "start_time": "2023-01-22T11:40:35.264Z"
   },
   {
    "duration": 423,
    "start_time": "2023-01-22T11:40:35.640Z"
   },
   {
    "duration": 622,
    "start_time": "2023-01-22T11:41:37.959Z"
   },
   {
    "duration": 9,
    "start_time": "2023-01-22T11:41:38.583Z"
   },
   {
    "duration": 35,
    "start_time": "2023-01-22T11:41:38.593Z"
   },
   {
    "duration": 50,
    "start_time": "2023-01-22T11:41:38.634Z"
   },
   {
    "duration": 5194,
    "start_time": "2023-01-22T11:41:38.686Z"
   },
   {
    "duration": 4437,
    "start_time": "2023-01-22T11:41:43.882Z"
   },
   {
    "duration": 3,
    "start_time": "2023-01-22T11:42:14.895Z"
   },
   {
    "duration": 5207,
    "start_time": "2023-01-22T11:42:15.360Z"
   },
   {
    "duration": 4,
    "start_time": "2023-01-22T11:42:31.275Z"
   },
   {
    "duration": 5280,
    "start_time": "2023-01-22T11:42:31.703Z"
   },
   {
    "duration": 4,
    "start_time": "2023-01-22T11:42:56.958Z"
   },
   {
    "duration": 5471,
    "start_time": "2023-01-22T11:42:57.335Z"
   },
   {
    "duration": 3,
    "start_time": "2023-01-22T11:43:41.873Z"
   },
   {
    "duration": 497,
    "start_time": "2023-01-22T11:43:42.316Z"
   },
   {
    "duration": 3,
    "start_time": "2023-01-22T11:44:38.964Z"
   },
   {
    "duration": 6,
    "start_time": "2023-01-22T11:44:40.605Z"
   },
   {
    "duration": 5261,
    "start_time": "2023-01-22T11:44:41.013Z"
   },
   {
    "duration": 3,
    "start_time": "2023-01-22T11:48:02.261Z"
   },
   {
    "duration": 402,
    "start_time": "2023-01-22T11:48:02.761Z"
   },
   {
    "duration": 3,
    "start_time": "2023-01-22T11:49:55.173Z"
   },
   {
    "duration": 5214,
    "start_time": "2023-01-22T11:49:55.564Z"
   },
   {
    "duration": 2,
    "start_time": "2023-01-22T11:50:56.561Z"
   },
   {
    "duration": 5247,
    "start_time": "2023-01-22T11:50:56.799Z"
   },
   {
    "duration": 550,
    "start_time": "2023-01-22T11:51:26.659Z"
   },
   {
    "duration": 9,
    "start_time": "2023-01-22T11:51:27.211Z"
   },
   {
    "duration": 12,
    "start_time": "2023-01-22T11:51:27.226Z"
   },
   {
    "duration": 5668,
    "start_time": "2023-01-22T11:51:27.242Z"
   },
   {
    "duration": 4354,
    "start_time": "2023-01-22T11:51:32.912Z"
   },
   {
    "duration": 3,
    "start_time": "2023-01-22T11:59:55.862Z"
   },
   {
    "duration": 5059,
    "start_time": "2023-01-22T11:59:56.442Z"
   },
   {
    "duration": 596,
    "start_time": "2023-01-27T13:12:25.265Z"
   },
   {
    "duration": 27,
    "start_time": "2023-01-27T13:12:25.866Z"
   },
   {
    "duration": 17,
    "start_time": "2023-01-27T13:12:25.896Z"
   },
   {
    "duration": 7390,
    "start_time": "2023-01-27T13:12:25.915Z"
   },
   {
    "duration": 472,
    "start_time": "2023-01-27T16:29:07.546Z"
   },
   {
    "duration": 9,
    "start_time": "2023-01-27T16:29:08.020Z"
   },
   {
    "duration": 5,
    "start_time": "2023-01-27T16:29:08.030Z"
   },
   {
    "duration": 5015,
    "start_time": "2023-01-27T16:29:08.037Z"
   },
   {
    "duration": 4105,
    "start_time": "2023-01-27T16:29:13.054Z"
   },
   {
    "duration": 466,
    "start_time": "2023-01-30T06:52:31.840Z"
   },
   {
    "duration": 9,
    "start_time": "2023-01-30T06:52:32.308Z"
   },
   {
    "duration": 3,
    "start_time": "2023-01-30T06:52:32.318Z"
   },
   {
    "duration": 5895,
    "start_time": "2023-01-30T06:52:32.323Z"
   },
   {
    "duration": 3994,
    "start_time": "2023-01-30T06:52:38.219Z"
   },
   {
    "duration": 2,
    "start_time": "2023-01-30T06:59:08.847Z"
   },
   {
    "duration": 17,
    "start_time": "2023-01-30T06:59:08.852Z"
   },
   {
    "duration": 11,
    "start_time": "2023-01-30T06:59:08.870Z"
   },
   {
    "duration": 5380,
    "start_time": "2023-01-30T06:59:08.883Z"
   },
   {
    "duration": 4467,
    "start_time": "2023-01-30T06:59:14.265Z"
   },
   {
    "duration": 513,
    "start_time": "2023-01-30T07:31:02.237Z"
   },
   {
    "duration": 15,
    "start_time": "2023-01-30T07:31:02.753Z"
   },
   {
    "duration": 12,
    "start_time": "2023-01-30T07:31:02.769Z"
   },
   {
    "duration": 2,
    "start_time": "2023-01-30T07:32:18.671Z"
   },
   {
    "duration": 10,
    "start_time": "2023-01-30T07:32:18.676Z"
   },
   {
    "duration": 14,
    "start_time": "2023-01-30T07:32:18.687Z"
   },
   {
    "duration": 5489,
    "start_time": "2023-01-30T07:32:18.703Z"
   },
   {
    "duration": 4153,
    "start_time": "2023-01-30T07:32:24.195Z"
   },
   {
    "duration": 552,
    "start_time": "2023-01-30T07:33:50.874Z"
   },
   {
    "duration": 10,
    "start_time": "2023-01-30T07:33:51.428Z"
   },
   {
    "duration": 24,
    "start_time": "2023-01-30T07:33:51.440Z"
   },
   {
    "duration": 5778,
    "start_time": "2023-01-30T07:33:51.466Z"
   },
   {
    "duration": 4240,
    "start_time": "2023-01-30T07:33:57.245Z"
   },
   {
    "duration": 516,
    "start_time": "2023-01-30T08:03:29.856Z"
   },
   {
    "duration": 9,
    "start_time": "2023-01-30T08:03:30.374Z"
   },
   {
    "duration": 62,
    "start_time": "2023-01-30T08:03:30.385Z"
   },
   {
    "duration": 5739,
    "start_time": "2023-01-30T08:03:30.448Z"
   },
   {
    "duration": 4523,
    "start_time": "2023-01-30T08:03:36.188Z"
   },
   {
    "duration": 563,
    "start_time": "2023-01-30T08:10:43.274Z"
   },
   {
    "duration": 9,
    "start_time": "2023-01-30T08:10:43.839Z"
   },
   {
    "duration": 9,
    "start_time": "2023-01-30T08:10:43.849Z"
   },
   {
    "duration": 6112,
    "start_time": "2023-01-30T08:10:43.860Z"
   },
   {
    "duration": 4984,
    "start_time": "2023-01-30T08:10:49.974Z"
   }
  ],
  "kernelspec": {
   "display_name": "Python 3 (ipykernel)",
   "language": "python",
   "name": "python3"
  },
  "language_info": {
   "codemirror_mode": {
    "name": "ipython",
    "version": 3
   },
   "file_extension": ".py",
   "mimetype": "text/x-python",
   "name": "python",
   "nbconvert_exporter": "python",
   "pygments_lexer": "ipython3",
   "version": "3.9.12"
  },
  "toc": {
   "base_numbering": 1,
   "nav_menu": {},
   "number_sections": true,
   "sideBar": true,
   "skip_h1_title": true,
   "title_cell": "Table of Contents",
   "title_sidebar": "Contents",
   "toc_cell": false,
   "toc_position": {},
   "toc_section_display": true,
   "toc_window_display": false
  }
 },
 "nbformat": 4,
 "nbformat_minor": 5
}

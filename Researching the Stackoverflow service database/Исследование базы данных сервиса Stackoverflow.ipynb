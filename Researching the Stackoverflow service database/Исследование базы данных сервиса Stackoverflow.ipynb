{
 "cells": [
  {
   "cell_type": "markdown",
   "metadata": {},
   "source": [
    "<a id=\"start\"></a>\n",
    "# Исследование базы данных сервиса Stackoverflow"
   ]
  },
  {
   "cell_type": "code",
   "execution_count": 1,
   "metadata": {
    "id": "nlZBlglMDWKe"
   },
   "outputs": [],
   "source": [
    "import pandas as pd\n",
    "import matplotlib.pyplot as plt\n",
    "from sqlalchemy import create_engine \n",
    "import seaborn as sns\n",
    "import numpy as np"
   ]
  },
  {
   "cell_type": "markdown",
   "metadata": {
    "id": "XnOE3n28DWKg"
   },
   "source": [
    "### Конфигурация для подключения к базе данных `data-analyst-advanced-sql`"
   ]
  },
  {
   "cell_type": "code",
   "execution_count": 2,
   "metadata": {
    "id": "6p-yGp7qDWKg"
   },
   "outputs": [],
   "source": [
    "db_config = {\n",
    "    'user': 'praktikum_student', # имя пользователя\n",
    "    'pwd': '', # пароль\n",
    "    'host': '',\n",
    "    'port': , # порт подключения\n",
    "    'db': 'data-analyst-advanced-sql' # название базы данных\n",
    "}  \n",
    "\n",
    "connection_string = 'postgresql://{}:{}@{}:{}/{}'.format(\n",
    "    db_config['user'],\n",
    "    db_config['pwd'],\n",
    "    db_config['host'],\n",
    "    db_config['port'],\n",
    "    db_config['db'],\n",
    ")"
   ]
  },
  {
   "cell_type": "markdown",
   "metadata": {
    "id": "2Rg8ZpS0DWKh"
   },
   "source": [
    "Создание подключения"
   ]
  },
  {
   "cell_type": "code",
   "execution_count": 3,
   "metadata": {
    "id": "DamCUTR6DWKi"
   },
   "outputs": [],
   "source": [
    "engine = create_engine(connection_string) "
   ]
  },
  {
   "cell_type": "markdown",
   "metadata": {
    "id": "bel8XeSlDWKj"
   },
   "source": [
    "Пример запроса к базе данных\n",
    "\n",
    "`sample_df` является pandas-датафреймом."
   ]
  },
  {
   "cell_type": "code",
   "execution_count": 4,
   "metadata": {
    "id": "6Z_fw0yLDWKk"
   },
   "outputs": [],
   "source": [
    "query = '''\n",
    "SELECT *\n",
    "FROM stackoverflow.users\n",
    "LIMIT 10;\n",
    "'''\n",
    "\n",
    "sample_df = pd.read_sql_query(query, con=engine) "
   ]
  },
  {
   "cell_type": "code",
   "execution_count": 5,
   "metadata": {
    "id": "ZpuZ290oDWKk",
    "outputId": "22785a0a-e2bc-4559-ec3c-4879c4b377eb"
   },
   "outputs": [
    {
     "data": {
      "text/html": [
       "<div>\n",
       "<style scoped>\n",
       "    .dataframe tbody tr th:only-of-type {\n",
       "        vertical-align: middle;\n",
       "    }\n",
       "\n",
       "    .dataframe tbody tr th {\n",
       "        vertical-align: top;\n",
       "    }\n",
       "\n",
       "    .dataframe thead th {\n",
       "        text-align: right;\n",
       "    }\n",
       "</style>\n",
       "<table border=\"1\" class=\"dataframe\">\n",
       "  <thead>\n",
       "    <tr style=\"text-align: right;\">\n",
       "      <th></th>\n",
       "      <th>id</th>\n",
       "      <th>creation_date</th>\n",
       "      <th>display_name</th>\n",
       "      <th>last_access_date</th>\n",
       "      <th>location</th>\n",
       "      <th>reputation</th>\n",
       "      <th>views</th>\n",
       "    </tr>\n",
       "  </thead>\n",
       "  <tbody>\n",
       "    <tr>\n",
       "      <th>0</th>\n",
       "      <td>1</td>\n",
       "      <td>2008-07-31 14:22:31</td>\n",
       "      <td>Jeff Atwood</td>\n",
       "      <td>2018-08-29 02:34:23</td>\n",
       "      <td>El Cerrito, CA</td>\n",
       "      <td>44300</td>\n",
       "      <td>408587</td>\n",
       "    </tr>\n",
       "    <tr>\n",
       "      <th>1</th>\n",
       "      <td>2</td>\n",
       "      <td>2008-07-31 14:22:31</td>\n",
       "      <td>Geoff Dalgas</td>\n",
       "      <td>2018-08-23 17:31:56</td>\n",
       "      <td>Corvallis, OR</td>\n",
       "      <td>3491</td>\n",
       "      <td>23966</td>\n",
       "    </tr>\n",
       "    <tr>\n",
       "      <th>2</th>\n",
       "      <td>3</td>\n",
       "      <td>2008-07-31 14:22:31</td>\n",
       "      <td>Jarrod Dixon</td>\n",
       "      <td>2018-08-30 20:56:24</td>\n",
       "      <td>Raleigh, NC, United States</td>\n",
       "      <td>13418</td>\n",
       "      <td>24396</td>\n",
       "    </tr>\n",
       "    <tr>\n",
       "      <th>3</th>\n",
       "      <td>4</td>\n",
       "      <td>2008-07-31 14:22:31</td>\n",
       "      <td>Joel Spolsky</td>\n",
       "      <td>2018-08-14 22:18:15</td>\n",
       "      <td>New York, NY</td>\n",
       "      <td>28768</td>\n",
       "      <td>73755</td>\n",
       "    </tr>\n",
       "    <tr>\n",
       "      <th>4</th>\n",
       "      <td>5</td>\n",
       "      <td>2008-07-31 14:22:31</td>\n",
       "      <td>Jon Galloway</td>\n",
       "      <td>2018-08-29 16:48:36</td>\n",
       "      <td>San Diego, CA</td>\n",
       "      <td>39172</td>\n",
       "      <td>11700</td>\n",
       "    </tr>\n",
       "    <tr>\n",
       "      <th>5</th>\n",
       "      <td>8</td>\n",
       "      <td>2008-07-31 21:33:24</td>\n",
       "      <td>Eggs McLaren</td>\n",
       "      <td>2018-04-09 02:04:56</td>\n",
       "      <td>None</td>\n",
       "      <td>942</td>\n",
       "      <td>6372</td>\n",
       "    </tr>\n",
       "    <tr>\n",
       "      <th>6</th>\n",
       "      <td>9</td>\n",
       "      <td>2008-07-31 21:35:27</td>\n",
       "      <td>Kevin Dente</td>\n",
       "      <td>2018-08-30 18:18:03</td>\n",
       "      <td>Oakland, CA</td>\n",
       "      <td>14337</td>\n",
       "      <td>4949</td>\n",
       "    </tr>\n",
       "    <tr>\n",
       "      <th>7</th>\n",
       "      <td>11</td>\n",
       "      <td>2008-08-01 00:59:11</td>\n",
       "      <td>Anonymous User</td>\n",
       "      <td>2008-08-01 00:59:11</td>\n",
       "      <td>None</td>\n",
       "      <td>1890</td>\n",
       "      <td>2123</td>\n",
       "    </tr>\n",
       "    <tr>\n",
       "      <th>8</th>\n",
       "      <td>13</td>\n",
       "      <td>2008-08-01 04:18:05</td>\n",
       "      <td>Chris Jester-Young</td>\n",
       "      <td>2018-08-30 02:47:23</td>\n",
       "      <td>Raleigh, NC, United States</td>\n",
       "      <td>177138</td>\n",
       "      <td>35414</td>\n",
       "    </tr>\n",
       "    <tr>\n",
       "      <th>9</th>\n",
       "      <td>17</td>\n",
       "      <td>2008-08-01 12:02:22</td>\n",
       "      <td>Nick Berardi</td>\n",
       "      <td>2018-01-22 01:35:38</td>\n",
       "      <td>Issaquah, WA</td>\n",
       "      <td>44443</td>\n",
       "      <td>4786</td>\n",
       "    </tr>\n",
       "  </tbody>\n",
       "</table>\n",
       "</div>"
      ],
      "text/plain": [
       "   id       creation_date        display_name    last_access_date  \\\n",
       "0   1 2008-07-31 14:22:31         Jeff Atwood 2018-08-29 02:34:23   \n",
       "1   2 2008-07-31 14:22:31        Geoff Dalgas 2018-08-23 17:31:56   \n",
       "2   3 2008-07-31 14:22:31        Jarrod Dixon 2018-08-30 20:56:24   \n",
       "3   4 2008-07-31 14:22:31        Joel Spolsky 2018-08-14 22:18:15   \n",
       "4   5 2008-07-31 14:22:31        Jon Galloway 2018-08-29 16:48:36   \n",
       "5   8 2008-07-31 21:33:24        Eggs McLaren 2018-04-09 02:04:56   \n",
       "6   9 2008-07-31 21:35:27         Kevin Dente 2018-08-30 18:18:03   \n",
       "7  11 2008-08-01 00:59:11      Anonymous User 2008-08-01 00:59:11   \n",
       "8  13 2008-08-01 04:18:05  Chris Jester-Young 2018-08-30 02:47:23   \n",
       "9  17 2008-08-01 12:02:22        Nick Berardi 2018-01-22 01:35:38   \n",
       "\n",
       "                     location  reputation   views  \n",
       "0              El Cerrito, CA       44300  408587  \n",
       "1               Corvallis, OR        3491   23966  \n",
       "2  Raleigh, NC, United States       13418   24396  \n",
       "3                New York, NY       28768   73755  \n",
       "4               San Diego, CA       39172   11700  \n",
       "5                        None         942    6372  \n",
       "6                 Oakland, CA       14337    4949  \n",
       "7                        None        1890    2123  \n",
       "8  Raleigh, NC, United States      177138   35414  \n",
       "9                Issaquah, WA       44443    4786  "
      ]
     },
     "execution_count": 5,
     "metadata": {},
     "output_type": "execute_result"
    }
   ],
   "source": [
    "sample_df"
   ]
  },
  {
   "cell_type": "markdown",
   "metadata": {
    "id": "gnBMXkDBDWKm"
   },
   "source": [
    "# Задание 1"
   ]
  },
  {
   "cell_type": "markdown",
   "metadata": {
    "id": "vHsfOrrNDWKn"
   },
   "source": [
    "Выведите общую сумму просмотров постов за каждый месяц 2008 года. Если данных за какой-либо месяц в базе нет, такой месяц можно пропустить. Результат отсортируйте по убыванию общего количества просмотров."
   ]
  },
  {
   "cell_type": "markdown",
   "metadata": {
    "id": "N5rTgGNmDWKn"
   },
   "source": [
    "| month_date  | total_views |\n",
    "| ------------- | ------------- |\n",
    "| 2008-09-01  | 452928568  |\n",
    "| 2008-10-01  | 365400138  |\n",
    "| ...         | ... |"
   ]
  },
  {
   "cell_type": "code",
   "execution_count": 6,
   "metadata": {
    "id": "eWvykcXTDWKo"
   },
   "outputs": [],
   "source": [
    "# напишите запрос\n",
    "query = '''\n",
    "SELECT DATE_TRUNC('month', creation_date)::date AS month_date,\n",
    "    SUM(views_count) AS total_views\n",
    "FROM stackoverflow.posts\n",
    "GROUP BY DATE_TRUNC('month', creation_date)::date\n",
    "--HAVING SUM(views_count) > 100 \n",
    "ORDER BY SUM(views_count) DESC\n",
    "'''\n",
    "\n",
    "month_views = pd.read_sql_query(query, con=engine)# выполните запрос"
   ]
  },
  {
   "cell_type": "code",
   "execution_count": 7,
   "metadata": {},
   "outputs": [
    {
     "data": {
      "text/html": [
       "<div>\n",
       "<style scoped>\n",
       "    .dataframe tbody tr th:only-of-type {\n",
       "        vertical-align: middle;\n",
       "    }\n",
       "\n",
       "    .dataframe tbody tr th {\n",
       "        vertical-align: top;\n",
       "    }\n",
       "\n",
       "    .dataframe thead th {\n",
       "        text-align: right;\n",
       "    }\n",
       "</style>\n",
       "<table border=\"1\" class=\"dataframe\">\n",
       "  <thead>\n",
       "    <tr style=\"text-align: right;\">\n",
       "      <th></th>\n",
       "      <th>month_date</th>\n",
       "      <th>total_views</th>\n",
       "    </tr>\n",
       "  </thead>\n",
       "  <tbody>\n",
       "    <tr>\n",
       "      <th>0</th>\n",
       "      <td>2008-09-01</td>\n",
       "      <td>452928568</td>\n",
       "    </tr>\n",
       "    <tr>\n",
       "      <th>1</th>\n",
       "      <td>2008-10-01</td>\n",
       "      <td>365400138</td>\n",
       "    </tr>\n",
       "    <tr>\n",
       "      <th>2</th>\n",
       "      <td>2008-11-01</td>\n",
       "      <td>221759651</td>\n",
       "    </tr>\n",
       "    <tr>\n",
       "      <th>3</th>\n",
       "      <td>2008-12-01</td>\n",
       "      <td>197792841</td>\n",
       "    </tr>\n",
       "    <tr>\n",
       "      <th>4</th>\n",
       "      <td>2008-08-01</td>\n",
       "      <td>131367083</td>\n",
       "    </tr>\n",
       "    <tr>\n",
       "      <th>5</th>\n",
       "      <td>2008-07-01</td>\n",
       "      <td>669895</td>\n",
       "    </tr>\n",
       "  </tbody>\n",
       "</table>\n",
       "</div>"
      ],
      "text/plain": [
       "   month_date  total_views\n",
       "0  2008-09-01    452928568\n",
       "1  2008-10-01    365400138\n",
       "2  2008-11-01    221759651\n",
       "3  2008-12-01    197792841\n",
       "4  2008-08-01    131367083\n",
       "5  2008-07-01       669895"
      ]
     },
     "metadata": {},
     "output_type": "display_data"
    }
   ],
   "source": [
    "display(month_views)"
   ]
  },
  {
   "cell_type": "markdown",
   "metadata": {
    "id": "XMr_UeU6DWKo"
   },
   "source": [
    "<details>\n",
    "\n",
    "<summary>Подсказка</summary>\n",
    "Используйте функцию для усечения даты, а затем сгруппируйте и отсортируйте данные.\n",
    "</details>"
   ]
  },
  {
   "cell_type": "markdown",
   "metadata": {
    "id": "I_ZvhOxkDWKp"
   },
   "source": [
    "Проанализируйте итоговую таблицу. Отличаются ли данные за разные месяцы? С чем могут быть связаны отличия?"
   ]
  },
  {
   "cell_type": "markdown",
   "metadata": {
    "id": "luxSj17oDWKq"
   },
   "source": [
    "_Количество просмотров растет с июля по сентябрь, на который и приходится пик, после этого до декабря оно падает. Просмотров в июле значительно меньше чем в другие месяцы, вероятно это связанно с тем, что данные за июль не полные так как сайт проработал в июле не полный месяц._"
   ]
  },
  {
   "cell_type": "markdown",
   "metadata": {
    "id": "FziIXkn5DWKr"
   },
   "source": [
    "# Задание 2"
   ]
  },
  {
   "cell_type": "markdown",
   "metadata": {
    "id": "fTGESZvYDWKr"
   },
   "source": [
    "Выведите имена самых активных пользователей, которые в первый месяц после регистрации (включая день регистрации) дали больше 100 ответов. Вопросы, которые задавали пользователи, не учитывайте. Для каждого имени пользователя выведите количество уникальных значений `user_id`. Отсортируйте результат по полю с именами в лексикографическом порядке."
   ]
  },
  {
   "cell_type": "markdown",
   "metadata": {
    "id": "W5-tv6Y3DWKs"
   },
   "source": [
    "| display_name | count |\n",
    "| ------------ | ----- |\n",
    "| 1800 INFORMATION | 1 |\n",
    "| Adam Bellaire | 1 |\n",
    "| Adam Davis | 1 |\n",
    "| ... | ... |"
   ]
  },
  {
   "cell_type": "code",
   "execution_count": 8,
   "metadata": {
    "id": "fIO-y-YjDWKt"
   },
   "outputs": [],
   "source": [
    "# напишите запрос\n",
    "query = '''\n",
    "SELECT username,\n",
    "        COUNT(userid) AS userid_count\n",
    "FROM\n",
    "    (SELECT u.display_name AS username,\n",
    "            u.id AS userid,\n",
    "        COUNT(p.id) AS answer_count\n",
    "    FROM stackoverflow.users u\n",
    "    JOIN stackoverflow.posts p ON p.user_id=u.id\n",
    "    JOIN stackoverflow.post_types pt ON pt.id=p.post_type_id\n",
    "    WHERE pt.id = 2 AND (p.creation_date < (u.creation_date + INTERVAL '1 month'))\n",
    "    GROUP BY u.display_name, u.id) AS counter\n",
    "WHERE answer_count > 100\n",
    "GROUP BY username\n",
    "ORDER BY username\n",
    "'''\n",
    "\n",
    "answers = pd.read_sql_query(query, con=engine)# выполните запрос# выполните запрос"
   ]
  },
  {
   "cell_type": "code",
   "execution_count": 9,
   "metadata": {},
   "outputs": [
    {
     "data": {
      "text/html": [
       "<div>\n",
       "<style scoped>\n",
       "    .dataframe tbody tr th:only-of-type {\n",
       "        vertical-align: middle;\n",
       "    }\n",
       "\n",
       "    .dataframe tbody tr th {\n",
       "        vertical-align: top;\n",
       "    }\n",
       "\n",
       "    .dataframe thead th {\n",
       "        text-align: right;\n",
       "    }\n",
       "</style>\n",
       "<table border=\"1\" class=\"dataframe\">\n",
       "  <thead>\n",
       "    <tr style=\"text-align: right;\">\n",
       "      <th></th>\n",
       "      <th>username</th>\n",
       "      <th>userid_count</th>\n",
       "    </tr>\n",
       "  </thead>\n",
       "  <tbody>\n",
       "    <tr>\n",
       "      <th>0</th>\n",
       "      <td>1800 INFORMATION</td>\n",
       "      <td>1</td>\n",
       "    </tr>\n",
       "    <tr>\n",
       "      <th>1</th>\n",
       "      <td>Adam Bellaire</td>\n",
       "      <td>1</td>\n",
       "    </tr>\n",
       "    <tr>\n",
       "      <th>2</th>\n",
       "      <td>Adam Davis</td>\n",
       "      <td>1</td>\n",
       "    </tr>\n",
       "    <tr>\n",
       "      <th>3</th>\n",
       "      <td>Adam Liss</td>\n",
       "      <td>1</td>\n",
       "    </tr>\n",
       "    <tr>\n",
       "      <th>4</th>\n",
       "      <td>Amy B</td>\n",
       "      <td>1</td>\n",
       "    </tr>\n",
       "    <tr>\n",
       "      <th>...</th>\n",
       "      <td>...</td>\n",
       "      <td>...</td>\n",
       "    </tr>\n",
       "    <tr>\n",
       "      <th>57</th>\n",
       "      <td>leppie</td>\n",
       "      <td>1</td>\n",
       "    </tr>\n",
       "    <tr>\n",
       "      <th>58</th>\n",
       "      <td>lomaxx</td>\n",
       "      <td>1</td>\n",
       "    </tr>\n",
       "    <tr>\n",
       "      <th>59</th>\n",
       "      <td>mattlant</td>\n",
       "      <td>1</td>\n",
       "    </tr>\n",
       "    <tr>\n",
       "      <th>60</th>\n",
       "      <td>paxdiablo</td>\n",
       "      <td>1</td>\n",
       "    </tr>\n",
       "    <tr>\n",
       "      <th>61</th>\n",
       "      <td>tzot</td>\n",
       "      <td>1</td>\n",
       "    </tr>\n",
       "  </tbody>\n",
       "</table>\n",
       "<p>62 rows × 2 columns</p>\n",
       "</div>"
      ],
      "text/plain": [
       "            username  userid_count\n",
       "0   1800 INFORMATION             1\n",
       "1      Adam Bellaire             1\n",
       "2         Adam Davis             1\n",
       "3          Adam Liss             1\n",
       "4              Amy B             1\n",
       "..               ...           ...\n",
       "57            leppie             1\n",
       "58            lomaxx             1\n",
       "59          mattlant             1\n",
       "60         paxdiablo             1\n",
       "61              tzot             1\n",
       "\n",
       "[62 rows x 2 columns]"
      ]
     },
     "metadata": {},
     "output_type": "display_data"
    }
   ],
   "source": [
    "answers = answers.sort_values(by='username', ascending = True)\n",
    "display(answers)"
   ]
  },
  {
   "cell_type": "markdown",
   "metadata": {
    "id": "YIqqc-7HDWKt"
   },
   "source": [
    "<details>\n",
    "\n",
    "<summary>Подсказка</summary>\n",
    "Вам нужно присоединить несколько таблиц — изучите внимательнее описание базы. Чтобы добавить промежуток времени к дате, используйте ключевое слово INTERVAL, например, так: <дата> + INTERVAL '1 year 2 months 3 days'\n",
    ".</details>"
   ]
  },
  {
   "cell_type": "markdown",
   "metadata": {
    "id": "I3Wr82TplKpI"
   },
   "source": [
    "Какие аномалии наблюдаются в данных? О чём они говорят?"
   ]
  },
  {
   "cell_type": "markdown",
   "metadata": {
    "id": "CEIGGQ6ODWKy"
   },
   "source": [
    "_У каждого из пользователей, в первый месяц регистрации давших более 100 ответов, имеется всего одно аномальное значение. Это нормально, аномалий нет._"
   ]
  },
  {
   "cell_type": "markdown",
   "metadata": {
    "id": "JhM2xXj5DWKu"
   },
   "source": [
    "# Задание 3"
   ]
  },
  {
   "cell_type": "markdown",
   "metadata": {
    "id": "IS6xPqyyDWKu"
   },
   "source": [
    "Выведите количество постов за 2008 год по месяцам. Отберите посты от пользователей, которые зарегистрировались в сентябре 2008 года и сделали хотя бы один пост в декабре того же года. Отсортируйте таблицу по значению месяца по убыванию."
   ]
  },
  {
   "cell_type": "markdown",
   "metadata": {
    "id": "WmjhjV2xDWKv"
   },
   "source": [
    "| month | count |\n",
    "| ------|------ |\n",
    "| 2008-12-01 | 17641 |\n",
    "| 2008-11-01 | 18294 |\n",
    "| ... | ... |"
   ]
  },
  {
   "cell_type": "code",
   "execution_count": 10,
   "metadata": {
    "id": "kVu0FB8WDWKv"
   },
   "outputs": [],
   "source": [
    "# напишите запрос\n",
    "query = '''\n",
    "WITH users AS (SELECT id\n",
    "            FROM stackoverflow.users\n",
    "            WHERE id IN(SELECT u.id AS userswithposts\n",
    "    FROM stackoverflow.users u\n",
    "    JOIN stackoverflow.posts p ON p.user_id=u.id\n",
    "    WHERE (DATE_TRUNC('month', p.creation_date) = '2008-12-01') AND (DATE_TRUNC('month', u.creation_date) = '2008-09-01')))\n",
    "\n",
    "SELECT DATE_TRUNC('month', creation_date)::date AS month,\n",
    "        COUNT(id) AS post_count\n",
    "FROM stackoverflow.posts\n",
    "WHERE user_id IN (SELECT id FROM users)\n",
    "GROUP BY DATE_TRUNC('month', creation_date)::date\n",
    "ORDER BY DATE_TRUNC('month', creation_date)::date DESC\n",
    "'''\n",
    "\n",
    "users_posts = pd.read_sql_query(query, con=engine)# выполните запрос"
   ]
  },
  {
   "cell_type": "code",
   "execution_count": 11,
   "metadata": {},
   "outputs": [
    {
     "data": {
      "text/html": [
       "<div>\n",
       "<style scoped>\n",
       "    .dataframe tbody tr th:only-of-type {\n",
       "        vertical-align: middle;\n",
       "    }\n",
       "\n",
       "    .dataframe tbody tr th {\n",
       "        vertical-align: top;\n",
       "    }\n",
       "\n",
       "    .dataframe thead th {\n",
       "        text-align: right;\n",
       "    }\n",
       "</style>\n",
       "<table border=\"1\" class=\"dataframe\">\n",
       "  <thead>\n",
       "    <tr style=\"text-align: right;\">\n",
       "      <th></th>\n",
       "      <th>month</th>\n",
       "      <th>post_count</th>\n",
       "    </tr>\n",
       "  </thead>\n",
       "  <tbody>\n",
       "    <tr>\n",
       "      <th>0</th>\n",
       "      <td>2008-12-01</td>\n",
       "      <td>17641</td>\n",
       "    </tr>\n",
       "    <tr>\n",
       "      <th>1</th>\n",
       "      <td>2008-11-01</td>\n",
       "      <td>18294</td>\n",
       "    </tr>\n",
       "    <tr>\n",
       "      <th>2</th>\n",
       "      <td>2008-10-01</td>\n",
       "      <td>27171</td>\n",
       "    </tr>\n",
       "    <tr>\n",
       "      <th>3</th>\n",
       "      <td>2008-09-01</td>\n",
       "      <td>24870</td>\n",
       "    </tr>\n",
       "    <tr>\n",
       "      <th>4</th>\n",
       "      <td>2008-08-01</td>\n",
       "      <td>32</td>\n",
       "    </tr>\n",
       "  </tbody>\n",
       "</table>\n",
       "</div>"
      ],
      "text/plain": [
       "        month  post_count\n",
       "0  2008-12-01       17641\n",
       "1  2008-11-01       18294\n",
       "2  2008-10-01       27171\n",
       "3  2008-09-01       24870\n",
       "4  2008-08-01          32"
      ]
     },
     "metadata": {},
     "output_type": "display_data"
    }
   ],
   "source": [
    "display(users_posts)"
   ]
  },
  {
   "cell_type": "markdown",
   "metadata": {
    "id": "nWf0JsTMDWKx"
   },
   "source": [
    "<details>\n",
    "\n",
    "<summary>Подсказка</summary>\n",
    "Сначала найдите идентификаторы пользователей, которые зарегистрировались в сентябре 2008 года и оставили хотя бы один пост в декабре. Затем используйте результат для среза и посчитайте посты по месяцам.</details>"
   ]
  },
  {
   "cell_type": "markdown",
   "metadata": {
    "id": "Vnxn9DVHDWKx"
   },
   "source": [
    "Изучите данные: есть ли в них аномалии? Предположите, почему могли появиться аномальные значения."
   ]
  },
  {
   "cell_type": "markdown",
   "metadata": {
    "id": "MMVIz4yMlKpN"
   },
   "source": [
    "_Имеется 32 поста от пользователей, которые еще не зарегистрировались. Такие аномалии могли возникнуть из-за различий в часовых поясах._"
   ]
  },
  {
   "cell_type": "markdown",
   "metadata": {
    "id": "5Pcizm0DDWKz"
   },
   "source": [
    "# Задание 4"
   ]
  },
  {
   "cell_type": "markdown",
   "metadata": {
    "id": "KUZPF6vHDWKz"
   },
   "source": [
    "Используя данные о постах, выведите несколько полей:\n",
    "\n",
    "- идентификатор пользователя, который написал пост;\n",
    "- дата создания поста;\n",
    "- количество просмотров у текущего поста;\n",
    "- сумму просмотров постов автора с накоплением.\n",
    "\n",
    "Данные в таблице должны быть отсортированы по возрастанию идентификаторов пользователей, а данные об одном и том же пользователе — по возрастанию даты создания поста."
   ]
  },
  {
   "cell_type": "markdown",
   "metadata": {
    "id": "ZpsTUVDYDWK0"
   },
   "source": [
    "| user_id | creation_date | views_count | cumulative_count |\n",
    "| ------ | -------------- | ----------- | ---------------- |\n",
    "| 1 | 2008-07-31 23:41:00  | 480476   | 480476  |\n",
    "| 1 | 2008-07-31 23:55:38  | 136033 | 616509  | \n",
    "| 1 | 2008-07-31 23:56:41  | 0 |  616509  |\n",
    "| ... | ... | ... | ... |\n",
    "| 2 | 2008-07-31 23:56:41 | 79087  | 79087 |\n",
    "| 2 | 2008-08-01 05:09:56 | 65443 | 144530 |\n",
    "| ... | ...  | ...  | ...  |"
   ]
  },
  {
   "cell_type": "code",
   "execution_count": 12,
   "metadata": {
    "id": "hDoJhMzfDWK0"
   },
   "outputs": [],
   "source": [
    "# напишите запрос\n",
    "query = '''\n",
    "SELECT user_id,\n",
    "    creation_date,\n",
    "    views_count,\n",
    "    SUM(views_count) OVER (PARTITION BY user_id ORDER BY creation_date) AS cumulative_count\n",
    "FROM stackoverflow.posts\n",
    "ORDER BY user_id\n",
    "'''\n",
    "\n",
    "post_views = pd.read_sql_query(query, con=engine)# выполните запрос"
   ]
  },
  {
   "cell_type": "code",
   "execution_count": 13,
   "metadata": {},
   "outputs": [
    {
     "data": {
      "text/html": [
       "<div>\n",
       "<style scoped>\n",
       "    .dataframe tbody tr th:only-of-type {\n",
       "        vertical-align: middle;\n",
       "    }\n",
       "\n",
       "    .dataframe tbody tr th {\n",
       "        vertical-align: top;\n",
       "    }\n",
       "\n",
       "    .dataframe thead th {\n",
       "        text-align: right;\n",
       "    }\n",
       "</style>\n",
       "<table border=\"1\" class=\"dataframe\">\n",
       "  <thead>\n",
       "    <tr style=\"text-align: right;\">\n",
       "      <th></th>\n",
       "      <th>user_id</th>\n",
       "      <th>creation_date</th>\n",
       "      <th>views_count</th>\n",
       "      <th>cumulative_count</th>\n",
       "    </tr>\n",
       "  </thead>\n",
       "  <tbody>\n",
       "    <tr>\n",
       "      <th>0</th>\n",
       "      <td>1</td>\n",
       "      <td>2008-07-31 23:41:00</td>\n",
       "      <td>480476</td>\n",
       "      <td>480476</td>\n",
       "    </tr>\n",
       "    <tr>\n",
       "      <th>1</th>\n",
       "      <td>1</td>\n",
       "      <td>2008-07-31 23:55:38</td>\n",
       "      <td>136033</td>\n",
       "      <td>616509</td>\n",
       "    </tr>\n",
       "    <tr>\n",
       "      <th>2</th>\n",
       "      <td>1</td>\n",
       "      <td>2008-07-31 23:56:41</td>\n",
       "      <td>0</td>\n",
       "      <td>616509</td>\n",
       "    </tr>\n",
       "    <tr>\n",
       "      <th>3</th>\n",
       "      <td>1</td>\n",
       "      <td>2008-08-04 02:45:08</td>\n",
       "      <td>0</td>\n",
       "      <td>616509</td>\n",
       "    </tr>\n",
       "    <tr>\n",
       "      <th>4</th>\n",
       "      <td>1</td>\n",
       "      <td>2008-08-04 04:31:03</td>\n",
       "      <td>0</td>\n",
       "      <td>616509</td>\n",
       "    </tr>\n",
       "    <tr>\n",
       "      <th>...</th>\n",
       "      <td>...</td>\n",
       "      <td>...</td>\n",
       "      <td>...</td>\n",
       "      <td>...</td>\n",
       "    </tr>\n",
       "    <tr>\n",
       "      <th>243791</th>\n",
       "      <td>5696608</td>\n",
       "      <td>2008-12-23 16:00:37</td>\n",
       "      <td>0</td>\n",
       "      <td>2804</td>\n",
       "    </tr>\n",
       "    <tr>\n",
       "      <th>243792</th>\n",
       "      <td>5696608</td>\n",
       "      <td>2008-12-23 17:35:09</td>\n",
       "      <td>0</td>\n",
       "      <td>2804</td>\n",
       "    </tr>\n",
       "    <tr>\n",
       "      <th>243793</th>\n",
       "      <td>5696608</td>\n",
       "      <td>2008-12-24 01:02:48</td>\n",
       "      <td>0</td>\n",
       "      <td>2804</td>\n",
       "    </tr>\n",
       "    <tr>\n",
       "      <th>243794</th>\n",
       "      <td>5696608</td>\n",
       "      <td>2008-12-30 14:34:45</td>\n",
       "      <td>0</td>\n",
       "      <td>2804</td>\n",
       "    </tr>\n",
       "    <tr>\n",
       "      <th>243795</th>\n",
       "      <td>5696608</td>\n",
       "      <td>2008-12-30 16:32:12</td>\n",
       "      <td>0</td>\n",
       "      <td>2804</td>\n",
       "    </tr>\n",
       "  </tbody>\n",
       "</table>\n",
       "<p>243796 rows × 4 columns</p>\n",
       "</div>"
      ],
      "text/plain": [
       "        user_id       creation_date  views_count  cumulative_count\n",
       "0             1 2008-07-31 23:41:00       480476            480476\n",
       "1             1 2008-07-31 23:55:38       136033            616509\n",
       "2             1 2008-07-31 23:56:41            0            616509\n",
       "3             1 2008-08-04 02:45:08            0            616509\n",
       "4             1 2008-08-04 04:31:03            0            616509\n",
       "...         ...                 ...          ...               ...\n",
       "243791  5696608 2008-12-23 16:00:37            0              2804\n",
       "243792  5696608 2008-12-23 17:35:09            0              2804\n",
       "243793  5696608 2008-12-24 01:02:48            0              2804\n",
       "243794  5696608 2008-12-30 14:34:45            0              2804\n",
       "243795  5696608 2008-12-30 16:32:12            0              2804\n",
       "\n",
       "[243796 rows x 4 columns]"
      ]
     },
     "execution_count": 13,
     "metadata": {},
     "output_type": "execute_result"
    }
   ],
   "source": [
    "post_views"
   ]
  },
  {
   "cell_type": "markdown",
   "metadata": {
    "id": "toidOivXDWK1"
   },
   "source": [
    "<details>\n",
    "\n",
    "<summary>Подсказка</summary>\n",
    "Для подсчёта суммы с накоплением используйте оконную функцию.\n",
    "</details>"
   ]
  },
  {
   "cell_type": "markdown",
   "metadata": {
    "id": "N0kHRHvIDWK2"
   },
   "source": [
    "# Задание 5"
   ]
  },
  {
   "cell_type": "markdown",
   "metadata": {
    "id": "gBgvmPtODWK2"
   },
   "source": [
    "Найдите среднее количество постов пользователей в день за август 2008 года. Отберите данные о пользователях, которые опубликовали больше 120 постов за август. Дни без публикаций не учитывайте. \n",
    "\n",
    "Отсортируйте результат по возрастанию среднего количества постов. Значения можно не округлять."
   ]
  },
  {
   "cell_type": "markdown",
   "metadata": {
    "id": "nfzR08BODWK3"
   },
   "source": [
    "| user_id | avg_daily |\n",
    "| ------- | --------- |\n",
    "| 116     | 4.777778  |\n",
    "| 234     | 5.208333  |\n",
    "| ...     | ... |"
   ]
  },
  {
   "cell_type": "code",
   "execution_count": 14,
   "metadata": {
    "id": "YFyPNz5GDWK3"
   },
   "outputs": [],
   "source": [
    "# напишите запрос\n",
    "query = '''\n",
    "WITH users AS (SELECT user_id,\n",
    "            COUNT(id) AS august_posts\n",
    "        FROM stackoverflow.posts\n",
    "        WHERE DATE_TRUNC('month', creation_date) = '2008-08-01'\n",
    "        GROUP BY 1\n",
    "        HAVING COUNT(id) > 120)\n",
    "SELECT user_id,\n",
    "    AVG(day_count) AS avg_daily\n",
    "FROM\n",
    "    (SELECT user_id,\n",
    "        EXTRACT(DAY FROM creation_date::date) AS creation_day,\n",
    "        COUNT(id) AS day_count\n",
    "    FROM stackoverflow.posts\n",
    "    WHERE user_id IN (SELECT user_id FROM users) AND (DATE_TRUNC('month', creation_date) = '2008-08-01')\n",
    "    GROUP BY 1,2\n",
    "    HAVING COUNT(id) != 0\n",
    "    ) AS counter\n",
    "GROUP BY 1\n",
    "ORDER BY 2\n",
    "\n",
    "'''\n",
    "\n",
    "august_posts = pd.read_sql_query(query, con=engine)# выполните запрос"
   ]
  },
  {
   "cell_type": "code",
   "execution_count": 15,
   "metadata": {},
   "outputs": [
    {
     "data": {
      "text/html": [
       "<div>\n",
       "<style scoped>\n",
       "    .dataframe tbody tr th:only-of-type {\n",
       "        vertical-align: middle;\n",
       "    }\n",
       "\n",
       "    .dataframe tbody tr th {\n",
       "        vertical-align: top;\n",
       "    }\n",
       "\n",
       "    .dataframe thead th {\n",
       "        text-align: right;\n",
       "    }\n",
       "</style>\n",
       "<table border=\"1\" class=\"dataframe\">\n",
       "  <thead>\n",
       "    <tr style=\"text-align: right;\">\n",
       "      <th></th>\n",
       "      <th>user_id</th>\n",
       "      <th>avg_daily</th>\n",
       "    </tr>\n",
       "  </thead>\n",
       "  <tbody>\n",
       "    <tr>\n",
       "      <th>0</th>\n",
       "      <td>116</td>\n",
       "      <td>4.777778</td>\n",
       "    </tr>\n",
       "    <tr>\n",
       "      <th>1</th>\n",
       "      <td>234</td>\n",
       "      <td>5.208333</td>\n",
       "    </tr>\n",
       "    <tr>\n",
       "      <th>2</th>\n",
       "      <td>91</td>\n",
       "      <td>5.681818</td>\n",
       "    </tr>\n",
       "    <tr>\n",
       "      <th>3</th>\n",
       "      <td>905</td>\n",
       "      <td>7.000000</td>\n",
       "    </tr>\n",
       "    <tr>\n",
       "      <th>4</th>\n",
       "      <td>383</td>\n",
       "      <td>7.277778</td>\n",
       "    </tr>\n",
       "  </tbody>\n",
       "</table>\n",
       "</div>"
      ],
      "text/plain": [
       "   user_id  avg_daily\n",
       "0      116   4.777778\n",
       "1      234   5.208333\n",
       "2       91   5.681818\n",
       "3      905   7.000000\n",
       "4      383   7.277778"
      ]
     },
     "execution_count": 15,
     "metadata": {},
     "output_type": "execute_result"
    }
   ],
   "source": [
    "august_posts"
   ]
  },
  {
   "cell_type": "markdown",
   "metadata": {
    "id": "5Gs8kiJvDWK4"
   },
   "source": [
    "<details>\n",
    "\n",
    "<summary>Подсказка</summary>\n",
    "Сначала найдите идентификаторы пользователей, которые написали более 120 постов за август. Используя этот запрос в качестве подзапроса для среза, найдите и сохраните во временную таблицу идентификаторы нужных пользователей, дни августа и количество постов в день. В основном запросе сгруппируйте данные по пользователям и найдите для каждого из них среднее количество постов.\n",
    "</details>"
   ]
  },
  {
   "cell_type": "markdown",
   "metadata": {
    "id": "EQ0dcFH4DWK5"
   },
   "source": [
    "# Задание 6"
   ]
  },
  {
   "cell_type": "markdown",
   "metadata": {
    "id": "c7flfg_hDWK5"
   },
   "source": [
    "Сколько в среднем дней в период с 1 по 7 декабря 2008 года пользователи взаимодействовали с платформой? Для каждого пользователя отберите дни, в которые он или она опубликовали хотя бы один пост. Нужно получить одно целое число — не забудьте округлить результат. "
   ]
  },
  {
   "cell_type": "markdown",
   "metadata": {
    "id": "RC1Ibzm9DWK6"
   },
   "source": [
    "| result |\n",
    "| -----  |\n",
    "| <целое число> |"
   ]
  },
  {
   "cell_type": "code",
   "execution_count": 16,
   "metadata": {
    "id": "kZ7LXTr6DWK6"
   },
   "outputs": [],
   "source": [
    "# напишите запрос\n",
    "query = '''\n",
    "WITH counter AS (SELECT user_id,\n",
    "        EXTRACT(DAY FROM creation_date::date) AS creation_day,\n",
    "        COUNT(id) AS posts_per_day\n",
    "    FROM stackoverflow.posts\n",
    "    WHERE creation_date::date IN ('2008-12-01','2008-12-02','2008-12-03','2008-12-04','2008-12-05','2008-12-06','2008-12-07')\n",
    "    GROUP BY 1,2\n",
    "    ORDER BY user_id),\n",
    "window_func AS (SELECT DISTINCT user_id,\n",
    "            COUNT(creation_day) OVER (PARTITION BY user_id) AS active_days\n",
    "            FROM counter)\n",
    "SELECT CAST(ROUND(AVG(active_days)) AS INT) AS result\n",
    "FROM window_func\n",
    "'''\n",
    "\n",
    "december_activity = pd.read_sql_query(query, con=engine)# выполните запрос"
   ]
  },
  {
   "cell_type": "code",
   "execution_count": 17,
   "metadata": {},
   "outputs": [
    {
     "data": {
      "text/html": [
       "<div>\n",
       "<style scoped>\n",
       "    .dataframe tbody tr th:only-of-type {\n",
       "        vertical-align: middle;\n",
       "    }\n",
       "\n",
       "    .dataframe tbody tr th {\n",
       "        vertical-align: top;\n",
       "    }\n",
       "\n",
       "    .dataframe thead th {\n",
       "        text-align: right;\n",
       "    }\n",
       "</style>\n",
       "<table border=\"1\" class=\"dataframe\">\n",
       "  <thead>\n",
       "    <tr style=\"text-align: right;\">\n",
       "      <th></th>\n",
       "      <th>result</th>\n",
       "    </tr>\n",
       "  </thead>\n",
       "  <tbody>\n",
       "    <tr>\n",
       "      <th>0</th>\n",
       "      <td>2</td>\n",
       "    </tr>\n",
       "  </tbody>\n",
       "</table>\n",
       "</div>"
      ],
      "text/plain": [
       "   result\n",
       "0       2"
      ]
     },
     "execution_count": 17,
     "metadata": {},
     "output_type": "execute_result"
    }
   ],
   "source": [
    "december_activity"
   ]
  },
  {
   "cell_type": "markdown",
   "metadata": {
    "id": "2K5G3xuBDWK7"
   },
   "source": [
    "<details>\n",
    "\n",
    "<summary>Подсказка</summary>\n",
    "Посчитайте, сколько активных дней было у каждого пользователя. Добавьте данные во временную таблицу и используйте в основном запросе.\n",
    "</details>"
   ]
  },
  {
   "cell_type": "markdown",
   "metadata": {
    "id": "UJFtNNggDWK7"
   },
   "source": [
    "Проанализируйте итоговую таблицу — какие выводы можно сделать?"
   ]
  },
  {
   "cell_type": "markdown",
   "metadata": {
    "id": "LfUuYz-1DWK8"
   },
   "source": [
    "_В первую неделю декабря активные пользователи делали среднем 2 поста в неделю._"
   ]
  },
  {
   "cell_type": "markdown",
   "metadata": {
    "id": "wfOmqmfLDWK8"
   },
   "source": [
    "# Задание 7"
   ]
  },
  {
   "cell_type": "markdown",
   "metadata": {
    "id": "X4ARQimADWK9"
   },
   "source": [
    "Выведите историю активности каждого пользователя в таком виде: идентификатор пользователя, дата публикации поста. Отсортируйте вывод по возрастанию идентификаторов пользователей, а для каждого пользователя — по возрастанию даты публикации.\n",
    "\n",
    "Добавьте в таблицу новое поле: для каждого поста в нём будет указано название месяца предпоследней публикации пользователя относительно текущей. Если такой публикации нет, укажите `NULL`.  Python автоматически поменяет `NULL` на `None`, но дополнительно преобразовывать значения `None` вам не нужно.\n",
    "\n",
    "Посмотрите внимательно на образец таблицы: для первых двух постов предпоследней публикации нет, но, начиная с третьего поста, в новое поле входит нужный месяц. Для следующего пользователя в первые две записи поля `second_last_month` тоже войдёт `NULL`."
   ]
  },
  {
   "cell_type": "markdown",
   "metadata": {
    "id": "IGPjRP01DWK9"
   },
   "source": [
    "| user_id | creation_date | second_last_month |\n",
    "| ------- | ------------- | ----------------- |\n",
    "| 1       | 2008-07-31 23:41:00 | None |\n",
    "| 1       | 2008-07-31 23:55:38 | None |\n",
    "| 1       | 2008-07-31 23:56:41 | July |\n",
    "| 1       | 2008-08-04 02:45:08 | July |\n",
    "| 1       | 2008-08-04 04:31:03 | July |\n",
    "| 1       | 2008-08-04 08:04:42 | August |\n",
    "| ... | ... | ... |"
   ]
  },
  {
   "cell_type": "code",
   "execution_count": 18,
   "metadata": {
    "id": "HzI1vhaMDWK-"
   },
   "outputs": [],
   "source": [
    "# напишите запрос\n",
    "query = '''\n",
    "SELECT user_id,\n",
    "    creation_date,\n",
    "    TO_CHAR(second_last_month1, 'Month') AS second_last_month\n",
    "FROM\n",
    "    (SELECT user_id,\n",
    "        creation_date,\n",
    "       LAG(creation_date, 2, NULL) OVER (PARTITION BY user_id ORDER BY creation_date) AS second_last_month1\n",
    "    FROM stackoverflow.posts\n",
    "    ORDER BY 1,2) AS nonames\n",
    "''' \n",
    "\n",
    "second_last_month = pd.read_sql_query(query, con=engine)# выполните запрос"
   ]
  },
  {
   "cell_type": "code",
   "execution_count": 19,
   "metadata": {
    "scrolled": true
   },
   "outputs": [
    {
     "data": {
      "text/html": [
       "<div>\n",
       "<style scoped>\n",
       "    .dataframe tbody tr th:only-of-type {\n",
       "        vertical-align: middle;\n",
       "    }\n",
       "\n",
       "    .dataframe tbody tr th {\n",
       "        vertical-align: top;\n",
       "    }\n",
       "\n",
       "    .dataframe thead th {\n",
       "        text-align: right;\n",
       "    }\n",
       "</style>\n",
       "<table border=\"1\" class=\"dataframe\">\n",
       "  <thead>\n",
       "    <tr style=\"text-align: right;\">\n",
       "      <th></th>\n",
       "      <th>user_id</th>\n",
       "      <th>creation_date</th>\n",
       "      <th>second_last_month</th>\n",
       "    </tr>\n",
       "  </thead>\n",
       "  <tbody>\n",
       "    <tr>\n",
       "      <th>0</th>\n",
       "      <td>1</td>\n",
       "      <td>2008-07-31 23:41:00</td>\n",
       "      <td>None</td>\n",
       "    </tr>\n",
       "    <tr>\n",
       "      <th>1</th>\n",
       "      <td>1</td>\n",
       "      <td>2008-07-31 23:55:38</td>\n",
       "      <td>None</td>\n",
       "    </tr>\n",
       "    <tr>\n",
       "      <th>2</th>\n",
       "      <td>1</td>\n",
       "      <td>2008-07-31 23:56:41</td>\n",
       "      <td>July</td>\n",
       "    </tr>\n",
       "    <tr>\n",
       "      <th>3</th>\n",
       "      <td>1</td>\n",
       "      <td>2008-08-04 02:45:08</td>\n",
       "      <td>July</td>\n",
       "    </tr>\n",
       "    <tr>\n",
       "      <th>4</th>\n",
       "      <td>1</td>\n",
       "      <td>2008-08-04 04:31:03</td>\n",
       "      <td>July</td>\n",
       "    </tr>\n",
       "    <tr>\n",
       "      <th>...</th>\n",
       "      <td>...</td>\n",
       "      <td>...</td>\n",
       "      <td>...</td>\n",
       "    </tr>\n",
       "    <tr>\n",
       "      <th>243791</th>\n",
       "      <td>5696608</td>\n",
       "      <td>2008-12-23 16:00:37</td>\n",
       "      <td>December</td>\n",
       "    </tr>\n",
       "    <tr>\n",
       "      <th>243792</th>\n",
       "      <td>5696608</td>\n",
       "      <td>2008-12-23 17:35:09</td>\n",
       "      <td>December</td>\n",
       "    </tr>\n",
       "    <tr>\n",
       "      <th>243793</th>\n",
       "      <td>5696608</td>\n",
       "      <td>2008-12-24 01:02:48</td>\n",
       "      <td>December</td>\n",
       "    </tr>\n",
       "    <tr>\n",
       "      <th>243794</th>\n",
       "      <td>5696608</td>\n",
       "      <td>2008-12-30 14:34:45</td>\n",
       "      <td>December</td>\n",
       "    </tr>\n",
       "    <tr>\n",
       "      <th>243795</th>\n",
       "      <td>5696608</td>\n",
       "      <td>2008-12-30 16:32:12</td>\n",
       "      <td>December</td>\n",
       "    </tr>\n",
       "  </tbody>\n",
       "</table>\n",
       "<p>243796 rows × 3 columns</p>\n",
       "</div>"
      ],
      "text/plain": [
       "        user_id       creation_date second_last_month\n",
       "0             1 2008-07-31 23:41:00              None\n",
       "1             1 2008-07-31 23:55:38              None\n",
       "2             1 2008-07-31 23:56:41         July     \n",
       "3             1 2008-08-04 02:45:08         July     \n",
       "4             1 2008-08-04 04:31:03         July     \n",
       "...         ...                 ...               ...\n",
       "243791  5696608 2008-12-23 16:00:37         December \n",
       "243792  5696608 2008-12-23 17:35:09         December \n",
       "243793  5696608 2008-12-24 01:02:48         December \n",
       "243794  5696608 2008-12-30 14:34:45         December \n",
       "243795  5696608 2008-12-30 16:32:12         December \n",
       "\n",
       "[243796 rows x 3 columns]"
      ]
     },
     "execution_count": 19,
     "metadata": {},
     "output_type": "execute_result"
    }
   ],
   "source": [
    "second_last_month"
   ]
  },
  {
   "cell_type": "markdown",
   "metadata": {
    "id": "7dqoKkncDWK_"
   },
   "source": [
    "<details>\n",
    "\n",
    "<summary>Подсказка</summary>\n",
    "Преобразовать результат оконной функции в нужное значение вам поможет аналог условного оператора в SQL: CASE <поле> WHEN <старое значение> THEN <новое значение> END.\n",
    "</details>"
   ]
  },
  {
   "cell_type": "markdown",
   "metadata": {
    "id": "tf9qq2yzDWK_"
   },
   "source": [
    "# Задание 8"
   ]
  },
  {
   "cell_type": "markdown",
   "metadata": {
    "id": "gfwLVXBYDWLA"
   },
   "source": [
    "Рассчитайте аналог Retention Rate по месяцам для пользователей StackOverflow. Объедините пользователей в когорты по месяцу их первого поста. Возвращение определяйте по наличию поста в текущем месяце. "
   ]
  },
  {
   "cell_type": "markdown",
   "metadata": {
    "id": "kN2ic39WlKpl"
   },
   "source": [
    "| cohort_dt | session_date | users_cnt | cohort_users_cnt | retention_rate |\n",
    "| --- | --- | --- | --- | --- |\n",
    "| 2008-07-01 00:00:00 | 2008-07-01 00:00:00 | 3 | 3 | 100 |\n",
    "| 2008-07-01 00:00:00 | 2008-08-01 00:00:00 | 2 | 3 | 66,67 |\n",
    "| 2008-07-01 00:00:00 | 2008-09-01 00:00:00 | 1 | 3 | 33,33 |\n",
    "| 2008-07-01 00:00:00 | 2008-10-01 00:00:00 | 2 | 3 | 66,67 |\n",
    "| 2008-07-01 00:00:00 | 2008-11-01 00:00:00 | 1 | 3 | 33,33 |\n",
    "| 2008-07-01 00:00:00 | 2008-12-01 00:00:00 | 2 | 3 | 66,67 |\n",
    "| 2008-08-01 00:00:00 | 2008-08-01 00:00:00 | 2151 | 2151 | 100 |\n",
    "| ... | ... | ... | ... | ... |"
   ]
  },
  {
   "cell_type": "code",
   "execution_count": 20,
   "metadata": {
    "id": "LUgFmwmTDWLB"
   },
   "outputs": [],
   "source": [
    "# напишите запрос\n",
    "query = '''\n",
    "WITH profile AS\n",
    "    (SELECT user_id,\n",
    "            dt,\n",
    "            COUNT(*) OVER (PARTITION BY dt) AS cohort_users_cnt\n",
    "     FROM (SELECT DISTINCT user_id,\n",
    "            MIN(DATE_TRUNC('month', creation_date)) OVER (PARTITION BY user_id) as dt\n",
    "            FROM stackoverflow.posts) AS profiles_first_post),\n",
    "sessions AS\n",
    "    (SELECT user_id,\n",
    "            DATE_TRUNC('month', creation_date) AS session_date\n",
    "     FROM stackoverflow.posts\n",
    "     GROUP BY 1, 2)\n",
    "SELECT p.dt AS cohort_dt,\n",
    "       session_date,\n",
    "       COUNT(p.user_id) AS users_cnt,\n",
    "       cohort_users_cnt,\n",
    "       ROUND(COUNT(p.user_id) * 100.0 / cohort_users_cnt, 2) AS retention_rate\n",
    "FROM profile p\n",
    "JOIN sessions s ON p.user_id=s.user_id\n",
    "GROUP BY 1,2,4\n",
    "ORDER BY 1, 2\n",
    "'''\n",
    "\n",
    "RR_stkovflw = pd.read_sql_query(query, con=engine)# выполните запрос"
   ]
  },
  {
   "cell_type": "code",
   "execution_count": 21,
   "metadata": {},
   "outputs": [
    {
     "data": {
      "text/html": [
       "<div>\n",
       "<style scoped>\n",
       "    .dataframe tbody tr th:only-of-type {\n",
       "        vertical-align: middle;\n",
       "    }\n",
       "\n",
       "    .dataframe tbody tr th {\n",
       "        vertical-align: top;\n",
       "    }\n",
       "\n",
       "    .dataframe thead th {\n",
       "        text-align: right;\n",
       "    }\n",
       "</style>\n",
       "<table border=\"1\" class=\"dataframe\">\n",
       "  <thead>\n",
       "    <tr style=\"text-align: right;\">\n",
       "      <th></th>\n",
       "      <th>cohort_dt</th>\n",
       "      <th>session_date</th>\n",
       "      <th>users_cnt</th>\n",
       "      <th>cohort_users_cnt</th>\n",
       "      <th>retention_rate</th>\n",
       "    </tr>\n",
       "  </thead>\n",
       "  <tbody>\n",
       "    <tr>\n",
       "      <th>0</th>\n",
       "      <td>2008-07-01</td>\n",
       "      <td>2008-07-01</td>\n",
       "      <td>3</td>\n",
       "      <td>3</td>\n",
       "      <td>100.00</td>\n",
       "    </tr>\n",
       "    <tr>\n",
       "      <th>1</th>\n",
       "      <td>2008-07-01</td>\n",
       "      <td>2008-08-01</td>\n",
       "      <td>2</td>\n",
       "      <td>3</td>\n",
       "      <td>66.67</td>\n",
       "    </tr>\n",
       "    <tr>\n",
       "      <th>2</th>\n",
       "      <td>2008-07-01</td>\n",
       "      <td>2008-09-01</td>\n",
       "      <td>1</td>\n",
       "      <td>3</td>\n",
       "      <td>33.33</td>\n",
       "    </tr>\n",
       "    <tr>\n",
       "      <th>3</th>\n",
       "      <td>2008-07-01</td>\n",
       "      <td>2008-10-01</td>\n",
       "      <td>2</td>\n",
       "      <td>3</td>\n",
       "      <td>66.67</td>\n",
       "    </tr>\n",
       "    <tr>\n",
       "      <th>4</th>\n",
       "      <td>2008-07-01</td>\n",
       "      <td>2008-11-01</td>\n",
       "      <td>1</td>\n",
       "      <td>3</td>\n",
       "      <td>33.33</td>\n",
       "    </tr>\n",
       "    <tr>\n",
       "      <th>5</th>\n",
       "      <td>2008-07-01</td>\n",
       "      <td>2008-12-01</td>\n",
       "      <td>2</td>\n",
       "      <td>3</td>\n",
       "      <td>66.67</td>\n",
       "    </tr>\n",
       "    <tr>\n",
       "      <th>6</th>\n",
       "      <td>2008-08-01</td>\n",
       "      <td>2008-08-01</td>\n",
       "      <td>2151</td>\n",
       "      <td>2151</td>\n",
       "      <td>100.00</td>\n",
       "    </tr>\n",
       "    <tr>\n",
       "      <th>7</th>\n",
       "      <td>2008-08-01</td>\n",
       "      <td>2008-09-01</td>\n",
       "      <td>1571</td>\n",
       "      <td>2151</td>\n",
       "      <td>73.04</td>\n",
       "    </tr>\n",
       "    <tr>\n",
       "      <th>8</th>\n",
       "      <td>2008-08-01</td>\n",
       "      <td>2008-10-01</td>\n",
       "      <td>1275</td>\n",
       "      <td>2151</td>\n",
       "      <td>59.27</td>\n",
       "    </tr>\n",
       "    <tr>\n",
       "      <th>9</th>\n",
       "      <td>2008-08-01</td>\n",
       "      <td>2008-11-01</td>\n",
       "      <td>1050</td>\n",
       "      <td>2151</td>\n",
       "      <td>48.81</td>\n",
       "    </tr>\n",
       "    <tr>\n",
       "      <th>10</th>\n",
       "      <td>2008-08-01</td>\n",
       "      <td>2008-12-01</td>\n",
       "      <td>894</td>\n",
       "      <td>2151</td>\n",
       "      <td>41.56</td>\n",
       "    </tr>\n",
       "    <tr>\n",
       "      <th>11</th>\n",
       "      <td>2008-09-01</td>\n",
       "      <td>2008-09-01</td>\n",
       "      <td>7678</td>\n",
       "      <td>7678</td>\n",
       "      <td>100.00</td>\n",
       "    </tr>\n",
       "    <tr>\n",
       "      <th>12</th>\n",
       "      <td>2008-09-01</td>\n",
       "      <td>2008-10-01</td>\n",
       "      <td>4132</td>\n",
       "      <td>7678</td>\n",
       "      <td>53.82</td>\n",
       "    </tr>\n",
       "    <tr>\n",
       "      <th>13</th>\n",
       "      <td>2008-09-01</td>\n",
       "      <td>2008-11-01</td>\n",
       "      <td>2966</td>\n",
       "      <td>7678</td>\n",
       "      <td>38.63</td>\n",
       "    </tr>\n",
       "    <tr>\n",
       "      <th>14</th>\n",
       "      <td>2008-09-01</td>\n",
       "      <td>2008-12-01</td>\n",
       "      <td>2500</td>\n",
       "      <td>7678</td>\n",
       "      <td>32.56</td>\n",
       "    </tr>\n",
       "    <tr>\n",
       "      <th>15</th>\n",
       "      <td>2008-10-01</td>\n",
       "      <td>2008-10-01</td>\n",
       "      <td>3629</td>\n",
       "      <td>3629</td>\n",
       "      <td>100.00</td>\n",
       "    </tr>\n",
       "    <tr>\n",
       "      <th>16</th>\n",
       "      <td>2008-10-01</td>\n",
       "      <td>2008-11-01</td>\n",
       "      <td>1640</td>\n",
       "      <td>3629</td>\n",
       "      <td>45.19</td>\n",
       "    </tr>\n",
       "    <tr>\n",
       "      <th>17</th>\n",
       "      <td>2008-10-01</td>\n",
       "      <td>2008-12-01</td>\n",
       "      <td>1221</td>\n",
       "      <td>3629</td>\n",
       "      <td>33.65</td>\n",
       "    </tr>\n",
       "    <tr>\n",
       "      <th>18</th>\n",
       "      <td>2008-11-01</td>\n",
       "      <td>2008-11-01</td>\n",
       "      <td>2852</td>\n",
       "      <td>2852</td>\n",
       "      <td>100.00</td>\n",
       "    </tr>\n",
       "    <tr>\n",
       "      <th>19</th>\n",
       "      <td>2008-11-01</td>\n",
       "      <td>2008-12-01</td>\n",
       "      <td>1151</td>\n",
       "      <td>2852</td>\n",
       "      <td>40.36</td>\n",
       "    </tr>\n",
       "    <tr>\n",
       "      <th>20</th>\n",
       "      <td>2008-12-01</td>\n",
       "      <td>2008-12-01</td>\n",
       "      <td>2536</td>\n",
       "      <td>2536</td>\n",
       "      <td>100.00</td>\n",
       "    </tr>\n",
       "  </tbody>\n",
       "</table>\n",
       "</div>"
      ],
      "text/plain": [
       "    cohort_dt session_date  users_cnt  cohort_users_cnt  retention_rate\n",
       "0  2008-07-01   2008-07-01          3                 3          100.00\n",
       "1  2008-07-01   2008-08-01          2                 3           66.67\n",
       "2  2008-07-01   2008-09-01          1                 3           33.33\n",
       "3  2008-07-01   2008-10-01          2                 3           66.67\n",
       "4  2008-07-01   2008-11-01          1                 3           33.33\n",
       "5  2008-07-01   2008-12-01          2                 3           66.67\n",
       "6  2008-08-01   2008-08-01       2151              2151          100.00\n",
       "7  2008-08-01   2008-09-01       1571              2151           73.04\n",
       "8  2008-08-01   2008-10-01       1275              2151           59.27\n",
       "9  2008-08-01   2008-11-01       1050              2151           48.81\n",
       "10 2008-08-01   2008-12-01        894              2151           41.56\n",
       "11 2008-09-01   2008-09-01       7678              7678          100.00\n",
       "12 2008-09-01   2008-10-01       4132              7678           53.82\n",
       "13 2008-09-01   2008-11-01       2966              7678           38.63\n",
       "14 2008-09-01   2008-12-01       2500              7678           32.56\n",
       "15 2008-10-01   2008-10-01       3629              3629          100.00\n",
       "16 2008-10-01   2008-11-01       1640              3629           45.19\n",
       "17 2008-10-01   2008-12-01       1221              3629           33.65\n",
       "18 2008-11-01   2008-11-01       2852              2852          100.00\n",
       "19 2008-11-01   2008-12-01       1151              2852           40.36\n",
       "20 2008-12-01   2008-12-01       2536              2536          100.00"
      ]
     },
     "execution_count": 21,
     "metadata": {},
     "output_type": "execute_result"
    }
   ],
   "source": [
    "RR_stkovflw"
   ]
  },
  {
   "cell_type": "markdown",
   "metadata": {
    "id": "Yavb5o9JDWLB"
   },
   "source": [
    "<details>\n",
    "\n",
    "<summary>Подсказка</summary>\n",
    "Вспомните, как выглядел запрос для расчёта Retention Rate в теории. Создайте две временные таблицы: `profile` и `sessions` (в ней будет информация о публикациях), а затем используйте их в основном запросе.\n",
    "\n",
    "Во временной таблице `profile` вам понадобятся три поля:\n",
    "\n",
    "- идентификатор пользователя;\n",
    "- дата первого поста пользователя, усечённая до месяца (признак начала когорты);\n",
    "- количество пользователей этой когорты.\n",
    "</details>"
   ]
  },
  {
   "cell_type": "markdown",
   "metadata": {
    "id": "_msBtnb2DWLC"
   },
   "source": [
    "Постройте тепловую карту Retention Rate. Какие аномалии или другие необычные явления удалось выявить? Сформулируйте гипотезы о возможных причинах."
   ]
  },
  {
   "cell_type": "code",
   "execution_count": 22,
   "metadata": {
    "id": "qAEJc8H1DWLC",
    "scrolled": true
   },
   "outputs": [
    {
     "data": {
      "image/png": "[encoded data removed]",
      "text/plain": [
       "<Figure size 936x432 with 2 Axes>"
      ]
     },
     "metadata": {
      "needs_background": "light"
     },
     "output_type": "display_data"
    }
   ],
   "source": [
    "RR_stkovflw_pivot = RR_stkovflw.pivot('cohort_dt','session_date','retention_rate')\n",
    "RR_stkovflw_pivot.index = [str(x)[0:10] for x in RR_stkovflw_pivot.index]\n",
    "RR_stkovflw_pivot.columns = [str(x)[0:10] for x in RR_stkovflw_pivot.columns]\n",
    "RR_stkovflw_pivot = RR_stkovflw_pivot.replace([100.0], np.nan)\n",
    "#display(RR_stkovflw_pivot)\n",
    "\n",
    "plt.figure(figsize=(13, 6)) \n",
    "sns.heatmap(\n",
    "    RR_stkovflw_pivot.drop(columns=['2008-07-01']),\n",
    "    annot=True,\n",
    "    fmt='.0f'\n",
    ")\n",
    "plt.title('Тепловая карта удержания')\n",
    "plt.xlabel('RR по месяцам')\n",
    "plt.ylabel('Месяц когорты')\n",
    "plt.show()"
   ]
  },
  {
   "cell_type": "markdown",
   "metadata": {
    "id": "EgOfIsI4DWLC"
   },
   "source": [
    "_Значения июльской когорты аномальны из-за малого количества пользователей в ней._ \\\n",
    "_Лучше других удерживались августовские пользователи._"
   ]
  },
  {
   "cell_type": "markdown",
   "metadata": {
    "id": "1k7oPWt5DWLK"
   },
   "source": [
    "# Задание 9\n"
   ]
  },
  {
   "cell_type": "markdown",
   "metadata": {
    "id": "ALsYVSyRDWLM"
   },
   "source": [
    "На сколько процентов менялось количество постов ежемесячно с 1 сентября по 31 декабря 2008 года? Отобразите таблицу со следующими полями:\n",
    "\n",
    "- номер месяца;\n",
    "- количество постов за месяц;\n",
    "- процент, который показывает, насколько изменилось количество постов в текущем месяце по сравнению с предыдущим.\n",
    "\n",
    "Если постов стало меньше, значение процента должно быть отрицательным, если больше — положительным. Округлите значение процента до двух знаков после запятой.\n",
    "\n",
    "Напомним, что при делении одного целого числа на другое в PostgreSQL в результате получится целое число, округлённое до ближайшего целого вниз. Чтобы этого избежать, переведите делимое в тип `numeric`."
   ]
  },
  {
   "cell_type": "markdown",
   "metadata": {
    "id": "u4E2zF8DDWLM"
   },
   "source": [
    "| creation_month | posts_count | percentage |\n",
    "| -------------- | ----------- | ---------- |\n",
    "| 9 | 70731 | Nan |\n",
    "| 10 | 63102 | -10.33 |\n",
    "| ... | ... | ... |"
   ]
  },
  {
   "cell_type": "code",
   "execution_count": 23,
   "metadata": {
    "id": "Mb5pShStDWLN"
   },
   "outputs": [],
   "source": [
    "# напишите запрос\n",
    "query = '''\n",
    "WITH counter AS (\n",
    "    SELECT EXTRACT(MONTH FROM creation_date)::int AS creation_month,\n",
    "            COUNT(id) AS posts_count\n",
    "    FROM stackoverflow.posts\n",
    "    WHERE creation_date::date BETWEEN '2008-09-01' AND '2008-12-31'  \n",
    "    GROUP BY 1),\n",
    "last_month AS (\n",
    "    SELECT *,\n",
    "    LAG(posts_count) OVER (ORDER BY creation_month) AS last_post_count\n",
    "    FROM counter)\n",
    "SELECT creation_month,\n",
    "    posts_count,\n",
    "    ROUND(((posts_count - last_post_count)::numeric / last_post_count) * 100, 2) AS percentage\n",
    "FROM last_month\n",
    "'''\n",
    "\n",
    "post_dynamics = pd.read_sql_query(query, con=engine)# выполните запрос"
   ]
  },
  {
   "cell_type": "code",
   "execution_count": 24,
   "metadata": {},
   "outputs": [
    {
     "data": {
      "text/html": [
       "<div>\n",
       "<style scoped>\n",
       "    .dataframe tbody tr th:only-of-type {\n",
       "        vertical-align: middle;\n",
       "    }\n",
       "\n",
       "    .dataframe tbody tr th {\n",
       "        vertical-align: top;\n",
       "    }\n",
       "\n",
       "    .dataframe thead th {\n",
       "        text-align: right;\n",
       "    }\n",
       "</style>\n",
       "<table border=\"1\" class=\"dataframe\">\n",
       "  <thead>\n",
       "    <tr style=\"text-align: right;\">\n",
       "      <th></th>\n",
       "      <th>creation_month</th>\n",
       "      <th>posts_count</th>\n",
       "      <th>percentage</th>\n",
       "    </tr>\n",
       "  </thead>\n",
       "  <tbody>\n",
       "    <tr>\n",
       "      <th>0</th>\n",
       "      <td>9</td>\n",
       "      <td>70371</td>\n",
       "      <td>NaN</td>\n",
       "    </tr>\n",
       "    <tr>\n",
       "      <th>1</th>\n",
       "      <td>10</td>\n",
       "      <td>63102</td>\n",
       "      <td>-10.33</td>\n",
       "    </tr>\n",
       "    <tr>\n",
       "      <th>2</th>\n",
       "      <td>11</td>\n",
       "      <td>46975</td>\n",
       "      <td>-25.56</td>\n",
       "    </tr>\n",
       "    <tr>\n",
       "      <th>3</th>\n",
       "      <td>12</td>\n",
       "      <td>44592</td>\n",
       "      <td>-5.07</td>\n",
       "    </tr>\n",
       "  </tbody>\n",
       "</table>\n",
       "</div>"
      ],
      "text/plain": [
       "   creation_month  posts_count  percentage\n",
       "0               9        70371         NaN\n",
       "1              10        63102      -10.33\n",
       "2              11        46975      -25.56\n",
       "3              12        44592       -5.07"
      ]
     },
     "execution_count": 24,
     "metadata": {},
     "output_type": "execute_result"
    }
   ],
   "source": [
    "post_dynamics"
   ]
  },
  {
   "cell_type": "markdown",
   "metadata": {
    "id": "G0VSDL4HDWLO"
   },
   "source": [
    "<details>\n",
    "\n",
    "<summary>Подсказка</summary>\n",
    "Эту задачу стоит декомпозировать. Сформируйте запрос, который отобразит номер месяца и количество постов. Затем можно использовать оконную функцию, которая вернёт значение за предыдущий месяц, и посчитать процент.\n",
    "</details>"
   ]
  },
  {
   "cell_type": "markdown",
   "metadata": {
    "id": "9NQE2y_MDWLP"
   },
   "source": [
    "Постройте круговую диаграмму с количеством постов по месяцам."
   ]
  },
  {
   "cell_type": "code",
   "execution_count": 25,
   "metadata": {
    "id": "377ABjiVDWLP"
   },
   "outputs": [
    {
     "data": {
      "image/png": "[encoded data removed]",
      "text/plain": [
       "<Figure size 432x288 with 1 Axes>"
      ]
     },
     "metadata": {},
     "output_type": "display_data"
    }
   ],
   "source": [
    "plt.pie(post_dynamics['posts_count'], labels = post_dynamics['creation_month'], autopct='%.0f%%')\n",
    "plt.show()"
   ]
  },
  {
   "cell_type": "markdown",
   "metadata": {
    "id": "uw7qMtafDWLP"
   },
   "source": [
    "# Задание 10"
   ]
  },
  {
   "cell_type": "markdown",
   "metadata": {
    "id": "oRBpWKx3DWLQ"
   },
   "source": [
    "Выгрузите данные активности пользователя, который опубликовал больше всего постов за всё время. Выведите данные за октябрь 2008 года в таком виде:\n",
    "\n",
    "- номер недели;\n",
    "- дата и время последнего поста, опубликованного на этой неделе."
   ]
  },
  {
   "cell_type": "markdown",
   "metadata": {
    "id": "XjAWSn_3DWLQ"
   },
   "source": [
    "| week_creation | creation_date |\n",
    "| ------------- | ------------- |\n",
    "| 40 | 2008-10-05 09:00:58 |\n",
    "| 41 | 2008-10-12 21:22:23 |\n",
    "| ... | ... |"
   ]
  },
  {
   "cell_type": "code",
   "execution_count": 56,
   "metadata": {
    "id": "r5F5fSkwDWLQ"
   },
   "outputs": [],
   "source": [
    "# напишите запрос\n",
    "query = '''\n",
    "WITH top_user AS (\n",
    "    SELECT user_id,\n",
    "        COUNT(id)\n",
    "    FROM stackoverflow.posts\n",
    "    GROUP BY user_id\n",
    "    ORDER BY COUNT(id) DESC\n",
    "    LIMIT 1\n",
    "),\n",
    "top_user_posts AS (\n",
    "    SELECT EXTRACT(WEEK FROM creation_date)::int AS week_creation,\n",
    "    creation_date\n",
    "    FROM stackoverflow.posts\n",
    "    WHERE (DATE_TRUNC('month',creation_date) = '2008-10-01') AND (user_id IN (SELECT user_id FROM top_user))\n",
    ")\n",
    "SELECT DISTINCT week_creation,\n",
    "    LAST_VALUE(creation_date) OVER (PARTITION BY week_creation ORDER BY creation_date ROWS BETWEEN CURRENT ROW AND UNBOUNDED FOLLOWING)\n",
    "FROM top_user_posts\n",
    "ORDER BY week_creation\n",
    "'''\n",
    "\n",
    "top_user_activity = pd.read_sql_query(query, con=engine)# выполните запрос"
   ]
  },
  {
   "cell_type": "code",
   "execution_count": 57,
   "metadata": {},
   "outputs": [
    {
     "data": {
      "text/html": [
       "<div>\n",
       "<style scoped>\n",
       "    .dataframe tbody tr th:only-of-type {\n",
       "        vertical-align: middle;\n",
       "    }\n",
       "\n",
       "    .dataframe tbody tr th {\n",
       "        vertical-align: top;\n",
       "    }\n",
       "\n",
       "    .dataframe thead th {\n",
       "        text-align: right;\n",
       "    }\n",
       "</style>\n",
       "<table border=\"1\" class=\"dataframe\">\n",
       "  <thead>\n",
       "    <tr style=\"text-align: right;\">\n",
       "      <th></th>\n",
       "      <th>week_creation</th>\n",
       "      <th>last_value</th>\n",
       "    </tr>\n",
       "  </thead>\n",
       "  <tbody>\n",
       "    <tr>\n",
       "      <th>0</th>\n",
       "      <td>40</td>\n",
       "      <td>2008-10-05 09:00:58</td>\n",
       "    </tr>\n",
       "    <tr>\n",
       "      <th>1</th>\n",
       "      <td>41</td>\n",
       "      <td>2008-10-12 21:22:23</td>\n",
       "    </tr>\n",
       "    <tr>\n",
       "      <th>2</th>\n",
       "      <td>42</td>\n",
       "      <td>2008-10-19 06:49:30</td>\n",
       "    </tr>\n",
       "    <tr>\n",
       "      <th>3</th>\n",
       "      <td>43</td>\n",
       "      <td>2008-10-26 21:44:36</td>\n",
       "    </tr>\n",
       "    <tr>\n",
       "      <th>4</th>\n",
       "      <td>44</td>\n",
       "      <td>2008-10-31 22:16:01</td>\n",
       "    </tr>\n",
       "  </tbody>\n",
       "</table>\n",
       "</div>"
      ],
      "text/plain": [
       "   week_creation          last_value\n",
       "0             40 2008-10-05 09:00:58\n",
       "1             41 2008-10-12 21:22:23\n",
       "2             42 2008-10-19 06:49:30\n",
       "3             43 2008-10-26 21:44:36\n",
       "4             44 2008-10-31 22:16:01"
      ]
     },
     "execution_count": 57,
     "metadata": {},
     "output_type": "execute_result"
    }
   ],
   "source": [
    "top_user_activity"
   ]
  },
  {
   "cell_type": "markdown",
   "metadata": {
    "id": "KAcmxvLgDWLR"
   },
   "source": [
    "<details>\n",
    "\n",
    "<summary>Подсказка</summary>\n",
    "Декомпозируйте задачу:\n",
    "1) Найдите пользователя, который опубликовал больше всего постов. 2) Найдите дату и время создания каждого поста этого пользователя и номер недели. \n",
    "3) Отобразите данные только о последних постах пользователя. Для этого можно использовать оконную функцию.\n",
    "</details>"
   ]
  },
  {
   "cell_type": "markdown",
   "metadata": {},
   "source": [
    "[В начало](#start)"
   ]
  }
 ],
 "metadata": {
  "ExecuteTimeLog": [
   {
    "duration": 1131,
    "start_time": "2023-04-07T07:25:34.867Z"
   },
   {
    "duration": 4,
    "start_time": "2023-04-07T07:25:36.001Z"
   },
   {
    "duration": 14009,
    "start_time": "2023-04-07T07:25:36.007Z"
   },
   {
    "duration": 271,
    "start_time": "2023-04-07T07:25:50.018Z"
   },
   {
    "duration": 16,
    "start_time": "2023-04-07T07:25:50.291Z"
   },
   {
    "duration": 272,
    "start_time": "2023-04-07T07:25:50.309Z"
   },
   {
    "duration": 161,
    "start_time": "2023-04-07T07:26:20.805Z"
   },
   {
    "duration": 8,
    "start_time": "2023-04-07T07:26:23.029Z"
   },
   {
    "duration": 149,
    "start_time": "2023-04-07T07:27:21.796Z"
   },
   {
    "duration": 20,
    "start_time": "2023-04-07T07:27:22.939Z"
   },
   {
    "duration": 162,
    "start_time": "2023-04-07T07:28:19.611Z"
   },
   {
    "duration": 8,
    "start_time": "2023-04-07T07:28:20.097Z"
   },
   {
    "duration": 149,
    "start_time": "2023-04-07T07:28:26.758Z"
   },
   {
    "duration": 8,
    "start_time": "2023-04-07T07:28:27.108Z"
   },
   {
    "duration": 229,
    "start_time": "2023-04-07T07:29:15.658Z"
   },
   {
    "duration": 10,
    "start_time": "2023-04-07T07:29:16.095Z"
   },
   {
    "duration": 148,
    "start_time": "2023-04-07T07:32:14.725Z"
   },
   {
    "duration": 8,
    "start_time": "2023-04-07T07:32:17.127Z"
   },
   {
    "duration": 163,
    "start_time": "2023-04-07T07:33:20.032Z"
   },
   {
    "duration": 13,
    "start_time": "2023-04-07T07:33:20.539Z"
   },
   {
    "duration": 8,
    "start_time": "2023-04-07T07:33:32.501Z"
   },
   {
    "duration": 166,
    "start_time": "2023-04-07T07:35:07.114Z"
   },
   {
    "duration": 7,
    "start_time": "2023-04-07T07:35:07.886Z"
   },
   {
    "duration": 154,
    "start_time": "2023-04-07T07:36:09.327Z"
   },
   {
    "duration": 8,
    "start_time": "2023-04-07T07:36:09.826Z"
   },
   {
    "duration": 159,
    "start_time": "2023-04-07T07:37:24.588Z"
   },
   {
    "duration": 18,
    "start_time": "2023-04-07T07:37:24.969Z"
   },
   {
    "duration": 6,
    "start_time": "2023-04-07T07:56:45.563Z"
   },
   {
    "duration": 186,
    "start_time": "2023-04-07T07:56:52.696Z"
   },
   {
    "duration": 350,
    "start_time": "2023-04-07T07:57:55.029Z"
   },
   {
    "duration": 10,
    "start_time": "2023-04-07T07:57:56.169Z"
   },
   {
    "duration": 220,
    "start_time": "2023-04-07T07:58:31.363Z"
   },
   {
    "duration": 15,
    "start_time": "2023-04-07T07:58:31.946Z"
   },
   {
    "duration": 299,
    "start_time": "2023-04-07T08:01:57.010Z"
   },
   {
    "duration": 10,
    "start_time": "2023-04-07T08:01:58.520Z"
   },
   {
    "duration": 229,
    "start_time": "2023-04-07T08:02:12.122Z"
   },
   {
    "duration": 12,
    "start_time": "2023-04-07T08:02:12.612Z"
   },
   {
    "duration": 301,
    "start_time": "2023-04-07T08:02:16.660Z"
   },
   {
    "duration": 10,
    "start_time": "2023-04-07T08:02:17.067Z"
   },
   {
    "duration": 154,
    "start_time": "2023-04-07T08:06:08.450Z"
   },
   {
    "duration": 10,
    "start_time": "2023-04-07T08:06:08.901Z"
   },
   {
    "duration": 201,
    "start_time": "2023-04-07T08:06:32.620Z"
   },
   {
    "duration": 10,
    "start_time": "2023-04-07T08:06:33.071Z"
   },
   {
    "duration": 191,
    "start_time": "2023-04-07T08:08:44.701Z"
   },
   {
    "duration": 11,
    "start_time": "2023-04-07T08:08:45.213Z"
   },
   {
    "duration": 222,
    "start_time": "2023-04-07T08:09:35.305Z"
   },
   {
    "duration": 13,
    "start_time": "2023-04-07T08:09:35.816Z"
   },
   {
    "duration": 146,
    "start_time": "2023-04-07T08:13:21.448Z"
   },
   {
    "duration": 13,
    "start_time": "2023-04-07T08:13:22.752Z"
   },
   {
    "duration": 10,
    "start_time": "2023-04-07T08:23:29.572Z"
   },
   {
    "duration": 12,
    "start_time": "2023-04-07T08:23:53.327Z"
   },
   {
    "duration": 156,
    "start_time": "2023-04-07T08:29:14.684Z"
   },
   {
    "duration": 180,
    "start_time": "2023-04-07T08:52:55.587Z"
   },
   {
    "duration": 504,
    "start_time": "2023-04-07T08:53:38.320Z"
   },
   {
    "duration": 20,
    "start_time": "2023-04-07T08:53:40.436Z"
   },
   {
    "duration": 491,
    "start_time": "2023-04-07T08:55:44.706Z"
   },
   {
    "duration": 7,
    "start_time": "2023-04-07T08:55:45.321Z"
   },
   {
    "duration": 980,
    "start_time": "2023-04-07T08:57:38.697Z"
   },
   {
    "duration": 12,
    "start_time": "2023-04-07T08:57:39.863Z"
   },
   {
    "duration": 487,
    "start_time": "2023-04-07T08:58:29.269Z"
   },
   {
    "duration": 9,
    "start_time": "2023-04-07T08:58:29.758Z"
   },
   {
    "duration": 12517,
    "start_time": "2023-04-07T08:58:43.826Z"
   },
   {
    "duration": 15,
    "start_time": "2023-04-07T08:58:56.348Z"
   },
   {
    "duration": 459,
    "start_time": "2023-04-07T08:59:14.666Z"
   },
   {
    "duration": 9,
    "start_time": "2023-04-07T08:59:16.701Z"
   },
   {
    "duration": 51,
    "start_time": "2023-04-07T10:15:37.190Z"
   },
   {
    "duration": 930,
    "start_time": "2023-04-07T10:15:40.497Z"
   },
   {
    "duration": 4,
    "start_time": "2023-04-07T10:15:41.429Z"
   },
   {
    "duration": 5915,
    "start_time": "2023-04-07T10:15:41.446Z"
   },
   {
    "duration": 59,
    "start_time": "2023-04-07T10:15:47.363Z"
   },
   {
    "duration": 16,
    "start_time": "2023-04-07T10:15:47.424Z"
   },
   {
    "duration": 148,
    "start_time": "2023-04-07T10:15:47.443Z"
   },
   {
    "duration": 6,
    "start_time": "2023-04-07T10:15:47.592Z"
   },
   {
    "duration": 134,
    "start_time": "2023-04-07T10:15:47.600Z"
   },
   {
    "duration": 12,
    "start_time": "2023-04-07T10:15:47.735Z"
   },
   {
    "duration": 455,
    "start_time": "2023-04-07T10:17:43.110Z"
   },
   {
    "duration": 8,
    "start_time": "2023-04-07T10:17:45.320Z"
   },
   {
    "duration": 118,
    "start_time": "2023-04-07T10:22:52.178Z"
   },
   {
    "duration": 7,
    "start_time": "2023-04-07T10:22:53.619Z"
   },
   {
    "duration": 141,
    "start_time": "2023-04-07T10:26:24.534Z"
   },
   {
    "duration": 7,
    "start_time": "2023-04-07T10:26:24.904Z"
   },
   {
    "duration": 67,
    "start_time": "2023-04-07T10:27:07.470Z"
   },
   {
    "duration": 117,
    "start_time": "2023-04-07T10:27:17.669Z"
   },
   {
    "duration": 115,
    "start_time": "2023-04-07T10:27:20.919Z"
   },
   {
    "duration": 117,
    "start_time": "2023-04-07T10:27:24.991Z"
   },
   {
    "duration": 119,
    "start_time": "2023-04-07T10:27:33.753Z"
   },
   {
    "duration": 7,
    "start_time": "2023-04-07T10:27:34.710Z"
   },
   {
    "duration": 776,
    "start_time": "2023-04-12T16:29:49.100Z"
   },
   {
    "duration": 3,
    "start_time": "2023-04-12T16:29:49.878Z"
   },
   {
    "duration": 4910,
    "start_time": "2023-04-12T16:29:49.883Z"
   },
   {
    "duration": 60,
    "start_time": "2023-04-12T16:29:54.795Z"
   },
   {
    "duration": 13,
    "start_time": "2023-04-12T16:29:54.857Z"
   },
   {
    "duration": 118,
    "start_time": "2023-04-12T16:29:54.871Z"
   },
   {
    "duration": 6,
    "start_time": "2023-04-12T16:29:54.990Z"
   },
   {
    "duration": 130,
    "start_time": "2023-04-12T16:29:54.998Z"
   },
   {
    "duration": 10,
    "start_time": "2023-04-12T16:29:55.129Z"
   },
   {
    "duration": 133,
    "start_time": "2023-04-12T16:29:55.141Z"
   },
   {
    "duration": 6,
    "start_time": "2023-04-12T16:29:55.276Z"
   },
   {
    "duration": 3,
    "start_time": "2023-04-12T16:29:59.422Z"
   },
   {
    "duration": 116,
    "start_time": "2023-04-12T16:31:01.381Z"
   },
   {
    "duration": 9,
    "start_time": "2023-04-12T16:31:01.921Z"
   },
   {
    "duration": 115,
    "start_time": "2023-04-12T16:31:15.708Z"
   },
   {
    "duration": 9,
    "start_time": "2023-04-12T16:31:16.054Z"
   },
   {
    "duration": 1111,
    "start_time": "2023-04-12T16:32:01.324Z"
   },
   {
    "duration": 10,
    "start_time": "2023-04-12T16:32:02.437Z"
   },
   {
    "duration": 128,
    "start_time": "2023-04-12T16:34:22.819Z"
   },
   {
    "duration": 8,
    "start_time": "2023-04-12T16:34:23.289Z"
   },
   {
    "duration": 130,
    "start_time": "2023-04-12T16:34:42.038Z"
   },
   {
    "duration": 9,
    "start_time": "2023-04-12T16:34:42.196Z"
   },
   {
    "duration": 142,
    "start_time": "2023-04-12T16:34:48.905Z"
   },
   {
    "duration": 7,
    "start_time": "2023-04-12T16:34:50.629Z"
   },
   {
    "duration": 144,
    "start_time": "2023-04-12T16:34:55.339Z"
   },
   {
    "duration": 9,
    "start_time": "2023-04-12T16:34:55.660Z"
   },
   {
    "duration": 147,
    "start_time": "2023-04-12T16:35:01.436Z"
   },
   {
    "duration": 8,
    "start_time": "2023-04-12T16:35:01.585Z"
   },
   {
    "duration": 1030,
    "start_time": "2023-04-12T16:35:15.112Z"
   },
   {
    "duration": 10,
    "start_time": "2023-04-12T16:35:16.144Z"
   },
   {
    "duration": 136,
    "start_time": "2023-04-12T17:33:07.422Z"
   },
   {
    "duration": 58,
    "start_time": "2023-04-12T17:33:59.502Z"
   },
   {
    "duration": 64,
    "start_time": "2023-04-12T17:35:42.336Z"
   },
   {
    "duration": 61,
    "start_time": "2023-04-12T17:36:18.402Z"
   },
   {
    "duration": 66,
    "start_time": "2023-04-12T17:36:53.527Z"
   },
   {
    "duration": 62,
    "start_time": "2023-04-12T17:38:04.094Z"
   },
   {
    "duration": 11,
    "start_time": "2023-04-12T17:38:04.678Z"
   },
   {
    "duration": 59,
    "start_time": "2023-04-12T17:38:48.396Z"
   },
   {
    "duration": 8,
    "start_time": "2023-04-12T17:38:49.128Z"
   },
   {
    "duration": 57,
    "start_time": "2023-04-12T17:39:23.735Z"
   },
   {
    "duration": 12,
    "start_time": "2023-04-12T17:39:24.908Z"
   },
   {
    "duration": 59,
    "start_time": "2023-04-12T17:39:48.727Z"
   },
   {
    "duration": 10,
    "start_time": "2023-04-12T17:39:49.246Z"
   },
   {
    "duration": 60,
    "start_time": "2023-04-12T17:40:22.708Z"
   },
   {
    "duration": 10,
    "start_time": "2023-04-12T17:40:23.158Z"
   },
   {
    "duration": 59,
    "start_time": "2023-04-12T17:40:31.500Z"
   },
   {
    "duration": 9,
    "start_time": "2023-04-12T17:40:32.024Z"
   },
   {
    "duration": 59,
    "start_time": "2023-04-12T17:40:46.651Z"
   },
   {
    "duration": 9,
    "start_time": "2023-04-12T17:40:46.858Z"
   },
   {
    "duration": 59,
    "start_time": "2023-04-12T17:41:01.254Z"
   },
   {
    "duration": 8,
    "start_time": "2023-04-12T17:41:01.746Z"
   },
   {
    "duration": 58,
    "start_time": "2023-04-12T17:41:07.051Z"
   },
   {
    "duration": 5,
    "start_time": "2023-04-12T17:41:07.804Z"
   },
   {
    "duration": 60,
    "start_time": "2023-04-12T17:41:15.801Z"
   },
   {
    "duration": 5,
    "start_time": "2023-04-12T17:41:16.754Z"
   },
   {
    "duration": 58,
    "start_time": "2023-04-12T17:41:21.323Z"
   },
   {
    "duration": 57,
    "start_time": "2023-04-12T17:41:28.373Z"
   },
   {
    "duration": 8,
    "start_time": "2023-04-12T17:41:29.813Z"
   },
   {
    "duration": 61,
    "start_time": "2023-04-12T17:42:08.309Z"
   },
   {
    "duration": 10,
    "start_time": "2023-04-12T17:42:09.391Z"
   },
   {
    "duration": 61,
    "start_time": "2023-04-12T17:42:22.725Z"
   },
   {
    "duration": 6,
    "start_time": "2023-04-12T17:42:23.274Z"
   },
   {
    "duration": 61,
    "start_time": "2023-04-12T17:42:30.779Z"
   },
   {
    "duration": 10,
    "start_time": "2023-04-12T17:42:31.202Z"
   },
   {
    "duration": 60,
    "start_time": "2023-04-12T17:43:05.422Z"
   },
   {
    "duration": 11,
    "start_time": "2023-04-12T17:43:06.168Z"
   },
   {
    "duration": 73,
    "start_time": "2023-04-12T17:44:59.754Z"
   },
   {
    "duration": 59,
    "start_time": "2023-04-12T17:45:39.496Z"
   },
   {
    "duration": 8,
    "start_time": "2023-04-12T17:45:42.145Z"
   },
   {
    "duration": 59,
    "start_time": "2023-04-12T17:46:11.883Z"
   },
   {
    "duration": 9,
    "start_time": "2023-04-12T17:46:12.743Z"
   },
   {
    "duration": 61,
    "start_time": "2023-04-12T17:46:35.448Z"
   },
   {
    "duration": 9,
    "start_time": "2023-04-12T17:46:35.890Z"
   },
   {
    "duration": 60,
    "start_time": "2023-04-12T17:48:09.282Z"
   },
   {
    "duration": 9,
    "start_time": "2023-04-12T17:48:10.164Z"
   },
   {
    "duration": 60,
    "start_time": "2023-04-12T17:48:36.676Z"
   },
   {
    "duration": 6,
    "start_time": "2023-04-12T17:48:37.675Z"
   },
   {
    "duration": 58,
    "start_time": "2023-04-12T17:49:03.612Z"
   },
   {
    "duration": 6,
    "start_time": "2023-04-12T17:49:04.016Z"
   },
   {
    "duration": 60,
    "start_time": "2023-04-12T17:52:29.936Z"
   },
   {
    "duration": 6,
    "start_time": "2023-04-12T17:52:30.574Z"
   },
   {
    "duration": 92,
    "start_time": "2023-04-12T17:55:51.155Z"
   },
   {
    "duration": 6,
    "start_time": "2023-04-12T17:55:51.633Z"
   },
   {
    "duration": 59,
    "start_time": "2023-04-12T17:56:20.661Z"
   },
   {
    "duration": 7,
    "start_time": "2023-04-12T17:56:21.524Z"
   },
   {
    "duration": 89,
    "start_time": "2023-04-12T17:56:49.912Z"
   },
   {
    "duration": 8,
    "start_time": "2023-04-12T17:56:50.533Z"
   },
   {
    "duration": 62,
    "start_time": "2023-04-12T17:57:02.301Z"
   },
   {
    "duration": 58,
    "start_time": "2023-04-12T17:58:42.151Z"
   },
   {
    "duration": 6,
    "start_time": "2023-04-12T17:58:42.697Z"
   },
   {
    "duration": 61,
    "start_time": "2023-04-12T18:02:22.568Z"
   },
   {
    "duration": 11,
    "start_time": "2023-04-12T18:02:23.155Z"
   },
   {
    "duration": 61,
    "start_time": "2023-04-12T18:03:51.978Z"
   },
   {
    "duration": 10,
    "start_time": "2023-04-12T18:03:53.086Z"
   },
   {
    "duration": 53,
    "start_time": "2023-04-12T18:06:32.874Z"
   },
   {
    "duration": 12,
    "start_time": "2023-04-12T18:06:33.384Z"
   },
   {
    "duration": 53,
    "start_time": "2023-04-12T18:07:07.786Z"
   },
   {
    "duration": 7,
    "start_time": "2023-04-12T18:07:08.359Z"
   },
   {
    "duration": 46,
    "start_time": "2023-04-14T12:19:31.761Z"
   },
   {
    "duration": 936,
    "start_time": "2023-04-14T12:19:44.756Z"
   },
   {
    "duration": 4,
    "start_time": "2023-04-14T12:19:45.695Z"
   },
   {
    "duration": 12533,
    "start_time": "2023-04-14T12:19:45.700Z"
   },
   {
    "duration": 217,
    "start_time": "2023-04-14T12:19:58.235Z"
   },
   {
    "duration": 19,
    "start_time": "2023-04-14T12:19:58.455Z"
   },
   {
    "duration": 154,
    "start_time": "2023-04-14T12:19:58.477Z"
   },
   {
    "duration": 6,
    "start_time": "2023-04-14T12:19:58.632Z"
   },
   {
    "duration": 157,
    "start_time": "2023-04-14T12:19:58.640Z"
   },
   {
    "duration": 12,
    "start_time": "2023-04-14T12:19:58.798Z"
   },
   {
    "duration": 157,
    "start_time": "2023-04-14T12:19:58.812Z"
   },
   {
    "duration": 8,
    "start_time": "2023-04-14T12:19:58.971Z"
   },
   {
    "duration": 1241,
    "start_time": "2023-04-14T12:19:58.981Z"
   },
   {
    "duration": 18,
    "start_time": "2023-04-14T12:20:00.224Z"
   },
   {
    "duration": 116,
    "start_time": "2023-04-14T12:20:00.246Z"
   },
   {
    "duration": 7,
    "start_time": "2023-04-14T12:20:00.364Z"
   },
   {
    "duration": 236,
    "start_time": "2023-04-14T12:20:00.373Z"
   },
   {
    "duration": 0,
    "start_time": "2023-04-14T12:20:00.611Z"
   },
   {
    "duration": 0,
    "start_time": "2023-04-14T12:20:00.613Z"
   },
   {
    "duration": 0,
    "start_time": "2023-04-14T12:20:00.614Z"
   },
   {
    "duration": 0,
    "start_time": "2023-04-14T12:20:00.616Z"
   },
   {
    "duration": 0,
    "start_time": "2023-04-14T12:20:00.617Z"
   },
   {
    "duration": 0,
    "start_time": "2023-04-14T12:20:00.619Z"
   },
   {
    "duration": 0,
    "start_time": "2023-04-14T12:20:00.620Z"
   },
   {
    "duration": 0,
    "start_time": "2023-04-14T12:20:00.621Z"
   },
   {
    "duration": 0,
    "start_time": "2023-04-14T12:20:00.622Z"
   },
   {
    "duration": 173,
    "start_time": "2023-04-14T12:20:41.035Z"
   },
   {
    "duration": 147,
    "start_time": "2023-04-14T12:21:40.117Z"
   },
   {
    "duration": 119,
    "start_time": "2023-04-14T12:22:11.172Z"
   },
   {
    "duration": 10,
    "start_time": "2023-04-14T12:22:13.521Z"
   },
   {
    "duration": 178,
    "start_time": "2023-04-14T12:22:41.009Z"
   },
   {
    "duration": 125,
    "start_time": "2023-04-14T12:23:29.295Z"
   },
   {
    "duration": 138,
    "start_time": "2023-04-14T12:23:42.458Z"
   },
   {
    "duration": 13,
    "start_time": "2023-04-14T12:23:42.809Z"
   },
   {
    "duration": 84,
    "start_time": "2023-04-14T12:24:02.083Z"
   },
   {
    "duration": 9,
    "start_time": "2023-04-14T12:24:02.512Z"
   },
   {
    "duration": 86,
    "start_time": "2023-04-14T12:24:43.074Z"
   },
   {
    "duration": 13,
    "start_time": "2023-04-14T12:24:43.554Z"
   },
   {
    "duration": 88,
    "start_time": "2023-04-14T12:24:50.873Z"
   },
   {
    "duration": 14,
    "start_time": "2023-04-14T12:24:51.359Z"
   },
   {
    "duration": 428,
    "start_time": "2023-04-14T12:25:58.559Z"
   },
   {
    "duration": 10,
    "start_time": "2023-04-14T12:25:59.558Z"
   },
   {
    "duration": 64,
    "start_time": "2023-04-14T12:26:08.706Z"
   },
   {
    "duration": 8,
    "start_time": "2023-04-14T12:26:09.252Z"
   },
   {
    "duration": 98,
    "start_time": "2023-04-14T12:26:24.575Z"
   },
   {
    "duration": 11,
    "start_time": "2023-04-14T12:26:25.849Z"
   },
   {
    "duration": 122,
    "start_time": "2023-04-14T12:27:42.168Z"
   },
   {
    "duration": 62,
    "start_time": "2023-04-14T12:28:03.256Z"
   },
   {
    "duration": 6,
    "start_time": "2023-04-14T12:28:04.644Z"
   },
   {
    "duration": 106,
    "start_time": "2023-04-14T12:30:20.612Z"
   },
   {
    "duration": 10,
    "start_time": "2023-04-14T12:30:21.248Z"
   },
   {
    "duration": 147,
    "start_time": "2023-04-14T12:31:59.941Z"
   },
   {
    "duration": 10,
    "start_time": "2023-04-14T12:32:00.440Z"
   },
   {
    "duration": 167,
    "start_time": "2023-04-14T12:34:05.719Z"
   },
   {
    "duration": 11,
    "start_time": "2023-04-14T12:34:07.209Z"
   },
   {
    "duration": 145,
    "start_time": "2023-04-14T12:34:29.189Z"
   },
   {
    "duration": 11,
    "start_time": "2023-04-14T12:34:29.901Z"
   },
   {
    "duration": 143,
    "start_time": "2023-04-14T12:37:31.017Z"
   },
   {
    "duration": 102,
    "start_time": "2023-04-14T12:37:53.264Z"
   },
   {
    "duration": 11,
    "start_time": "2023-04-14T12:37:54.298Z"
   },
   {
    "duration": 327,
    "start_time": "2023-04-14T12:41:12.165Z"
   },
   {
    "duration": 88,
    "start_time": "2023-04-14T12:42:18.942Z"
   },
   {
    "duration": 9,
    "start_time": "2023-04-14T12:42:19.884Z"
   },
   {
    "duration": 69,
    "start_time": "2023-04-14T12:43:56.975Z"
   },
   {
    "duration": 8,
    "start_time": "2023-04-14T12:43:58.044Z"
   },
   {
    "duration": 66,
    "start_time": "2023-04-14T12:46:49.010Z"
   },
   {
    "duration": 5,
    "start_time": "2023-04-14T12:46:49.758Z"
   },
   {
    "duration": 8,
    "start_time": "2023-04-14T13:01:49.766Z"
   },
   {
    "duration": 1277,
    "start_time": "2023-04-14T13:01:56.693Z"
   },
   {
    "duration": 12,
    "start_time": "2023-04-14T13:01:57.973Z"
   },
   {
    "duration": 132,
    "start_time": "2023-04-14T13:05:31.752Z"
   },
   {
    "duration": 136,
    "start_time": "2023-04-14T13:06:08.061Z"
   },
   {
    "duration": 157,
    "start_time": "2023-04-14T13:08:11.641Z"
   },
   {
    "duration": 229,
    "start_time": "2023-04-14T13:10:20.403Z"
   },
   {
    "duration": 1142,
    "start_time": "2023-04-14T13:10:47.604Z"
   },
   {
    "duration": 11,
    "start_time": "2023-04-14T13:10:48.989Z"
   },
   {
    "duration": 1192,
    "start_time": "2023-04-14T13:11:43.201Z"
   },
   {
    "duration": 11,
    "start_time": "2023-04-14T13:11:44.395Z"
   },
   {
    "duration": 1261,
    "start_time": "2023-04-14T13:12:48.219Z"
   },
   {
    "duration": 11,
    "start_time": "2023-04-14T13:12:49.482Z"
   },
   {
    "duration": 375,
    "start_time": "2023-04-14T13:13:56.568Z"
   },
   {
    "duration": 13,
    "start_time": "2023-04-14T13:13:57.322Z"
   },
   {
    "duration": 1265,
    "start_time": "2023-04-14T13:15:14.483Z"
   },
   {
    "duration": 12,
    "start_time": "2023-04-14T13:15:15.788Z"
   },
   {
    "duration": 144,
    "start_time": "2023-04-14T13:15:56.749Z"
   },
   {
    "duration": 12,
    "start_time": "2023-04-14T13:15:57.264Z"
   },
   {
    "duration": 159,
    "start_time": "2023-04-14T13:16:06.923Z"
   },
   {
    "duration": 9,
    "start_time": "2023-04-14T13:16:07.606Z"
   },
   {
    "duration": 150,
    "start_time": "2023-04-14T13:17:08.579Z"
   },
   {
    "duration": 8,
    "start_time": "2023-04-14T13:17:09.351Z"
   },
   {
    "duration": 1101,
    "start_time": "2023-04-14T13:17:15.015Z"
   },
   {
    "duration": 10,
    "start_time": "2023-04-14T13:17:16.118Z"
   },
   {
    "duration": 845,
    "start_time": "2023-04-18T13:37:09.591Z"
   },
   {
    "duration": 4,
    "start_time": "2023-04-18T13:37:10.438Z"
   },
   {
    "duration": 4915,
    "start_time": "2023-04-18T13:37:10.443Z"
   },
   {
    "duration": 36,
    "start_time": "2023-04-18T13:37:15.360Z"
   },
   {
    "duration": 14,
    "start_time": "2023-04-18T13:37:15.398Z"
   },
   {
    "duration": 114,
    "start_time": "2023-04-18T13:37:15.413Z"
   },
   {
    "duration": 6,
    "start_time": "2023-04-18T13:37:15.528Z"
   },
   {
    "duration": 111,
    "start_time": "2023-04-18T13:37:15.535Z"
   },
   {
    "duration": 15,
    "start_time": "2023-04-18T13:37:15.648Z"
   },
   {
    "duration": 116,
    "start_time": "2023-04-18T13:37:15.665Z"
   },
   {
    "duration": 6,
    "start_time": "2023-04-18T13:37:15.783Z"
   },
   {
    "duration": 1108,
    "start_time": "2023-04-18T13:37:15.791Z"
   },
   {
    "duration": 15,
    "start_time": "2023-04-18T13:37:16.901Z"
   },
   {
    "duration": 60,
    "start_time": "2023-04-18T13:37:16.918Z"
   },
   {
    "duration": 6,
    "start_time": "2023-04-18T13:37:16.980Z"
   },
   {
    "duration": 47,
    "start_time": "2023-04-18T13:37:16.987Z"
   },
   {
    "duration": 5,
    "start_time": "2023-04-18T13:37:17.036Z"
   },
   {
    "duration": 1033,
    "start_time": "2023-04-18T13:37:17.042Z"
   },
   {
    "duration": 10,
    "start_time": "2023-04-18T13:37:18.077Z"
   },
   {
    "duration": 149,
    "start_time": "2023-04-18T13:37:22.243Z"
   },
   {
    "duration": 6,
    "start_time": "2023-04-18T13:37:22.723Z"
   },
   {
    "duration": 105,
    "start_time": "2023-04-18T13:37:39.028Z"
   },
   {
    "duration": 66,
    "start_time": "2023-04-18T13:37:51.929Z"
   },
   {
    "duration": 1221,
    "start_time": "2023-04-18T13:38:12.093Z"
   },
   {
    "duration": 11,
    "start_time": "2023-04-18T13:38:14.698Z"
   },
   {
    "duration": 59,
    "start_time": "2023-04-18T13:39:04.558Z"
   },
   {
    "duration": 1277,
    "start_time": "2023-04-18T13:39:25.191Z"
   },
   {
    "duration": 11,
    "start_time": "2023-04-18T13:39:26.491Z"
   },
   {
    "duration": 499,
    "start_time": "2023-04-18T13:40:38.159Z"
   },
   {
    "duration": 14,
    "start_time": "2023-04-18T13:40:39.490Z"
   },
   {
    "duration": 1169,
    "start_time": "2023-04-18T13:40:57.232Z"
   },
   {
    "duration": 12,
    "start_time": "2023-04-18T13:40:58.402Z"
   },
   {
    "duration": 72,
    "start_time": "2023-04-18T13:45:42.658Z"
   },
   {
    "duration": 69,
    "start_time": "2023-04-18T13:45:50.990Z"
   },
   {
    "duration": 72,
    "start_time": "2023-04-18T13:46:12.640Z"
   },
   {
    "duration": 920,
    "start_time": "2023-04-18T13:46:26.552Z"
   },
   {
    "duration": 8,
    "start_time": "2023-04-18T13:46:27.474Z"
   },
   {
    "duration": 974,
    "start_time": "2023-04-18T13:46:56.487Z"
   },
   {
    "duration": 9,
    "start_time": "2023-04-18T13:46:57.534Z"
   },
   {
    "duration": 87,
    "start_time": "2023-04-18T13:49:52.984Z"
   },
   {
    "duration": 7,
    "start_time": "2023-04-18T13:49:54.513Z"
   },
   {
    "duration": 84,
    "start_time": "2023-04-18T13:50:30.528Z"
   },
   {
    "duration": 10,
    "start_time": "2023-04-18T13:50:31.635Z"
   },
   {
    "duration": 78,
    "start_time": "2023-04-18T13:50:39.319Z"
   },
   {
    "duration": 7,
    "start_time": "2023-04-18T13:50:40.079Z"
   },
   {
    "duration": 223,
    "start_time": "2023-04-18T13:50:49.863Z"
   },
   {
    "duration": 7,
    "start_time": "2023-04-18T13:50:50.763Z"
   },
   {
    "duration": 64,
    "start_time": "2023-04-18T13:52:24.050Z"
   },
   {
    "duration": 62,
    "start_time": "2023-04-18T13:52:53.086Z"
   },
   {
    "duration": 66,
    "start_time": "2023-04-18T13:55:10.596Z"
   },
   {
    "duration": 73,
    "start_time": "2023-04-18T13:57:26.001Z"
   },
   {
    "duration": 65,
    "start_time": "2023-04-18T13:57:40.326Z"
   },
   {
    "duration": 242,
    "start_time": "2023-04-18T13:58:23.626Z"
   },
   {
    "duration": 8,
    "start_time": "2023-04-18T13:58:24.991Z"
   },
   {
    "duration": 114,
    "start_time": "2023-04-18T14:04:38.486Z"
   },
   {
    "duration": 7,
    "start_time": "2023-04-18T14:04:39.841Z"
   },
   {
    "duration": 75,
    "start_time": "2023-04-18T14:06:17.019Z"
   },
   {
    "duration": 385,
    "start_time": "2023-04-18T14:06:41.229Z"
   },
   {
    "duration": 9,
    "start_time": "2023-04-18T14:06:42.385Z"
   },
   {
    "duration": 82,
    "start_time": "2023-04-18T14:10:51.041Z"
   },
   {
    "duration": 408,
    "start_time": "2023-04-18T14:11:02.223Z"
   },
   {
    "duration": 10,
    "start_time": "2023-04-18T14:11:03.355Z"
   },
   {
    "duration": 418,
    "start_time": "2023-04-18T14:12:13.782Z"
   },
   {
    "duration": 11,
    "start_time": "2023-04-18T14:12:14.643Z"
   },
   {
    "duration": 411,
    "start_time": "2023-04-18T14:15:28.557Z"
   },
   {
    "duration": 10,
    "start_time": "2023-04-18T14:15:29.637Z"
   },
   {
    "duration": 391,
    "start_time": "2023-04-18T14:15:48.095Z"
   },
   {
    "duration": 10,
    "start_time": "2023-04-18T14:15:48.634Z"
   },
   {
    "duration": 1250,
    "start_time": "2023-04-18T14:23:20.713Z"
   },
   {
    "duration": 3,
    "start_time": "2023-04-18T14:23:21.965Z"
   },
   {
    "duration": 5096,
    "start_time": "2023-04-18T14:23:21.970Z"
   },
   {
    "duration": 41,
    "start_time": "2023-04-18T14:23:27.067Z"
   },
   {
    "duration": 15,
    "start_time": "2023-04-18T14:23:27.111Z"
   },
   {
    "duration": 124,
    "start_time": "2023-04-18T14:23:27.128Z"
   },
   {
    "duration": 7,
    "start_time": "2023-04-18T14:23:27.254Z"
   },
   {
    "duration": 150,
    "start_time": "2023-04-18T14:23:27.263Z"
   },
   {
    "duration": 11,
    "start_time": "2023-04-18T14:23:27.414Z"
   },
   {
    "duration": 112,
    "start_time": "2023-04-18T14:23:27.427Z"
   },
   {
    "duration": 7,
    "start_time": "2023-04-18T14:23:27.540Z"
   },
   {
    "duration": 1202,
    "start_time": "2023-04-18T14:23:27.548Z"
   },
   {
    "duration": 11,
    "start_time": "2023-04-18T14:23:28.752Z"
   },
   {
    "duration": 49,
    "start_time": "2023-04-18T14:23:28.766Z"
   },
   {
    "duration": 7,
    "start_time": "2023-04-18T14:23:28.817Z"
   },
   {
    "duration": 40,
    "start_time": "2023-04-18T14:23:28.826Z"
   },
   {
    "duration": 5,
    "start_time": "2023-04-18T14:23:28.867Z"
   },
   {
    "duration": 1141,
    "start_time": "2023-04-18T14:23:28.874Z"
   },
   {
    "duration": 11,
    "start_time": "2023-04-18T14:23:30.017Z"
   },
   {
    "duration": 404,
    "start_time": "2023-04-18T14:23:30.029Z"
   },
   {
    "duration": 10,
    "start_time": "2023-04-18T14:23:30.435Z"
   },
   {
    "duration": 123,
    "start_time": "2023-04-18T14:23:30.447Z"
   },
   {
    "duration": 0,
    "start_time": "2023-04-18T14:23:30.571Z"
   },
   {
    "duration": 0,
    "start_time": "2023-04-18T14:23:30.573Z"
   },
   {
    "duration": 0,
    "start_time": "2023-04-18T14:23:30.574Z"
   },
   {
    "duration": 0,
    "start_time": "2023-04-18T14:23:30.575Z"
   },
   {
    "duration": 25,
    "start_time": "2023-04-18T14:24:19.727Z"
   },
   {
    "duration": 10,
    "start_time": "2023-04-18T14:28:41.710Z"
   },
   {
    "duration": 20,
    "start_time": "2023-04-18T14:29:02.505Z"
   },
   {
    "duration": 33,
    "start_time": "2023-04-18T14:29:22.904Z"
   },
   {
    "duration": 480,
    "start_time": "2023-04-18T14:32:18.139Z"
   },
   {
    "duration": 15,
    "start_time": "2023-04-18T14:33:54.725Z"
   },
   {
    "duration": 14,
    "start_time": "2023-04-18T14:34:03.771Z"
   },
   {
    "duration": 370,
    "start_time": "2023-04-18T14:34:13.325Z"
   },
   {
    "duration": 376,
    "start_time": "2023-04-18T14:35:01.266Z"
   },
   {
    "duration": 389,
    "start_time": "2023-04-18T14:35:07.364Z"
   },
   {
    "duration": 249,
    "start_time": "2023-04-18T14:35:13.941Z"
   },
   {
    "duration": 380,
    "start_time": "2023-04-18T14:35:28.212Z"
   },
   {
    "duration": 29,
    "start_time": "2023-04-18T14:37:56.519Z"
   },
   {
    "duration": 418,
    "start_time": "2023-04-18T14:38:01.873Z"
   },
   {
    "duration": 398,
    "start_time": "2023-04-18T14:39:00.404Z"
   },
   {
    "duration": 521,
    "start_time": "2023-04-18T14:39:08.604Z"
   },
   {
    "duration": 1215,
    "start_time": "2023-04-18T14:39:19.902Z"
   },
   {
    "duration": 4,
    "start_time": "2023-04-18T14:39:21.118Z"
   },
   {
    "duration": 5324,
    "start_time": "2023-04-18T14:39:21.123Z"
   },
   {
    "duration": 34,
    "start_time": "2023-04-18T14:39:26.448Z"
   },
   {
    "duration": 15,
    "start_time": "2023-04-18T14:39:26.484Z"
   },
   {
    "duration": 112,
    "start_time": "2023-04-18T14:39:26.500Z"
   },
   {
    "duration": 8,
    "start_time": "2023-04-18T14:39:26.614Z"
   },
   {
    "duration": 114,
    "start_time": "2023-04-18T14:39:26.624Z"
   },
   {
    "duration": 9,
    "start_time": "2023-04-18T14:39:26.740Z"
   },
   {
    "duration": 140,
    "start_time": "2023-04-18T14:39:26.751Z"
   },
   {
    "duration": 6,
    "start_time": "2023-04-18T14:39:26.893Z"
   },
   {
    "duration": 1173,
    "start_time": "2023-04-18T14:39:26.901Z"
   },
   {
    "duration": 11,
    "start_time": "2023-04-18T14:39:28.076Z"
   },
   {
    "duration": 74,
    "start_time": "2023-04-18T14:39:28.090Z"
   },
   {
    "duration": 7,
    "start_time": "2023-04-18T14:39:28.165Z"
   },
   {
    "duration": 56,
    "start_time": "2023-04-18T14:39:28.174Z"
   },
   {
    "duration": 7,
    "start_time": "2023-04-18T14:39:28.232Z"
   },
   {
    "duration": 1206,
    "start_time": "2023-04-18T14:39:28.241Z"
   },
   {
    "duration": 11,
    "start_time": "2023-04-18T14:39:29.449Z"
   },
   {
    "duration": 421,
    "start_time": "2023-04-18T14:39:29.461Z"
   },
   {
    "duration": 12,
    "start_time": "2023-04-18T14:39:29.884Z"
   },
   {
    "duration": 392,
    "start_time": "2023-04-18T14:39:29.897Z"
   },
   {
    "duration": 3,
    "start_time": "2023-04-18T14:39:30.290Z"
   },
   {
    "duration": 42,
    "start_time": "2023-04-18T14:39:30.294Z"
   },
   {
    "duration": 38,
    "start_time": "2023-04-18T14:39:30.337Z"
   },
   {
    "duration": 38,
    "start_time": "2023-04-18T14:39:30.377Z"
   },
   {
    "duration": 381,
    "start_time": "2023-04-18T14:43:40.020Z"
   },
   {
    "duration": 401,
    "start_time": "2023-04-18T14:43:58.604Z"
   },
   {
    "duration": 120,
    "start_time": "2023-04-18T14:46:24.605Z"
   },
   {
    "duration": 1269,
    "start_time": "2023-04-18T14:47:30.656Z"
   },
   {
    "duration": 4,
    "start_time": "2023-04-18T14:47:31.927Z"
   },
   {
    "duration": 5160,
    "start_time": "2023-04-18T14:47:31.932Z"
   },
   {
    "duration": 57,
    "start_time": "2023-04-18T14:47:37.094Z"
   },
   {
    "duration": 17,
    "start_time": "2023-04-18T14:47:37.153Z"
   },
   {
    "duration": 119,
    "start_time": "2023-04-18T14:47:37.173Z"
   },
   {
    "duration": 7,
    "start_time": "2023-04-18T14:47:37.294Z"
   },
   {
    "duration": 104,
    "start_time": "2023-04-18T14:47:37.303Z"
   },
   {
    "duration": 10,
    "start_time": "2023-04-18T14:47:37.409Z"
   },
   {
    "duration": 112,
    "start_time": "2023-04-18T14:47:37.421Z"
   },
   {
    "duration": 6,
    "start_time": "2023-04-18T14:47:37.535Z"
   },
   {
    "duration": 1206,
    "start_time": "2023-04-18T14:47:37.542Z"
   },
   {
    "duration": 11,
    "start_time": "2023-04-18T14:47:38.749Z"
   },
   {
    "duration": 46,
    "start_time": "2023-04-18T14:47:38.762Z"
   },
   {
    "duration": 8,
    "start_time": "2023-04-18T14:47:38.810Z"
   },
   {
    "duration": 36,
    "start_time": "2023-04-18T14:47:38.819Z"
   },
   {
    "duration": 6,
    "start_time": "2023-04-18T14:47:38.856Z"
   },
   {
    "duration": 1150,
    "start_time": "2023-04-18T14:47:38.863Z"
   },
   {
    "duration": 11,
    "start_time": "2023-04-18T14:47:40.015Z"
   },
   {
    "duration": 572,
    "start_time": "2023-04-18T14:47:40.028Z"
   },
   {
    "duration": 10,
    "start_time": "2023-04-18T14:47:40.602Z"
   },
   {
    "duration": 369,
    "start_time": "2023-04-18T14:47:40.614Z"
   },
   {
    "duration": 3,
    "start_time": "2023-04-18T14:47:40.985Z"
   },
   {
    "duration": 10,
    "start_time": "2023-04-18T14:47:40.990Z"
   },
   {
    "duration": 15,
    "start_time": "2023-04-18T14:47:41.001Z"
   },
   {
    "duration": 18,
    "start_time": "2023-04-18T14:47:41.018Z"
   },
   {
    "duration": 355,
    "start_time": "2023-04-18T14:48:20.702Z"
   },
   {
    "duration": 373,
    "start_time": "2023-04-18T14:48:28.480Z"
   },
   {
    "duration": 346,
    "start_time": "2023-04-18T14:51:39.656Z"
   },
   {
    "duration": 662,
    "start_time": "2023-04-18T18:04:15.649Z"
   },
   {
    "duration": 9,
    "start_time": "2023-04-18T18:04:17.113Z"
   },
   {
    "duration": 661,
    "start_time": "2023-04-18T18:04:29.609Z"
   },
   {
    "duration": 8,
    "start_time": "2023-04-18T18:04:30.326Z"
   },
   {
    "duration": 768,
    "start_time": "2023-04-18T18:05:08.779Z"
   },
   {
    "duration": 9,
    "start_time": "2023-04-18T18:05:10.706Z"
   },
   {
    "duration": 564,
    "start_time": "2023-04-18T18:07:06.116Z"
   },
   {
    "duration": 9,
    "start_time": "2023-04-18T18:07:07.550Z"
   },
   {
    "duration": 100,
    "start_time": "2023-04-18T18:17:56.829Z"
   },
   {
    "duration": 7,
    "start_time": "2023-04-18T18:17:57.833Z"
   },
   {
    "duration": 53,
    "start_time": "2023-04-18T18:19:36.509Z"
   },
   {
    "duration": 7,
    "start_time": "2023-04-18T18:19:37.279Z"
   },
   {
    "duration": 50,
    "start_time": "2023-04-18T18:23:01.675Z"
   },
   {
    "duration": 7,
    "start_time": "2023-04-18T18:23:03.316Z"
   },
   {
    "duration": 49,
    "start_time": "2023-04-18T18:25:01.875Z"
   },
   {
    "duration": 7,
    "start_time": "2023-04-18T18:25:02.546Z"
   },
   {
    "duration": 53,
    "start_time": "2023-04-18T18:25:30.147Z"
   },
   {
    "duration": 7,
    "start_time": "2023-04-18T18:25:30.927Z"
   },
   {
    "duration": 166,
    "start_time": "2023-04-18T18:26:06.634Z"
   },
   {
    "duration": 7,
    "start_time": "2023-04-18T18:26:07.122Z"
   },
   {
    "duration": 64,
    "start_time": "2023-04-18T18:26:35.532Z"
   },
   {
    "duration": 70,
    "start_time": "2023-04-18T18:27:00.919Z"
   },
   {
    "duration": 80,
    "start_time": "2023-04-18T18:27:15.714Z"
   },
   {
    "duration": 70,
    "start_time": "2023-04-18T18:28:10.116Z"
   },
   {
    "duration": 7,
    "start_time": "2023-04-18T18:28:11.031Z"
   },
   {
    "duration": 67,
    "start_time": "2023-04-18T18:32:02.216Z"
   },
   {
    "duration": 53,
    "start_time": "2023-04-18T18:34:36.015Z"
   },
   {
    "duration": 7,
    "start_time": "2023-04-18T18:34:37.513Z"
   },
   {
    "duration": 80,
    "start_time": "2023-04-18T18:37:11.412Z"
   },
   {
    "duration": 51,
    "start_time": "2023-04-18T18:37:25.531Z"
   },
   {
    "duration": 18,
    "start_time": "2023-04-18T18:37:26.612Z"
   },
   {
    "duration": 57,
    "start_time": "2023-04-18T18:41:46.116Z"
   },
   {
    "duration": 11,
    "start_time": "2023-04-18T18:41:46.817Z"
   },
   {
    "duration": 51,
    "start_time": "2023-04-18T18:42:25.907Z"
   },
   {
    "duration": 8,
    "start_time": "2023-04-18T18:42:26.628Z"
   },
   {
    "duration": 52,
    "start_time": "2023-04-18T18:42:37.841Z"
   },
   {
    "duration": 8,
    "start_time": "2023-04-18T18:42:38.540Z"
   },
   {
    "duration": 51,
    "start_time": "2023-04-18T18:42:50.404Z"
   },
   {
    "duration": 17,
    "start_time": "2023-04-18T18:42:51.009Z"
   },
   {
    "duration": 66,
    "start_time": "2023-04-18T18:45:44.438Z"
   },
   {
    "duration": 50,
    "start_time": "2023-04-18T18:47:29.461Z"
   },
   {
    "duration": 7,
    "start_time": "2023-04-18T18:47:30.519Z"
   },
   {
    "duration": 49,
    "start_time": "2023-04-18T18:47:45.612Z"
   },
   {
    "duration": 8,
    "start_time": "2023-04-18T18:47:46.235Z"
   },
   {
    "duration": 8,
    "start_time": "2023-04-18T18:52:15.397Z"
   },
   {
    "duration": 78,
    "start_time": "2023-04-18T18:52:39.134Z"
   },
   {
    "duration": 65,
    "start_time": "2023-04-18T18:52:52.616Z"
   },
   {
    "duration": 68,
    "start_time": "2023-04-18T18:55:06.061Z"
   },
   {
    "duration": 71,
    "start_time": "2023-04-18T18:55:13.203Z"
   },
   {
    "duration": 69,
    "start_time": "2023-04-18T18:55:25.303Z"
   },
   {
    "duration": 74,
    "start_time": "2023-04-18T18:56:51.606Z"
   },
   {
    "duration": 72,
    "start_time": "2023-04-18T18:57:52.855Z"
   },
   {
    "duration": 2106,
    "start_time": "2023-04-19T16:47:05.216Z"
   },
   {
    "duration": 5,
    "start_time": "2023-04-19T16:47:07.324Z"
   },
   {
    "duration": 5789,
    "start_time": "2023-04-19T16:47:07.331Z"
   },
   {
    "duration": 109,
    "start_time": "2023-04-19T16:47:13.122Z"
   },
   {
    "duration": 18,
    "start_time": "2023-04-19T16:47:13.234Z"
   },
   {
    "duration": 114,
    "start_time": "2023-04-19T16:47:13.254Z"
   },
   {
    "duration": 7,
    "start_time": "2023-04-19T16:47:13.370Z"
   },
   {
    "duration": 107,
    "start_time": "2023-04-19T16:47:13.379Z"
   },
   {
    "duration": 15,
    "start_time": "2023-04-19T16:47:13.488Z"
   },
   {
    "duration": 116,
    "start_time": "2023-04-19T16:47:13.505Z"
   },
   {
    "duration": 7,
    "start_time": "2023-04-19T16:47:13.622Z"
   },
   {
    "duration": 1256,
    "start_time": "2023-04-19T16:47:13.631Z"
   },
   {
    "duration": 16,
    "start_time": "2023-04-19T16:47:14.889Z"
   },
   {
    "duration": 47,
    "start_time": "2023-04-19T16:47:14.909Z"
   },
   {
    "duration": 8,
    "start_time": "2023-04-19T16:47:14.959Z"
   },
   {
    "duration": 45,
    "start_time": "2023-04-19T16:47:14.969Z"
   },
   {
    "duration": 6,
    "start_time": "2023-04-19T16:47:15.017Z"
   },
   {
    "duration": 1242,
    "start_time": "2023-04-19T16:47:15.025Z"
   },
   {
    "duration": 12,
    "start_time": "2023-04-19T16:47:16.269Z"
   },
   {
    "duration": 436,
    "start_time": "2023-04-19T16:47:16.282Z"
   },
   {
    "duration": 12,
    "start_time": "2023-04-19T16:47:16.720Z"
   },
   {
    "duration": 496,
    "start_time": "2023-04-19T16:47:16.734Z"
   },
   {
    "duration": 54,
    "start_time": "2023-04-19T16:47:17.233Z"
   },
   {
    "duration": 9,
    "start_time": "2023-04-19T16:47:17.289Z"
   },
   {
    "duration": 87,
    "start_time": "2023-04-19T16:47:17.300Z"
   },
   {
    "duration": 60,
    "start_time": "2023-04-19T16:47:17.392Z"
   },
   {
    "duration": 7,
    "start_time": "2023-04-19T16:47:17.454Z"
   },
   {
    "duration": 58,
    "start_time": "2023-04-19T16:48:25.770Z"
   },
   {
    "duration": 8,
    "start_time": "2023-04-19T16:48:26.445Z"
   },
   {
    "duration": 59,
    "start_time": "2023-04-19T16:48:33.901Z"
   },
   {
    "duration": 9,
    "start_time": "2023-04-19T16:48:43.241Z"
   },
   {
    "duration": 72,
    "start_time": "2023-04-19T16:54:46.837Z"
   },
   {
    "duration": 8,
    "start_time": "2023-04-19T16:54:48.079Z"
   },
   {
    "duration": 74,
    "start_time": "2023-04-19T16:56:40.641Z"
   },
   {
    "duration": 8,
    "start_time": "2023-04-19T16:56:41.526Z"
   },
   {
    "duration": 76,
    "start_time": "2023-04-19T16:57:05.523Z"
   },
   {
    "duration": 14,
    "start_time": "2023-04-19T16:57:06.591Z"
   },
   {
    "duration": 90,
    "start_time": "2023-04-19T16:57:16.532Z"
   },
   {
    "duration": 8,
    "start_time": "2023-04-19T16:57:17.686Z"
   },
   {
    "duration": 78,
    "start_time": "2023-04-19T16:57:44.396Z"
   },
   {
    "duration": 8,
    "start_time": "2023-04-19T16:57:45.329Z"
   },
   {
    "duration": 79,
    "start_time": "2023-04-19T16:59:15.435Z"
   },
   {
    "duration": 7,
    "start_time": "2023-04-19T16:59:16.037Z"
   },
   {
    "duration": 77,
    "start_time": "2023-04-19T17:00:21.734Z"
   },
   {
    "duration": 6,
    "start_time": "2023-04-19T17:00:22.383Z"
   },
   {
    "duration": 66,
    "start_time": "2023-04-19T17:00:34.279Z"
   },
   {
    "duration": 8,
    "start_time": "2023-04-19T17:00:35.048Z"
   },
   {
    "duration": 85,
    "start_time": "2023-04-19T17:00:45.910Z"
   },
   {
    "duration": 11,
    "start_time": "2023-04-19T17:00:46.982Z"
   },
   {
    "duration": 104,
    "start_time": "2023-04-19T17:00:54.510Z"
   },
   {
    "duration": 9,
    "start_time": "2023-04-19T17:00:55.579Z"
   },
   {
    "duration": 104,
    "start_time": "2023-04-19T17:01:27.107Z"
   },
   {
    "duration": 7,
    "start_time": "2023-04-19T17:01:27.741Z"
   },
   {
    "duration": 87,
    "start_time": "2023-04-19T17:01:40.287Z"
   },
   {
    "duration": 10,
    "start_time": "2023-04-19T17:01:41.337Z"
   },
   {
    "duration": 87,
    "start_time": "2023-04-19T17:02:13.709Z"
   },
   {
    "duration": 8,
    "start_time": "2023-04-19T17:02:14.349Z"
   }
  ],
  "colab": {
   "provenance": []
  },
  "kernelspec": {
   "display_name": "Python 3 (ipykernel)",
   "language": "python",
   "name": "python3"
  },
  "language_info": {
   "codemirror_mode": {
    "name": "ipython",
    "version": 3
   },
   "file_extension": ".py",
   "mimetype": "text/x-python",
   "name": "python",
   "nbconvert_exporter": "python",
   "pygments_lexer": "ipython3",
   "version": "3.9.12"
  },
  "toc": {
   "base_numbering": 1,
   "nav_menu": {},
   "number_sections": false,
   "sideBar": true,
   "skip_h1_title": false,
   "title_cell": "Table of Contents",
   "title_sidebar": "Contents",
   "toc_cell": false,
   "toc_position": {
    "height": "calc(100% - 180px)",
    "left": "10px",
    "top": "150px",
    "width": "187.273px"
   },
   "toc_section_display": true,
   "toc_window_display": true
  }
 },
 "nbformat": 4,
 "nbformat_minor": 1
}

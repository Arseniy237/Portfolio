{
 "cells": [
  {
   "cell_type": "markdown",
   "metadata": {},
   "source": [
    "<a id=\"start\"></a>\n",
    "# Увеличение выручки интернет-магазина"
   ]
  },
  {
   "cell_type": "markdown",
   "metadata": {},
   "source": [
    "# Часть 1 Приоритизация гипотез."
   ]
  },
  {
   "cell_type": "code",
   "execution_count": 1,
   "metadata": {},
   "outputs": [
    {
     "name": "stdout",
     "output_type": "stream",
     "text": [
      "Requirement already satisfied: matplotlib in /opt/conda/lib/python3.9/site-packages (3.3.4)\n",
      "Collecting matplotlib\n",
      "  Downloading matplotlib-3.8.1-cp39-cp39-manylinux_2_17_x86_64.manylinux2014_x86_64.whl (11.6 MB)\n",
      "\u001b[K     |████████████████████████████████| 11.6 MB 1.0 MB/s eta 0:00:01\n",
      "\u001b[?25hRequirement already satisfied: numpy<2,>=1.21 in /opt/conda/lib/python3.9/site-packages (from matplotlib) (1.21.1)\n",
      "Requirement already satisfied: kiwisolver>=1.3.1 in /opt/conda/lib/python3.9/site-packages (from matplotlib) (1.4.4)\n",
      "Collecting importlib-resources>=3.2.0\n",
      "  Downloading importlib_resources-6.1.0-py3-none-any.whl (33 kB)\n",
      "Collecting contourpy>=1.0.1\n",
      "  Downloading contourpy-1.1.1-cp39-cp39-manylinux_2_17_x86_64.manylinux2014_x86_64.whl (301 kB)\n",
      "\u001b[K     |████████████████████████████████| 301 kB 91.4 MB/s eta 0:00:01\n",
      "\u001b[?25hRequirement already satisfied: pyparsing>=2.3.1 in /opt/conda/lib/python3.9/site-packages (from matplotlib) (2.4.7)\n",
      "Collecting fonttools>=4.22.0\n",
      "  Downloading fonttools-4.43.1-cp39-cp39-manylinux_2_17_x86_64.manylinux2014_x86_64.whl (4.5 MB)\n",
      "\u001b[K     |████████████████████████████████| 4.5 MB 88.5 MB/s eta 0:00:01\n",
      "\u001b[?25hRequirement already satisfied: python-dateutil>=2.7 in /opt/conda/lib/python3.9/site-packages (from matplotlib) (2.8.1)\n",
      "Requirement already satisfied: packaging>=20.0 in /opt/conda/lib/python3.9/site-packages (from matplotlib) (21.3)\n",
      "Requirement already satisfied: cycler>=0.10 in /opt/conda/lib/python3.9/site-packages (from matplotlib) (0.11.0)\n",
      "Requirement already satisfied: pillow>=8 in /opt/conda/lib/python3.9/site-packages (from matplotlib) (8.4.0)\n",
      "Requirement already satisfied: zipp>=3.1.0 in /opt/conda/lib/python3.9/site-packages (from importlib-resources>=3.2.0->matplotlib) (3.5.0)\n",
      "Requirement already satisfied: six>=1.5 in /opt/conda/lib/python3.9/site-packages (from python-dateutil>=2.7->matplotlib) (1.16.0)\n",
      "Installing collected packages: importlib-resources, fonttools, contourpy, matplotlib\n",
      "  Attempting uninstall: matplotlib\n",
      "    Found existing installation: matplotlib 3.3.4\n",
      "    Uninstalling matplotlib-3.3.4:\n",
      "      Successfully uninstalled matplotlib-3.3.4\n",
      "Successfully installed contourpy-1.1.1 fonttools-4.43.1 importlib-resources-6.1.0 matplotlib-3.8.1\n",
      "Note: you may need to restart the kernel to use updated packages.\n"
     ]
    }
   ],
   "source": [
    "pip install matplotlib --upgrade"
   ]
  },
  {
   "cell_type": "code",
   "execution_count": 2,
   "metadata": {},
   "outputs": [],
   "source": [
    "import pandas as pd\n",
    "import datetime as dt\n",
    "import numpy as np\n",
    "import matplotlib.pyplot as plt\n",
    "import scipy.stats as stats\n",
    "import seaborn as sns\n",
    "from pandas.plotting import register_matplotlib_converters\n",
    "from matplotlib.pyplot import figure\n",
    "import warnings"
   ]
  },
  {
   "cell_type": "code",
   "execution_count": 3,
   "metadata": {},
   "outputs": [],
   "source": [
    "hypo = pd.read_csv('/datasets/hypothesis.csv')"
   ]
  },
  {
   "cell_type": "code",
   "execution_count": 4,
   "metadata": {},
   "outputs": [
    {
     "data": {
      "text/html": [
       "<div>\n",
       "<style scoped>\n",
       "    .dataframe tbody tr th:only-of-type {\n",
       "        vertical-align: middle;\n",
       "    }\n",
       "\n",
       "    .dataframe tbody tr th {\n",
       "        vertical-align: top;\n",
       "    }\n",
       "\n",
       "    .dataframe thead th {\n",
       "        text-align: right;\n",
       "    }\n",
       "</style>\n",
       "<table border=\"1\" class=\"dataframe\">\n",
       "  <thead>\n",
       "    <tr style=\"text-align: right;\">\n",
       "      <th></th>\n",
       "      <th>Hypothesis</th>\n",
       "      <th>Reach</th>\n",
       "      <th>Impact</th>\n",
       "      <th>Confidence</th>\n",
       "      <th>Efforts</th>\n",
       "    </tr>\n",
       "  </thead>\n",
       "  <tbody>\n",
       "    <tr>\n",
       "      <th>0</th>\n",
       "      <td>Добавить два новых канала привлечения трафика,...</td>\n",
       "      <td>3</td>\n",
       "      <td>10</td>\n",
       "      <td>8</td>\n",
       "      <td>6</td>\n",
       "    </tr>\n",
       "    <tr>\n",
       "      <th>1</th>\n",
       "      <td>Запустить собственную службу доставки, что сок...</td>\n",
       "      <td>2</td>\n",
       "      <td>5</td>\n",
       "      <td>4</td>\n",
       "      <td>10</td>\n",
       "    </tr>\n",
       "    <tr>\n",
       "      <th>2</th>\n",
       "      <td>Добавить блоки рекомендаций товаров на сайт ин...</td>\n",
       "      <td>8</td>\n",
       "      <td>3</td>\n",
       "      <td>7</td>\n",
       "      <td>3</td>\n",
       "    </tr>\n",
       "    <tr>\n",
       "      <th>3</th>\n",
       "      <td>Изменить структура категорий, что увеличит кон...</td>\n",
       "      <td>8</td>\n",
       "      <td>3</td>\n",
       "      <td>3</td>\n",
       "      <td>8</td>\n",
       "    </tr>\n",
       "    <tr>\n",
       "      <th>4</th>\n",
       "      <td>Изменить цвет фона главной страницы, чтобы уве...</td>\n",
       "      <td>3</td>\n",
       "      <td>1</td>\n",
       "      <td>1</td>\n",
       "      <td>1</td>\n",
       "    </tr>\n",
       "    <tr>\n",
       "      <th>5</th>\n",
       "      <td>Добавить страницу отзывов клиентов о магазине,...</td>\n",
       "      <td>3</td>\n",
       "      <td>2</td>\n",
       "      <td>2</td>\n",
       "      <td>3</td>\n",
       "    </tr>\n",
       "    <tr>\n",
       "      <th>6</th>\n",
       "      <td>Показать на главной странице баннеры с актуаль...</td>\n",
       "      <td>5</td>\n",
       "      <td>3</td>\n",
       "      <td>8</td>\n",
       "      <td>3</td>\n",
       "    </tr>\n",
       "    <tr>\n",
       "      <th>7</th>\n",
       "      <td>Добавить форму подписки на все основные страни...</td>\n",
       "      <td>10</td>\n",
       "      <td>7</td>\n",
       "      <td>8</td>\n",
       "      <td>5</td>\n",
       "    </tr>\n",
       "    <tr>\n",
       "      <th>8</th>\n",
       "      <td>Запустить акцию, дающую скидку на товар в день...</td>\n",
       "      <td>1</td>\n",
       "      <td>9</td>\n",
       "      <td>9</td>\n",
       "      <td>5</td>\n",
       "    </tr>\n",
       "  </tbody>\n",
       "</table>\n",
       "</div>"
      ],
      "text/plain": [
       "                                          Hypothesis  Reach  Impact  \\\n",
       "0  Добавить два новых канала привлечения трафика,...      3      10   \n",
       "1  Запустить собственную службу доставки, что сок...      2       5   \n",
       "2  Добавить блоки рекомендаций товаров на сайт ин...      8       3   \n",
       "3  Изменить структура категорий, что увеличит кон...      8       3   \n",
       "4  Изменить цвет фона главной страницы, чтобы уве...      3       1   \n",
       "5  Добавить страницу отзывов клиентов о магазине,...      3       2   \n",
       "6  Показать на главной странице баннеры с актуаль...      5       3   \n",
       "7  Добавить форму подписки на все основные страни...     10       7   \n",
       "8  Запустить акцию, дающую скидку на товар в день...      1       9   \n",
       "\n",
       "   Confidence  Efforts  \n",
       "0           8        6  \n",
       "1           4       10  \n",
       "2           7        3  \n",
       "3           3        8  \n",
       "4           1        1  \n",
       "5           2        3  \n",
       "6           8        3  \n",
       "7           8        5  \n",
       "8           9        5  "
      ]
     },
     "metadata": {},
     "output_type": "display_data"
    }
   ],
   "source": [
    "display(hypo)"
   ]
  },
  {
   "cell_type": "code",
   "execution_count": 5,
   "metadata": {},
   "outputs": [
    {
     "data": {
      "text/html": [
       "<div>\n",
       "<style scoped>\n",
       "    .dataframe tbody tr th:only-of-type {\n",
       "        vertical-align: middle;\n",
       "    }\n",
       "\n",
       "    .dataframe tbody tr th {\n",
       "        vertical-align: top;\n",
       "    }\n",
       "\n",
       "    .dataframe thead th {\n",
       "        text-align: right;\n",
       "    }\n",
       "</style>\n",
       "<table border=\"1\" class=\"dataframe\">\n",
       "  <thead>\n",
       "    <tr style=\"text-align: right;\">\n",
       "      <th></th>\n",
       "      <th>Hypothesis</th>\n",
       "      <th>ICE</th>\n",
       "    </tr>\n",
       "  </thead>\n",
       "  <tbody>\n",
       "    <tr>\n",
       "      <th>8</th>\n",
       "      <td>Запустить акцию, дающую скидку на товар в день...</td>\n",
       "      <td>16.2</td>\n",
       "    </tr>\n",
       "    <tr>\n",
       "      <th>0</th>\n",
       "      <td>Добавить два новых канала привлечения трафика,...</td>\n",
       "      <td>13.3</td>\n",
       "    </tr>\n",
       "    <tr>\n",
       "      <th>7</th>\n",
       "      <td>Добавить форму подписки на все основные страни...</td>\n",
       "      <td>11.2</td>\n",
       "    </tr>\n",
       "    <tr>\n",
       "      <th>6</th>\n",
       "      <td>Показать на главной странице баннеры с актуаль...</td>\n",
       "      <td>8.0</td>\n",
       "    </tr>\n",
       "    <tr>\n",
       "      <th>2</th>\n",
       "      <td>Добавить блоки рекомендаций товаров на сайт ин...</td>\n",
       "      <td>7.0</td>\n",
       "    </tr>\n",
       "    <tr>\n",
       "      <th>1</th>\n",
       "      <td>Запустить собственную службу доставки, что сок...</td>\n",
       "      <td>2.0</td>\n",
       "    </tr>\n",
       "    <tr>\n",
       "      <th>5</th>\n",
       "      <td>Добавить страницу отзывов клиентов о магазине,...</td>\n",
       "      <td>1.3</td>\n",
       "    </tr>\n",
       "    <tr>\n",
       "      <th>3</th>\n",
       "      <td>Изменить структура категорий, что увеличит кон...</td>\n",
       "      <td>1.1</td>\n",
       "    </tr>\n",
       "    <tr>\n",
       "      <th>4</th>\n",
       "      <td>Изменить цвет фона главной страницы, чтобы уве...</td>\n",
       "      <td>1.0</td>\n",
       "    </tr>\n",
       "  </tbody>\n",
       "</table>\n",
       "</div>"
      ],
      "text/plain": [
       "                                          Hypothesis   ICE\n",
       "8  Запустить акцию, дающую скидку на товар в день...  16.2\n",
       "0  Добавить два новых канала привлечения трафика,...  13.3\n",
       "7  Добавить форму подписки на все основные страни...  11.2\n",
       "6  Показать на главной странице баннеры с актуаль...   8.0\n",
       "2  Добавить блоки рекомендаций товаров на сайт ин...   7.0\n",
       "1  Запустить собственную службу доставки, что сок...   2.0\n",
       "5  Добавить страницу отзывов клиентов о магазине,...   1.3\n",
       "3  Изменить структура категорий, что увеличит кон...   1.1\n",
       "4  Изменить цвет фона главной страницы, чтобы уве...   1.0"
      ]
     },
     "metadata": {},
     "output_type": "display_data"
    }
   ],
   "source": [
    "hypo['ICE'] = (hypo['Impact'] * hypo['Confidence']) / hypo['Efforts']\n",
    "\n",
    "display(hypo.sort_values(by = 'ICE', ascending = False).round(decimals = 1)[['Hypothesis','ICE']])"
   ]
  },
  {
   "cell_type": "code",
   "execution_count": 6,
   "metadata": {},
   "outputs": [
    {
     "data": {
      "text/html": [
       "<div>\n",
       "<style scoped>\n",
       "    .dataframe tbody tr th:only-of-type {\n",
       "        vertical-align: middle;\n",
       "    }\n",
       "\n",
       "    .dataframe tbody tr th {\n",
       "        vertical-align: top;\n",
       "    }\n",
       "\n",
       "    .dataframe thead th {\n",
       "        text-align: right;\n",
       "    }\n",
       "</style>\n",
       "<table border=\"1\" class=\"dataframe\">\n",
       "  <thead>\n",
       "    <tr style=\"text-align: right;\">\n",
       "      <th></th>\n",
       "      <th>Hypothesis</th>\n",
       "      <th>RICE</th>\n",
       "    </tr>\n",
       "  </thead>\n",
       "  <tbody>\n",
       "    <tr>\n",
       "      <th>7</th>\n",
       "      <td>Добавить форму подписки на все основные страни...</td>\n",
       "      <td>112.0</td>\n",
       "    </tr>\n",
       "    <tr>\n",
       "      <th>2</th>\n",
       "      <td>Добавить блоки рекомендаций товаров на сайт ин...</td>\n",
       "      <td>56.0</td>\n",
       "    </tr>\n",
       "    <tr>\n",
       "      <th>0</th>\n",
       "      <td>Добавить два новых канала привлечения трафика,...</td>\n",
       "      <td>40.0</td>\n",
       "    </tr>\n",
       "    <tr>\n",
       "      <th>6</th>\n",
       "      <td>Показать на главной странице баннеры с актуаль...</td>\n",
       "      <td>40.0</td>\n",
       "    </tr>\n",
       "    <tr>\n",
       "      <th>8</th>\n",
       "      <td>Запустить акцию, дающую скидку на товар в день...</td>\n",
       "      <td>16.2</td>\n",
       "    </tr>\n",
       "    <tr>\n",
       "      <th>3</th>\n",
       "      <td>Изменить структура категорий, что увеличит кон...</td>\n",
       "      <td>9.0</td>\n",
       "    </tr>\n",
       "    <tr>\n",
       "      <th>1</th>\n",
       "      <td>Запустить собственную службу доставки, что сок...</td>\n",
       "      <td>4.0</td>\n",
       "    </tr>\n",
       "    <tr>\n",
       "      <th>5</th>\n",
       "      <td>Добавить страницу отзывов клиентов о магазине,...</td>\n",
       "      <td>4.0</td>\n",
       "    </tr>\n",
       "    <tr>\n",
       "      <th>4</th>\n",
       "      <td>Изменить цвет фона главной страницы, чтобы уве...</td>\n",
       "      <td>3.0</td>\n",
       "    </tr>\n",
       "  </tbody>\n",
       "</table>\n",
       "</div>"
      ],
      "text/plain": [
       "                                          Hypothesis   RICE\n",
       "7  Добавить форму подписки на все основные страни...  112.0\n",
       "2  Добавить блоки рекомендаций товаров на сайт ин...   56.0\n",
       "0  Добавить два новых канала привлечения трафика,...   40.0\n",
       "6  Показать на главной странице баннеры с актуаль...   40.0\n",
       "8  Запустить акцию, дающую скидку на товар в день...   16.2\n",
       "3  Изменить структура категорий, что увеличит кон...    9.0\n",
       "1  Запустить собственную службу доставки, что сок...    4.0\n",
       "5  Добавить страницу отзывов клиентов о магазине,...    4.0\n",
       "4  Изменить цвет фона главной страницы, чтобы уве...    3.0"
      ]
     },
     "metadata": {},
     "output_type": "display_data"
    }
   ],
   "source": [
    "hypo['RICE'] = (hypo['Reach'] * hypo['Impact'] * hypo['Confidence']) / hypo['Efforts']\n",
    "\n",
    "display(hypo.sort_values(by = 'RICE', ascending = False)[['Hypothesis','RICE']])"
   ]
  },
  {
   "cell_type": "markdown",
   "metadata": {},
   "source": [
    "Приоритезация у ICE и RICE разная, так как во втором случае учитывается охват аудитории. Таким образом гипотеза с наибольшим охватом вышла на первое место, а лидер ICE оказался с наименьшим охватом и стал лишь пятым."
   ]
  },
  {
   "cell_type": "markdown",
   "metadata": {},
   "source": [
    "# Часть 2 Анализ A/B-теста"
   ]
  },
  {
   "cell_type": "markdown",
   "metadata": {},
   "source": [
    "Вы провели A/B-тест и получили результаты, которые описаны в файлах /datasets/orders.csv и /datasets/visitors.csv.\\\n",
    "Задача - Проанализировать A/B-тест"
   ]
  },
  {
   "cell_type": "markdown",
   "metadata": {},
   "source": [
    "### Постройте график кумулятивной выручки по группам. Сделайте выводы и предположения."
   ]
  },
  {
   "cell_type": "code",
   "execution_count": 7,
   "metadata": {},
   "outputs": [],
   "source": [
    "register_matplotlib_converters()"
   ]
  },
  {
   "cell_type": "code",
   "execution_count": 8,
   "metadata": {},
   "outputs": [
    {
     "data": {
      "text/html": [
       "<div>\n",
       "<style scoped>\n",
       "    .dataframe tbody tr th:only-of-type {\n",
       "        vertical-align: middle;\n",
       "    }\n",
       "\n",
       "    .dataframe tbody tr th {\n",
       "        vertical-align: top;\n",
       "    }\n",
       "\n",
       "    .dataframe thead th {\n",
       "        text-align: right;\n",
       "    }\n",
       "</style>\n",
       "<table border=\"1\" class=\"dataframe\">\n",
       "  <thead>\n",
       "    <tr style=\"text-align: right;\">\n",
       "      <th></th>\n",
       "      <th>transactionId</th>\n",
       "      <th>visitorId</th>\n",
       "      <th>date</th>\n",
       "      <th>revenue</th>\n",
       "      <th>group</th>\n",
       "    </tr>\n",
       "  </thead>\n",
       "  <tbody>\n",
       "    <tr>\n",
       "      <th>0</th>\n",
       "      <td>3667963787</td>\n",
       "      <td>3312258926</td>\n",
       "      <td>2019-08-15</td>\n",
       "      <td>1650</td>\n",
       "      <td>B</td>\n",
       "    </tr>\n",
       "    <tr>\n",
       "      <th>1</th>\n",
       "      <td>2804400009</td>\n",
       "      <td>3642806036</td>\n",
       "      <td>2019-08-15</td>\n",
       "      <td>730</td>\n",
       "      <td>B</td>\n",
       "    </tr>\n",
       "    <tr>\n",
       "      <th>2</th>\n",
       "      <td>2961555356</td>\n",
       "      <td>4069496402</td>\n",
       "      <td>2019-08-15</td>\n",
       "      <td>400</td>\n",
       "      <td>A</td>\n",
       "    </tr>\n",
       "    <tr>\n",
       "      <th>3</th>\n",
       "      <td>3797467345</td>\n",
       "      <td>1196621759</td>\n",
       "      <td>2019-08-15</td>\n",
       "      <td>9759</td>\n",
       "      <td>B</td>\n",
       "    </tr>\n",
       "    <tr>\n",
       "      <th>4</th>\n",
       "      <td>2282983706</td>\n",
       "      <td>2322279887</td>\n",
       "      <td>2019-08-15</td>\n",
       "      <td>2308</td>\n",
       "      <td>B</td>\n",
       "    </tr>\n",
       "  </tbody>\n",
       "</table>\n",
       "</div>"
      ],
      "text/plain": [
       "   transactionId   visitorId        date  revenue group\n",
       "0     3667963787  3312258926  2019-08-15     1650     B\n",
       "1     2804400009  3642806036  2019-08-15      730     B\n",
       "2     2961555356  4069496402  2019-08-15      400     A\n",
       "3     3797467345  1196621759  2019-08-15     9759     B\n",
       "4     2282983706  2322279887  2019-08-15     2308     B"
      ]
     },
     "metadata": {},
     "output_type": "display_data"
    },
    {
     "name": "stdout",
     "output_type": "stream",
     "text": [
      "<class 'pandas.core.frame.DataFrame'>\n",
      "RangeIndex: 1197 entries, 0 to 1196\n",
      "Data columns (total 5 columns):\n",
      " #   Column         Non-Null Count  Dtype \n",
      "---  ------         --------------  ----- \n",
      " 0   transactionId  1197 non-null   int64 \n",
      " 1   visitorId      1197 non-null   int64 \n",
      " 2   date           1197 non-null   object\n",
      " 3   revenue        1197 non-null   int64 \n",
      " 4   group          1197 non-null   object\n",
      "dtypes: int64(3), object(2)\n",
      "memory usage: 46.9+ KB\n"
     ]
    }
   ],
   "source": [
    "orders = pd.read_csv('/datasets/orders.csv', sep=',')\n",
    "\n",
    "display(orders.head())\n",
    "orders.info()"
   ]
  },
  {
   "cell_type": "code",
   "execution_count": 9,
   "metadata": {},
   "outputs": [],
   "source": [
    "orders['date'] = orders['date'].map(\n",
    "    lambda x: dt.datetime.strptime(x, '%Y-%m-%d')\n",
    ")"
   ]
  },
  {
   "cell_type": "code",
   "execution_count": 10,
   "metadata": {},
   "outputs": [
    {
     "data": {
      "text/html": [
       "<div>\n",
       "<style scoped>\n",
       "    .dataframe tbody tr th:only-of-type {\n",
       "        vertical-align: middle;\n",
       "    }\n",
       "\n",
       "    .dataframe tbody tr th {\n",
       "        vertical-align: top;\n",
       "    }\n",
       "\n",
       "    .dataframe thead th {\n",
       "        text-align: right;\n",
       "    }\n",
       "</style>\n",
       "<table border=\"1\" class=\"dataframe\">\n",
       "  <thead>\n",
       "    <tr style=\"text-align: right;\">\n",
       "      <th></th>\n",
       "      <th>date</th>\n",
       "      <th>group</th>\n",
       "      <th>visitors</th>\n",
       "    </tr>\n",
       "  </thead>\n",
       "  <tbody>\n",
       "    <tr>\n",
       "      <th>0</th>\n",
       "      <td>2019-08-01</td>\n",
       "      <td>A</td>\n",
       "      <td>719</td>\n",
       "    </tr>\n",
       "    <tr>\n",
       "      <th>1</th>\n",
       "      <td>2019-08-02</td>\n",
       "      <td>A</td>\n",
       "      <td>619</td>\n",
       "    </tr>\n",
       "    <tr>\n",
       "      <th>2</th>\n",
       "      <td>2019-08-03</td>\n",
       "      <td>A</td>\n",
       "      <td>507</td>\n",
       "    </tr>\n",
       "    <tr>\n",
       "      <th>3</th>\n",
       "      <td>2019-08-04</td>\n",
       "      <td>A</td>\n",
       "      <td>717</td>\n",
       "    </tr>\n",
       "    <tr>\n",
       "      <th>4</th>\n",
       "      <td>2019-08-05</td>\n",
       "      <td>A</td>\n",
       "      <td>756</td>\n",
       "    </tr>\n",
       "  </tbody>\n",
       "</table>\n",
       "</div>"
      ],
      "text/plain": [
       "         date group  visitors\n",
       "0  2019-08-01     A       719\n",
       "1  2019-08-02     A       619\n",
       "2  2019-08-03     A       507\n",
       "3  2019-08-04     A       717\n",
       "4  2019-08-05     A       756"
      ]
     },
     "metadata": {},
     "output_type": "display_data"
    }
   ],
   "source": [
    "visitors = pd.read_csv('/datasets/visitors.csv')\n",
    "\n",
    "display(visitors.head())"
   ]
  },
  {
   "cell_type": "code",
   "execution_count": 11,
   "metadata": {},
   "outputs": [],
   "source": [
    "visitors['date'] = visitors['date'].map(\n",
    "    lambda x: dt.datetime.strptime(x, '%Y-%m-%d')\n",
    ")"
   ]
  },
  {
   "cell_type": "code",
   "execution_count": 12,
   "metadata": {},
   "outputs": [
    {
     "name": "stdout",
     "output_type": "stream",
     "text": [
      "0\n",
      "0\n",
      "transactionId    0\n",
      "visitorId        0\n",
      "date             0\n",
      "revenue          0\n",
      "group            0\n",
      "dtype: int64\n",
      "date        0\n",
      "group       0\n",
      "visitors    0\n",
      "dtype: int64\n"
     ]
    }
   ],
   "source": [
    "#Проверка на пропуски и дубликаты\n",
    "print(orders.duplicated().sum())\n",
    "print(visitors.duplicated().sum())\n",
    "\n",
    "print(orders.isna().sum())\n",
    "print(visitors.isna().sum())"
   ]
  },
  {
   "cell_type": "code",
   "execution_count": 13,
   "metadata": {},
   "outputs": [
    {
     "name": "stdout",
     "output_type": "stream",
     "text": [
      "['B' 'A']\n",
      "['A' 'B']\n"
     ]
    }
   ],
   "source": [
    "#Проверка количества групп\n",
    "print(orders['group'].unique())\n",
    "print(visitors['group'].unique())"
   ]
  },
  {
   "cell_type": "code",
   "execution_count": 14,
   "metadata": {
    "scrolled": true
   },
   "outputs": [
    {
     "data": {
      "image/png": "[encoded data removed]",
      "text/plain": [
       "<Figure size 504x360 with 1 Axes>"
      ]
     },
     "metadata": {
      "needs_background": "light"
     },
     "output_type": "display_data"
    },
    {
     "data": {
      "image/png": "[encoded data removed]",
      "text/plain": [
       "<Figure size 504x360 with 1 Axes>"
      ]
     },
     "metadata": {},
     "output_type": "display_data"
    }
   ],
   "source": [
    "visitorsAB = visitors.pivot_table(index='group', values='visitors', aggfunc='count').reset_index()\n",
    "visitorsAB.columns = ['Группа','Количество пользователей']\n",
    "\n",
    "plt.figure(figsize=(7, 5))\n",
    "sns.set_style('whitegrid')\n",
    "visitorsplt = sns.barplot(x='Группа', y='Количество пользователей', palette='CMRmap_r', data = visitorsAB)\n",
    "plt.title('Распределение пользователей по группам в таблице с посещениями по дням')\n",
    "plt.bar_label(visitorsplt.containers[0])\n",
    "plt.show(visitorsplt);\n",
    "\n",
    "\n",
    "ordersAB = orders.groupby('group')['transactionId'].count().rename_axis('group').reset_index()\n",
    "ordersAB.columns = ['Группа','Количество пользователей']\n",
    "\n",
    "plt.figure(figsize=(7, 5))\n",
    "sns.set_style('whitegrid')\n",
    "ordersplt = sns.barplot(x='Группа', y='Количество пользователей', palette='CMRmap_r', data = ordersAB)\n",
    "plt.title('Распределение пользователей по группам в таблице с заказами')\n",
    "plt.bar_label(ordersplt.containers[0])\n",
    "plt.show(ordersplt);\n"
   ]
  },
  {
   "cell_type": "markdown",
   "metadata": {},
   "source": [
    "Распределение пользователей между группами по датам в норме. Распределение пользователей между группами по количеству заказов немного смещено в пользу группы В."
   ]
  },
  {
   "cell_type": "code",
   "execution_count": 15,
   "metadata": {},
   "outputs": [
    {
     "data": {
      "text/plain": [
       "[]"
      ]
     },
     "metadata": {},
     "output_type": "display_data"
    }
   ],
   "source": [
    "#Проверяю не попали ли какие-либо пользователи в обе группы\n",
    "usersA = orders[orders['group'] == 'A']\n",
    "usersB = orders[orders['group'] == 'B']\n",
    "both_group_users = []\n",
    "for user in usersA['visitorId']:\n",
    "    if user in usersB['visitorId']:\n",
    "        both_group_users.append(user)\n",
    "display(both_group_users)"
   ]
  },
  {
   "cell_type": "code",
   "execution_count": 16,
   "metadata": {},
   "outputs": [
    {
     "data": {
      "text/plain": [
       "Timestamp('2019-08-01 00:00:00')"
      ]
     },
     "metadata": {},
     "output_type": "display_data"
    },
    {
     "data": {
      "text/plain": [
       "Timestamp('2019-08-31 00:00:00')"
      ]
     },
     "metadata": {},
     "output_type": "display_data"
    },
    {
     "data": {
      "text/plain": [
       "Timestamp('2019-08-01 00:00:00')"
      ]
     },
     "metadata": {},
     "output_type": "display_data"
    },
    {
     "data": {
      "text/plain": [
       "Timestamp('2019-08-31 00:00:00')"
      ]
     },
     "metadata": {},
     "output_type": "display_data"
    }
   ],
   "source": [
    "display(visitors['date'].min())\n",
    "display(visitors['date'].max())\n",
    "display(orders['date'].min())\n",
    "display(orders['date'].max())"
   ]
  },
  {
   "cell_type": "markdown",
   "metadata": {},
   "source": [
    "Тестирование проводилось весь август 2019 года."
   ]
  },
  {
   "cell_type": "code",
   "execution_count": 17,
   "metadata": {},
   "outputs": [],
   "source": [
    "datesGroups = orders[['date', 'group']].drop_duplicates()"
   ]
  },
  {
   "cell_type": "code",
   "execution_count": 20,
   "metadata": {},
   "outputs": [
    {
     "data": {
      "text/html": [
       "<div>\n",
       "<style scoped>\n",
       "    .dataframe tbody tr th:only-of-type {\n",
       "        vertical-align: middle;\n",
       "    }\n",
       "\n",
       "    .dataframe tbody tr th {\n",
       "        vertical-align: top;\n",
       "    }\n",
       "\n",
       "    .dataframe thead th {\n",
       "        text-align: right;\n",
       "    }\n",
       "</style>\n",
       "<table border=\"1\" class=\"dataframe\">\n",
       "  <thead>\n",
       "    <tr style=\"text-align: right;\">\n",
       "      <th></th>\n",
       "      <th>date</th>\n",
       "      <th>group</th>\n",
       "    </tr>\n",
       "  </thead>\n",
       "  <tbody>\n",
       "    <tr>\n",
       "      <th>0</th>\n",
       "      <td>2019-08-15</td>\n",
       "      <td>B</td>\n",
       "    </tr>\n",
       "    <tr>\n",
       "      <th>2</th>\n",
       "      <td>2019-08-15</td>\n",
       "      <td>A</td>\n",
       "    </tr>\n",
       "    <tr>\n",
       "      <th>45</th>\n",
       "      <td>2019-08-16</td>\n",
       "      <td>A</td>\n",
       "    </tr>\n",
       "    <tr>\n",
       "      <th>47</th>\n",
       "      <td>2019-08-16</td>\n",
       "      <td>B</td>\n",
       "    </tr>\n",
       "    <tr>\n",
       "      <th>55</th>\n",
       "      <td>2019-08-01</td>\n",
       "      <td>A</td>\n",
       "    </tr>\n",
       "    <tr>\n",
       "      <th>...</th>\n",
       "      <td>...</td>\n",
       "      <td>...</td>\n",
       "    </tr>\n",
       "    <tr>\n",
       "      <th>1068</th>\n",
       "      <td>2019-08-12</td>\n",
       "      <td>A</td>\n",
       "    </tr>\n",
       "    <tr>\n",
       "      <th>1114</th>\n",
       "      <td>2019-08-13</td>\n",
       "      <td>B</td>\n",
       "    </tr>\n",
       "    <tr>\n",
       "      <th>1116</th>\n",
       "      <td>2019-08-13</td>\n",
       "      <td>A</td>\n",
       "    </tr>\n",
       "    <tr>\n",
       "      <th>1149</th>\n",
       "      <td>2019-08-14</td>\n",
       "      <td>B</td>\n",
       "    </tr>\n",
       "    <tr>\n",
       "      <th>1150</th>\n",
       "      <td>2019-08-14</td>\n",
       "      <td>A</td>\n",
       "    </tr>\n",
       "  </tbody>\n",
       "</table>\n",
       "<p>62 rows × 2 columns</p>\n",
       "</div>"
      ],
      "text/plain": [
       "           date group\n",
       "0    2019-08-15     B\n",
       "2    2019-08-15     A\n",
       "45   2019-08-16     A\n",
       "47   2019-08-16     B\n",
       "55   2019-08-01     A\n",
       "...         ...   ...\n",
       "1068 2019-08-12     A\n",
       "1114 2019-08-13     B\n",
       "1116 2019-08-13     A\n",
       "1149 2019-08-14     B\n",
       "1150 2019-08-14     A\n",
       "\n",
       "[62 rows x 2 columns]"
      ]
     },
     "metadata": {},
     "output_type": "display_data"
    }
   ],
   "source": [
    "display(datesGroups)"
   ]
  },
  {
   "cell_type": "code",
   "execution_count": 18,
   "metadata": {},
   "outputs": [],
   "source": [
    "ordersAggregated = datesGroups.apply(\n",
    "    lambda x: orders[\n",
    "        np.logical_and(\n",
    "            orders['date'] <= x['date'], orders['group'] == x['group']\n",
    "        )\n",
    "    ].agg(\n",
    "        {\n",
    "            'date': 'max',\n",
    "            'group': 'max',\n",
    "            'transactionId': 'nunique',\n",
    "            'visitorId': 'nunique',\n",
    "            'revenue': 'sum',\n",
    "        }\n",
    "    ),\n",
    "    axis=1,\n",
    ").sort_values(by=['date', 'group'])"
   ]
  },
  {
   "cell_type": "code",
   "execution_count": 19,
   "metadata": {},
   "outputs": [
    {
     "data": {
      "text/html": [
       "<div>\n",
       "<style scoped>\n",
       "    .dataframe tbody tr th:only-of-type {\n",
       "        vertical-align: middle;\n",
       "    }\n",
       "\n",
       "    .dataframe tbody tr th {\n",
       "        vertical-align: top;\n",
       "    }\n",
       "\n",
       "    .dataframe thead th {\n",
       "        text-align: right;\n",
       "    }\n",
       "</style>\n",
       "<table border=\"1\" class=\"dataframe\">\n",
       "  <thead>\n",
       "    <tr style=\"text-align: right;\">\n",
       "      <th></th>\n",
       "      <th>date</th>\n",
       "      <th>group</th>\n",
       "      <th>transactionId</th>\n",
       "      <th>visitorId</th>\n",
       "      <th>revenue</th>\n",
       "    </tr>\n",
       "  </thead>\n",
       "  <tbody>\n",
       "    <tr>\n",
       "      <th>55</th>\n",
       "      <td>2019-08-01</td>\n",
       "      <td>A</td>\n",
       "      <td>24</td>\n",
       "      <td>20</td>\n",
       "      <td>148579</td>\n",
       "    </tr>\n",
       "    <tr>\n",
       "      <th>66</th>\n",
       "      <td>2019-08-01</td>\n",
       "      <td>B</td>\n",
       "      <td>21</td>\n",
       "      <td>20</td>\n",
       "      <td>101217</td>\n",
       "    </tr>\n",
       "    <tr>\n",
       "      <th>175</th>\n",
       "      <td>2019-08-02</td>\n",
       "      <td>A</td>\n",
       "      <td>44</td>\n",
       "      <td>38</td>\n",
       "      <td>242401</td>\n",
       "    </tr>\n",
       "    <tr>\n",
       "      <th>173</th>\n",
       "      <td>2019-08-02</td>\n",
       "      <td>B</td>\n",
       "      <td>45</td>\n",
       "      <td>43</td>\n",
       "      <td>266748</td>\n",
       "    </tr>\n",
       "    <tr>\n",
       "      <th>291</th>\n",
       "      <td>2019-08-03</td>\n",
       "      <td>A</td>\n",
       "      <td>68</td>\n",
       "      <td>62</td>\n",
       "      <td>354874</td>\n",
       "    </tr>\n",
       "    <tr>\n",
       "      <th>...</th>\n",
       "      <td>...</td>\n",
       "      <td>...</td>\n",
       "      <td>...</td>\n",
       "      <td>...</td>\n",
       "      <td>...</td>\n",
       "    </tr>\n",
       "    <tr>\n",
       "      <th>496</th>\n",
       "      <td>2019-08-29</td>\n",
       "      <td>B</td>\n",
       "      <td>596</td>\n",
       "      <td>544</td>\n",
       "      <td>5559398</td>\n",
       "    </tr>\n",
       "    <tr>\n",
       "      <th>730</th>\n",
       "      <td>2019-08-30</td>\n",
       "      <td>A</td>\n",
       "      <td>545</td>\n",
       "      <td>493</td>\n",
       "      <td>4022970</td>\n",
       "    </tr>\n",
       "    <tr>\n",
       "      <th>690</th>\n",
       "      <td>2019-08-30</td>\n",
       "      <td>B</td>\n",
       "      <td>620</td>\n",
       "      <td>567</td>\n",
       "      <td>5774631</td>\n",
       "    </tr>\n",
       "    <tr>\n",
       "      <th>958</th>\n",
       "      <td>2019-08-31</td>\n",
       "      <td>A</td>\n",
       "      <td>557</td>\n",
       "      <td>503</td>\n",
       "      <td>4084803</td>\n",
       "    </tr>\n",
       "    <tr>\n",
       "      <th>930</th>\n",
       "      <td>2019-08-31</td>\n",
       "      <td>B</td>\n",
       "      <td>640</td>\n",
       "      <td>586</td>\n",
       "      <td>5907760</td>\n",
       "    </tr>\n",
       "  </tbody>\n",
       "</table>\n",
       "<p>62 rows × 5 columns</p>\n",
       "</div>"
      ],
      "text/plain": [
       "          date group  transactionId  visitorId  revenue\n",
       "55  2019-08-01     A             24         20   148579\n",
       "66  2019-08-01     B             21         20   101217\n",
       "175 2019-08-02     A             44         38   242401\n",
       "173 2019-08-02     B             45         43   266748\n",
       "291 2019-08-03     A             68         62   354874\n",
       "..         ...   ...            ...        ...      ...\n",
       "496 2019-08-29     B            596        544  5559398\n",
       "730 2019-08-30     A            545        493  4022970\n",
       "690 2019-08-30     B            620        567  5774631\n",
       "958 2019-08-31     A            557        503  4084803\n",
       "930 2019-08-31     B            640        586  5907760\n",
       "\n",
       "[62 rows x 5 columns]"
      ]
     },
     "metadata": {},
     "output_type": "display_data"
    }
   ],
   "source": [
    "display(ordersAggregated)"
   ]
  },
  {
   "cell_type": "code",
   "execution_count": 19,
   "metadata": {},
   "outputs": [],
   "source": [
    "visitorsAggregated = datesGroups.apply(\n",
    "    lambda x: visitors[\n",
    "        np.logical_and(\n",
    "            visitors['date'] <= x['date'], visitors['group'] == x['group']\n",
    "        )\n",
    "    ].agg({'date': 'max', 'group': 'max', 'visitors': 'sum'}),\n",
    "    axis=1,\n",
    ").sort_values(by=['date', 'group'])"
   ]
  },
  {
   "cell_type": "code",
   "execution_count": 20,
   "metadata": {
    "scrolled": true
   },
   "outputs": [
    {
     "data": {
      "image/png": "[encoded data removed]",
      "text/plain": [
       "<Figure size 864x432 with 1 Axes>"
      ]
     },
     "metadata": {},
     "output_type": "display_data"
    }
   ],
   "source": [
    "cumulativeData = ordersAggregated.merge(\n",
    "    visitorsAggregated, left_on=['date', 'group'], right_on=['date', 'group']\n",
    ")\n",
    "cumulativeData.columns = [\n",
    "    'date',\n",
    "    'group',\n",
    "    'orders',\n",
    "    'buyers',\n",
    "    'revenue',\n",
    "    'visitors',\n",
    "]\n",
    "\n",
    "cumulativeRevenueA = cumulativeData[cumulativeData['group']=='A'][['date','revenue', 'orders','visitors']]\n",
    "\n",
    "cumulativeRevenueB = cumulativeData[cumulativeData['group']=='B'][['date','revenue', 'orders','visitors']]\n",
    "\n",
    "plt.figure(figsize=(12, 6))\n",
    "\n",
    "plt.plot(cumulativeRevenueA['date'], cumulativeRevenueA['revenue'], label='A')\n",
    "\n",
    "plt.plot(cumulativeRevenueB['date'], cumulativeRevenueB['revenue'], label='B')\n",
    "\n",
    "plt.title('График кумуллятивной выручки по группам')\n",
    "plt.xlabel('Дата')\n",
    "plt.ylabel('Кумулятивная выручка')\n",
    "\n",
    "plt.legend();"
   ]
  },
  {
   "cell_type": "markdown",
   "metadata": {},
   "source": [
    "Сегмент В в середине тестирования резко вырывается вперед, возможно имели место быть аномально крупные заказы в группе В 19 числа."
   ]
  },
  {
   "cell_type": "markdown",
   "metadata": {},
   "source": [
    "### Постройте график кумулятивного среднего чека по группам. Сделайте выводы и предположения."
   ]
  },
  {
   "cell_type": "code",
   "execution_count": 21,
   "metadata": {},
   "outputs": [
    {
     "data": {
      "image/png": "[encoded data removed]",
      "text/plain": [
       "<Figure size 864x432 with 1 Axes>"
      ]
     },
     "metadata": {},
     "output_type": "display_data"
    }
   ],
   "source": [
    "plt.figure(figsize=(12, 6))\n",
    "plt.plot(cumulativeRevenueA['date'], cumulativeRevenueA['revenue']/cumulativeRevenueA['orders'], label='A')\n",
    "plt.plot(cumulativeRevenueB['date'], cumulativeRevenueB['revenue']/cumulativeRevenueB['orders'], label='B')\n",
    "plt.title('График кумуллятивного среднего чека по группам')\n",
    "plt.xlabel('Дата')\n",
    "plt.ylabel('Кумулятивный средний чек')\n",
    "\n",
    "plt.legend();"
   ]
  },
  {
   "cell_type": "markdown",
   "metadata": {},
   "source": [
    "В группе В всё также видны выбросы девятнадцатого августа. Трбуется дополнительный анализ выбросов."
   ]
  },
  {
   "cell_type": "markdown",
   "metadata": {},
   "source": [
    "### Постройте график относительного изменения кумулятивного среднего чека группы B к группе A. Сделайте выводы и предположения."
   ]
  },
  {
   "cell_type": "code",
   "execution_count": 22,
   "metadata": {},
   "outputs": [
    {
     "data": {
      "text/html": [
       "<div>\n",
       "<style scoped>\n",
       "    .dataframe tbody tr th:only-of-type {\n",
       "        vertical-align: middle;\n",
       "    }\n",
       "\n",
       "    .dataframe tbody tr th {\n",
       "        vertical-align: top;\n",
       "    }\n",
       "\n",
       "    .dataframe thead th {\n",
       "        text-align: right;\n",
       "    }\n",
       "</style>\n",
       "<table border=\"1\" class=\"dataframe\">\n",
       "  <thead>\n",
       "    <tr style=\"text-align: right;\">\n",
       "      <th></th>\n",
       "      <th>date</th>\n",
       "      <th>revenueA</th>\n",
       "      <th>ordersA</th>\n",
       "      <th>visitorsA</th>\n",
       "      <th>revenueB</th>\n",
       "      <th>ordersB</th>\n",
       "      <th>visitorsB</th>\n",
       "    </tr>\n",
       "  </thead>\n",
       "  <tbody>\n",
       "    <tr>\n",
       "      <th>0</th>\n",
       "      <td>2019-08-01</td>\n",
       "      <td>148579</td>\n",
       "      <td>24</td>\n",
       "      <td>719</td>\n",
       "      <td>101217</td>\n",
       "      <td>21</td>\n",
       "      <td>713</td>\n",
       "    </tr>\n",
       "    <tr>\n",
       "      <th>1</th>\n",
       "      <td>2019-08-02</td>\n",
       "      <td>242401</td>\n",
       "      <td>44</td>\n",
       "      <td>1338</td>\n",
       "      <td>266748</td>\n",
       "      <td>45</td>\n",
       "      <td>1294</td>\n",
       "    </tr>\n",
       "    <tr>\n",
       "      <th>2</th>\n",
       "      <td>2019-08-03</td>\n",
       "      <td>354874</td>\n",
       "      <td>68</td>\n",
       "      <td>1845</td>\n",
       "      <td>380996</td>\n",
       "      <td>61</td>\n",
       "      <td>1803</td>\n",
       "    </tr>\n",
       "    <tr>\n",
       "      <th>3</th>\n",
       "      <td>2019-08-04</td>\n",
       "      <td>425699</td>\n",
       "      <td>84</td>\n",
       "      <td>2562</td>\n",
       "      <td>489567</td>\n",
       "      <td>78</td>\n",
       "      <td>2573</td>\n",
       "    </tr>\n",
       "    <tr>\n",
       "      <th>4</th>\n",
       "      <td>2019-08-05</td>\n",
       "      <td>549917</td>\n",
       "      <td>109</td>\n",
       "      <td>3318</td>\n",
       "      <td>581995</td>\n",
       "      <td>101</td>\n",
       "      <td>3280</td>\n",
       "    </tr>\n",
       "  </tbody>\n",
       "</table>\n",
       "</div>"
      ],
      "text/plain": [
       "        date  revenueA  ordersA  visitorsA  revenueB  ordersB  visitorsB\n",
       "0 2019-08-01    148579       24        719    101217       21        713\n",
       "1 2019-08-02    242401       44       1338    266748       45       1294\n",
       "2 2019-08-03    354874       68       1845    380996       61       1803\n",
       "3 2019-08-04    425699       84       2562    489567       78       2573\n",
       "4 2019-08-05    549917      109       3318    581995      101       3280"
      ]
     },
     "metadata": {},
     "output_type": "display_data"
    },
    {
     "data": {
      "image/png": "[encoded data removed]",
      "text/plain": [
       "<Figure size 864x432 with 1 Axes>"
      ]
     },
     "metadata": {},
     "output_type": "display_data"
    }
   ],
   "source": [
    "mergedCumulativeRevenue = cumulativeRevenueA.merge(cumulativeRevenueB, left_on='date', right_on='date', how='left', suffixes=['A', 'B'])\n",
    "\n",
    "display(mergedCumulativeRevenue.head())\n",
    "\n",
    "plt.figure(figsize=(12, 6))\n",
    "\n",
    "plt.title('график относительного изменения кумулятивного среднего чека группы B к группе A')\n",
    "plt.xlabel('Дата')\n",
    "plt.ylabel('Отношение чека группы В к групппе А')\n",
    "\n",
    "plt.plot(mergedCumulativeRevenue['date'], (mergedCumulativeRevenue['revenueB']/mergedCumulativeRevenue['ordersB'])/(mergedCumulativeRevenue['revenueA']/mergedCumulativeRevenue['ordersA'])-1)\n",
    "\n",
    "plt.axhline(y=0, color='black', linestyle='--');"
   ]
  },
  {
   "cell_type": "markdown",
   "metadata": {},
   "source": [
    "На графике относительного изменения видно выбросы 8 числа в пользу группы А и 19 числа в пользу группы В."
   ]
  },
  {
   "cell_type": "markdown",
   "metadata": {},
   "source": [
    "### Постройте график кумулятивного среднего количества заказов на посетителя по группам. Сделайте выводы и предположения."
   ]
  },
  {
   "cell_type": "code",
   "execution_count": 23,
   "metadata": {},
   "outputs": [
    {
     "data": {
      "image/png": "[encoded data removed]",
      "text/plain": [
       "<Figure size 864x432 with 1 Axes>"
      ]
     },
     "metadata": {},
     "output_type": "display_data"
    }
   ],
   "source": [
    "plt.figure(figsize=(12, 6))\n",
    "plt.plot(cumulativeRevenueA['date'], cumulativeRevenueA['orders']/cumulativeRevenueA['visitors'], label='A')\n",
    "plt.plot(cumulativeRevenueB['date'], cumulativeRevenueB['orders']/cumulativeRevenueB['visitors'], label='B')\n",
    "plt.title('График кумулятивного среднего количества заказов на посетителя по группам')\n",
    "plt.xlabel('Дата')\n",
    "plt.ylabel('Среднее количество заказов на посетителя')\n",
    "\n",
    "plt.legend();"
   ]
  },
  {
   "cell_type": "markdown",
   "metadata": {},
   "source": [
    "Наблюдается всплеск заказов в начале измерения, после графики выравниваются и в группе А заказов становится стабильно меньше."
   ]
  },
  {
   "cell_type": "markdown",
   "metadata": {},
   "source": [
    "### Постройте график относительного изменения кумулятивного среднего количества заказов на посетителя группы B к группе A. Сделайте выводы и предположения."
   ]
  },
  {
   "cell_type": "code",
   "execution_count": 24,
   "metadata": {},
   "outputs": [
    {
     "data": {
      "image/png": "[encoded data removed]",
      "text/plain": [
       "<Figure size 864x432 with 1 Axes>"
      ]
     },
     "metadata": {},
     "output_type": "display_data"
    }
   ],
   "source": [
    "plt.figure(figsize=(12, 6))\n",
    "\n",
    "plt.plot(mergedCumulativeRevenue['date'], (mergedCumulativeRevenue['ordersB']/mergedCumulativeRevenue['visitorsB'])/(mergedCumulativeRevenue['ordersA']/mergedCumulativeRevenue['visitorsA'])-1)\n",
    "\n",
    "plt.title('График относительного изменения кумулятивного среднего количества заказов на посетителя группы B к группе A')\n",
    "plt.xlabel('Дата')\n",
    "plt.ylabel('Отношение количества заказов группы В к групппе А')\n",
    "\n",
    "plt.axhline(y=0, color='black', linestyle='--');"
   ]
  },
  {
   "cell_type": "markdown",
   "metadata": {},
   "source": [
    "До 9 числа наблюдается рост заказов в группе В, после чего график стабилизируется и резких скачков не наблюдается. Резкие скачки 8 и 19 числа сдесь не наблюдаются, значит дело не в количестве заказов а в стоимости некоторых отдельных заказов."
   ]
  },
  {
   "cell_type": "markdown",
   "metadata": {},
   "source": [
    "### Постройте точечный график количества заказов по пользователям. Сделайте выводы и предположения."
   ]
  },
  {
   "cell_type": "code",
   "execution_count": 25,
   "metadata": {
    "scrolled": true
   },
   "outputs": [
    {
     "data": {
      "image/png": "[encoded data removed]",
      "text/plain": [
       "<Figure size 864x432 with 1 Axes>"
      ]
     },
     "metadata": {},
     "output_type": "display_data"
    }
   ],
   "source": [
    "ordersperuser = orders.pivot_table(index='visitorId', values='transactionId', aggfunc='count').reset_index()\n",
    "ordersperuser.columns = ['visitorId','count']\n",
    "x_values = pd.Series(range(0,len(ordersperuser['visitorId'])))\n",
    "plt.figure(figsize=(12, 6))\n",
    "plt.title('График количества заказов по пользователям')\n",
    "plt.xlabel('Дата')\n",
    "plt.ylabel('Количество заказов')\n",
    "plt.scatter(x_values, ordersperuser['count']);"
   ]
  },
  {
   "cell_type": "markdown",
   "metadata": {},
   "source": [
    "На графике видно, что имеется всего два пользователя, у которых количество заказов больше 8."
   ]
  },
  {
   "cell_type": "markdown",
   "metadata": {},
   "source": [
    "### Посчитайте 95-й и 99-й перцентили количества заказов на пользователя. Выберите границу для определения аномальных пользователей."
   ]
  },
  {
   "cell_type": "code",
   "execution_count": 26,
   "metadata": {},
   "outputs": [
    {
     "name": "stdout",
     "output_type": "stream",
     "text": [
      "[2. 4.]\n"
     ]
    }
   ],
   "source": [
    "print(np.percentile(ordersperuser['count'], [95, 99]))"
   ]
  },
  {
   "cell_type": "markdown",
   "metadata": {},
   "source": [
    "Не более 1% пользователей совершали больше 4 заказов. И не более 5% больше 2 заказов. Разумно выбрать среднее между ними, а именно 3 заказа как верхнюю границу числа заказов."
   ]
  },
  {
   "cell_type": "markdown",
   "metadata": {},
   "source": [
    "### Постройте точечный график стоимостей заказов. Сделайте выводы и предположения."
   ]
  },
  {
   "cell_type": "code",
   "execution_count": 27,
   "metadata": {
    "scrolled": true
   },
   "outputs": [
    {
     "data": {
      "text/html": [
       "<div>\n",
       "<style scoped>\n",
       "    .dataframe tbody tr th:only-of-type {\n",
       "        vertical-align: middle;\n",
       "    }\n",
       "\n",
       "    .dataframe tbody tr th {\n",
       "        vertical-align: top;\n",
       "    }\n",
       "\n",
       "    .dataframe thead th {\n",
       "        text-align: right;\n",
       "    }\n",
       "</style>\n",
       "<table border=\"1\" class=\"dataframe\">\n",
       "  <thead>\n",
       "    <tr style=\"text-align: right;\">\n",
       "      <th></th>\n",
       "      <th>transactionId</th>\n",
       "      <th>visitorId</th>\n",
       "      <th>date</th>\n",
       "      <th>revenue</th>\n",
       "      <th>group</th>\n",
       "    </tr>\n",
       "  </thead>\n",
       "  <tbody>\n",
       "    <tr>\n",
       "      <th>425</th>\n",
       "      <td>590470918</td>\n",
       "      <td>1920142716</td>\n",
       "      <td>2019-08-19</td>\n",
       "      <td>1294500</td>\n",
       "      <td>B</td>\n",
       "    </tr>\n",
       "    <tr>\n",
       "      <th>1196</th>\n",
       "      <td>3936777065</td>\n",
       "      <td>2108080724</td>\n",
       "      <td>2019-08-15</td>\n",
       "      <td>202740</td>\n",
       "      <td>B</td>\n",
       "    </tr>\n",
       "    <tr>\n",
       "      <th>858</th>\n",
       "      <td>192721366</td>\n",
       "      <td>1316129916</td>\n",
       "      <td>2019-08-27</td>\n",
       "      <td>93940</td>\n",
       "      <td>A</td>\n",
       "    </tr>\n",
       "    <tr>\n",
       "      <th>1136</th>\n",
       "      <td>666610489</td>\n",
       "      <td>1307669133</td>\n",
       "      <td>2019-08-13</td>\n",
       "      <td>92550</td>\n",
       "      <td>A</td>\n",
       "    </tr>\n",
       "    <tr>\n",
       "      <th>744</th>\n",
       "      <td>3668308183</td>\n",
       "      <td>888512513</td>\n",
       "      <td>2019-08-27</td>\n",
       "      <td>86620</td>\n",
       "      <td>B</td>\n",
       "    </tr>\n",
       "  </tbody>\n",
       "</table>\n",
       "</div>"
      ],
      "text/plain": [
       "      transactionId   visitorId       date  revenue group\n",
       "425       590470918  1920142716 2019-08-19  1294500     B\n",
       "1196     3936777065  2108080724 2019-08-15   202740     B\n",
       "858       192721366  1316129916 2019-08-27    93940     A\n",
       "1136      666610489  1307669133 2019-08-13    92550     A\n",
       "744      3668308183   888512513 2019-08-27    86620     B"
      ]
     },
     "metadata": {},
     "output_type": "display_data"
    },
    {
     "data": {
      "image/png": "[encoded data removed]",
      "text/plain": [
       "<Figure size 864x432 with 1 Axes>"
      ]
     },
     "metadata": {},
     "output_type": "display_data"
    }
   ],
   "source": [
    "x_values = pd.Series(range(0,len(orders['revenue'])))\n",
    "plt.figure(figsize=(12, 6))\n",
    "plt.scatter(x_values, orders['revenue'])\n",
    "\n",
    "display(orders.sort_values(by = 'revenue', ascending = False).head());"
   ]
  },
  {
   "cell_type": "markdown",
   "metadata": {},
   "source": [
    "Два заказа, за миллион триста тысяч рублей и двести тысяч рублей сильно выбиваются из общей массы. Вероятно они и создают выбросы. Ко всему прочему, видно что самый дорогой заказ как раз был 19 числа."
   ]
  },
  {
   "cell_type": "markdown",
   "metadata": {},
   "source": [
    "### Посчитайте 95-й и 99-й перцентили стоимости заказов. Выберите границу для определения аномальных заказов."
   ]
  },
  {
   "cell_type": "code",
   "execution_count": 28,
   "metadata": {},
   "outputs": [
    {
     "name": "stdout",
     "output_type": "stream",
     "text": [
      "[28000.  58233.2]\n"
     ]
    }
   ],
   "source": [
    "print(np.percentile(orders['revenue'], [95, 99]))"
   ]
  },
  {
   "cell_type": "markdown",
   "metadata": {},
   "source": [
    "95% всех заказов было на сумму менее 28 тысяч рублей. Это число и будет верхней границей. Остальное отсеем."
   ]
  },
  {
   "cell_type": "markdown",
   "metadata": {},
   "source": [
    "### Посчитайте статистическую значимость различий в среднем количестве заказов на посетителя между группами по «сырым» данным. Сделайте выводы и предположения."
   ]
  },
  {
   "cell_type": "markdown",
   "metadata": {},
   "source": [
    "Гипотезы:\n",
    "\n",
    "    H0: Статистически значимых различий в среднем числе заказов между группами нет.\n",
    "    H1: Имеются статистически значимые различия в среднем числе заказов между группами.\n"
   ]
  },
  {
   "cell_type": "code",
   "execution_count": 29,
   "metadata": {
    "scrolled": true
   },
   "outputs": [
    {
     "name": "stdout",
     "output_type": "stream",
     "text": [
      "p-value: 0.016792355056752608\n",
      "Разница между средним: 0.138\n"
     ]
    }
   ],
   "source": [
    "visitorsADaily = visitors[visitors['group'] == 'A'][['date', 'visitors']]\n",
    "visitorsADaily.columns = ['date', 'visitorsPerDateA']\n",
    "\n",
    "visitorsACummulative = visitorsADaily.apply(\n",
    "    lambda x: visitorsADaily[visitorsADaily['date'] <= x['date']].agg(\n",
    "        {'date': 'max', 'visitorsPerDateA': 'sum'}\n",
    "    ),\n",
    "    axis=1,\n",
    ")\n",
    "visitorsACummulative.columns = ['date', 'visitorsCummulativeA']\n",
    "\n",
    "visitorsBDaily = visitors[visitors['group'] == 'B'][['date', 'visitors']]\n",
    "visitorsBDaily.columns = ['date', 'visitorsPerDateB']\n",
    "\n",
    "visitorsBCummulative = visitorsBDaily.apply(\n",
    "    lambda x: visitorsBDaily[visitorsBDaily['date'] <= x['date']].agg(\n",
    "        {'date': 'max', 'visitorsPerDateB': 'sum'}\n",
    "    ),\n",
    "    axis=1,\n",
    ")\n",
    "visitorsBCummulative.columns = ['date', 'visitorsCummulativeB']\n",
    "\n",
    "\n",
    "ordersADaily = (\n",
    "    orders[orders['group'] == 'A'][['transactionId', 'visitorId', 'date', 'revenue']]\n",
    "    .groupby('date', as_index=False)\n",
    "    .agg({'transactionId': pd.Series.nunique, 'revenue': 'sum'})\n",
    ")\n",
    "ordersADaily.columns = ['date', 'ordersPerDateA', 'revenuePerDateA']\n",
    "\n",
    "ordersACummulative = ordersADaily.apply(\n",
    "    lambda x: ordersADaily[ordersADaily['date'] <= x['date']].agg(\n",
    "        {'date': 'max', 'ordersPerDateA': 'sum', 'revenuePerDateA': 'sum'}\n",
    "    ),\n",
    "    axis=1,\n",
    ").sort_values(by=['date'])\n",
    "ordersACummulative.columns = [\n",
    "    'date',\n",
    "    'ordersCummulativeA',\n",
    "    'revenueCummulativeA',\n",
    "]\n",
    "\n",
    "ordersBDaily = (\n",
    "    orders[orders['group'] == 'B'][['transactionId', 'visitorId', 'date', 'revenue']]\n",
    "    .groupby('date', as_index=False)\n",
    "    .agg({'transactionId': pd.Series.nunique, 'revenue': 'sum'})\n",
    ")\n",
    "ordersBDaily.columns = ['date', 'ordersPerDateB', 'revenuePerDateB']\n",
    "\n",
    "ordersBCummulative = ordersBDaily.apply(\n",
    "    lambda x: ordersBDaily[ordersBDaily['date'] <= x['date']].agg(\n",
    "        {'date': 'max', 'ordersPerDateB': 'sum', 'revenuePerDateB': 'sum'}\n",
    "    ),\n",
    "    axis=1,\n",
    ").sort_values(by=['date'])\n",
    "ordersBCummulative.columns = [\n",
    "    'date',\n",
    "    'ordersCummulativeB',\n",
    "    'revenueCummulativeB',\n",
    "]\n",
    "\n",
    "\n",
    "data = (\n",
    "    ordersADaily.merge(\n",
    "        ordersBDaily, left_on='date', right_on='date', how='left'\n",
    "    )\n",
    "    .merge(ordersACummulative, left_on='date', right_on='date', how='left')\n",
    "    .merge(ordersBCummulative, left_on='date', right_on='date', how='left')\n",
    "    .merge(visitorsADaily, left_on='date', right_on='date', how='left')\n",
    "    .merge(visitorsBDaily, left_on='date', right_on='date', how='left')\n",
    "    .merge(visitorsACummulative, left_on='date', right_on='date', how='left')\n",
    "    .merge(visitorsBCummulative, left_on='date', right_on='date', how='left')\n",
    ")\n",
    "\n",
    "ordersByUsersA = (\n",
    "    orders[orders['group'] == 'A']\n",
    "    .groupby('visitorId', as_index=False)\n",
    "    .agg({'transactionId': pd.Series.nunique})\n",
    ")\n",
    "ordersByUsersA.columns = ['visitorId', 'orders']\n",
    "\n",
    "ordersByUsersB = (\n",
    "    orders[orders['group'] == 'B']\n",
    "    .groupby('visitorId', as_index=False)\n",
    "    .agg({'transactionId': pd.Series.nunique})\n",
    ")\n",
    "ordersByUsersB.columns = ['visitorId', 'orders']\n",
    "\n",
    "sampleA = pd.concat(\n",
    "    [\n",
    "        ordersByUsersA['orders'],\n",
    "        pd.Series(\n",
    "            0,\n",
    "            index=np.arange(\n",
    "                data['visitorsPerDateA'].sum() - len(ordersByUsersA['orders'])\n",
    "            ),\n",
    "            name='orders',\n",
    "        ),\n",
    "    ],\n",
    "    axis=0,\n",
    ")\n",
    "\n",
    "sampleB = pd.concat(\n",
    "    [\n",
    "        ordersByUsersB['orders'],\n",
    "        pd.Series(\n",
    "            0,\n",
    "            index=np.arange(\n",
    "                data['visitorsPerDateB'].sum() - len(ordersByUsersB['orders'])\n",
    "            ),\n",
    "            name='orders',\n",
    "        ),\n",
    "    ],\n",
    "    axis=0,\n",
    ")\n",
    "\n",
    "print(\"p-value: {0}\".format(stats.mannwhitneyu(sampleA, sampleB)[1]))\n",
    "\n",
    "print(\"Разница между средним: {0:.3f}\".format(sampleB.mean() / sampleA.mean() - 1))\n",
    "\n"
   ]
  },
  {
   "cell_type": "markdown",
   "metadata": {},
   "source": [
    "P-value меньше 0.05, значит исходя из сырых данных между группами есть статистически значимые различия. Однако среднее группы В на 14% большего среднего группы А"
   ]
  },
  {
   "cell_type": "markdown",
   "metadata": {},
   "source": [
    "### Посчитайте статистическую значимость различий в среднем чеке заказа между группами по «сырым» данным. Сделайте выводы и предположения."
   ]
  },
  {
   "cell_type": "markdown",
   "metadata": {},
   "source": [
    "Гипотезы:\n",
    "\n",
    "    H0: Статистически значимых различий в среднем чеке заказа между группами нет.\n",
    "    H1: Имеются статистически значимые различия в среднем чеке заказа между группами.\n"
   ]
  },
  {
   "cell_type": "code",
   "execution_count": 30,
   "metadata": {},
   "outputs": [
    {
     "name": "stdout",
     "output_type": "stream",
     "text": [
      "p-value: 0.7292909855432458\n",
      "Разница между средним: 0.259\n"
     ]
    }
   ],
   "source": [
    "print('p-value: {0}'.format(stats.mannwhitneyu(orders[orders['group']=='A']['revenue'], orders[orders['group']=='B']['revenue'])[1]))\n",
    "print('Разница между средним: {0:.3f}'.format(orders[orders['group']=='B']['revenue'].mean()/orders[orders['group']=='A']['revenue'].mean()-1))"
   ]
  },
  {
   "cell_type": "markdown",
   "metadata": {},
   "source": [
    "P-value значительно больше 0.05 - значит принимаем нулевую гипотезу. Однако средний чек группы В на 26% больше чем у группы А. "
   ]
  },
  {
   "cell_type": "markdown",
   "metadata": {},
   "source": [
    "### Посчитайте статистическую значимость различий в среднем количестве заказов на посетителя между группами по «очищенным» данным. Сделайте выводы и предположения."
   ]
  },
  {
   "cell_type": "markdown",
   "metadata": {},
   "source": [
    "Гипотезы:\n",
    "\n",
    "    H0: Статистически значимых различий в среднем количестве заказов после очистки данных между группами нет.\n",
    "    H1: Статистически значимые различия между группами в среднем количестве заказов после очистки данных остаются.\n"
   ]
  },
  {
   "cell_type": "code",
   "execution_count": 31,
   "metadata": {},
   "outputs": [],
   "source": [
    "max_revenue = 28000\n",
    "max_orders = 3"
   ]
  },
  {
   "cell_type": "code",
   "execution_count": 32,
   "metadata": {},
   "outputs": [
    {
     "name": "stdout",
     "output_type": "stream",
     "text": [
      "1099    148427295\n",
      "18      199603092\n",
      "928     204675465\n",
      "23      237748145\n",
      "684     358944393\n",
      "Name: visitorId, dtype: int64\n"
     ]
    }
   ],
   "source": [
    "usersWithManyOrders = pd.concat(\n",
    "    [\n",
    "        ordersByUsersA[ordersByUsersA['orders'] > max_orders]['visitorId'],\n",
    "        ordersByUsersB[ordersByUsersB['orders'] > max_orders]['visitorId'],\n",
    "    ],\n",
    "    axis=0,\n",
    ")\n",
    "usersWithExpensiveOrders = orders[orders['revenue'] > max_revenue]['visitorId']\n",
    "abnormalUsers = (\n",
    "    pd.concat([usersWithManyOrders, usersWithExpensiveOrders], axis=0)\n",
    "    .drop_duplicates()\n",
    "    .sort_values()\n",
    ")\n",
    "print(abnormalUsers.head(5))#Список пользователей у которых больше 3 заказов и/или есть заказы стоимостью более 28000."
   ]
  },
  {
   "cell_type": "code",
   "execution_count": 33,
   "metadata": {},
   "outputs": [
    {
     "name": "stdout",
     "output_type": "stream",
     "text": [
      "p-value: 0.017942888591552505\n",
      "Разница между средним: 0.148\n"
     ]
    }
   ],
   "source": [
    "sampleAFiltered = pd.concat(\n",
    "    [\n",
    "        ordersByUsersA[\n",
    "            np.logical_not(ordersByUsersA['visitorId'].isin(abnormalUsers))\n",
    "        ]['orders'],\n",
    "        pd.Series(\n",
    "            0,\n",
    "            index=np.arange(\n",
    "                data['visitorsPerDateA'].sum() - len(ordersByUsersA['orders'])\n",
    "            ),\n",
    "            name='orders',\n",
    "        ),\n",
    "    ],\n",
    "    axis=0,\n",
    ")\n",
    "\n",
    "sampleBFiltered = pd.concat(\n",
    "    [\n",
    "        ordersByUsersB[\n",
    "            np.logical_not(ordersByUsersB['visitorId'].isin(abnormalUsers))\n",
    "        ]['orders'],\n",
    "        pd.Series(\n",
    "            0,\n",
    "            index=np.arange(\n",
    "                data['visitorsPerDateB'].sum() - len(ordersByUsersB['orders'])\n",
    "            ),\n",
    "            name='orders',\n",
    "        ),\n",
    "    ],\n",
    "    axis=0,\n",
    ")\n",
    "print('p-value: {0}'.format(stats.mannwhitneyu(sampleAFiltered, sampleBFiltered)[1]))\n",
    "print('Разница между средним: {0:.3f}'.format(sampleBFiltered.mean()/sampleAFiltered.mean()-1))"
   ]
  },
  {
   "cell_type": "markdown",
   "metadata": {},
   "source": [
    "P-value и среднее почти не изменились, даже после обработки данных между группами остаются статистически значимые различия. А значит конверсия группы В на 15% лучше чем А. Принимаем альтернативную гипотезу."
   ]
  },
  {
   "cell_type": "markdown",
   "metadata": {},
   "source": [
    "### Посчитайте статистическую значимость различий в среднем чеке заказа между группами по «очищенным» данным. Сделайте выводы и предположения."
   ]
  },
  {
   "cell_type": "markdown",
   "metadata": {},
   "source": [
    "Гипотезы:\n",
    "\n",
    "    H0: Статистически значимых различий в среднем чеке заказа после очистки данных между группами нет.\n",
    "    H1: Статистически значимые различия между группами в среднем чеке заказа после очистки данных остаются .\n"
   ]
  },
  {
   "cell_type": "code",
   "execution_count": 34,
   "metadata": {},
   "outputs": [
    {
     "name": "stdout",
     "output_type": "stream",
     "text": [
      "p-value: 0.9765292921254219\n",
      "Разница между средним: -0.017\n"
     ]
    }
   ],
   "source": [
    "print(\n",
    "    'p-value: {0}'.format(\n",
    "        stats.mannwhitneyu(\n",
    "            orders[\n",
    "                np.logical_and(\n",
    "                    orders['group'] == 'A',\n",
    "                    np.logical_not(orders['visitorId'].isin(abnormalUsers)),\n",
    "                )\n",
    "            ]['revenue'],\n",
    "            orders[\n",
    "                np.logical_and(\n",
    "                    orders['group'] == 'B',\n",
    "                    np.logical_not(orders['visitorId'].isin(abnormalUsers)),\n",
    "                )\n",
    "            ]['revenue'],\n",
    "        )[1]\n",
    "    )\n",
    ")\n",
    "\n",
    "print(\n",
    "    \"Разница между средним: {0:.3f}\".format(\n",
    "        orders[\n",
    "            np.logical_and(\n",
    "                orders['group'] == 'B',\n",
    "                np.logical_not(orders['visitorId'].isin(abnormalUsers)),\n",
    "            )\n",
    "        ]['revenue'].mean()\n",
    "        / orders[\n",
    "            np.logical_and(\n",
    "                orders['group'] == 'A',\n",
    "                np.logical_not(orders['visitorId'].isin(abnormalUsers)),\n",
    "            )\n",
    "        ]['revenue'].mean()\n",
    "        - 1\n",
    "    )\n",
    ")"
   ]
  },
  {
   "cell_type": "markdown",
   "metadata": {},
   "source": [
    "p-value увеличилось с 73% до 98% а различие групп уменьшилось с 26% до 2%. Статистически значимого различия между группами по сумме среднего чека нет. Следовательно график в в пункте 5 достоверен. Оставляем нулевую гипотезу."
   ]
  },
  {
   "cell_type": "markdown",
   "metadata": {},
   "source": [
    "### Примите решение по результатам теста и объясните его."
   ]
  },
  {
   "cell_type": "markdown",
   "metadata": {},
   "source": [
    "Мною принято решение остановить тест и признать победу группы В по следующим причинам:\n",
    "- Есть статистически значимое различие по конверсии между группами как по сырым данным, так и после фильтрации аномалий в пользу группы В.\n",
    "- Отсутствует статистически значимое различие по среднему чеку между группами как по сырым данным, так и после фильтрации аномалий.\n",
    "- График различия конверсии между группами стабилизировался в районе отметки в 15% в пользу группы В значит тест можно прекратить.\n",
    "- График среднего чека сильно колеблется из-за аномалий, но даже после их обработки статистически значимого различия между группами нет, поэтому сделать выводы из этого графика нельзя."
   ]
  },
  {
   "cell_type": "markdown",
   "metadata": {},
   "source": [
    "[В начало](#start)"
   ]
  }
 ],
 "metadata": {
  "ExecuteTimeLog": [
   {
    "duration": 77,
    "start_time": "2023-06-08T06:20:41.099Z"
   },
   {
    "duration": 1067,
    "start_time": "2023-06-08T06:20:42.621Z"
   },
   {
    "duration": 85,
    "start_time": "2023-06-08T06:20:43.694Z"
   },
   {
    "duration": 15,
    "start_time": "2023-06-08T06:20:43.781Z"
   },
   {
    "duration": 20,
    "start_time": "2023-06-08T06:21:06.041Z"
   },
   {
    "duration": 27,
    "start_time": "2023-06-08T06:21:06.499Z"
   },
   {
    "duration": 20,
    "start_time": "2023-06-08T06:21:07.037Z"
   },
   {
    "duration": 6,
    "start_time": "2023-06-08T06:22:09.605Z"
   },
   {
    "duration": 62,
    "start_time": "2023-06-08T06:24:07.394Z"
   },
   {
    "duration": 27,
    "start_time": "2023-06-08T06:24:10.605Z"
   },
   {
    "duration": 1617,
    "start_time": "2023-06-08T06:24:10.895Z"
   },
   {
    "duration": 8,
    "start_time": "2023-06-08T06:24:26.121Z"
   },
   {
    "duration": 1984,
    "start_time": "2023-06-08T06:24:40.167Z"
   },
   {
    "duration": 6,
    "start_time": "2023-06-08T06:25:48.973Z"
   },
   {
    "duration": 29,
    "start_time": "2023-06-08T06:25:51.381Z"
   },
   {
    "duration": 6,
    "start_time": "2023-06-08T06:25:51.976Z"
   },
   {
    "duration": 5,
    "start_time": "2023-06-08T06:25:59.796Z"
   },
   {
    "duration": 8,
    "start_time": "2023-06-08T06:27:23.366Z"
   },
   {
    "duration": 10,
    "start_time": "2023-06-08T06:27:55.829Z"
   },
   {
    "duration": 15,
    "start_time": "2023-06-08T06:29:21.097Z"
   },
   {
    "duration": 17,
    "start_time": "2023-06-08T06:29:28.392Z"
   },
   {
    "duration": 23,
    "start_time": "2023-06-08T06:30:31.866Z"
   },
   {
    "duration": 15,
    "start_time": "2023-06-08T06:30:44.311Z"
   },
   {
    "duration": 12,
    "start_time": "2023-06-08T06:33:50.186Z"
   },
   {
    "duration": 26,
    "start_time": "2023-06-08T06:34:08.866Z"
   },
   {
    "duration": 22,
    "start_time": "2023-06-08T06:36:03.793Z"
   },
   {
    "duration": 15,
    "start_time": "2023-06-08T06:36:12.687Z"
   },
   {
    "duration": 110,
    "start_time": "2023-06-08T06:37:52.213Z"
   },
   {
    "duration": 116,
    "start_time": "2023-06-08T06:38:19.468Z"
   },
   {
    "duration": 27,
    "start_time": "2023-06-08T06:38:25.197Z"
   },
   {
    "duration": 15,
    "start_time": "2023-06-08T06:38:34.625Z"
   },
   {
    "duration": 15,
    "start_time": "2023-06-08T06:38:47.997Z"
   },
   {
    "duration": 37,
    "start_time": "2023-06-08T06:38:54.238Z"
   },
   {
    "duration": 5,
    "start_time": "2023-06-08T06:56:26.217Z"
   },
   {
    "duration": 5,
    "start_time": "2023-06-08T06:58:57.397Z"
   },
   {
    "duration": 5,
    "start_time": "2023-06-08T06:59:16.829Z"
   },
   {
    "duration": 42,
    "start_time": "2023-06-09T11:41:35.102Z"
   },
   {
    "duration": 687,
    "start_time": "2023-06-09T11:41:43.529Z"
   },
   {
    "duration": 103,
    "start_time": "2023-06-09T11:41:46.259Z"
   },
   {
    "duration": 58,
    "start_time": "2023-06-09T12:02:12.196Z"
   },
   {
    "duration": 10,
    "start_time": "2023-06-09T12:02:15.480Z"
   },
   {
    "duration": 10,
    "start_time": "2023-06-09T12:02:23.018Z"
   },
   {
    "duration": 80,
    "start_time": "2023-06-09T12:03:42.977Z"
   },
   {
    "duration": 6,
    "start_time": "2023-06-09T12:05:30.010Z"
   },
   {
    "duration": 10,
    "start_time": "2023-06-09T12:06:08.401Z"
   },
   {
    "duration": 902,
    "start_time": "2023-06-14T05:48:12.999Z"
   },
   {
    "duration": 102,
    "start_time": "2023-06-14T05:48:13.904Z"
   },
   {
    "duration": 19,
    "start_time": "2023-06-14T05:48:14.009Z"
   },
   {
    "duration": 23,
    "start_time": "2023-06-14T05:48:14.030Z"
   },
   {
    "duration": 13,
    "start_time": "2023-06-14T05:48:14.056Z"
   },
   {
    "duration": 134,
    "start_time": "2023-06-14T05:48:14.071Z"
   },
   {
    "duration": 17,
    "start_time": "2023-06-14T05:48:14.208Z"
   },
   {
    "duration": 140,
    "start_time": "2023-06-14T05:48:14.227Z"
   },
   {
    "duration": 16,
    "start_time": "2023-06-14T05:48:14.369Z"
   },
   {
    "duration": 11,
    "start_time": "2023-06-14T05:48:14.392Z"
   },
   {
    "duration": 104,
    "start_time": "2023-06-14T05:48:16.443Z"
   },
   {
    "duration": 182,
    "start_time": "2023-06-14T05:49:59.000Z"
   },
   {
    "duration": 151,
    "start_time": "2023-06-14T05:52:06.861Z"
   },
   {
    "duration": 314,
    "start_time": "2023-06-14T05:53:57.113Z"
   },
   {
    "duration": 3,
    "start_time": "2023-06-14T06:00:30.994Z"
   },
   {
    "duration": 68,
    "start_time": "2023-06-14T06:00:30.999Z"
   },
   {
    "duration": 8,
    "start_time": "2023-06-14T06:00:31.068Z"
   },
   {
    "duration": 43,
    "start_time": "2023-06-14T06:00:31.078Z"
   },
   {
    "duration": 39,
    "start_time": "2023-06-14T06:00:31.123Z"
   },
   {
    "duration": 38,
    "start_time": "2023-06-14T06:00:31.164Z"
   },
   {
    "duration": 71,
    "start_time": "2023-06-14T06:00:31.204Z"
   },
   {
    "duration": 11,
    "start_time": "2023-06-14T06:00:31.276Z"
   },
   {
    "duration": 59,
    "start_time": "2023-06-14T06:00:31.288Z"
   },
   {
    "duration": 14,
    "start_time": "2023-06-14T06:00:31.349Z"
   },
   {
    "duration": 26,
    "start_time": "2023-06-14T06:00:31.365Z"
   },
   {
    "duration": 181,
    "start_time": "2023-06-14T06:00:31.392Z"
   },
   {
    "duration": 134,
    "start_time": "2023-06-14T06:00:31.575Z"
   },
   {
    "duration": 201,
    "start_time": "2023-06-14T06:00:31.712Z"
   },
   {
    "duration": 211,
    "start_time": "2023-06-14T06:00:46.621Z"
   },
   {
    "duration": 3,
    "start_time": "2023-06-14T06:01:33.364Z"
   },
   {
    "duration": 28,
    "start_time": "2023-06-14T06:01:33.370Z"
   },
   {
    "duration": 7,
    "start_time": "2023-06-14T06:01:33.400Z"
   },
   {
    "duration": 13,
    "start_time": "2023-06-14T06:01:33.409Z"
   },
   {
    "duration": 11,
    "start_time": "2023-06-14T06:01:33.424Z"
   },
   {
    "duration": 10,
    "start_time": "2023-06-14T06:01:33.437Z"
   },
   {
    "duration": 51,
    "start_time": "2023-06-14T06:01:33.448Z"
   },
   {
    "duration": 11,
    "start_time": "2023-06-14T06:01:33.501Z"
   },
   {
    "duration": 22,
    "start_time": "2023-06-14T06:01:33.513Z"
   },
   {
    "duration": 4,
    "start_time": "2023-06-14T06:01:33.536Z"
   },
   {
    "duration": 8,
    "start_time": "2023-06-14T06:01:33.541Z"
   },
   {
    "duration": 162,
    "start_time": "2023-06-14T06:01:33.550Z"
   },
   {
    "duration": 127,
    "start_time": "2023-06-14T06:01:33.715Z"
   },
   {
    "duration": 233,
    "start_time": "2023-06-14T06:01:33.844Z"
   },
   {
    "duration": 170,
    "start_time": "2023-06-14T06:01:35.866Z"
   },
   {
    "duration": 255,
    "start_time": "2023-06-14T06:05:24.392Z"
   },
   {
    "duration": 3,
    "start_time": "2023-06-14T06:05:54.632Z"
   },
   {
    "duration": 284,
    "start_time": "2023-06-14T06:05:59.912Z"
   },
   {
    "duration": 61,
    "start_time": "2023-06-14T06:06:35.351Z"
   },
   {
    "duration": 179,
    "start_time": "2023-06-14T06:06:45.765Z"
   },
   {
    "duration": 67,
    "start_time": "2023-06-14T06:07:50.314Z"
   },
   {
    "duration": 210,
    "start_time": "2023-06-14T06:08:03.265Z"
   },
   {
    "duration": 75,
    "start_time": "2023-06-14T06:08:11.659Z"
   },
   {
    "duration": 188,
    "start_time": "2023-06-14T06:08:18.139Z"
   },
   {
    "duration": 197,
    "start_time": "2023-06-14T06:08:23.202Z"
   },
   {
    "duration": 294,
    "start_time": "2023-06-14T06:20:09.720Z"
   },
   {
    "duration": 304,
    "start_time": "2023-06-14T06:21:45.195Z"
   },
   {
    "duration": 987,
    "start_time": "2023-06-14T06:36:07.648Z"
   },
   {
    "duration": 308,
    "start_time": "2023-06-14T06:38:43.775Z"
   },
   {
    "duration": 211,
    "start_time": "2023-06-14T06:38:49.580Z"
   },
   {
    "duration": 326,
    "start_time": "2023-06-14T06:45:02.249Z"
   },
   {
    "duration": 15,
    "start_time": "2023-06-14T06:45:27.507Z"
   },
   {
    "duration": 279,
    "start_time": "2023-06-14T06:45:35.090Z"
   },
   {
    "duration": 282,
    "start_time": "2023-06-14T06:46:19.244Z"
   },
   {
    "duration": 50,
    "start_time": "2023-06-14T08:53:25.732Z"
   },
   {
    "duration": 873,
    "start_time": "2023-06-14T08:53:34.761Z"
   },
   {
    "duration": 71,
    "start_time": "2023-06-14T08:53:35.636Z"
   },
   {
    "duration": 13,
    "start_time": "2023-06-14T08:53:35.709Z"
   },
   {
    "duration": 16,
    "start_time": "2023-06-14T08:53:35.724Z"
   },
   {
    "duration": 11,
    "start_time": "2023-06-14T08:53:35.744Z"
   },
   {
    "duration": 17,
    "start_time": "2023-06-14T08:53:35.757Z"
   },
   {
    "duration": 123,
    "start_time": "2023-06-14T08:53:35.775Z"
   },
   {
    "duration": 14,
    "start_time": "2023-06-14T08:53:35.899Z"
   },
   {
    "duration": 95,
    "start_time": "2023-06-14T08:53:35.914Z"
   },
   {
    "duration": 5,
    "start_time": "2023-06-14T08:53:36.010Z"
   },
   {
    "duration": 9,
    "start_time": "2023-06-14T08:53:36.016Z"
   },
   {
    "duration": 181,
    "start_time": "2023-06-14T08:53:36.026Z"
   },
   {
    "duration": 149,
    "start_time": "2023-06-14T08:53:36.209Z"
   },
   {
    "duration": 317,
    "start_time": "2023-06-14T08:53:36.362Z"
   },
   {
    "duration": 224,
    "start_time": "2023-06-14T08:53:36.681Z"
   },
   {
    "duration": 394,
    "start_time": "2023-06-14T08:53:36.906Z"
   },
   {
    "duration": 290,
    "start_time": "2023-06-14T08:53:37.302Z"
   },
   {
    "duration": 281,
    "start_time": "2023-06-14T08:53:37.593Z"
   },
   {
    "duration": 145,
    "start_time": "2023-06-14T08:53:40.636Z"
   },
   {
    "duration": 155,
    "start_time": "2023-06-14T08:54:00.746Z"
   },
   {
    "duration": 152,
    "start_time": "2023-06-14T08:56:25.133Z"
   },
   {
    "duration": 72,
    "start_time": "2023-06-14T12:11:47.209Z"
   },
   {
    "duration": 786,
    "start_time": "2023-06-14T12:11:49.895Z"
   },
   {
    "duration": 92,
    "start_time": "2023-06-14T12:11:50.684Z"
   },
   {
    "duration": 14,
    "start_time": "2023-06-14T12:11:50.778Z"
   },
   {
    "duration": 15,
    "start_time": "2023-06-14T12:11:50.794Z"
   },
   {
    "duration": 12,
    "start_time": "2023-06-14T12:11:50.810Z"
   },
   {
    "duration": 13,
    "start_time": "2023-06-14T12:11:50.824Z"
   },
   {
    "duration": 105,
    "start_time": "2023-06-14T12:11:50.838Z"
   },
   {
    "duration": 11,
    "start_time": "2023-06-14T12:11:50.944Z"
   },
   {
    "duration": 94,
    "start_time": "2023-06-14T12:11:50.957Z"
   },
   {
    "duration": 4,
    "start_time": "2023-06-14T12:11:51.054Z"
   },
   {
    "duration": 17,
    "start_time": "2023-06-14T12:11:51.059Z"
   },
   {
    "duration": 172,
    "start_time": "2023-06-14T12:11:52.189Z"
   },
   {
    "duration": 4,
    "start_time": "2023-06-14T12:29:31.184Z"
   },
   {
    "duration": 65,
    "start_time": "2023-06-14T12:29:31.190Z"
   },
   {
    "duration": 9,
    "start_time": "2023-06-14T12:29:31.257Z"
   },
   {
    "duration": 32,
    "start_time": "2023-06-14T12:29:31.268Z"
   },
   {
    "duration": 37,
    "start_time": "2023-06-14T12:29:31.303Z"
   },
   {
    "duration": 24,
    "start_time": "2023-06-14T12:29:31.343Z"
   },
   {
    "duration": 62,
    "start_time": "2023-06-14T12:29:31.370Z"
   },
   {
    "duration": 11,
    "start_time": "2023-06-14T12:29:31.433Z"
   },
   {
    "duration": 35,
    "start_time": "2023-06-14T12:29:31.445Z"
   },
   {
    "duration": 5,
    "start_time": "2023-06-14T12:29:31.482Z"
   },
   {
    "duration": 20,
    "start_time": "2023-06-14T12:29:31.488Z"
   },
   {
    "duration": 166,
    "start_time": "2023-06-14T12:29:31.510Z"
   },
   {
    "duration": 122,
    "start_time": "2023-06-14T12:29:31.678Z"
   },
   {
    "duration": 281,
    "start_time": "2023-06-14T12:29:31.802Z"
   },
   {
    "duration": 217,
    "start_time": "2023-06-14T12:29:32.084Z"
   },
   {
    "duration": 398,
    "start_time": "2023-06-14T12:29:32.303Z"
   },
   {
    "duration": 217,
    "start_time": "2023-06-14T12:29:32.702Z"
   },
   {
    "duration": 292,
    "start_time": "2023-06-14T12:29:32.921Z"
   },
   {
    "duration": 40,
    "start_time": "2023-06-14T12:29:37.041Z"
   },
   {
    "duration": 132,
    "start_time": "2023-06-14T12:29:48.994Z"
   },
   {
    "duration": 159,
    "start_time": "2023-06-14T12:30:17.537Z"
   },
   {
    "duration": 4,
    "start_time": "2023-06-14T12:33:21.429Z"
   },
   {
    "duration": 4,
    "start_time": "2023-06-14T12:33:29.447Z"
   },
   {
    "duration": 4,
    "start_time": "2023-06-14T12:40:09.294Z"
   },
   {
    "duration": 59,
    "start_time": "2023-06-14T13:02:48.134Z"
   },
   {
    "duration": 148,
    "start_time": "2023-06-14T13:06:55.759Z"
   },
   {
    "duration": 164,
    "start_time": "2023-06-14T13:08:28.799Z"
   },
   {
    "duration": 160,
    "start_time": "2023-06-14T13:08:52.459Z"
   },
   {
    "duration": 167,
    "start_time": "2023-06-14T13:09:03.054Z"
   },
   {
    "duration": 239,
    "start_time": "2023-06-14T13:09:48.649Z"
   },
   {
    "duration": 274,
    "start_time": "2023-06-14T13:13:38.487Z"
   },
   {
    "duration": 349,
    "start_time": "2023-06-14T13:23:56.032Z"
   },
   {
    "duration": 486,
    "start_time": "2023-06-14T13:25:59.043Z"
   },
   {
    "duration": 343,
    "start_time": "2023-06-14T13:26:04.611Z"
   },
   {
    "duration": 343,
    "start_time": "2023-06-14T13:26:33.098Z"
   },
   {
    "duration": 374,
    "start_time": "2023-06-14T13:36:00.211Z"
   },
   {
    "duration": 10,
    "start_time": "2023-06-14T13:45:13.735Z"
   },
   {
    "duration": 50,
    "start_time": "2023-06-15T06:39:16.100Z"
   },
   {
    "duration": 1468,
    "start_time": "2023-06-15T06:39:20.644Z"
   },
   {
    "duration": 96,
    "start_time": "2023-06-15T06:39:22.114Z"
   },
   {
    "duration": 13,
    "start_time": "2023-06-15T06:39:22.211Z"
   },
   {
    "duration": 18,
    "start_time": "2023-06-15T06:39:22.226Z"
   },
   {
    "duration": 10,
    "start_time": "2023-06-15T06:39:22.246Z"
   },
   {
    "duration": 35,
    "start_time": "2023-06-15T06:39:22.258Z"
   },
   {
    "duration": 109,
    "start_time": "2023-06-15T06:39:22.294Z"
   },
   {
    "duration": 17,
    "start_time": "2023-06-15T06:39:22.405Z"
   },
   {
    "duration": 92,
    "start_time": "2023-06-15T06:39:22.424Z"
   },
   {
    "duration": 8,
    "start_time": "2023-06-15T06:39:22.519Z"
   },
   {
    "duration": 16,
    "start_time": "2023-06-15T06:39:22.528Z"
   },
   {
    "duration": 205,
    "start_time": "2023-06-15T06:39:22.546Z"
   },
   {
    "duration": 169,
    "start_time": "2023-06-15T06:39:22.753Z"
   },
   {
    "duration": 333,
    "start_time": "2023-06-15T06:39:22.924Z"
   },
   {
    "duration": 239,
    "start_time": "2023-06-15T06:39:23.258Z"
   },
   {
    "duration": 384,
    "start_time": "2023-06-15T06:39:23.499Z"
   },
   {
    "duration": 261,
    "start_time": "2023-06-15T06:39:23.886Z"
   },
   {
    "duration": 343,
    "start_time": "2023-06-15T06:39:24.149Z"
   },
   {
    "duration": 179,
    "start_time": "2023-06-15T06:39:24.494Z"
   },
   {
    "duration": 6,
    "start_time": "2023-06-15T06:39:24.681Z"
   },
   {
    "duration": 167,
    "start_time": "2023-06-15T06:39:24.689Z"
   },
   {
    "duration": 19,
    "start_time": "2023-06-15T06:39:24.858Z"
   },
   {
    "duration": 406,
    "start_time": "2023-06-15T06:39:24.880Z"
   },
   {
    "duration": 15,
    "start_time": "2023-06-15T06:39:25.288Z"
   },
   {
    "duration": 30,
    "start_time": "2023-06-15T06:39:25.311Z"
   },
   {
    "duration": 58,
    "start_time": "2023-06-15T06:54:11.704Z"
   },
   {
    "duration": 57,
    "start_time": "2023-06-15T06:54:21.139Z"
   },
   {
    "duration": 17,
    "start_time": "2023-06-15T06:59:53.192Z"
   },
   {
    "duration": 1121,
    "start_time": "2023-06-16T06:34:18.966Z"
   },
   {
    "duration": 27,
    "start_time": "2023-06-16T06:34:20.089Z"
   },
   {
    "duration": 13,
    "start_time": "2023-06-16T06:34:20.117Z"
   },
   {
    "duration": 14,
    "start_time": "2023-06-16T06:34:20.132Z"
   },
   {
    "duration": 10,
    "start_time": "2023-06-16T06:34:20.148Z"
   },
   {
    "duration": 9,
    "start_time": "2023-06-16T06:34:20.160Z"
   },
   {
    "duration": 54,
    "start_time": "2023-06-16T06:34:20.170Z"
   },
   {
    "duration": 11,
    "start_time": "2023-06-16T06:34:20.226Z"
   },
   {
    "duration": 26,
    "start_time": "2023-06-16T06:34:20.239Z"
   },
   {
    "duration": 4,
    "start_time": "2023-06-16T06:34:20.266Z"
   },
   {
    "duration": 7,
    "start_time": "2023-06-16T06:34:20.272Z"
   },
   {
    "duration": 166,
    "start_time": "2023-06-16T06:34:20.281Z"
   },
   {
    "duration": 124,
    "start_time": "2023-06-16T06:34:20.449Z"
   },
   {
    "duration": 280,
    "start_time": "2023-06-16T06:34:20.576Z"
   },
   {
    "duration": 194,
    "start_time": "2023-06-16T06:34:20.858Z"
   },
   {
    "duration": 333,
    "start_time": "2023-06-16T06:34:21.053Z"
   },
   {
    "duration": 254,
    "start_time": "2023-06-16T06:34:21.388Z"
   },
   {
    "duration": 331,
    "start_time": "2023-06-16T06:34:21.644Z"
   },
   {
    "duration": 139,
    "start_time": "2023-06-16T06:34:21.977Z"
   },
   {
    "duration": 5,
    "start_time": "2023-06-16T06:34:22.117Z"
   },
   {
    "duration": 156,
    "start_time": "2023-06-16T06:34:22.123Z"
   },
   {
    "duration": 4,
    "start_time": "2023-06-16T06:34:22.281Z"
   },
   {
    "duration": 351,
    "start_time": "2023-06-16T06:34:22.287Z"
   },
   {
    "duration": 9,
    "start_time": "2023-06-16T06:34:22.640Z"
   },
   {
    "duration": 22,
    "start_time": "2023-06-16T06:34:22.651Z"
   },
   {
    "duration": 25,
    "start_time": "2023-06-16T06:34:22.675Z"
   },
   {
    "duration": 12,
    "start_time": "2023-06-16T06:34:22.702Z"
   },
   {
    "duration": 44,
    "start_time": "2023-06-18T07:32:56.920Z"
   },
   {
    "duration": 1248,
    "start_time": "2023-06-18T07:33:00.905Z"
   },
   {
    "duration": 60,
    "start_time": "2023-06-18T07:33:02.155Z"
   },
   {
    "duration": 12,
    "start_time": "2023-06-18T07:33:02.217Z"
   },
   {
    "duration": 49,
    "start_time": "2023-06-18T07:33:02.231Z"
   },
   {
    "duration": 22,
    "start_time": "2023-06-18T07:33:02.282Z"
   },
   {
    "duration": 31,
    "start_time": "2023-06-18T07:33:02.306Z"
   },
   {
    "duration": 100,
    "start_time": "2023-06-18T07:33:02.339Z"
   },
   {
    "duration": 11,
    "start_time": "2023-06-18T07:33:02.440Z"
   },
   {
    "duration": 101,
    "start_time": "2023-06-18T07:33:02.452Z"
   },
   {
    "duration": 7,
    "start_time": "2023-06-18T07:33:05.129Z"
   },
   {
    "duration": 7,
    "start_time": "2023-06-18T07:34:09.756Z"
   },
   {
    "duration": 9,
    "start_time": "2023-06-18T07:34:22.928Z"
   },
   {
    "duration": 8,
    "start_time": "2023-06-18T07:34:31.974Z"
   },
   {
    "duration": 10,
    "start_time": "2023-06-18T07:34:47.325Z"
   },
   {
    "duration": 4,
    "start_time": "2023-06-18T07:36:01.100Z"
   },
   {
    "duration": 1503,
    "start_time": "2023-06-19T12:13:51.277Z"
   },
   {
    "duration": 71,
    "start_time": "2023-06-19T12:13:52.784Z"
   },
   {
    "duration": 18,
    "start_time": "2023-06-19T12:13:52.857Z"
   },
   {
    "duration": 23,
    "start_time": "2023-06-19T12:13:52.877Z"
   },
   {
    "duration": 14,
    "start_time": "2023-06-19T12:13:52.903Z"
   },
   {
    "duration": 11,
    "start_time": "2023-06-19T12:13:52.919Z"
   },
   {
    "duration": 132,
    "start_time": "2023-06-19T12:13:52.958Z"
   },
   {
    "duration": 13,
    "start_time": "2023-06-19T12:13:53.092Z"
   },
   {
    "duration": 67,
    "start_time": "2023-06-19T12:13:53.106Z"
   },
   {
    "duration": 14,
    "start_time": "2023-06-19T12:13:53.175Z"
   },
   {
    "duration": 5,
    "start_time": "2023-06-19T12:13:53.191Z"
   },
   {
    "duration": 7,
    "start_time": "2023-06-19T12:26:21.136Z"
   },
   {
    "duration": 15,
    "start_time": "2023-06-19T12:27:48.146Z"
   },
   {
    "duration": 170,
    "start_time": "2023-06-19T12:31:33.541Z"
   },
   {
    "duration": 74,
    "start_time": "2023-06-19T12:31:59.478Z"
   },
   {
    "duration": 202,
    "start_time": "2023-06-19T12:32:04.112Z"
   },
   {
    "duration": 172,
    "start_time": "2023-06-19T12:32:17.898Z"
   },
   {
    "duration": 195,
    "start_time": "2023-06-19T12:33:06.287Z"
   },
   {
    "duration": 176,
    "start_time": "2023-06-19T12:33:38.342Z"
   },
   {
    "duration": 241,
    "start_time": "2023-06-19T12:34:38.193Z"
   },
   {
    "duration": 250,
    "start_time": "2023-06-19T12:34:55.137Z"
   },
   {
    "duration": 5,
    "start_time": "2023-06-19T12:34:58.026Z"
   },
   {
    "duration": 63,
    "start_time": "2023-06-19T12:34:58.034Z"
   },
   {
    "duration": 9,
    "start_time": "2023-06-19T12:34:58.100Z"
   },
   {
    "duration": 23,
    "start_time": "2023-06-19T12:34:58.114Z"
   },
   {
    "duration": 32,
    "start_time": "2023-06-19T12:34:58.140Z"
   },
   {
    "duration": 12,
    "start_time": "2023-06-19T12:34:58.180Z"
   },
   {
    "duration": 59,
    "start_time": "2023-06-19T12:34:58.195Z"
   },
   {
    "duration": 20,
    "start_time": "2023-06-19T12:34:58.256Z"
   },
   {
    "duration": 32,
    "start_time": "2023-06-19T12:34:58.280Z"
   },
   {
    "duration": 14,
    "start_time": "2023-06-19T12:34:58.314Z"
   },
   {
    "duration": 5,
    "start_time": "2023-06-19T12:34:58.330Z"
   },
   {
    "duration": 235,
    "start_time": "2023-06-19T12:35:00.482Z"
   },
   {
    "duration": 60,
    "start_time": "2023-06-19T12:35:43.788Z"
   },
   {
    "duration": 76,
    "start_time": "2023-06-19T12:36:56.242Z"
   },
   {
    "duration": 250,
    "start_time": "2023-06-19T12:37:02.439Z"
   },
   {
    "duration": 146,
    "start_time": "2023-06-19T12:40:29.405Z"
   },
   {
    "duration": 100,
    "start_time": "2023-06-19T12:45:11.490Z"
   },
   {
    "duration": 5,
    "start_time": "2023-06-19T12:45:19.087Z"
   },
   {
    "duration": 146,
    "start_time": "2023-06-19T12:45:29.978Z"
   },
   {
    "duration": 44150,
    "start_time": "2023-06-19T12:46:51.286Z"
   },
   {
    "duration": 4,
    "start_time": "2023-06-19T12:47:35.439Z"
   },
   {
    "duration": 177,
    "start_time": "2023-06-19T12:47:35.444Z"
   },
   {
    "duration": 2923,
    "start_time": "2023-06-19T12:48:29.934Z"
   },
   {
    "duration": 1381,
    "start_time": "2023-06-19T12:48:32.859Z"
   },
   {
    "duration": 30,
    "start_time": "2023-06-19T12:48:34.242Z"
   },
   {
    "duration": 17,
    "start_time": "2023-06-19T12:48:34.276Z"
   },
   {
    "duration": 46,
    "start_time": "2023-06-19T12:48:34.295Z"
   },
   {
    "duration": 35,
    "start_time": "2023-06-19T12:48:34.343Z"
   },
   {
    "duration": 38,
    "start_time": "2023-06-19T12:48:34.380Z"
   },
   {
    "duration": 78,
    "start_time": "2023-06-19T12:48:34.420Z"
   },
   {
    "duration": 10,
    "start_time": "2023-06-19T12:48:34.500Z"
   },
   {
    "duration": 49,
    "start_time": "2023-06-19T12:48:34.513Z"
   },
   {
    "duration": 10,
    "start_time": "2023-06-19T12:48:34.564Z"
   },
   {
    "duration": 37,
    "start_time": "2023-06-19T12:48:34.576Z"
   },
   {
    "duration": 511,
    "start_time": "2023-06-19T12:49:35.606Z"
   },
   {
    "duration": 372,
    "start_time": "2023-06-19T12:49:49.404Z"
   },
   {
    "duration": 289,
    "start_time": "2023-06-19T12:50:00.984Z"
   },
   {
    "duration": 22,
    "start_time": "2023-06-19T12:51:36.259Z"
   },
   {
    "duration": 5,
    "start_time": "2023-06-19T12:52:11.284Z"
   },
   {
    "duration": 271,
    "start_time": "2023-06-19T12:52:36.212Z"
   },
   {
    "duration": 16,
    "start_time": "2023-06-19T12:53:02.117Z"
   },
   {
    "duration": 21,
    "start_time": "2023-06-19T12:53:20.801Z"
   },
   {
    "duration": 323,
    "start_time": "2023-06-19T12:53:33.058Z"
   },
   {
    "duration": 594,
    "start_time": "2023-06-19T12:53:59.171Z"
   },
   {
    "duration": 641,
    "start_time": "2023-06-19T12:54:15.918Z"
   },
   {
    "duration": 612,
    "start_time": "2023-06-19T12:55:27.334Z"
   },
   {
    "duration": 23,
    "start_time": "2023-06-19T12:55:49.228Z"
   },
   {
    "duration": 26,
    "start_time": "2023-06-19T13:03:00.807Z"
   },
   {
    "duration": 287,
    "start_time": "2023-06-19T13:03:27.345Z"
   },
   {
    "duration": 31,
    "start_time": "2023-06-19T13:07:04.369Z"
   },
   {
    "duration": 34,
    "start_time": "2023-06-19T13:07:39.662Z"
   },
   {
    "duration": 22,
    "start_time": "2023-06-19T13:08:38.193Z"
   },
   {
    "duration": 604,
    "start_time": "2023-06-19T13:11:16.234Z"
   },
   {
    "duration": 619,
    "start_time": "2023-06-19T13:12:19.494Z"
   },
   {
    "duration": 66,
    "start_time": "2023-06-19T13:22:44.488Z"
   },
   {
    "duration": 75,
    "start_time": "2023-06-19T13:22:57.425Z"
   },
   {
    "duration": 62,
    "start_time": "2023-06-19T13:23:46.436Z"
   },
   {
    "duration": 11,
    "start_time": "2023-06-19T13:23:51.896Z"
   },
   {
    "duration": 11,
    "start_time": "2023-06-19T13:24:02.597Z"
   },
   {
    "duration": 14,
    "start_time": "2023-06-19T13:24:31.348Z"
   },
   {
    "duration": 8,
    "start_time": "2023-06-19T13:26:18.422Z"
   },
   {
    "duration": 16,
    "start_time": "2023-06-19T13:27:18.794Z"
   },
   {
    "duration": 16,
    "start_time": "2023-06-19T13:27:55.838Z"
   },
   {
    "duration": 16,
    "start_time": "2023-06-19T13:28:10.302Z"
   },
   {
    "duration": 10,
    "start_time": "2023-06-19T13:28:22.233Z"
   },
   {
    "duration": 6,
    "start_time": "2023-06-19T13:32:19.732Z"
   },
   {
    "duration": 8,
    "start_time": "2023-06-19T13:32:32.220Z"
   },
   {
    "duration": 9,
    "start_time": "2023-06-19T13:32:52.336Z"
   },
   {
    "duration": 10,
    "start_time": "2023-06-19T13:33:03.069Z"
   },
   {
    "duration": 2726,
    "start_time": "2023-06-19T13:41:33.582Z"
   },
   {
    "duration": 5,
    "start_time": "2023-06-19T13:41:36.311Z"
   },
   {
    "duration": 34,
    "start_time": "2023-06-19T13:41:36.318Z"
   },
   {
    "duration": 11,
    "start_time": "2023-06-19T13:41:36.355Z"
   },
   {
    "duration": 54,
    "start_time": "2023-06-19T13:41:36.368Z"
   },
   {
    "duration": 30,
    "start_time": "2023-06-19T13:41:36.424Z"
   },
   {
    "duration": 12,
    "start_time": "2023-06-19T13:41:36.456Z"
   },
   {
    "duration": 86,
    "start_time": "2023-06-19T13:41:36.470Z"
   },
   {
    "duration": 12,
    "start_time": "2023-06-19T13:41:36.558Z"
   },
   {
    "duration": 51,
    "start_time": "2023-06-19T13:41:36.573Z"
   },
   {
    "duration": 5,
    "start_time": "2023-06-19T13:41:36.626Z"
   },
   {
    "duration": 19,
    "start_time": "2023-06-19T13:41:36.633Z"
   },
   {
    "duration": 17,
    "start_time": "2023-06-19T13:41:36.654Z"
   },
   {
    "duration": 699,
    "start_time": "2023-06-19T13:41:36.672Z"
   },
   {
    "duration": 8,
    "start_time": "2023-06-19T13:41:37.373Z"
   },
   {
    "duration": 18,
    "start_time": "2023-06-19T13:41:37.383Z"
   },
   {
    "duration": 7,
    "start_time": "2023-06-19T13:41:37.403Z"
   },
   {
    "duration": 201,
    "start_time": "2023-06-19T13:41:37.412Z"
   },
   {
    "duration": 146,
    "start_time": "2023-06-19T13:41:37.616Z"
   },
   {
    "duration": 868,
    "start_time": "2023-06-19T13:41:37.764Z"
   },
   {
    "duration": 550,
    "start_time": "2023-06-19T13:43:49.208Z"
   },
   {
    "duration": 585,
    "start_time": "2023-06-19T13:44:32.804Z"
   },
   {
    "duration": 623,
    "start_time": "2023-06-19T13:44:39.339Z"
   },
   {
    "duration": 611,
    "start_time": "2023-06-19T13:44:47.152Z"
   },
   {
    "duration": 554,
    "start_time": "2023-06-19T13:46:44.283Z"
   },
   {
    "duration": 671,
    "start_time": "2023-06-19T13:48:07.648Z"
   },
   {
    "duration": 678,
    "start_time": "2023-06-19T13:49:56.235Z"
   },
   {
    "duration": 654,
    "start_time": "2023-06-19T13:51:06.490Z"
   },
   {
    "duration": 686,
    "start_time": "2023-06-19T13:51:13.838Z"
   },
   {
    "duration": 452,
    "start_time": "2023-06-19T13:54:26.038Z"
   },
   {
    "duration": 2756,
    "start_time": "2023-06-19T14:07:20.061Z"
   },
   {
    "duration": 1400,
    "start_time": "2023-06-19T14:07:22.820Z"
   },
   {
    "duration": 28,
    "start_time": "2023-06-19T14:07:24.222Z"
   },
   {
    "duration": 24,
    "start_time": "2023-06-19T14:07:24.252Z"
   },
   {
    "duration": 29,
    "start_time": "2023-06-19T14:07:24.279Z"
   },
   {
    "duration": 18,
    "start_time": "2023-06-19T14:07:24.310Z"
   },
   {
    "duration": 28,
    "start_time": "2023-06-19T14:07:24.330Z"
   },
   {
    "duration": 52,
    "start_time": "2023-06-19T14:07:24.360Z"
   },
   {
    "duration": 19,
    "start_time": "2023-06-19T14:07:24.414Z"
   },
   {
    "duration": 22,
    "start_time": "2023-06-19T14:07:24.435Z"
   },
   {
    "duration": 5,
    "start_time": "2023-06-19T14:07:24.458Z"
   },
   {
    "duration": 26,
    "start_time": "2023-06-19T14:07:24.465Z"
   },
   {
    "duration": 9,
    "start_time": "2023-06-19T14:07:24.493Z"
   },
   {
    "duration": 660,
    "start_time": "2023-06-19T14:07:24.506Z"
   },
   {
    "duration": 10,
    "start_time": "2023-06-19T14:07:25.168Z"
   },
   {
    "duration": 23,
    "start_time": "2023-06-19T14:07:25.180Z"
   },
   {
    "duration": 18,
    "start_time": "2023-06-19T14:07:25.205Z"
   },
   {
    "duration": 177,
    "start_time": "2023-06-19T14:07:25.226Z"
   },
   {
    "duration": 124,
    "start_time": "2023-06-19T14:07:25.406Z"
   },
   {
    "duration": 728,
    "start_time": "2023-06-19T14:07:25.532Z"
   },
   {
    "duration": 602,
    "start_time": "2023-06-19T14:07:26.262Z"
   },
   {
    "duration": 679,
    "start_time": "2023-06-19T14:07:26.866Z"
   },
   {
    "duration": 650,
    "start_time": "2023-06-19T14:07:27.547Z"
   },
   {
    "duration": 661,
    "start_time": "2023-06-19T14:07:28.199Z"
   },
   {
    "duration": 491,
    "start_time": "2023-06-19T14:07:28.861Z"
   },
   {
    "duration": 5,
    "start_time": "2023-06-19T14:07:29.353Z"
   },
   {
    "duration": 417,
    "start_time": "2023-06-19T14:07:29.360Z"
   },
   {
    "duration": 4,
    "start_time": "2023-06-19T14:07:29.779Z"
   },
   {
    "duration": 429,
    "start_time": "2023-06-19T14:07:29.784Z"
   },
   {
    "duration": 12,
    "start_time": "2023-06-19T14:07:30.214Z"
   },
   {
    "duration": 34,
    "start_time": "2023-06-19T14:07:30.228Z"
   },
   {
    "duration": 31,
    "start_time": "2023-06-19T14:07:30.265Z"
   },
   {
    "duration": 29,
    "start_time": "2023-06-19T14:07:40.101Z"
   },
   {
    "duration": 367,
    "start_time": "2023-06-19T14:08:54.837Z"
   },
   {
    "duration": 388,
    "start_time": "2023-06-19T14:09:00.440Z"
   },
   {
    "duration": 363,
    "start_time": "2023-06-19T14:09:06.493Z"
   },
   {
    "duration": 479,
    "start_time": "2023-06-19T14:10:02.856Z"
   },
   {
    "duration": 359,
    "start_time": "2023-06-19T14:10:23.323Z"
   },
   {
    "duration": 363,
    "start_time": "2023-06-19T14:10:59.485Z"
   },
   {
    "duration": 15,
    "start_time": "2023-06-19T14:12:02.000Z"
   },
   {
    "duration": 2834,
    "start_time": "2023-06-19T14:12:59.440Z"
   },
   {
    "duration": 4,
    "start_time": "2023-06-19T14:13:02.278Z"
   },
   {
    "duration": 37,
    "start_time": "2023-06-19T14:13:02.284Z"
   },
   {
    "duration": 13,
    "start_time": "2023-06-19T14:13:02.323Z"
   },
   {
    "duration": 53,
    "start_time": "2023-06-19T14:13:02.338Z"
   },
   {
    "duration": 45,
    "start_time": "2023-06-19T14:13:02.393Z"
   },
   {
    "duration": 26,
    "start_time": "2023-06-19T14:13:02.440Z"
   },
   {
    "duration": 112,
    "start_time": "2023-06-19T14:13:02.469Z"
   },
   {
    "duration": 12,
    "start_time": "2023-06-19T14:13:02.583Z"
   },
   {
    "duration": 42,
    "start_time": "2023-06-19T14:13:02.597Z"
   },
   {
    "duration": 30,
    "start_time": "2023-06-19T14:13:02.641Z"
   },
   {
    "duration": 34,
    "start_time": "2023-06-19T14:13:02.673Z"
   },
   {
    "duration": 12,
    "start_time": "2023-06-19T14:13:02.709Z"
   },
   {
    "duration": 638,
    "start_time": "2023-06-19T14:13:02.724Z"
   },
   {
    "duration": 10,
    "start_time": "2023-06-19T14:13:03.364Z"
   },
   {
    "duration": 12,
    "start_time": "2023-06-19T14:13:03.376Z"
   },
   {
    "duration": 5,
    "start_time": "2023-06-19T14:13:03.390Z"
   },
   {
    "duration": 198,
    "start_time": "2023-06-19T14:13:03.397Z"
   },
   {
    "duration": 134,
    "start_time": "2023-06-19T14:13:03.597Z"
   },
   {
    "duration": 649,
    "start_time": "2023-06-19T14:13:03.733Z"
   },
   {
    "duration": 620,
    "start_time": "2023-06-19T14:13:04.384Z"
   },
   {
    "duration": 664,
    "start_time": "2023-06-19T14:13:05.006Z"
   },
   {
    "duration": 619,
    "start_time": "2023-06-19T14:13:05.672Z"
   },
   {
    "duration": 633,
    "start_time": "2023-06-19T14:13:06.293Z"
   },
   {
    "duration": 483,
    "start_time": "2023-06-19T14:13:06.928Z"
   },
   {
    "duration": 5,
    "start_time": "2023-06-19T14:13:07.413Z"
   },
   {
    "duration": 435,
    "start_time": "2023-06-19T14:13:07.421Z"
   },
   {
    "duration": 5,
    "start_time": "2023-06-19T14:13:07.858Z"
   },
   {
    "duration": 382,
    "start_time": "2023-06-19T14:13:07.865Z"
   },
   {
    "duration": 12,
    "start_time": "2023-06-19T14:13:08.256Z"
   },
   {
    "duration": 3,
    "start_time": "2023-06-19T14:13:08.269Z"
   },
   {
    "duration": 13,
    "start_time": "2023-06-19T14:13:08.274Z"
   },
   {
    "duration": 38,
    "start_time": "2023-06-19T14:13:08.289Z"
   },
   {
    "duration": 14,
    "start_time": "2023-06-19T14:13:15.890Z"
   },
   {
    "duration": 2781,
    "start_time": "2023-06-19T14:20:13.644Z"
   },
   {
    "duration": 1372,
    "start_time": "2023-06-19T14:20:16.428Z"
   },
   {
    "duration": 33,
    "start_time": "2023-06-19T14:20:17.802Z"
   },
   {
    "duration": 19,
    "start_time": "2023-06-19T14:20:17.837Z"
   },
   {
    "duration": 18,
    "start_time": "2023-06-19T14:20:17.860Z"
   },
   {
    "duration": 51,
    "start_time": "2023-06-19T14:20:17.880Z"
   },
   {
    "duration": 34,
    "start_time": "2023-06-19T14:20:17.933Z"
   },
   {
    "duration": 57,
    "start_time": "2023-06-19T14:20:17.969Z"
   },
   {
    "duration": 14,
    "start_time": "2023-06-19T14:20:18.028Z"
   },
   {
    "duration": 33,
    "start_time": "2023-06-19T14:20:18.044Z"
   },
   {
    "duration": 5,
    "start_time": "2023-06-19T14:20:18.079Z"
   },
   {
    "duration": 35,
    "start_time": "2023-06-19T14:20:18.085Z"
   },
   {
    "duration": 41,
    "start_time": "2023-06-19T14:20:18.122Z"
   },
   {
    "duration": 710,
    "start_time": "2023-06-19T14:20:18.166Z"
   },
   {
    "duration": 13,
    "start_time": "2023-06-19T14:20:18.880Z"
   },
   {
    "duration": 13,
    "start_time": "2023-06-19T14:20:18.896Z"
   },
   {
    "duration": 12,
    "start_time": "2023-06-19T14:20:18.911Z"
   },
   {
    "duration": 240,
    "start_time": "2023-06-19T14:20:18.925Z"
   },
   {
    "duration": 155,
    "start_time": "2023-06-19T14:20:19.167Z"
   },
   {
    "duration": 741,
    "start_time": "2023-06-19T14:20:19.325Z"
   },
   {
    "duration": 587,
    "start_time": "2023-06-19T14:20:20.069Z"
   },
   {
    "duration": 750,
    "start_time": "2023-06-19T14:20:20.659Z"
   },
   {
    "duration": 706,
    "start_time": "2023-06-19T14:20:21.411Z"
   },
   {
    "duration": 739,
    "start_time": "2023-06-19T14:20:22.120Z"
   },
   {
    "duration": 457,
    "start_time": "2023-06-19T14:20:22.860Z"
   },
   {
    "duration": 5,
    "start_time": "2023-06-19T14:20:23.319Z"
   },
   {
    "duration": 446,
    "start_time": "2023-06-19T14:20:23.326Z"
   },
   {
    "duration": 5,
    "start_time": "2023-06-19T14:20:23.774Z"
   },
   {
    "duration": 418,
    "start_time": "2023-06-19T14:20:23.781Z"
   },
   {
    "duration": 13,
    "start_time": "2023-06-19T14:20:24.201Z"
   },
   {
    "duration": 11,
    "start_time": "2023-06-19T14:20:24.216Z"
   },
   {
    "duration": 41,
    "start_time": "2023-06-19T14:20:24.229Z"
   },
   {
    "duration": 58,
    "start_time": "2023-06-19T14:20:24.272Z"
   },
   {
    "duration": 19,
    "start_time": "2023-06-19T14:20:24.332Z"
   },
   {
    "duration": 10157,
    "start_time": "2023-11-02T11:20:52.370Z"
   },
   {
    "duration": 1293,
    "start_time": "2023-11-02T11:21:02.530Z"
   },
   {
    "duration": 63,
    "start_time": "2023-11-02T11:21:03.824Z"
   },
   {
    "duration": 14,
    "start_time": "2023-11-02T11:21:03.890Z"
   },
   {
    "duration": 40,
    "start_time": "2023-11-02T11:21:03.905Z"
   },
   {
    "duration": 9,
    "start_time": "2023-11-02T11:21:03.947Z"
   },
   {
    "duration": 50,
    "start_time": "2023-11-02T11:21:03.957Z"
   },
   {
    "duration": 186,
    "start_time": "2023-11-02T11:21:04.008Z"
   },
   {
    "duration": 11,
    "start_time": "2023-11-02T11:21:04.196Z"
   },
   {
    "duration": 76,
    "start_time": "2023-11-02T11:21:04.209Z"
   },
   {
    "duration": 3,
    "start_time": "2023-11-02T11:21:04.287Z"
   },
   {
    "duration": 11,
    "start_time": "2023-11-02T11:21:04.292Z"
   },
   {
    "duration": 3,
    "start_time": "2023-11-02T11:21:04.305Z"
   },
   {
    "duration": 571,
    "start_time": "2023-11-02T11:21:04.310Z"
   },
   {
    "duration": 10,
    "start_time": "2023-11-02T11:21:04.883Z"
   },
   {
    "duration": 10,
    "start_time": "2023-11-02T11:21:04.906Z"
   },
   {
    "duration": 6,
    "start_time": "2023-11-02T11:21:04.918Z"
   },
   {
    "duration": 187,
    "start_time": "2023-11-02T11:21:04.926Z"
   },
   {
    "duration": 10,
    "start_time": "2023-11-02T11:21:48.638Z"
   },
   {
    "duration": 11,
    "start_time": "2023-11-02T11:24:31.902Z"
   }
  ],
  "kernelspec": {
   "display_name": "Python 3 (ipykernel)",
   "language": "python",
   "name": "python3"
  },
  "language_info": {
   "codemirror_mode": {
    "name": "ipython",
    "version": 3
   },
   "file_extension": ".py",
   "mimetype": "text/x-python",
   "name": "python",
   "nbconvert_exporter": "python",
   "pygments_lexer": "ipython3",
   "version": "3.9.12"
  },
  "toc": {
   "base_numbering": 1,
   "nav_menu": {},
   "number_sections": true,
   "sideBar": true,
   "skip_h1_title": true,
   "title_cell": "Table of Contents",
   "title_sidebar": "Contents",
   "toc_cell": false,
   "toc_position": {},
   "toc_section_display": true,
   "toc_window_display": false
  }
 },
 "nbformat": 4,
 "nbformat_minor": 2
}
